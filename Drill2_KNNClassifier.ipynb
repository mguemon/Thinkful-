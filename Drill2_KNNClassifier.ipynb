{
 "cells": [
  {
   "cell_type": "markdown",
   "metadata": {},
   "source": [
    "# Drills - Similarity Models\n",
    "\n",
    "## Drill: Tuning KNN \n",
    "\n",
    "\n",
    "by: Melissa N "
   ]
  },
  {
   "cell_type": "markdown",
   "metadata": {},
   "source": [
    "Let's say we work at a credit card company and we're trying to figure out if people are going to pay their bills on time. We have everyone's purchases, split into four main categories: groceries, dining out, utilities, and entertainment. What are some ways you might use KNN to create this model? What aspects of KNN would be useful? Write up your thoughts in submit a link below."
   ]
  },
  {
   "cell_type": "markdown",
   "metadata": {},
   "source": [
    "### What are some ways you might use KNN to create this model?\n",
    "\n",
    "X = ['groceries', 'dining out', 'utilities', 'entertainment']   \n",
    "Y = ['Pay_Ontime', 'Pay_Late']\n",
    "  \n",
    "Groceries are important to live thus should have highest weight.   \n",
    "Utilities are important to keep a roof on one's head will have the 2nd highest weight.    \n",
    "Dining out and Entertainment are not necessities and could have the same weight.    \n",
    "\n",
    "\n",
    "### What aspects of KNN would be useful?\n",
    "\n",
    "For KNN, we look for the datapoints that are most similar to the observation we are trying to predict.\n",
    "\n",
    "I beleive if we look at the credit card customers, the ones that use their credit card to pay for the groceries and utilities might be the ones who will usually pay their bill on time because they use it to take care of the necessities in their life.  \n",
    "\n"
   ]
  },
  {
   "cell_type": "code",
   "execution_count": null,
   "metadata": {
    "collapsed": true
   },
   "outputs": [],
   "source": []
  }
 ],
 "metadata": {
  "kernelspec": {
   "display_name": "Python 3",
   "language": "python",
   "name": "python3"
  },
  "language_info": {
   "codemirror_mode": {
    "name": "ipython",
    "version": 3
   },
   "file_extension": ".py",
   "mimetype": "text/x-python",
   "name": "python",
   "nbconvert_exporter": "python",
   "pygments_lexer": "ipython3",
   "version": "3.6.1"
  }
 },
 "nbformat": 4,
 "nbformat_minor": 2
}
