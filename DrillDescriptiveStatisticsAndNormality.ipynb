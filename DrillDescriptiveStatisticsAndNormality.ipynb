{
 "cells": [
  {
   "cell_type": "code",
   "execution_count": 1,
   "metadata": {
    "collapsed": true
   },
   "outputs": [],
   "source": [
    "import matplotlib.pyplot as plt\n",
    "import numpy as np\n",
    "import pandas as pd \n",
    "import statistics\n",
    "%matplotlib inline\n",
    "#plt.rcParams['figure.figsize'] = (10.0, 5.0)"
   ]
  },
  {
   "cell_type": "code",
   "execution_count": 58,
   "metadata": {},
   "outputs": [
    {
     "data": {
      "image/png": "[encoded data removed]",
      "text/plain": [
       "<matplotlib.figure.Figure at 0x118aee940>"
      ]
     },
     "metadata": {},
     "output_type": "display_data"
    }
   ],
   "source": [
    "#1\n",
    "# Generate a beta distribution with a= 50 and b = 70.\n",
    "beta = np.random.beta(50,70, 100)\n",
    "\n",
    "#Plot a histogram.\n",
    "plt.hist(beta, bins= 20, color='c')\n",
    "\n",
    "\n",
    "# Add a vertical line at the mean.\n",
    "plt.axvline(beta.mean(), color='b', linestyle='solid', linewidth=2)\n",
    "\n",
    "# Add a vertical line at one standard deviation above the mean.\n",
    "plt.axvline(beta.mean() + beta.std(), color='b', linestyle='dashed', linewidth=2)\n",
    "\n",
    "# Add a vertical line at one standard deviation below the mean.\n",
    "plt.axvline(beta.mean()-beta.std(), color='b', linestyle='dashed', linewidth=2) \n",
    "\n",
    "\n",
    "# Print the histogram\n",
    "plt.show()"
   ]
  },
  {
   "cell_type": "markdown",
   "metadata": {},
   "source": [
    "For Beta the mean is placed where the data clusters.  \n",
    "Here the descriptive statistics provide an useful information about the variable.\n"
   ]
  },
  {
   "cell_type": "code",
   "execution_count": 59,
   "metadata": {},
   "outputs": [
    {
     "data": {
      "image/png": "[encoded data removed]",
      "text/plain": [
       "<matplotlib.figure.Figure at 0x118243da0>"
      ]
     },
     "metadata": {},
     "output_type": "display_data"
    }
   ],
   "source": [
    "#2\n",
    "# Generate a geometric distribution with p= 0.35.\n",
    "geometric = np.random.geometric(0.35, 100)\n",
    "\n",
    "#Plot a histogram.\n",
    "plt.hist(beta, color='c')\n",
    "\n",
    "\n",
    "# Add a vertical line at the mean.\n",
    "plt.axvline(geometric.mean(), color='b', linestyle='solid', linewidth=2)\n",
    "\n",
    "# Add a vertical line at one standard deviation above the mean.\n",
    "plt.axvline(geometric.mean() + geometric.std(), color='b', linestyle='dashed', linewidth=2)\n",
    "\n",
    "# Add a vertical line at one standard deviation below the mean.\n",
    "plt.axvline(geometric.mean()-geometric.std(), color='b', linestyle='dashed', linewidth=2) \n",
    "\n",
    "\n",
    "# Print the histogram\n",
    "plt.show()"
   ]
  },
  {
   "cell_type": "markdown",
   "metadata": {},
   "source": [
    "For geometric the mean is no where near where the data cluster.  \n",
    "Here the descriptive statistics do not provide an useful information about the variable.  \n",
    "This is Skewed. "
   ]
  },
  {
   "cell_type": "code",
   "execution_count": 60,
   "metadata": {},
   "outputs": [
    {
     "data": {
      "image/png": "[encoded data removed]",
      "text/plain": [
       "<matplotlib.figure.Figure at 0x118ccea58>"
      ]
     },
     "metadata": {},
     "output_type": "display_data"
    }
   ],
   "source": [
    "#3\n",
    "# Generate a poisson distribution with lam = 20.\n",
    "poisson = np.random.poisson(20, 100)\n",
    "\n",
    "#Plot a histogram.\n",
    "plt.hist(poisson, bins = 20, color='c')\n",
    "\n",
    "\n",
    "# Add a vertical line at the mean.\n",
    "plt.axvline(poisson.mean(), color='b', linestyle='solid', linewidth=2)\n",
    "\n",
    "# Add a vertical line at one standard deviation above the mean.\n",
    "plt.axvline(poisson.mean() + poisson.std(), color='b', linestyle='dashed', linewidth=2)\n",
    "\n",
    "# Add a vertical line at one standard deviation below the mean.\n",
    "plt.axvline(poisson.mean()-poisson.std(), color='b', linestyle='dashed', linewidth=2) \n",
    "\n",
    "\n",
    "# Print the histogram\n",
    "plt.show()"
   ]
  },
  {
   "cell_type": "markdown",
   "metadata": {},
   "source": [
    "For Poisson the mean is placed where the data clusters.  \n",
    "Here the descriptive statistics provide an useful information about the variable."
   ]
  },
  {
   "cell_type": "code",
   "execution_count": 61,
   "metadata": {},
   "outputs": [
    {
     "data": {
      "image/png": "[encoded data removed]",
      "text/plain": [
       "<matplotlib.figure.Figure at 0x119a4a6a0>"
      ]
     },
     "metadata": {},
     "output_type": "display_data"
    }
   ],
   "source": [
    "#4\n",
    "# Generate a logseries distribution with n = 0.35.\n",
    "logseries = np.random.logseries(0.35, 100)\n",
    "\n",
    "#Plot a histogram.\n",
    "plt.hist(logseries, color='c')\n",
    "\n",
    "\n",
    "# Add a vertical line at the mean.\n",
    "plt.axvline(logseries.mean(), color='b', linestyle='solid', linewidth=2)\n",
    "\n",
    "# Add a vertical line at one standard deviation above the mean.\n",
    "plt.axvline(logseries.mean() + logseries.std(), color='b', linestyle='dashed', linewidth=2)\n",
    "\n",
    "# Add a vertical line at one standard deviation below the mean.\n",
    "plt.axvline(logseries.mean()-logseries.std(), color='b', linestyle='dashed', linewidth=2) \n",
    "\n",
    "\n",
    "# Print the histogram\n",
    "plt.show()"
   ]
  },
  {
   "cell_type": "markdown",
   "metadata": {},
   "source": [
    "For logseries the mean is nowhere near where the data cluster.  \n",
    "Here the descriptive statistics do not provide an useful information about the variable.  \n",
    "This is Skewed. "
   ]
  },
  {
   "cell_type": "code",
   "execution_count": 62,
   "metadata": {},
   "outputs": [
    {
     "data": {
      "image/png": "[encoded data removed]",
      "text/plain": [
       "<matplotlib.figure.Figure at 0x119495a20>"
      ]
     },
     "metadata": {},
     "output_type": "display_data"
    }
   ],
   "source": [
    "#5\n",
    "# Generate a lognormal distribution with mu, sigma = 3., 1. # mean and standard deviation.\n",
    "mu, sigma = 3., 1. \n",
    "lognormal = np.random.lognormal(mu, sigma, 100)\n",
    "\n",
    "#Plot a histogram.\n",
    "plt.hist(lognormal, color='c')\n",
    "\n",
    "\n",
    "# Add a vertical line at the mean.\n",
    "plt.axvline(lognormal.mean(), color='b', linestyle='solid', linewidth=2)\n",
    "\n",
    "# Add a vertical line at one standard deviation above the mean.\n",
    "plt.axvline(lognormal.mean() + lognormal.std(), color='b', linestyle='dashed', linewidth=2)\n",
    "\n",
    "# Add a vertical line at one standard deviation below the mean.\n",
    "plt.axvline(lognormal.mean()-lognormal.std(), color='b', linestyle='dashed', linewidth=2) \n",
    "\n",
    "\n",
    "# Print the histogram\n",
    "plt.show()"
   ]
  },
  {
   "cell_type": "markdown",
   "metadata": {},
   "source": [
    "For lognormal the mean is placed where the data clusters.  \n",
    "Here the descriptive statistics provide an useful information about the variable. "
   ]
  },
  {
   "cell_type": "code",
   "execution_count": 63,
   "metadata": {},
   "outputs": [
    {
     "data": {
      "image/png": "[encoded data removed]",
      "text/plain": [
       "<matplotlib.figure.Figure at 0x118d14fd0>"
      ]
     },
     "metadata": {},
     "output_type": "display_data"
    }
   ],
   "source": [
    "#6\n",
    "# Generate a laplace distribution with loc, scale = 0., 1.\n",
    "loc, scale = 0., 1.\n",
    "laplace = np.random.laplace(loc, scale, 100)\n",
    "\n",
    "#Plot a histogram.\n",
    "plt.hist(laplace,bins= 20, color='c')\n",
    "\n",
    "\n",
    "# Add a vertical line at the mean.\n",
    "plt.axvline(laplace.mean(), color='b', linestyle='solid', linewidth=2)\n",
    "\n",
    "# Add a vertical line at one standard deviation above the mean.\n",
    "plt.axvline(laplace.mean() + laplace.std(), color='b', linestyle='dashed', linewidth=2)\n",
    "\n",
    "# Add a vertical line at one standard deviation below the mean.\n",
    "plt.axvline(laplace.mean()-laplace.std(), color='b', linestyle='dashed', linewidth=2) \n",
    "\n",
    "\n",
    "# Print the histogram\n",
    "plt.show()"
   ]
  },
  {
   "cell_type": "markdown",
   "metadata": {},
   "source": [
    "For laplace the mean is placed where the data clusters.  \n",
    "Here the descriptive statistics provide an useful information about the variable."
   ]
  },
  {
   "cell_type": "code",
   "execution_count": 64,
   "metadata": {},
   "outputs": [
    {
     "data": {
      "image/png": "[encoded data removed]",
      "text/plain": [
       "<matplotlib.figure.Figure at 0x11991ee80>"
      ]
     },
     "metadata": {},
     "output_type": "display_data"
    }
   ],
   "source": [
    "# Generate two normally-distributed variables.\n",
    "\n",
    "rand1 = np.random.normal(5, 0.5, 100)   # mean = 5 and standard deviation = 0.5.\n",
    "rand2 = np.random.normal(10, 1, 100)   # mean = 10 and standard deviation = 1. \n",
    "\n",
    "#Add them together to create a third variable\n",
    "rand3 = rand1 + rand2\n",
    "\n",
    "\n",
    "#Plot a histogram.\n",
    "plt.hist(rand3,bins= 20, color='c')\n",
    "\n",
    "\n",
    "# Add a vertical line at the mean.\n",
    "plt.axvline(rand3.mean(), color='b', linestyle='solid', linewidth=2)\n",
    "\n",
    "# Add a vertical line at one standard deviation above the mean.\n",
    "plt.axvline(rand3.mean() + rand3.std(), color='b', linestyle='dashed', linewidth=2)\n",
    "\n",
    "# Add a vertical line at one standard deviation below the mean.\n",
    "plt.axvline(rand3.mean()-rand3.std(), color='b', linestyle='dashed', linewidth=2) \n",
    "\n",
    "\n",
    "# Print the histogram\n",
    "plt.show()"
   ]
  },
  {
   "cell_type": "markdown",
   "metadata": {},
   "source": [
    "For rand3 the mean is placed where the data clusters.  \n",
    "Here the descriptive statistics provide an useful information about the variable."
   ]
  },
  {
   "cell_type": "code",
   "execution_count": null,
   "metadata": {
    "collapsed": true
   },
   "outputs": [],
   "source": []
  }
 ],
 "metadata": {
  "kernelspec": {
   "display_name": "Python 3",
   "language": "python",
   "name": "python3"
  },
  "language_info": {
   "codemirror_mode": {
    "name": "ipython",
    "version": 3
   },
   "file_extension": ".py",
   "mimetype": "text/x-python",
   "name": "python",
   "nbconvert_exporter": "python",
   "pygments_lexer": "ipython3",
   "version": "3.6.1"
  }
 },
 "nbformat": 4,
 "nbformat_minor": 2
}
