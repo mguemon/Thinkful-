{
 "cells": [
  {
   "cell_type": "code",
   "execution_count": 34,
   "metadata": {
    "collapsed": true
   },
   "outputs": [],
   "source": [
    "import numpy as np\n",
    "import pandas as pd\n",
    "import scipy\n",
    "import matplotlib.pyplot as plt\n",
    "%matplotlib inline"
   ]
  },
  {
   "cell_type": "code",
   "execution_count": 35,
   "metadata": {},
   "outputs": [
    {
     "data": {
      "image/png": "[encoded data removed]",
      "text/plain": [
       "<matplotlib.figure.Figure at 0x1199b1c50>"
      ]
     },
     "metadata": {},
     "output_type": "display_data"
    }
   ],
   "source": [
    "#Make two population with n= 10 and size = 10000\n",
    "\n",
    "pop1 = np.random.binomial(10, 0.2, 10000)   #p-value = 0.2 \n",
    "pop2 = np.random.binomial(10,0.5, 10000)    #p-value = 0.5\n",
    "\n",
    "# Let’s make histograms for the two groups. \n",
    "\n",
    "plt.hist(pop1, alpha=0.8, label='Population 1') \n",
    "plt.hist(pop2, alpha=0.8, label='Population 2') \n",
    "plt.legend(loc='upper right') \n",
    "plt.show()"
   ]
  },
  {
   "cell_type": "code",
   "execution_count": 36,
   "metadata": {},
   "outputs": [
    {
     "data": {
      "image/png": "[encoded data removed]",
      "text/plain": [
       "<matplotlib.figure.Figure at 0x11e6b0b70>"
      ]
     },
     "metadata": {},
     "output_type": "display_data"
    }
   ],
   "source": [
    "sample1 = np.random.choice(pop1, 100, replace=True)\n",
    "sample2 = np.random.choice(pop2, 100, replace=True)\n",
    "\n",
    "plt.hist(sample1, alpha=0.8, label='sample 1') \n",
    "plt.hist(sample2, alpha=0.8, label='sample 2') \n",
    "plt.legend(loc='upper right') \n",
    "plt.show()"
   ]
  },
  {
   "cell_type": "code",
   "execution_count": 37,
   "metadata": {},
   "outputs": [
    {
     "name": "stdout",
     "output_type": "stream",
     "text": [
      "2.08\n",
      "5.0\n",
      "1.20565334985\n",
      "1.50996688705\n"
     ]
    }
   ],
   "source": [
    "print(sample1.mean())\n",
    "print(sample2.mean())\n",
    "print(sample1.std())\n",
    "print(sample2.std())"
   ]
  },
  {
   "cell_type": "code",
   "execution_count": 38,
   "metadata": {},
   "outputs": [
    {
     "data": {
      "image/png": "[encoded data removed]",
      "text/plain": [
       "<matplotlib.figure.Figure at 0x11952a588>"
      ]
     },
     "metadata": {},
     "output_type": "display_data"
    }
   ],
   "source": [
    "sample1_1 = np.random.choice(pop1, 1000, replace=True)\n",
    "sample2_1 = np.random.choice(pop2, 1000, replace=True)\n",
    "\n",
    "plt.hist(sample1_1, alpha=0.8, label='sample 1_1') \n",
    "plt.hist(sample2_1, alpha=0.8, label='sample 2_1') \n",
    "plt.legend(loc='upper right') \n",
    "plt.show()"
   ]
  },
  {
   "cell_type": "code",
   "execution_count": 39,
   "metadata": {},
   "outputs": [
    {
     "name": "stdout",
     "output_type": "stream",
     "text": [
      "1.996\n",
      "4.993\n",
      "1.20995206517\n",
      "1.58649015125\n"
     ]
    }
   ],
   "source": [
    "print(sample1_1.mean())\n",
    "print(sample2_1.mean())\n",
    "print(sample1_1.std())\n",
    "print(sample2_1.std())"
   ]
  },
  {
   "cell_type": "code",
   "execution_count": 40,
   "metadata": {},
   "outputs": [
    {
     "data": {
      "image/png": "[encoded data removed]",
      "text/plain": [
       "<matplotlib.figure.Figure at 0x119382630>"
      ]
     },
     "metadata": {},
     "output_type": "display_data"
    }
   ],
   "source": [
    "sample1_2 = np.random.choice(pop1, 20, replace=True)\n",
    "sample2_2 = np.random.choice(pop2, 20, replace=True)\n",
    "\n",
    "plt.hist(sample1_2, alpha=0.8, label='sample 1_2') \n",
    "plt.hist(sample2_2, alpha=0.8, label='sample 2_2') \n",
    "plt.legend(loc='upper right') \n",
    "plt.show()"
   ]
  },
  {
   "cell_type": "code",
   "execution_count": 41,
   "metadata": {},
   "outputs": [
    {
     "name": "stdout",
     "output_type": "stream",
     "text": [
      "2.4\n",
      "4.3\n",
      "1.49666295471\n",
      "1.95192212959\n"
     ]
    }
   ],
   "source": [
    "print(sample1_2.mean())\n",
    "print(sample2_2.mean())\n",
    "print(sample1_2.std())\n",
    "print(sample2_2.std())"
   ]
  },
  {
   "cell_type": "markdown",
   "metadata": {},
   "source": [
    "Increase the size of your samples from 100 to 1000, then calculate the means and standard deviations for your new samples and create histograms for each. Repeat this again, decreasing the size of your samples to 20. What values change, and what remain the same?  \n",
    "\n",
    "The only thing that had a significant change is the sample mean for pop1 and pop2. "
   ]
  },
  {
   "cell_type": "code",
   "execution_count": 63,
   "metadata": {},
   "outputs": [
    {
     "name": "stdout",
     "output_type": "stream",
     "text": [
      "2.58\n",
      "13.6224122057\n",
      "Ttest_indResult(statistic=13.554129007746257, pvalue=8.5958376586562842e-30)\n"
     ]
    }
   ],
   "source": [
    "Sample1 = np.random.choice(pop1, 100, replace=True)\n",
    "Sample2 = np.random.choice(pop2, 100, replace=True)\n",
    "\n",
    "# Compute the difference between the two sample means.\n",
    "diff=Sample2.mean( ) -Sample1.mean()\n",
    "print(diff)\n",
    "\n",
    "size = np.array([len(Sample1), len(Sample2)])\n",
    "sd = np.array([Sample1.std(), Sample2.std()])\n",
    "\n",
    "# The squared standard deviations are divided by the sample size and summed, then we take\n",
    "# the square root of the sum. \n",
    "diff_se = (sum(sd ** 2 / size)) ** 0.5  \n",
    "\n",
    "#The difference between the means divided by the standard error: T-value.  \n",
    "print(diff/diff_se)\n",
    "\n",
    "from scipy.stats import ttest_ind\n",
    "print(ttest_ind(Sample2, Sample1, equal_var=False))"
   ]
  },
  {
   "cell_type": "code",
   "execution_count": 64,
   "metadata": {},
   "outputs": [
    {
     "data": {
      "image/png": "[encoded data removed]",
      "text/plain": [
       "<matplotlib.figure.Figure at 0x11e8ef160>"
      ]
     },
     "metadata": {},
     "output_type": "display_data"
    }
   ],
   "source": [
    "#Make two population with n= 10 and size = 10000\n",
    "\n",
    "pop1_1 = np.random.binomial(10, 0.3, 10000)   #p-value = 0.3 \n",
    "pop2_1 = np.random.binomial(10,0.5, 10000)    #p-value = 0.5\n",
    "\n",
    "\n",
    "# Let’s make histograms for the two groups. \n",
    "\n",
    "plt.hist(pop1_1, alpha=0.8, label='Population 1') \n",
    "plt.hist(pop2_1, alpha=0.8, label='Population 2') \n",
    "plt.legend(loc='upper right') \n",
    "plt.show()"
   ]
  },
  {
   "cell_type": "code",
   "execution_count": 65,
   "metadata": {},
   "outputs": [
    {
     "name": "stdout",
     "output_type": "stream",
     "text": [
      "1.79\n",
      "7.95759925088\n",
      "Ttest_indResult(statistic=7.9177112841583286, pvalue=1.7151596667274438e-13)\n"
     ]
    }
   ],
   "source": [
    "Sample1_1 = np.random.choice(pop1_1, 100, replace=True)\n",
    "Sample2_1 = np.random.choice(pop2_1, 100, replace=True)\n",
    "\n",
    "# Compute the difference between the two sample means.\n",
    "diff_1=Sample2_1.mean( ) -Sample1_1.mean()\n",
    "print(diff_1)\n",
    "\n",
    "size_1 = np.array([len(Sample1_1), len(Sample2_1)])\n",
    "sd_1 = np.array([Sample1_1.std(), Sample2_1.std()])\n",
    "\n",
    "# The squared standard deviations are divided by the sample size and summed, then we take\n",
    "# the square root of the sum. \n",
    "diff_se_1 = (sum(sd_1 ** 2 / size_1)) ** 0.5  \n",
    "\n",
    "#The difference between the means divided by the standard error: T-value.  \n",
    "print(diff_1/diff_se_1)\n",
    "\n",
    "from scipy.stats import ttest_ind\n",
    "print(ttest_ind(Sample2_1, Sample1_1, equal_var=False))"
   ]
  },
  {
   "cell_type": "code",
   "execution_count": 51,
   "metadata": {},
   "outputs": [
    {
     "data": {
      "image/png": "[encoded data removed]",
      "text/plain": [
       "<matplotlib.figure.Figure at 0x119801c88>"
      ]
     },
     "metadata": {},
     "output_type": "display_data"
    }
   ],
   "source": [
    "#Make two population with n= 10 and size = 10000\n",
    "\n",
    "pop1_2 = np.random.binomial(10, 0.4, 10000)   #p-value = 0.4 \n",
    "pop2_2 = np.random.binomial(10,0.5, 10000)    #p-value = 0.5\n",
    "\n",
    "# Let’s make histograms for the two groups. \n",
    "\n",
    "plt.hist(pop1_2, alpha=0.8, label='Population 1') \n",
    "plt.hist(pop2_2, alpha=0.8, label='Population 2') \n",
    "plt.legend(loc='upper right') \n",
    "plt.show()"
   ]
  },
  {
   "cell_type": "code",
   "execution_count": 66,
   "metadata": {},
   "outputs": [
    {
     "name": "stdout",
     "output_type": "stream",
     "text": [
      "1.33\n",
      "6.19826063838\n",
      "Ttest_indResult(statistic=6.1671914670973251, pvalue=3.8386734851968533e-09)\n"
     ]
    }
   ],
   "source": [
    "Sample1_2 = np.random.choice(pop1_2, 100, replace=True)\n",
    "Sample2_2 = np.random.choice(pop2_2, 100, replace=True)\n",
    "\n",
    "# Compute the difference between the two sample means.\n",
    "diff_2 =Sample2_2.mean( ) -Sample1_2.mean()\n",
    "print(diff_2)\n",
    "\n",
    "size_2 = np.array([len(Sample1_2), len(Sample2_2)])\n",
    "sd_2 = np.array([Sample1_2.std(), Sample2_2.std()])\n",
    "\n",
    "# The squared standard deviations are divided by the sample size and summed, then we take\n",
    "# the square root of the sum. \n",
    "diff_se_2 = (sum(sd_2 ** 2 / size_2)) ** 0.5  \n",
    "\n",
    "#The difference between the means divided by the standard error: T-value.  \n",
    "print(diff_2/diff_se_2)\n",
    "\n",
    "from scipy.stats import ttest_ind\n",
    "print(ttest_ind(Sample2_2, Sample1_2, equal_var=False))"
   ]
  },
  {
   "cell_type": "markdown",
   "metadata": {},
   "source": [
    "Change the population value (p in the NumPy documentation) for pop1 to 0.3, then take new samples and compute the t-statistic and p-value. Then change the population value p for group 1 to 0.4, and do it again. What changes, and why?  \n",
    "\n",
    "Everything changes because we are comparing 3 different populations (p1= 0.2, 0.3, 0.4) to one p2= 0.5."
   ]
  },
  {
   "cell_type": "code",
   "execution_count": 68,
   "metadata": {},
   "outputs": [
    {
     "data": {
      "image/png": "[encoded data removed]",
      "text/plain": [
       "<matplotlib.figure.Figure at 0x11e8dfd30>"
      ]
     },
     "metadata": {},
     "output_type": "display_data"
    }
   ],
   "source": [
    "#Make two population with n= 10 and size = 10000\n",
    "\n",
    "Pop1 = np.random.beta(50, 70, 10000)   #a= 50 and b = 70.\n",
    "Pop2 = np.random.beta(60,50, 10000)    #a= 60 and b = 70.\n",
    "\n",
    "# Let’s make histograms for the two groups. \n",
    "\n",
    "plt.hist(Pop1, alpha=0.8, label='Population 1') \n",
    "plt.hist(Pop2, alpha=0.8, label='Population 2') \n",
    "plt.legend(loc='upper right') \n",
    "plt.show()"
   ]
  },
  {
   "cell_type": "code",
   "execution_count": 73,
   "metadata": {},
   "outputs": [
    {
     "data": {
      "image/png": "[encoded data removed]",
      "text/plain": [
       "<matplotlib.figure.Figure at 0x119505358>"
      ]
     },
     "metadata": {},
     "output_type": "display_data"
    }
   ],
   "source": [
    "Sample1_3 = np.random.choice(Pop1, 100, replace=True)\n",
    "Sample2_3 = np.random.choice(Pop2, 100, replace=True)\n",
    "\n",
    "plt.hist(Sample1_3, alpha=0.8, label='sample 1') \n",
    "plt.hist(Sample2_3, alpha=0.8, label='sample 2') \n",
    "plt.legend(loc='upper right') \n",
    "plt.show()"
   ]
  },
  {
   "cell_type": "code",
   "execution_count": 74,
   "metadata": {},
   "outputs": [
    {
     "name": "stdout",
     "output_type": "stream",
     "text": [
      "0.417236995024\n",
      "0.545416601817\n",
      "0.0439125423364\n",
      "0.0430093081676\n"
     ]
    }
   ],
   "source": [
    "print(Sample1_3.mean())\n",
    "print(Sample2_3.mean())\n",
    "print(Sample1_3.std())\n",
    "print(Sample2_3.std())"
   ]
  },
  {
   "cell_type": "markdown",
   "metadata": {},
   "source": [
    "Change the distribution of your populations from binomial to a distribution of your choice. Do the sample mean values still accurately represent the population values?  \n",
    "\n",
    "Yes they do."
   ]
  },
  {
   "cell_type": "code",
   "execution_count": null,
   "metadata": {
    "collapsed": true
   },
   "outputs": [],
   "source": []
  }
 ],
 "metadata": {
  "kernelspec": {
   "display_name": "Python 3",
   "language": "python",
   "name": "python3"
  },
  "language_info": {
   "codemirror_mode": {
    "name": "ipython",
    "version": 3
   },
   "file_extension": ".py",
   "mimetype": "text/x-python",
   "name": "python",
   "nbconvert_exporter": "python",
   "pygments_lexer": "ipython3",
   "version": "3.6.1"
  }
 },
 "nbformat": 4,
 "nbformat_minor": 2
}
