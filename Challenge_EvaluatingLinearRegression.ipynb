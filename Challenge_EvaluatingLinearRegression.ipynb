{
 "cells": [
  {
   "cell_type": "markdown",
   "metadata": {},
   "source": [
    "# Evaluating Linear regression\n",
    "\n",
    "## Challenge: Validating a linear regression\n",
    "\n",
    "by: Melissa N \n",
    "\n"
   ]
  },
  {
   "cell_type": "code",
   "execution_count": 1,
   "metadata": {
    "collapsed": true
   },
   "outputs": [],
   "source": [
    "import math\n",
    "import statsmodels.formula.api as smf\n",
    "\n",
    "\n",
    "import pandas as pd\n",
    "from matplotlib import pyplot as plt\n",
    "import numpy as np\n",
    "import pandas as pd\n",
    "import seaborn as sns\n",
    "from scipy.stats import kendalltau\n",
    "from sklearn import linear_model\n",
    "%matplotlib inline\n",
    "#pd.options.display.float_format = '{:.3f}'.format\n",
    "from IPython.display import display\n",
    "from statsmodels.sandbox.regression.predstd import wls_prediction_std\n",
    "\n",
    "\n",
    "# Suppress annoying harmless error.\n",
    "import warnings\n",
    "warnings.filterwarnings(action=\"ignore\", module=\"scipy\", message=\"^internal gelsd\")\n",
    "\n",
    "\n",
    "\n",
    "#import plotly.plotly as py\n",
    "#import plotly.graph_objs as go\n",
    "#from plotly.tools import FigureFactory as FF\n",
    "import scipy"
   ]
  },
  {
   "cell_type": "markdown",
   "metadata": {},
   "source": [
    "This file cotains information about crime data in New York State in 2013, provided by the FBI: UCR. \n",
    "It is given about different types of crimes that are committed in different cities in the state of New York.  "
   ]
  },
  {
   "cell_type": "markdown",
   "metadata": {},
   "source": [
    "### Cleaning Data    \n",
    "\n",
    "We will also look at rows or column that are empty and remove them from our data.   \n",
    "we will look for outliers and remove them from our data.   "
   ]
  },
  {
   "cell_type": "code",
   "execution_count": 2,
   "metadata": {},
   "outputs": [
    {
     "data": {
      "text/html": [
       "<div>\n",
       "<style>\n",
       "    .dataframe thead tr:only-child th {\n",
       "        text-align: right;\n",
       "    }\n",
       "\n",
       "    .dataframe thead th {\n",
       "        text-align: left;\n",
       "    }\n",
       "\n",
       "    .dataframe tbody tr th {\n",
       "        vertical-align: top;\n",
       "    }\n",
       "</style>\n",
       "<table border=\"1\" class=\"dataframe\">\n",
       "  <thead>\n",
       "    <tr style=\"text-align: right;\">\n",
       "      <th></th>\n",
       "      <th>Table 8</th>\n",
       "      <th>Unnamed: 1</th>\n",
       "      <th>Unnamed: 2</th>\n",
       "      <th>Unnamed: 3</th>\n",
       "      <th>Unnamed: 4</th>\n",
       "      <th>Unnamed: 5</th>\n",
       "      <th>Unnamed: 6</th>\n",
       "      <th>Unnamed: 7</th>\n",
       "      <th>Unnamed: 8</th>\n",
       "      <th>Unnamed: 9</th>\n",
       "      <th>Unnamed: 10</th>\n",
       "      <th>Unnamed: 11</th>\n",
       "      <th>Unnamed: 12</th>\n",
       "    </tr>\n",
       "  </thead>\n",
       "  <tbody>\n",
       "    <tr>\n",
       "      <th>0</th>\n",
       "      <td>NEW YORK</td>\n",
       "      <td>NaN</td>\n",
       "      <td>NaN</td>\n",
       "      <td>NaN</td>\n",
       "      <td>NaN</td>\n",
       "      <td>NaN</td>\n",
       "      <td>NaN</td>\n",
       "      <td>NaN</td>\n",
       "      <td>NaN</td>\n",
       "      <td>NaN</td>\n",
       "      <td>NaN</td>\n",
       "      <td>NaN</td>\n",
       "      <td>NaN</td>\n",
       "    </tr>\n",
       "    <tr>\n",
       "      <th>1</th>\n",
       "      <td>Offenses Known to Law Enforcement</td>\n",
       "      <td>NaN</td>\n",
       "      <td>NaN</td>\n",
       "      <td>NaN</td>\n",
       "      <td>NaN</td>\n",
       "      <td></td>\n",
       "      <td>NaN</td>\n",
       "      <td>NaN</td>\n",
       "      <td>NaN</td>\n",
       "      <td>NaN</td>\n",
       "      <td>NaN</td>\n",
       "      <td>NaN</td>\n",
       "      <td>NaN</td>\n",
       "    </tr>\n",
       "    <tr>\n",
       "      <th>2</th>\n",
       "      <td>by City, 2013</td>\n",
       "      <td>NaN</td>\n",
       "      <td>NaN</td>\n",
       "      <td>NaN</td>\n",
       "      <td>NaN</td>\n",
       "      <td>NaN</td>\n",
       "      <td>NaN</td>\n",
       "      <td>NaN</td>\n",
       "      <td>NaN</td>\n",
       "      <td>NaN</td>\n",
       "      <td>NaN</td>\n",
       "      <td>NaN</td>\n",
       "      <td>NaN</td>\n",
       "    </tr>\n",
       "    <tr>\n",
       "      <th>3</th>\n",
       "      <td>City</td>\n",
       "      <td>Population</td>\n",
       "      <td>Violent\\ncrime</td>\n",
       "      <td>Murder and\\nnonnegligent\\nmanslaughter</td>\n",
       "      <td>Rape\\n(revised\\ndefinition)1</td>\n",
       "      <td>Rape\\n(legacy\\ndefinition)2</td>\n",
       "      <td>Robbery</td>\n",
       "      <td>Aggravated\\nassault</td>\n",
       "      <td>Property\\ncrime</td>\n",
       "      <td>Burglary</td>\n",
       "      <td>Larceny-\\ntheft</td>\n",
       "      <td>Motor\\nvehicle\\ntheft</td>\n",
       "      <td>Arson3</td>\n",
       "    </tr>\n",
       "    <tr>\n",
       "      <th>4</th>\n",
       "      <td>Adams Village</td>\n",
       "      <td>1861</td>\n",
       "      <td>0</td>\n",
       "      <td>0</td>\n",
       "      <td>NaN</td>\n",
       "      <td>0</td>\n",
       "      <td>0</td>\n",
       "      <td>0</td>\n",
       "      <td>12</td>\n",
       "      <td>2</td>\n",
       "      <td>10</td>\n",
       "      <td>0</td>\n",
       "      <td>0</td>\n",
       "    </tr>\n",
       "  </tbody>\n",
       "</table>\n",
       "</div>"
      ],
      "text/plain": [
       "                             Table 8  Unnamed: 1      Unnamed: 2  \\\n",
       "0                           NEW YORK         NaN             NaN   \n",
       "1  Offenses Known to Law Enforcement         NaN             NaN   \n",
       "2                      by City, 2013         NaN             NaN   \n",
       "3                               City  Population  Violent\\ncrime   \n",
       "4                      Adams Village        1861               0   \n",
       "\n",
       "                               Unnamed: 3                    Unnamed: 4  \\\n",
       "0                                     NaN                           NaN   \n",
       "1                                     NaN                           NaN   \n",
       "2                                     NaN                           NaN   \n",
       "3  Murder and\\nnonnegligent\\nmanslaughter  Rape\\n(revised\\ndefinition)1   \n",
       "4                                       0                           NaN   \n",
       "\n",
       "                    Unnamed: 5 Unnamed: 6           Unnamed: 7  \\\n",
       "0                          NaN        NaN                  NaN   \n",
       "1                                     NaN                  NaN   \n",
       "2                          NaN        NaN                  NaN   \n",
       "3  Rape\\n(legacy\\ndefinition)2    Robbery  Aggravated\\nassault   \n",
       "4                            0          0                    0   \n",
       "\n",
       "        Unnamed: 8 Unnamed: 9      Unnamed: 10            Unnamed: 11  \\\n",
       "0              NaN        NaN              NaN                    NaN   \n",
       "1              NaN        NaN              NaN                    NaN   \n",
       "2              NaN        NaN              NaN                    NaN   \n",
       "3  Property\\ncrime   Burglary  Larceny-\\ntheft  Motor\\nvehicle\\ntheft   \n",
       "4               12          2               10                      0   \n",
       "\n",
       "  Unnamed: 12  \n",
       "0         NaN  \n",
       "1         NaN  \n",
       "2         NaN  \n",
       "3      Arson3  \n",
       "4           0  "
      ]
     },
     "metadata": {},
     "output_type": "display_data"
    }
   ],
   "source": [
    "# Assign spreadsheet filename to `file`\n",
    "file = 'table_8_offenses_known_to_law_enforcement_new_york_by_city_2013.xls'\n",
    "# Load spreadsheet\n",
    "xl = pd.ExcelFile(file)\n",
    "# Load a sheet into a DataFrame by name: df1\n",
    "df1 = xl.parse('13tbl8ny')\n",
    "display(df1.head())"
   ]
  },
  {
   "cell_type": "code",
   "execution_count": 3,
   "metadata": {
    "collapsed": true
   },
   "outputs": [],
   "source": [
    "#Adjust df1 to exclude 1st 3 rows.\n",
    "df = df1[3:len(df1)]\n",
    "#grab the first row for the header set the header row as the df header\n",
    "df.columns = df.iloc[0]"
   ]
  },
  {
   "cell_type": "code",
   "execution_count": 4,
   "metadata": {},
   "outputs": [
    {
     "data": {
      "text/plain": [
       "Index(['City', 'Population', 'Violent\\ncrime',\n",
       "       'Murder and\\nnonnegligent\\nmanslaughter',\n",
       "       'Rape\\n(revised\\ndefinition)1', 'Rape\\n(legacy\\ndefinition)2',\n",
       "       'Robbery', 'Aggravated\\nassault', 'Property\\ncrime', 'Burglary',\n",
       "       'Larceny-\\ntheft', 'Motor\\nvehicle\\ntheft', 'Arson3'],\n",
       "      dtype='object', name=3)"
      ]
     },
     "execution_count": 4,
     "metadata": {},
     "output_type": "execute_result"
    }
   ],
   "source": [
    "df.columns"
   ]
  },
  {
   "cell_type": "code",
   "execution_count": 5,
   "metadata": {
    "collapsed": true
   },
   "outputs": [],
   "source": [
    "## Make Columns easier to read \n",
    "\n",
    "df.columns = [\"City\", \"Population\",\"Violent_crime\",\"Murder\",\"Rape_revised\",\"Rape_legacy\"\n",
    "                 ,\"Robbery\",\"Aggravated_assault\",\"Property_crime\",\"Burglary\",\"Larceny_theft\",\"Motor_vehicle_theft\",\"Arson3\"]"
   ]
  },
  {
   "cell_type": "code",
   "execution_count": 6,
   "metadata": {
    "collapsed": true
   },
   "outputs": [],
   "source": [
    "df = df[1:]\n",
    "df.index = range(0,len(df))"
   ]
  },
  {
   "cell_type": "code",
   "execution_count": 7,
   "metadata": {},
   "outputs": [
    {
     "data": {
      "text/html": [
       "<div>\n",
       "<style>\n",
       "    .dataframe thead tr:only-child th {\n",
       "        text-align: right;\n",
       "    }\n",
       "\n",
       "    .dataframe thead th {\n",
       "        text-align: left;\n",
       "    }\n",
       "\n",
       "    .dataframe tbody tr th {\n",
       "        vertical-align: top;\n",
       "    }\n",
       "</style>\n",
       "<table border=\"1\" class=\"dataframe\">\n",
       "  <thead>\n",
       "    <tr style=\"text-align: right;\">\n",
       "      <th></th>\n",
       "      <th>City</th>\n",
       "      <th>Population</th>\n",
       "      <th>Violent_crime</th>\n",
       "      <th>Murder</th>\n",
       "      <th>Rape_revised</th>\n",
       "      <th>Rape_legacy</th>\n",
       "      <th>Robbery</th>\n",
       "      <th>Aggravated_assault</th>\n",
       "      <th>Property_crime</th>\n",
       "      <th>Burglary</th>\n",
       "      <th>Larceny_theft</th>\n",
       "      <th>Motor_vehicle_theft</th>\n",
       "      <th>Arson3</th>\n",
       "    </tr>\n",
       "  </thead>\n",
       "  <tbody>\n",
       "    <tr>\n",
       "      <th>348</th>\n",
       "      <td>1 The figures shown in this column for the off...</td>\n",
       "      <td>NaN</td>\n",
       "      <td>NaN</td>\n",
       "      <td>NaN</td>\n",
       "      <td>NaN</td>\n",
       "      <td>NaN</td>\n",
       "      <td>NaN</td>\n",
       "      <td>NaN</td>\n",
       "      <td>NaN</td>\n",
       "      <td>NaN</td>\n",
       "      <td>NaN</td>\n",
       "      <td>NaN</td>\n",
       "      <td>NaN</td>\n",
       "    </tr>\n",
       "    <tr>\n",
       "      <th>349</th>\n",
       "      <td>2 The figures shown in this column for the off...</td>\n",
       "      <td>NaN</td>\n",
       "      <td>NaN</td>\n",
       "      <td>NaN</td>\n",
       "      <td>NaN</td>\n",
       "      <td>NaN</td>\n",
       "      <td>NaN</td>\n",
       "      <td>NaN</td>\n",
       "      <td>NaN</td>\n",
       "      <td>NaN</td>\n",
       "      <td>NaN</td>\n",
       "      <td>NaN</td>\n",
       "      <td>NaN</td>\n",
       "    </tr>\n",
       "    <tr>\n",
       "      <th>350</th>\n",
       "      <td>3 The FBI does not publish arson data unless i...</td>\n",
       "      <td>NaN</td>\n",
       "      <td>NaN</td>\n",
       "      <td>NaN</td>\n",
       "      <td>NaN</td>\n",
       "      <td>NaN</td>\n",
       "      <td>NaN</td>\n",
       "      <td>NaN</td>\n",
       "      <td>NaN</td>\n",
       "      <td>NaN</td>\n",
       "      <td>NaN</td>\n",
       "      <td>NaN</td>\n",
       "      <td>NaN</td>\n",
       "    </tr>\n",
       "  </tbody>\n",
       "</table>\n",
       "</div>"
      ],
      "text/plain": [
       "                                                  City Population  \\\n",
       "348  1 The figures shown in this column for the off...        NaN   \n",
       "349  2 The figures shown in this column for the off...        NaN   \n",
       "350  3 The FBI does not publish arson data unless i...        NaN   \n",
       "\n",
       "    Violent_crime Murder Rape_revised Rape_legacy Robbery Aggravated_assault  \\\n",
       "348           NaN    NaN          NaN         NaN     NaN                NaN   \n",
       "349           NaN    NaN          NaN         NaN     NaN                NaN   \n",
       "350           NaN    NaN          NaN         NaN     NaN                NaN   \n",
       "\n",
       "    Property_crime Burglary Larceny_theft Motor_vehicle_theft Arson3  \n",
       "348            NaN      NaN           NaN                 NaN    NaN  \n",
       "349            NaN      NaN           NaN                 NaN    NaN  \n",
       "350            NaN      NaN           NaN                 NaN    NaN  "
      ]
     },
     "metadata": {},
     "output_type": "display_data"
    }
   ],
   "source": [
    "# checking the last 3 rows \n",
    "display(df[-3:])"
   ]
  },
  {
   "cell_type": "code",
   "execution_count": 8,
   "metadata": {
    "collapsed": true
   },
   "outputs": [],
   "source": [
    "# Removing the columns with NAN\n",
    "df.drop(['Rape_revised','Arson3'], inplace=True, axis=1)\n",
    "#Adjust df to exclude the last 3 rows\n",
    "# dropping the row\n",
    "df = df.iloc[:347]"
   ]
  },
  {
   "cell_type": "code",
   "execution_count": 9,
   "metadata": {},
   "outputs": [
    {
     "data": {
      "text/plain": [
       "City                   object\n",
       "Population             object\n",
       "Violent_crime          object\n",
       "Murder                 object\n",
       "Rape_legacy            object\n",
       "Robbery                object\n",
       "Aggravated_assault     object\n",
       "Property_crime         object\n",
       "Burglary               object\n",
       "Larceny_theft          object\n",
       "Motor_vehicle_theft    object\n",
       "dtype: object"
      ]
     },
     "execution_count": 9,
     "metadata": {},
     "output_type": "execute_result"
    }
   ],
   "source": [
    "# Check variable types.\n",
    "df.dtypes"
   ]
  },
  {
   "cell_type": "code",
   "execution_count": 10,
   "metadata": {
    "collapsed": true
   },
   "outputs": [],
   "source": [
    "# convert columns to numeric.\n",
    "df.loc[:,'Property_crime'] = pd.to_numeric(df.loc[:,'Property_crime'])\n",
    "df.loc[:,'Population'] = pd.to_numeric(df.loc[:,'Population'])\n",
    "df.loc[:,'Violent_crime'] = pd.to_numeric(df.loc[:,'Violent_crime'])\n",
    "df.loc[:,'Murder'] = pd.to_numeric(df.loc[:,'Murder'])\n",
    "df.loc[:,'Rape_legacy'] = pd.to_numeric(df.loc[:,'Rape_legacy'])\n",
    "df.loc[:,'Aggravated_assault'] = pd.to_numeric(df.loc[:,'Aggravated_assault'])\n",
    "df.loc[:,'Burglary'] = pd.to_numeric(df.loc[:,'Burglary'])\n",
    "df.loc[:,'Larceny_theft'] = pd.to_numeric(df.loc[:,'Larceny_theft'])\n",
    "df.loc[:,'Motor_vehicle_theft'] = pd.to_numeric(df.loc[:,'Motor_vehicle_theft'])\n",
    "df.loc[:,'Robbery'] = pd.to_numeric(df.loc[:,'Robbery'])"
   ]
  },
  {
   "cell_type": "code",
   "execution_count": 11,
   "metadata": {},
   "outputs": [
    {
     "data": {
      "image/png": "[encoded data removed]",
      "text/plain": [
       "<matplotlib.figure.Figure at 0x11537b8d0>"
      ]
     },
     "metadata": {},
     "output_type": "display_data"
    }
   ],
   "source": [
    "# Look at the scatter plot for Population, Murder and Robbery\n",
    "\n",
    "\n",
    "plt.figure(figsize=(15, 5))\n",
    "plt.subplot(1, 3, 1)\n",
    "plt.scatter(df['Population'], df['Property_crime'], alpha=0.6)\n",
    "plt.xlabel('Population')\n",
    "plt.ylabel('Property\\ncrime')\n",
    "\n",
    "plt.subplot(1, 3, 2)\n",
    "\n",
    "plt.scatter(df['Murder'], df['Property_crime'], alpha=0.6)\n",
    "plt.xlabel('Murder')\n",
    "\n",
    "plt.subplot(1, 3, 3)\n",
    "\n",
    "\n",
    "plt.scatter(df['Robbery'], df['Property_crime'], alpha=0.6)\n",
    "plt.xlabel('Robbery')\n",
    "\n",
    "\n",
    "plt.show()"
   ]
  },
  {
   "cell_type": "markdown",
   "metadata": {},
   "source": [
    "Looking at this scatter plot, we can see that there is a lot of outliers. \n",
    "One of them occurs where Property and crime is 140,000. So we will try to remove that and other outliers that we may see. "
   ]
  },
  {
   "cell_type": "code",
   "execution_count": 12,
   "metadata": {},
   "outputs": [
    {
     "data": {
      "image/png": "[encoded data removed]",
      "text/plain": [
       "<matplotlib.figure.Figure at 0x11536c5c0>"
      ]
     },
     "metadata": {},
     "output_type": "display_data"
    }
   ],
   "source": [
    "# Look at the histogram of populations\"\n",
    "\n",
    "plt.hist(df['Population'], label = 'Population', alpha = 0.5, bins = 40)\n",
    "plt.title('Population')\n",
    "plt.legend(loc='best')\n",
    "plt.show()"
   ]
  },
  {
   "cell_type": "markdown",
   "metadata": {},
   "source": [
    "This histogram doesn't tell us anything. \n",
    "Hopefully will be helpful or better once we have remove the outliers. "
   ]
  },
  {
   "cell_type": "code",
   "execution_count": 13,
   "metadata": {},
   "outputs": [
    {
     "data": {
      "text/html": [
       "<div>\n",
       "<style>\n",
       "    .dataframe thead tr:only-child th {\n",
       "        text-align: right;\n",
       "    }\n",
       "\n",
       "    .dataframe thead th {\n",
       "        text-align: left;\n",
       "    }\n",
       "\n",
       "    .dataframe tbody tr th {\n",
       "        vertical-align: top;\n",
       "    }\n",
       "</style>\n",
       "<table border=\"1\" class=\"dataframe\">\n",
       "  <thead>\n",
       "    <tr style=\"text-align: right;\">\n",
       "      <th></th>\n",
       "      <th>City</th>\n",
       "      <th>Population</th>\n",
       "      <th>Violent_crime</th>\n",
       "      <th>Murder</th>\n",
       "      <th>Rape_legacy</th>\n",
       "      <th>Robbery</th>\n",
       "      <th>Aggravated_assault</th>\n",
       "      <th>Property_crime</th>\n",
       "      <th>Burglary</th>\n",
       "      <th>Larceny_theft</th>\n",
       "      <th>Motor_vehicle_theft</th>\n",
       "    </tr>\n",
       "  </thead>\n",
       "  <tbody>\n",
       "    <tr>\n",
       "      <th>7</th>\n",
       "      <td>Amherst Town</td>\n",
       "      <td>118296</td>\n",
       "      <td>107</td>\n",
       "      <td>1</td>\n",
       "      <td>7</td>\n",
       "      <td>31</td>\n",
       "      <td>68</td>\n",
       "      <td>2118</td>\n",
       "      <td>204</td>\n",
       "      <td>1882</td>\n",
       "      <td>32</td>\n",
       "    </tr>\n",
       "    <tr>\n",
       "      <th>35</th>\n",
       "      <td>Buffalo</td>\n",
       "      <td>258789</td>\n",
       "      <td>3249</td>\n",
       "      <td>47</td>\n",
       "      <td>145</td>\n",
       "      <td>1322</td>\n",
       "      <td>1735</td>\n",
       "      <td>12491</td>\n",
       "      <td>3458</td>\n",
       "      <td>8076</td>\n",
       "      <td>957</td>\n",
       "    </tr>\n",
       "    <tr>\n",
       "      <th>216</th>\n",
       "      <td>New York</td>\n",
       "      <td>8396126</td>\n",
       "      <td>52384</td>\n",
       "      <td>335</td>\n",
       "      <td>1112</td>\n",
       "      <td>19170</td>\n",
       "      <td>31767</td>\n",
       "      <td>141971</td>\n",
       "      <td>16606</td>\n",
       "      <td>117931</td>\n",
       "      <td>7434</td>\n",
       "    </tr>\n",
       "    <tr>\n",
       "      <th>272</th>\n",
       "      <td>Rochester</td>\n",
       "      <td>210562</td>\n",
       "      <td>2107</td>\n",
       "      <td>42</td>\n",
       "      <td>92</td>\n",
       "      <td>918</td>\n",
       "      <td>1055</td>\n",
       "      <td>10051</td>\n",
       "      <td>2587</td>\n",
       "      <td>6855</td>\n",
       "      <td>609</td>\n",
       "    </tr>\n",
       "    <tr>\n",
       "      <th>310</th>\n",
       "      <td>Syracuse</td>\n",
       "      <td>143834</td>\n",
       "      <td>1192</td>\n",
       "      <td>21</td>\n",
       "      <td>75</td>\n",
       "      <td>400</td>\n",
       "      <td>696</td>\n",
       "      <td>6473</td>\n",
       "      <td>1781</td>\n",
       "      <td>4298</td>\n",
       "      <td>394</td>\n",
       "    </tr>\n",
       "    <tr>\n",
       "      <th>346</th>\n",
       "      <td>Yonkers</td>\n",
       "      <td>199134</td>\n",
       "      <td>1036</td>\n",
       "      <td>6</td>\n",
       "      <td>25</td>\n",
       "      <td>390</td>\n",
       "      <td>615</td>\n",
       "      <td>2368</td>\n",
       "      <td>470</td>\n",
       "      <td>1662</td>\n",
       "      <td>236</td>\n",
       "    </tr>\n",
       "  </tbody>\n",
       "</table>\n",
       "</div>"
      ],
      "text/plain": [
       "             City  Population  Violent_crime  Murder  Rape_legacy  Robbery  \\\n",
       "7    Amherst Town      118296            107       1            7       31   \n",
       "35        Buffalo      258789           3249      47          145     1322   \n",
       "216      New York     8396126          52384     335         1112    19170   \n",
       "272     Rochester      210562           2107      42           92      918   \n",
       "310      Syracuse      143834           1192      21           75      400   \n",
       "346       Yonkers      199134           1036       6           25      390   \n",
       "\n",
       "     Aggravated_assault  Property_crime  Burglary  Larceny_theft  \\\n",
       "7                    68            2118       204           1882   \n",
       "35                 1735           12491      3458           8076   \n",
       "216               31767          141971     16606         117931   \n",
       "272                1055           10051      2587           6855   \n",
       "310                 696            6473      1781           4298   \n",
       "346                 615            2368       470           1662   \n",
       "\n",
       "     Motor_vehicle_theft  \n",
       "7                     32  \n",
       "35                   957  \n",
       "216                 7434  \n",
       "272                  609  \n",
       "310                  394  \n",
       "346                  236  "
      ]
     },
     "metadata": {},
     "output_type": "display_data"
    },
    {
     "name": "stdout",
     "output_type": "stream",
     "text": [
      "49\n",
      "298\n"
     ]
    }
   ],
   "source": [
    "## From our study we see that there is an outlier when Property and crime is bigger that 10,000 or 3,000\n",
    "display(df.loc[((df['Murder'] > 0) & (df['Population'] > 100000))] )\n",
    "\n",
    "print(len(df[df['Murder'] > 0]))\n",
    "print(len(df[df['Murder'] == 0]))"
   ]
  },
  {
   "cell_type": "code",
   "execution_count": 14,
   "metadata": {},
   "outputs": [
    {
     "data": {
      "text/html": [
       "<div>\n",
       "<style>\n",
       "    .dataframe thead tr:only-child th {\n",
       "        text-align: right;\n",
       "    }\n",
       "\n",
       "    .dataframe thead th {\n",
       "        text-align: left;\n",
       "    }\n",
       "\n",
       "    .dataframe tbody tr th {\n",
       "        vertical-align: top;\n",
       "    }\n",
       "</style>\n",
       "<table border=\"1\" class=\"dataframe\">\n",
       "  <thead>\n",
       "    <tr style=\"text-align: right;\">\n",
       "      <th></th>\n",
       "      <th>City</th>\n",
       "      <th>Population</th>\n",
       "      <th>Violent_crime</th>\n",
       "      <th>Murder</th>\n",
       "      <th>Rape_legacy</th>\n",
       "      <th>Robbery</th>\n",
       "      <th>Aggravated_assault</th>\n",
       "      <th>Property_crime</th>\n",
       "      <th>Burglary</th>\n",
       "      <th>Larceny_theft</th>\n",
       "      <th>Motor_vehicle_theft</th>\n",
       "    </tr>\n",
       "  </thead>\n",
       "  <tbody>\n",
       "    <tr>\n",
       "      <th>3</th>\n",
       "      <td>Albany</td>\n",
       "      <td>97956</td>\n",
       "      <td>791</td>\n",
       "      <td>8</td>\n",
       "      <td>30</td>\n",
       "      <td>227</td>\n",
       "      <td>526</td>\n",
       "      <td>4090</td>\n",
       "      <td>705</td>\n",
       "      <td>3243</td>\n",
       "      <td>142</td>\n",
       "    </tr>\n",
       "    <tr>\n",
       "      <th>35</th>\n",
       "      <td>Buffalo</td>\n",
       "      <td>258789</td>\n",
       "      <td>3249</td>\n",
       "      <td>47</td>\n",
       "      <td>145</td>\n",
       "      <td>1322</td>\n",
       "      <td>1735</td>\n",
       "      <td>12491</td>\n",
       "      <td>3458</td>\n",
       "      <td>8076</td>\n",
       "      <td>957</td>\n",
       "    </tr>\n",
       "    <tr>\n",
       "      <th>216</th>\n",
       "      <td>New York</td>\n",
       "      <td>8396126</td>\n",
       "      <td>52384</td>\n",
       "      <td>335</td>\n",
       "      <td>1112</td>\n",
       "      <td>19170</td>\n",
       "      <td>31767</td>\n",
       "      <td>141971</td>\n",
       "      <td>16606</td>\n",
       "      <td>117931</td>\n",
       "      <td>7434</td>\n",
       "    </tr>\n",
       "    <tr>\n",
       "      <th>272</th>\n",
       "      <td>Rochester</td>\n",
       "      <td>210562</td>\n",
       "      <td>2107</td>\n",
       "      <td>42</td>\n",
       "      <td>92</td>\n",
       "      <td>918</td>\n",
       "      <td>1055</td>\n",
       "      <td>10051</td>\n",
       "      <td>2587</td>\n",
       "      <td>6855</td>\n",
       "      <td>609</td>\n",
       "    </tr>\n",
       "    <tr>\n",
       "      <th>310</th>\n",
       "      <td>Syracuse</td>\n",
       "      <td>143834</td>\n",
       "      <td>1192</td>\n",
       "      <td>21</td>\n",
       "      <td>75</td>\n",
       "      <td>400</td>\n",
       "      <td>696</td>\n",
       "      <td>6473</td>\n",
       "      <td>1781</td>\n",
       "      <td>4298</td>\n",
       "      <td>394</td>\n",
       "    </tr>\n",
       "  </tbody>\n",
       "</table>\n",
       "</div>"
      ],
      "text/plain": [
       "          City  Population  Violent_crime  Murder  Rape_legacy  Robbery  \\\n",
       "3       Albany       97956            791       8           30      227   \n",
       "35     Buffalo      258789           3249      47          145     1322   \n",
       "216   New York     8396126          52384     335         1112    19170   \n",
       "272  Rochester      210562           2107      42           92      918   \n",
       "310   Syracuse      143834           1192      21           75      400   \n",
       "\n",
       "     Aggravated_assault  Property_crime  Burglary  Larceny_theft  \\\n",
       "3                   526            4090       705           3243   \n",
       "35                 1735           12491      3458           8076   \n",
       "216               31767          141971     16606         117931   \n",
       "272                1055           10051      2587           6855   \n",
       "310                 696            6473      1781           4298   \n",
       "\n",
       "     Motor_vehicle_theft  \n",
       "3                    142  \n",
       "35                   957  \n",
       "216                 7434  \n",
       "272                  609  \n",
       "310                  394  "
      ]
     },
     "metadata": {},
     "output_type": "display_data"
    }
   ],
   "source": [
    "## From our study we see that there is an outlier when Property and crime is bigger that 10,000 or 3,000\n",
    "display(df[df['Property_crime'] > 3000])"
   ]
  },
  {
   "cell_type": "code",
   "execution_count": 15,
   "metadata": {},
   "outputs": [
    {
     "data": {
      "text/html": [
       "<div>\n",
       "<style>\n",
       "    .dataframe thead tr:only-child th {\n",
       "        text-align: right;\n",
       "    }\n",
       "\n",
       "    .dataframe thead th {\n",
       "        text-align: left;\n",
       "    }\n",
       "\n",
       "    .dataframe tbody tr th {\n",
       "        vertical-align: top;\n",
       "    }\n",
       "</style>\n",
       "<table border=\"1\" class=\"dataframe\">\n",
       "  <thead>\n",
       "    <tr style=\"text-align: right;\">\n",
       "      <th></th>\n",
       "      <th>City</th>\n",
       "      <th>Population</th>\n",
       "      <th>Violent_crime</th>\n",
       "      <th>Murder</th>\n",
       "      <th>Rape_legacy</th>\n",
       "      <th>Robbery</th>\n",
       "      <th>Aggravated_assault</th>\n",
       "      <th>Property_crime</th>\n",
       "      <th>Burglary</th>\n",
       "      <th>Larceny_theft</th>\n",
       "      <th>Motor_vehicle_theft</th>\n",
       "    </tr>\n",
       "  </thead>\n",
       "  <tbody>\n",
       "    <tr>\n",
       "      <th>7</th>\n",
       "      <td>Amherst Town</td>\n",
       "      <td>118296</td>\n",
       "      <td>107</td>\n",
       "      <td>1</td>\n",
       "      <td>7</td>\n",
       "      <td>31</td>\n",
       "      <td>68</td>\n",
       "      <td>2118</td>\n",
       "      <td>204</td>\n",
       "      <td>1882</td>\n",
       "      <td>32</td>\n",
       "    </tr>\n",
       "    <tr>\n",
       "      <th>35</th>\n",
       "      <td>Buffalo</td>\n",
       "      <td>258789</td>\n",
       "      <td>3249</td>\n",
       "      <td>47</td>\n",
       "      <td>145</td>\n",
       "      <td>1322</td>\n",
       "      <td>1735</td>\n",
       "      <td>12491</td>\n",
       "      <td>3458</td>\n",
       "      <td>8076</td>\n",
       "      <td>957</td>\n",
       "    </tr>\n",
       "    <tr>\n",
       "      <th>216</th>\n",
       "      <td>New York</td>\n",
       "      <td>8396126</td>\n",
       "      <td>52384</td>\n",
       "      <td>335</td>\n",
       "      <td>1112</td>\n",
       "      <td>19170</td>\n",
       "      <td>31767</td>\n",
       "      <td>141971</td>\n",
       "      <td>16606</td>\n",
       "      <td>117931</td>\n",
       "      <td>7434</td>\n",
       "    </tr>\n",
       "    <tr>\n",
       "      <th>272</th>\n",
       "      <td>Rochester</td>\n",
       "      <td>210562</td>\n",
       "      <td>2107</td>\n",
       "      <td>42</td>\n",
       "      <td>92</td>\n",
       "      <td>918</td>\n",
       "      <td>1055</td>\n",
       "      <td>10051</td>\n",
       "      <td>2587</td>\n",
       "      <td>6855</td>\n",
       "      <td>609</td>\n",
       "    </tr>\n",
       "    <tr>\n",
       "      <th>310</th>\n",
       "      <td>Syracuse</td>\n",
       "      <td>143834</td>\n",
       "      <td>1192</td>\n",
       "      <td>21</td>\n",
       "      <td>75</td>\n",
       "      <td>400</td>\n",
       "      <td>696</td>\n",
       "      <td>6473</td>\n",
       "      <td>1781</td>\n",
       "      <td>4298</td>\n",
       "      <td>394</td>\n",
       "    </tr>\n",
       "    <tr>\n",
       "      <th>346</th>\n",
       "      <td>Yonkers</td>\n",
       "      <td>199134</td>\n",
       "      <td>1036</td>\n",
       "      <td>6</td>\n",
       "      <td>25</td>\n",
       "      <td>390</td>\n",
       "      <td>615</td>\n",
       "      <td>2368</td>\n",
       "      <td>470</td>\n",
       "      <td>1662</td>\n",
       "      <td>236</td>\n",
       "    </tr>\n",
       "  </tbody>\n",
       "</table>\n",
       "</div>"
      ],
      "text/plain": [
       "             City  Population  Violent_crime  Murder  Rape_legacy  Robbery  \\\n",
       "7    Amherst Town      118296            107       1            7       31   \n",
       "35        Buffalo      258789           3249      47          145     1322   \n",
       "216      New York     8396126          52384     335         1112    19170   \n",
       "272     Rochester      210562           2107      42           92      918   \n",
       "310      Syracuse      143834           1192      21           75      400   \n",
       "346       Yonkers      199134           1036       6           25      390   \n",
       "\n",
       "     Aggravated_assault  Property_crime  Burglary  Larceny_theft  \\\n",
       "7                    68            2118       204           1882   \n",
       "35                 1735           12491      3458           8076   \n",
       "216               31767          141971     16606         117931   \n",
       "272                1055           10051      2587           6855   \n",
       "310                 696            6473      1781           4298   \n",
       "346                 615            2368       470           1662   \n",
       "\n",
       "     Motor_vehicle_theft  \n",
       "7                     32  \n",
       "35                   957  \n",
       "216                 7434  \n",
       "272                  609  \n",
       "310                  394  \n",
       "346                  236  "
      ]
     },
     "metadata": {},
     "output_type": "display_data"
    }
   ],
   "source": [
    "## From our study we see that there is an outlier when Property and crime is bigger that 10,000 or 3,000\n",
    "display(df[df['Population'] > 100000])"
   ]
  },
  {
   "cell_type": "code",
   "execution_count": 16,
   "metadata": {},
   "outputs": [
    {
     "data": {
      "text/html": [
       "<div>\n",
       "<style>\n",
       "    .dataframe thead tr:only-child th {\n",
       "        text-align: right;\n",
       "    }\n",
       "\n",
       "    .dataframe thead th {\n",
       "        text-align: left;\n",
       "    }\n",
       "\n",
       "    .dataframe tbody tr th {\n",
       "        vertical-align: top;\n",
       "    }\n",
       "</style>\n",
       "<table border=\"1\" class=\"dataframe\">\n",
       "  <thead>\n",
       "    <tr style=\"text-align: right;\">\n",
       "      <th></th>\n",
       "      <th>City</th>\n",
       "      <th>Population</th>\n",
       "      <th>Violent_crime</th>\n",
       "      <th>Murder</th>\n",
       "      <th>Rape_legacy</th>\n",
       "      <th>Robbery</th>\n",
       "      <th>Aggravated_assault</th>\n",
       "      <th>Property_crime</th>\n",
       "      <th>Burglary</th>\n",
       "      <th>Larceny_theft</th>\n",
       "      <th>Motor_vehicle_theft</th>\n",
       "    </tr>\n",
       "  </thead>\n",
       "  <tbody>\n",
       "    <tr>\n",
       "      <th>7</th>\n",
       "      <td>Amherst Town</td>\n",
       "      <td>118296</td>\n",
       "      <td>107</td>\n",
       "      <td>1</td>\n",
       "      <td>7</td>\n",
       "      <td>31</td>\n",
       "      <td>68</td>\n",
       "      <td>2118</td>\n",
       "      <td>204</td>\n",
       "      <td>1882</td>\n",
       "      <td>32</td>\n",
       "    </tr>\n",
       "    <tr>\n",
       "      <th>35</th>\n",
       "      <td>Buffalo</td>\n",
       "      <td>258789</td>\n",
       "      <td>3249</td>\n",
       "      <td>47</td>\n",
       "      <td>145</td>\n",
       "      <td>1322</td>\n",
       "      <td>1735</td>\n",
       "      <td>12491</td>\n",
       "      <td>3458</td>\n",
       "      <td>8076</td>\n",
       "      <td>957</td>\n",
       "    </tr>\n",
       "    <tr>\n",
       "      <th>272</th>\n",
       "      <td>Rochester</td>\n",
       "      <td>210562</td>\n",
       "      <td>2107</td>\n",
       "      <td>42</td>\n",
       "      <td>92</td>\n",
       "      <td>918</td>\n",
       "      <td>1055</td>\n",
       "      <td>10051</td>\n",
       "      <td>2587</td>\n",
       "      <td>6855</td>\n",
       "      <td>609</td>\n",
       "    </tr>\n",
       "    <tr>\n",
       "      <th>310</th>\n",
       "      <td>Syracuse</td>\n",
       "      <td>143834</td>\n",
       "      <td>1192</td>\n",
       "      <td>21</td>\n",
       "      <td>75</td>\n",
       "      <td>400</td>\n",
       "      <td>696</td>\n",
       "      <td>6473</td>\n",
       "      <td>1781</td>\n",
       "      <td>4298</td>\n",
       "      <td>394</td>\n",
       "    </tr>\n",
       "    <tr>\n",
       "      <th>346</th>\n",
       "      <td>Yonkers</td>\n",
       "      <td>199134</td>\n",
       "      <td>1036</td>\n",
       "      <td>6</td>\n",
       "      <td>25</td>\n",
       "      <td>390</td>\n",
       "      <td>615</td>\n",
       "      <td>2368</td>\n",
       "      <td>470</td>\n",
       "      <td>1662</td>\n",
       "      <td>236</td>\n",
       "    </tr>\n",
       "  </tbody>\n",
       "</table>\n",
       "</div>"
      ],
      "text/plain": [
       "             City  Population  Violent_crime  Murder  Rape_legacy  Robbery  \\\n",
       "7    Amherst Town      118296            107       1            7       31   \n",
       "35        Buffalo      258789           3249      47          145     1322   \n",
       "272     Rochester      210562           2107      42           92      918   \n",
       "310      Syracuse      143834           1192      21           75      400   \n",
       "346       Yonkers      199134           1036       6           25      390   \n",
       "\n",
       "     Aggravated_assault  Property_crime  Burglary  Larceny_theft  \\\n",
       "7                    68            2118       204           1882   \n",
       "35                 1735           12491      3458           8076   \n",
       "272                1055           10051      2587           6855   \n",
       "310                 696            6473      1781           4298   \n",
       "346                 615            2368       470           1662   \n",
       "\n",
       "     Motor_vehicle_theft  \n",
       "7                     32  \n",
       "35                   957  \n",
       "272                  609  \n",
       "310                  394  \n",
       "346                  236  "
      ]
     },
     "metadata": {},
     "output_type": "display_data"
    }
   ],
   "source": [
    "## Drop the rows that seem to contain outliers for Property and crime \n",
    "#df.drop(df.index[[7,3,35,216,272,310,346]], inplace=True, axis=0)\n",
    "## Drop the rows that seem to contain outliers for Property and crime \n",
    "df.drop(df.index[[216]], inplace=True, axis=0)\n",
    "\n",
    "display(df[df['Population'] > 100000])"
   ]
  },
  {
   "cell_type": "markdown",
   "metadata": {},
   "source": [
    "We will just remove New York City, because it is a highly populated city and thus create the outlier inn our data."
   ]
  },
  {
   "cell_type": "code",
   "execution_count": 17,
   "metadata": {},
   "outputs": [
    {
     "data": {
      "image/png": "[encoded data removed]",
      "text/plain": [
       "<matplotlib.figure.Figure at 0x118c41400>"
      ]
     },
     "metadata": {},
     "output_type": "display_data"
    }
   ],
   "source": [
    "# Look at the scatter plot for Population, Murder and Robbery with cleaned data \n",
    "\n",
    "plt.figure(figsize=(15, 5))\n",
    "plt.subplot(1, 3, 1)\n",
    "plt.scatter(df['Population'], df['Property_crime'], alpha=0.6)\n",
    "plt.xlabel('Population')\n",
    "plt.ylabel('Property_crime')\n",
    "\n",
    "plt.subplot(1, 3, 2)\n",
    "\n",
    "plt.scatter(df['Murder'], df['Property_crime'], alpha=0.6)\n",
    "plt.xlabel('Murder')\n",
    "\n",
    "plt.subplot(1, 3, 3)\n",
    "\n",
    "\n",
    "plt.scatter(df['Robbery'], df['Property_crime'], alpha=0.6)\n",
    "plt.xlabel('Robbery')\n",
    "\n",
    "\n",
    "plt.show()"
   ]
  },
  {
   "cell_type": "markdown",
   "metadata": {},
   "source": [
    "The scatter plots looks better.     \n",
    "We can clearly see that there is a lot of information for City with Property Crime less that 1000 and Population around 50,000.    \n",
    "For Murder and nonnegligent manslaugther most of them are in place where there is 2 or less occurences.   \n",
    "For Robbery it looks like most of them occure where there is a 50 or less occurences.  "
   ]
  },
  {
   "cell_type": "code",
   "execution_count": 18,
   "metadata": {},
   "outputs": [
    {
     "data": {
      "image/png": "[encoded data removed]",
      "text/plain": [
       "<matplotlib.figure.Figure at 0x118b13b00>"
      ]
     },
     "metadata": {},
     "output_type": "display_data"
    }
   ],
   "source": [
    "# Look at the histogram of population with clean data \n",
    "\n",
    "plt.hist(df['Population'], label = 'Population', alpha = 0.5, bins = 40)\n",
    "plt.title('Population')\n",
    "plt.legend(loc='best')\n",
    "plt.show()"
   ]
  },
  {
   "cell_type": "code",
   "execution_count": 19,
   "metadata": {},
   "outputs": [
    {
     "data": {
      "text/html": [
       "<div>\n",
       "<style>\n",
       "    .dataframe thead tr:only-child th {\n",
       "        text-align: right;\n",
       "    }\n",
       "\n",
       "    .dataframe thead th {\n",
       "        text-align: left;\n",
       "    }\n",
       "\n",
       "    .dataframe tbody tr th {\n",
       "        vertical-align: top;\n",
       "    }\n",
       "</style>\n",
       "<table border=\"1\" class=\"dataframe\">\n",
       "  <thead>\n",
       "    <tr style=\"text-align: right;\">\n",
       "      <th></th>\n",
       "      <th>City</th>\n",
       "      <th>Population</th>\n",
       "      <th>Violent_crime</th>\n",
       "      <th>Murder</th>\n",
       "      <th>Rape_legacy</th>\n",
       "      <th>Robbery</th>\n",
       "      <th>Aggravated_assault</th>\n",
       "      <th>Property_crime</th>\n",
       "      <th>Burglary</th>\n",
       "      <th>Larceny_theft</th>\n",
       "      <th>Motor_vehicle_theft</th>\n",
       "    </tr>\n",
       "  </thead>\n",
       "  <tbody>\n",
       "    <tr>\n",
       "      <th>0</th>\n",
       "      <td>Adams Village</td>\n",
       "      <td>1861</td>\n",
       "      <td>0</td>\n",
       "      <td>0</td>\n",
       "      <td>0</td>\n",
       "      <td>0</td>\n",
       "      <td>0</td>\n",
       "      <td>12</td>\n",
       "      <td>2</td>\n",
       "      <td>10</td>\n",
       "      <td>0</td>\n",
       "    </tr>\n",
       "    <tr>\n",
       "      <th>1</th>\n",
       "      <td>Addison Town and Village</td>\n",
       "      <td>2577</td>\n",
       "      <td>3</td>\n",
       "      <td>0</td>\n",
       "      <td>0</td>\n",
       "      <td>0</td>\n",
       "      <td>3</td>\n",
       "      <td>24</td>\n",
       "      <td>3</td>\n",
       "      <td>20</td>\n",
       "      <td>1</td>\n",
       "    </tr>\n",
       "    <tr>\n",
       "      <th>2</th>\n",
       "      <td>Akron Village</td>\n",
       "      <td>2846</td>\n",
       "      <td>3</td>\n",
       "      <td>0</td>\n",
       "      <td>0</td>\n",
       "      <td>0</td>\n",
       "      <td>3</td>\n",
       "      <td>16</td>\n",
       "      <td>1</td>\n",
       "      <td>15</td>\n",
       "      <td>0</td>\n",
       "    </tr>\n",
       "    <tr>\n",
       "      <th>3</th>\n",
       "      <td>Albany</td>\n",
       "      <td>97956</td>\n",
       "      <td>791</td>\n",
       "      <td>8</td>\n",
       "      <td>30</td>\n",
       "      <td>227</td>\n",
       "      <td>526</td>\n",
       "      <td>4090</td>\n",
       "      <td>705</td>\n",
       "      <td>3243</td>\n",
       "      <td>142</td>\n",
       "    </tr>\n",
       "    <tr>\n",
       "      <th>4</th>\n",
       "      <td>Albion Village</td>\n",
       "      <td>6388</td>\n",
       "      <td>23</td>\n",
       "      <td>0</td>\n",
       "      <td>3</td>\n",
       "      <td>4</td>\n",
       "      <td>16</td>\n",
       "      <td>223</td>\n",
       "      <td>53</td>\n",
       "      <td>165</td>\n",
       "      <td>5</td>\n",
       "    </tr>\n",
       "  </tbody>\n",
       "</table>\n",
       "</div>"
      ],
      "text/plain": [
       "                       City  Population  Violent_crime  Murder  Rape_legacy  \\\n",
       "0             Adams Village        1861              0       0            0   \n",
       "1  Addison Town and Village        2577              3       0            0   \n",
       "2             Akron Village        2846              3       0            0   \n",
       "3                    Albany       97956            791       8           30   \n",
       "4            Albion Village        6388             23       0            3   \n",
       "\n",
       "   Robbery  Aggravated_assault  Property_crime  Burglary  Larceny_theft  \\\n",
       "0        0                   0              12         2             10   \n",
       "1        0                   3              24         3             20   \n",
       "2        0                   3              16         1             15   \n",
       "3      227                 526            4090       705           3243   \n",
       "4        4                  16             223        53            165   \n",
       "\n",
       "   Motor_vehicle_theft  \n",
       "0                    0  \n",
       "1                    1  \n",
       "2                    0  \n",
       "3                  142  \n",
       "4                    5  "
      ]
     },
     "metadata": {},
     "output_type": "display_data"
    }
   ],
   "source": [
    "# Making dummies.\n",
    "# Also creating a data frame to hold our features.\n",
    "features_13 = df\n",
    "display(features_13.head())"
   ]
  },
  {
   "cell_type": "code",
   "execution_count": 20,
   "metadata": {
    "collapsed": true
   },
   "outputs": [],
   "source": [
    "### Create the new feature, (Population)^2\n",
    "features_13['Population_sqrd'] = df['Population'] **2\n",
    "#where values greater than 0 are coded 1, and values equal to 0 are coded 0.\n",
    "\n",
    "features_13['Robbery_cat'] = np.where(df['Robbery']>0, 1, 0)\n",
    "features_13['Murder_cat'] = np.where(df['Murder']>0, 1, 0)\n"
   ]
  },
  {
   "cell_type": "code",
   "execution_count": 21,
   "metadata": {},
   "outputs": [
    {
     "data": {
      "text/html": [
       "<div>\n",
       "<style>\n",
       "    .dataframe thead tr:only-child th {\n",
       "        text-align: right;\n",
       "    }\n",
       "\n",
       "    .dataframe thead th {\n",
       "        text-align: left;\n",
       "    }\n",
       "\n",
       "    .dataframe tbody tr th {\n",
       "        vertical-align: top;\n",
       "    }\n",
       "</style>\n",
       "<table border=\"1\" class=\"dataframe\">\n",
       "  <thead>\n",
       "    <tr style=\"text-align: right;\">\n",
       "      <th></th>\n",
       "      <th>City</th>\n",
       "      <th>Property_crime</th>\n",
       "      <th>Population</th>\n",
       "      <th>Population_sqrd</th>\n",
       "      <th>Murder</th>\n",
       "      <th>Murder_cat</th>\n",
       "      <th>Robbery</th>\n",
       "      <th>Robbery_cat</th>\n",
       "    </tr>\n",
       "  </thead>\n",
       "  <tbody>\n",
       "    <tr>\n",
       "      <th>0</th>\n",
       "      <td>Adams Village</td>\n",
       "      <td>12</td>\n",
       "      <td>1861</td>\n",
       "      <td>3463321</td>\n",
       "      <td>0</td>\n",
       "      <td>0</td>\n",
       "      <td>0</td>\n",
       "      <td>0</td>\n",
       "    </tr>\n",
       "    <tr>\n",
       "      <th>1</th>\n",
       "      <td>Addison Town and Village</td>\n",
       "      <td>24</td>\n",
       "      <td>2577</td>\n",
       "      <td>6640929</td>\n",
       "      <td>0</td>\n",
       "      <td>0</td>\n",
       "      <td>0</td>\n",
       "      <td>0</td>\n",
       "    </tr>\n",
       "    <tr>\n",
       "      <th>2</th>\n",
       "      <td>Akron Village</td>\n",
       "      <td>16</td>\n",
       "      <td>2846</td>\n",
       "      <td>8099716</td>\n",
       "      <td>0</td>\n",
       "      <td>0</td>\n",
       "      <td>0</td>\n",
       "      <td>0</td>\n",
       "    </tr>\n",
       "    <tr>\n",
       "      <th>3</th>\n",
       "      <td>Albany</td>\n",
       "      <td>4090</td>\n",
       "      <td>97956</td>\n",
       "      <td>9595377936</td>\n",
       "      <td>8</td>\n",
       "      <td>1</td>\n",
       "      <td>227</td>\n",
       "      <td>1</td>\n",
       "    </tr>\n",
       "    <tr>\n",
       "      <th>4</th>\n",
       "      <td>Albion Village</td>\n",
       "      <td>223</td>\n",
       "      <td>6388</td>\n",
       "      <td>40806544</td>\n",
       "      <td>0</td>\n",
       "      <td>0</td>\n",
       "      <td>4</td>\n",
       "      <td>1</td>\n",
       "    </tr>\n",
       "  </tbody>\n",
       "</table>\n",
       "</div>"
      ],
      "text/plain": [
       "                       City  Property_crime  Population  Population_sqrd  \\\n",
       "0             Adams Village              12        1861          3463321   \n",
       "1  Addison Town and Village              24        2577          6640929   \n",
       "2             Akron Village              16        2846          8099716   \n",
       "3                    Albany            4090       97956       9595377936   \n",
       "4            Albion Village             223        6388         40806544   \n",
       "\n",
       "   Murder  Murder_cat  Robbery  Robbery_cat  \n",
       "0       0           0        0            0  \n",
       "1       0           0        0            0  \n",
       "2       0           0        0            0  \n",
       "3       8           1      227            1  \n",
       "4       0           0        4            1  "
      ]
     },
     "metadata": {},
     "output_type": "display_data"
    },
    {
     "name": "stdout",
     "output_type": "stream",
     "text": [
      "\n",
      "Coefficients: \n",
      " [  1.31329923e-02   1.14179192e-07   1.90100476e+02   9.34195483e+01]\n",
      "\n",
      "Intercept: \n",
      " -17.5788971595\n",
      "\n",
      "R-squared:\n",
      "0.844869713518\n"
     ]
    }
   ],
   "source": [
    "df_f = features_13[['City', 'Property_crime','Population', 'Population_sqrd','Murder',\n",
    "                 'Murder_cat','Robbery','Robbery_cat']]\n",
    "\n",
    "display(df_f.head())\n",
    "\n",
    "\n",
    "# Instantiate and fit our model.\n",
    "regr = linear_model.LinearRegression()\n",
    "Y = df_f['Property_crime']\n",
    "X = df_f[['Population', 'Population_sqrd','Murder_cat','Robbery_cat']]\n",
    "regr.fit(X, Y)\n",
    "\n",
    "# Inspect the results.\n",
    "print('\\nCoefficients: \\n', regr.coef_)\n",
    "print('\\nIntercept: \\n', regr.intercept_)\n",
    "print('\\nR-squared:')\n",
    "print(regr.score(X, Y))"
   ]
  },
  {
   "cell_type": "markdown",
   "metadata": {},
   "source": [
    "The R squared value is good. It is not too high meaning that the model is not overfitting.  \n",
    "As for the coefficients, the coefficient for population squared is very small, which means this can be removed when performing the linear regression.   "
   ]
  },
  {
   "cell_type": "markdown",
   "metadata": {},
   "source": [
    "## Verify Assumptions"
   ]
  },
  {
   "cell_type": "markdown",
   "metadata": {},
   "source": [
    "1- linear relationship"
   ]
  },
  {
   "cell_type": "code",
   "execution_count": 22,
   "metadata": {},
   "outputs": [
    {
     "data": {
      "text/plain": [
       "<seaborn.axisgrid.JointGrid at 0x118b457b8>"
      ]
     },
     "execution_count": 22,
     "metadata": {},
     "output_type": "execute_result"
    },
    {
     "data": {
      "image/png": "[encoded data removed]",
      "text/plain": [
       "<matplotlib.figure.Figure at 0x118fbd748>"
      ]
     },
     "metadata": {},
     "output_type": "display_data"
    }
   ],
   "source": [
    "sns.jointplot(X['Robbery_cat'], Y, kind=\"kde\", stat_func=kendalltau, color=\"#4CB391\")"
   ]
  },
  {
   "cell_type": "code",
   "execution_count": 23,
   "metadata": {},
   "outputs": [
    {
     "data": {
      "image/png": "[encoded data removed]",
      "text/plain": [
       "<matplotlib.figure.Figure at 0x118dfd710>"
      ]
     },
     "metadata": {},
     "output_type": "display_data"
    }
   ],
   "source": [
    "\n",
    "\n",
    "# Plot the data as-is.\n",
    "plt.figure(figsize=(15, 10))\n",
    "plt.subplot(2, 2, 1)\n",
    "plt.scatter(X['Population'],Y)\n",
    "plt.title('Raw values for Population ')\n",
    "\n",
    "plt.subplot(2, 2, 2)\n",
    "plt.scatter(X['Population_sqrd'], Y)\n",
    "plt.title('Raw values for Population squared ')\n",
    "\n",
    "plt.subplot(2, 2, 3)\n",
    "plt.scatter(X['Murder_cat'], Y)\n",
    "plt.title('Raw values for Murder as a category ')\n",
    "plt.subplot(2, 2, 4)\n",
    "\n",
    "\n",
    "plt.scatter(X['Robbery_cat'], Y)\n",
    "plt.title('Raw values for Robbery as a category ')\n",
    "plt.show()"
   ]
  },
  {
   "cell_type": "markdown",
   "metadata": {},
   "source": [
    "We see a clear linear relationship between Population, Murder, Robbery and the outcome Property and crime.     \n",
    "While the relation between Population_sqrd and Property and crime is not linear.    "
   ]
  },
  {
   "cell_type": "markdown",
   "metadata": {},
   "source": [
    "2- multivariate normality"
   ]
  },
  {
   "cell_type": "code",
   "execution_count": 24,
   "metadata": {},
   "outputs": [
    {
     "data": {
      "image/png": "[encoded data removed]",
      "text/plain": [
       "<matplotlib.figure.Figure at 0x118dd3e80>"
      ]
     },
     "metadata": {},
     "output_type": "display_data"
    }
   ],
   "source": [
    "# Extract predicted values.\n",
    "predicted = regr.predict(X).ravel()\n",
    "actual = df_f['Property_crime']\n",
    "\n",
    "# Calculate the error, also called the residual.\n",
    "residual = actual - predicted\n",
    "\n",
    "\n",
    "plt.hist(residual, bins = 100)\n",
    "plt.title('Residual counts')\n",
    "plt.xlabel('Residual')\n",
    "plt.ylabel('Count')\n",
    "plt.show()"
   ]
  },
  {
   "cell_type": "code",
   "execution_count": null,
   "metadata": {
    "collapsed": true
   },
   "outputs": [],
   "source": []
  },
  {
   "cell_type": "code",
   "execution_count": 25,
   "metadata": {},
   "outputs": [
    {
     "data": {
      "text/html": [
       "<div>\n",
       "<style>\n",
       "    .dataframe thead tr:only-child th {\n",
       "        text-align: right;\n",
       "    }\n",
       "\n",
       "    .dataframe thead th {\n",
       "        text-align: left;\n",
       "    }\n",
       "\n",
       "    .dataframe tbody tr th {\n",
       "        vertical-align: top;\n",
       "    }\n",
       "</style>\n",
       "<table border=\"1\" class=\"dataframe\">\n",
       "  <thead>\n",
       "    <tr style=\"text-align: right;\">\n",
       "      <th></th>\n",
       "      <th>City</th>\n",
       "      <th>Property_crime</th>\n",
       "      <th>Population</th>\n",
       "      <th>Population_sqrd</th>\n",
       "      <th>Murder</th>\n",
       "      <th>Murder_cat</th>\n",
       "      <th>Robbery</th>\n",
       "      <th>Robbery_cat</th>\n",
       "    </tr>\n",
       "  </thead>\n",
       "  <tbody>\n",
       "    <tr>\n",
       "      <th>186</th>\n",
       "      <td>Manchester Village</td>\n",
       "      <td>0</td>\n",
       "      <td>1688</td>\n",
       "      <td>2849344</td>\n",
       "      <td>0</td>\n",
       "      <td>0</td>\n",
       "      <td>0</td>\n",
       "      <td>0</td>\n",
       "    </tr>\n",
       "    <tr>\n",
       "      <th>208</th>\n",
       "      <td>New Berlin Town</td>\n",
       "      <td>0</td>\n",
       "      <td>1622</td>\n",
       "      <td>2630884</td>\n",
       "      <td>0</td>\n",
       "      <td>0</td>\n",
       "      <td>0</td>\n",
       "      <td>0</td>\n",
       "    </tr>\n",
       "    <tr>\n",
       "      <th>256</th>\n",
       "      <td>Port Byron Village</td>\n",
       "      <td>0</td>\n",
       "      <td>1274</td>\n",
       "      <td>1623076</td>\n",
       "      <td>0</td>\n",
       "      <td>0</td>\n",
       "      <td>0</td>\n",
       "      <td>0</td>\n",
       "    </tr>\n",
       "    <tr>\n",
       "      <th>287</th>\n",
       "      <td>Schoharie Village</td>\n",
       "      <td>0</td>\n",
       "      <td>872</td>\n",
       "      <td>760384</td>\n",
       "      <td>0</td>\n",
       "      <td>0</td>\n",
       "      <td>0</td>\n",
       "      <td>0</td>\n",
       "    </tr>\n",
       "    <tr>\n",
       "      <th>295</th>\n",
       "      <td>Shortsville Village</td>\n",
       "      <td>0</td>\n",
       "      <td>1437</td>\n",
       "      <td>2064969</td>\n",
       "      <td>0</td>\n",
       "      <td>0</td>\n",
       "      <td>0</td>\n",
       "      <td>0</td>\n",
       "    </tr>\n",
       "    <tr>\n",
       "      <th>319</th>\n",
       "      <td>Tuxedo Park Village</td>\n",
       "      <td>0</td>\n",
       "      <td>615</td>\n",
       "      <td>378225</td>\n",
       "      <td>0</td>\n",
       "      <td>0</td>\n",
       "      <td>0</td>\n",
       "      <td>0</td>\n",
       "    </tr>\n",
       "  </tbody>\n",
       "</table>\n",
       "</div>"
      ],
      "text/plain": [
       "                    City  Property_crime  Population  Population_sqrd  Murder  \\\n",
       "186   Manchester Village               0        1688          2849344       0   \n",
       "208      New Berlin Town               0        1622          2630884       0   \n",
       "256   Port Byron Village               0        1274          1623076       0   \n",
       "287    Schoharie Village               0         872           760384       0   \n",
       "295  Shortsville Village               0        1437          2064969       0   \n",
       "319  Tuxedo Park Village               0         615           378225       0   \n",
       "\n",
       "     Murder_cat  Robbery  Robbery_cat  \n",
       "186           0        0            0  \n",
       "208           0        0            0  \n",
       "256           0        0            0  \n",
       "287           0        0            0  \n",
       "295           0        0            0  \n",
       "319           0        0            0  "
      ]
     },
     "metadata": {},
     "output_type": "display_data"
    }
   ],
   "source": [
    "# Transformation causes error. Check for zeroes in property_crime (dependent variable).\n",
    "display(df_f[df_f['Property_crime'] == 0])"
   ]
  },
  {
   "cell_type": "code",
   "execution_count": 26,
   "metadata": {
    "collapsed": true
   },
   "outputs": [],
   "source": [
    "# Drop rows with zeroes.\n",
    "df_f1 = df_f[df_f['Property_crime'] != 0]"
   ]
  },
  {
   "cell_type": "code",
   "execution_count": 27,
   "metadata": {},
   "outputs": [
    {
     "name": "stdout",
     "output_type": "stream",
     "text": [
      "\n",
      "Coefficients: \n",
      " [  5.78216223e-05  -1.77679033e-10   2.19977450e-01   1.35598728e+00]\n",
      "\n",
      "Intercept: \n",
      " 3.14982706241\n",
      "\n",
      "R-squared:\n",
      "0.727347998784\n"
     ]
    }
   ],
   "source": [
    "# Rerun the model with log transformation on the dependent variable since removed outlier\n",
    "\n",
    "Y1 = np.log(df_f1['Property_crime'])\n",
    "X1 = df_f1[['Population', 'Population_sqrd','Murder_cat','Robbery_cat']]\n",
    "regr.fit(X1, Y1)\n",
    "\n",
    "# Inspect the results.\n",
    "print('\\nCoefficients: \\n', regr.coef_)\n",
    "print('\\nIntercept: \\n', regr.intercept_)\n",
    "print('\\nR-squared:')\n",
    "print(regr.score(X1, Y1))"
   ]
  },
  {
   "cell_type": "markdown",
   "metadata": {},
   "source": [
    "R squared is not bad but 0.81 is better.       \n",
    "And it makes sense that the coefficients of Population squared and Population got much smaller.     \n",
    "So the log transformation is not improving our linear regression.     "
   ]
  },
  {
   "cell_type": "code",
   "execution_count": 28,
   "metadata": {},
   "outputs": [
    {
     "data": {
      "image/png": "[encoded data removed]",
      "text/plain": [
       "<matplotlib.figure.Figure at 0x118f91a90>"
      ]
     },
     "metadata": {},
     "output_type": "display_data"
    }
   ],
   "source": [
    "# Verify residual distribution.\n",
    "\n",
    "# Extract predicted values.\n",
    "predicted1 = regr.predict(X1)\n",
    "actual1 = Y1\n",
    "# Calculate the error, also called the residual.\n",
    "residual1 = actual1 - predicted1\n",
    "\n",
    "plt.hist(residual1, bins = 100)\n",
    "plt.title('Residual counts')\n",
    "plt.xlabel('Residual')\n",
    "plt.ylabel('Count')\n",
    "plt.show()"
   ]
  },
  {
   "cell_type": "markdown",
   "metadata": {},
   "source": [
    "3- homoscedasticity"
   ]
  },
  {
   "cell_type": "code",
   "execution_count": 29,
   "metadata": {},
   "outputs": [
    {
     "data": {
      "image/png": "[encoded data removed]",
      "text/plain": [
       "<matplotlib.figure.Figure at 0x118ca97f0>"
      ]
     },
     "metadata": {},
     "output_type": "display_data"
    }
   ],
   "source": [
    "plt.scatter(predicted, residual, alpha=0.6 )\n",
    "plt.xlabel('Predicted')\n",
    "plt.ylabel('Residual')\n",
    "plt.axhline(y=0)\n",
    "plt.title('Residual vs. Predicted')\n",
    "plt.show()"
   ]
  },
  {
   "cell_type": "markdown",
   "metadata": {},
   "source": [
    "Here we can't really see the error between the residual and the predicted.   \n",
    "\n",
    "The general scatter is lower but we have a different amount of error is higher as the Property crime value get higher."
   ]
  },
  {
   "cell_type": "code",
   "execution_count": 30,
   "metadata": {},
   "outputs": [
    {
     "data": {
      "image/png": "[encoded data removed]",
      "text/plain": [
       "<matplotlib.figure.Figure at 0x11906b4e0>"
      ]
     },
     "metadata": {},
     "output_type": "display_data"
    }
   ],
   "source": [
    "# Log transformation with outliers removed.\n",
    "\n",
    "plt.scatter(predicted1, residual1, alpha=0.6)\n",
    "plt.xlabel('Predicted')\n",
    "plt.ylabel('Residual')\n",
    "plt.axhline(y=0)\n",
    "plt.title('Residual vs. Predicted with Log Transformation')\n",
    "plt.show()"
   ]
  },
  {
   "cell_type": "markdown",
   "metadata": {},
   "source": [
    "We have more error. The error is regular by what outcome value we have  gets higher. "
   ]
  },
  {
   "cell_type": "code",
   "execution_count": 31,
   "metadata": {
    "scrolled": true
   },
   "outputs": [
    {
     "name": "stderr",
     "output_type": "stream",
     "text": [
      "/anaconda/lib/python3.6/site-packages/ipykernel_launcher.py:6: SettingWithCopyWarning: \n",
      "A value is trying to be set on a copy of a slice from a DataFrame.\n",
      "Try using .loc[row_indexer,col_indexer] = value instead\n",
      "\n",
      "See the caveats in the documentation: http://pandas.pydata.org/pandas-docs/stable/indexing.html#indexing-view-versus-copy\n",
      "  \n"
     ]
    }
   ],
   "source": [
    "#X_f = X[['Population', 'Population_sqrd','Murder_cat','Robbery_cat']]\n",
    "#X_f = [[X, Y]]\n",
    "#type(X_f)\n",
    "#display(Y)\n",
    "\n",
    "X['Property_crime'] = Y \n"
   ]
  },
  {
   "cell_type": "markdown",
   "metadata": {},
   "source": [
    "4-  low multicollinearity"
   ]
  },
  {
   "cell_type": "code",
   "execution_count": 32,
   "metadata": {},
   "outputs": [
    {
     "data": {
      "text/plain": [
       "<matplotlib.axes._subplots.AxesSubplot at 0x118b2e898>"
      ]
     },
     "execution_count": 32,
     "metadata": {},
     "output_type": "execute_result"
    },
    {
     "data": {
      "image/png": "[encoded data removed]",
      "text/plain": [
       "<matplotlib.figure.Figure at 0x1152f5d68>"
      ]
     },
     "metadata": {},
     "output_type": "display_data"
    }
   ],
   "source": [
    "\n",
    "correlation_matrix = X.corr()\n",
    "sns.heatmap(correlation_matrix, vmax=.8, square=True, linecolor='black', linewidths=1, annot=True)"
   ]
  },
  {
   "cell_type": "markdown",
   "metadata": {},
   "source": [
    "Looking at this correlation matrix,      \n",
    "we see that the correlation between Population and Population_sqrd is 0.89. This makes sense since the two feaures are related.      \n",
    "\n",
    "The correlation between Population and Murder_cat is 0.5      \n",
    "The correlation between Population and Robbery_cat is 0.34   \n",
    "\n",
    "The correlation between Population_sqrd and Murder_cat is 0.35.      \n",
    "The correlation between Population_sqrd and Robbery_cat is 0.15.     \n",
    "\n",
    "The correlation between Population and Property crime is 0.89.      \n",
    "The correlation between Population_sqrd and Property crime is 0.89.   \n",
    "The correlation between Murder_cat and and Property crime is 0.44.          \n",
    "The correlation between Robbery_cat and Property crime is 0.27. \n",
    "\n",
    "\n",
    "From this we can conclude that the features of importance are Population, Population_sqrd and Murder_cat.   "
   ]
  },
  {
   "cell_type": "code",
   "execution_count": 33,
   "metadata": {},
   "outputs": [
    {
     "name": "stderr",
     "output_type": "stream",
     "text": [
      "/anaconda/lib/python3.6/site-packages/ipykernel_launcher.py:2: SettingWithCopyWarning: \n",
      "A value is trying to be set on a copy of a slice from a DataFrame.\n",
      "Try using .loc[row_indexer,col_indexer] = value instead\n",
      "\n",
      "See the caveats in the documentation: http://pandas.pydata.org/pandas-docs/stable/indexing.html#indexing-view-versus-copy\n",
      "  \n"
     ]
    }
   ],
   "source": [
    "\n",
    "X1['Property_crime'] = Y1 \n"
   ]
  },
  {
   "cell_type": "code",
   "execution_count": 34,
   "metadata": {},
   "outputs": [
    {
     "data": {
      "text/plain": [
       "<matplotlib.axes._subplots.AxesSubplot at 0x1186f25c0>"
      ]
     },
     "execution_count": 34,
     "metadata": {},
     "output_type": "execute_result"
    },
    {
     "data": {
      "image/png": "[encoded data removed]",
      "text/plain": [
       "<matplotlib.figure.Figure at 0x11900ab38>"
      ]
     },
     "metadata": {},
     "output_type": "display_data"
    }
   ],
   "source": [
    "correlation_matrix1 = X1.corr()\n",
    "sns.heatmap(correlation_matrix1,vmax=.8, square=True, linecolor='black', linewidths=1, annot=True)"
   ]
  },
  {
   "cell_type": "markdown",
   "metadata": {
    "collapsed": true
   },
   "source": [
    "Looking at this correlation matrix,      \n",
    "we see that the correlation between Population and Population_sqrd is 0.89. This makes sense since the two feaures are related.      \n",
    "\n",
    "The correlation between Population and Murder_cat is 0.5      \n",
    "The correlation between Population and Robbery_cat is 0.34   \n",
    "\n",
    "The correlation between Population_sqrd and Murder_cat is 0.31.      \n",
    "The correlation between Population_sqrd and Robbery_cat is 0.15  \n",
    "\n",
    "\n",
    "The correlation between Population and Property crime is 0.65.      \n",
    "The correlation between Population_sqrd and Property crime is 0.39.   \n",
    "The correlation between Murder_cat and and Property crime is 0.48.          \n",
    "The correlation between Robbery_cat and Property crime is 0.68. \n",
    "\n",
    "\n",
    "From this we can conclude that the features of importance are Population, Robbery_cat and Murder_cat."
   ]
  },
  {
   "cell_type": "markdown",
   "metadata": {
    "collapsed": true
   },
   "source": [
    "## Evaluating Linear Regression"
   ]
  },
  {
   "cell_type": "code",
   "execution_count": null,
   "metadata": {
    "collapsed": true
   },
   "outputs": [],
   "source": [
    "\n"
   ]
  },
  {
   "cell_type": "code",
   "execution_count": 35,
   "metadata": {},
   "outputs": [
    {
     "data": {
      "text/html": [
       "<table class=\"simpletable\">\n",
       "<caption>OLS Regression Results</caption>\n",
       "<tr>\n",
       "  <th>Dep. Variable:</th>     <td>Property_crime</td>  <th>  R-squared:         </th> <td>   0.845</td> \n",
       "</tr>\n",
       "<tr>\n",
       "  <th>Model:</th>                   <td>OLS</td>       <th>  Adj. R-squared:    </th> <td>   0.843</td> \n",
       "</tr>\n",
       "<tr>\n",
       "  <th>Method:</th>             <td>Least Squares</td>  <th>  F-statistic:       </th> <td>   464.3</td> \n",
       "</tr>\n",
       "<tr>\n",
       "  <th>Date:</th>             <td>Fri, 23 Mar 2018</td> <th>  Prob (F-statistic):</th> <td>1.50e-136</td>\n",
       "</tr>\n",
       "<tr>\n",
       "  <th>Time:</th>                 <td>19:04:35</td>     <th>  Log-Likelihood:    </th> <td> -2570.3</td> \n",
       "</tr>\n",
       "<tr>\n",
       "  <th>No. Observations:</th>      <td>   346</td>      <th>  AIC:               </th> <td>   5151.</td> \n",
       "</tr>\n",
       "<tr>\n",
       "  <th>Df Residuals:</th>          <td>   341</td>      <th>  BIC:               </th> <td>   5170.</td> \n",
       "</tr>\n",
       "<tr>\n",
       "  <th>Df Model:</th>              <td>     4</td>      <th>                     </th>     <td> </td>    \n",
       "</tr>\n",
       "<tr>\n",
       "  <th>Covariance Type:</th>      <td>nonrobust</td>    <th>                     </th>     <td> </td>    \n",
       "</tr>\n",
       "</table>\n",
       "<table class=\"simpletable\">\n",
       "<tr>\n",
       "         <td></td>            <th>coef</th>     <th>std err</th>      <th>t</th>      <th>P>|t|</th>  <th>[0.025</th>    <th>0.975]</th>  \n",
       "</tr>\n",
       "<tr>\n",
       "  <th>Intercept</th>       <td>  -17.5789</td> <td>   36.038</td> <td>   -0.488</td> <td> 0.626</td> <td>  -88.463</td> <td>   53.306</td>\n",
       "</tr>\n",
       "<tr>\n",
       "  <th>Population</th>      <td>    0.0131</td> <td>    0.002</td> <td>    6.032</td> <td> 0.000</td> <td>    0.009</td> <td>    0.017</td>\n",
       "</tr>\n",
       "<tr>\n",
       "  <th>Population_sqrd</th> <td> 1.142e-07</td> <td> 1.04e-08</td> <td>   10.946</td> <td> 0.000</td> <td> 9.37e-08</td> <td> 1.35e-07</td>\n",
       "</tr>\n",
       "<tr>\n",
       "  <th>Murder_cat</th>      <td>  190.1005</td> <td>   76.853</td> <td>    2.474</td> <td> 0.014</td> <td>   38.935</td> <td>  341.266</td>\n",
       "</tr>\n",
       "<tr>\n",
       "  <th>Robbery_cat</th>     <td>   93.4195</td> <td>   51.457</td> <td>    1.815</td> <td> 0.070</td> <td>   -7.794</td> <td>  194.633</td>\n",
       "</tr>\n",
       "</table>\n",
       "<table class=\"simpletable\">\n",
       "<tr>\n",
       "  <th>Omnibus:</th>       <td>394.547</td> <th>  Durbin-Watson:     </th> <td>   1.568</td> \n",
       "</tr>\n",
       "<tr>\n",
       "  <th>Prob(Omnibus):</th> <td> 0.000</td>  <th>  Jarque-Bera (JB):  </th> <td>74221.763</td>\n",
       "</tr>\n",
       "<tr>\n",
       "  <th>Skew:</th>          <td>-4.513</td>  <th>  Prob(JB):          </th> <td>    0.00</td> \n",
       "</tr>\n",
       "<tr>\n",
       "  <th>Kurtosis:</th>      <td>74.182</td>  <th>  Cond. No.          </th> <td>1.81e+10</td> \n",
       "</tr>\n",
       "</table>"
      ],
      "text/plain": [
       "<class 'statsmodels.iolib.summary.Summary'>\n",
       "\"\"\"\n",
       "                            OLS Regression Results                            \n",
       "==============================================================================\n",
       "Dep. Variable:         Property_crime   R-squared:                       0.845\n",
       "Model:                            OLS   Adj. R-squared:                  0.843\n",
       "Method:                 Least Squares   F-statistic:                     464.3\n",
       "Date:                Fri, 23 Mar 2018   Prob (F-statistic):          1.50e-136\n",
       "Time:                        19:04:35   Log-Likelihood:                -2570.3\n",
       "No. Observations:                 346   AIC:                             5151.\n",
       "Df Residuals:                     341   BIC:                             5170.\n",
       "Df Model:                           4                                         \n",
       "Covariance Type:            nonrobust                                         \n",
       "===================================================================================\n",
       "                      coef    std err          t      P>|t|      [0.025      0.975]\n",
       "-----------------------------------------------------------------------------------\n",
       "Intercept         -17.5789     36.038     -0.488      0.626     -88.463      53.306\n",
       "Population          0.0131      0.002      6.032      0.000       0.009       0.017\n",
       "Population_sqrd  1.142e-07   1.04e-08     10.946      0.000    9.37e-08    1.35e-07\n",
       "Murder_cat        190.1005     76.853      2.474      0.014      38.935     341.266\n",
       "Robbery_cat        93.4195     51.457      1.815      0.070      -7.794     194.633\n",
       "==============================================================================\n",
       "Omnibus:                      394.547   Durbin-Watson:                   1.568\n",
       "Prob(Omnibus):                  0.000   Jarque-Bera (JB):            74221.763\n",
       "Skew:                          -4.513   Prob(JB):                         0.00\n",
       "Kurtosis:                      74.182   Cond. No.                     1.81e+10\n",
       "==============================================================================\n",
       "\n",
       "Warnings:\n",
       "[1] Standard Errors assume that the covariance matrix of the errors is correctly specified.\n",
       "[2] The condition number is large, 1.81e+10. This might indicate that there are\n",
       "strong multicollinearity or other numerical problems.\n",
       "\"\"\""
      ]
     },
     "metadata": {},
     "output_type": "display_data"
    }
   ],
   "source": [
    "# Write out the model formula.\n",
    "# Your dependent variable on the right, independent variables on the left\n",
    "# Use a ~ to represent an '=' from the functional form\n",
    "linear_formula = 'Property_crime ~ Population+Population_sqrd+Murder_cat+Robbery_cat'\n",
    "\n",
    "# Fit the model to our data using the formula.\n",
    "lm_13 = smf.ols(formula=linear_formula, data=features_13).fit()\n",
    "\n",
    "# Print the summary table.\n",
    "display(lm_13.summary())"
   ]
  },
  {
   "cell_type": "code",
   "execution_count": 36,
   "metadata": {},
   "outputs": [
    {
     "data": {
      "text/plain": [
       "Intercept         -1.757890e+01\n",
       "Population         1.313299e-02\n",
       "Population_sqrd    1.141792e-07\n",
       "Murder_cat         1.901005e+02\n",
       "Robbery_cat        9.341955e+01\n",
       "dtype: float64"
      ]
     },
     "execution_count": 36,
     "metadata": {},
     "output_type": "execute_result"
    }
   ],
   "source": [
    "lm_13.params"
   ]
  },
  {
   "cell_type": "code",
   "execution_count": 37,
   "metadata": {},
   "outputs": [
    {
     "data": {
      "text/plain": [
       "Intercept          6.260121e-01\n",
       "Population         4.210589e-09\n",
       "Population_sqrd    4.256835e-24\n",
       "Murder_cat         1.386373e-02\n",
       "Robbery_cat        7.032791e-02\n",
       "dtype: float64"
      ]
     },
     "execution_count": 37,
     "metadata": {},
     "output_type": "execute_result"
    }
   ],
   "source": [
    "lm_13.pvalues"
   ]
  },
  {
   "cell_type": "code",
   "execution_count": 38,
   "metadata": {},
   "outputs": [
    {
     "data": {
      "text/plain": [
       "0.84486971351755302"
      ]
     },
     "execution_count": 38,
     "metadata": {},
     "output_type": "execute_result"
    }
   ],
   "source": [
    "lm_13.rsquared"
   ]
  },
  {
   "cell_type": "markdown",
   "metadata": {},
   "source": [
    "# Confidence intervals"
   ]
  },
  {
   "cell_type": "code",
   "execution_count": 39,
   "metadata": {},
   "outputs": [
    {
     "data": {
      "text/html": [
       "<div>\n",
       "<style>\n",
       "    .dataframe thead tr:only-child th {\n",
       "        text-align: right;\n",
       "    }\n",
       "\n",
       "    .dataframe thead th {\n",
       "        text-align: left;\n",
       "    }\n",
       "\n",
       "    .dataframe tbody tr th {\n",
       "        vertical-align: top;\n",
       "    }\n",
       "</style>\n",
       "<table border=\"1\" class=\"dataframe\">\n",
       "  <thead>\n",
       "    <tr style=\"text-align: right;\">\n",
       "      <th></th>\n",
       "      <th>0</th>\n",
       "      <th>1</th>\n",
       "    </tr>\n",
       "  </thead>\n",
       "  <tbody>\n",
       "    <tr>\n",
       "      <th>Intercept</th>\n",
       "      <td>-8.846335e+01</td>\n",
       "      <td>5.330556e+01</td>\n",
       "    </tr>\n",
       "    <tr>\n",
       "      <th>Population</th>\n",
       "      <td>8.850671e-03</td>\n",
       "      <td>1.741531e-02</td>\n",
       "    </tr>\n",
       "    <tr>\n",
       "      <th>Population_sqrd</th>\n",
       "      <td>9.366092e-08</td>\n",
       "      <td>1.346975e-07</td>\n",
       "    </tr>\n",
       "    <tr>\n",
       "      <th>Murder_cat</th>\n",
       "      <td>3.893525e+01</td>\n",
       "      <td>3.412657e+02</td>\n",
       "    </tr>\n",
       "    <tr>\n",
       "      <th>Robbery_cat</th>\n",
       "      <td>-7.793791e+00</td>\n",
       "      <td>1.946329e+02</td>\n",
       "    </tr>\n",
       "  </tbody>\n",
       "</table>\n",
       "</div>"
      ],
      "text/plain": [
       "                            0             1\n",
       "Intercept       -8.846335e+01  5.330556e+01\n",
       "Population       8.850671e-03  1.741531e-02\n",
       "Population_sqrd  9.366092e-08  1.346975e-07\n",
       "Murder_cat       3.893525e+01  3.412657e+02\n",
       "Robbery_cat     -7.793791e+00  1.946329e+02"
      ]
     },
     "metadata": {},
     "output_type": "display_data"
    }
   ],
   "source": [
    "display(lm_13.conf_int())"
   ]
  },
  {
   "cell_type": "code",
   "execution_count": 40,
   "metadata": {},
   "outputs": [
    {
     "data": {
      "image/png": "[encoded data removed]",
      "text/plain": [
       "<matplotlib.figure.Figure at 0x118b85b38>"
      ]
     },
     "metadata": {},
     "output_type": "display_data"
    }
   ],
   "source": [
    "# Use wls_prediction_std to build confidence intervals\n",
    "prstd, iv_l, iv_u = wls_prediction_std(lm_13)\n",
    "\n",
    "plt.figure()\n",
    "plt.plot(iv_u[0:15], 'o', color='r')\n",
    "plt.plot(iv_l[0:15], 'o', color='r')\n",
    "plt.plot(lm_13.fittedvalues[0:15], 'o', color='b')\n",
    "plt.title('blue: predicted, red: 95% CI')\n",
    "plt.show()"
   ]
  },
  {
   "cell_type": "code",
   "execution_count": 41,
   "metadata": {},
   "outputs": [
    {
     "data": {
      "text/plain": [
       "0.84486971351755313"
      ]
     },
     "execution_count": 41,
     "metadata": {},
     "output_type": "execute_result"
    }
   ],
   "source": [
    "# Instantiate and fit our model.\n",
    "regr = linear_model.LinearRegression()\n",
    "target = features_13['Property_crime']\n",
    "data = features_13[['Population', 'Population_sqrd','Murder_cat','Robbery_cat']]\n",
    "regr.fit(data, target).score(data, target)"
   ]
  },
  {
   "cell_type": "markdown",
   "metadata": {},
   "source": [
    "## Cross Validation "
   ]
  },
  {
   "cell_type": "code",
   "execution_count": 42,
   "metadata": {},
   "outputs": [
    {
     "data": {
      "text/plain": [
       "array([ 0.76272942,  0.93681646,  0.30994559,  0.82748174,  0.76037272,\n",
       "        0.79392819,  0.55267779,  0.90255191,  0.85024029, -1.59833033])"
      ]
     },
     "execution_count": 42,
     "metadata": {},
     "output_type": "execute_result"
    }
   ],
   "source": [
    "from sklearn.model_selection import cross_val_score\n",
    "cross_val_score(regr, data, target, cv=10)"
   ]
  },
  {
   "cell_type": "markdown",
   "metadata": {},
   "source": [
    "It is not good.    \n",
    "It is very uncertain on its own data. \n",
    "\n",
    "This may mean that we need another relationship between the features and outcomes.\n",
    "So I need to improve my model by checking the relationship between the different features and the outcome variable."
   ]
  },
  {
   "cell_type": "markdown",
   "metadata": {},
   "source": [
    "## 2014 New York Crime"
   ]
  },
  {
   "cell_type": "markdown",
   "metadata": {},
   "source": [
    "### Cleaning Data    \n",
    "\n",
    "We will also look at rows or column that are empty and remove them from our data.   \n",
    "we will look for outliers and remove them from our data.    \n",
    "Similarly as we did for the data for New York 2013"
   ]
  },
  {
   "cell_type": "code",
   "execution_count": 43,
   "metadata": {},
   "outputs": [
    {
     "data": {
      "text/html": [
       "<div>\n",
       "<style>\n",
       "    .dataframe thead tr:only-child th {\n",
       "        text-align: right;\n",
       "    }\n",
       "\n",
       "    .dataframe thead th {\n",
       "        text-align: left;\n",
       "    }\n",
       "\n",
       "    .dataframe tbody tr th {\n",
       "        vertical-align: top;\n",
       "    }\n",
       "</style>\n",
       "<table border=\"1\" class=\"dataframe\">\n",
       "  <thead>\n",
       "    <tr style=\"text-align: right;\">\n",
       "      <th></th>\n",
       "      <th>Table 8</th>\n",
       "      <th>Unnamed: 1</th>\n",
       "      <th>Unnamed: 2</th>\n",
       "      <th>Unnamed: 3</th>\n",
       "      <th>Unnamed: 4</th>\n",
       "      <th>Unnamed: 5</th>\n",
       "      <th>Unnamed: 6</th>\n",
       "      <th>Unnamed: 7</th>\n",
       "      <th>Unnamed: 8</th>\n",
       "      <th>Unnamed: 9</th>\n",
       "      <th>Unnamed: 10</th>\n",
       "      <th>Unnamed: 11</th>\n",
       "      <th>Unnamed: 12</th>\n",
       "    </tr>\n",
       "  </thead>\n",
       "  <tbody>\n",
       "    <tr>\n",
       "      <th>3</th>\n",
       "      <td>City</td>\n",
       "      <td>Population</td>\n",
       "      <td>Violent\\ncrime</td>\n",
       "      <td>Murder and\\nnonnegligent\\nmanslaughter</td>\n",
       "      <td>Rape\\n(revised\\ndefinition)1</td>\n",
       "      <td>Rape\\n(legacy\\ndefinition)2</td>\n",
       "      <td>Robbery</td>\n",
       "      <td>Aggravated\\nassault</td>\n",
       "      <td>Property\\ncrime</td>\n",
       "      <td>Burglary</td>\n",
       "      <td>Larceny-\\ntheft</td>\n",
       "      <td>Motor\\nvehicle\\ntheft</td>\n",
       "      <td>Arson3</td>\n",
       "    </tr>\n",
       "    <tr>\n",
       "      <th>4</th>\n",
       "      <td>Adams Village</td>\n",
       "      <td>1851</td>\n",
       "      <td>0</td>\n",
       "      <td>0</td>\n",
       "      <td>NaN</td>\n",
       "      <td>0</td>\n",
       "      <td>0</td>\n",
       "      <td>0</td>\n",
       "      <td>11</td>\n",
       "      <td>1</td>\n",
       "      <td>10</td>\n",
       "      <td>0</td>\n",
       "      <td>0</td>\n",
       "    </tr>\n",
       "    <tr>\n",
       "      <th>5</th>\n",
       "      <td>Addison Town and Village</td>\n",
       "      <td>2568</td>\n",
       "      <td>2</td>\n",
       "      <td>0</td>\n",
       "      <td>NaN</td>\n",
       "      <td>0</td>\n",
       "      <td>1</td>\n",
       "      <td>1</td>\n",
       "      <td>49</td>\n",
       "      <td>1</td>\n",
       "      <td>47</td>\n",
       "      <td>1</td>\n",
       "      <td>0</td>\n",
       "    </tr>\n",
       "    <tr>\n",
       "      <th>6</th>\n",
       "      <td>Afton Village4</td>\n",
       "      <td>820</td>\n",
       "      <td>0</td>\n",
       "      <td>0</td>\n",
       "      <td>0</td>\n",
       "      <td>NaN</td>\n",
       "      <td>0</td>\n",
       "      <td>0</td>\n",
       "      <td>1</td>\n",
       "      <td>0</td>\n",
       "      <td>1</td>\n",
       "      <td>0</td>\n",
       "      <td>0</td>\n",
       "    </tr>\n",
       "    <tr>\n",
       "      <th>7</th>\n",
       "      <td>Akron Village</td>\n",
       "      <td>2842</td>\n",
       "      <td>1</td>\n",
       "      <td>0</td>\n",
       "      <td>NaN</td>\n",
       "      <td>0</td>\n",
       "      <td>0</td>\n",
       "      <td>1</td>\n",
       "      <td>17</td>\n",
       "      <td>0</td>\n",
       "      <td>17</td>\n",
       "      <td>0</td>\n",
       "      <td>0</td>\n",
       "    </tr>\n",
       "  </tbody>\n",
       "</table>\n",
       "</div>"
      ],
      "text/plain": [
       "                    Table 8  Unnamed: 1      Unnamed: 2  \\\n",
       "3                      City  Population  Violent\\ncrime   \n",
       "4             Adams Village        1851               0   \n",
       "5  Addison Town and Village        2568               2   \n",
       "6            Afton Village4         820               0   \n",
       "7             Akron Village        2842               1   \n",
       "\n",
       "                               Unnamed: 3                    Unnamed: 4  \\\n",
       "3  Murder and\\nnonnegligent\\nmanslaughter  Rape\\n(revised\\ndefinition)1   \n",
       "4                                       0                           NaN   \n",
       "5                                       0                           NaN   \n",
       "6                                       0                             0   \n",
       "7                                       0                           NaN   \n",
       "\n",
       "                    Unnamed: 5 Unnamed: 6           Unnamed: 7  \\\n",
       "3  Rape\\n(legacy\\ndefinition)2    Robbery  Aggravated\\nassault   \n",
       "4                            0          0                    0   \n",
       "5                            0          1                    1   \n",
       "6                          NaN          0                    0   \n",
       "7                            0          0                    1   \n",
       "\n",
       "        Unnamed: 8 Unnamed: 9      Unnamed: 10            Unnamed: 11  \\\n",
       "3  Property\\ncrime   Burglary  Larceny-\\ntheft  Motor\\nvehicle\\ntheft   \n",
       "4               11          1               10                      0   \n",
       "5               49          1               47                      1   \n",
       "6                1          0                1                      0   \n",
       "7               17          0               17                      0   \n",
       "\n",
       "  Unnamed: 12  \n",
       "3      Arson3  \n",
       "4           0  \n",
       "5           0  \n",
       "6           0  \n",
       "7           0  "
      ]
     },
     "metadata": {},
     "output_type": "display_data"
    }
   ],
   "source": [
    "file = 'Table_8_Offenses_Known_to_Law_Enforcement_by_New_York_by_City_2014.xls'\n",
    "# Load spreadsheet\n",
    "x2 = pd.ExcelFile(file)\n",
    "# Load a sheet into a DataFrame by name: df1\n",
    "df2 = x2.parse('14tbl08ny')\n",
    "#Adjust df1 to exclude 1st 3 rows.\n",
    "df_14 = df2[3:len(df2)]\n",
    "\n",
    "display(df_14.head())"
   ]
  },
  {
   "cell_type": "code",
   "execution_count": 44,
   "metadata": {
    "collapsed": true
   },
   "outputs": [],
   "source": [
    "#grab the first row for the header set the header row as the df header\n",
    "df_14.columns = df_14.iloc[0]\n",
    "df_14 = df_14[1:]\n",
    "df_14.index = range(0,len(df_14))"
   ]
  },
  {
   "cell_type": "code",
   "execution_count": 45,
   "metadata": {},
   "outputs": [
    {
     "data": {
      "text/plain": [
       "Index(['City', 'Population', 'Violent\\ncrime',\n",
       "       'Murder and\\nnonnegligent\\nmanslaughter',\n",
       "       'Rape\\n(revised\\ndefinition)1', 'Rape\\n(legacy\\ndefinition)2',\n",
       "       'Robbery', 'Aggravated\\nassault', 'Property\\ncrime', 'Burglary',\n",
       "       'Larceny-\\ntheft', 'Motor\\nvehicle\\ntheft', 'Arson3'],\n",
       "      dtype='object', name=3)"
      ]
     },
     "execution_count": 45,
     "metadata": {},
     "output_type": "execute_result"
    }
   ],
   "source": [
    "df_14.columns"
   ]
  },
  {
   "cell_type": "code",
   "execution_count": 46,
   "metadata": {
    "collapsed": true
   },
   "outputs": [],
   "source": [
    "## Make Columns easier to read \n",
    "\n",
    "df_14.columns = [\"City\", \"Population\",\"Violent_crime\",\"Murder\",\"Rape_revised\",\"Rape_legacy\"\n",
    "                 ,\"Robbery\",\"Aggravated_assault\",\"Property_crime\",\"Burglary\",\"Larceny_theft\",\"Motor_vehicle_theft\",\"Arson3\"]"
   ]
  },
  {
   "cell_type": "code",
   "execution_count": 47,
   "metadata": {},
   "outputs": [
    {
     "data": {
      "text/html": [
       "<div>\n",
       "<style>\n",
       "    .dataframe thead tr:only-child th {\n",
       "        text-align: right;\n",
       "    }\n",
       "\n",
       "    .dataframe thead th {\n",
       "        text-align: left;\n",
       "    }\n",
       "\n",
       "    .dataframe tbody tr th {\n",
       "        vertical-align: top;\n",
       "    }\n",
       "</style>\n",
       "<table border=\"1\" class=\"dataframe\">\n",
       "  <thead>\n",
       "    <tr style=\"text-align: right;\">\n",
       "      <th></th>\n",
       "      <th>City</th>\n",
       "      <th>Population</th>\n",
       "      <th>Violent_crime</th>\n",
       "      <th>Murder</th>\n",
       "      <th>Rape_revised</th>\n",
       "      <th>Robbery</th>\n",
       "      <th>Aggravated_assault</th>\n",
       "      <th>Property_crime</th>\n",
       "      <th>Burglary</th>\n",
       "      <th>Larceny_theft</th>\n",
       "      <th>Motor_vehicle_theft</th>\n",
       "    </tr>\n",
       "  </thead>\n",
       "  <tbody>\n",
       "    <tr>\n",
       "      <th>0</th>\n",
       "      <td>Adams Village</td>\n",
       "      <td>1851</td>\n",
       "      <td>0</td>\n",
       "      <td>0</td>\n",
       "      <td>NaN</td>\n",
       "      <td>0</td>\n",
       "      <td>0</td>\n",
       "      <td>11</td>\n",
       "      <td>1</td>\n",
       "      <td>10</td>\n",
       "      <td>0</td>\n",
       "    </tr>\n",
       "    <tr>\n",
       "      <th>1</th>\n",
       "      <td>Addison Town and Village</td>\n",
       "      <td>2568</td>\n",
       "      <td>2</td>\n",
       "      <td>0</td>\n",
       "      <td>NaN</td>\n",
       "      <td>1</td>\n",
       "      <td>1</td>\n",
       "      <td>49</td>\n",
       "      <td>1</td>\n",
       "      <td>47</td>\n",
       "      <td>1</td>\n",
       "    </tr>\n",
       "    <tr>\n",
       "      <th>2</th>\n",
       "      <td>Afton Village4</td>\n",
       "      <td>820</td>\n",
       "      <td>0</td>\n",
       "      <td>0</td>\n",
       "      <td>0</td>\n",
       "      <td>0</td>\n",
       "      <td>0</td>\n",
       "      <td>1</td>\n",
       "      <td>0</td>\n",
       "      <td>1</td>\n",
       "      <td>0</td>\n",
       "    </tr>\n",
       "    <tr>\n",
       "      <th>3</th>\n",
       "      <td>Akron Village</td>\n",
       "      <td>2842</td>\n",
       "      <td>1</td>\n",
       "      <td>0</td>\n",
       "      <td>NaN</td>\n",
       "      <td>0</td>\n",
       "      <td>1</td>\n",
       "      <td>17</td>\n",
       "      <td>0</td>\n",
       "      <td>17</td>\n",
       "      <td>0</td>\n",
       "    </tr>\n",
       "    <tr>\n",
       "      <th>4</th>\n",
       "      <td>Albany4</td>\n",
       "      <td>98595</td>\n",
       "      <td>802</td>\n",
       "      <td>8</td>\n",
       "      <td>54</td>\n",
       "      <td>237</td>\n",
       "      <td>503</td>\n",
       "      <td>3888</td>\n",
       "      <td>683</td>\n",
       "      <td>3083</td>\n",
       "      <td>122</td>\n",
       "    </tr>\n",
       "  </tbody>\n",
       "</table>\n",
       "</div>"
      ],
      "text/plain": [
       "                       City Population Violent_crime Murder Rape_revised  \\\n",
       "0             Adams Village       1851             0      0          NaN   \n",
       "1  Addison Town and Village       2568             2      0          NaN   \n",
       "2            Afton Village4        820             0      0            0   \n",
       "3             Akron Village       2842             1      0          NaN   \n",
       "4                   Albany4      98595           802      8           54   \n",
       "\n",
       "  Robbery Aggravated_assault Property_crime Burglary Larceny_theft  \\\n",
       "0       0                  0             11        1            10   \n",
       "1       1                  1             49        1            47   \n",
       "2       0                  0              1        0             1   \n",
       "3       0                  1             17        0            17   \n",
       "4     237                503           3888      683          3083   \n",
       "\n",
       "  Motor_vehicle_theft  \n",
       "0                   0  \n",
       "1                   1  \n",
       "2                   0  \n",
       "3                   0  \n",
       "4                 122  "
      ]
     },
     "metadata": {},
     "output_type": "display_data"
    }
   ],
   "source": [
    "# Removing the columns with NAN\n",
    "df_14.drop(['Rape_legacy','Arson3'], inplace=True, axis=1)\n",
    "#Adjust df to exclude the last 3 rows\n",
    "# dropping the row\n",
    "df_14 = df_14.iloc[:347]\n",
    "\n",
    "display(df_14.head())"
   ]
  },
  {
   "cell_type": "code",
   "execution_count": 48,
   "metadata": {
    "collapsed": true
   },
   "outputs": [],
   "source": [
    "# convert columns to numeric.\n",
    "df_14.loc[:,'Property_crime'] = pd.to_numeric(df_14.loc[:,'Property_crime'])\n",
    "df_14.loc[:,'Population'] = pd.to_numeric(df_14.loc[:,'Population'])\n",
    "df_14.loc[:,'Violent_crime'] = pd.to_numeric(df_14.loc[:,'Violent_crime'])\n",
    "df_14.loc[:,'Murder'] = pd.to_numeric(df_14.loc[:,'Murder'])\n",
    "df_14.loc[:,'Rape_revised'] = pd.to_numeric(df_14.loc[:,'Rape_revised'])\n",
    "df_14.loc[:,'Aggravated_assault'] = pd.to_numeric(df_14.loc[:,'Aggravated_assault'])\n",
    "df_14.loc[:,'Burglary'] = pd.to_numeric(df_14.loc[:,'Burglary'])\n",
    "df_14.loc[:,'Larceny_theft'] = pd.to_numeric(df_14.loc[:,'Larceny_theft'])\n",
    "df_14.loc[:,'Motor_vehicle_theft'] = pd.to_numeric(df_14.loc[:,'Motor_vehicle_theft'])\n",
    "df_14.loc[:,'Robbery'] = pd.to_numeric(df_14.loc[:,'Robbery'])"
   ]
  },
  {
   "cell_type": "code",
   "execution_count": 49,
   "metadata": {},
   "outputs": [
    {
     "data": {
      "image/png": "[encoded data removed]",
      "text/plain": [
       "<matplotlib.figure.Figure at 0x118d31f60>"
      ]
     },
     "metadata": {},
     "output_type": "display_data"
    }
   ],
   "source": [
    "# Look at the scatter plot for Population, Murder,  Robbery, violent crime etc....\n",
    "\n",
    "\n",
    "plt.figure(figsize=(15, 15))\n",
    "plt.subplot(3, 3, 1)\n",
    "plt.scatter(df_14['Population'], df_14['Property_crime'], alpha=0.6)\n",
    "plt.xlabel('Population')\n",
    "plt.ylabel('Property_crime')\n",
    "\n",
    "plt.subplot(3, 3, 2)\n",
    "\n",
    "plt.scatter(df_14['Murder'], df_14['Property_crime'], alpha=0.6)\n",
    "plt.xlabel('Murder')\n",
    "\n",
    "plt.subplot(3, 3, 3)\n",
    "\n",
    "plt.scatter(df_14['Robbery'], df_14['Property_crime'], alpha=0.6)\n",
    "plt.xlabel('Robbery')\n",
    "\n",
    "\n",
    "plt.subplot(3, 3, 4)\n",
    "plt.scatter(df_14['Violent_crime'], df_14['Property_crime'], alpha=0.6)\n",
    "plt.xlabel('Violent_crime')\n",
    "plt.ylabel('Property_crime')\n",
    "\n",
    "plt.subplot(3, 3, 5)\n",
    "\n",
    "plt.scatter(df_14['Aggravated_assault'], df_14['Property_crime'], alpha=0.6)\n",
    "plt.xlabel('Aggravated_assault')\n",
    "\n",
    "plt.subplot(3, 3, 6)\n",
    "\n",
    "plt.scatter(df_14['Rape_revised'], df_14['Property_crime'], alpha=0.6)\n",
    "plt.xlabel('Rape_revised')\n",
    "\n",
    "\n",
    "plt.subplot(3, 3, 7)\n",
    "plt.scatter(df_14['Burglary'], df_14['Property_crime'], alpha=0.6)\n",
    "plt.xlabel('Burglary')\n",
    "plt.ylabel('Property_crime')\n",
    "\n",
    "plt.subplot(3, 3, 8)\n",
    "\n",
    "plt.scatter(df_14['Larceny_theft'], df_14['Property_crime'], alpha=0.6)\n",
    "plt.xlabel('Larceny_theft')\n",
    "\n",
    "plt.subplot(3, 3, 9)\n",
    "\n",
    "plt.scatter(df_14['Motor_vehicle_theft'], df_14['Property_crime'], alpha=0.6)\n",
    "plt.xlabel('Motor_vehicle_theft')\n",
    "\n",
    "\n",
    "plt.show()"
   ]
  },
  {
   "cell_type": "markdown",
   "metadata": {},
   "source": [
    "Looking at this scatter plot, we can see that there is a lot of outliers. \n",
    "One of them occurs where Property and crime is 140,000. So we will try to remove that and other outliers that we may see. "
   ]
  },
  {
   "cell_type": "code",
   "execution_count": 51,
   "metadata": {},
   "outputs": [
    {
     "data": {
      "text/html": [
       "<div>\n",
       "<style>\n",
       "    .dataframe thead tr:only-child th {\n",
       "        text-align: right;\n",
       "    }\n",
       "\n",
       "    .dataframe thead th {\n",
       "        text-align: left;\n",
       "    }\n",
       "\n",
       "    .dataframe tbody tr th {\n",
       "        vertical-align: top;\n",
       "    }\n",
       "</style>\n",
       "<table border=\"1\" class=\"dataframe\">\n",
       "  <thead>\n",
       "    <tr style=\"text-align: right;\">\n",
       "      <th></th>\n",
       "      <th>City</th>\n",
       "      <th>Population</th>\n",
       "      <th>Violent_crime</th>\n",
       "      <th>Murder</th>\n",
       "      <th>Rape_revised</th>\n",
       "      <th>Robbery</th>\n",
       "      <th>Aggravated_assault</th>\n",
       "      <th>Property_crime</th>\n",
       "      <th>Burglary</th>\n",
       "      <th>Larceny_theft</th>\n",
       "      <th>Motor_vehicle_theft</th>\n",
       "    </tr>\n",
       "  </thead>\n",
       "  <tbody>\n",
       "    <tr>\n",
       "      <th>4</th>\n",
       "      <td>Albany4</td>\n",
       "      <td>98595</td>\n",
       "      <td>802</td>\n",
       "      <td>8</td>\n",
       "      <td>54.0</td>\n",
       "      <td>237</td>\n",
       "      <td>503</td>\n",
       "      <td>3888</td>\n",
       "      <td>683</td>\n",
       "      <td>3083</td>\n",
       "      <td>122</td>\n",
       "    </tr>\n",
       "    <tr>\n",
       "      <th>38</th>\n",
       "      <td>Buffalo4</td>\n",
       "      <td>258419</td>\n",
       "      <td>3174</td>\n",
       "      <td>60</td>\n",
       "      <td>174.0</td>\n",
       "      <td>1277</td>\n",
       "      <td>1663</td>\n",
       "      <td>12449</td>\n",
       "      <td>3119</td>\n",
       "      <td>8362</td>\n",
       "      <td>968</td>\n",
       "    </tr>\n",
       "    <tr>\n",
       "      <th>227</th>\n",
       "      <td>New York4</td>\n",
       "      <td>8473938</td>\n",
       "      <td>50564</td>\n",
       "      <td>333</td>\n",
       "      <td>2190.0</td>\n",
       "      <td>16581</td>\n",
       "      <td>31460</td>\n",
       "      <td>135747</td>\n",
       "      <td>15916</td>\n",
       "      <td>112107</td>\n",
       "      <td>7724</td>\n",
       "    </tr>\n",
       "    <tr>\n",
       "      <th>283</th>\n",
       "      <td>Rochester4</td>\n",
       "      <td>210347</td>\n",
       "      <td>1765</td>\n",
       "      <td>27</td>\n",
       "      <td>190.0</td>\n",
       "      <td>698</td>\n",
       "      <td>850</td>\n",
       "      <td>8856</td>\n",
       "      <td>2125</td>\n",
       "      <td>6058</td>\n",
       "      <td>673</td>\n",
       "    </tr>\n",
       "    <tr>\n",
       "      <th>326</th>\n",
       "      <td>Syracuse4</td>\n",
       "      <td>144534</td>\n",
       "      <td>1164</td>\n",
       "      <td>20</td>\n",
       "      <td>70.0</td>\n",
       "      <td>406</td>\n",
       "      <td>668</td>\n",
       "      <td>5755</td>\n",
       "      <td>1404</td>\n",
       "      <td>3986</td>\n",
       "      <td>365</td>\n",
       "    </tr>\n",
       "  </tbody>\n",
       "</table>\n",
       "</div>"
      ],
      "text/plain": [
       "           City  Population  Violent_crime  Murder  Rape_revised  Robbery  \\\n",
       "4       Albany4       98595            802       8          54.0      237   \n",
       "38     Buffalo4      258419           3174      60         174.0     1277   \n",
       "227   New York4     8473938          50564     333        2190.0    16581   \n",
       "283  Rochester4      210347           1765      27         190.0      698   \n",
       "326   Syracuse4      144534           1164      20          70.0      406   \n",
       "\n",
       "     Aggravated_assault  Property_crime  Burglary  Larceny_theft  \\\n",
       "4                   503            3888       683           3083   \n",
       "38                 1663           12449      3119           8362   \n",
       "227               31460          135747     15916         112107   \n",
       "283                 850            8856      2125           6058   \n",
       "326                 668            5755      1404           3986   \n",
       "\n",
       "     Motor_vehicle_theft  \n",
       "4                    122  \n",
       "38                   968  \n",
       "227                 7724  \n",
       "283                  673  \n",
       "326                  365  "
      ]
     },
     "metadata": {},
     "output_type": "display_data"
    }
   ],
   "source": [
    "## From our study we see that there is an outlier when Population is bigger than 1 million\n",
    "display(df_14[df_14['Property_crime'] > 3000])"
   ]
  },
  {
   "cell_type": "code",
   "execution_count": 52,
   "metadata": {
    "collapsed": true
   },
   "outputs": [],
   "source": [
    "## Remove Outlier\n",
    "df_14.drop(df_14.index[[227]], inplace=True, axis=0)\n"
   ]
  },
  {
   "cell_type": "code",
   "execution_count": 53,
   "metadata": {},
   "outputs": [
    {
     "data": {
      "image/png": "[encoded data removed]",
      "text/plain": [
       "<matplotlib.figure.Figure at 0x11ac9f6a0>"
      ]
     },
     "metadata": {},
     "output_type": "display_data"
    }
   ],
   "source": [
    "# Look at the scatter plot for Population, Murder,  Robbery, violent crime etc....\n",
    "\n",
    "\n",
    "plt.figure(figsize=(15, 15))\n",
    "plt.subplot(3, 3, 1)\n",
    "plt.scatter(df_14['Population'], df_14['Property_crime'], alpha=0.6)\n",
    "plt.xlabel('Population')\n",
    "plt.ylabel('Property_crime')\n",
    "\n",
    "plt.subplot(3, 3, 2)\n",
    "\n",
    "plt.scatter(df_14['Murder'], df_14['Property_crime'], alpha=0.6)\n",
    "plt.xlabel('Murder')\n",
    "\n",
    "plt.subplot(3, 3, 3)\n",
    "\n",
    "plt.scatter(df_14['Robbery'], df_14['Property_crime'], alpha=0.6)\n",
    "plt.xlabel('Robbery')\n",
    "\n",
    "\n",
    "plt.subplot(3, 3, 4)\n",
    "plt.scatter(df_14['Violent_crime'], df_14['Property_crime'], alpha=0.6)\n",
    "plt.xlabel('Violent_crime')\n",
    "plt.ylabel('Property_crime')\n",
    "\n",
    "plt.subplot(3, 3, 5)\n",
    "\n",
    "plt.scatter(df_14['Aggravated_assault'], df_14['Property_crime'], alpha=0.6)\n",
    "plt.xlabel('Aggravated_assault')\n",
    "\n",
    "plt.subplot(3, 3, 6)\n",
    "\n",
    "plt.scatter(df_14['Rape_revised'], df_14['Property_crime'], alpha=0.6)\n",
    "plt.xlabel('Rape_revised')\n",
    "\n",
    "\n",
    "plt.subplot(3, 3, 7)\n",
    "plt.scatter(df_14['Burglary'], df_14['Property_crime'], alpha=0.6)\n",
    "plt.xlabel('Burglary')\n",
    "plt.ylabel('Property_crime')\n",
    "\n",
    "plt.subplot(3, 3, 8)\n",
    "\n",
    "plt.scatter(df_14['Larceny_theft'], df_14['Property_crime'], alpha=0.6)\n",
    "plt.xlabel('Larceny_theft')\n",
    "\n",
    "plt.subplot(3, 3, 9)\n",
    "\n",
    "plt.scatter(df_14['Motor_vehicle_theft'], df_14['Property_crime'], alpha=0.6)\n",
    "plt.xlabel('Motor_vehicle_theft')\n",
    "\n",
    "\n",
    "plt.show()"
   ]
  },
  {
   "cell_type": "code",
   "execution_count": 56,
   "metadata": {
    "collapsed": true
   },
   "outputs": [],
   "source": [
    "# Making dummies.\n",
    "# Also creating a data frame to hold our features.\n",
    "features_14 = df_14\n",
    "\n",
    "### Create the new feature, (Population)^2\n",
    "features_14['Population_sqrd'] = df_14['Population'] **2\n",
    "#where values greater than 0 are coded 1, and values equal to 0 are coded 0.\n",
    "features_14['Property_crime'] = features_14['Property_crime']\n",
    "\n",
    "features_14['Robbery_cat'] = np.where(df_14['Robbery']>0, 1, 0)\n",
    "features_14['Murder_cat'] = np.where(df_14['Murder']>0, 1, 0)"
   ]
  },
  {
   "cell_type": "code",
   "execution_count": 57,
   "metadata": {},
   "outputs": [
    {
     "data": {
      "text/html": [
       "<table class=\"simpletable\">\n",
       "<caption>OLS Regression Results</caption>\n",
       "<tr>\n",
       "  <th>Dep. Variable:</th>     <td>Property_crime</td>  <th>  R-squared:         </th> <td>   0.934</td> \n",
       "</tr>\n",
       "<tr>\n",
       "  <th>Model:</th>                   <td>OLS</td>       <th>  Adj. R-squared:    </th> <td>   0.933</td> \n",
       "</tr>\n",
       "<tr>\n",
       "  <th>Method:</th>             <td>Least Squares</td>  <th>  F-statistic:       </th> <td>   1208.</td> \n",
       "</tr>\n",
       "<tr>\n",
       "  <th>Date:</th>             <td>Fri, 23 Mar 2018</td> <th>  Prob (F-statistic):</th> <td>6.88e-200</td>\n",
       "</tr>\n",
       "<tr>\n",
       "  <th>Time:</th>                 <td>19:13:34</td>     <th>  Log-Likelihood:    </th> <td> -2402.5</td> \n",
       "</tr>\n",
       "<tr>\n",
       "  <th>No. Observations:</th>      <td>   346</td>      <th>  AIC:               </th> <td>   4815.</td> \n",
       "</tr>\n",
       "<tr>\n",
       "  <th>Df Residuals:</th>          <td>   341</td>      <th>  BIC:               </th> <td>   4834.</td> \n",
       "</tr>\n",
       "<tr>\n",
       "  <th>Df Model:</th>              <td>     4</td>      <th>                     </th>     <td> </td>    \n",
       "</tr>\n",
       "<tr>\n",
       "  <th>Covariance Type:</th>      <td>nonrobust</td>    <th>                     </th>     <td> </td>    \n",
       "</tr>\n",
       "</table>\n",
       "<table class=\"simpletable\">\n",
       "<tr>\n",
       "         <td></td>            <th>coef</th>     <th>std err</th>      <th>t</th>      <th>P>|t|</th>  <th>[0.025</th>    <th>0.975]</th>  \n",
       "</tr>\n",
       "<tr>\n",
       "  <th>Intercept</th>       <td>  -14.3622</td> <td>   20.603</td> <td>   -0.697</td> <td> 0.486</td> <td>  -54.886</td> <td>   26.162</td>\n",
       "</tr>\n",
       "<tr>\n",
       "  <th>Population</th>      <td>    0.0102</td> <td>    0.001</td> <td>    6.936</td> <td> 0.000</td> <td>    0.007</td> <td>    0.013</td>\n",
       "</tr>\n",
       "<tr>\n",
       "  <th>Population_sqrd</th> <td> 1.426e-07</td> <td> 6.91e-09</td> <td>   20.638</td> <td> 0.000</td> <td> 1.29e-07</td> <td> 1.56e-07</td>\n",
       "</tr>\n",
       "<tr>\n",
       "  <th>Murder_cat</th>      <td>  271.4819</td> <td>   49.707</td> <td>    5.462</td> <td> 0.000</td> <td>  173.711</td> <td>  369.253</td>\n",
       "</tr>\n",
       "<tr>\n",
       "  <th>Robbery_cat</th>     <td>   77.0639</td> <td>   32.080</td> <td>    2.402</td> <td> 0.017</td> <td>   13.964</td> <td>  140.163</td>\n",
       "</tr>\n",
       "</table>\n",
       "<table class=\"simpletable\">\n",
       "<tr>\n",
       "  <th>Omnibus:</th>       <td>88.154</td> <th>  Durbin-Watson:     </th> <td>   2.000</td>\n",
       "</tr>\n",
       "<tr>\n",
       "  <th>Prob(Omnibus):</th> <td> 0.000</td> <th>  Jarque-Bera (JB):  </th> <td>2458.591</td>\n",
       "</tr>\n",
       "<tr>\n",
       "  <th>Skew:</th>          <td> 0.268</td> <th>  Prob(JB):          </th> <td>    0.00</td>\n",
       "</tr>\n",
       "<tr>\n",
       "  <th>Kurtosis:</th>      <td>16.048</td> <th>  Cond. No.          </th> <td>1.72e+10</td>\n",
       "</tr>\n",
       "</table>"
      ],
      "text/plain": [
       "<class 'statsmodels.iolib.summary.Summary'>\n",
       "\"\"\"\n",
       "                            OLS Regression Results                            \n",
       "==============================================================================\n",
       "Dep. Variable:         Property_crime   R-squared:                       0.934\n",
       "Model:                            OLS   Adj. R-squared:                  0.933\n",
       "Method:                 Least Squares   F-statistic:                     1208.\n",
       "Date:                Fri, 23 Mar 2018   Prob (F-statistic):          6.88e-200\n",
       "Time:                        19:13:34   Log-Likelihood:                -2402.5\n",
       "No. Observations:                 346   AIC:                             4815.\n",
       "Df Residuals:                     341   BIC:                             4834.\n",
       "Df Model:                           4                                         \n",
       "Covariance Type:            nonrobust                                         \n",
       "===================================================================================\n",
       "                      coef    std err          t      P>|t|      [0.025      0.975]\n",
       "-----------------------------------------------------------------------------------\n",
       "Intercept         -14.3622     20.603     -0.697      0.486     -54.886      26.162\n",
       "Population          0.0102      0.001      6.936      0.000       0.007       0.013\n",
       "Population_sqrd  1.426e-07   6.91e-09     20.638      0.000    1.29e-07    1.56e-07\n",
       "Murder_cat        271.4819     49.707      5.462      0.000     173.711     369.253\n",
       "Robbery_cat        77.0639     32.080      2.402      0.017      13.964     140.163\n",
       "==============================================================================\n",
       "Omnibus:                       88.154   Durbin-Watson:                   2.000\n",
       "Prob(Omnibus):                  0.000   Jarque-Bera (JB):             2458.591\n",
       "Skew:                           0.268   Prob(JB):                         0.00\n",
       "Kurtosis:                      16.048   Cond. No.                     1.72e+10\n",
       "==============================================================================\n",
       "\n",
       "Warnings:\n",
       "[1] Standard Errors assume that the covariance matrix of the errors is correctly specified.\n",
       "[2] The condition number is large, 1.72e+10. This might indicate that there are\n",
       "strong multicollinearity or other numerical problems.\n",
       "\"\"\""
      ]
     },
     "metadata": {},
     "output_type": "display_data"
    }
   ],
   "source": [
    "# Write out the model formula.\n",
    "# Your dependent variable on the right, independent variables on the left\n",
    "# Use a ~ to represent an '=' from the functional form\n",
    "linear_formula1 = 'Property_crime ~ Population+Population_sqrd+Murder_cat+Robbery_cat'\n",
    "\n",
    "# Fit the model to our data using the formula.\n",
    "lm_14 = smf.ols(formula=linear_formula1, data=features_14).fit()\n",
    "\n",
    "\n",
    "# Print the summary table.\n",
    "display(lm_14.summary())"
   ]
  },
  {
   "cell_type": "code",
   "execution_count": 58,
   "metadata": {},
   "outputs": [
    {
     "data": {
      "text/plain": [
       "Intercept         -1.436222e+01\n",
       "Population         1.021481e-02\n",
       "Population_sqrd    1.426233e-07\n",
       "Murder_cat         2.714819e+02\n",
       "Robbery_cat        7.706387e+01\n",
       "dtype: float64"
      ]
     },
     "execution_count": 58,
     "metadata": {},
     "output_type": "execute_result"
    }
   ],
   "source": [
    "lm_14.params"
   ]
  },
  {
   "cell_type": "code",
   "execution_count": 59,
   "metadata": {},
   "outputs": [
    {
     "data": {
      "text/plain": [
       "Intercept          4.862088e-01\n",
       "Population         2.031885e-11\n",
       "Population_sqrd    5.564363e-62\n",
       "Murder_cat         9.109519e-08\n",
       "Robbery_cat        1.682880e-02\n",
       "dtype: float64"
      ]
     },
     "execution_count": 59,
     "metadata": {},
     "output_type": "execute_result"
    }
   ],
   "source": [
    "lm_14.pvalues"
   ]
  },
  {
   "cell_type": "code",
   "execution_count": 60,
   "metadata": {},
   "outputs": [
    {
     "data": {
      "text/plain": [
       "0.93408874107267903"
      ]
     },
     "execution_count": 60,
     "metadata": {},
     "output_type": "execute_result"
    }
   ],
   "source": [
    "lm_14.rsquared"
   ]
  },
  {
   "cell_type": "markdown",
   "metadata": {},
   "source": [
    "The R-squared value is too big. This will overfit."
   ]
  },
  {
   "cell_type": "markdown",
   "metadata": {},
   "source": [
    "# Confidence intervals"
   ]
  },
  {
   "cell_type": "code",
   "execution_count": 61,
   "metadata": {},
   "outputs": [
    {
     "data": {
      "text/html": [
       "<div>\n",
       "<style>\n",
       "    .dataframe thead tr:only-child th {\n",
       "        text-align: right;\n",
       "    }\n",
       "\n",
       "    .dataframe thead th {\n",
       "        text-align: left;\n",
       "    }\n",
       "\n",
       "    .dataframe tbody tr th {\n",
       "        vertical-align: top;\n",
       "    }\n",
       "</style>\n",
       "<table border=\"1\" class=\"dataframe\">\n",
       "  <thead>\n",
       "    <tr style=\"text-align: right;\">\n",
       "      <th></th>\n",
       "      <th>0</th>\n",
       "      <th>1</th>\n",
       "    </tr>\n",
       "  </thead>\n",
       "  <tbody>\n",
       "    <tr>\n",
       "      <th>Intercept</th>\n",
       "      <td>-5.488622e+01</td>\n",
       "      <td>2.616178e+01</td>\n",
       "    </tr>\n",
       "    <tr>\n",
       "      <th>Population</th>\n",
       "      <td>7.318100e-03</td>\n",
       "      <td>1.311152e-02</td>\n",
       "    </tr>\n",
       "    <tr>\n",
       "      <th>Population_sqrd</th>\n",
       "      <td>1.290304e-07</td>\n",
       "      <td>1.562162e-07</td>\n",
       "    </tr>\n",
       "    <tr>\n",
       "      <th>Murder_cat</th>\n",
       "      <td>1.737108e+02</td>\n",
       "      <td>3.692531e+02</td>\n",
       "    </tr>\n",
       "    <tr>\n",
       "      <th>Robbery_cat</th>\n",
       "      <td>1.396449e+01</td>\n",
       "      <td>1.401632e+02</td>\n",
       "    </tr>\n",
       "  </tbody>\n",
       "</table>\n",
       "</div>"
      ],
      "text/plain": [
       "                            0             1\n",
       "Intercept       -5.488622e+01  2.616178e+01\n",
       "Population       7.318100e-03  1.311152e-02\n",
       "Population_sqrd  1.290304e-07  1.562162e-07\n",
       "Murder_cat       1.737108e+02  3.692531e+02\n",
       "Robbery_cat      1.396449e+01  1.401632e+02"
      ]
     },
     "metadata": {},
     "output_type": "display_data"
    }
   ],
   "source": [
    "display(lm_14.conf_int())"
   ]
  },
  {
   "cell_type": "code",
   "execution_count": 62,
   "metadata": {},
   "outputs": [
    {
     "data": {
      "image/png": "[encoded data removed]",
      "text/plain": [
       "<matplotlib.figure.Figure at 0x118b2e278>"
      ]
     },
     "metadata": {},
     "output_type": "display_data"
    }
   ],
   "source": [
    "# Use wls_prediction_std to build confidence intervals\n",
    "prstd, iv_l, iv_u = wls_prediction_std(lm_14)\n",
    "\n",
    "plt.figure()\n",
    "plt.plot(iv_u[0:15], 'o', color='r')\n",
    "plt.plot(iv_l[0:15], 'o', color='r')\n",
    "plt.plot(lm_14.fittedvalues[0:15], 'o', color='b')\n",
    "plt.title('blue: predicted, red: 95% CI')\n",
    "plt.show()"
   ]
  },
  {
   "cell_type": "markdown",
   "metadata": {},
   "source": [
    "## Hold Out Groups "
   ]
  },
  {
   "cell_type": "code",
   "execution_count": 63,
   "metadata": {
    "collapsed": true
   },
   "outputs": [],
   "source": [
    "# Instantiate and fit our model.\n",
    "regr1 = linear_model.LinearRegression()\n",
    "target1 = features_14['Property_crime']\n",
    "data1 = features_14[['Population', 'Population_sqrd','Murder_cat','Robbery_cat']]"
   ]
  },
  {
   "cell_type": "code",
   "execution_count": 64,
   "metadata": {},
   "outputs": [
    {
     "name": "stdout",
     "output_type": "stream",
     "text": [
      "Testing on 2013 Training Set: 0.844869713518\n",
      "Testing 2014 Test Set: 0.926679656191\n"
     ]
    }
   ],
   "source": [
    "print('Testing on 2013 Training Set: ' + str(regr1.fit(data, target).score(data, target)))\n",
    "print('Testing 2014 Test Set: ' + str(regr1.fit(data, target).score(data1, target1)))"
   ]
  },
  {
   "cell_type": "markdown",
   "metadata": {},
   "source": [
    "It is not overfitting because the R squared for the test set is higher than the one for the  traning set.   \n",
    "The model predicts new data well.   "
   ]
  },
  {
   "cell_type": "markdown",
   "metadata": {},
   "source": [
    "## Cross Validation "
   ]
  },
  {
   "cell_type": "code",
   "execution_count": 65,
   "metadata": {},
   "outputs": [
    {
     "data": {
      "text/plain": [
       "array([ 0.77231666,  0.98993571,  0.67454637,  0.87551757,  0.66812547,\n",
       "        0.33679925,  0.5569116 ,  0.44200842,  0.95523753,  0.90794073])"
      ]
     },
     "execution_count": 65,
     "metadata": {},
     "output_type": "execute_result"
    }
   ],
   "source": [
    "from sklearn.model_selection import cross_val_score\n",
    "cross_val_score(regr, data1, target1, cv=10)"
   ]
  },
  {
   "cell_type": "markdown",
   "metadata": {},
   "source": [
    "## Iteration 0  \n",
    "\n",
    "__target1__ = features_14['Property_crime']\n",
    "\n",
    "__data1__ = features_14[['Population', 'Population_sqrd','Murder_cat','Robbery_cat']]\n",
    "\n",
    "__ Hold Out Groups__   \n",
    "\n",
    "Testing on 2013 Training Set: 0.844869713518   \n",
    "Testing 2014 Test Set: 0.926679656191  \n",
    "\n",
    "It is not overfitting because the R squared for the test set is higher than the one for the  traning set.   \n",
    "The model predicts new data well.   \n",
    "\n",
    "__Cross Validation__\n",
    "\n",
    "array([ 0.77231666,  0.98993571,  0.67454637,  0.87551757,  0.66812547,\n",
    "        0.33679925,  0.5569116 ,  0.44200842,  0.95523753,  0.90794073])\n",
    "\n",
    "\n",
    "\n",
    "## Iteration 1  \n",
    "\n",
    "__target1__ = features_14['Property_crime']    \n",
    "__data1__ = features_14[['Population','Murder_cat','Robbery_cat']] \n",
    "\n",
    "__ Hold Out Groups__   \n",
    "\n",
    "Testing on 2013 Training Set: 0.739290344733   \n",
    "Testing 2014 Test Set: 0.81535991109\n",
    "\n",
    "It is not overfitting because the R squared for the test set is higher than the one for the  traning set.   \n",
    "The model predicts new data well.   \n",
    "\n",
    "__Cross Validation__\n",
    "\n",
    "array([ 0.70306305,  0.8586633 ,  0.15363681,  0.57671984,  0.24244054,\n",
    "       -1.37830802,  0.31066584,  0.25047153,  0.89050258,  0.91478761])\n",
    "       \n",
    "       \n",
    "       \n",
    "## Iteration 2  \n",
    "\n",
    "__target1__ = features_14['Property_crime']    \n",
    "__data1__ = features_14[['Population','Murder','Robbery', 'Larceny_theft']] \n",
    "\n",
    "__ Hold Out Groups__   \n",
    "\n",
    "Testing on 2013 Training Set: 0.996795313128   \n",
    "Testing 2014 Test Set: 0.997914067296     \n",
    "\n",
    "It is not overfitting because the R squared for the test set is equal to the one for the  traning set.   \n",
    "The model predicts new data too well.  \n",
    "\n",
    "__Cross Validation__\n",
    "\n",
    "array([ 0.99658482,  0.99702286,  0.99122403,  0.99661778,  0.97559122,\n",
    "        0.99506925,  0.98989679,  0.98521953,  0.99644314,  0.99694841])   \n",
    "        \n",
    "        \n",
    "## Iteration 3  \n",
    "\n",
    "__target1__ = features_14['Property_crime']    \n",
    "__data1__ = features_14[['Population','Robbery','Aggravated_assault', 'Larceny_theft']] \n",
    "\n",
    "__ Hold Out Groups__   \n",
    "\n",
    "Testing on 2013 Training Set: 0.996599741754    \n",
    "Testing 2014 Test Set: 0.997924842005    \n",
    "\n",
    "It is not overfitting because the R squared for the test set is equal to the one for the  traning set.   \n",
    "The model predicts new data too well.    \n",
    "\n",
    "__Cross Validation__\n",
    "\n",
    " array([ 0.99202973,  0.99900174,  0.99174274,  0.99811227,  0.97673863,\n",
    "        0.99559335,  0.98952062,  0.98465589,  0.9965212 ,  0.99712411])\n",
    "        \n",
    "## Iteration 4 \n",
    "\n",
    "__target1__ = features_14['Property_crime']    \n",
    "__data1__ = features_14[['Population']]\n",
    "\n",
    "__ Hold Out Groups__   \n",
    "\n",
    "Testing on 2013 Training Set: 0.737487846158   \n",
    "Testing 2014 Test Set: 0.81595174012    \n",
    "\n",
    "It is not overfitting because the R squared for the test set is higher than the one for the  traning set.   \n",
    "The model predicts new data well.     \n",
    "\n",
    "__Cross Validation__\n",
    "\n",
    " array([ 0.71689521,  0.85551085,  0.38088376,  0.54547435,  0.29232842,\n",
    "       -1.22964847,  0.32443521,  0.14733338,  0.88350407,  0.90903005])     \n",
    "       \n",
    "       \n",
    "## Iteration 5  \n",
    "\n",
    "__target1__ = features_14['Property_crime']    \n",
    "__data1__ = features_14[] \n",
    "\n",
    "__What to do__\n",
    "\n",
    "We will do feature engineering.    \n",
    "Will get rid of population and create new features by dividing the remaining features by population.    \n",
    "This will give us the information per capita.      \n",
    "Roberry seems to be a log.    \n",
    "Don't remove Buffallo and other citiies that have more than 100,000 in population.   \n",
    "Maybe reinsert NY and see what we get.   \n"
   ]
  },
  {
   "cell_type": "code",
   "execution_count": null,
   "metadata": {
    "collapsed": true
   },
   "outputs": [],
   "source": []
  },
  {
   "cell_type": "code",
   "execution_count": null,
   "metadata": {
    "collapsed": true
   },
   "outputs": [],
   "source": []
  }
 ],
 "metadata": {
  "kernelspec": {
   "display_name": "Python 3",
   "language": "python",
   "name": "python3"
  },
  "language_info": {
   "codemirror_mode": {
    "name": "ipython",
    "version": 3
   },
   "file_extension": ".py",
   "mimetype": "text/x-python",
   "name": "python",
   "nbconvert_exporter": "python",
   "pygments_lexer": "ipython3",
   "version": "3.6.1"
  }
 },
 "nbformat": 4,
 "nbformat_minor": 2
}
