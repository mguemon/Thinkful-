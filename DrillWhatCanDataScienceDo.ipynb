{
 "cells": [
  {
   "cell_type": "markdown",
   "metadata": {},
   "source": [
    "## What can Data Science do?"
   ]
  },
  {
   "cell_type": "markdown",
   "metadata": {},
   "source": [
    "Below we have a series of questions for you to translate into a technical plan. For each question, describe how you would make it testable and translate it from a general question into something statistically rigorous. Write your answers down in a shareable document and submit the link below."
   ]
  },
  {
   "cell_type": "markdown",
   "metadata": {},
   "source": [
    "1- You work at an e-commerce company that sells three goods: widgets, doodads, and fizzbangs. The head of advertising asks you which they should feature in their new advertising campaign. You have data on individual visitors' sessions (activity on a website, pageviews, and purchases), as well as whether or not those users converted from an advertisement for that session. You also have the cost and price information for the goods.  \n",
    "\n",
    "Answer:  \n",
    "Which of the 3 goods is purchased the most on the website?   \n",
    "Which pages do the users visit the most on the website?    \n",
    "Which pages do users visit more than once or in more than one session?  \n",
    "What current advertisement have the most users convert into customers?   \n",
    "On what pages do the most popular advertisement are?  \n",
    "Is the cheapest or more expensive good the one puchased the most by customers?   \n",
    "\n",
    "\n",
    "\n"
   ]
  },
  {
   "cell_type": "markdown",
   "metadata": {},
   "source": [
    "2- You work at a web design company that offers to build websites for clients. Signups have slowed, and you are tasked with finding out why. The onboarding funnel has three steps: email and password signup, plan choice, and payment. On a user level you have information on what steps they have completed as well as timestamps for all of those events for the past 3 years. You also have information on marketing spend on a weekly level.  \n",
    "\n",
    "\n",
    "Answer:    \n",
    "When did the sign up started to decline?   \n",
    "Is the sign up process user friendly?   \n",
    "How far do customers go in their sign up process?   \n",
    "Is there a correlation between the drop in sign up and the weekly expenditure on marketing?   \n",
    "\n"
   ]
  },
  {
   "cell_type": "markdown",
   "metadata": {},
   "source": [
    "3- You work at a hotel website and currently the website ranks search results by price. For simplicity's sake, let's say it's a website for one city with 100 hotels. You are tasked with proposing a better ranking system. You have session information, price information for the hotels, and whether each hotel is currently available.  \n",
    "\n",
    "Answer:   \n",
    "Which is always readily available: Hotel Price or Hotel Availability?   \n",
    "What do customers of the website care the most aboutt?    \n",
    "After a search how long do customers stay in a seesion?    \n",
    "Is the ranking result for a search done from Highest to Lowest Price or from Lowest to Highest?   \n",
    "\n"
   ]
  },
  {
   "cell_type": "markdown",
   "metadata": {},
   "source": [
    "4- You work at a social network, and the management is worried about churn (users stopping using the product). You are tasked with finding out if their churn is atypical. You have three years of data for users with an entry for every time they've logged in, including the timestamp and length of session.   \n",
    "\n",
    "\n",
    "Answer:  \n",
    "What time do most users log in to the website?  \n",
    "What is the average time users spend in a session?   \n",
    "On average how many times users log in the website?   \n",
    "Which users don't follow the trend found?    \n",
    "Which users log in at different time than the averae users?   \n",
    "What is the frequecy of log in of atypical users?   \n",
    "How long do atypical users spend in a seesion?   \n",
    "\n",
    "\n",
    "\n"
   ]
  },
  {
   "cell_type": "code",
   "execution_count": null,
   "metadata": {
    "collapsed": true
   },
   "outputs": [],
   "source": []
  }
 ],
 "metadata": {
  "kernelspec": {
   "display_name": "Python 3",
   "language": "python",
   "name": "python3"
  },
  "language_info": {
   "codemirror_mode": {
    "name": "ipython",
    "version": 3
   },
   "file_extension": ".py",
   "mimetype": "text/x-python",
   "name": "python",
   "nbconvert_exporter": "python",
   "pygments_lexer": "ipython3",
   "version": "3.6.1"
  }
 },
 "nbformat": 4,
 "nbformat_minor": 2
}
