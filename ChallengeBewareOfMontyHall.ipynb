{
 "cells": [
  {
   "cell_type": "code",
   "execution_count": 1,
   "metadata": {
    "collapsed": true
   },
   "outputs": [],
   "source": [
    "import matplotlib.pyplot as plt\n",
    "import numpy as np\n",
    "import pandas as pd \n",
    "import statistics\n",
    "%matplotlib inline\n",
    "plt.rcParams['figure.figsize'] = (10.0, 5.0)"
   ]
  },
  {
   "cell_type": "markdown",
   "metadata": {},
   "source": [
    "FP = Fantastic Prize    \n",
    "NP = No Prize    \n",
    "\n",
    "The 1st time you Choose a Door   \n",
    "P(FP) = 1/3   \n",
    "P(NP) = 1/3   \n",
    "\n",
    "The 2nd Time you Choose a Door Knowing that the Host chose a Door with nothing behind it. \n",
    "P(FP) = 1  \n",
    "   \n",
    "P(Other Door has FP|1st Door has NP) = (1/3)(1) + (1/3)(1) = 2/3   \n",
    "\n",
    "But here's the wrinkle: the host now gives you the opportunity to switch your door. What should you do?    \n",
    "\n",
    "You probably should switch door since the Probability of Fantastic Prize is higher the 2nd time you choose.  \n"
   ]
  },
  {
   "cell_type": "code",
   "execution_count": null,
   "metadata": {
    "collapsed": true
   },
   "outputs": [],
   "source": []
  }
 ],
 "metadata": {
  "kernelspec": {
   "display_name": "Python 3",
   "language": "python",
   "name": "python3"
  },
  "language_info": {
   "codemirror_mode": {
    "name": "ipython",
    "version": 3
   },
   "file_extension": ".py",
   "mimetype": "text/x-python",
   "name": "python",
   "nbconvert_exporter": "python",
   "pygments_lexer": "ipython3",
   "version": "3.6.1"
  }
 },
 "nbformat": 4,
 "nbformat_minor": 2
}
