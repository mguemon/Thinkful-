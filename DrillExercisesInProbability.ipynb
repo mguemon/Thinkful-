{
 "cells": [
  {
   "cell_type": "code",
   "execution_count": 1,
   "metadata": {
    "collapsed": true
   },
   "outputs": [],
   "source": [
    "import matplotlib.pyplot as plt\n",
    "import numpy as np\n",
    "import pandas as pd \n",
    "import statistics\n",
    "%matplotlib inline\n",
    "plt.rcParams['figure.figsize'] = (10.0, 5.0)"
   ]
  },
  {
   "cell_type": "markdown",
   "metadata": {},
   "source": [
    "Calculate the probability of flipping a balanced coin four times and getting each pattern: HTTH, HHHH and TTHH.\n",
    "\n",
    "P(HTTH) = (1/2)^4 = 0.0625  \n",
    "P(HHHH) = (1/2)^4 = 0.0625  \n",
    "P(TTHH) = (1/2)^4 = 0.0625  "
   ]
  },
  {
   "cell_type": "markdown",
   "metadata": {},
   "source": [
    "If a list of people has 24 women and 21 men, then the probability of choosing a man from the list is 21/45. What is the probability of not choosing a man?\n",
    "\n",
    "P(Not Choosing a Man) = 1 - (21/45)\n",
    "                      = (45-21)/45 = 24/45"
   ]
  },
  {
   "cell_type": "markdown",
   "metadata": {},
   "source": [
    "The probability that Bernice will travel by plane sometime in the next year is 10%.    \n",
    "The probability of a plane crash at any time is .005%.   \n",
    "What is the probability that Bernice will be in a plane crash sometime in the next year?  \n",
    "\n",
    "BP = The event Bernice will travel by Plane    \n",
    "PlC = The event A Plane crash at any time \n",
    "\n",
    "P(PlC|BP) = P(PlC)/P(BP) = (5.10^{-5})/0.1 = 5.10^{-4}"
   ]
  },
  {
   "cell_type": "markdown",
   "metadata": {},
   "source": [
    "A data scientist wants to study the behavior of users on the company website. Each time a user clicks on a link on the website, there is a 5% chance that the user will be asked to complete a short survey about their behavior on the website. The data scientist uses the survey data to conclude that, on average, users spend 15 minutes surfing the company website before moving on to other things. What is wrong with this conclusion?  \n",
    "\n",
    "I am not sure how the data scientist came to that conclusion. \n",
    "Is it because there is a 5% Chance of the customer being asked to take a survey?\n",
    "Why did it arrive to 15 minutes? Is it because they aren't that many survey comp\n"
   ]
  },
  {
   "cell_type": "code",
   "execution_count": null,
   "metadata": {
    "collapsed": true
   },
   "outputs": [],
   "source": []
  }
 ],
 "metadata": {
  "kernelspec": {
   "display_name": "Python 3",
   "language": "python",
   "name": "python3"
  },
  "language_info": {
   "codemirror_mode": {
    "name": "ipython",
    "version": 3
   },
   "file_extension": ".py",
   "mimetype": "text/x-python",
   "name": "python",
   "nbconvert_exporter": "python",
   "pygments_lexer": "ipython3",
   "version": "3.6.1"
  }
 },
 "nbformat": 4,
 "nbformat_minor": 2
}
