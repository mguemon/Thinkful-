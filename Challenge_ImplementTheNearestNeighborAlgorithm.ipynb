{
 "cells": [
  {
   "cell_type": "markdown",
   "metadata": {},
   "source": [
    "# Similarity Models\n",
    "\n",
    "## Challenge: Implement the Nearest Neighbor algorithm\n",
    "\n",
    "\n",
    "by: Melissa N "
   ]
  },
  {
   "cell_type": "markdown",
   "metadata": {},
   "source": [
    "Code a Nearest Neighbors algorithm that works for two dimensional data. You can use either arrays or dataframes to do this. Test it against the SKLearn package on the music dataset from above to ensure that it's correct. The goal here is to confirm your understanding of the model and continue to practice your Python skills. We're just expecting a brute force method here. After doing this, look up \"ball tree\" methods to see a more performant algorithm design."
   ]
  },
  {
   "cell_type": "code",
   "execution_count": 3,
   "metadata": {
    "collapsed": true
   },
   "outputs": [],
   "source": [
    "import numpy as np\n",
    "import pandas as pd\n",
    "import matplotlib.pyplot as plt\n",
    "import scipy\n",
    "%matplotlib inline"
   ]
  },
  {
   "cell_type": "code",
   "execution_count": 4,
   "metadata": {},
   "outputs": [
    {
     "data": {
      "image/png": "[encoded data removed]",
      "text/plain": [
       "<matplotlib.figure.Figure at 0x112b6bf98>"
      ]
     },
     "metadata": {},
     "output_type": "display_data"
    }
   ],
   "source": [
    "music = pd.DataFrame()\n",
    "\n",
    "# Some data to play with.\n",
    "music['duration'] = [184, 134, 243, 186, 122, 197, 294, 382, 102, 264, \n",
    "                     205, 110, 307, 110, 397, 153, 190, 192, 210, 403,\n",
    "                     164, 198, 204, 253, 234, 190, 182, 401, 376, 102]\n",
    "music['loudness'] = [18, 34, 43, 36, 22, 9, 29, 22, 10, 24, \n",
    "                     20, 10, 17, 51, 7, 13, 19, 12, 21, 22,\n",
    "                     16, 18, 4, 23, 34, 19, 14, 11, 37, 42]\n",
    "\n",
    "# We know whether the songs in our training data are jazz or not.\n",
    "music['jazz'] = [ 1, 0, 0, 0, 1, 1, 0, 1, 1, 0,\n",
    "                  0, 1, 1, 0, 1, 1, 0, 1, 1, 1,\n",
    "                  1, 1, 1, 1, 0, 0, 1, 1, 0, 0]\n",
    "\n",
    "\n",
    "# Look at our data.\n",
    "plt.scatter(\n",
    "    music[music['jazz'] == 1].duration,\n",
    "    music[music['jazz'] == 1].loudness,\n",
    "    color='red'\n",
    ")\n",
    "plt.scatter(\n",
    "    music[music['jazz'] == 0].duration,\n",
    "    music[music['jazz'] == 0].loudness,\n",
    "    color='blue'\n",
    ")\n",
    "plt.legend(['Jazz', 'Rock'])\n",
    "plt.title('Jazz and Rock Characteristics')\n",
    "plt.xlabel('Duration')\n",
    "plt.ylabel('Loudness')\n",
    "plt.show()"
   ]
  },
  {
   "cell_type": "code",
   "execution_count": 5,
   "metadata": {},
   "outputs": [],
   "source": [
    "#Training Set containing info about X = music[['duration', 'loudness']]\n",
    "\n",
    "X_train = np.column_stack(([184, 134, 243, 186, 122, 197, 294, 382, 102, 264, \n",
    "                            205, 110, 307, 110, 397, 153, 190, 192, 210, 403,\n",
    "                            164, 198, 204, 253, 234, 190, 182, 401, 376, 102], \n",
    "                           [18, 34, 43, 36, 22, 9, 29, 22, 10, 24, \n",
    "                            20, 10, 17, 51, 7, 13, 19, 12, 21, 22,\n",
    "                            16, 18, 4, 23, 34, 19, 14, 11, 37, 42]))\n",
    "\n",
    "# We know whether the songs in our training data are jazz or not.\n",
    "Y_train = [ 1, 0, 0, 0, 1, 1, 0, 1, 1, 0,\n",
    "            0, 1, 1, 0, 1, 1, 0, 1, 1, 1,\n",
    "            1, 1, 1, 1, 0, 0, 1, 1, 0, 0]\n",
    "\n",
    "## Test if the  song has 24 loudness and is 190 seconds long.\n",
    "X_test = np.array([190, 24])"
   ]
  },
  {
   "cell_type": "code",
   "execution_count": 10,
   "metadata": {},
   "outputs": [
    {
     "name": "stdout",
     "output_type": "stream",
     "text": [
      "[   8.48528137   56.88585061   56.30275304   12.64911064   68.02940541\n",
      "   16.55294536  104.12012294  192.01041638   89.10667764   74.           15.5241747\n",
      "   81.21576202  117.20921465   84.43340571  207.69689454   38.60051813\n",
      "    5.           12.16552506   20.22374842  213.00938946   27.20294102\n",
      "   10.           24.41311123   63.00793601   45.12205669    5.\n",
      "   12.80624847  211.40009461  186.45374762   89.82204629]\n"
     ]
    }
   ],
   "source": [
    "## Find Euclidean Distance between Training set and Test set \n",
    "Eucl_D = np.sqrt(np.sum((X_train-X_test)**2, axis=1))\n",
    "print(Eucl_D)"
   ]
  },
  {
   "cell_type": "code",
   "execution_count": 11,
   "metadata": {},
   "outputs": [
    {
     "name": "stdout",
     "output_type": "stream",
     "text": [
      "0\n"
     ]
    }
   ],
   "source": [
    "# Return the Y_train value at the minimum index.\n",
    "min_index = np.argmin(Eucl_D)\n",
    "print(Y_train[min_index])"
   ]
  },
  {
   "cell_type": "code",
   "execution_count": 12,
   "metadata": {},
   "outputs": [
    {
     "data": {
      "text/plain": [
       "16"
      ]
     },
     "execution_count": 12,
     "metadata": {},
     "output_type": "execute_result"
    }
   ],
   "source": [
    "min_index"
   ]
  },
  {
   "cell_type": "code",
   "execution_count": null,
   "metadata": {
    "collapsed": true
   },
   "outputs": [],
   "source": []
  }
 ],
 "metadata": {
  "kernelspec": {
   "display_name": "Python 3",
   "language": "python",
   "name": "python3"
  },
  "language_info": {
   "codemirror_mode": {
    "name": "ipython",
    "version": 3
   },
   "file_extension": ".py",
   "mimetype": "text/x-python",
   "name": "python",
   "nbconvert_exporter": "python",
   "pygments_lexer": "ipython3",
   "version": "3.6.1"
  }
 },
 "nbformat": 4,
 "nbformat_minor": 2
}
