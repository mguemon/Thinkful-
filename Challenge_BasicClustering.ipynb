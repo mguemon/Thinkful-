{
 "cells": [
  {
   "cell_type": "markdown",
   "metadata": {},
   "source": [
    "# Drills - Basic Clustering\n",
    "\n",
    "# Challenge: Boston marathon\n"
   ]
  },
  {
   "cell_type": "code",
   "execution_count": 1,
   "metadata": {
    "collapsed": true
   },
   "outputs": [],
   "source": [
    "import numpy as np\n",
    "import pandas as pd\n",
    "import scipy\n",
    "import matplotlib.pyplot as plt\n",
    "import seaborn as sns\n",
    "%matplotlib inline\n",
    "\n",
    "import seaborn as sns\n",
    "from sklearn.cluster import KMeans\n",
    "from sklearn.preprocessing import normalize\n",
    "from sklearn.decomposition import PCA\n",
    "from sklearn.cluster import MiniBatchKMeans\n",
    "%matplotlib inline\n",
    "\n",
    "\n",
    "import time\n",
    "\n",
    "from IPython.display import Image\n",
    "from IPython.display import display\n",
    "from sklearn import metrics\n",
    "from sklearn.metrics import pairwise_distances\n",
    "\n",
    "import warnings\n",
    "# Suppress annoying harmless error.\n",
    "warnings.simplefilter('ignore')"
   ]
  },
  {
   "cell_type": "code",
   "execution_count": 2,
   "metadata": {
    "collapsed": true
   },
   "outputs": [],
   "source": [
    "data_path = (\"https://raw.githubusercontent.com/llimllib/bostonmarathon/master/results/2014/results.csv\")\n",
    "df = pd.read_csv(data_path)"
   ]
  },
  {
   "cell_type": "markdown",
   "metadata": {},
   "source": [
    "## Data Cleaning "
   ]
  },
  {
   "cell_type": "code",
   "execution_count": 3,
   "metadata": {},
   "outputs": [
    {
     "data": {
      "text/plain": [
       "Index            80\n",
       "10k          255872\n",
       "name         255872\n",
       "division     255872\n",
       "25k          255872\n",
       "gender       255872\n",
       "age          255872\n",
       "official     255872\n",
       "bib          255872\n",
       "genderdiv    255872\n",
       "ctz          255872\n",
       "35k          255872\n",
       "overall      255872\n",
       "pace         255872\n",
       "state        255872\n",
       "30k          255872\n",
       "5k           255872\n",
       "half         255872\n",
       "20k          255872\n",
       "country      255872\n",
       "city         255872\n",
       "40k          255872\n",
       "dtype: int64"
      ]
     },
     "execution_count": 3,
     "metadata": {},
     "output_type": "execute_result"
    }
   ],
   "source": [
    "df.memory_usage()"
   ]
  },
  {
   "cell_type": "code",
   "execution_count": 4,
   "metadata": {},
   "outputs": [
    {
     "data": {
      "text/html": [
       "<div>\n",
       "<style>\n",
       "    .dataframe thead tr:only-child th {\n",
       "        text-align: right;\n",
       "    }\n",
       "\n",
       "    .dataframe thead th {\n",
       "        text-align: left;\n",
       "    }\n",
       "\n",
       "    .dataframe tbody tr th {\n",
       "        vertical-align: top;\n",
       "    }\n",
       "</style>\n",
       "<table border=\"1\" class=\"dataframe\">\n",
       "  <thead>\n",
       "    <tr style=\"text-align: right;\">\n",
       "      <th></th>\n",
       "      <th>10k</th>\n",
       "      <th>name</th>\n",
       "      <th>division</th>\n",
       "      <th>25k</th>\n",
       "      <th>gender</th>\n",
       "      <th>age</th>\n",
       "      <th>official</th>\n",
       "      <th>bib</th>\n",
       "      <th>genderdiv</th>\n",
       "      <th>ctz</th>\n",
       "      <th>...</th>\n",
       "      <th>overall</th>\n",
       "      <th>pace</th>\n",
       "      <th>state</th>\n",
       "      <th>30k</th>\n",
       "      <th>5k</th>\n",
       "      <th>half</th>\n",
       "      <th>20k</th>\n",
       "      <th>country</th>\n",
       "      <th>city</th>\n",
       "      <th>40k</th>\n",
       "    </tr>\n",
       "  </thead>\n",
       "  <tbody>\n",
       "    <tr>\n",
       "      <th>0</th>\n",
       "      <td>17.37</td>\n",
       "      <td>Yamamoto, Hiroyuki</td>\n",
       "      <td>8</td>\n",
       "      <td>47.67</td>\n",
       "      <td>M</td>\n",
       "      <td>47</td>\n",
       "      <td>85.25</td>\n",
       "      <td>W1</td>\n",
       "      <td>8</td>\n",
       "      <td>NaN</td>\n",
       "      <td>...</td>\n",
       "      <td>8</td>\n",
       "      <td>3.27</td>\n",
       "      <td>NaN</td>\n",
       "      <td>59.18</td>\n",
       "      <td>8.02</td>\n",
       "      <td>39.72</td>\n",
       "      <td>37.65</td>\n",
       "      <td>JPN</td>\n",
       "      <td>Fukuoka</td>\n",
       "      <td>80.43</td>\n",
       "    </tr>\n",
       "    <tr>\n",
       "      <th>1</th>\n",
       "      <td>32.58</td>\n",
       "      <td>Jeptoo, Rita</td>\n",
       "      <td>1</td>\n",
       "      <td>82.43</td>\n",
       "      <td>F</td>\n",
       "      <td>33</td>\n",
       "      <td>138.95</td>\n",
       "      <td>F1</td>\n",
       "      <td>1</td>\n",
       "      <td>NaN</td>\n",
       "      <td>...</td>\n",
       "      <td>21</td>\n",
       "      <td>5.30</td>\n",
       "      <td>NaN</td>\n",
       "      <td>99.33</td>\n",
       "      <td>16.22</td>\n",
       "      <td>69.47</td>\n",
       "      <td>65.83</td>\n",
       "      <td>KEN</td>\n",
       "      <td>Eldoret</td>\n",
       "      <td>132.10</td>\n",
       "    </tr>\n",
       "    <tr>\n",
       "      <th>2</th>\n",
       "      <td>16.62</td>\n",
       "      <td>Van Dyk, Ernst F.</td>\n",
       "      <td>1</td>\n",
       "      <td>45.80</td>\n",
       "      <td>M</td>\n",
       "      <td>41</td>\n",
       "      <td>80.60</td>\n",
       "      <td>W2</td>\n",
       "      <td>1</td>\n",
       "      <td>NaN</td>\n",
       "      <td>...</td>\n",
       "      <td>1</td>\n",
       "      <td>3.08</td>\n",
       "      <td>NaN</td>\n",
       "      <td>56.45</td>\n",
       "      <td>7.75</td>\n",
       "      <td>38.03</td>\n",
       "      <td>36.10</td>\n",
       "      <td>RSA</td>\n",
       "      <td>Paarl</td>\n",
       "      <td>76.10</td>\n",
       "    </tr>\n",
       "    <tr>\n",
       "      <th>3</th>\n",
       "      <td>32.57</td>\n",
       "      <td>Dibaba, Mare</td>\n",
       "      <td>3</td>\n",
       "      <td>82.43</td>\n",
       "      <td>F</td>\n",
       "      <td>24</td>\n",
       "      <td>140.58</td>\n",
       "      <td>F2</td>\n",
       "      <td>3</td>\n",
       "      <td>NaN</td>\n",
       "      <td>...</td>\n",
       "      <td>27</td>\n",
       "      <td>5.37</td>\n",
       "      <td>NaN</td>\n",
       "      <td>99.33</td>\n",
       "      <td>16.20</td>\n",
       "      <td>69.47</td>\n",
       "      <td>65.83</td>\n",
       "      <td>ETH</td>\n",
       "      <td>Shoa</td>\n",
       "      <td>132.95</td>\n",
       "    </tr>\n",
       "    <tr>\n",
       "      <th>4</th>\n",
       "      <td>17.12</td>\n",
       "      <td>Hokinoue, Kota</td>\n",
       "      <td>2</td>\n",
       "      <td>46.37</td>\n",
       "      <td>M</td>\n",
       "      <td>40</td>\n",
       "      <td>81.23</td>\n",
       "      <td>W3</td>\n",
       "      <td>2</td>\n",
       "      <td>NaN</td>\n",
       "      <td>...</td>\n",
       "      <td>2</td>\n",
       "      <td>3.10</td>\n",
       "      <td>NaN</td>\n",
       "      <td>57.03</td>\n",
       "      <td>8.02</td>\n",
       "      <td>38.60</td>\n",
       "      <td>36.58</td>\n",
       "      <td>JPN</td>\n",
       "      <td>Nogata Fukuoka</td>\n",
       "      <td>76.72</td>\n",
       "    </tr>\n",
       "  </tbody>\n",
       "</table>\n",
       "<p>5 rows × 21 columns</p>\n",
       "</div>"
      ],
      "text/plain": [
       "     10k                name  division    25k gender  age  official bib  \\\n",
       "0  17.37  Yamamoto, Hiroyuki         8  47.67      M   47     85.25  W1   \n",
       "1  32.58        Jeptoo, Rita         1  82.43      F   33    138.95  F1   \n",
       "2  16.62   Van Dyk, Ernst F.         1  45.80      M   41     80.60  W2   \n",
       "3  32.57        Dibaba, Mare         3  82.43      F   24    140.58  F2   \n",
       "4  17.12      Hokinoue, Kota         2  46.37      M   40     81.23  W3   \n",
       "\n",
       "   genderdiv  ctz   ...   overall  pace  state    30k     5k   half    20k  \\\n",
       "0          8  NaN   ...         8  3.27    NaN  59.18   8.02  39.72  37.65   \n",
       "1          1  NaN   ...        21  5.30    NaN  99.33  16.22  69.47  65.83   \n",
       "2          1  NaN   ...         1  3.08    NaN  56.45   7.75  38.03  36.10   \n",
       "3          3  NaN   ...        27  5.37    NaN  99.33  16.20  69.47  65.83   \n",
       "4          2  NaN   ...         2  3.10    NaN  57.03   8.02  38.60  36.58   \n",
       "\n",
       "  country            city     40k  \n",
       "0     JPN         Fukuoka   80.43  \n",
       "1     KEN         Eldoret  132.10  \n",
       "2     RSA           Paarl   76.10  \n",
       "3     ETH            Shoa  132.95  \n",
       "4     JPN  Nogata Fukuoka   76.72  \n",
       "\n",
       "[5 rows x 21 columns]"
      ]
     },
     "metadata": {},
     "output_type": "display_data"
    }
   ],
   "source": [
    "display(df.head())"
   ]
  },
  {
   "cell_type": "code",
   "execution_count": 5,
   "metadata": {},
   "outputs": [
    {
     "data": {
      "text/plain": [
       "Index(['10k', 'name', 'division', '25k', 'gender', 'age', 'official', 'bib',\n",
       "       'genderdiv', 'ctz', '35k', 'overall', 'pace', 'state', '30k', '5k',\n",
       "       'half', '20k', 'country', 'city', '40k'],\n",
       "      dtype='object')"
      ]
     },
     "execution_count": 5,
     "metadata": {},
     "output_type": "execute_result"
    }
   ],
   "source": [
    "df.columns"
   ]
  },
  {
   "cell_type": "code",
   "execution_count": 6,
   "metadata": {},
   "outputs": [
    {
     "data": {
      "text/plain": [
       "10k           object\n",
       "name          object\n",
       "division       int64\n",
       "25k           object\n",
       "gender        object\n",
       "age            int64\n",
       "official     float64\n",
       "bib           object\n",
       "genderdiv      int64\n",
       "ctz           object\n",
       "35k           object\n",
       "overall        int64\n",
       "pace         float64\n",
       "state         object\n",
       "30k           object\n",
       "5k            object\n",
       "half          object\n",
       "20k           object\n",
       "country       object\n",
       "city          object\n",
       "40k           object\n",
       "dtype: object"
      ]
     },
     "execution_count": 6,
     "metadata": {},
     "output_type": "execute_result"
    }
   ],
   "source": [
    "df.dtypes"
   ]
  },
  {
   "cell_type": "code",
   "execution_count": 7,
   "metadata": {
    "collapsed": true
   },
   "outputs": [],
   "source": [
    "## Change objects to numeric \n",
    "make_num = (['10k','25k','35k','30k','5k','half','20k','40k'])\n",
    "for col in make_num:\n",
    "    df[col]= df[col].str.replace('-', '')\n",
    "    df[col] = pd.to_numeric(df[col])"
   ]
  },
  {
   "cell_type": "code",
   "execution_count": 8,
   "metadata": {},
   "outputs": [
    {
     "data": {
      "text/plain": [
       "10k         50\n",
       "25k        216\n",
       "ctz      30740\n",
       "35k         34\n",
       "state     2576\n",
       "30k         40\n",
       "5k          52\n",
       "half        72\n",
       "20k         51\n",
       "city         1\n",
       "40k         39\n",
       "dtype: int64"
      ]
     },
     "execution_count": 8,
     "metadata": {},
     "output_type": "execute_result"
    }
   ],
   "source": [
    "# Count nulls \n",
    "null_count = df.isnull().sum()\n",
    "null_count[null_count>0]"
   ]
  },
  {
   "cell_type": "code",
   "execution_count": 9,
   "metadata": {},
   "outputs": [
    {
     "data": {
      "text/plain": [
       "(31984, 21)"
      ]
     },
     "execution_count": 9,
     "metadata": {},
     "output_type": "execute_result"
    }
   ],
   "source": [
    "df.shape"
   ]
  },
  {
   "cell_type": "code",
   "execution_count": 10,
   "metadata": {
    "collapsed": true
   },
   "outputs": [],
   "source": [
    "## Assumption: the Median is a good enough representative of the missing data ## Assump \n",
    "## race not filled means its best possible \n",
    "\n",
    "## Change objects to numeric \n",
    "fill_na = (['10k','25k','35k','30k','5k','half','20k','40k'])\n",
    "for col in fill_na:\n",
    "    df[col].fillna(value = df[col].median(), inplace=True)"
   ]
  },
  {
   "cell_type": "code",
   "execution_count": 11,
   "metadata": {},
   "outputs": [
    {
     "data": {
      "text/plain": [
       "10k          float64\n",
       "name          object\n",
       "division       int64\n",
       "25k          float64\n",
       "gender        object\n",
       "age            int64\n",
       "official     float64\n",
       "bib           object\n",
       "genderdiv      int64\n",
       "ctz           object\n",
       "35k          float64\n",
       "overall        int64\n",
       "pace         float64\n",
       "state         object\n",
       "30k          float64\n",
       "5k           float64\n",
       "half         float64\n",
       "20k          float64\n",
       "country       object\n",
       "city          object\n",
       "40k          float64\n",
       "dtype: object"
      ]
     },
     "execution_count": 11,
     "metadata": {},
     "output_type": "execute_result"
    }
   ],
   "source": [
    "df.dtypes"
   ]
  },
  {
   "cell_type": "code",
   "execution_count": 12,
   "metadata": {},
   "outputs": [
    {
     "data": {
      "text/plain": [
       "ctz      30740\n",
       "state     2576\n",
       "city         1\n",
       "dtype: int64"
      ]
     },
     "execution_count": 12,
     "metadata": {},
     "output_type": "execute_result"
    }
   ],
   "source": [
    "# Count nulls \n",
    "null_count = df.isnull().sum()\n",
    "null_count[null_count>0]"
   ]
  },
  {
   "cell_type": "markdown",
   "metadata": {},
   "source": [
    "We will drop features like 'city', 'name', 'gender', 'bib' and 'country' as they are string of words.  \n",
    "We will drop the features 'ctz' and 'state' as they are too many missing.  "
   ]
  },
  {
   "cell_type": "markdown",
   "metadata": {},
   "source": [
    "## Create New Features "
   ]
  },
  {
   "cell_type": "code",
   "execution_count": 13,
   "metadata": {},
   "outputs": [
    {
     "data": {
      "text/html": [
       "<div>\n",
       "<style>\n",
       "    .dataframe thead tr:only-child th {\n",
       "        text-align: right;\n",
       "    }\n",
       "\n",
       "    .dataframe thead th {\n",
       "        text-align: left;\n",
       "    }\n",
       "\n",
       "    .dataframe tbody tr th {\n",
       "        vertical-align: top;\n",
       "    }\n",
       "</style>\n",
       "<table border=\"1\" class=\"dataframe\">\n",
       "  <thead>\n",
       "    <tr style=\"text-align: right;\">\n",
       "      <th></th>\n",
       "      <th>10k</th>\n",
       "      <th>division</th>\n",
       "      <th>25k</th>\n",
       "      <th>age</th>\n",
       "      <th>official</th>\n",
       "      <th>genderdiv</th>\n",
       "      <th>35k</th>\n",
       "      <th>overall</th>\n",
       "      <th>pace</th>\n",
       "      <th>30k</th>\n",
       "      <th>5k</th>\n",
       "      <th>half</th>\n",
       "      <th>20k</th>\n",
       "      <th>40k</th>\n",
       "    </tr>\n",
       "  </thead>\n",
       "  <tbody>\n",
       "    <tr>\n",
       "      <th>count</th>\n",
       "      <td>31984.000000</td>\n",
       "      <td>31984.000000</td>\n",
       "      <td>31984.000000</td>\n",
       "      <td>31984.000000</td>\n",
       "      <td>31984.000000</td>\n",
       "      <td>31984.000000</td>\n",
       "      <td>31984.000000</td>\n",
       "      <td>31984.000000</td>\n",
       "      <td>31984.000000</td>\n",
       "      <td>31984.000000</td>\n",
       "      <td>31984.000000</td>\n",
       "      <td>31984.000000</td>\n",
       "      <td>31984.000000</td>\n",
       "      <td>31984.000000</td>\n",
       "    </tr>\n",
       "    <tr>\n",
       "      <th>mean</th>\n",
       "      <td>51.796978</td>\n",
       "      <td>1932.563032</td>\n",
       "      <td>133.580064</td>\n",
       "      <td>42.407079</td>\n",
       "      <td>242.997314</td>\n",
       "      <td>8051.044741</td>\n",
       "      <td>196.848370</td>\n",
       "      <td>15939.587825</td>\n",
       "      <td>9.275658</td>\n",
       "      <td>164.562663</td>\n",
       "      <td>25.754461</td>\n",
       "      <td>111.655934</td>\n",
       "      <td>105.705990</td>\n",
       "      <td>228.989112</td>\n",
       "    </tr>\n",
       "    <tr>\n",
       "      <th>std</th>\n",
       "      <td>8.958691</td>\n",
       "      <td>1715.228694</td>\n",
       "      <td>25.513326</td>\n",
       "      <td>11.316496</td>\n",
       "      <td>52.300431</td>\n",
       "      <td>4754.005626</td>\n",
       "      <td>41.957743</td>\n",
       "      <td>9232.978224</td>\n",
       "      <td>1.992486</td>\n",
       "      <td>33.933306</td>\n",
       "      <td>4.324396</td>\n",
       "      <td>21.038253</td>\n",
       "      <td>19.765258</td>\n",
       "      <td>49.131198</td>\n",
       "    </tr>\n",
       "    <tr>\n",
       "      <th>min</th>\n",
       "      <td>16.620000</td>\n",
       "      <td>1.000000</td>\n",
       "      <td>45.800000</td>\n",
       "      <td>18.000000</td>\n",
       "      <td>80.600000</td>\n",
       "      <td>1.000000</td>\n",
       "      <td>67.420000</td>\n",
       "      <td>1.000000</td>\n",
       "      <td>3.080000</td>\n",
       "      <td>56.450000</td>\n",
       "      <td>7.750000</td>\n",
       "      <td>38.030000</td>\n",
       "      <td>36.100000</td>\n",
       "      <td>76.100000</td>\n",
       "    </tr>\n",
       "    <tr>\n",
       "      <th>25%</th>\n",
       "      <td>45.420000</td>\n",
       "      <td>610.000000</td>\n",
       "      <td>115.570000</td>\n",
       "      <td>33.000000</td>\n",
       "      <td>205.527500</td>\n",
       "      <td>3972.000000</td>\n",
       "      <td>167.150000</td>\n",
       "      <td>7943.750000</td>\n",
       "      <td>7.850000</td>\n",
       "      <td>140.695000</td>\n",
       "      <td>22.650000</td>\n",
       "      <td>96.870000</td>\n",
       "      <td>91.770000</td>\n",
       "      <td>193.830000</td>\n",
       "    </tr>\n",
       "    <tr>\n",
       "      <th>50%</th>\n",
       "      <td>50.330000</td>\n",
       "      <td>1425.000000</td>\n",
       "      <td>128.875000</td>\n",
       "      <td>42.000000</td>\n",
       "      <td>232.370000</td>\n",
       "      <td>7970.000000</td>\n",
       "      <td>188.170000</td>\n",
       "      <td>15939.500000</td>\n",
       "      <td>8.870000</td>\n",
       "      <td>157.730000</td>\n",
       "      <td>25.080000</td>\n",
       "      <td>107.830000</td>\n",
       "      <td>102.150000</td>\n",
       "      <td>218.850000</td>\n",
       "    </tr>\n",
       "    <tr>\n",
       "      <th>75%</th>\n",
       "      <td>57.150000</td>\n",
       "      <td>2611.000000</td>\n",
       "      <td>147.555000</td>\n",
       "      <td>50.000000</td>\n",
       "      <td>273.235000</td>\n",
       "      <td>11968.000000</td>\n",
       "      <td>220.120000</td>\n",
       "      <td>23935.250000</td>\n",
       "      <td>10.430000</td>\n",
       "      <td>182.785000</td>\n",
       "      <td>28.455000</td>\n",
       "      <td>123.030000</td>\n",
       "      <td>116.480000</td>\n",
       "      <td>257.405000</td>\n",
       "    </tr>\n",
       "    <tr>\n",
       "      <th>max</th>\n",
       "      <td>112.380000</td>\n",
       "      <td>6979.000000</td>\n",
       "      <td>289.020000</td>\n",
       "      <td>81.000000</td>\n",
       "      <td>538.880000</td>\n",
       "      <td>17575.000000</td>\n",
       "      <td>449.330000</td>\n",
       "      <td>31931.000000</td>\n",
       "      <td>20.570000</td>\n",
       "      <td>376.380000</td>\n",
       "      <td>86.950000</td>\n",
       "      <td>236.670000</td>\n",
       "      <td>224.350000</td>\n",
       "      <td>508.350000</td>\n",
       "    </tr>\n",
       "  </tbody>\n",
       "</table>\n",
       "</div>"
      ],
      "text/plain": [
       "                10k      division           25k           age      official  \\\n",
       "count  31984.000000  31984.000000  31984.000000  31984.000000  31984.000000   \n",
       "mean      51.796978   1932.563032    133.580064     42.407079    242.997314   \n",
       "std        8.958691   1715.228694     25.513326     11.316496     52.300431   \n",
       "min       16.620000      1.000000     45.800000     18.000000     80.600000   \n",
       "25%       45.420000    610.000000    115.570000     33.000000    205.527500   \n",
       "50%       50.330000   1425.000000    128.875000     42.000000    232.370000   \n",
       "75%       57.150000   2611.000000    147.555000     50.000000    273.235000   \n",
       "max      112.380000   6979.000000    289.020000     81.000000    538.880000   \n",
       "\n",
       "          genderdiv           35k       overall          pace           30k  \\\n",
       "count  31984.000000  31984.000000  31984.000000  31984.000000  31984.000000   \n",
       "mean    8051.044741    196.848370  15939.587825      9.275658    164.562663   \n",
       "std     4754.005626     41.957743   9232.978224      1.992486     33.933306   \n",
       "min        1.000000     67.420000      1.000000      3.080000     56.450000   \n",
       "25%     3972.000000    167.150000   7943.750000      7.850000    140.695000   \n",
       "50%     7970.000000    188.170000  15939.500000      8.870000    157.730000   \n",
       "75%    11968.000000    220.120000  23935.250000     10.430000    182.785000   \n",
       "max    17575.000000    449.330000  31931.000000     20.570000    376.380000   \n",
       "\n",
       "                 5k          half           20k           40k  \n",
       "count  31984.000000  31984.000000  31984.000000  31984.000000  \n",
       "mean      25.754461    111.655934    105.705990    228.989112  \n",
       "std        4.324396     21.038253     19.765258     49.131198  \n",
       "min        7.750000     38.030000     36.100000     76.100000  \n",
       "25%       22.650000     96.870000     91.770000    193.830000  \n",
       "50%       25.080000    107.830000    102.150000    218.850000  \n",
       "75%       28.455000    123.030000    116.480000    257.405000  \n",
       "max       86.950000    236.670000    224.350000    508.350000  "
      ]
     },
     "execution_count": 13,
     "metadata": {},
     "output_type": "execute_result"
    }
   ],
   "source": [
    "df.describe()"
   ]
  },
  {
   "cell_type": "code",
   "execution_count": 14,
   "metadata": {},
   "outputs": [
    {
     "data": {
      "image/png": "[encoded data removed]",
      "text/plain": [
       "<matplotlib.figure.Figure at 0x7fc469bd5ef0>"
      ]
     },
     "metadata": {},
     "output_type": "display_data"
    }
   ],
   "source": [
    "plt.hist(df['age'], color='red', bins = 10)\n",
    "plt.title('2014 participants') \n",
    "plt.xlabel('Age groups')\n",
    "plt.ylabel('Number of Runners');"
   ]
  },
  {
   "cell_type": "code",
   "execution_count": 15,
   "metadata": {},
   "outputs": [
    {
     "data": {
      "text/plain": [
       "0    JPN\n",
       "1    KEN\n",
       "2    RSA\n",
       "3    ETH\n",
       "4    JPN\n",
       "Name: country, dtype: object"
      ]
     },
     "execution_count": 15,
     "metadata": {},
     "output_type": "execute_result"
    }
   ],
   "source": [
    "df['country'].head()"
   ]
  },
  {
   "cell_type": "code",
   "execution_count": 16,
   "metadata": {},
   "outputs": [
    {
     "data": {
      "image/png": "[encoded data removed]",
      "text/plain": [
       "<matplotlib.figure.Figure at 0x7fc469bb64a8>"
      ]
     },
     "metadata": {},
     "output_type": "display_data"
    }
   ],
   "source": [
    "plt.figure(figsize=(15, 5))\n",
    "df.country.value_counts().head(20).plot(kind='bar')\n",
    "plt.ylabel('Country Counts')\n",
    "plt.xlabel('Country Names')\n",
    "plt.show()"
   ]
  },
  {
   "cell_type": "markdown",
   "metadata": {},
   "source": [
    "We see that the US and Canada are some of the most popular countries.   \n",
    "Let's look at the bar count if we remover those two countries.  "
   ]
  },
  {
   "cell_type": "code",
   "execution_count": 17,
   "metadata": {},
   "outputs": [
    {
     "data": {
      "image/png": "[encoded data removed]",
      "text/plain": [
       "<matplotlib.figure.Figure at 0x7fc469db3b70>"
      ]
     },
     "metadata": {},
     "output_type": "display_data"
    }
   ],
   "source": [
    "plt.figure(figsize=(15, 5))\n",
    "df.country.value_counts().head(20)[2:].plot(kind='bar')\n",
    "plt.ylabel('Country Counts')\n",
    "plt.xlabel('Popular Country Names w/o US & CAN')\n",
    "plt.show()"
   ]
  },
  {
   "cell_type": "code",
   "execution_count": 18,
   "metadata": {},
   "outputs": [
    {
     "data": {
      "image/png": "[encoded data removed]",
      "text/plain": [
       "<matplotlib.figure.Figure at 0x7fc469bb6588>"
      ]
     },
     "metadata": {},
     "output_type": "display_data"
    }
   ],
   "source": [
    "plt.figure(figsize=(15, 5))\n",
    "df.age.value_counts().head(20).plot(kind='bar')\n",
    "plt.ylabel('Age Participants Counts')\n",
    "plt.xlabel('Age of Participants')\n",
    "plt.show()"
   ]
  },
  {
   "cell_type": "markdown",
   "metadata": {},
   "source": [
    "We note that there are a lot of people in theor 30s and 40s"
   ]
  },
  {
   "cell_type": "code",
   "execution_count": 19,
   "metadata": {},
   "outputs": [
    {
     "data": {
      "image/png": "[encoded data removed]",
      "text/plain": [
       "<matplotlib.figure.Figure at 0x7fc469e5e240>"
      ]
     },
     "metadata": {},
     "output_type": "display_data"
    }
   ],
   "source": [
    "plt.figure(figsize=(15, 5))\n",
    "df.age.value_counts().tail(20).plot(kind='bar')\n",
    "plt.ylabel('Age Participants Counts')\n",
    "plt.xlabel('Age of Participants')\n",
    "plt.show()"
   ]
  },
  {
   "cell_type": "markdown",
   "metadata": {},
   "source": [
    "We note there aren't many people of 21 and less and 65 and less.   "
   ]
  },
  {
   "cell_type": "code",
   "execution_count": 20,
   "metadata": {},
   "outputs": [
    {
     "data": {
      "image/png": "[encoded data removed]",
      "text/plain": [
       "<matplotlib.figure.Figure at 0x7fc46a8fe320>"
      ]
     },
     "metadata": {},
     "output_type": "display_data"
    }
   ],
   "source": [
    "plt.scatter(x = df['age'], y = df['official'])\n",
    "plt.title('2014 Finish Time by Age') \n",
    "plt.xlabel('Age groups')\n",
    "plt.ylabel('Finish Time (in minutes)');"
   ]
  },
  {
   "cell_type": "markdown",
   "metadata": {},
   "source": [
    "Can't really say anything from this graph  "
   ]
  },
  {
   "cell_type": "code",
   "execution_count": 21,
   "metadata": {
    "scrolled": true
   },
   "outputs": [
    {
     "data": {
      "text/html": [
       "<div>\n",
       "<style>\n",
       "    .dataframe thead tr:only-child th {\n",
       "        text-align: right;\n",
       "    }\n",
       "\n",
       "    .dataframe thead th {\n",
       "        text-align: left;\n",
       "    }\n",
       "\n",
       "    .dataframe tbody tr th {\n",
       "        vertical-align: top;\n",
       "    }\n",
       "</style>\n",
       "<table border=\"1\" class=\"dataframe\">\n",
       "  <thead>\n",
       "    <tr style=\"text-align: right;\">\n",
       "      <th></th>\n",
       "      <th>age</th>\n",
       "      <th>10k</th>\n",
       "      <th>division</th>\n",
       "      <th>25k</th>\n",
       "      <th>official</th>\n",
       "      <th>genderdiv</th>\n",
       "      <th>35k</th>\n",
       "      <th>overall</th>\n",
       "      <th>pace</th>\n",
       "      <th>30k</th>\n",
       "      <th>5k</th>\n",
       "      <th>half</th>\n",
       "      <th>20k</th>\n",
       "      <th>40k</th>\n",
       "    </tr>\n",
       "  </thead>\n",
       "  <tbody>\n",
       "    <tr>\n",
       "      <th>0</th>\n",
       "      <td>18</td>\n",
       "      <td>53.482727</td>\n",
       "      <td>4112.030303</td>\n",
       "      <td>140.314848</td>\n",
       "      <td>259.760606</td>\n",
       "      <td>9749.484848</td>\n",
       "      <td>208.637273</td>\n",
       "      <td>18714.787879</td>\n",
       "      <td>9.915152</td>\n",
       "      <td>173.231212</td>\n",
       "      <td>26.673030</td>\n",
       "      <td>116.546364</td>\n",
       "      <td>110.351212</td>\n",
       "      <td>244.668485</td>\n",
       "    </tr>\n",
       "    <tr>\n",
       "      <th>1</th>\n",
       "      <td>19</td>\n",
       "      <td>51.861220</td>\n",
       "      <td>3902.317073</td>\n",
       "      <td>136.445854</td>\n",
       "      <td>248.249268</td>\n",
       "      <td>9118.024390</td>\n",
       "      <td>201.186341</td>\n",
       "      <td>17407.902439</td>\n",
       "      <td>9.475610</td>\n",
       "      <td>167.979024</td>\n",
       "      <td>25.764634</td>\n",
       "      <td>112.664146</td>\n",
       "      <td>106.679756</td>\n",
       "      <td>234.520000</td>\n",
       "    </tr>\n",
       "    <tr>\n",
       "      <th>2</th>\n",
       "      <td>20</td>\n",
       "      <td>52.400450</td>\n",
       "      <td>3788.855856</td>\n",
       "      <td>136.486126</td>\n",
       "      <td>248.792973</td>\n",
       "      <td>8082.234234</td>\n",
       "      <td>201.548288</td>\n",
       "      <td>17106.855856</td>\n",
       "      <td>9.497658</td>\n",
       "      <td>167.733874</td>\n",
       "      <td>26.124414</td>\n",
       "      <td>113.459189</td>\n",
       "      <td>107.455495</td>\n",
       "      <td>235.067928</td>\n",
       "    </tr>\n",
       "    <tr>\n",
       "      <th>3</th>\n",
       "      <td>21</td>\n",
       "      <td>50.974220</td>\n",
       "      <td>3618.011561</td>\n",
       "      <td>133.581474</td>\n",
       "      <td>244.774162</td>\n",
       "      <td>7709.664740</td>\n",
       "      <td>198.042023</td>\n",
       "      <td>16149.815029</td>\n",
       "      <td>9.344335</td>\n",
       "      <td>165.094277</td>\n",
       "      <td>25.426243</td>\n",
       "      <td>111.126763</td>\n",
       "      <td>105.195087</td>\n",
       "      <td>231.099769</td>\n",
       "    </tr>\n",
       "    <tr>\n",
       "      <th>4</th>\n",
       "      <td>22</td>\n",
       "      <td>51.602393</td>\n",
       "      <td>3472.639286</td>\n",
       "      <td>132.670500</td>\n",
       "      <td>243.639536</td>\n",
       "      <td>7168.828571</td>\n",
       "      <td>196.898464</td>\n",
       "      <td>15677.571429</td>\n",
       "      <td>9.298536</td>\n",
       "      <td>164.573571</td>\n",
       "      <td>25.739464</td>\n",
       "      <td>111.410000</td>\n",
       "      <td>105.510071</td>\n",
       "      <td>229.341929</td>\n",
       "    </tr>\n",
       "  </tbody>\n",
       "</table>\n",
       "</div>"
      ],
      "text/plain": [
       "   age        10k     division         25k    official    genderdiv  \\\n",
       "0   18  53.482727  4112.030303  140.314848  259.760606  9749.484848   \n",
       "1   19  51.861220  3902.317073  136.445854  248.249268  9118.024390   \n",
       "2   20  52.400450  3788.855856  136.486126  248.792973  8082.234234   \n",
       "3   21  50.974220  3618.011561  133.581474  244.774162  7709.664740   \n",
       "4   22  51.602393  3472.639286  132.670500  243.639536  7168.828571   \n",
       "\n",
       "          35k       overall      pace         30k         5k        half  \\\n",
       "0  208.637273  18714.787879  9.915152  173.231212  26.673030  116.546364   \n",
       "1  201.186341  17407.902439  9.475610  167.979024  25.764634  112.664146   \n",
       "2  201.548288  17106.855856  9.497658  167.733874  26.124414  113.459189   \n",
       "3  198.042023  16149.815029  9.344335  165.094277  25.426243  111.126763   \n",
       "4  196.898464  15677.571429  9.298536  164.573571  25.739464  111.410000   \n",
       "\n",
       "          20k         40k  \n",
       "0  110.351212  244.668485  \n",
       "1  106.679756  234.520000  \n",
       "2  107.455495  235.067928  \n",
       "3  105.195087  231.099769  \n",
       "4  105.510071  229.341929  "
      ]
     },
     "metadata": {},
     "output_type": "display_data"
    }
   ],
   "source": [
    "##information for participants grouped by age \n",
    "df_age = df.groupby(['age'], as_index=False).mean()\n",
    "display(df_age.head())"
   ]
  },
  {
   "cell_type": "code",
   "execution_count": 22,
   "metadata": {},
   "outputs": [
    {
     "data": {
      "text/html": [
       "<div>\n",
       "<style>\n",
       "    .dataframe thead tr:only-child th {\n",
       "        text-align: right;\n",
       "    }\n",
       "\n",
       "    .dataframe thead th {\n",
       "        text-align: left;\n",
       "    }\n",
       "\n",
       "    .dataframe tbody tr th {\n",
       "        vertical-align: top;\n",
       "    }\n",
       "</style>\n",
       "<table border=\"1\" class=\"dataframe\">\n",
       "  <thead>\n",
       "    <tr style=\"text-align: right;\">\n",
       "      <th></th>\n",
       "      <th>country</th>\n",
       "      <th>10k</th>\n",
       "      <th>division</th>\n",
       "      <th>25k</th>\n",
       "      <th>age</th>\n",
       "      <th>official</th>\n",
       "      <th>genderdiv</th>\n",
       "      <th>35k</th>\n",
       "      <th>overall</th>\n",
       "      <th>pace</th>\n",
       "      <th>30k</th>\n",
       "      <th>5k</th>\n",
       "      <th>half</th>\n",
       "      <th>20k</th>\n",
       "      <th>40k</th>\n",
       "    </tr>\n",
       "  </thead>\n",
       "  <tbody>\n",
       "    <tr>\n",
       "      <th>0</th>\n",
       "      <td>ARG</td>\n",
       "      <td>45.895333</td>\n",
       "      <td>949.800000</td>\n",
       "      <td>117.000000</td>\n",
       "      <td>43.333333</td>\n",
       "      <td>207.736000</td>\n",
       "      <td>4688.800000</td>\n",
       "      <td>169.384667</td>\n",
       "      <td>8800.000000</td>\n",
       "      <td>7.933333</td>\n",
       "      <td>142.682000</td>\n",
       "      <td>22.826667</td>\n",
       "      <td>98.211333</td>\n",
       "      <td>93.079333</td>\n",
       "      <td>196.066667</td>\n",
       "    </tr>\n",
       "    <tr>\n",
       "      <th>1</th>\n",
       "      <td>AUS</td>\n",
       "      <td>48.201694</td>\n",
       "      <td>1363.290323</td>\n",
       "      <td>124.147177</td>\n",
       "      <td>44.564516</td>\n",
       "      <td>223.749274</td>\n",
       "      <td>6738.250000</td>\n",
       "      <td>181.168306</td>\n",
       "      <td>12243.814516</td>\n",
       "      <td>8.542016</td>\n",
       "      <td>151.934677</td>\n",
       "      <td>23.937177</td>\n",
       "      <td>103.609274</td>\n",
       "      <td>98.154274</td>\n",
       "      <td>210.732500</td>\n",
       "    </tr>\n",
       "    <tr>\n",
       "      <th>2</th>\n",
       "      <td>AUT</td>\n",
       "      <td>51.590000</td>\n",
       "      <td>1410.954545</td>\n",
       "      <td>135.106818</td>\n",
       "      <td>49.136364</td>\n",
       "      <td>248.881364</td>\n",
       "      <td>9661.090909</td>\n",
       "      <td>201.463182</td>\n",
       "      <td>17593.409091</td>\n",
       "      <td>9.501364</td>\n",
       "      <td>167.414091</td>\n",
       "      <td>25.738636</td>\n",
       "      <td>112.171818</td>\n",
       "      <td>106.046364</td>\n",
       "      <td>234.541364</td>\n",
       "    </tr>\n",
       "    <tr>\n",
       "      <th>3</th>\n",
       "      <td>BAH</td>\n",
       "      <td>59.320000</td>\n",
       "      <td>1601.000000</td>\n",
       "      <td>152.040000</td>\n",
       "      <td>45.000000</td>\n",
       "      <td>270.550000</td>\n",
       "      <td>9647.500000</td>\n",
       "      <td>222.380000</td>\n",
       "      <td>23049.500000</td>\n",
       "      <td>10.330000</td>\n",
       "      <td>187.200000</td>\n",
       "      <td>29.735000</td>\n",
       "      <td>126.575000</td>\n",
       "      <td>119.805000</td>\n",
       "      <td>256.065000</td>\n",
       "    </tr>\n",
       "    <tr>\n",
       "      <th>4</th>\n",
       "      <td>BAR</td>\n",
       "      <td>55.330000</td>\n",
       "      <td>1489.000000</td>\n",
       "      <td>143.650000</td>\n",
       "      <td>46.000000</td>\n",
       "      <td>256.120000</td>\n",
       "      <td>8677.000000</td>\n",
       "      <td>210.550000</td>\n",
       "      <td>21166.000000</td>\n",
       "      <td>9.780000</td>\n",
       "      <td>174.180000</td>\n",
       "      <td>29.120000</td>\n",
       "      <td>120.380000</td>\n",
       "      <td>114.400000</td>\n",
       "      <td>244.130000</td>\n",
       "    </tr>\n",
       "  </tbody>\n",
       "</table>\n",
       "</div>"
      ],
      "text/plain": [
       "  country        10k     division         25k        age    official  \\\n",
       "0     ARG  45.895333   949.800000  117.000000  43.333333  207.736000   \n",
       "1     AUS  48.201694  1363.290323  124.147177  44.564516  223.749274   \n",
       "2     AUT  51.590000  1410.954545  135.106818  49.136364  248.881364   \n",
       "3     BAH  59.320000  1601.000000  152.040000  45.000000  270.550000   \n",
       "4     BAR  55.330000  1489.000000  143.650000  46.000000  256.120000   \n",
       "\n",
       "     genderdiv         35k       overall       pace         30k         5k  \\\n",
       "0  4688.800000  169.384667   8800.000000   7.933333  142.682000  22.826667   \n",
       "1  6738.250000  181.168306  12243.814516   8.542016  151.934677  23.937177   \n",
       "2  9661.090909  201.463182  17593.409091   9.501364  167.414091  25.738636   \n",
       "3  9647.500000  222.380000  23049.500000  10.330000  187.200000  29.735000   \n",
       "4  8677.000000  210.550000  21166.000000   9.780000  174.180000  29.120000   \n",
       "\n",
       "         half         20k         40k  \n",
       "0   98.211333   93.079333  196.066667  \n",
       "1  103.609274   98.154274  210.732500  \n",
       "2  112.171818  106.046364  234.541364  \n",
       "3  126.575000  119.805000  256.065000  \n",
       "4  120.380000  114.400000  244.130000  "
      ]
     },
     "metadata": {},
     "output_type": "display_data"
    }
   ],
   "source": [
    "df_cntry = df.groupby(['country'], as_index=False).mean()\n",
    "display(df_cntry.head())"
   ]
  },
  {
   "cell_type": "code",
   "execution_count": 23,
   "metadata": {},
   "outputs": [
    {
     "data": {
      "image/png": "[encoded data removed]",
      "text/plain": [
       "<matplotlib.figure.Figure at 0x7fc46a53fa58>"
      ]
     },
     "metadata": {},
     "output_type": "display_data"
    }
   ],
   "source": [
    "plt.scatter(x = df_age['age'], y = df_age['official'],color = 'green')\n",
    "plt.title('2014 Finish Time by Age') \n",
    "plt.xlabel('Age groups')\n",
    "plt.ylabel('Finish Time (in minutes)');"
   ]
  },
  {
   "cell_type": "code",
   "execution_count": 24,
   "metadata": {},
   "outputs": [
    {
     "data": {
      "image/png": "[encoded data removed]",
      "text/plain": [
       "<matplotlib.figure.Figure at 0x7fc46a545be0>"
      ]
     },
     "metadata": {},
     "output_type": "display_data"
    }
   ],
   "source": [
    "plt.scatter(x = df_age['age'], y = df_age['overall'],color = 'green')\n",
    "plt.title('2014 Overall by Age') \n",
    "plt.xlabel('Age groups')\n",
    "plt.ylabel('Overall');"
   ]
  },
  {
   "cell_type": "code",
   "execution_count": 25,
   "metadata": {},
   "outputs": [
    {
     "data": {
      "image/png": "[encoded data removed]",
      "text/plain": [
       "<matplotlib.figure.Figure at 0x7fc46a4af630>"
      ]
     },
     "metadata": {},
     "output_type": "display_data"
    }
   ],
   "source": [
    "plt.scatter(x = df_age['age'], y = df_age['genderdiv'],color = 'red')\n",
    "plt.title('2014 Genderdiv by Age') \n",
    "plt.xlabel('Age groups')\n",
    "plt.ylabel('Finish Time (in minutes)');"
   ]
  },
  {
   "cell_type": "code",
   "execution_count": 26,
   "metadata": {
    "scrolled": true
   },
   "outputs": [
    {
     "data": {
      "image/png": "[encoded data removed]",
      "text/plain": [
       "<matplotlib.figure.Figure at 0x7fc46a42af60>"
      ]
     },
     "metadata": {},
     "output_type": "display_data"
    }
   ],
   "source": [
    "plt.scatter(y = df_age['official'], x = df_age['20k']);"
   ]
  },
  {
   "cell_type": "code",
   "execution_count": 27,
   "metadata": {},
   "outputs": [
    {
     "data": {
      "image/png": "[encoded data removed]",
      "text/plain": [
       "<matplotlib.figure.Figure at 0x7fc46a4a8940>"
      ]
     },
     "metadata": {},
     "output_type": "display_data"
    }
   ],
   "source": [
    "plt.scatter(x = df['10k'], y = df['official'],color = 'green')\n",
    "plt.title('2014 Finish Time for 10K') \n",
    "plt.xlabel('10k Participants times')\n",
    "plt.ylabel('Finish Time (in minutes)');"
   ]
  },
  {
   "cell_type": "code",
   "execution_count": 28,
   "metadata": {},
   "outputs": [
    {
     "data": {
      "image/png": "[encoded data removed]",
      "text/plain": [
       "<matplotlib.figure.Figure at 0x7fc46a4dc860>"
      ]
     },
     "metadata": {},
     "output_type": "display_data"
    }
   ],
   "source": [
    "plt.scatter(x = df['20k'], y = df['official'],color = 'blue')\n",
    "plt.title('2014 Finish Time for 20K') \n",
    "plt.xlabel('20k Participants times')\n",
    "plt.ylabel('Finish Time (in minutes)');"
   ]
  },
  {
   "cell_type": "code",
   "execution_count": 29,
   "metadata": {
    "scrolled": true
   },
   "outputs": [
    {
     "data": {
      "image/png": "[encoded data removed]",
      "text/plain": [
       "<matplotlib.figure.Figure at 0x7fc46a520390>"
      ]
     },
     "metadata": {},
     "output_type": "display_data"
    }
   ],
   "source": [
    "plt.scatter(x = df['pace'], y = df['official'],color = 'blue')\n",
    "plt.title('2014 Finish Time for particulat Pace of participlants') \n",
    "plt.xlabel('Pace Participants times')\n",
    "plt.ylabel('Finish Time (in minutes)');"
   ]
  },
  {
   "cell_type": "code",
   "execution_count": 30,
   "metadata": {},
   "outputs": [
    {
     "data": {
      "image/png": "[encoded data removed]",
      "text/plain": [
       "<matplotlib.figure.Figure at 0x7fc46a447ba8>"
      ]
     },
     "metadata": {},
     "output_type": "display_data"
    }
   ],
   "source": [
    "plt.scatter(x = df_age['age'], y = df_age['pace'],color = 'blue')\n",
    "plt.title('2014 Finish Time for particulat Pace of participlants') \n",
    "plt.xlabel('Age Participants')\n",
    "plt.ylabel('Pace Participants');"
   ]
  },
  {
   "cell_type": "code",
   "execution_count": 31,
   "metadata": {},
   "outputs": [
    {
     "data": {
      "text/html": [
       "<div>\n",
       "<style>\n",
       "    .dataframe thead tr:only-child th {\n",
       "        text-align: right;\n",
       "    }\n",
       "\n",
       "    .dataframe thead th {\n",
       "        text-align: left;\n",
       "    }\n",
       "\n",
       "    .dataframe tbody tr th {\n",
       "        vertical-align: top;\n",
       "    }\n",
       "</style>\n",
       "<table border=\"1\" class=\"dataframe\">\n",
       "  <thead>\n",
       "    <tr style=\"text-align: right;\">\n",
       "      <th></th>\n",
       "      <th>10k</th>\n",
       "      <th>name</th>\n",
       "      <th>division</th>\n",
       "      <th>25k</th>\n",
       "      <th>gender</th>\n",
       "      <th>age</th>\n",
       "      <th>official</th>\n",
       "      <th>bib</th>\n",
       "      <th>genderdiv</th>\n",
       "      <th>ctz</th>\n",
       "      <th>...</th>\n",
       "      <th>overall</th>\n",
       "      <th>pace</th>\n",
       "      <th>state</th>\n",
       "      <th>30k</th>\n",
       "      <th>5k</th>\n",
       "      <th>half</th>\n",
       "      <th>20k</th>\n",
       "      <th>country</th>\n",
       "      <th>city</th>\n",
       "      <th>40k</th>\n",
       "    </tr>\n",
       "  </thead>\n",
       "  <tbody>\n",
       "    <tr>\n",
       "      <th>22197</th>\n",
       "      <td>102.82</td>\n",
       "      <td>Counihan, Kevin D.</td>\n",
       "      <td>2475</td>\n",
       "      <td>289.020</td>\n",
       "      <td>M</td>\n",
       "      <td>52</td>\n",
       "      <td>538.88</td>\n",
       "      <td>25310</td>\n",
       "      <td>17575</td>\n",
       "      <td>NaN</td>\n",
       "      <td>...</td>\n",
       "      <td>31931</td>\n",
       "      <td>20.57</td>\n",
       "      <td>MA</td>\n",
       "      <td>367.20</td>\n",
       "      <td>46.47</td>\n",
       "      <td>236.67</td>\n",
       "      <td>224.35</td>\n",
       "      <td>USA</td>\n",
       "      <td>Beverly</td>\n",
       "      <td>508.17</td>\n",
       "    </tr>\n",
       "    <tr>\n",
       "      <th>28230</th>\n",
       "      <td>94.45</td>\n",
       "      <td>King, Cedric J.</td>\n",
       "      <td>5911</td>\n",
       "      <td>281.850</td>\n",
       "      <td>M</td>\n",
       "      <td>36</td>\n",
       "      <td>534.22</td>\n",
       "      <td>31764</td>\n",
       "      <td>17574</td>\n",
       "      <td>NaN</td>\n",
       "      <td>...</td>\n",
       "      <td>31930</td>\n",
       "      <td>20.38</td>\n",
       "      <td>MD</td>\n",
       "      <td>376.38</td>\n",
       "      <td>40.75</td>\n",
       "      <td>222.07</td>\n",
       "      <td>211.75</td>\n",
       "      <td>USA</td>\n",
       "      <td>Bethesda</td>\n",
       "      <td>508.35</td>\n",
       "    </tr>\n",
       "    <tr>\n",
       "      <th>29525</th>\n",
       "      <td>89.55</td>\n",
       "      <td>Buccilli, Alfred P.</td>\n",
       "      <td>2474</td>\n",
       "      <td>259.080</td>\n",
       "      <td>M</td>\n",
       "      <td>52</td>\n",
       "      <td>479.80</td>\n",
       "      <td>33159</td>\n",
       "      <td>17573</td>\n",
       "      <td>NaN</td>\n",
       "      <td>...</td>\n",
       "      <td>31929</td>\n",
       "      <td>18.30</td>\n",
       "      <td>MA</td>\n",
       "      <td>324.15</td>\n",
       "      <td>44.95</td>\n",
       "      <td>211.25</td>\n",
       "      <td>199.92</td>\n",
       "      <td>USA</td>\n",
       "      <td>Lynnfield</td>\n",
       "      <td>455.97</td>\n",
       "    </tr>\n",
       "    <tr>\n",
       "      <th>22164</th>\n",
       "      <td>84.32</td>\n",
       "      <td>Bauman, Mark</td>\n",
       "      <td>1112</td>\n",
       "      <td>128.875</td>\n",
       "      <td>M</td>\n",
       "      <td>64</td>\n",
       "      <td>473.17</td>\n",
       "      <td>25269</td>\n",
       "      <td>17572</td>\n",
       "      <td>NaN</td>\n",
       "      <td>...</td>\n",
       "      <td>31928</td>\n",
       "      <td>17.37</td>\n",
       "      <td>MI</td>\n",
       "      <td>311.38</td>\n",
       "      <td>40.78</td>\n",
       "      <td>202.22</td>\n",
       "      <td>189.23</td>\n",
       "      <td>USA</td>\n",
       "      <td>Flint</td>\n",
       "      <td>218.85</td>\n",
       "    </tr>\n",
       "    <tr>\n",
       "      <th>22307</th>\n",
       "      <td>95.77</td>\n",
       "      <td>Flynn, Cheryl A.</td>\n",
       "      <td>2297</td>\n",
       "      <td>128.875</td>\n",
       "      <td>F</td>\n",
       "      <td>47</td>\n",
       "      <td>472.57</td>\n",
       "      <td>25438</td>\n",
       "      <td>14356</td>\n",
       "      <td>NaN</td>\n",
       "      <td>...</td>\n",
       "      <td>31927</td>\n",
       "      <td>17.30</td>\n",
       "      <td>MA</td>\n",
       "      <td>322.28</td>\n",
       "      <td>43.10</td>\n",
       "      <td>213.68</td>\n",
       "      <td>202.07</td>\n",
       "      <td>USA</td>\n",
       "      <td>Concord</td>\n",
       "      <td>218.85</td>\n",
       "    </tr>\n",
       "    <tr>\n",
       "      <th>22191</th>\n",
       "      <td>81.80</td>\n",
       "      <td>Nash, Erica</td>\n",
       "      <td>6979</td>\n",
       "      <td>240.020</td>\n",
       "      <td>F</td>\n",
       "      <td>37</td>\n",
       "      <td>461.87</td>\n",
       "      <td>25304</td>\n",
       "      <td>14355</td>\n",
       "      <td>NaN</td>\n",
       "      <td>...</td>\n",
       "      <td>31926</td>\n",
       "      <td>17.62</td>\n",
       "      <td>WA</td>\n",
       "      <td>300.73</td>\n",
       "      <td>39.00</td>\n",
       "      <td>192.67</td>\n",
       "      <td>181.65</td>\n",
       "      <td>USA</td>\n",
       "      <td>Bellevue</td>\n",
       "      <td>433.28</td>\n",
       "    </tr>\n",
       "    <tr>\n",
       "      <th>22289</th>\n",
       "      <td>77.58</td>\n",
       "      <td>Hoyt, Richard</td>\n",
       "      <td>166</td>\n",
       "      <td>250.580</td>\n",
       "      <td>M</td>\n",
       "      <td>73</td>\n",
       "      <td>457.55</td>\n",
       "      <td>25418</td>\n",
       "      <td>17571</td>\n",
       "      <td>NaN</td>\n",
       "      <td>...</td>\n",
       "      <td>31925</td>\n",
       "      <td>17.47</td>\n",
       "      <td>MA</td>\n",
       "      <td>316.72</td>\n",
       "      <td>33.90</td>\n",
       "      <td>199.97</td>\n",
       "      <td>189.38</td>\n",
       "      <td>USA</td>\n",
       "      <td>Holland</td>\n",
       "      <td>436.57</td>\n",
       "    </tr>\n",
       "    <tr>\n",
       "      <th>22530</th>\n",
       "      <td>106.37</td>\n",
       "      <td>Okrepki, Bruce A.</td>\n",
       "      <td>2473</td>\n",
       "      <td>128.875</td>\n",
       "      <td>M</td>\n",
       "      <td>54</td>\n",
       "      <td>455.65</td>\n",
       "      <td>25684</td>\n",
       "      <td>17570</td>\n",
       "      <td>NaN</td>\n",
       "      <td>...</td>\n",
       "      <td>31924</td>\n",
       "      <td>17.67</td>\n",
       "      <td>LA</td>\n",
       "      <td>157.73</td>\n",
       "      <td>49.63</td>\n",
       "      <td>232.55</td>\n",
       "      <td>102.15</td>\n",
       "      <td>USA</td>\n",
       "      <td>Hammond</td>\n",
       "      <td>218.85</td>\n",
       "    </tr>\n",
       "    <tr>\n",
       "      <th>25423</th>\n",
       "      <td>81.03</td>\n",
       "      <td>Nassif, Julianne</td>\n",
       "      <td>1490</td>\n",
       "      <td>128.875</td>\n",
       "      <td>F</td>\n",
       "      <td>54</td>\n",
       "      <td>451.63</td>\n",
       "      <td>28747</td>\n",
       "      <td>14354</td>\n",
       "      <td>NaN</td>\n",
       "      <td>...</td>\n",
       "      <td>31923</td>\n",
       "      <td>16.45</td>\n",
       "      <td>MA</td>\n",
       "      <td>292.95</td>\n",
       "      <td>39.23</td>\n",
       "      <td>188.50</td>\n",
       "      <td>178.18</td>\n",
       "      <td>USA</td>\n",
       "      <td>Westwood</td>\n",
       "      <td>218.85</td>\n",
       "    </tr>\n",
       "    <tr>\n",
       "      <th>26814</th>\n",
       "      <td>91.73</td>\n",
       "      <td>Domeracki, Henry S.</td>\n",
       "      <td>1778</td>\n",
       "      <td>128.875</td>\n",
       "      <td>M</td>\n",
       "      <td>57</td>\n",
       "      <td>448.92</td>\n",
       "      <td>30240</td>\n",
       "      <td>17569</td>\n",
       "      <td>NaN</td>\n",
       "      <td>...</td>\n",
       "      <td>31922</td>\n",
       "      <td>16.12</td>\n",
       "      <td>TX</td>\n",
       "      <td>157.73</td>\n",
       "      <td>43.90</td>\n",
       "      <td>211.12</td>\n",
       "      <td>102.15</td>\n",
       "      <td>USA</td>\n",
       "      <td>Austin</td>\n",
       "      <td>218.85</td>\n",
       "    </tr>\n",
       "  </tbody>\n",
       "</table>\n",
       "<p>10 rows × 21 columns</p>\n",
       "</div>"
      ],
      "text/plain": [
       "          10k                 name  division      25k gender  age  official  \\\n",
       "22197  102.82   Counihan, Kevin D.      2475  289.020      M   52    538.88   \n",
       "28230   94.45      King, Cedric J.      5911  281.850      M   36    534.22   \n",
       "29525   89.55  Buccilli, Alfred P.      2474  259.080      M   52    479.80   \n",
       "22164   84.32         Bauman, Mark      1112  128.875      M   64    473.17   \n",
       "22307   95.77     Flynn, Cheryl A.      2297  128.875      F   47    472.57   \n",
       "22191   81.80          Nash, Erica      6979  240.020      F   37    461.87   \n",
       "22289   77.58        Hoyt, Richard       166  250.580      M   73    457.55   \n",
       "22530  106.37    Okrepki, Bruce A.      2473  128.875      M   54    455.65   \n",
       "25423   81.03     Nassif, Julianne      1490  128.875      F   54    451.63   \n",
       "26814   91.73  Domeracki, Henry S.      1778  128.875      M   57    448.92   \n",
       "\n",
       "         bib  genderdiv  ctz   ...    overall   pace  state     30k     5k  \\\n",
       "22197  25310      17575  NaN   ...      31931  20.57     MA  367.20  46.47   \n",
       "28230  31764      17574  NaN   ...      31930  20.38     MD  376.38  40.75   \n",
       "29525  33159      17573  NaN   ...      31929  18.30     MA  324.15  44.95   \n",
       "22164  25269      17572  NaN   ...      31928  17.37     MI  311.38  40.78   \n",
       "22307  25438      14356  NaN   ...      31927  17.30     MA  322.28  43.10   \n",
       "22191  25304      14355  NaN   ...      31926  17.62     WA  300.73  39.00   \n",
       "22289  25418      17571  NaN   ...      31925  17.47     MA  316.72  33.90   \n",
       "22530  25684      17570  NaN   ...      31924  17.67     LA  157.73  49.63   \n",
       "25423  28747      14354  NaN   ...      31923  16.45     MA  292.95  39.23   \n",
       "26814  30240      17569  NaN   ...      31922  16.12     TX  157.73  43.90   \n",
       "\n",
       "         half     20k  country       city     40k  \n",
       "22197  236.67  224.35      USA    Beverly  508.17  \n",
       "28230  222.07  211.75      USA   Bethesda  508.35  \n",
       "29525  211.25  199.92      USA  Lynnfield  455.97  \n",
       "22164  202.22  189.23      USA      Flint  218.85  \n",
       "22307  213.68  202.07      USA    Concord  218.85  \n",
       "22191  192.67  181.65      USA   Bellevue  433.28  \n",
       "22289  199.97  189.38      USA    Holland  436.57  \n",
       "22530  232.55  102.15      USA    Hammond  218.85  \n",
       "25423  188.50  178.18      USA   Westwood  218.85  \n",
       "26814  211.12  102.15      USA     Austin  218.85  \n",
       "\n",
       "[10 rows x 21 columns]"
      ]
     },
     "metadata": {},
     "output_type": "display_data"
    }
   ],
   "source": [
    "display(df.sort_values(['official'], ascending=False).head(10))"
   ]
  },
  {
   "cell_type": "code",
   "execution_count": 32,
   "metadata": {},
   "outputs": [
    {
     "data": {
      "text/html": [
       "<div>\n",
       "<style>\n",
       "    .dataframe thead tr:only-child th {\n",
       "        text-align: right;\n",
       "    }\n",
       "\n",
       "    .dataframe thead th {\n",
       "        text-align: left;\n",
       "    }\n",
       "\n",
       "    .dataframe tbody tr th {\n",
       "        vertical-align: top;\n",
       "    }\n",
       "</style>\n",
       "<table border=\"1\" class=\"dataframe\">\n",
       "  <thead>\n",
       "    <tr style=\"text-align: right;\">\n",
       "      <th></th>\n",
       "      <th>10k</th>\n",
       "      <th>name</th>\n",
       "      <th>division</th>\n",
       "      <th>25k</th>\n",
       "      <th>gender</th>\n",
       "      <th>age</th>\n",
       "      <th>official</th>\n",
       "      <th>bib</th>\n",
       "      <th>genderdiv</th>\n",
       "      <th>ctz</th>\n",
       "      <th>...</th>\n",
       "      <th>overall</th>\n",
       "      <th>pace</th>\n",
       "      <th>state</th>\n",
       "      <th>30k</th>\n",
       "      <th>5k</th>\n",
       "      <th>half</th>\n",
       "      <th>20k</th>\n",
       "      <th>country</th>\n",
       "      <th>city</th>\n",
       "      <th>40k</th>\n",
       "    </tr>\n",
       "  </thead>\n",
       "  <tbody>\n",
       "    <tr>\n",
       "      <th>124</th>\n",
       "      <td>20.65</td>\n",
       "      <td>McFadden, Tatyana</td>\n",
       "      <td>1</td>\n",
       "      <td>54.18</td>\n",
       "      <td>F</td>\n",
       "      <td>25</td>\n",
       "      <td>95.10</td>\n",
       "      <td>W101</td>\n",
       "      <td>1</td>\n",
       "      <td>NaN</td>\n",
       "      <td>...</td>\n",
       "      <td>17</td>\n",
       "      <td>3.63</td>\n",
       "      <td>IL</td>\n",
       "      <td>66.48</td>\n",
       "      <td>10.12</td>\n",
       "      <td>45.43</td>\n",
       "      <td>43.12</td>\n",
       "      <td>USA</td>\n",
       "      <td>Champaign</td>\n",
       "      <td>89.87</td>\n",
       "    </tr>\n",
       "    <tr>\n",
       "      <th>1</th>\n",
       "      <td>32.58</td>\n",
       "      <td>Jeptoo, Rita</td>\n",
       "      <td>1</td>\n",
       "      <td>82.43</td>\n",
       "      <td>F</td>\n",
       "      <td>33</td>\n",
       "      <td>138.95</td>\n",
       "      <td>F1</td>\n",
       "      <td>1</td>\n",
       "      <td>NaN</td>\n",
       "      <td>...</td>\n",
       "      <td>21</td>\n",
       "      <td>5.30</td>\n",
       "      <td>NaN</td>\n",
       "      <td>99.33</td>\n",
       "      <td>16.22</td>\n",
       "      <td>69.47</td>\n",
       "      <td>65.83</td>\n",
       "      <td>KEN</td>\n",
       "      <td>Eldoret</td>\n",
       "      <td>132.10</td>\n",
       "    </tr>\n",
       "    <tr>\n",
       "      <th>2</th>\n",
       "      <td>16.62</td>\n",
       "      <td>Van Dyk, Ernst F.</td>\n",
       "      <td>1</td>\n",
       "      <td>45.80</td>\n",
       "      <td>M</td>\n",
       "      <td>41</td>\n",
       "      <td>80.60</td>\n",
       "      <td>W2</td>\n",
       "      <td>1</td>\n",
       "      <td>NaN</td>\n",
       "      <td>...</td>\n",
       "      <td>1</td>\n",
       "      <td>3.08</td>\n",
       "      <td>NaN</td>\n",
       "      <td>56.45</td>\n",
       "      <td>7.75</td>\n",
       "      <td>38.03</td>\n",
       "      <td>36.10</td>\n",
       "      <td>RSA</td>\n",
       "      <td>Paarl</td>\n",
       "      <td>76.10</td>\n",
       "    </tr>\n",
       "    <tr>\n",
       "      <th>39</th>\n",
       "      <td>30.48</td>\n",
       "      <td>Keflezighi, Meb</td>\n",
       "      <td>1</td>\n",
       "      <td>76.00</td>\n",
       "      <td>M</td>\n",
       "      <td>38</td>\n",
       "      <td>128.62</td>\n",
       "      <td>19</td>\n",
       "      <td>1</td>\n",
       "      <td>NaN</td>\n",
       "      <td>...</td>\n",
       "      <td>1</td>\n",
       "      <td>4.92</td>\n",
       "      <td>CA</td>\n",
       "      <td>91.17</td>\n",
       "      <td>15.15</td>\n",
       "      <td>64.35</td>\n",
       "      <td>61.08</td>\n",
       "      <td>USA</td>\n",
       "      <td>San Diego</td>\n",
       "      <td>121.82</td>\n",
       "    </tr>\n",
       "    <tr>\n",
       "      <th>4</th>\n",
       "      <td>17.12</td>\n",
       "      <td>Hokinoue, Kota</td>\n",
       "      <td>2</td>\n",
       "      <td>46.37</td>\n",
       "      <td>M</td>\n",
       "      <td>40</td>\n",
       "      <td>81.23</td>\n",
       "      <td>W3</td>\n",
       "      <td>2</td>\n",
       "      <td>NaN</td>\n",
       "      <td>...</td>\n",
       "      <td>2</td>\n",
       "      <td>3.10</td>\n",
       "      <td>NaN</td>\n",
       "      <td>57.03</td>\n",
       "      <td>8.02</td>\n",
       "      <td>38.60</td>\n",
       "      <td>36.58</td>\n",
       "      <td>JPN</td>\n",
       "      <td>Nogata Fukuoka</td>\n",
       "      <td>76.72</td>\n",
       "    </tr>\n",
       "    <tr>\n",
       "      <th>133</th>\n",
       "      <td>19.75</td>\n",
       "      <td>Tsuchida, Wakako</td>\n",
       "      <td>2</td>\n",
       "      <td>54.88</td>\n",
       "      <td>F</td>\n",
       "      <td>39</td>\n",
       "      <td>97.40</td>\n",
       "      <td>W105</td>\n",
       "      <td>2</td>\n",
       "      <td>NaN</td>\n",
       "      <td>...</td>\n",
       "      <td>24</td>\n",
       "      <td>3.72</td>\n",
       "      <td>NaN</td>\n",
       "      <td>68.18</td>\n",
       "      <td>9.25</td>\n",
       "      <td>45.42</td>\n",
       "      <td>43.15</td>\n",
       "      <td>JPN</td>\n",
       "      <td>Tama City Tokyo</td>\n",
       "      <td>92.07</td>\n",
       "    </tr>\n",
       "    <tr>\n",
       "      <th>17</th>\n",
       "      <td>32.57</td>\n",
       "      <td>Deba, Buzunesh</td>\n",
       "      <td>2</td>\n",
       "      <td>82.43</td>\n",
       "      <td>F</td>\n",
       "      <td>26</td>\n",
       "      <td>139.98</td>\n",
       "      <td>F10</td>\n",
       "      <td>2</td>\n",
       "      <td>NaN</td>\n",
       "      <td>...</td>\n",
       "      <td>25</td>\n",
       "      <td>5.35</td>\n",
       "      <td>NaN</td>\n",
       "      <td>99.35</td>\n",
       "      <td>16.20</td>\n",
       "      <td>69.47</td>\n",
       "      <td>65.83</td>\n",
       "      <td>ETH</td>\n",
       "      <td>Arsi</td>\n",
       "      <td>132.65</td>\n",
       "    </tr>\n",
       "    <tr>\n",
       "      <th>11</th>\n",
       "      <td>30.52</td>\n",
       "      <td>Chebet, Wilson</td>\n",
       "      <td>2</td>\n",
       "      <td>76.97</td>\n",
       "      <td>M</td>\n",
       "      <td>28</td>\n",
       "      <td>128.80</td>\n",
       "      <td>7</td>\n",
       "      <td>2</td>\n",
       "      <td>NaN</td>\n",
       "      <td>...</td>\n",
       "      <td>2</td>\n",
       "      <td>4.92</td>\n",
       "      <td>NaN</td>\n",
       "      <td>92.52</td>\n",
       "      <td>15.18</td>\n",
       "      <td>64.87</td>\n",
       "      <td>61.63</td>\n",
       "      <td>KEN</td>\n",
       "      <td>Marakwet</td>\n",
       "      <td>121.95</td>\n",
       "    </tr>\n",
       "    <tr>\n",
       "      <th>3</th>\n",
       "      <td>32.57</td>\n",
       "      <td>Dibaba, Mare</td>\n",
       "      <td>3</td>\n",
       "      <td>82.43</td>\n",
       "      <td>F</td>\n",
       "      <td>24</td>\n",
       "      <td>140.58</td>\n",
       "      <td>F2</td>\n",
       "      <td>3</td>\n",
       "      <td>NaN</td>\n",
       "      <td>...</td>\n",
       "      <td>27</td>\n",
       "      <td>5.37</td>\n",
       "      <td>NaN</td>\n",
       "      <td>99.33</td>\n",
       "      <td>16.20</td>\n",
       "      <td>69.47</td>\n",
       "      <td>65.83</td>\n",
       "      <td>ETH</td>\n",
       "      <td>Shoa</td>\n",
       "      <td>132.95</td>\n",
       "    </tr>\n",
       "    <tr>\n",
       "      <th>20</th>\n",
       "      <td>30.50</td>\n",
       "      <td>Chepkwony, Frankline</td>\n",
       "      <td>3</td>\n",
       "      <td>76.95</td>\n",
       "      <td>M</td>\n",
       "      <td>29</td>\n",
       "      <td>128.83</td>\n",
       "      <td>11</td>\n",
       "      <td>3</td>\n",
       "      <td>NaN</td>\n",
       "      <td>...</td>\n",
       "      <td>3</td>\n",
       "      <td>4.92</td>\n",
       "      <td>NaN</td>\n",
       "      <td>92.52</td>\n",
       "      <td>15.18</td>\n",
       "      <td>64.90</td>\n",
       "      <td>61.63</td>\n",
       "      <td>KEN</td>\n",
       "      <td>Koibatek</td>\n",
       "      <td>122.22</td>\n",
       "    </tr>\n",
       "  </tbody>\n",
       "</table>\n",
       "<p>10 rows × 21 columns</p>\n",
       "</div>"
      ],
      "text/plain": [
       "       10k                  name  division    25k gender  age  official   bib  \\\n",
       "124  20.65     McFadden, Tatyana         1  54.18      F   25     95.10  W101   \n",
       "1    32.58          Jeptoo, Rita         1  82.43      F   33    138.95    F1   \n",
       "2    16.62     Van Dyk, Ernst F.         1  45.80      M   41     80.60    W2   \n",
       "39   30.48       Keflezighi, Meb         1  76.00      M   38    128.62    19   \n",
       "4    17.12        Hokinoue, Kota         2  46.37      M   40     81.23    W3   \n",
       "133  19.75      Tsuchida, Wakako         2  54.88      F   39     97.40  W105   \n",
       "17   32.57        Deba, Buzunesh         2  82.43      F   26    139.98   F10   \n",
       "11   30.52        Chebet, Wilson         2  76.97      M   28    128.80     7   \n",
       "3    32.57          Dibaba, Mare         3  82.43      F   24    140.58    F2   \n",
       "20   30.50  Chepkwony, Frankline         3  76.95      M   29    128.83    11   \n",
       "\n",
       "     genderdiv  ctz   ...    overall  pace  state    30k     5k   half    20k  \\\n",
       "124          1  NaN   ...         17  3.63     IL  66.48  10.12  45.43  43.12   \n",
       "1            1  NaN   ...         21  5.30    NaN  99.33  16.22  69.47  65.83   \n",
       "2            1  NaN   ...          1  3.08    NaN  56.45   7.75  38.03  36.10   \n",
       "39           1  NaN   ...          1  4.92     CA  91.17  15.15  64.35  61.08   \n",
       "4            2  NaN   ...          2  3.10    NaN  57.03   8.02  38.60  36.58   \n",
       "133          2  NaN   ...         24  3.72    NaN  68.18   9.25  45.42  43.15   \n",
       "17           2  NaN   ...         25  5.35    NaN  99.35  16.20  69.47  65.83   \n",
       "11           2  NaN   ...          2  4.92    NaN  92.52  15.18  64.87  61.63   \n",
       "3            3  NaN   ...         27  5.37    NaN  99.33  16.20  69.47  65.83   \n",
       "20           3  NaN   ...          3  4.92    NaN  92.52  15.18  64.90  61.63   \n",
       "\n",
       "     country             city     40k  \n",
       "124      USA        Champaign   89.87  \n",
       "1        KEN          Eldoret  132.10  \n",
       "2        RSA            Paarl   76.10  \n",
       "39       USA        San Diego  121.82  \n",
       "4        JPN   Nogata Fukuoka   76.72  \n",
       "133      JPN  Tama City Tokyo   92.07  \n",
       "17       ETH             Arsi  132.65  \n",
       "11       KEN         Marakwet  121.95  \n",
       "3        ETH             Shoa  132.95  \n",
       "20       KEN         Koibatek  122.22  \n",
       "\n",
       "[10 rows x 21 columns]"
      ]
     },
     "metadata": {},
     "output_type": "display_data"
    }
   ],
   "source": [
    "display(df.sort_values(['genderdiv'], ascending=True).head(10))"
   ]
  },
  {
   "cell_type": "markdown",
   "metadata": {},
   "source": [
    "## Features Engineering"
   ]
  },
  {
   "cell_type": "code",
   "execution_count": 33,
   "metadata": {
    "collapsed": true
   },
   "outputs": [],
   "source": [
    "## Create Feature that Separate Countries from the US and other \n",
    "df['US'] = np.where(df['country'] == 'USA', 1, 0)\n",
    "df['Female'] = np.where(df['gender'] == 'F', 1, 0)\n",
    "df['Male'] = np.where(df['gender'] == 'M', 1, 0)"
   ]
  },
  {
   "cell_type": "code",
   "execution_count": 34,
   "metadata": {
    "collapsed": true
   },
   "outputs": [],
   "source": [
    "## Create Features that separate by age    \n",
    "df['18_to_30'] = np.where((df['age'] == 18) & (df['age'] <= 30), 1, 0)\n",
    "df['31_to_40'] = np.where((df['age'] == 31) & (df['age'] <= 40), 1, 0)\n",
    "df['41_to_50'] = np.where((df['age'] == 41) & (df['age'] <= 50), 1, 0)\n",
    "df['51_to_60'] = np.where((df['age'] == 51) & (df['age'] <= 60), 1, 0)\n",
    "df['60_plus'] = np.where(df['age'] > 60, 1, 0)"
   ]
  },
  {
   "cell_type": "code",
   "execution_count": 35,
   "metadata": {
    "collapsed": true
   },
   "outputs": [],
   "source": [
    "## Create Features that separate by overall placements   \n",
    "df['top_20'] = np.where((df['overall'] == 1) & (df['age'] <= 20), 1, 0)\n",
    "df['top_50'] = np.where((df['overall'] == 1) & (df['age'] <= 50), 1, 0)\n",
    "df['top_100'] = np.where((df['overall'] == 1) & (df['age'] <= 100), 1, 0)"
   ]
  },
  {
   "cell_type": "code",
   "execution_count": null,
   "metadata": {
    "collapsed": true
   },
   "outputs": [],
   "source": []
  },
  {
   "cell_type": "code",
   "execution_count": 36,
   "metadata": {},
   "outputs": [
    {
     "data": {
      "image/png": "[encoded data removed]",
      "text/plain": [
       "<matplotlib.figure.Figure at 0x7fc469e4e6a0>"
      ]
     },
     "metadata": {},
     "output_type": "display_data"
    }
   ],
   "source": [
    "sns.regplot(\n",
    "    df['age'],\n",
    "    y=df['official'],\n",
    "    y_jitter=.49,\n",
    "    order=1,\n",
    "    scatter_kws={'alpha':0.3},\n",
    "    line_kws={'color':'black'},\n",
    "    ci=None\n",
    ")\n",
    "plt.show()\n",
    "\n",
    "df['Age_official'] = df['official'] / df['age']"
   ]
  },
  {
   "cell_type": "code",
   "execution_count": 37,
   "metadata": {},
   "outputs": [
    {
     "data": {
      "text/plain": [
       "<matplotlib.collections.PathCollection at 0x7fc46a9a64a8>"
      ]
     },
     "execution_count": 37,
     "metadata": {},
     "output_type": "execute_result"
    },
    {
     "data": {
      "image/png": "[encoded data removed]",
      "text/plain": [
       "<matplotlib.figure.Figure at 0x7fc46a642400>"
      ]
     },
     "metadata": {},
     "output_type": "display_data"
    }
   ],
   "source": [
    "plt.scatter(x = df['Age_official'], y = df['official'],color = 'blue')"
   ]
  },
  {
   "cell_type": "code",
   "execution_count": 38,
   "metadata": {},
   "outputs": [
    {
     "data": {
      "image/png": "[encoded data removed]",
      "text/plain": [
       "<matplotlib.figure.Figure at 0x7fc46a4f3be0>"
      ]
     },
     "metadata": {},
     "output_type": "display_data"
    }
   ],
   "source": [
    "sns.regplot(\n",
    "    df['official'],\n",
    "    y=df['overall'],\n",
    "    y_jitter=.49,\n",
    "    order=1,\n",
    "    scatter_kws={'alpha':0.3},\n",
    "    line_kws={'color':'black'},\n",
    "    ci=None\n",
    ")\n",
    "plt.show()\n",
    "\n",
    "df['overall_official'] = df['official'] / df['overall']"
   ]
  },
  {
   "cell_type": "code",
   "execution_count": 39,
   "metadata": {},
   "outputs": [
    {
     "data": {
      "text/plain": [
       "count    31984.000000\n",
       "mean         0.068883\n",
       "std          1.096843\n",
       "min          0.011006\n",
       "25%          0.011631\n",
       "50%          0.014582\n",
       "75%          0.025873\n",
       "max        128.620000\n",
       "Name: overall_official, dtype: float64"
      ]
     },
     "execution_count": 39,
     "metadata": {},
     "output_type": "execute_result"
    }
   ],
   "source": [
    "df['overall_official'].describe()"
   ]
  },
  {
   "cell_type": "code",
   "execution_count": 40,
   "metadata": {},
   "outputs": [
    {
     "data": {
      "text/html": [
       "<div>\n",
       "<style>\n",
       "    .dataframe thead tr:only-child th {\n",
       "        text-align: right;\n",
       "    }\n",
       "\n",
       "    .dataframe thead th {\n",
       "        text-align: left;\n",
       "    }\n",
       "\n",
       "    .dataframe tbody tr th {\n",
       "        vertical-align: top;\n",
       "    }\n",
       "</style>\n",
       "<table border=\"1\" class=\"dataframe\">\n",
       "  <thead>\n",
       "    <tr style=\"text-align: right;\">\n",
       "      <th></th>\n",
       "      <th>10k</th>\n",
       "      <th>name</th>\n",
       "      <th>division</th>\n",
       "      <th>25k</th>\n",
       "      <th>gender</th>\n",
       "      <th>age</th>\n",
       "      <th>official</th>\n",
       "      <th>bib</th>\n",
       "      <th>genderdiv</th>\n",
       "      <th>ctz</th>\n",
       "      <th>...</th>\n",
       "      <th>18_to_30</th>\n",
       "      <th>31_to_40</th>\n",
       "      <th>41_to_50</th>\n",
       "      <th>51_to_60</th>\n",
       "      <th>60_plus</th>\n",
       "      <th>top_20</th>\n",
       "      <th>top_50</th>\n",
       "      <th>top_100</th>\n",
       "      <th>Age_official</th>\n",
       "      <th>overall_official</th>\n",
       "    </tr>\n",
       "  </thead>\n",
       "  <tbody>\n",
       "    <tr>\n",
       "      <th>0</th>\n",
       "      <td>17.37</td>\n",
       "      <td>Yamamoto, Hiroyuki</td>\n",
       "      <td>8</td>\n",
       "      <td>47.67</td>\n",
       "      <td>M</td>\n",
       "      <td>47</td>\n",
       "      <td>85.25</td>\n",
       "      <td>W1</td>\n",
       "      <td>8</td>\n",
       "      <td>NaN</td>\n",
       "      <td>...</td>\n",
       "      <td>0</td>\n",
       "      <td>0</td>\n",
       "      <td>0</td>\n",
       "      <td>0</td>\n",
       "      <td>0</td>\n",
       "      <td>0</td>\n",
       "      <td>0</td>\n",
       "      <td>0</td>\n",
       "      <td>1.813830</td>\n",
       "      <td>10.656250</td>\n",
       "    </tr>\n",
       "    <tr>\n",
       "      <th>1</th>\n",
       "      <td>32.58</td>\n",
       "      <td>Jeptoo, Rita</td>\n",
       "      <td>1</td>\n",
       "      <td>82.43</td>\n",
       "      <td>F</td>\n",
       "      <td>33</td>\n",
       "      <td>138.95</td>\n",
       "      <td>F1</td>\n",
       "      <td>1</td>\n",
       "      <td>NaN</td>\n",
       "      <td>...</td>\n",
       "      <td>0</td>\n",
       "      <td>0</td>\n",
       "      <td>0</td>\n",
       "      <td>0</td>\n",
       "      <td>0</td>\n",
       "      <td>0</td>\n",
       "      <td>0</td>\n",
       "      <td>0</td>\n",
       "      <td>4.210606</td>\n",
       "      <td>6.616667</td>\n",
       "    </tr>\n",
       "    <tr>\n",
       "      <th>2</th>\n",
       "      <td>16.62</td>\n",
       "      <td>Van Dyk, Ernst F.</td>\n",
       "      <td>1</td>\n",
       "      <td>45.80</td>\n",
       "      <td>M</td>\n",
       "      <td>41</td>\n",
       "      <td>80.60</td>\n",
       "      <td>W2</td>\n",
       "      <td>1</td>\n",
       "      <td>NaN</td>\n",
       "      <td>...</td>\n",
       "      <td>0</td>\n",
       "      <td>0</td>\n",
       "      <td>1</td>\n",
       "      <td>0</td>\n",
       "      <td>0</td>\n",
       "      <td>0</td>\n",
       "      <td>1</td>\n",
       "      <td>1</td>\n",
       "      <td>1.965854</td>\n",
       "      <td>80.600000</td>\n",
       "    </tr>\n",
       "    <tr>\n",
       "      <th>3</th>\n",
       "      <td>32.57</td>\n",
       "      <td>Dibaba, Mare</td>\n",
       "      <td>3</td>\n",
       "      <td>82.43</td>\n",
       "      <td>F</td>\n",
       "      <td>24</td>\n",
       "      <td>140.58</td>\n",
       "      <td>F2</td>\n",
       "      <td>3</td>\n",
       "      <td>NaN</td>\n",
       "      <td>...</td>\n",
       "      <td>0</td>\n",
       "      <td>0</td>\n",
       "      <td>0</td>\n",
       "      <td>0</td>\n",
       "      <td>0</td>\n",
       "      <td>0</td>\n",
       "      <td>0</td>\n",
       "      <td>0</td>\n",
       "      <td>5.857500</td>\n",
       "      <td>5.206667</td>\n",
       "    </tr>\n",
       "    <tr>\n",
       "      <th>4</th>\n",
       "      <td>17.12</td>\n",
       "      <td>Hokinoue, Kota</td>\n",
       "      <td>2</td>\n",
       "      <td>46.37</td>\n",
       "      <td>M</td>\n",
       "      <td>40</td>\n",
       "      <td>81.23</td>\n",
       "      <td>W3</td>\n",
       "      <td>2</td>\n",
       "      <td>NaN</td>\n",
       "      <td>...</td>\n",
       "      <td>0</td>\n",
       "      <td>0</td>\n",
       "      <td>0</td>\n",
       "      <td>0</td>\n",
       "      <td>0</td>\n",
       "      <td>0</td>\n",
       "      <td>0</td>\n",
       "      <td>0</td>\n",
       "      <td>2.030750</td>\n",
       "      <td>40.615000</td>\n",
       "    </tr>\n",
       "  </tbody>\n",
       "</table>\n",
       "<p>5 rows × 34 columns</p>\n",
       "</div>"
      ],
      "text/plain": [
       "     10k                name  division    25k gender  age  official bib  \\\n",
       "0  17.37  Yamamoto, Hiroyuki         8  47.67      M   47     85.25  W1   \n",
       "1  32.58        Jeptoo, Rita         1  82.43      F   33    138.95  F1   \n",
       "2  16.62   Van Dyk, Ernst F.         1  45.80      M   41     80.60  W2   \n",
       "3  32.57        Dibaba, Mare         3  82.43      F   24    140.58  F2   \n",
       "4  17.12      Hokinoue, Kota         2  46.37      M   40     81.23  W3   \n",
       "\n",
       "   genderdiv  ctz       ...         18_to_30  31_to_40  41_to_50 51_to_60  \\\n",
       "0          8  NaN       ...                0         0         0        0   \n",
       "1          1  NaN       ...                0         0         0        0   \n",
       "2          1  NaN       ...                0         0         1        0   \n",
       "3          3  NaN       ...                0         0         0        0   \n",
       "4          2  NaN       ...                0         0         0        0   \n",
       "\n",
       "   60_plus  top_20  top_50  top_100 Age_official overall_official  \n",
       "0        0       0       0        0     1.813830        10.656250  \n",
       "1        0       0       0        0     4.210606         6.616667  \n",
       "2        0       0       1        1     1.965854        80.600000  \n",
       "3        0       0       0        0     5.857500         5.206667  \n",
       "4        0       0       0        0     2.030750        40.615000  \n",
       "\n",
       "[5 rows x 34 columns]"
      ]
     },
     "metadata": {},
     "output_type": "display_data"
    }
   ],
   "source": [
    "display(df.head())"
   ]
  },
  {
   "cell_type": "code",
   "execution_count": 41,
   "metadata": {},
   "outputs": [
    {
     "data": {
      "text/html": [
       "<div>\n",
       "<style>\n",
       "    .dataframe thead tr:only-child th {\n",
       "        text-align: right;\n",
       "    }\n",
       "\n",
       "    .dataframe thead th {\n",
       "        text-align: left;\n",
       "    }\n",
       "\n",
       "    .dataframe tbody tr th {\n",
       "        vertical-align: top;\n",
       "    }\n",
       "</style>\n",
       "<table border=\"1\" class=\"dataframe\">\n",
       "  <thead>\n",
       "    <tr style=\"text-align: right;\">\n",
       "      <th></th>\n",
       "      <th>10k</th>\n",
       "      <th>name</th>\n",
       "      <th>division</th>\n",
       "      <th>25k</th>\n",
       "      <th>gender</th>\n",
       "      <th>age</th>\n",
       "      <th>official</th>\n",
       "      <th>bib</th>\n",
       "      <th>genderdiv</th>\n",
       "      <th>ctz</th>\n",
       "      <th>...</th>\n",
       "      <th>18_to_30</th>\n",
       "      <th>31_to_40</th>\n",
       "      <th>41_to_50</th>\n",
       "      <th>51_to_60</th>\n",
       "      <th>60_plus</th>\n",
       "      <th>top_20</th>\n",
       "      <th>top_50</th>\n",
       "      <th>top_100</th>\n",
       "      <th>Age_official</th>\n",
       "      <th>overall_official</th>\n",
       "    </tr>\n",
       "  </thead>\n",
       "  <tbody>\n",
       "    <tr>\n",
       "      <th>0</th>\n",
       "      <td>17.37</td>\n",
       "      <td>Yamamoto, Hiroyuki</td>\n",
       "      <td>8</td>\n",
       "      <td>47.67</td>\n",
       "      <td>M</td>\n",
       "      <td>47</td>\n",
       "      <td>85.25</td>\n",
       "      <td>W1</td>\n",
       "      <td>8</td>\n",
       "      <td>NaN</td>\n",
       "      <td>...</td>\n",
       "      <td>0</td>\n",
       "      <td>0</td>\n",
       "      <td>0</td>\n",
       "      <td>0</td>\n",
       "      <td>0</td>\n",
       "      <td>0</td>\n",
       "      <td>0</td>\n",
       "      <td>0</td>\n",
       "      <td>1.813830</td>\n",
       "      <td>10.656250</td>\n",
       "    </tr>\n",
       "    <tr>\n",
       "      <th>1</th>\n",
       "      <td>32.58</td>\n",
       "      <td>Jeptoo, Rita</td>\n",
       "      <td>1</td>\n",
       "      <td>82.43</td>\n",
       "      <td>F</td>\n",
       "      <td>33</td>\n",
       "      <td>138.95</td>\n",
       "      <td>F1</td>\n",
       "      <td>1</td>\n",
       "      <td>NaN</td>\n",
       "      <td>...</td>\n",
       "      <td>0</td>\n",
       "      <td>0</td>\n",
       "      <td>0</td>\n",
       "      <td>0</td>\n",
       "      <td>0</td>\n",
       "      <td>0</td>\n",
       "      <td>0</td>\n",
       "      <td>0</td>\n",
       "      <td>4.210606</td>\n",
       "      <td>6.616667</td>\n",
       "    </tr>\n",
       "    <tr>\n",
       "      <th>2</th>\n",
       "      <td>16.62</td>\n",
       "      <td>Van Dyk, Ernst F.</td>\n",
       "      <td>1</td>\n",
       "      <td>45.80</td>\n",
       "      <td>M</td>\n",
       "      <td>41</td>\n",
       "      <td>80.60</td>\n",
       "      <td>W2</td>\n",
       "      <td>1</td>\n",
       "      <td>NaN</td>\n",
       "      <td>...</td>\n",
       "      <td>0</td>\n",
       "      <td>0</td>\n",
       "      <td>1</td>\n",
       "      <td>0</td>\n",
       "      <td>0</td>\n",
       "      <td>0</td>\n",
       "      <td>1</td>\n",
       "      <td>1</td>\n",
       "      <td>1.965854</td>\n",
       "      <td>80.600000</td>\n",
       "    </tr>\n",
       "    <tr>\n",
       "      <th>3</th>\n",
       "      <td>32.57</td>\n",
       "      <td>Dibaba, Mare</td>\n",
       "      <td>3</td>\n",
       "      <td>82.43</td>\n",
       "      <td>F</td>\n",
       "      <td>24</td>\n",
       "      <td>140.58</td>\n",
       "      <td>F2</td>\n",
       "      <td>3</td>\n",
       "      <td>NaN</td>\n",
       "      <td>...</td>\n",
       "      <td>0</td>\n",
       "      <td>0</td>\n",
       "      <td>0</td>\n",
       "      <td>0</td>\n",
       "      <td>0</td>\n",
       "      <td>0</td>\n",
       "      <td>0</td>\n",
       "      <td>0</td>\n",
       "      <td>5.857500</td>\n",
       "      <td>5.206667</td>\n",
       "    </tr>\n",
       "    <tr>\n",
       "      <th>4</th>\n",
       "      <td>17.12</td>\n",
       "      <td>Hokinoue, Kota</td>\n",
       "      <td>2</td>\n",
       "      <td>46.37</td>\n",
       "      <td>M</td>\n",
       "      <td>40</td>\n",
       "      <td>81.23</td>\n",
       "      <td>W3</td>\n",
       "      <td>2</td>\n",
       "      <td>NaN</td>\n",
       "      <td>...</td>\n",
       "      <td>0</td>\n",
       "      <td>0</td>\n",
       "      <td>0</td>\n",
       "      <td>0</td>\n",
       "      <td>0</td>\n",
       "      <td>0</td>\n",
       "      <td>0</td>\n",
       "      <td>0</td>\n",
       "      <td>2.030750</td>\n",
       "      <td>40.615000</td>\n",
       "    </tr>\n",
       "  </tbody>\n",
       "</table>\n",
       "<p>5 rows × 34 columns</p>\n",
       "</div>"
      ],
      "text/plain": [
       "     10k                name  division    25k gender  age  official bib  \\\n",
       "0  17.37  Yamamoto, Hiroyuki         8  47.67      M   47     85.25  W1   \n",
       "1  32.58        Jeptoo, Rita         1  82.43      F   33    138.95  F1   \n",
       "2  16.62   Van Dyk, Ernst F.         1  45.80      M   41     80.60  W2   \n",
       "3  32.57        Dibaba, Mare         3  82.43      F   24    140.58  F2   \n",
       "4  17.12      Hokinoue, Kota         2  46.37      M   40     81.23  W3   \n",
       "\n",
       "   genderdiv  ctz       ...         18_to_30  31_to_40  41_to_50 51_to_60  \\\n",
       "0          8  NaN       ...                0         0         0        0   \n",
       "1          1  NaN       ...                0         0         0        0   \n",
       "2          1  NaN       ...                0         0         1        0   \n",
       "3          3  NaN       ...                0         0         0        0   \n",
       "4          2  NaN       ...                0         0         0        0   \n",
       "\n",
       "   60_plus  top_20  top_50  top_100 Age_official overall_official  \n",
       "0        0       0       0        0     1.813830        10.656250  \n",
       "1        0       0       0        0     4.210606         6.616667  \n",
       "2        0       0       1        1     1.965854        80.600000  \n",
       "3        0       0       0        0     5.857500         5.206667  \n",
       "4        0       0       0        0     2.030750        40.615000  \n",
       "\n",
       "[5 rows x 34 columns]"
      ]
     },
     "metadata": {},
     "output_type": "display_data"
    }
   ],
   "source": [
    "display(df.head())"
   ]
  },
  {
   "cell_type": "code",
   "execution_count": 42,
   "metadata": {},
   "outputs": [
    {
     "data": {
      "text/html": [
       "<div>\n",
       "<style>\n",
       "    .dataframe thead tr:only-child th {\n",
       "        text-align: right;\n",
       "    }\n",
       "\n",
       "    .dataframe thead th {\n",
       "        text-align: left;\n",
       "    }\n",
       "\n",
       "    .dataframe tbody tr th {\n",
       "        vertical-align: top;\n",
       "    }\n",
       "</style>\n",
       "<table border=\"1\" class=\"dataframe\">\n",
       "  <thead>\n",
       "    <tr style=\"text-align: right;\">\n",
       "      <th></th>\n",
       "      <th>10k</th>\n",
       "      <th>name</th>\n",
       "      <th>division</th>\n",
       "      <th>25k</th>\n",
       "      <th>gender</th>\n",
       "      <th>age</th>\n",
       "      <th>official</th>\n",
       "      <th>bib</th>\n",
       "      <th>genderdiv</th>\n",
       "      <th>ctz</th>\n",
       "      <th>...</th>\n",
       "      <th>18_to_30</th>\n",
       "      <th>31_to_40</th>\n",
       "      <th>41_to_50</th>\n",
       "      <th>51_to_60</th>\n",
       "      <th>60_plus</th>\n",
       "      <th>top_20</th>\n",
       "      <th>top_50</th>\n",
       "      <th>top_100</th>\n",
       "      <th>Age_official</th>\n",
       "      <th>overall_official</th>\n",
       "    </tr>\n",
       "  </thead>\n",
       "  <tbody>\n",
       "    <tr>\n",
       "      <th>31979</th>\n",
       "      <td>50.72</td>\n",
       "      <td>Anderson, Steve K.</td>\n",
       "      <td>3414</td>\n",
       "      <td>124.02</td>\n",
       "      <td>M</td>\n",
       "      <td>32</td>\n",
       "      <td>211.75</td>\n",
       "      <td>35908</td>\n",
       "      <td>7500</td>\n",
       "      <td>NaN</td>\n",
       "      <td>...</td>\n",
       "      <td>0</td>\n",
       "      <td>0</td>\n",
       "      <td>0</td>\n",
       "      <td>0</td>\n",
       "      <td>0</td>\n",
       "      <td>0</td>\n",
       "      <td>0</td>\n",
       "      <td>0</td>\n",
       "      <td>6.617188</td>\n",
       "      <td>0.021500</td>\n",
       "    </tr>\n",
       "    <tr>\n",
       "      <th>31980</th>\n",
       "      <td>61.28</td>\n",
       "      <td>McCarthy, Michael P.</td>\n",
       "      <td>5212</td>\n",
       "      <td>165.02</td>\n",
       "      <td>M</td>\n",
       "      <td>34</td>\n",
       "      <td>302.52</td>\n",
       "      <td>35909</td>\n",
       "      <td>15459</td>\n",
       "      <td>NaN</td>\n",
       "      <td>...</td>\n",
       "      <td>0</td>\n",
       "      <td>0</td>\n",
       "      <td>0</td>\n",
       "      <td>0</td>\n",
       "      <td>0</td>\n",
       "      <td>0</td>\n",
       "      <td>0</td>\n",
       "      <td>0</td>\n",
       "      <td>8.897647</td>\n",
       "      <td>0.011018</td>\n",
       "    </tr>\n",
       "    <tr>\n",
       "      <th>31981</th>\n",
       "      <td>59.00</td>\n",
       "      <td>Brimmer, Delia C.</td>\n",
       "      <td>5231</td>\n",
       "      <td>157.02</td>\n",
       "      <td>F</td>\n",
       "      <td>21</td>\n",
       "      <td>282.00</td>\n",
       "      <td>35910</td>\n",
       "      <td>10788</td>\n",
       "      <td>NaN</td>\n",
       "      <td>...</td>\n",
       "      <td>0</td>\n",
       "      <td>0</td>\n",
       "      <td>0</td>\n",
       "      <td>0</td>\n",
       "      <td>0</td>\n",
       "      <td>0</td>\n",
       "      <td>0</td>\n",
       "      <td>0</td>\n",
       "      <td>13.428571</td>\n",
       "      <td>0.011239</td>\n",
       "    </tr>\n",
       "    <tr>\n",
       "      <th>31982</th>\n",
       "      <td>63.75</td>\n",
       "      <td>Morganthal, Amy</td>\n",
       "      <td>5800</td>\n",
       "      <td>167.82</td>\n",
       "      <td>F</td>\n",
       "      <td>38</td>\n",
       "      <td>302.73</td>\n",
       "      <td>35911</td>\n",
       "      <td>12009</td>\n",
       "      <td>NaN</td>\n",
       "      <td>...</td>\n",
       "      <td>0</td>\n",
       "      <td>0</td>\n",
       "      <td>0</td>\n",
       "      <td>0</td>\n",
       "      <td>0</td>\n",
       "      <td>0</td>\n",
       "      <td>0</td>\n",
       "      <td>0</td>\n",
       "      <td>7.966579</td>\n",
       "      <td>0.011018</td>\n",
       "    </tr>\n",
       "    <tr>\n",
       "      <th>31983</th>\n",
       "      <td>53.63</td>\n",
       "      <td>Kirchner, Jeffrey T.</td>\n",
       "      <td>1396</td>\n",
       "      <td>135.02</td>\n",
       "      <td>M</td>\n",
       "      <td>54</td>\n",
       "      <td>228.30</td>\n",
       "      <td>35912</td>\n",
       "      <td>9771</td>\n",
       "      <td>NaN</td>\n",
       "      <td>...</td>\n",
       "      <td>0</td>\n",
       "      <td>0</td>\n",
       "      <td>0</td>\n",
       "      <td>0</td>\n",
       "      <td>0</td>\n",
       "      <td>0</td>\n",
       "      <td>0</td>\n",
       "      <td>0</td>\n",
       "      <td>4.227778</td>\n",
       "      <td>0.015380</td>\n",
       "    </tr>\n",
       "  </tbody>\n",
       "</table>\n",
       "<p>5 rows × 34 columns</p>\n",
       "</div>"
      ],
      "text/plain": [
       "         10k                  name  division     25k gender  age  official  \\\n",
       "31979  50.72    Anderson, Steve K.      3414  124.02      M   32    211.75   \n",
       "31980  61.28  McCarthy, Michael P.      5212  165.02      M   34    302.52   \n",
       "31981  59.00     Brimmer, Delia C.      5231  157.02      F   21    282.00   \n",
       "31982  63.75       Morganthal, Amy      5800  167.82      F   38    302.73   \n",
       "31983  53.63  Kirchner, Jeffrey T.      1396  135.02      M   54    228.30   \n",
       "\n",
       "         bib  genderdiv  ctz       ...         18_to_30  31_to_40  41_to_50  \\\n",
       "31979  35908       7500  NaN       ...                0         0         0   \n",
       "31980  35909      15459  NaN       ...                0         0         0   \n",
       "31981  35910      10788  NaN       ...                0         0         0   \n",
       "31982  35911      12009  NaN       ...                0         0         0   \n",
       "31983  35912       9771  NaN       ...                0         0         0   \n",
       "\n",
       "      51_to_60  60_plus  top_20  top_50  top_100 Age_official overall_official  \n",
       "31979        0        0       0       0        0     6.617188         0.021500  \n",
       "31980        0        0       0       0        0     8.897647         0.011018  \n",
       "31981        0        0       0       0        0    13.428571         0.011239  \n",
       "31982        0        0       0       0        0     7.966579         0.011018  \n",
       "31983        0        0       0       0        0     4.227778         0.015380  \n",
       "\n",
       "[5 rows x 34 columns]"
      ]
     },
     "metadata": {},
     "output_type": "display_data"
    }
   ],
   "source": [
    "display(df.tail())"
   ]
  },
  {
   "cell_type": "code",
   "execution_count": 43,
   "metadata": {},
   "outputs": [
    {
     "data": {
      "text/plain": [
       "Index(['10k', 'name', 'division', '25k', 'gender', 'age', 'official', 'bib',\n",
       "       'genderdiv', 'ctz', '35k', 'overall', 'pace', 'state', '30k', '5k',\n",
       "       'half', '20k', 'country', 'city', '40k', 'US', 'Female', 'Male',\n",
       "       '18_to_30', '31_to_40', '41_to_50', '51_to_60', '60_plus', 'top_20',\n",
       "       'top_50', 'top_100', 'Age_official', 'overall_official'],\n",
       "      dtype='object')"
      ]
     },
     "execution_count": 43,
     "metadata": {},
     "output_type": "execute_result"
    }
   ],
   "source": [
    "df.columns"
   ]
  },
  {
   "cell_type": "markdown",
   "metadata": {},
   "source": [
    "## Split into training and Test Set "
   ]
  },
  {
   "cell_type": "code",
   "execution_count": 44,
   "metadata": {
    "collapsed": true
   },
   "outputs": [],
   "source": [
    "# Make sure the number of rows divides evenly into four samples.\n",
    "rows = df.shape[0] - df.shape[0] % 4\n",
    "df = df.iloc[:rows, :]\n",
    "\n",
    "# Break into a set of features and a variable for the known outcome.\n",
    "X = df.drop(['gender','name','bib', 'ctz', 'state', 'country', 'city'],1)\n",
    "y = df['gender']\n",
    "\n",
    "# Normalize\n",
    "X_norm = normalize(X)\n",
    "\n",
    "# Data frame to store features and predicted cluster memberships.\n",
    "ypred = pd.DataFrame()\n",
    "\n",
    "from sklearn.model_selection import train_test_split\n",
    "\n",
    "#Divide into training and test sets.\n",
    "X_train, X_test, y_train, y_test = train_test_split(\n",
    "    X,\n",
    "    y,\n",
    "    test_size=0.5)"
   ]
  },
  {
   "cell_type": "code",
   "execution_count": 45,
   "metadata": {},
   "outputs": [
    {
     "data": {
      "text/html": [
       "<div>\n",
       "<style>\n",
       "    .dataframe thead tr:only-child th {\n",
       "        text-align: right;\n",
       "    }\n",
       "\n",
       "    .dataframe thead th {\n",
       "        text-align: left;\n",
       "    }\n",
       "\n",
       "    .dataframe tbody tr th {\n",
       "        vertical-align: top;\n",
       "    }\n",
       "</style>\n",
       "<table border=\"1\" class=\"dataframe\">\n",
       "  <thead>\n",
       "    <tr style=\"text-align: right;\">\n",
       "      <th></th>\n",
       "      <th>10k</th>\n",
       "      <th>division</th>\n",
       "      <th>25k</th>\n",
       "      <th>age</th>\n",
       "      <th>official</th>\n",
       "      <th>genderdiv</th>\n",
       "      <th>35k</th>\n",
       "      <th>overall</th>\n",
       "      <th>pace</th>\n",
       "      <th>30k</th>\n",
       "      <th>...</th>\n",
       "      <th>18_to_30</th>\n",
       "      <th>31_to_40</th>\n",
       "      <th>41_to_50</th>\n",
       "      <th>51_to_60</th>\n",
       "      <th>60_plus</th>\n",
       "      <th>top_20</th>\n",
       "      <th>top_50</th>\n",
       "      <th>top_100</th>\n",
       "      <th>Age_official</th>\n",
       "      <th>overall_official</th>\n",
       "    </tr>\n",
       "  </thead>\n",
       "  <tbody>\n",
       "    <tr>\n",
       "      <th>27482</th>\n",
       "      <td>65.68</td>\n",
       "      <td>5678</td>\n",
       "      <td>173.37</td>\n",
       "      <td>27</td>\n",
       "      <td>297.65</td>\n",
       "      <td>11765</td>\n",
       "      <td>244.90</td>\n",
       "      <td>27009</td>\n",
       "      <td>11.37</td>\n",
       "      <td>208.32</td>\n",
       "      <td>...</td>\n",
       "      <td>0</td>\n",
       "      <td>0</td>\n",
       "      <td>0</td>\n",
       "      <td>0</td>\n",
       "      <td>0</td>\n",
       "      <td>0</td>\n",
       "      <td>0</td>\n",
       "      <td>0</td>\n",
       "      <td>11.024074</td>\n",
       "      <td>0.011020</td>\n",
       "    </tr>\n",
       "    <tr>\n",
       "      <th>2893</th>\n",
       "      <td>41.02</td>\n",
       "      <td>114</td>\n",
       "      <td>104.17</td>\n",
       "      <td>34</td>\n",
       "      <td>180.57</td>\n",
       "      <td>137</td>\n",
       "      <td>149.00</td>\n",
       "      <td>2461</td>\n",
       "      <td>6.90</td>\n",
       "      <td>126.57</td>\n",
       "      <td>...</td>\n",
       "      <td>0</td>\n",
       "      <td>0</td>\n",
       "      <td>0</td>\n",
       "      <td>0</td>\n",
       "      <td>0</td>\n",
       "      <td>0</td>\n",
       "      <td>0</td>\n",
       "      <td>0</td>\n",
       "      <td>5.310882</td>\n",
       "      <td>0.073373</td>\n",
       "    </tr>\n",
       "    <tr>\n",
       "      <th>6587</th>\n",
       "      <td>43.13</td>\n",
       "      <td>1541</td>\n",
       "      <td>111.55</td>\n",
       "      <td>43</td>\n",
       "      <td>217.97</td>\n",
       "      <td>8443</td>\n",
       "      <td>171.93</td>\n",
       "      <td>11778</td>\n",
       "      <td>8.32</td>\n",
       "      <td>139.97</td>\n",
       "      <td>...</td>\n",
       "      <td>0</td>\n",
       "      <td>0</td>\n",
       "      <td>0</td>\n",
       "      <td>0</td>\n",
       "      <td>0</td>\n",
       "      <td>0</td>\n",
       "      <td>0</td>\n",
       "      <td>0</td>\n",
       "      <td>5.069070</td>\n",
       "      <td>0.018507</td>\n",
       "    </tr>\n",
       "    <tr>\n",
       "      <th>28142</th>\n",
       "      <td>59.53</td>\n",
       "      <td>1178</td>\n",
       "      <td>154.40</td>\n",
       "      <td>51</td>\n",
       "      <td>288.82</td>\n",
       "      <td>11243</td>\n",
       "      <td>232.12</td>\n",
       "      <td>25970</td>\n",
       "      <td>11.02</td>\n",
       "      <td>192.62</td>\n",
       "      <td>...</td>\n",
       "      <td>0</td>\n",
       "      <td>0</td>\n",
       "      <td>0</td>\n",
       "      <td>1</td>\n",
       "      <td>0</td>\n",
       "      <td>0</td>\n",
       "      <td>0</td>\n",
       "      <td>0</td>\n",
       "      <td>5.663137</td>\n",
       "      <td>0.011121</td>\n",
       "    </tr>\n",
       "    <tr>\n",
       "      <th>2936</th>\n",
       "      <td>42.32</td>\n",
       "      <td>2861</td>\n",
       "      <td>111.12</td>\n",
       "      <td>22</td>\n",
       "      <td>198.28</td>\n",
       "      <td>5200</td>\n",
       "      <td>161.47</td>\n",
       "      <td>5997</td>\n",
       "      <td>7.57</td>\n",
       "      <td>135.98</td>\n",
       "      <td>...</td>\n",
       "      <td>0</td>\n",
       "      <td>0</td>\n",
       "      <td>0</td>\n",
       "      <td>0</td>\n",
       "      <td>0</td>\n",
       "      <td>0</td>\n",
       "      <td>0</td>\n",
       "      <td>0</td>\n",
       "      <td>9.012727</td>\n",
       "      <td>0.033063</td>\n",
       "    </tr>\n",
       "  </tbody>\n",
       "</table>\n",
       "<p>5 rows × 27 columns</p>\n",
       "</div>"
      ],
      "text/plain": [
       "         10k  division     25k  age  official  genderdiv     35k  overall  \\\n",
       "27482  65.68      5678  173.37   27    297.65      11765  244.90    27009   \n",
       "2893   41.02       114  104.17   34    180.57        137  149.00     2461   \n",
       "6587   43.13      1541  111.55   43    217.97       8443  171.93    11778   \n",
       "28142  59.53      1178  154.40   51    288.82      11243  232.12    25970   \n",
       "2936   42.32      2861  111.12   22    198.28       5200  161.47     5997   \n",
       "\n",
       "        pace     30k        ...         18_to_30  31_to_40  41_to_50  \\\n",
       "27482  11.37  208.32        ...                0         0         0   \n",
       "2893    6.90  126.57        ...                0         0         0   \n",
       "6587    8.32  139.97        ...                0         0         0   \n",
       "28142  11.02  192.62        ...                0         0         0   \n",
       "2936    7.57  135.98        ...                0         0         0   \n",
       "\n",
       "       51_to_60  60_plus  top_20  top_50  top_100  Age_official  \\\n",
       "27482         0        0       0       0        0     11.024074   \n",
       "2893          0        0       0       0        0      5.310882   \n",
       "6587          0        0       0       0        0      5.069070   \n",
       "28142         1        0       0       0        0      5.663137   \n",
       "2936          0        0       0       0        0      9.012727   \n",
       "\n",
       "       overall_official  \n",
       "27482          0.011020  \n",
       "2893           0.073373  \n",
       "6587           0.018507  \n",
       "28142          0.011121  \n",
       "2936           0.033063  \n",
       "\n",
       "[5 rows x 27 columns]"
      ]
     },
     "metadata": {},
     "output_type": "display_data"
    }
   ],
   "source": [
    "display(X_train.head())\n"
   ]
  },
  {
   "cell_type": "code",
   "execution_count": 46,
   "metadata": {},
   "outputs": [
    {
     "data": {
      "text/plain": [
       "10k                 float64\n",
       "division              int64\n",
       "25k                 float64\n",
       "age                   int64\n",
       "official            float64\n",
       "genderdiv             int64\n",
       "35k                 float64\n",
       "overall               int64\n",
       "pace                float64\n",
       "30k                 float64\n",
       "5k                  float64\n",
       "half                float64\n",
       "20k                 float64\n",
       "40k                 float64\n",
       "US                    int64\n",
       "Female                int64\n",
       "Male                  int64\n",
       "18_to_30              int64\n",
       "31_to_40              int64\n",
       "41_to_50              int64\n",
       "51_to_60              int64\n",
       "60_plus               int64\n",
       "top_20                int64\n",
       "top_50                int64\n",
       "top_100               int64\n",
       "Age_official        float64\n",
       "overall_official    float64\n",
       "dtype: object"
      ]
     },
     "execution_count": 46,
     "metadata": {},
     "output_type": "execute_result"
    }
   ],
   "source": [
    "X_train.dtypes"
   ]
  },
  {
   "cell_type": "markdown",
   "metadata": {},
   "source": [
    "## Clustering Methods"
   ]
  },
  {
   "cell_type": "markdown",
   "metadata": {},
   "source": [
    "### K-Means "
   ]
  },
  {
   "cell_type": "code",
   "execution_count": 47,
   "metadata": {},
   "outputs": [
    {
     "name": "stdout",
     "output_type": "stream",
     "text": [
      "Runtime for KMeans: 1.1005570000000002 seconds\n",
      "\n",
      "Comparing k-means clusters against the training set data:\n",
      "col_0      0     1\n",
      "gender            \n",
      "F       3224  4047\n",
      "M       4993  3728\n"
     ]
    }
   ],
   "source": [
    "start_time = time.clock()\n",
    "\n",
    "# Calculate predicted values.\n",
    "km = KMeans(n_clusters=2).fit(X_train)\n",
    "y_train_pred = km.predict(X_train)\n",
    "\n",
    "print('Runtime for KMeans: '+'%s seconds'% (time.clock() - start_time))\n",
    "\n",
    "\n",
    "# Check the solution against the data.\n",
    "print('\\nComparing k-means clusters against the training set data:')\n",
    "print(pd.crosstab(y_train, y_train_pred))\n",
    "\n"
   ]
  },
  {
   "cell_type": "markdown",
   "metadata": {},
   "source": [
    "When comparing between US and Non US\n",
    "For n = 2  \n",
    "992 Non US are in Cluster 0 and 1379 are misassigned to cluster 1     \n",
    "6862 US Citizen in Cluster 0 and 67538 are misassigned to cluster 1      \n",
    "\n",
    "__For Clustering between Man and Women__\n",
    "\n",
    "col_0      0     1    \n",
    "gender            \n",
    "F       3224  4047      \n",
    "M       4993  3728       "
   ]
  },
  {
   "cell_type": "code",
   "execution_count": 48,
   "metadata": {},
   "outputs": [
    {
     "name": "stdout",
     "output_type": "stream",
     "text": [
      "Number of estimated clusters: 2\n",
      "0.576257237547\n",
      "Number of estimated clusters: 4\n",
      "0.439121252489\n",
      "Number of estimated clusters: 6\n",
      "0.3541571585\n",
      "Number of estimated clusters: 10\n",
      "0.398819248195\n",
      "Number of estimated clusters: 20\n",
      "0.409538990021\n",
      "Number of estimated clusters: 30\n",
      "0.43276346707\n",
      "Number of estimated clusters: 50\n",
      "0.451402453627\n"
     ]
    }
   ],
   "source": [
    "n_clusters = (2,4,6,10,20,30,50)\n",
    "for n in n_clusters:\n",
    "    print(\"Number of estimated clusters: {}\".format(n))\n",
    "    model = KMeans(n_clusters=n, random_state=None).fit(X_train)\n",
    "    labels = model.labels_\n",
    "    print(metrics.silhouette_score(X_train, labels, metric='euclidean'))"
   ]
  },
  {
   "cell_type": "markdown",
   "metadata": {},
   "source": [
    "__For Clustering between Man and Women__\n",
    "\n",
    "Number of estimated clusters: 2      \n",
    "0.576257237547    \n",
    "Number of estimated clusters: 4   \n",
    "0.439121252489    \n",
    "Number of estimated clusters: 6    \n",
    "0.3541571585     \n",
    "Number of estimated clusters: 10    \n",
    "0.398819248195      \n",
    "Number of estimated clusters: 20      \n",
    "0.409538990021    \n",
    "Number of estimated clusters: 30   \n",
    "0.43276346707   \n",
    "Number of estimated clusters: 50   \n",
    "0.451402453627    \n"
   ]
  },
  {
   "cell_type": "markdown",
   "metadata": {},
   "source": [
    "#### ARI for K-Means "
   ]
  },
  {
   "cell_type": "code",
   "execution_count": 49,
   "metadata": {},
   "outputs": [
    {
     "name": "stdout",
     "output_type": "stream",
     "text": [
      "ARI for  Training set data: \n",
      "0.0169801981641\n"
     ]
    }
   ],
   "source": [
    "from sklearn import metrics\n",
    "\n",
    "\n",
    "print('ARI for  Training set data: ')\n",
    "print(metrics.adjusted_rand_score(y_train,  y_train_pred))\n",
    "\n"
   ]
  },
  {
   "cell_type": "markdown",
   "metadata": {},
   "source": [
    "No better than randomness.\n",
    "\n",
    "__For Clustering between Man and Women__   \n",
    "ARI for  Training set data:   \n",
    "0.0169801981641   "
   ]
  },
  {
   "cell_type": "markdown",
   "metadata": {},
   "source": [
    "### Mean-shift"
   ]
  },
  {
   "cell_type": "code",
   "execution_count": 50,
   "metadata": {},
   "outputs": [
    {
     "name": "stdout",
     "output_type": "stream",
     "text": [
      "bandwidth: 5345.773967882073\n",
      "Number of estimated clusters: 3\n",
      "0.496301236979\n"
     ]
    }
   ],
   "source": [
    "from sklearn.cluster import MeanShift, estimate_bandwidth\n",
    "\n",
    "# Here we set the bandwidth. This function automatically derives a bandwidth\n",
    "# number based on an inspection of the distances among points in the data.\n",
    "#bandwidth = estimate_bandwidth(X_train.index.tolist(), quantile=0.2)\n",
    "\n",
    "bandwidth = estimate_bandwidth(X_train, quantile=0.2, n_samples=500)\n",
    "print(\"bandwidth: {}\".format(bandwidth))\n",
    "#bandwidth = 0.3\n",
    "model = MeanShift(bandwidth=bandwidth, bin_seeding=True)\n",
    "model.fit(X_train)\n",
    "labels = model.labels_\n",
    "cluster_centers = model.cluster_centers_\n",
    "n_clusters_ = len(np.unique(labels))\n",
    "print(\"Number of estimated clusters: {}\".format(n_clusters_))\n",
    "print(metrics.silhouette_score(X_train, labels, metric='euclidean'))"
   ]
  },
  {
   "cell_type": "markdown",
   "metadata": {},
   "source": [
    "__For Clustering between Man and Women__ \n",
    "\n",
    "bandwidth: 5345.773967882073    \n",
    "Number of estimated clusters: 3    \n",
    "0.496301236979    "
   ]
  },
  {
   "cell_type": "code",
   "execution_count": 51,
   "metadata": {},
   "outputs": [
    {
     "name": "stdout",
     "output_type": "stream",
     "text": [
      "Comparing the assigned categories to the ones in the data:\n",
      "col_0      0     1     2\n",
      "gender                  \n",
      "F       1447  3009  2815\n",
      "M       3512  2371  2838\n"
     ]
    }
   ],
   "source": [
    "print('Comparing the assigned categories to the ones in the data:')\n",
    "print(pd.crosstab(y_train,labels))"
   ]
  },
  {
   "cell_type": "markdown",
   "metadata": {},
   "source": [
    "__For Clustering between Man and Women__     \n",
    "It looks like only cluster 0 gives a good separation between Men and Women\n",
    "\n",
    "\n",
    "col_0      0     1     2    \n",
    "gender                  \n",
    "F       1447  3009  2815     \n",
    "M       3512  2371  2838       "
   ]
  },
  {
   "cell_type": "markdown",
   "metadata": {},
   "source": [
    "#### ARI for Mean-shift"
   ]
  },
  {
   "cell_type": "code",
   "execution_count": null,
   "metadata": {},
   "outputs": [
    {
     "data": {
      "text/plain": [
       "0.030874342043734081"
      ]
     },
     "execution_count": 52,
     "metadata": {},
     "output_type": "execute_result"
    }
   ],
   "source": [
    "from sklearn import metrics\n",
    "    \n",
    "metrics.adjusted_rand_score(y_train, labels)"
   ]
  },
  {
   "cell_type": "markdown",
   "metadata": {},
   "source": [
    "No better than randomness.     \n",
    "__For Clustering between Man and Women__   \n",
    "0.030874342043734081\n"
   ]
  },
  {
   "cell_type": "markdown",
   "metadata": {},
   "source": [
    "### Spectral Cluster "
   ]
  },
  {
   "cell_type": "code",
   "execution_count": null,
   "metadata": {},
   "outputs": [
    {
     "name": "stdout",
     "output_type": "stream",
     "text": [
      "Number of estimated clusters: 2\n"
     ]
    }
   ],
   "source": [
    "from sklearn.cluster import SpectralClustering\n",
    "\n",
    "n_clusters = (2,4,6,10)  # took out 20, 30, 50 as this takes forever\n",
    "for n in n_clusters:\n",
    "    print(\"Number of estimated clusters: {}\".format(n))\n",
    "    sc = SpectralClustering(n_clusters=n)\n",
    "    sc.fit(X_train)\n",
    "    labels = model.labels_\n",
    "    print(metrics.silhouette_score(X_train, labels, metric='euclidean'))"
   ]
  },
  {
   "cell_type": "code",
   "execution_count": null,
   "metadata": {
    "collapsed": true
   },
   "outputs": [],
   "source": []
  },
  {
   "cell_type": "code",
   "execution_count": null,
   "metadata": {
    "collapsed": true
   },
   "outputs": [],
   "source": [
    "from sklearn.cluster import SpectralClustering\n",
    "\n",
    "# We know we're looking for two clusters.\n",
    "n_clusters=2\n",
    "\n",
    "start_time = time.clock()\n",
    "# Declare and fit the model.\n",
    "sc = SpectralClustering(n_clusters=n_clusters)\n",
    "sc.fit(X_train)\n",
    "\n",
    "#Predicted clusters.\n",
    "train_predict=sc.fit_predict(X_train)\n",
    "\n",
    "\n",
    "\n",
    "print('Runtime for Spectral Cluster: '+'%s seconds'% (time.clock() - start_time))\n",
    "\n",
    "print('\\nComparing the assigned categories to the ones in the Training set data:')\n",
    "print(pd.crosstab(y_train,train_predict))\n"
   ]
  },
  {
   "cell_type": "markdown",
   "metadata": {},
   "source": [
    "The clusters weren't able to make any distinction between men and women.    \n",
    "Unless you look at cluster 1 that contains 2 women.    "
   ]
  },
  {
   "cell_type": "markdown",
   "metadata": {},
   "source": [
    "### Affinity propagation "
   ]
  },
  {
   "cell_type": "code",
   "execution_count": null,
   "metadata": {
    "collapsed": true
   },
   "outputs": [],
   "source": [
    "from sklearn.cluster import AffinityPropagation\n",
    "from sklearn import metrics\n",
    "\n",
    "# Declare the model and fit it in one statement.\n",
    "# Note that you can provide arguments to the model, but we didn't.\n",
    "af = AffinityPropagation().fit(X_train)\n",
    "print('Done')\n",
    "\n",
    "# Pull the number of clusters and cluster assignments for each data point.\n",
    "cluster_centers_indices = af.cluster_centers_indices_\n",
    "n_clusters_ = len(cluster_centers_indices)\n",
    "labels = af.labels_\n",
    "\n",
    "start_time = time.clock()\n",
    "#Predicted clusters.\n",
    "predict=af.fit_predict(X_train)\n",
    "\n",
    "print('Runtime for Affinity propagation: '+'%s seconds'% (time.clock() - start_time))\n",
    "\n",
    "print('Estimated number of clusters: {}'.format(n_clusters_))\n",
    "\n",
    "print('Comparing the assigned categories to the ones in the data:')\n",
    "print(pd.crosstab(y_train,predict))"
   ]
  },
  {
   "cell_type": "markdown",
   "metadata": {},
   "source": [
    "This Takes too long to run"
   ]
  },
  {
   "cell_type": "markdown",
   "metadata": {},
   "source": [
    "#### ARI for Affinity Propagation "
   ]
  },
  {
   "cell_type": "code",
   "execution_count": null,
   "metadata": {
    "collapsed": true
   },
   "outputs": [],
   "source": [
    "from sklearn import metrics\n",
    "\n",
    "\n",
    "print('ARI for  Training set data: ')\n",
    "print(metrics.adjusted_rand_score(y_train,  y_train_pred))\n"
   ]
  },
  {
   "cell_type": "markdown",
   "metadata": {},
   "source": [
    "No better than randomness."
   ]
  },
  {
   "cell_type": "markdown",
   "metadata": {},
   "source": [
    "#### Silhouette for Affinity Propagation"
   ]
  },
  {
   "cell_type": "code",
   "execution_count": null,
   "metadata": {
    "collapsed": true
   },
   "outputs": [],
   "source": [
    "from sklearn.metrics import pairwise_distances\n",
    "\n",
    "labels = km.labels_\n",
    "print(metrics.silhouette_score(X_train, labels, metric='euclidean'))"
   ]
  },
  {
   "cell_type": "markdown",
   "metadata": {},
   "source": [
    "How different are our clusters from each other?   \n",
    "They are somewhat different.   "
   ]
  },
  {
   "cell_type": "code",
   "execution_count": null,
   "metadata": {
    "collapsed": true
   },
   "outputs": [],
   "source": []
  },
  {
   "cell_type": "code",
   "execution_count": null,
   "metadata": {
    "collapsed": true
   },
   "outputs": [],
   "source": []
  },
  {
   "cell_type": "code",
   "execution_count": null,
   "metadata": {
    "collapsed": true
   },
   "outputs": [],
   "source": []
  }
 ],
 "metadata": {
  "kernelspec": {
   "display_name": "Python 3",
   "language": "python",
   "name": "python3"
  },
  "language_info": {
   "codemirror_mode": {
    "name": "ipython",
    "version": 3
   },
   "file_extension": ".py",
   "mimetype": "text/x-python",
   "name": "python",
   "nbconvert_exporter": "python",
   "pygments_lexer": "ipython3",
   "version": "3.5.4"
  },
  "toc": {
   "base_numbering": 1,
   "nav_menu": {},
   "number_sections": true,
   "sideBar": true,
   "skip_h1_title": false,
   "title_cell": "Table of Contents",
   "title_sidebar": "Contents",
   "toc_cell": false,
   "toc_position": {},
   "toc_section_display": true,
   "toc_window_display": true
  }
 },
 "nbformat": 4,
 "nbformat_minor": 2
}
