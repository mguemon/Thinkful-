{
 "cells": [
  {
   "cell_type": "markdown",
   "metadata": {},
   "source": [
    "# Drills - Intermediate visualization \n",
    "\n",
    "## Challenge: Data cleaning & validation\n",
    "\n",
    "by: Melissa N "
   ]
  },
  {
   "cell_type": "code",
   "execution_count": 274,
   "metadata": {
    "collapsed": true
   },
   "outputs": [],
   "source": [
    "import numpy as np\n",
    "import pandas as pd\n",
    "import matplotlib.pyplot as plt\n",
    "import seaborn as sns\n",
    "%matplotlib inline\n",
    "import re"
   ]
  },
  {
   "cell_type": "code",
   "execution_count": 275,
   "metadata": {},
   "outputs": [
    {
     "data": {
      "text/html": [
       "<div>\n",
       "<style>\n",
       "    .dataframe thead tr:only-child th {\n",
       "        text-align: right;\n",
       "    }\n",
       "\n",
       "    .dataframe thead th {\n",
       "        text-align: left;\n",
       "    }\n",
       "\n",
       "    .dataframe tbody tr th {\n",
       "        vertical-align: top;\n",
       "    }\n",
       "</style>\n",
       "<table border=\"1\" class=\"dataframe\">\n",
       "  <thead>\n",
       "    <tr style=\"text-align: right;\">\n",
       "      <th></th>\n",
       "      <th>PMID/PMCID</th>\n",
       "      <th>Publisher</th>\n",
       "      <th>Journal title</th>\n",
       "      <th>Article title</th>\n",
       "      <th>COST (£) charged to Wellcome (inc VAT when charged)</th>\n",
       "    </tr>\n",
       "  </thead>\n",
       "  <tbody>\n",
       "    <tr>\n",
       "      <th>0</th>\n",
       "      <td>NaN</td>\n",
       "      <td>CUP</td>\n",
       "      <td>Psychological Medicine</td>\n",
       "      <td>Reduced parahippocampal cortical thickness in ...</td>\n",
       "      <td>£0.00</td>\n",
       "    </tr>\n",
       "    <tr>\n",
       "      <th>1</th>\n",
       "      <td>PMC3679557</td>\n",
       "      <td>ACS</td>\n",
       "      <td>Biomacromolecules</td>\n",
       "      <td>Structural characterization of a Model Gram-ne...</td>\n",
       "      <td>£2381.04</td>\n",
       "    </tr>\n",
       "    <tr>\n",
       "      <th>2</th>\n",
       "      <td>23043264  PMC3506128</td>\n",
       "      <td>ACS</td>\n",
       "      <td>J Med Chem</td>\n",
       "      <td>Fumaroylamino-4,5-epoxymorphinans and related ...</td>\n",
       "      <td>£642.56</td>\n",
       "    </tr>\n",
       "    <tr>\n",
       "      <th>3</th>\n",
       "      <td>23438330 PMC3646402</td>\n",
       "      <td>ACS</td>\n",
       "      <td>J Med Chem</td>\n",
       "      <td>Orvinols with mixed kappa/mu opioid receptor a...</td>\n",
       "      <td>£669.64</td>\n",
       "    </tr>\n",
       "    <tr>\n",
       "      <th>4</th>\n",
       "      <td>23438216 PMC3601604</td>\n",
       "      <td>ACS</td>\n",
       "      <td>J Org Chem</td>\n",
       "      <td>Regioselective opening of myo-inositol orthoes...</td>\n",
       "      <td>£685.88</td>\n",
       "    </tr>\n",
       "  </tbody>\n",
       "</table>\n",
       "</div>"
      ],
      "text/plain": [
       "              PMID/PMCID Publisher           Journal title  \\\n",
       "0                    NaN       CUP  Psychological Medicine   \n",
       "1             PMC3679557       ACS       Biomacromolecules   \n",
       "2  23043264  PMC3506128        ACS              J Med Chem   \n",
       "3    23438330 PMC3646402       ACS              J Med Chem   \n",
       "4   23438216 PMC3601604        ACS              J Org Chem   \n",
       "\n",
       "                                       Article title  \\\n",
       "0  Reduced parahippocampal cortical thickness in ...   \n",
       "1  Structural characterization of a Model Gram-ne...   \n",
       "2  Fumaroylamino-4,5-epoxymorphinans and related ...   \n",
       "3  Orvinols with mixed kappa/mu opioid receptor a...   \n",
       "4  Regioselective opening of myo-inositol orthoes...   \n",
       "\n",
       "  COST (£) charged to Wellcome (inc VAT when charged)  \n",
       "0                                              £0.00   \n",
       "1                                           £2381.04   \n",
       "2                                            £642.56   \n",
       "3                                            £669.64   \n",
       "4                                            £685.88   "
      ]
     },
     "execution_count": 275,
     "metadata": {},
     "output_type": "execute_result"
    }
   ],
   "source": [
    "df = pd.read_csv('WELLCOME_APCspend2013_forThinkful.csv',encoding = \"ISO-8859-1\")\n",
    "df.head() #Not using Print statement so that it displays all in one line for all tables "
   ]
  },
  {
   "cell_type": "markdown",
   "metadata": {},
   "source": [
    "### determine the five most common journals and the total articles for each."
   ]
  },
  {
   "cell_type": "code",
   "execution_count": 276,
   "metadata": {},
   "outputs": [
    {
     "data": {
      "text/plain": [
       "PLoS One                                           92\n",
       "PLoS ONE                                           62\n",
       "Journal of Biological Chemistry                    48\n",
       "Nucleic Acids Research                             21\n",
       "Proceedings of the National Academy of Sciences    19\n",
       "Name: Journal title, dtype: int64"
      ]
     },
     "execution_count": 276,
     "metadata": {},
     "output_type": "execute_result"
    }
   ],
   "source": [
    "df['Journal title'].value_counts().head(5)"
   ]
  },
  {
   "cell_type": "code",
   "execution_count": 277,
   "metadata": {},
   "outputs": [],
   "source": [
    "#We Note that PloS One and Plos ONE are the same so let's write everyting in lower case and find top 5"
   ]
  },
  {
   "cell_type": "code",
   "execution_count": 278,
   "metadata": {},
   "outputs": [
    {
     "data": {
      "text/plain": [
       "plos one                           190\n",
       "journal of biological chemistry     53\n",
       "neuroimage                          29\n",
       "nucleic acids research              26\n",
       "plos genetics                       24\n",
       "Name: Journal title, dtype: int64"
      ]
     },
     "execution_count": 278,
     "metadata": {},
     "output_type": "execute_result"
    }
   ],
   "source": [
    "# saving the change to Journal Title\n",
    "df['Journal title'] = df['Journal title'].str.lower()\n",
    "\n",
    "# remove the extra white spaces\n",
    "df['Journal title'] = df['Journal title'].str.strip()\n",
    "\n",
    "# Finally we have our top 5 journals\n",
    "df['Journal title'].value_counts().head()\n"
   ]
  },
  {
   "cell_type": "markdown",
   "metadata": {},
   "source": [
    "### Next, calculate the mean, median, and standard deviation of the open-access cost per article for each journal . You will need to do considerable data cleaning in order to extract accurate estimates. For a real bonus round, identify the open access prices paid by subject area."
   ]
  },
  {
   "cell_type": "code",
   "execution_count": 279,
   "metadata": {},
   "outputs": [],
   "source": [
    "df1 =  df[df['Journal title']== 'plos one']\n",
    "df2 =  df[df['Journal title']== 'journal of biological chemistry']\n",
    "df3 =  df[df['Journal title']== 'neuroimage']\n",
    "df4 =  df[df['Journal title']== 'nucleic acids research']\n",
    "df5 =  df[df['Journal title']== 'plos genetics']"
   ]
  },
  {
   "cell_type": "code",
   "execution_count": 280,
   "metadata": {},
   "outputs": [
    {
     "name": "stderr",
     "output_type": "stream",
     "text": [
      "/anaconda/lib/python3.6/site-packages/pandas/core/frame.py:2844: SettingWithCopyWarning: \n",
      "A value is trying to be set on a copy of a slice from a DataFrame\n",
      "\n",
      "See the caveats in the documentation: http://pandas.pydata.org/pandas-docs/stable/indexing.html#indexing-view-versus-copy\n",
      "  **kwargs)\n"
     ]
    }
   ],
   "source": [
    "# Renaming the columm COST (£) charged to Wellcome  to cost\n",
    "\n",
    "df1.rename(columns={'COST (£) charged to Wellcome (inc VAT when charged)':'cost'},inplace=True)\n",
    "df2.rename(columns={'COST (£) charged to Wellcome (inc VAT when charged)':'cost'},inplace=True)\n",
    "df3.rename(columns={'COST (£) charged to Wellcome (inc VAT when charged)':'cost'},inplace=True)\n",
    "df4.rename(columns={'COST (£) charged to Wellcome (inc VAT when charged)':'cost'},inplace=True)\n",
    "df5.rename(columns={'COST (£) charged to Wellcome (inc VAT when charged)':'cost'},inplace=True)\n",
    "\n",
    "\n",
    "\n",
    "# Removing '£' from the data where cost is concerned \n",
    "d1= df1.loc[:,'cost'].str.split('£',expand=True)\n",
    "d2 = df2.loc[:,'cost'].str.split('£',expand=True)\n",
    "d3 = df3.loc[:,'cost'].str.split('£',expand=True)\n",
    "d4 = df4.loc[:,'cost'].str.split('£',expand=True)\n",
    "d5 = df5.loc[:,'cost'].str.split('£',expand=True)\n"
   ]
  },
  {
   "cell_type": "code",
   "execution_count": 281,
   "metadata": {
    "collapsed": true
   },
   "outputs": [],
   "source": [
    "#dir(d1)\n",
    "#type(d1)\n",
    "#type(d1[1])\n",
    "#d1[1].convert_objects(convert_numeric=True)  <== System ask to use to numerics"
   ]
  },
  {
   "cell_type": "code",
   "execution_count": 282,
   "metadata": {},
   "outputs": [],
   "source": [
    " \n",
    "### Convert objects to numeric \n",
    "\n",
    "d1[1] = pd.to_numeric(d1[1], errors='ignore')\n",
    "d2[1] = pd.to_numeric(d2[1], errors='ignore')\n",
    "d3[1] = pd.to_numeric(d3[1], errors='ignore')\n",
    "d4[1] = pd.to_numeric(d4[1], errors='ignore')\n",
    "d5[1] = pd.to_numeric(d5[1], errors='ignore')"
   ]
  },
  {
   "cell_type": "code",
   "execution_count": 283,
   "metadata": {},
   "outputs": [
    {
     "name": "stdout",
     "output_type": "stream",
     "text": [
      "For the Journal named plos one\n",
      "the mean is 38751.29\n",
      "the median is 898.48\n",
      "the variance is 35724595616.58\n",
      "the standard deviation is 189009.51\n",
      "the mode is\n"
     ]
    },
    {
     "data": {
      "text/plain": [
       "0    825.68\n",
       "dtype: float64"
      ]
     },
     "execution_count": 283,
     "metadata": {},
     "output_type": "execute_result"
    }
   ],
   "source": [
    "print('For the Journal named plos one')\n",
    "#Calculate mean \n",
    "print('the mean is {:.2f}'.format(d1[1].mean()))\n",
    "\n",
    "#Calculate median \n",
    "print('the median is {:.2f}'.format(d1[1].median()))\n",
    "\n",
    "\n",
    "#calculate the Variance \n",
    "print('the variance is {:.2f}'.format(d1[1].var()))\n",
    "\n",
    "\n",
    "#calculate the the Standard deviation\n",
    "print('the standard deviation is {:.2f}'.format(d1[1].std()))\n",
    "\n",
    "#Calculate mode\n",
    "# Return the mode using the statistics module.\n",
    "print('the mode is') \n",
    "\n",
    "d1[1].mode()\n"
   ]
  },
  {
   "cell_type": "code",
   "execution_count": 284,
   "metadata": {},
   "outputs": [
    {
     "name": "stdout",
     "output_type": "stream",
     "text": [
      "For the Journal named journal of biological chemistry\n",
      "the mean is 20264.63\n",
      "the median is 1314.53\n",
      "the variance is 18814371207.51\n",
      "the standard deviation is 137165.49\n",
      "the mode is\n"
     ]
    },
    {
     "data": {
      "text/plain": [
       "0    1276.08\n",
       "1    1556.61\n",
       "dtype: float64"
      ]
     },
     "execution_count": 284,
     "metadata": {},
     "output_type": "execute_result"
    }
   ],
   "source": [
    "print('For the Journal named journal of biological chemistry')\n",
    "\n",
    "#Calculate mean \n",
    "print('the mean is {:.2f}'.format(d2[1].mean()))\n",
    "\n",
    "#Calculate median \n",
    "print('the median is {:.2f}'.format(d2[1].median()))\n",
    "\n",
    "\n",
    "#calculate the Variance \n",
    "print('the variance is {:.2f}'.format(d2[1].var()))\n",
    "\n",
    "#calculate the the Standard deviation\n",
    "print('the standard deviation is {:.2f}'.format(d2[1].std()))\n",
    "\n",
    "#Calculate mode\n",
    "# Return the mode using the statistics module.\n",
    "print('the mode is') \n",
    "\n",
    "d2[1].mode()\n",
    "\n",
    "#calculate the the Standard deviation of fatalities\n",
    "#print('the standard deviation is {:.2f}'.format(np.std(d1, ddof=1)))"
   ]
  },
  {
   "cell_type": "code",
   "execution_count": 285,
   "metadata": {},
   "outputs": [
    {
     "name": "stdout",
     "output_type": "stream",
     "text": [
      "For the Journal named neuroimage\n",
      "the mean is 2215.17\n",
      "the median is 2326.43\n",
      "the variance is 71104.33\n",
      "the standard deviation is 266.65\n",
      "the mode is\n"
     ]
    },
    {
     "data": {
      "text/plain": [
       "0    1762.69\n",
       "1    2503.34\n",
       "dtype: float64"
      ]
     },
     "execution_count": 285,
     "metadata": {},
     "output_type": "execute_result"
    }
   ],
   "source": [
    "print('For the Journal named neuroimage')\n",
    "\n",
    "#Calculate mean \n",
    "print('the mean is {:.2f}'.format(d3[1].mean()))\n",
    "\n",
    "#Calculate median \n",
    "print('the median is {:.2f}'.format(d3[1].median()))\n",
    "\n",
    "\n",
    "#calculate the Variance \n",
    "print('the variance is {:.2f}'.format(d3[1].var()))\n",
    "\n",
    "#calculate the the Standard deviation\n",
    "print('the standard deviation is {:.2f}'.format(d3[1].std()))\n",
    "\n",
    "#Calculate mode\n",
    "# Return the mode using the statistics module.\n",
    "print('the mode is') \n",
    "\n",
    "d3[1].mode()"
   ]
  },
  {
   "cell_type": "code",
   "execution_count": 286,
   "metadata": {},
   "outputs": [
    {
     "name": "stdout",
     "output_type": "stream",
     "text": [
      "For the Journal named nucleic acids research\n",
      "the mean is 1149.00\n",
      "the median is 852.00\n",
      "the variance is 196196.24\n",
      "the standard deviation is 442.94\n",
      "the mode is\n"
     ]
    },
    {
     "data": {
      "text/plain": [
       "0    852.0\n",
       "dtype: float64"
      ]
     },
     "execution_count": 286,
     "metadata": {},
     "output_type": "execute_result"
    }
   ],
   "source": [
    "print('For the Journal named nucleic acids research')\n",
    "\n",
    "#Calculate mean \n",
    "print('the mean is {:.2f}'.format(d4[1].mean()))\n",
    "\n",
    "#Calculate median \n",
    "print('the median is {:.2f}'.format(d4[1].median()))\n",
    "\n",
    "\n",
    "#calculate the Variance \n",
    "print('the variance is {:.2f}'.format(d4[1].var()))\n",
    "\n",
    "#calculate the the Standard deviation\n",
    "print('the standard deviation is {:.2f}'.format(d4[1].std()))\n",
    "\n",
    "#Calculate mode\n",
    "# Return the mode using the statistics module.\n",
    "print('the mode is') \n",
    "\n",
    "d4[1].mode()\n",
    "\n"
   ]
  },
  {
   "cell_type": "code",
   "execution_count": 287,
   "metadata": {},
   "outputs": [
    {
     "name": "stdout",
     "output_type": "stream",
     "text": [
      "For the Journal named plos genetics\n",
      "the mean is 84839.43\n",
      "the median is 1718.39\n",
      "the variance is 79448277230.45\n",
      "the standard deviation is 281865.71\n",
      "the mode is\n"
     ]
    },
    {
     "data": {
      "text/plain": [
       "0      1456.19\n",
       "1      1807.60\n",
       "2    999999.00\n",
       "dtype: float64"
      ]
     },
     "execution_count": 287,
     "metadata": {},
     "output_type": "execute_result"
    }
   ],
   "source": [
    "print('For the Journal named plos genetics')\n",
    "\n",
    "#Calculate mean \n",
    "print('the mean is {:.2f}'.format(d5[1].mean()))\n",
    "\n",
    "#Calculate median \n",
    "print('the median is {:.2f}'.format(d5[1].median()))\n",
    "\n",
    "\n",
    "#calculate the Variance \n",
    "print('the variance is {:.2f}'.format(d5[1].var()))\n",
    "\n",
    "#calculate the the Standard deviation\n",
    "print('the standard deviation is {:.2f}'.format(d5[1].std()))\n",
    "\n",
    "#Calculate mode\n",
    "# Return the mode using the statistics module.\n",
    "print('the mode is') \n",
    "\n",
    "d5[1].mode()\n",
    "\n"
   ]
  },
  {
   "cell_type": "code",
   "execution_count": null,
   "metadata": {
    "collapsed": true
   },
   "outputs": [],
   "source": []
  },
  {
   "cell_type": "code",
   "execution_count": null,
   "metadata": {
    "collapsed": true
   },
   "outputs": [],
   "source": []
  },
  {
   "cell_type": "code",
   "execution_count": null,
   "metadata": {
    "collapsed": true
   },
   "outputs": [],
   "source": []
  }
 ],
 "metadata": {
  "kernelspec": {
   "display_name": "Python 3",
   "language": "python",
   "name": "python3"
  },
  "language_info": {
   "codemirror_mode": {
    "name": "ipython",
    "version": 3
   },
   "file_extension": ".py",
   "mimetype": "text/x-python",
   "name": "python",
   "nbconvert_exporter": "python",
   "pygments_lexer": "ipython3",
   "version": "3.6.1"
  }
 },
 "nbformat": 4,
 "nbformat_minor": 2
}
