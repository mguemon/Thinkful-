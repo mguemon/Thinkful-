{
 "cells": [
  {
   "cell_type": "markdown",
   "metadata": {},
   "source": [
    "# Challenge - Experimental design \n",
    "\n",
    "##  Challenge: Evaluate an experiment analysis\n",
    "\n",
    "by: Melissa N "
   ]
  },
  {
   "cell_type": "markdown",
   "metadata": {},
   "source": [
    "Now it's time to flex your critical evaluation skills. Read the following descriptions of an experiment and its analysis, identify the flaws in each, and describe what you would do to correct them."
   ]
  },
  {
   "cell_type": "markdown",
   "metadata": {},
   "source": [
    "### The Sith Lords are concerned that their recruiting slogan, \"Give In to Your Anger,\" isn't very effective. Darth Vader develops an alternative slogan, \"Together We Can Rule the Galaxy.\" They compare the slogans on two groups of 50 captured droids each. In one group, Emperor Palpatine delivers the \"Anger\" slogan. In the other, Darth Vader presents the \"Together\" slogan. 20 droids convert to the Dark Side after hearing Palpatine's slogan, while only 5 droids convert after hearing Vader's. The Sith's data scientist concludes that \"Anger\" is a more effective slogan and should continue to be used.   \n",
    "\n",
    "One of the problem could be the delivery or the person who delivers it.    \n",
    "Emperor Palpatine may be more convincing than Darth Vader.    \n",
    "Darth Vader doesn't seem like someone who will work well with others could be a possible reason why so few of Droids that listend to Darth Vader converted to the Dark side.   \n",
    "Maybe if Darth Vader delivered the \"Anger\" slogan, he will have recruited all if not more Droids since he has given into anger and can deliver a believable message there.       \n",
    "\n",
    "One resolution could be to have Emperor Palpatine deliver both Slogans. \n",
    "Or Darth Vader deliver both Slogans to different Droids and see who is able to convert the most Droids to the Dark Side.\n",
    "\n",
    "Best thing to do is to the divide the Droids in groups of 25.    \n",
    "Have Darth Vader Deliver Both Slogans to 2 of the 25 Droids groups.   \n",
    "Have Emperor Palpatine deliver Both slogans to the remaining 2 of the 25 groups.    \n",
    "And see how many each are able to convert with which slogan.   \n"
   ]
  },
  {
   "cell_type": "markdown",
   "metadata": {},
   "source": [
    "### In the past, the Jedi have had difficulty with public relations. They send two envoys, Jar Jar Binks and Mace Windu, to four friendly and four unfriendly planets respectively, with the goal of promoting favorable feelings toward the Jedi. Upon their return, the envoys learn that Jar Jar was much more effective than Windu: Over 75% of the people surveyed said their attitudes had become more favorable after speaking with Jar Jar, while only 65% said their attitudes had become more favorable after speaking with Windu. This makes Windu angry, because he is sure that he had a better success rate than Jar Jar on every planet. The Jedi choose Jar Jar to be their representative in the future.     \n",
    "\n",
    "The problem here is that it seems that Jar Jar Binks seems to have been sent to Four Friendly planet while Mace was sent to four Unfriendly planet.     \n",
    "This will definetly cause the positive result to be skewed in Windu's favor which can actually be not true but possible.    \n",
    "\n",
    "\n",
    "What the Jedi should do, is send Jar Jar Binks and Mace Windu to 2 Friendly and 2 Unfriendly Planets each. \n",
    "And after that analyze their result in each.    \n",
    "Now probably the person who has the better result in Friendly planets should be sent to them and the one who had the better result in the Unfriendly Planets should be sent to those.    \n",
    "\n",
    "If only 1 Representative is needed than analyze who had the better results in both types of planets in average and choose that particular one as the Jedi representative.    \n",
    "\n",
    "\n",
    "\n",
    "\n"
   ]
  },
  {
   "cell_type": "markdown",
   "metadata": {},
   "source": [
    "### A company with work sites in five different countries has sent you data on employee satisfaction rates for workers in Human Resources and workers in Information Technology. Most HR workers are concentrated in three of the countries, while IT workers are equally distributed across worksites. The company requests a report on satisfaction for each job type. You calculate average job satisfaction for HR and for IT and present the report.    \n",
    "\n",
    "I don't think calculating the average job satisfaction in for HR and for IT will give a good view on the job satisfaction. \n",
    "\n",
    "1st problem:  \n",
    "The HR Job are only concentrated in 3 countries compared to IT which can be found in 5 countries.    \n",
    "This may mean that the sample size for IT may be bigger than HR and may hide a lurking variable problem. \n",
    "\n",
    "2nd problem:  \n",
    "The conditions of the job in the different countries may be different for one reason or the other.  \n",
    "Which may cause people in particular countries to be more satisfied with their jobs. \n",
    "For instance HR may have more dissatisfaction bc they are in only 3 countries and having to take care of employees in 5 countries which may make their job a little more difficult. \n",
    "\n"
   ]
  },
  {
   "cell_type": "markdown",
   "metadata": {},
   "source": [
    "### When people install the Happy Days Fitness Tracker app, they are asked to \"opt in\" to a data collection scheme where their level of physical activity data is automatically sent to the company for product research purposes. During your interview with the company, they tell you that the app is very effective because after installing the app, the data show that people's activity levels rise steadily.   \n",
    "\n",
    "\n",
    "I feel that the study should be done after a year of the people having installed the app. \n",
    "When you first get an app, y\n",
    "\n",
    "\n"
   ]
  },
  {
   "cell_type": "markdown",
   "metadata": {},
   "source": [
    "### To prevent cheating, a teacher writes three versions of a test. She stacks the three versions together, first all copies of Version A, then all copies of Version B, then all copies of Version C. As students arrive for the exam, each student takes a test. When grading the test, the teacher finds that students who took Version B scored higher than students who took either Version A or Version C. She concludes from this that Version B is easier, and discards it.  \n",
    "\n",
    "Problem 1:   \n",
    "This was not distributed randomly. \n",
    "Maybe the student who came in first and took version A were still sleepy and thus not as focus as the one who took version B. And the one who came later and got version C were stressed because they didn't have enough time and rush through the test.\n",
    "\n",
    "Problem 2:\n",
    "If the problem are put on different colored papers, some students feel uncomfortable with certains colors. \n",
    "Maybe the test from Version B all liked and felt focus with the color of that particular test.\n",
    "\n",
    "Problem 3: \n",
    "The students should be giving the 3 different versions of the tests in the same environmnet, the problems should have the same level of intensity. \n",
    "Maybe the questions on Version B were easier than the ones on version A and version C. \n",
    "\n",
    "\n"
   ]
  },
  {
   "cell_type": "code",
   "execution_count": null,
   "metadata": {
    "collapsed": true
   },
   "outputs": [],
   "source": []
  }
 ],
 "metadata": {
  "kernelspec": {
   "display_name": "Python 3",
   "language": "python",
   "name": "python3"
  },
  "language_info": {
   "codemirror_mode": {
    "name": "ipython",
    "version": 3
   },
   "file_extension": ".py",
   "mimetype": "text/x-python",
   "name": "python",
   "nbconvert_exporter": "python",
   "pygments_lexer": "ipython3",
   "version": "3.6.1"
  }
 },
 "nbformat": 4,
 "nbformat_minor": 2
}
