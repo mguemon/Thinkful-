{
 "cells": [
  {
   "cell_type": "markdown",
   "metadata": {},
   "source": [
    "# Drills - Experimental design \n",
    "\n",
    "##  DRILL: Make a quick RFC\n",
    "\n",
    "by: Melissa N "
   ]
  },
  {
   "cell_type": "markdown",
   "metadata": {},
   "source": [
    "Look back to the potential experiments in the previous assignment. For one of those experiments, write up the essential points of an RFC for an improved version of that experiment."
   ]
  },
  {
   "cell_type": "markdown",
   "metadata": {},
   "source": [
    "### When people install the Happy Days Fitness Tracker app, they are asked to \"opt in\" to a data collection scheme where their level of physical activity data is automatically sent to the company for product research purposes. During your interview with the company, they tell you that the app is very effective because after installing the app, the data show that people's activity levels rise steadily.   "
   ]
  },
  {
   "cell_type": "markdown",
   "metadata": {},
   "source": [
    "1- The problem:  \n",
    "\n",
    "Does the activity level of app user rise steadily over time or only after installing the app?\n",
    "This may be true when they just installed the app but not always certain or true  6 months or a year after installing the app.\n",
    "\n",
    "\n",
    "2- The Potential Solution\n",
    "\n",
    "Add pop up reminder or motivator for the app users after 3 months, 6 months, 9 months and 12 months etc....    \n",
    "Add or give incentive for app users who go through certain milestones.\n",
    "\n",
    "Users with the pop up reminders and incentive are to have their ativity level increase \n",
    "Users without the pop up reminders and incentive shouldn't have their activity level increase.\n",
    "\n",
    "\n",
    "\n",
    "3 - The method of \n",
    "\n",
    "Test this one different users over a year or more. \n",
    "Check activity levels for Users who have a pop up reminder and the ones who don't have. \n",
    "See if the activity level rise for those who have the pop up reminder and incentive in comparison to those who don't have that feature on their app. "
   ]
  }
 ],
 "metadata": {
  "kernelspec": {
   "display_name": "Python 3",
   "language": "python",
   "name": "python3"
  },
  "language_info": {
   "codemirror_mode": {
    "name": "ipython",
    "version": 3
   },
   "file_extension": ".py",
   "mimetype": "text/x-python",
   "name": "python",
   "nbconvert_exporter": "python",
   "pygments_lexer": "ipython3",
   "version": "3.6.1"
  }
 },
 "nbformat": 4,
 "nbformat_minor": 2
}
