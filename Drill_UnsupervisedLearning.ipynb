{
 "cells": [
  {
   "cell_type": "markdown",
   "metadata": {},
   "source": [
    "# Drill - Unsupervised Learning\n",
    "\n",
    "## Drill: Unsupervised or supervised?\n",
    "\n",
    "\n",
    "by: Melissa N "
   ]
  },
  {
   "cell_type": "markdown",
   "metadata": {},
   "source": [
    "For each of these scenarios decide if you could use supervised or unsupervised techniques, or both!      \n",
    "\n",
    "1. Define the likelihood that an individual will contract a specific disease\n",
    "Supervised, the outcome variable is having the disease.    \n",
    "\n",
    "\n",
    "2. Translate a set of images into variables for modeling    \n",
    "This is unsupervised and supervised.   \n",
    "\n",
    "\n",
    "\n",
    "3. An ecommerce company wants to identify power users\n",
    "This is Supervised b.c power users are just a category of user in the varialbe users. So power users will be the ooutcome variable.    \n",
    "\n",
    "\n",
    "4. That same company wants to see shopping patterns in users    \n",
    "Unsupervised Learning b.c we don't know exactly what type of patterns we are looking for. \n",
    "The algorithm will just put the customers with similar patterns together.   \n",
    "\n",
    "\n",
    "5. You want to reduce the number of variables inputting into your random forest model   \n",
    "Supervised Learning /PCA (unsupervised) b.c with PCA the model will find the varialbles with the most importance, keep those and get rid of the rest.    \n",
    "\n",
    "\n",
    "6. If any of these scenarios are unclear feel free to follow up with your mentor.    \n",
    "\n",
    "\n"
   ]
  },
  {
   "cell_type": "code",
   "execution_count": null,
   "metadata": {
    "collapsed": true
   },
   "outputs": [],
   "source": []
  }
 ],
 "metadata": {
  "kernelspec": {
   "display_name": "Python 3",
   "language": "python",
   "name": "python3"
  },
  "language_info": {
   "codemirror_mode": {
    "name": "ipython",
    "version": 3
   },
   "file_extension": ".py",
   "mimetype": "text/x-python",
   "name": "python",
   "nbconvert_exporter": "python",
   "pygments_lexer": "ipython3",
   "version": "3.6.1"
  },
  "toc": {
   "base_numbering": 1,
   "nav_menu": {},
   "number_sections": true,
   "sideBar": true,
   "skip_h1_title": false,
   "title_cell": "Table of Contents",
   "title_sidebar": "Contents",
   "toc_cell": false,
   "toc_position": {},
   "toc_section_display": true,
   "toc_window_display": false
  }
 },
 "nbformat": 4,
 "nbformat_minor": 2
}
