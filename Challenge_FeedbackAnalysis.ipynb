{
 "cells": [
  {
   "cell_type": "markdown",
   "metadata": {},
   "source": [
    "# Building your first model: naive Bayes\n",
    "\n",
    "## Challenge: Feedback analysis \n",
    "by: Melissa N \n",
    "\n",
    "Data: [dataset of sentiment labelled sentences](https://archive.ics.uci.edu/ml/datasets/Sentiment+Labelled+Sentences#)"
   ]
  },
  {
   "cell_type": "markdown",
   "metadata": {},
   "source": [
    "Now we'll perform a sentiment analysis, classifying whether feedback left on a website is either positive or negative."
   ]
  },
  {
   "cell_type": "code",
   "execution_count": 1,
   "metadata": {
    "collapsed": true
   },
   "outputs": [],
   "source": [
    "%matplotlib inline\n",
    "import numpy as np\n",
    "import pandas as pd\n",
    "import scipy\n",
    "import sklearn\n",
    "import matplotlib.pyplot as plt\n",
    "import seaborn as sns\n",
    "from IPython.display import display"
   ]
  },
  {
   "cell_type": "markdown",
   "metadata": {},
   "source": [
    "## AMAZON CLASSIFIER"
   ]
  },
  {
   "cell_type": "markdown",
   "metadata": {},
   "source": [
    "The data is a text file that contains review that were taken Amazon. In it we have the customer comment or review on the product they purchased. And also their grade of  say product, which is either 1 for good (liked product) or 0 for bad (disliked product). "
   ]
  },
  {
   "cell_type": "code",
   "execution_count": 2,
   "metadata": {
    "collapsed": true
   },
   "outputs": [],
   "source": [
    "# Grab and process the raw data for amazon.\n",
    "data_1 = open(\"amazon_cells_labelled.txt\")\n",
    "\n",
    "df_a = pd.read_csv(data_1, delimiter= '\\t', header=None)\n",
    "df_a.columns = ['review', 'sentiment']\n",
    "\n"
   ]
  },
  {
   "cell_type": "code",
   "execution_count": 3,
   "metadata": {},
   "outputs": [
    {
     "data": {
      "text/html": [
       "<div>\n",
       "<style>\n",
       "    .dataframe thead tr:only-child th {\n",
       "        text-align: right;\n",
       "    }\n",
       "\n",
       "    .dataframe thead th {\n",
       "        text-align: left;\n",
       "    }\n",
       "\n",
       "    .dataframe tbody tr th {\n",
       "        vertical-align: top;\n",
       "    }\n",
       "</style>\n",
       "<table border=\"1\" class=\"dataframe\">\n",
       "  <thead>\n",
       "    <tr style=\"text-align: right;\">\n",
       "      <th></th>\n",
       "      <th>review</th>\n",
       "      <th>sentiment</th>\n",
       "    </tr>\n",
       "  </thead>\n",
       "  <tbody>\n",
       "    <tr>\n",
       "      <th>0</th>\n",
       "      <td>So there is no way for me to plug it in here i...</td>\n",
       "      <td>0</td>\n",
       "    </tr>\n",
       "    <tr>\n",
       "      <th>1</th>\n",
       "      <td>Good case, Excellent value.</td>\n",
       "      <td>1</td>\n",
       "    </tr>\n",
       "    <tr>\n",
       "      <th>2</th>\n",
       "      <td>Great for the jawbone.</td>\n",
       "      <td>1</td>\n",
       "    </tr>\n",
       "    <tr>\n",
       "      <th>3</th>\n",
       "      <td>Tied to charger for conversations lasting more...</td>\n",
       "      <td>0</td>\n",
       "    </tr>\n",
       "    <tr>\n",
       "      <th>4</th>\n",
       "      <td>The mic is great.</td>\n",
       "      <td>1</td>\n",
       "    </tr>\n",
       "  </tbody>\n",
       "</table>\n",
       "</div>"
      ],
      "text/plain": [
       "                                              review  sentiment\n",
       "0  So there is no way for me to plug it in here i...          0\n",
       "1                        Good case, Excellent value.          1\n",
       "2                             Great for the jawbone.          1\n",
       "3  Tied to charger for conversations lasting more...          0\n",
       "4                                  The mic is great.          1"
      ]
     },
     "metadata": {},
     "output_type": "display_data"
    }
   ],
   "source": [
    "display(df_a.head())"
   ]
  },
  {
   "cell_type": "markdown",
   "metadata": {},
   "source": [
    "Let's Find the Good review meaning the ones with sentiment = 1.    \n",
    "This mean we will create a file for our model that will contain some words that we believe are usually found in good reviews."
   ]
  },
  {
   "cell_type": "code",
   "execution_count": 4,
   "metadata": {
    "collapsed": true
   },
   "outputs": [],
   "source": [
    "keywords_a = ['great', 'good', 'excellent', 'awesome', 'recommend', 'fast', 'love', 'nice','well','ideal','highly','must have','love','beautiful','super' ]\n",
    "\n",
    "for key in keywords_a:\n",
    "    # Note that we add spaces around the key so that we're getting the word,\n",
    "    # not just pattern matching.\n",
    "    df_a[str(key)] = df_a.review.str.contains(\n",
    "        ' ' + str(key) + ' ',\n",
    "        case=False\n",
    "    )"
   ]
  },
  {
   "cell_type": "code",
   "execution_count": 5,
   "metadata": {},
   "outputs": [
    {
     "data": {
      "text/plain": [
       "['great',\n",
       " 'good',\n",
       " 'excellent',\n",
       " 'awesome',\n",
       " 'recommend',\n",
       " 'fast',\n",
       " 'love',\n",
       " 'nice',\n",
       " 'well',\n",
       " 'ideal',\n",
       " 'highly',\n",
       " 'must have',\n",
       " 'love',\n",
       " 'beautiful',\n",
       " 'super']"
      ]
     },
     "execution_count": 5,
     "metadata": {},
     "output_type": "execute_result"
    }
   ],
   "source": [
    "keywords_a"
   ]
  },
  {
   "cell_type": "code",
   "execution_count": 6,
   "metadata": {},
   "outputs": [
    {
     "data": {
      "text/html": [
       "<div>\n",
       "<style>\n",
       "    .dataframe thead tr:only-child th {\n",
       "        text-align: right;\n",
       "    }\n",
       "\n",
       "    .dataframe thead th {\n",
       "        text-align: left;\n",
       "    }\n",
       "\n",
       "    .dataframe tbody tr th {\n",
       "        vertical-align: top;\n",
       "    }\n",
       "</style>\n",
       "<table border=\"1\" class=\"dataframe\">\n",
       "  <thead>\n",
       "    <tr style=\"text-align: right;\">\n",
       "      <th></th>\n",
       "      <th>review</th>\n",
       "      <th>sentiment</th>\n",
       "      <th>great</th>\n",
       "      <th>good</th>\n",
       "      <th>excellent</th>\n",
       "      <th>awesome</th>\n",
       "      <th>recommend</th>\n",
       "      <th>fast</th>\n",
       "      <th>love</th>\n",
       "      <th>nice</th>\n",
       "      <th>well</th>\n",
       "      <th>ideal</th>\n",
       "      <th>highly</th>\n",
       "      <th>must have</th>\n",
       "      <th>beautiful</th>\n",
       "      <th>super</th>\n",
       "    </tr>\n",
       "  </thead>\n",
       "  <tbody>\n",
       "    <tr>\n",
       "      <th>0</th>\n",
       "      <td>So there is no way for me to plug it in here i...</td>\n",
       "      <td>0</td>\n",
       "      <td>False</td>\n",
       "      <td>False</td>\n",
       "      <td>False</td>\n",
       "      <td>False</td>\n",
       "      <td>False</td>\n",
       "      <td>False</td>\n",
       "      <td>False</td>\n",
       "      <td>False</td>\n",
       "      <td>False</td>\n",
       "      <td>False</td>\n",
       "      <td>False</td>\n",
       "      <td>False</td>\n",
       "      <td>False</td>\n",
       "      <td>False</td>\n",
       "    </tr>\n",
       "    <tr>\n",
       "      <th>1</th>\n",
       "      <td>Good case, Excellent value.</td>\n",
       "      <td>1</td>\n",
       "      <td>False</td>\n",
       "      <td>False</td>\n",
       "      <td>True</td>\n",
       "      <td>False</td>\n",
       "      <td>False</td>\n",
       "      <td>False</td>\n",
       "      <td>False</td>\n",
       "      <td>False</td>\n",
       "      <td>False</td>\n",
       "      <td>False</td>\n",
       "      <td>False</td>\n",
       "      <td>False</td>\n",
       "      <td>False</td>\n",
       "      <td>False</td>\n",
       "    </tr>\n",
       "    <tr>\n",
       "      <th>2</th>\n",
       "      <td>Great for the jawbone.</td>\n",
       "      <td>1</td>\n",
       "      <td>False</td>\n",
       "      <td>False</td>\n",
       "      <td>False</td>\n",
       "      <td>False</td>\n",
       "      <td>False</td>\n",
       "      <td>False</td>\n",
       "      <td>False</td>\n",
       "      <td>False</td>\n",
       "      <td>False</td>\n",
       "      <td>False</td>\n",
       "      <td>False</td>\n",
       "      <td>False</td>\n",
       "      <td>False</td>\n",
       "      <td>False</td>\n",
       "    </tr>\n",
       "    <tr>\n",
       "      <th>3</th>\n",
       "      <td>Tied to charger for conversations lasting more...</td>\n",
       "      <td>0</td>\n",
       "      <td>False</td>\n",
       "      <td>False</td>\n",
       "      <td>False</td>\n",
       "      <td>False</td>\n",
       "      <td>False</td>\n",
       "      <td>False</td>\n",
       "      <td>False</td>\n",
       "      <td>False</td>\n",
       "      <td>False</td>\n",
       "      <td>False</td>\n",
       "      <td>False</td>\n",
       "      <td>False</td>\n",
       "      <td>False</td>\n",
       "      <td>False</td>\n",
       "    </tr>\n",
       "    <tr>\n",
       "      <th>4</th>\n",
       "      <td>The mic is great.</td>\n",
       "      <td>1</td>\n",
       "      <td>False</td>\n",
       "      <td>False</td>\n",
       "      <td>False</td>\n",
       "      <td>False</td>\n",
       "      <td>False</td>\n",
       "      <td>False</td>\n",
       "      <td>False</td>\n",
       "      <td>False</td>\n",
       "      <td>False</td>\n",
       "      <td>False</td>\n",
       "      <td>False</td>\n",
       "      <td>False</td>\n",
       "      <td>False</td>\n",
       "      <td>False</td>\n",
       "    </tr>\n",
       "  </tbody>\n",
       "</table>\n",
       "</div>"
      ],
      "text/plain": [
       "                                              review  sentiment  great   good  \\\n",
       "0  So there is no way for me to plug it in here i...          0  False  False   \n",
       "1                        Good case, Excellent value.          1  False  False   \n",
       "2                             Great for the jawbone.          1  False  False   \n",
       "3  Tied to charger for conversations lasting more...          0  False  False   \n",
       "4                                  The mic is great.          1  False  False   \n",
       "\n",
       "   excellent  awesome  recommend   fast   love   nice   well  ideal  highly  \\\n",
       "0      False    False      False  False  False  False  False  False   False   \n",
       "1       True    False      False  False  False  False  False  False   False   \n",
       "2      False    False      False  False  False  False  False  False   False   \n",
       "3      False    False      False  False  False  False  False  False   False   \n",
       "4      False    False      False  False  False  False  False  False   False   \n",
       "\n",
       "   must have  beautiful  super  \n",
       "0      False      False  False  \n",
       "1      False      False  False  \n",
       "2      False      False  False  \n",
       "3      False      False  False  \n",
       "4      False      False  False  "
      ]
     },
     "metadata": {},
     "output_type": "display_data"
    }
   ],
   "source": [
    "display(df_a.head())"
   ]
  },
  {
   "cell_type": "markdown",
   "metadata": {},
   "source": [
    "Here we are going through the data, mostly the sentiment column and identify the columns that have a good sentiment.  \n",
    "Meaning that the customer gave it a score of 1. "
   ]
  },
  {
   "cell_type": "code",
   "execution_count": 7,
   "metadata": {
    "collapsed": true
   },
   "outputs": [],
   "source": [
    "df_a['sentiment'] = (df_a['sentiment'] == 1)\n",
    "# Note that if you run this cell a second time everything will become false.\n",
    "# So... Don't."
   ]
  },
  {
   "cell_type": "code",
   "execution_count": 8,
   "metadata": {},
   "outputs": [
    {
     "data": {
      "text/html": [
       "<div>\n",
       "<style>\n",
       "    .dataframe thead tr:only-child th {\n",
       "        text-align: right;\n",
       "    }\n",
       "\n",
       "    .dataframe thead th {\n",
       "        text-align: left;\n",
       "    }\n",
       "\n",
       "    .dataframe tbody tr th {\n",
       "        vertical-align: top;\n",
       "    }\n",
       "</style>\n",
       "<table border=\"1\" class=\"dataframe\">\n",
       "  <thead>\n",
       "    <tr style=\"text-align: right;\">\n",
       "      <th></th>\n",
       "      <th>review</th>\n",
       "      <th>sentiment</th>\n",
       "      <th>great</th>\n",
       "      <th>good</th>\n",
       "      <th>excellent</th>\n",
       "      <th>awesome</th>\n",
       "      <th>recommend</th>\n",
       "      <th>fast</th>\n",
       "      <th>love</th>\n",
       "      <th>nice</th>\n",
       "      <th>well</th>\n",
       "      <th>ideal</th>\n",
       "      <th>highly</th>\n",
       "      <th>must have</th>\n",
       "      <th>beautiful</th>\n",
       "      <th>super</th>\n",
       "    </tr>\n",
       "  </thead>\n",
       "  <tbody>\n",
       "    <tr>\n",
       "      <th>0</th>\n",
       "      <td>So there is no way for me to plug it in here i...</td>\n",
       "      <td>False</td>\n",
       "      <td>False</td>\n",
       "      <td>False</td>\n",
       "      <td>False</td>\n",
       "      <td>False</td>\n",
       "      <td>False</td>\n",
       "      <td>False</td>\n",
       "      <td>False</td>\n",
       "      <td>False</td>\n",
       "      <td>False</td>\n",
       "      <td>False</td>\n",
       "      <td>False</td>\n",
       "      <td>False</td>\n",
       "      <td>False</td>\n",
       "      <td>False</td>\n",
       "    </tr>\n",
       "    <tr>\n",
       "      <th>1</th>\n",
       "      <td>Good case, Excellent value.</td>\n",
       "      <td>True</td>\n",
       "      <td>False</td>\n",
       "      <td>False</td>\n",
       "      <td>True</td>\n",
       "      <td>False</td>\n",
       "      <td>False</td>\n",
       "      <td>False</td>\n",
       "      <td>False</td>\n",
       "      <td>False</td>\n",
       "      <td>False</td>\n",
       "      <td>False</td>\n",
       "      <td>False</td>\n",
       "      <td>False</td>\n",
       "      <td>False</td>\n",
       "      <td>False</td>\n",
       "    </tr>\n",
       "    <tr>\n",
       "      <th>2</th>\n",
       "      <td>Great for the jawbone.</td>\n",
       "      <td>True</td>\n",
       "      <td>False</td>\n",
       "      <td>False</td>\n",
       "      <td>False</td>\n",
       "      <td>False</td>\n",
       "      <td>False</td>\n",
       "      <td>False</td>\n",
       "      <td>False</td>\n",
       "      <td>False</td>\n",
       "      <td>False</td>\n",
       "      <td>False</td>\n",
       "      <td>False</td>\n",
       "      <td>False</td>\n",
       "      <td>False</td>\n",
       "      <td>False</td>\n",
       "    </tr>\n",
       "    <tr>\n",
       "      <th>3</th>\n",
       "      <td>Tied to charger for conversations lasting more...</td>\n",
       "      <td>False</td>\n",
       "      <td>False</td>\n",
       "      <td>False</td>\n",
       "      <td>False</td>\n",
       "      <td>False</td>\n",
       "      <td>False</td>\n",
       "      <td>False</td>\n",
       "      <td>False</td>\n",
       "      <td>False</td>\n",
       "      <td>False</td>\n",
       "      <td>False</td>\n",
       "      <td>False</td>\n",
       "      <td>False</td>\n",
       "      <td>False</td>\n",
       "      <td>False</td>\n",
       "    </tr>\n",
       "    <tr>\n",
       "      <th>4</th>\n",
       "      <td>The mic is great.</td>\n",
       "      <td>True</td>\n",
       "      <td>False</td>\n",
       "      <td>False</td>\n",
       "      <td>False</td>\n",
       "      <td>False</td>\n",
       "      <td>False</td>\n",
       "      <td>False</td>\n",
       "      <td>False</td>\n",
       "      <td>False</td>\n",
       "      <td>False</td>\n",
       "      <td>False</td>\n",
       "      <td>False</td>\n",
       "      <td>False</td>\n",
       "      <td>False</td>\n",
       "      <td>False</td>\n",
       "    </tr>\n",
       "  </tbody>\n",
       "</table>\n",
       "</div>"
      ],
      "text/plain": [
       "                                              review  sentiment  great   good  \\\n",
       "0  So there is no way for me to plug it in here i...      False  False  False   \n",
       "1                        Good case, Excellent value.       True  False  False   \n",
       "2                             Great for the jawbone.       True  False  False   \n",
       "3  Tied to charger for conversations lasting more...      False  False  False   \n",
       "4                                  The mic is great.       True  False  False   \n",
       "\n",
       "   excellent  awesome  recommend   fast   love   nice   well  ideal  highly  \\\n",
       "0      False    False      False  False  False  False  False  False   False   \n",
       "1       True    False      False  False  False  False  False  False   False   \n",
       "2      False    False      False  False  False  False  False  False   False   \n",
       "3      False    False      False  False  False  False  False  False   False   \n",
       "4      False    False      False  False  False  False  False  False   False   \n",
       "\n",
       "   must have  beautiful  super  \n",
       "0      False      False  False  \n",
       "1      False      False  False  \n",
       "2      False      False  False  \n",
       "3      False      False  False  \n",
       "4      False      False  False  "
      ]
     },
     "metadata": {},
     "output_type": "display_data"
    }
   ],
   "source": [
    "display(df_a.head())"
   ]
  },
  {
   "cell_type": "code",
   "execution_count": 9,
   "metadata": {},
   "outputs": [
    {
     "data": {
      "image/png": "[encoded data removed]",
      "text/plain": [
       "<matplotlib.figure.Figure at 0x114206ba8>"
      ]
     },
     "metadata": {},
     "output_type": "display_data"
    }
   ],
   "source": [
    "plt.figure(figsize=(18, 18))\n",
    "sns.heatmap(df_a.corr(),vmax=.8, square=True, linecolor='black', linewidths=1, annot=True)\n",
    "plt.show()"
   ]
  },
  {
   "cell_type": "markdown",
   "metadata": {},
   "source": [
    "Looking at the correlation matrix,   \n",
    " \n",
    "\n",
    "We see that the correlation between \"highly\" and \"recommend\" is 0.43. This mean that in many of the reviews that have recommend, they also for the most part contain the term highly. This makes sense since people will usually write that they \"highly recommed\" a produt if they like it. \n",
    "\n",
    "\n",
    "We see that the correlation between \"highly\" and \"excellent\" is 0.12. This mean that in many of the reviews that the word \"highly\" in it, we can also find the word \"excellent\".\n",
    "\n",
    "This is why at the end we will remove \"Highly\". \n",
    "\n",
    "We see that the correlation between sentiment and \"super\" is -3.1e-19. This is so small that is not a correlation.   \n",
    "\n",
    "This is why at the end we will remove \"Super\".\n",
    "\n",
    "\n",
    "The features with a high correlation with the outcome were \"great\", \"love\", \"good\" and \"nice\".  \n",
    "If we see a review with those words in it, there is high likely hood that the review is a good review.  "
   ]
  },
  {
   "cell_type": "code",
   "execution_count": 10,
   "metadata": {
    "collapsed": true
   },
   "outputs": [],
   "source": [
    "data = df_a[keywords_a]\n",
    "target = df_a['sentiment']"
   ]
  },
  {
   "cell_type": "code",
   "execution_count": 11,
   "metadata": {},
   "outputs": [
    {
     "name": "stdout",
     "output_type": "stream",
     "text": [
      "Number of mislabeled points out of a total 1000 points : 391\n"
     ]
    }
   ],
   "source": [
    "# Our data is binary / boolean, so we're importing the Bernoulli classifier.\n",
    "from sklearn.naive_bayes import BernoulliNB\n",
    "\n",
    "# Instantiate our model and store it in a new variable.\n",
    "bnb = BernoulliNB()\n",
    "\n",
    "# Fit our model to the data.\n",
    "bnb.fit(data, target)\n",
    "\n",
    "# Classify, storing the result in a new variable.\n",
    "y_pred = bnb.predict(data)\n",
    "\n",
    "# Display our results.\n",
    "print(\"Number of mislabeled points out of a total {} points : {}\".format(\n",
    "    data.shape[0],\n",
    "    (target != y_pred).sum()\n",
    "))"
   ]
  },
  {
   "cell_type": "code",
   "execution_count": 12,
   "metadata": {},
   "outputs": [
    {
     "data": {
      "text/plain": [
       "60.899999999999999"
      ]
     },
     "execution_count": 12,
     "metadata": {},
     "output_type": "execute_result"
    }
   ],
   "source": [
    "\n",
    "# Calculating accuracy\n",
    "(target == y_pred).sum() / data.shape[0] * 100"
   ]
  },
  {
   "cell_type": "markdown",
   "metadata": {},
   "source": [
    "60.89% off of 609 correctly classified messages and 391 incorrectly classified."
   ]
  },
  {
   "cell_type": "code",
   "execution_count": 13,
   "metadata": {},
   "outputs": [
    {
     "data": {
      "text/plain": [
       "array([[477,  23],\n",
       "       [368, 132]])"
      ]
     },
     "metadata": {},
     "output_type": "display_data"
    }
   ],
   "source": [
    "\n",
    "# importing confusion matrix to see where we were right and where we were wrong\n",
    "from sklearn.metrics import confusion_matrix\n",
    "C = confusion_matrix(target, y_pred)\n",
    "display(C)\n"
   ]
  },
  {
   "cell_type": "markdown",
   "metadata": {},
   "source": [
    "\n",
    "__true negatives__ is C_{0,0} = 477         \n",
    "This means that 477 were accuratly identified has not being good sentiments or reviews.      \n",
    "\n",
    "__false negatives__ is C_{1,0} = 368          \n",
    "This means that 368 were identified has not being good sentiments or reviews when they were not good reviews.   \n",
    "Those are called a Type II error or a miss.    \n",
    "\n",
    "__true positives__ is C_{1,1} = 132    \n",
    "This mean that 132 were identified has being good sentiments or reviews and they are.       \n",
    "\n",
    "\n",
    "__false positives__ is C_{0,1} = 23    \n",
    "This means that 23 were identified has good sentiments or reviews when they were not good reviews.    \n",
    "Those are called a Type I error or a false alarm.    "
   ]
  },
  {
   "cell_type": "code",
   "execution_count": 14,
   "metadata": {},
   "outputs": [
    {
     "name": "stdout",
     "output_type": "stream",
     "text": [
      "             precision    recall  f1-score   support\n",
      "\n",
      "      False       0.56      0.95      0.71       500\n",
      "       True       0.85      0.26      0.40       500\n",
      "\n",
      "avg / total       0.71      0.61      0.56      1000\n",
      "\n"
     ]
    }
   ],
   "source": [
    "from sklearn.metrics import classification_report\n",
    "print(classification_report(target, y_pred))"
   ]
  },
  {
   "cell_type": "markdown",
   "metadata": {},
   "source": [
    "For our model:\n",
    "\n",
    "__Sensitivity__ is the percentage of positives correctly identified, in our case 132/500 or 26%.    \n",
    "Our model is not as good as we would like it to be to identified good reviews.   \n",
    "\n",
    "__Specificity__ is just the opposite, the percentage of negatives correctly identified, 477/500 or 95%.    \n",
    "Our model is very good at identified the bad reviews.   "
   ]
  },
  {
   "cell_type": "markdown",
   "metadata": {},
   "source": [
    "## YELP CLASSIFIER"
   ]
  },
  {
   "cell_type": "markdown",
   "metadata": {},
   "source": [
    "The data is a text file that contains review that were taken from Yelp. It seems to be mostly the reviews of the service at a restaurant. In it we have the customer comment or review on the service they received at say restaurant. And also their grade of the service they recieve, which is either 1 for good (liked service) or 0 for bad (disliked service). "
   ]
  },
  {
   "cell_type": "code",
   "execution_count": 15,
   "metadata": {
    "collapsed": true
   },
   "outputs": [],
   "source": [
    "# Grab and process the raw data for Yelp.\n",
    "data_2 = open(\"yelp_labelled.txt\")\n",
    "\n",
    "df_y = pd.read_csv(data_2, delimiter= '\\t', header=None)\n",
    "df_y.columns = ['review', 'sentiment']\n",
    "\n"
   ]
  },
  {
   "cell_type": "code",
   "execution_count": 16,
   "metadata": {},
   "outputs": [
    {
     "data": {
      "text/html": [
       "<div>\n",
       "<style>\n",
       "    .dataframe thead tr:only-child th {\n",
       "        text-align: right;\n",
       "    }\n",
       "\n",
       "    .dataframe thead th {\n",
       "        text-align: left;\n",
       "    }\n",
       "\n",
       "    .dataframe tbody tr th {\n",
       "        vertical-align: top;\n",
       "    }\n",
       "</style>\n",
       "<table border=\"1\" class=\"dataframe\">\n",
       "  <thead>\n",
       "    <tr style=\"text-align: right;\">\n",
       "      <th></th>\n",
       "      <th>review</th>\n",
       "      <th>sentiment</th>\n",
       "    </tr>\n",
       "  </thead>\n",
       "  <tbody>\n",
       "    <tr>\n",
       "      <th>0</th>\n",
       "      <td>Wow... Loved this place.</td>\n",
       "      <td>1</td>\n",
       "    </tr>\n",
       "    <tr>\n",
       "      <th>1</th>\n",
       "      <td>Crust is not good.</td>\n",
       "      <td>0</td>\n",
       "    </tr>\n",
       "    <tr>\n",
       "      <th>2</th>\n",
       "      <td>Not tasty and the texture was just nasty.</td>\n",
       "      <td>0</td>\n",
       "    </tr>\n",
       "    <tr>\n",
       "      <th>3</th>\n",
       "      <td>Stopped by during the late May bank holiday of...</td>\n",
       "      <td>1</td>\n",
       "    </tr>\n",
       "    <tr>\n",
       "      <th>4</th>\n",
       "      <td>The selection on the menu was great and so wer...</td>\n",
       "      <td>1</td>\n",
       "    </tr>\n",
       "  </tbody>\n",
       "</table>\n",
       "</div>"
      ],
      "text/plain": [
       "                                              review  sentiment\n",
       "0                           Wow... Loved this place.          1\n",
       "1                                 Crust is not good.          0\n",
       "2          Not tasty and the texture was just nasty.          0\n",
       "3  Stopped by during the late May bank holiday of...          1\n",
       "4  The selection on the menu was great and so wer...          1"
      ]
     },
     "metadata": {},
     "output_type": "display_data"
    }
   ],
   "source": [
    "display(df_y.head())"
   ]
  },
  {
   "cell_type": "markdown",
   "metadata": {},
   "source": [
    "Let's Find the Bad reviews meaning the ones with sentiment = 0   \n",
    "This is because the model we create for amazon seem to be good at identifying bad reviews.\n",
    "So here, we will create a file for our model that will contain some words that we believe  are usually found in good reviews."
   ]
  },
  {
   "cell_type": "code",
   "execution_count": 17,
   "metadata": {
    "collapsed": true
   },
   "outputs": [],
   "source": [
    "keywords_y = ['worst', 'bad', 'horrible', 'disgusted', 'awful', 'bland','slow', 'hated', 'did not like','never','bland','never','worst','poor','drag','frozen' ]\n",
    "\n",
    "for key in keywords_y:\n",
    "    # Note that we add spaces around the key so that we're getting the word,\n",
    "    # not just pattern matching.\n",
    "    df_y[str(key)] = df_y.review.str.contains(\n",
    "        ' ' + str(key) + ' ',\n",
    "        case=False\n",
    "    )"
   ]
  },
  {
   "cell_type": "code",
   "execution_count": 18,
   "metadata": {},
   "outputs": [
    {
     "data": {
      "text/plain": [
       "['worst',\n",
       " 'bad',\n",
       " 'horrible',\n",
       " 'disgusted',\n",
       " 'awful',\n",
       " 'bland',\n",
       " 'slow',\n",
       " 'hated',\n",
       " 'did not like',\n",
       " 'never',\n",
       " 'bland',\n",
       " 'never',\n",
       " 'worst',\n",
       " 'poor',\n",
       " 'drag',\n",
       " 'frozen']"
      ]
     },
     "execution_count": 18,
     "metadata": {},
     "output_type": "execute_result"
    }
   ],
   "source": [
    "keywords_y"
   ]
  },
  {
   "cell_type": "code",
   "execution_count": 19,
   "metadata": {
    "collapsed": true
   },
   "outputs": [],
   "source": [
    "df_y['sentiment'] = (df_y['sentiment'] == 0)\n",
    "# Note that if you run this cell a second time everything will become false.\n",
    "# So... Don't."
   ]
  },
  {
   "cell_type": "code",
   "execution_count": 20,
   "metadata": {},
   "outputs": [
    {
     "data": {
      "text/html": [
       "<div>\n",
       "<style>\n",
       "    .dataframe thead tr:only-child th {\n",
       "        text-align: right;\n",
       "    }\n",
       "\n",
       "    .dataframe thead th {\n",
       "        text-align: left;\n",
       "    }\n",
       "\n",
       "    .dataframe tbody tr th {\n",
       "        vertical-align: top;\n",
       "    }\n",
       "</style>\n",
       "<table border=\"1\" class=\"dataframe\">\n",
       "  <thead>\n",
       "    <tr style=\"text-align: right;\">\n",
       "      <th></th>\n",
       "      <th>review</th>\n",
       "      <th>sentiment</th>\n",
       "      <th>worst</th>\n",
       "      <th>bad</th>\n",
       "      <th>horrible</th>\n",
       "      <th>disgusted</th>\n",
       "      <th>awful</th>\n",
       "      <th>bland</th>\n",
       "      <th>slow</th>\n",
       "      <th>hated</th>\n",
       "      <th>did not like</th>\n",
       "      <th>never</th>\n",
       "      <th>poor</th>\n",
       "      <th>drag</th>\n",
       "      <th>frozen</th>\n",
       "    </tr>\n",
       "  </thead>\n",
       "  <tbody>\n",
       "    <tr>\n",
       "      <th>0</th>\n",
       "      <td>Wow... Loved this place.</td>\n",
       "      <td>False</td>\n",
       "      <td>False</td>\n",
       "      <td>False</td>\n",
       "      <td>False</td>\n",
       "      <td>False</td>\n",
       "      <td>False</td>\n",
       "      <td>False</td>\n",
       "      <td>False</td>\n",
       "      <td>False</td>\n",
       "      <td>False</td>\n",
       "      <td>False</td>\n",
       "      <td>False</td>\n",
       "      <td>False</td>\n",
       "      <td>False</td>\n",
       "    </tr>\n",
       "    <tr>\n",
       "      <th>1</th>\n",
       "      <td>Crust is not good.</td>\n",
       "      <td>True</td>\n",
       "      <td>False</td>\n",
       "      <td>False</td>\n",
       "      <td>False</td>\n",
       "      <td>False</td>\n",
       "      <td>False</td>\n",
       "      <td>False</td>\n",
       "      <td>False</td>\n",
       "      <td>False</td>\n",
       "      <td>False</td>\n",
       "      <td>False</td>\n",
       "      <td>False</td>\n",
       "      <td>False</td>\n",
       "      <td>False</td>\n",
       "    </tr>\n",
       "    <tr>\n",
       "      <th>2</th>\n",
       "      <td>Not tasty and the texture was just nasty.</td>\n",
       "      <td>True</td>\n",
       "      <td>False</td>\n",
       "      <td>False</td>\n",
       "      <td>False</td>\n",
       "      <td>False</td>\n",
       "      <td>False</td>\n",
       "      <td>False</td>\n",
       "      <td>False</td>\n",
       "      <td>False</td>\n",
       "      <td>False</td>\n",
       "      <td>False</td>\n",
       "      <td>False</td>\n",
       "      <td>False</td>\n",
       "      <td>False</td>\n",
       "    </tr>\n",
       "    <tr>\n",
       "      <th>3</th>\n",
       "      <td>Stopped by during the late May bank holiday of...</td>\n",
       "      <td>False</td>\n",
       "      <td>False</td>\n",
       "      <td>False</td>\n",
       "      <td>False</td>\n",
       "      <td>False</td>\n",
       "      <td>False</td>\n",
       "      <td>False</td>\n",
       "      <td>False</td>\n",
       "      <td>False</td>\n",
       "      <td>False</td>\n",
       "      <td>False</td>\n",
       "      <td>False</td>\n",
       "      <td>False</td>\n",
       "      <td>False</td>\n",
       "    </tr>\n",
       "    <tr>\n",
       "      <th>4</th>\n",
       "      <td>The selection on the menu was great and so wer...</td>\n",
       "      <td>False</td>\n",
       "      <td>False</td>\n",
       "      <td>False</td>\n",
       "      <td>False</td>\n",
       "      <td>False</td>\n",
       "      <td>False</td>\n",
       "      <td>False</td>\n",
       "      <td>False</td>\n",
       "      <td>False</td>\n",
       "      <td>False</td>\n",
       "      <td>False</td>\n",
       "      <td>False</td>\n",
       "      <td>False</td>\n",
       "      <td>False</td>\n",
       "    </tr>\n",
       "  </tbody>\n",
       "</table>\n",
       "</div>"
      ],
      "text/plain": [
       "                                              review  sentiment  worst    bad  \\\n",
       "0                           Wow... Loved this place.      False  False  False   \n",
       "1                                 Crust is not good.       True  False  False   \n",
       "2          Not tasty and the texture was just nasty.       True  False  False   \n",
       "3  Stopped by during the late May bank holiday of...      False  False  False   \n",
       "4  The selection on the menu was great and so wer...      False  False  False   \n",
       "\n",
       "   horrible  disgusted  awful  bland   slow  hated  did not like  never  \\\n",
       "0     False      False  False  False  False  False         False  False   \n",
       "1     False      False  False  False  False  False         False  False   \n",
       "2     False      False  False  False  False  False         False  False   \n",
       "3     False      False  False  False  False  False         False  False   \n",
       "4     False      False  False  False  False  False         False  False   \n",
       "\n",
       "    poor   drag  frozen  \n",
       "0  False  False   False  \n",
       "1  False  False   False  \n",
       "2  False  False   False  \n",
       "3  False  False   False  \n",
       "4  False  False   False  "
      ]
     },
     "metadata": {},
     "output_type": "display_data"
    }
   ],
   "source": [
    "display(df_y.head())"
   ]
  },
  {
   "cell_type": "code",
   "execution_count": 21,
   "metadata": {},
   "outputs": [
    {
     "data": {
      "image/png": "[encoded data removed]",
      "text/plain": [
       "<matplotlib.figure.Figure at 0x11893f390>"
      ]
     },
     "metadata": {},
     "output_type": "display_data"
    }
   ],
   "source": [
    "plt.figure(figsize=(18, 18))\n",
    "sns.heatmap(df_y.corr(),vmax=.8, square=True, linecolor='black', linewidths=1, annot=True)\n",
    "plt.show()"
   ]
  },
  {
   "cell_type": "markdown",
   "metadata": {},
   "source": [
    "Looking at the correlation matrix,   \n",
    "\n",
    "During our iteration, we see that the feature \"awful\" does not have a value. This means that it is not in any of the reviews. \n",
    "Thus shuld be removed as a feature. \n",
    " \n",
    "During our iteration, we had the feature \"bland\" in but \n",
    "\n",
    "We see that the correlation between \"bland\" and \"never\" is 0.1. This mean that in many of the reviews that have \"bland\", they also for the most part contain the term \"never\".   \n",
    "\n",
    "\n",
    "We see that the correlation between sentiment and \"bland\" is 0.063.    \n",
    "\n",
    "We see that the correlation between sentiment and \"never\" is 0.1.    \n",
    "\n",
    "This is why at the end we will remove \"bland\". \n",
    "\n",
    "\n",
    "The features with a high correlation with the outcome were \"never\", \"bad\", \"slow\", \"worst\", \"poor\" and \"nice\".  \n",
    "If we see a review with those words in it, there is high likelyhood that the review is a bad review.  "
   ]
  },
  {
   "cell_type": "code",
   "execution_count": 22,
   "metadata": {
    "collapsed": true
   },
   "outputs": [],
   "source": [
    "data = df_y[keywords_y]\n",
    "target = df_y['sentiment']"
   ]
  },
  {
   "cell_type": "code",
   "execution_count": 23,
   "metadata": {},
   "outputs": [
    {
     "name": "stdout",
     "output_type": "stream",
     "text": [
      "Number of mislabeled points out of a total 1000 points : 447\n"
     ]
    }
   ],
   "source": [
    "\n",
    "\n",
    "# Our data is binary / boolean, so we're importing the Bernoulli classifier.\n",
    "from sklearn.naive_bayes import BernoulliNB\n",
    "\n",
    "# Instantiate our model and store it in a new variable.\n",
    "bnb = BernoulliNB()\n",
    "\n",
    "# Fit our model to the data.\n",
    "bnb.fit(data, target)\n",
    "\n",
    "# Classify, storing the result in a new variable.\n",
    "y_pred = bnb.predict(data)\n",
    "\n",
    "# Display our results.\n",
    "print(\"Number of mislabeled points out of a total {} points : {}\".format(\n",
    "    data.shape[0],\n",
    "    (target != y_pred).sum()\n",
    "))"
   ]
  },
  {
   "cell_type": "code",
   "execution_count": 24,
   "metadata": {},
   "outputs": [
    {
     "data": {
      "text/plain": [
       "55.300000000000004"
      ]
     },
     "execution_count": 24,
     "metadata": {},
     "output_type": "execute_result"
    }
   ],
   "source": [
    "# Calculating accuracy\n",
    "(target == y_pred).sum() / data.shape[0] * 100"
   ]
  },
  {
   "cell_type": "markdown",
   "metadata": {},
   "source": [
    "55.30% off of 496 correctly classified messages and 447 incorrectly classified."
   ]
  },
  {
   "cell_type": "code",
   "execution_count": 25,
   "metadata": {},
   "outputs": [
    {
     "data": {
      "text/plain": [
       "array([[496,   4],\n",
       "       [443,  57]])"
      ]
     },
     "execution_count": 25,
     "metadata": {},
     "output_type": "execute_result"
    }
   ],
   "source": [
    "# importing confusion matrix to see where we were right and where we were wrong\n",
    "from sklearn.metrics import confusion_matrix\n",
    "confusion_matrix(target, y_pred)"
   ]
  },
  {
   "cell_type": "markdown",
   "metadata": {},
   "source": [
    "\n",
    "__true negatives__ is C_{0,0} = 496         \n",
    "This means that 496 were accuratly identified has not being bad sentiments or reviews.      \n",
    "\n",
    "__false negatives__ is C_{1,0} = 443          \n",
    "This means that 443 were identified has not being bad sentiments or reviews when they were not bad reviews.   \n",
    "Those are called a Type II error or a miss.    \n",
    "\n",
    "__true positives__ is C_{1,1} = 57    \n",
    "This mean that 57 were identified has being bad sentiments or reviews and they are.       \n",
    "\n",
    "\n",
    "__false positives__ is C_{0,1} = 4    \n",
    "This means that 4 were identified has bad sentiments or reviews when they were not bad reviews.    \n",
    "Those are called a Type I error or a false alarm.    "
   ]
  },
  {
   "cell_type": "code",
   "execution_count": 26,
   "metadata": {},
   "outputs": [
    {
     "name": "stdout",
     "output_type": "stream",
     "text": [
      "             precision    recall  f1-score   support\n",
      "\n",
      "      False       0.53      0.99      0.69       500\n",
      "       True       0.93      0.11      0.20       500\n",
      "\n",
      "avg / total       0.73      0.55      0.45      1000\n",
      "\n"
     ]
    }
   ],
   "source": [
    "from sklearn.metrics import classification_report\n",
    "print(classification_report(target, y_pred))"
   ]
  },
  {
   "cell_type": "markdown",
   "metadata": {},
   "source": [
    "For our model:\n",
    "\n",
    "__Sensitivity__ is the percentage of positives correctly identified, in our case 57/500 or 11%.    \n",
    "Our model is not as good as we would like it to be to identified bad reviews.   \n",
    "\n",
    "__Specificity__ is just the opposite, the percentage of negatives correctly identified, 443/500 or 99%.\n",
    "Our model is very good at identified the good reviews.   "
   ]
  },
  {
   "cell_type": "markdown",
   "metadata": {
    "collapsed": true
   },
   "source": [
    "## YELP CLASSIFIER With Amazon model "
   ]
  },
  {
   "cell_type": "code",
   "execution_count": 27,
   "metadata": {
    "collapsed": true
   },
   "outputs": [],
   "source": [
    "# Grab and process the raw data for Yelp.\n",
    "data_2 = open(\"yelp_labelled.txt\")\n",
    "\n",
    "df_y1 = pd.read_csv(data_2, delimiter= '\\t', header=None)\n",
    "df_y1.columns = ['review', 'sentiment']"
   ]
  },
  {
   "cell_type": "code",
   "execution_count": 28,
   "metadata": {
    "collapsed": true
   },
   "outputs": [],
   "source": [
    "#keywords_a = ['great', 'good', 'excellent', 'awesome', 'recommend', 'fast', 'love', 'nice' ]\n",
    "\n",
    "for key in keywords_a:\n",
    "    # Note that we add spaces around the key so that we're getting the word,\n",
    "    # not just pattern matching.\n",
    "    df_y1[str(key)] = df_y1.review.str.contains(\n",
    "        ' ' + str(key) + ' ',\n",
    "        case=False\n",
    "    )"
   ]
  },
  {
   "cell_type": "code",
   "execution_count": 29,
   "metadata": {},
   "outputs": [
    {
     "data": {
      "text/html": [
       "<div>\n",
       "<style>\n",
       "    .dataframe thead tr:only-child th {\n",
       "        text-align: right;\n",
       "    }\n",
       "\n",
       "    .dataframe thead th {\n",
       "        text-align: left;\n",
       "    }\n",
       "\n",
       "    .dataframe tbody tr th {\n",
       "        vertical-align: top;\n",
       "    }\n",
       "</style>\n",
       "<table border=\"1\" class=\"dataframe\">\n",
       "  <thead>\n",
       "    <tr style=\"text-align: right;\">\n",
       "      <th></th>\n",
       "      <th>review</th>\n",
       "      <th>sentiment</th>\n",
       "      <th>great</th>\n",
       "      <th>good</th>\n",
       "      <th>excellent</th>\n",
       "      <th>awesome</th>\n",
       "      <th>recommend</th>\n",
       "      <th>fast</th>\n",
       "      <th>love</th>\n",
       "      <th>nice</th>\n",
       "      <th>well</th>\n",
       "      <th>ideal</th>\n",
       "      <th>highly</th>\n",
       "      <th>must have</th>\n",
       "      <th>beautiful</th>\n",
       "      <th>super</th>\n",
       "    </tr>\n",
       "  </thead>\n",
       "  <tbody>\n",
       "    <tr>\n",
       "      <th>0</th>\n",
       "      <td>Wow... Loved this place.</td>\n",
       "      <td>1</td>\n",
       "      <td>False</td>\n",
       "      <td>False</td>\n",
       "      <td>False</td>\n",
       "      <td>False</td>\n",
       "      <td>False</td>\n",
       "      <td>False</td>\n",
       "      <td>False</td>\n",
       "      <td>False</td>\n",
       "      <td>False</td>\n",
       "      <td>False</td>\n",
       "      <td>False</td>\n",
       "      <td>False</td>\n",
       "      <td>False</td>\n",
       "      <td>False</td>\n",
       "    </tr>\n",
       "    <tr>\n",
       "      <th>1</th>\n",
       "      <td>Crust is not good.</td>\n",
       "      <td>0</td>\n",
       "      <td>False</td>\n",
       "      <td>False</td>\n",
       "      <td>False</td>\n",
       "      <td>False</td>\n",
       "      <td>False</td>\n",
       "      <td>False</td>\n",
       "      <td>False</td>\n",
       "      <td>False</td>\n",
       "      <td>False</td>\n",
       "      <td>False</td>\n",
       "      <td>False</td>\n",
       "      <td>False</td>\n",
       "      <td>False</td>\n",
       "      <td>False</td>\n",
       "    </tr>\n",
       "    <tr>\n",
       "      <th>2</th>\n",
       "      <td>Not tasty and the texture was just nasty.</td>\n",
       "      <td>0</td>\n",
       "      <td>False</td>\n",
       "      <td>False</td>\n",
       "      <td>False</td>\n",
       "      <td>False</td>\n",
       "      <td>False</td>\n",
       "      <td>False</td>\n",
       "      <td>False</td>\n",
       "      <td>False</td>\n",
       "      <td>False</td>\n",
       "      <td>False</td>\n",
       "      <td>False</td>\n",
       "      <td>False</td>\n",
       "      <td>False</td>\n",
       "      <td>False</td>\n",
       "    </tr>\n",
       "    <tr>\n",
       "      <th>3</th>\n",
       "      <td>Stopped by during the late May bank holiday of...</td>\n",
       "      <td>1</td>\n",
       "      <td>False</td>\n",
       "      <td>False</td>\n",
       "      <td>False</td>\n",
       "      <td>False</td>\n",
       "      <td>False</td>\n",
       "      <td>False</td>\n",
       "      <td>False</td>\n",
       "      <td>False</td>\n",
       "      <td>False</td>\n",
       "      <td>False</td>\n",
       "      <td>False</td>\n",
       "      <td>False</td>\n",
       "      <td>False</td>\n",
       "      <td>False</td>\n",
       "    </tr>\n",
       "    <tr>\n",
       "      <th>4</th>\n",
       "      <td>The selection on the menu was great and so wer...</td>\n",
       "      <td>1</td>\n",
       "      <td>True</td>\n",
       "      <td>False</td>\n",
       "      <td>False</td>\n",
       "      <td>False</td>\n",
       "      <td>False</td>\n",
       "      <td>False</td>\n",
       "      <td>False</td>\n",
       "      <td>False</td>\n",
       "      <td>False</td>\n",
       "      <td>False</td>\n",
       "      <td>False</td>\n",
       "      <td>False</td>\n",
       "      <td>False</td>\n",
       "      <td>False</td>\n",
       "    </tr>\n",
       "  </tbody>\n",
       "</table>\n",
       "</div>"
      ],
      "text/plain": [
       "                                              review  sentiment  great   good  \\\n",
       "0                           Wow... Loved this place.          1  False  False   \n",
       "1                                 Crust is not good.          0  False  False   \n",
       "2          Not tasty and the texture was just nasty.          0  False  False   \n",
       "3  Stopped by during the late May bank holiday of...          1  False  False   \n",
       "4  The selection on the menu was great and so wer...          1   True  False   \n",
       "\n",
       "   excellent  awesome  recommend   fast   love   nice   well  ideal  highly  \\\n",
       "0      False    False      False  False  False  False  False  False   False   \n",
       "1      False    False      False  False  False  False  False  False   False   \n",
       "2      False    False      False  False  False  False  False  False   False   \n",
       "3      False    False      False  False  False  False  False  False   False   \n",
       "4      False    False      False  False  False  False  False  False   False   \n",
       "\n",
       "   must have  beautiful  super  \n",
       "0      False      False  False  \n",
       "1      False      False  False  \n",
       "2      False      False  False  \n",
       "3      False      False  False  \n",
       "4      False      False  False  "
      ]
     },
     "metadata": {},
     "output_type": "display_data"
    }
   ],
   "source": [
    "display(df_y1.head())"
   ]
  },
  {
   "cell_type": "code",
   "execution_count": 30,
   "metadata": {
    "collapsed": true
   },
   "outputs": [],
   "source": [
    "df_y1['sentiment'] = (df_y1['sentiment'] == 1)\n",
    "# Note that if you run this cell a second time everything will become false.\n",
    "# So... Don't."
   ]
  },
  {
   "cell_type": "code",
   "execution_count": 31,
   "metadata": {},
   "outputs": [
    {
     "data": {
      "text/html": [
       "<div>\n",
       "<style>\n",
       "    .dataframe thead tr:only-child th {\n",
       "        text-align: right;\n",
       "    }\n",
       "\n",
       "    .dataframe thead th {\n",
       "        text-align: left;\n",
       "    }\n",
       "\n",
       "    .dataframe tbody tr th {\n",
       "        vertical-align: top;\n",
       "    }\n",
       "</style>\n",
       "<table border=\"1\" class=\"dataframe\">\n",
       "  <thead>\n",
       "    <tr style=\"text-align: right;\">\n",
       "      <th></th>\n",
       "      <th>review</th>\n",
       "      <th>sentiment</th>\n",
       "      <th>great</th>\n",
       "      <th>good</th>\n",
       "      <th>excellent</th>\n",
       "      <th>awesome</th>\n",
       "      <th>recommend</th>\n",
       "      <th>fast</th>\n",
       "      <th>love</th>\n",
       "      <th>nice</th>\n",
       "      <th>well</th>\n",
       "      <th>ideal</th>\n",
       "      <th>highly</th>\n",
       "      <th>must have</th>\n",
       "      <th>beautiful</th>\n",
       "      <th>super</th>\n",
       "    </tr>\n",
       "  </thead>\n",
       "  <tbody>\n",
       "    <tr>\n",
       "      <th>0</th>\n",
       "      <td>Wow... Loved this place.</td>\n",
       "      <td>True</td>\n",
       "      <td>False</td>\n",
       "      <td>False</td>\n",
       "      <td>False</td>\n",
       "      <td>False</td>\n",
       "      <td>False</td>\n",
       "      <td>False</td>\n",
       "      <td>False</td>\n",
       "      <td>False</td>\n",
       "      <td>False</td>\n",
       "      <td>False</td>\n",
       "      <td>False</td>\n",
       "      <td>False</td>\n",
       "      <td>False</td>\n",
       "      <td>False</td>\n",
       "    </tr>\n",
       "    <tr>\n",
       "      <th>1</th>\n",
       "      <td>Crust is not good.</td>\n",
       "      <td>False</td>\n",
       "      <td>False</td>\n",
       "      <td>False</td>\n",
       "      <td>False</td>\n",
       "      <td>False</td>\n",
       "      <td>False</td>\n",
       "      <td>False</td>\n",
       "      <td>False</td>\n",
       "      <td>False</td>\n",
       "      <td>False</td>\n",
       "      <td>False</td>\n",
       "      <td>False</td>\n",
       "      <td>False</td>\n",
       "      <td>False</td>\n",
       "      <td>False</td>\n",
       "    </tr>\n",
       "    <tr>\n",
       "      <th>2</th>\n",
       "      <td>Not tasty and the texture was just nasty.</td>\n",
       "      <td>False</td>\n",
       "      <td>False</td>\n",
       "      <td>False</td>\n",
       "      <td>False</td>\n",
       "      <td>False</td>\n",
       "      <td>False</td>\n",
       "      <td>False</td>\n",
       "      <td>False</td>\n",
       "      <td>False</td>\n",
       "      <td>False</td>\n",
       "      <td>False</td>\n",
       "      <td>False</td>\n",
       "      <td>False</td>\n",
       "      <td>False</td>\n",
       "      <td>False</td>\n",
       "    </tr>\n",
       "    <tr>\n",
       "      <th>3</th>\n",
       "      <td>Stopped by during the late May bank holiday of...</td>\n",
       "      <td>True</td>\n",
       "      <td>False</td>\n",
       "      <td>False</td>\n",
       "      <td>False</td>\n",
       "      <td>False</td>\n",
       "      <td>False</td>\n",
       "      <td>False</td>\n",
       "      <td>False</td>\n",
       "      <td>False</td>\n",
       "      <td>False</td>\n",
       "      <td>False</td>\n",
       "      <td>False</td>\n",
       "      <td>False</td>\n",
       "      <td>False</td>\n",
       "      <td>False</td>\n",
       "    </tr>\n",
       "    <tr>\n",
       "      <th>4</th>\n",
       "      <td>The selection on the menu was great and so wer...</td>\n",
       "      <td>True</td>\n",
       "      <td>True</td>\n",
       "      <td>False</td>\n",
       "      <td>False</td>\n",
       "      <td>False</td>\n",
       "      <td>False</td>\n",
       "      <td>False</td>\n",
       "      <td>False</td>\n",
       "      <td>False</td>\n",
       "      <td>False</td>\n",
       "      <td>False</td>\n",
       "      <td>False</td>\n",
       "      <td>False</td>\n",
       "      <td>False</td>\n",
       "      <td>False</td>\n",
       "    </tr>\n",
       "  </tbody>\n",
       "</table>\n",
       "</div>"
      ],
      "text/plain": [
       "                                              review  sentiment  great   good  \\\n",
       "0                           Wow... Loved this place.       True  False  False   \n",
       "1                                 Crust is not good.      False  False  False   \n",
       "2          Not tasty and the texture was just nasty.      False  False  False   \n",
       "3  Stopped by during the late May bank holiday of...       True  False  False   \n",
       "4  The selection on the menu was great and so wer...       True   True  False   \n",
       "\n",
       "   excellent  awesome  recommend   fast   love   nice   well  ideal  highly  \\\n",
       "0      False    False      False  False  False  False  False  False   False   \n",
       "1      False    False      False  False  False  False  False  False   False   \n",
       "2      False    False      False  False  False  False  False  False   False   \n",
       "3      False    False      False  False  False  False  False  False   False   \n",
       "4      False    False      False  False  False  False  False  False   False   \n",
       "\n",
       "   must have  beautiful  super  \n",
       "0      False      False  False  \n",
       "1      False      False  False  \n",
       "2      False      False  False  \n",
       "3      False      False  False  \n",
       "4      False      False  False  "
      ]
     },
     "metadata": {},
     "output_type": "display_data"
    }
   ],
   "source": [
    "display(df_y1.head())"
   ]
  },
  {
   "cell_type": "code",
   "execution_count": 32,
   "metadata": {
    "scrolled": false
   },
   "outputs": [
    {
     "data": {
      "image/png": "[encoded data removed]",
      "text/plain": [
       "<matplotlib.figure.Figure at 0x1142069e8>"
      ]
     },
     "metadata": {},
     "output_type": "display_data"
    }
   ],
   "source": [
    "plt.figure(figsize=(20, 20))\n",
    "sns.heatmap(df_y1.corr(),vmax=.8, square=True, linecolor='black', linewidths=1, annot=True)\n",
    "plt.show()"
   ]
  },
  {
   "cell_type": "markdown",
   "metadata": {},
   "source": [
    "Looking at the correlation matrix,   \n",
    " \n",
    " \n",
    "During our iteration, we see that the feature \"ideal\" does not have a value. This means that it is not in any of the reviews. \n",
    "Thus should be removed as a feature.  \n",
    "\n",
    "\n",
    "We see that the correlation between \"highly\" and \"recommend\" is 0.42. \n",
    "\n",
    "We see that the correlation between \"highly\" and \"excellent\" is 0.041. \n",
    "\n",
    "We see that the correlation between \"highly\" and \"great\" is 0.11. \n",
    "\n",
    "While the the correlation between \"highly\" and the \"sentiment\" is 0.045. \n",
    "\n",
    "This is why at the end we will remove \"Highly\".    \n",
    "\n",
    "\n",
    "\n",
    "We see that the correlation between \"nice\" and \"super\" is 0.17.    \n",
    "\n",
    "While the the correlation between \"super\" and the \"sentiment\" is 0.036. \n",
    "\n",
    "This is why at the end we will remove \"Super\".   \n",
    "\n",
    "\n",
    "We see that the correlation between \"beautiful\" and \"great\" is 0.11. \n",
    "\n",
    "We see that the correlation between \"beautiful\" and \"excellent\" is 0.25.   \n",
    "\n",
    "While the the correlation between \"beautiful\" and the \"sentiment\" is 0.045. \n",
    "\n",
    "This is why at the end we will remove \"beautiful\".  \n",
    "\n",
    "\n",
    "The features with a high correlation with the outcome were \"great\", \"love\", \"good\" and \"nice\".  \n",
    "If we see a review with those words in it, there is high likely hood that the review is a good review."
   ]
  },
  {
   "cell_type": "code",
   "execution_count": 33,
   "metadata": {
    "collapsed": true
   },
   "outputs": [],
   "source": [
    "data = df_y1[keywords_a]\n",
    "target = df_y1['sentiment']"
   ]
  },
  {
   "cell_type": "code",
   "execution_count": 34,
   "metadata": {},
   "outputs": [
    {
     "name": "stdout",
     "output_type": "stream",
     "text": [
      "Number of mislabeled points out of a total 1000 points : 392\n"
     ]
    }
   ],
   "source": [
    "\n",
    "\n",
    "# Our data is binary / boolean, so we're importing the Bernoulli classifier.\n",
    "from sklearn.naive_bayes import BernoulliNB\n",
    "\n",
    "# Instantiate our model and store it in a new variable.\n",
    "bnb = BernoulliNB()\n",
    "\n",
    "# Fit our model to the data.\n",
    "bnb.fit(data, target)\n",
    "\n",
    "# Classify, storing the result in a new variable.\n",
    "y_pred = bnb.predict(data)\n",
    "\n",
    "# Display our results.\n",
    "print(\"Number of mislabeled points out of a total {} points : {}\".format(\n",
    "    data.shape[0],\n",
    "    (target != y_pred).sum()\n",
    "))"
   ]
  },
  {
   "cell_type": "code",
   "execution_count": 35,
   "metadata": {},
   "outputs": [
    {
     "data": {
      "text/plain": [
       "60.799999999999997"
      ]
     },
     "execution_count": 35,
     "metadata": {},
     "output_type": "execute_result"
    }
   ],
   "source": [
    "\n",
    "# Calculating accuracy\n",
    "(target == y_pred).sum() / data.shape[0] * 100"
   ]
  },
  {
   "cell_type": "markdown",
   "metadata": {},
   "source": [
    "60.79% off of 608 correctly classified messages and 392 incorrectly classified."
   ]
  },
  {
   "cell_type": "code",
   "execution_count": 36,
   "metadata": {},
   "outputs": [
    {
     "data": {
      "text/plain": [
       "array([[478,  22],\n",
       "       [370, 130]])"
      ]
     },
     "execution_count": 36,
     "metadata": {},
     "output_type": "execute_result"
    }
   ],
   "source": [
    "# importing confusion matrix to see where we were right and where we were wrong\n",
    "from sklearn.metrics import confusion_matrix\n",
    "confusion_matrix(target, y_pred)"
   ]
  },
  {
   "cell_type": "markdown",
   "metadata": {},
   "source": [
    "\n",
    "__true negatives__ is C_{0,0} = 478         \n",
    "This means that 478 were accuratly identified has not being good sentiments or reviews.      \n",
    "\n",
    "__false negatives__ is C_{1,0} = 370          \n",
    "This means that 370 were identified has not being good sentiments or reviews when they were not good reviews.   \n",
    "Those are called a Type II error or a miss.    \n",
    "\n",
    "__true positives__ is C_{1,1} = 130    \n",
    "This mean that 130 were identified has being good sentiments or reviews and they are.       \n",
    "\n",
    "\n",
    "__false positives__ is C_{0,1} = 22    \n",
    "This means that 22 were identified has good sentiments or reviews when they were not good reviews.    \n",
    "Those are called a Type I error or a false alarm.     "
   ]
  },
  {
   "cell_type": "code",
   "execution_count": 37,
   "metadata": {},
   "outputs": [
    {
     "name": "stdout",
     "output_type": "stream",
     "text": [
      "             precision    recall  f1-score   support\n",
      "\n",
      "      False       0.56      0.96      0.71       500\n",
      "       True       0.86      0.26      0.40       500\n",
      "\n",
      "avg / total       0.71      0.61      0.55      1000\n",
      "\n"
     ]
    }
   ],
   "source": [
    "from sklearn.metrics import classification_report\n",
    "print(classification_report(target, y_pred))"
   ]
  },
  {
   "cell_type": "markdown",
   "metadata": {
    "collapsed": true
   },
   "source": [
    "For our model:\n",
    "\n",
    "__Sensitivity__ is the percentage of positives correctly identified, in our case 130/500 or 26%.    \n",
    "Our model is not as good as we would like it to be to identified good reviews.   \n",
    "\n",
    "__Specificity__ is just the opposite, the percentage of negatives correctly identified, 478/500 or 96%.\n",
    "Our model is very good at identified the bad reviews.   "
   ]
  },
  {
   "cell_type": "code",
   "execution_count": null,
   "metadata": {
    "collapsed": true
   },
   "outputs": [],
   "source": []
  }
 ],
 "metadata": {
  "kernelspec": {
   "display_name": "Python 3",
   "language": "python",
   "name": "python3"
  },
  "language_info": {
   "codemirror_mode": {
    "name": "ipython",
    "version": 3
   },
   "file_extension": ".py",
   "mimetype": "text/x-python",
   "name": "python",
   "nbconvert_exporter": "python",
   "pygments_lexer": "ipython3",
   "version": "3.6.1"
  }
 },
 "nbformat": 4,
 "nbformat_minor": 2
}
