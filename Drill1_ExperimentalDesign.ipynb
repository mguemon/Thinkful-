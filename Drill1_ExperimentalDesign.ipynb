{
 "cells": [
  {
   "cell_type": "markdown",
   "metadata": {},
   "source": [
    "# Drills - Experimental design \n",
    "\n",
    "##  Project: A/B tests\n",
    "\n",
    "by: Melissa N "
   ]
  },
  {
   "cell_type": "markdown",
   "metadata": {},
   "source": [
    "### Does a new supplement help people sleep better?   "
   ]
  },
  {
   "cell_type": "markdown",
   "metadata": {},
   "source": [
    "Sample A:  Patient with Old Supplement     \n",
    "Sample B:  Patient with New Supplement    \n",
    "\n",
    "\n",
    "Randomly select people who used the new and old supplements.      \n",
    "\n",
    "hypothesis:  People who are given the new supplement are more likely to sleep better.  \n",
    "\n",
    "If the two groups appeared similar in age, gender, and anything else we measured, but the sleeping habits of the ones who were given the new supplement improved.  \n",
    "\n",
    "Conclusion:  As a result, we would advocate for giving new supplement to the patients.   "
   ]
  },
  {
   "cell_type": "markdown",
   "metadata": {},
   "source": [
    "### Will new uniforms help a gym's business?"
   ]
  },
  {
   "cell_type": "markdown",
   "metadata": {},
   "source": [
    "For 2 weeks at a time or more.     \n",
    "Sample A:  Old or No Unifom     \n",
    "Sample B:  New Uniform     \n",
    "\n",
    "\n",
    "Randomly record the people who used any other of the gym's business because they got the new uniform or not.    \n",
    "\n",
    "hypothesis:  People who got the New Uniform are the most likely to purchase other things offered by the gym.      \n",
    "\n",
    "If the two groups appeared similar in age, gender, and anything else we measured, but purchasing new packages was higher for those who got a new uniform\n",
    "\n",
    "Conclusion:  As a result, we would advocate for New Uniforms to encourage p\n"
   ]
  },
  {
   "cell_type": "markdown",
   "metadata": {},
   "source": [
    "### Will a new homepage improve my online exotic pet rental business?   "
   ]
  },
  {
   "cell_type": "markdown",
   "metadata": {},
   "source": [
    "For 2 weeks at a time or more.     \n",
    "Sample A:  Current Homepage on online Website     \n",
    "Sample B:  New Homepage on online Website     \n",
    "\n",
    "\n",
    "Randomly record the people who used my online exotic pet rental after visiting Homepages.    \n",
    "\n",
    "hypothesis:  People who visited the New Homepage are the most likely to use my online pet rental business.      \n",
    "\n",
    "If the two groups appeared similar in age, gender, and anything else we measured, but using of my pet rental business was higher for those who visited my new Homepage.\n",
    "\n",
    "Conclusion:  As a result, we would advocate for New Homepage to improve exotic pet rental business.  "
   ]
  },
  {
   "cell_type": "markdown",
   "metadata": {},
   "source": [
    "### If I put 'please read' in the email subject will more people read my emails?"
   ]
  },
  {
   "cell_type": "markdown",
   "metadata": {},
   "source": [
    "Sample A:  Email sent without 'please read' in the subject line     \n",
    "Sample B:  Email sent with 'please read' in the subject line     \n",
    "\n",
    "\n",
    "Randomly send this to people and check or record who opened the email.    \n",
    "\n",
    "hypothesis:  People who were sent an Email with 'please read' in the subject line are the most likely to open their email.      \n",
    "\n",
    "If the two groups appeared similar in age, gender, and anything else we measured, but opening rate of email were higher for the 'please read' in the subject line.   \n",
    "\n",
    "Conclusion:  As a result, we would advocate for including 'please read' in the subject line in all future emails.   "
   ]
  },
  {
   "cell_type": "code",
   "execution_count": null,
   "metadata": {
    "collapsed": true
   },
   "outputs": [],
   "source": []
  }
 ],
 "metadata": {
  "kernelspec": {
   "display_name": "Python 3",
   "language": "python",
   "name": "python3"
  },
  "language_info": {
   "codemirror_mode": {
    "name": "ipython",
    "version": 3
   },
   "file_extension": ".py",
   "mimetype": "text/x-python",
   "name": "python",
   "nbconvert_exporter": "python",
   "pygments_lexer": "ipython3",
   "version": "3.6.1"
  }
 },
 "nbformat": 4,
 "nbformat_minor": 2
}
