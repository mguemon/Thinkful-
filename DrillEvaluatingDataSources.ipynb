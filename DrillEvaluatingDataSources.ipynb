{
 "cells": [
  {
   "cell_type": "code",
   "execution_count": 32,
   "metadata": {},
   "outputs": [],
   "source": [
    "import matplotlib.pyplot as plt\n",
    "import numpy as np\n",
    "import pandas as pd \n",
    "import statistics\n",
    "%matplotlib inline\n",
    "plt.rcParams['figure.figsize'] = (10.0, 5.0)#view head of Data\n"
   ]
  },
  {
   "cell_type": "markdown",
   "metadata": {},
   "source": [
    "Data Source: Amsterdam availability data scraped from AirBnB on December 24th.   \n",
    "Question: What are the popular neighborhoods in Amsterdam?  \n",
    "\n",
    "Answer:  \n",
    "This Data may be too biased because this was taken before Christmas day.  \n",
    "There might be a lot more people in Amsterdam for that period of time. More than usual.  \n",
    "\n",
    "The Question could be reframe by asking what are the popular neighborhood in Amsterdam for Visitors during the Christmas Holydays. \n"
   ]
  },
  {
   "cell_type": "markdown",
   "metadata": {},
   "source": [
    "Data Source: Mental health services use on September 12, 2001 in San Francisco, CA and New York City, NY.  \n",
    "Question: How do patterns of mental health service use vary between cities?  \n",
    "\n",
    "Answer:  \n",
    "The data from NY City on September 12 2001 may not be one that gives us the information we need.  \n",
    "September 12 was the day after the September 11 attack, so there might be an increase of Mental health patient in that city on that particular day.   \n",
    "\n",
    "The Question could be reframe by asking about a comparison of the Mental health pattern between the cities after September 11 2001.  \n"
   ]
  },
  {
   "cell_type": "markdown",
   "metadata": {
    "collapsed": true
   },
   "source": [
    "Data Source: Armenian Pub Survey.  \n",
    "Question: What are the most common reasons Armenians visit local pubs?  \n"
   ]
  },
  {
   "cell_type": "code",
   "execution_count": 33,
   "metadata": {},
   "outputs": [],
   "source": [
    "#import data frame and view head\n",
    "df = pd.read_csv('armenian_pubs.csv')"
   ]
  },
  {
   "cell_type": "markdown",
   "metadata": {},
   "source": [
    "This Data is from Kaggle: [Pub Data](https://www.kaggle.com/erikhambardzumyan/pubs/data)  \n",
    "It gives us information about the gender, Age Lifestyle and occupations of the Armenian who visit Pubs.\n",
    "\n",
    "Income - Your Approximate Monthly Income (in Armenian Dram)  \n",
    "\n",
    "Fav_Pub - Which is your Favorite Pub?  \n",
    "\n",
    "WTS -Maximum willingness to spend at the pub  \n",
    "\n",
    "Freq - How often do you visit pubs?   \n",
    "\n",
    "Prim_Imp - Which feature is of primary importantance for you?  \n",
    "\n",
    "Sec_Imp - Which feature is of secondary importantance for you?  \n",
    "\n",
    "Stratum - From which regional stratum are you?  \n",
    "\n",
    "Lifestyle - What is your lifestyle?  \n",
    "\n",
    "Occasions- On which occasions do you go to pubs most of the time?  \n"
   ]
  },
  {
   "cell_type": "code",
   "execution_count": 40,
   "metadata": {},
   "outputs": [
    {
     "data": {
      "text/html": [
       "<div>\n",
       "<style>\n",
       "    .dataframe thead tr:only-child th {\n",
       "        text-align: right;\n",
       "    }\n",
       "\n",
       "    .dataframe thead th {\n",
       "        text-align: left;\n",
       "    }\n",
       "\n",
       "    .dataframe tbody tr th {\n",
       "        vertical-align: top;\n",
       "    }\n",
       "</style>\n",
       "<table border=\"1\" class=\"dataframe\">\n",
       "  <thead>\n",
       "    <tr style=\"text-align: right;\">\n",
       "      <th></th>\n",
       "      <th>Timestamp</th>\n",
       "      <th>Age</th>\n",
       "      <th>Gender</th>\n",
       "      <th>Income</th>\n",
       "      <th>Occupation</th>\n",
       "      <th>Fav_Pub</th>\n",
       "      <th>WTS</th>\n",
       "      <th>Freq</th>\n",
       "      <th>Prim_Imp</th>\n",
       "      <th>Sec_Imp</th>\n",
       "      <th>Stratum</th>\n",
       "      <th>Lifestyle</th>\n",
       "      <th>Occasions</th>\n",
       "    </tr>\n",
       "  </thead>\n",
       "  <tbody>\n",
       "    <tr>\n",
       "      <th>0</th>\n",
       "      <td>2017/02/25 10:52:03 PM GMT+4</td>\n",
       "      <td>19</td>\n",
       "      <td>Male</td>\n",
       "      <td>100000.0</td>\n",
       "      <td>Student</td>\n",
       "      <td>Station</td>\n",
       "      <td>2000.0</td>\n",
       "      <td>Several times in a month</td>\n",
       "      <td>Environment</td>\n",
       "      <td>Menu</td>\n",
       "      <td>Capital</td>\n",
       "      <td>Nightlife</td>\n",
       "      <td>Hang outs with friends</td>\n",
       "    </tr>\n",
       "    <tr>\n",
       "      <th>1</th>\n",
       "      <td>2017/02/25 10:53:19 PM GMT+4</td>\n",
       "      <td>19</td>\n",
       "      <td>Female</td>\n",
       "      <td>50000.0</td>\n",
       "      <td>Student</td>\n",
       "      <td>Calumet</td>\n",
       "      <td>2000.0</td>\n",
       "      <td>rarely (once two week/or a month)</td>\n",
       "      <td>Music</td>\n",
       "      <td>Pricing</td>\n",
       "      <td>Capital</td>\n",
       "      <td>Adventure/traveling/exploring</td>\n",
       "      <td>Hang outs with friends</td>\n",
       "    </tr>\n",
       "    <tr>\n",
       "      <th>2</th>\n",
       "      <td>2017/02/25 10:54:05 PM GMT+4</td>\n",
       "      <td>20</td>\n",
       "      <td>Male</td>\n",
       "      <td>100000.0</td>\n",
       "      <td>Student</td>\n",
       "      <td>Liberty</td>\n",
       "      <td>3000.0</td>\n",
       "      <td>rarely (once two week/or a month)</td>\n",
       "      <td>Environment</td>\n",
       "      <td>Music</td>\n",
       "      <td>Capital</td>\n",
       "      <td>Busy(student life, work)</td>\n",
       "      <td>Hang outs with friends</td>\n",
       "    </tr>\n",
       "    <tr>\n",
       "      <th>3</th>\n",
       "      <td>2017/02/25 10:55:09 PM GMT+4</td>\n",
       "      <td>18</td>\n",
       "      <td>Male</td>\n",
       "      <td>0.0</td>\n",
       "      <td>Student</td>\n",
       "      <td>Calumet</td>\n",
       "      <td>3000.0</td>\n",
       "      <td>Several times in a month</td>\n",
       "      <td>Environment</td>\n",
       "      <td>Music</td>\n",
       "      <td>Capital</td>\n",
       "      <td>Art</td>\n",
       "      <td>Hang outs with friends</td>\n",
       "    </tr>\n",
       "    <tr>\n",
       "      <th>4</th>\n",
       "      <td>2017/02/25 10:55:38 PM GMT+4</td>\n",
       "      <td>19</td>\n",
       "      <td>Female</td>\n",
       "      <td>130000.0</td>\n",
       "      <td>Student + working</td>\n",
       "      <td>Liberty</td>\n",
       "      <td>10000.0</td>\n",
       "      <td>rarely (once two week/or a month)</td>\n",
       "      <td>Pricing</td>\n",
       "      <td>Environment</td>\n",
       "      <td>Capital</td>\n",
       "      <td>NaN</td>\n",
       "      <td>Hang outs with friends</td>\n",
       "    </tr>\n",
       "  </tbody>\n",
       "</table>\n",
       "</div>"
      ],
      "text/plain": [
       "                      Timestamp  Age  Gender    Income          Occupation  \\\n",
       "0  2017/02/25 10:52:03 PM GMT+4    19    Male  100000.0            Student   \n",
       "1  2017/02/25 10:53:19 PM GMT+4    19  Female   50000.0            Student   \n",
       "2  2017/02/25 10:54:05 PM GMT+4    20    Male  100000.0            Student   \n",
       "3  2017/02/25 10:55:09 PM GMT+4    18    Male       0.0            Student   \n",
       "4  2017/02/25 10:55:38 PM GMT+4    19  Female  130000.0  Student + working   \n",
       "\n",
       "   Fav_Pub      WTS                               Freq     Prim_Imp  \\\n",
       "0  Station   2000.0           Several times in a month  Environment   \n",
       "1  Calumet   2000.0  rarely (once two week/or a month)        Music   \n",
       "2  Liberty   3000.0  rarely (once two week/or a month)  Environment   \n",
       "3  Calumet   3000.0           Several times in a month  Environment   \n",
       "4  Liberty  10000.0  rarely (once two week/or a month)      Pricing   \n",
       "\n",
       "       Sec_Imp  Stratum                      Lifestyle               Occasions  \n",
       "0         Menu  Capital                      Nightlife  Hang outs with friends  \n",
       "1      Pricing  Capital  Adventure/traveling/exploring  Hang outs with friends  \n",
       "2        Music  Capital       Busy(student life, work)  Hang outs with friends  \n",
       "3        Music  Capital                            Art  Hang outs with friends  \n",
       "4  Environment  Capital                            NaN  Hang outs with friends  "
      ]
     },
     "execution_count": 40,
     "metadata": {},
     "output_type": "execute_result"
    }
   ],
   "source": [
    "#view head of Data\n",
    "df.head()"
   ]
  },
  {
   "cell_type": "code",
   "execution_count": 53,
   "metadata": {},
   "outputs": [
    {
     "data": {
      "text/html": [
       "<div>\n",
       "<style>\n",
       "    .dataframe thead tr:only-child th {\n",
       "        text-align: right;\n",
       "    }\n",
       "\n",
       "    .dataframe thead th {\n",
       "        text-align: left;\n",
       "    }\n",
       "\n",
       "    .dataframe tbody tr th {\n",
       "        vertical-align: top;\n",
       "    }\n",
       "</style>\n",
       "<table border=\"1\" class=\"dataframe\">\n",
       "  <thead>\n",
       "    <tr style=\"text-align: right;\">\n",
       "      <th></th>\n",
       "      <th>Age</th>\n",
       "      <th>Income</th>\n",
       "      <th>WTS</th>\n",
       "    </tr>\n",
       "  </thead>\n",
       "  <tbody>\n",
       "    <tr>\n",
       "      <th>count</th>\n",
       "      <td>175.000000</td>\n",
       "      <td>1.740000e+02</td>\n",
       "      <td>172.000000</td>\n",
       "    </tr>\n",
       "    <tr>\n",
       "      <th>mean</th>\n",
       "      <td>19.548571</td>\n",
       "      <td>1.101977e+05</td>\n",
       "      <td>4831.395349</td>\n",
       "    </tr>\n",
       "    <tr>\n",
       "      <th>std</th>\n",
       "      <td>2.770262</td>\n",
       "      <td>3.576027e+05</td>\n",
       "      <td>4323.951020</td>\n",
       "    </tr>\n",
       "    <tr>\n",
       "      <th>min</th>\n",
       "      <td>16.000000</td>\n",
       "      <td>0.000000e+00</td>\n",
       "      <td>0.000000</td>\n",
       "    </tr>\n",
       "    <tr>\n",
       "      <th>25%</th>\n",
       "      <td>18.000000</td>\n",
       "      <td>1.000000e+02</td>\n",
       "      <td>2000.000000</td>\n",
       "    </tr>\n",
       "    <tr>\n",
       "      <th>50%</th>\n",
       "      <td>19.000000</td>\n",
       "      <td>5.500000e+04</td>\n",
       "      <td>4000.000000</td>\n",
       "    </tr>\n",
       "    <tr>\n",
       "      <th>75%</th>\n",
       "      <td>20.000000</td>\n",
       "      <td>1.000000e+05</td>\n",
       "      <td>5000.000000</td>\n",
       "    </tr>\n",
       "    <tr>\n",
       "      <th>max</th>\n",
       "      <td>41.000000</td>\n",
       "      <td>4.500000e+06</td>\n",
       "      <td>30000.000000</td>\n",
       "    </tr>\n",
       "  </tbody>\n",
       "</table>\n",
       "</div>"
      ],
      "text/plain": [
       "             Age        Income            WTS\n",
       "count  175.000000  1.740000e+02    172.000000\n",
       "mean    19.548571  1.101977e+05   4831.395349\n",
       "std      2.770262  3.576027e+05   4323.951020\n",
       "min     16.000000  0.000000e+00      0.000000\n",
       "25%     18.000000  1.000000e+02   2000.000000\n",
       "50%     19.000000  5.500000e+04   4000.000000\n",
       "75%     20.000000  1.000000e+05   5000.000000\n",
       "max     41.000000  4.500000e+06  30000.000000"
      ]
     },
     "execution_count": 53,
     "metadata": {},
     "output_type": "execute_result"
    }
   ],
   "source": [
    "df.describe()"
   ]
  },
  {
   "cell_type": "code",
   "execution_count": null,
   "metadata": {
    "collapsed": true
   },
   "outputs": [],
   "source": [
    "df.groupby('League').describe()"
   ]
  },
  {
   "cell_type": "code",
   "execution_count": 49,
   "metadata": {},
   "outputs": [
    {
     "data": {
      "text/plain": [
       "count             175\n",
       "unique              4\n",
       "top       Environment\n",
       "freq              122\n",
       "Name: Prim_Imp, dtype: object"
      ]
     },
     "execution_count": 49,
     "metadata": {},
     "output_type": "execute_result"
    }
   ],
   "source": [
    "df['Prim_Imp'].describe()"
   ]
  },
  {
   "cell_type": "code",
   "execution_count": 50,
   "metadata": {},
   "outputs": [
    {
     "data": {
      "text/plain": [
       "count       175\n",
       "unique        4\n",
       "top       Music\n",
       "freq         66\n",
       "Name: Sec_Imp, dtype: object"
      ]
     },
     "execution_count": 50,
     "metadata": {},
     "output_type": "execute_result"
    }
   ],
   "source": [
    "df['Sec_Imp'].describe()"
   ]
  },
  {
   "cell_type": "code",
   "execution_count": 51,
   "metadata": {},
   "outputs": [
    {
     "data": {
      "text/plain": [
       "count                                   175\n",
       "unique                                    3\n",
       "top       rarely (once two week/or a month)\n",
       "freq                                     94\n",
       "Name: Freq, dtype: object"
      ]
     },
     "execution_count": 51,
     "metadata": {},
     "output_type": "execute_result"
    }
   ],
   "source": [
    "df['Freq'].describe()"
   ]
  },
  {
   "cell_type": "markdown",
   "metadata": {},
   "source": [
    "Answer:  \n",
    "From my analysis it seems that one of the main reason why Armenian visit Pubs is the environment and Music.     \n",
    "\n",
    "The Question could be reframe by asking what are the main reason why Armenian Students go to Armenian Pubs because it seems that most of the people in the Data are students and thus not a representation on the Armenian Population.  "
   ]
  },
  {
   "cell_type": "code",
   "execution_count": null,
   "metadata": {
    "collapsed": true
   },
   "outputs": [],
   "source": []
  }
 ],
 "metadata": {
  "kernelspec": {
   "display_name": "Python 3",
   "language": "python",
   "name": "python3"
  },
  "language_info": {
   "codemirror_mode": {
    "name": "ipython",
    "version": 3
   },
   "file_extension": ".py",
   "mimetype": "text/x-python",
   "name": "python",
   "nbconvert_exporter": "python",
   "pygments_lexer": "ipython3",
   "version": "3.6.1"
  }
 },
 "nbformat": 4,
 "nbformat_minor": 2
}
