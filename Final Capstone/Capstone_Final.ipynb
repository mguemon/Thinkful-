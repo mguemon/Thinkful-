{
 "cells": [
  {
   "cell_type": "markdown",
   "metadata": {},
   "source": [
    "# FINAL CAPSTONE"
   ]
  },
  {
   "cell_type": "markdown",
   "metadata": {},
   "source": [
    "Dataset:[15 Americans publications](https://www.kaggle.com/snapcrack/all-the-news#articles3.csv)\n"
   ]
  },
  {
   "cell_type": "markdown",
   "metadata": {},
   "source": [
    "# Introduction \n",
    "\n",
    "The following is a dataset from articles from 15 American publications. It has 3 sets of data with articles that was scraped on the internet. But we only use one that contains 50,000 news articles. \n",
    "\n",
    "\n",
    "* The articles1 dataset  contains:     \n",
    "    * id    \n",
    "    * title                 \n",
    "    * publication               \n",
    "    * author        \n",
    "    * date        \n",
    "    * year         \n",
    "    * month                 \n",
    "    * url                                                             \n",
    "    * content (full articles)   \n",
    "    \n",
    "        \n",
    " \n",
    "The original source can be found [here](https://www.kaggle.com/snapcrack/all-the-news#articles1.csv)\n",
    "\n",
    "\n",
    "For this research we only looked at the aricles __titles__ and __contents__  \n",
    "\n",
    "\n",
    "# Research Interest   \n",
    "\n",
    "__Goal:__ To build a model that can help us put together articles with the same __Topics__ together. The articles __Titles__ are used to figure out the different articles topics.      \n",
    "Then use our model to be able to predict what topic a new article would fall under based on its content.    \n",
    "\n",
    "\n",
    "The project has been divided into:\n",
    "\n",
    "1. Loading libraries\n",
    "\n",
    "2. Importing Data\n",
    "\n",
    "3. Resampling Data\n",
    "\n",
    "4. Cleaning Data\n",
    "\n",
    "5. Creating Training and Test Sets\n",
    "\n",
    "6. Create Features Using tf-idf\n",
    "\n",
    "7. Clustering of Titles of articles in the Dataset using LSA.\n",
    "      * LSA using 10 Topics \t\n",
    "      * LSA using 3 Topis\n",
    "   \n",
    "8. Modeling With Random Forest Classifier\n",
    "      * Random Forest Classifier with 10 articles \t\n",
    "      * Random Forest Classifier with 3 articles \t\n",
    "      \n",
    "9. Modeling with Stochastic Gradient Descent\n",
    "      * Stochastic Gradient Descent with 10 articles    \t\n",
    "      * Stochastic Gradient Descent with 3 articsles\n",
    "      \n",
    "10. Modeling With Keras \n",
    "      * Keras with 10 articles  \t\n",
    "      * Keras with 3 articles \n",
    "    \n",
    "11. Future Work \n",
    "\n"
   ]
  },
  {
   "cell_type": "code",
   "execution_count": 375,
   "metadata": {
    "collapsed": true
   },
   "outputs": [],
   "source": [
    "import tensorflow as tf\n",
    "import os\n",
    "import keras\n",
    "import gc\n",
    "\n",
    "import time\n",
    "\n",
    "import warnings\n",
    "# Suppress annoying harmless error.\n",
    "warnings.simplefilter('ignore')\n",
    "\n",
    "from IPython.display import Image\n",
    "from IPython.display import display\n",
    "\n",
    "\n",
    "import matplotlib.pyplot as plt\n",
    "%matplotlib inline\n",
    "import seaborn as sns\n",
    "sns.set_style(\"white\")\n",
    "\n",
    "#import plotly.plotly as py\n",
    "#import plotly.tools as tls"
   ]
  },
  {
   "cell_type": "code",
   "execution_count": 376,
   "metadata": {
    "collapsed": true
   },
   "outputs": [],
   "source": [
    "# Import the dataset\n",
    "import pandas as pd\n",
    "import numpy as np\n",
    "\n",
    "# Import various componenets for model building\n",
    "from keras.models import Sequential\n",
    "from keras.layers import Dense, Dropout, Flatten\n",
    "from keras.layers import LSTM, Input, TimeDistributed\n",
    "from keras.models import Model\n",
    "from keras.optimizers import RMSprop\n",
    "\n",
    "\n",
    "\n",
    "from keras.layers import Convolution1D, MaxPooling1D, Flatten\n",
    "\n",
    "\n",
    "# Import the backend\n",
    "from keras import backend as K"
   ]
  },
  {
   "cell_type": "markdown",
   "metadata": {},
   "source": [
    "## Import Data"
   ]
  },
  {
   "cell_type": "code",
   "execution_count": 377,
   "metadata": {},
   "outputs": [
    {
     "name": "stdout",
     "output_type": "stream",
     "text": [
      "The shape of the data in articles 1 is: (50000, 10)\n"
     ]
    }
   ],
   "source": [
    "df  = pd.read_csv('articles1.csv')\n",
    "print('The shape of the data in articles 1 is:', df.shape)"
   ]
  },
  {
   "cell_type": "code",
   "execution_count": 378,
   "metadata": {},
   "outputs": [
    {
     "data": {
      "image/png": "[encoded data removed]",
      "text/plain": [
       "<matplotlib.figure.Figure at 0x12e501908>"
      ]
     },
     "metadata": {},
     "output_type": "display_data"
    }
   ],
   "source": [
    "df0 = pd.read_csv('articles2.csv')\n",
    "plt.figure(figsize=(10, 5))\n",
    "df0.publication.value_counts().plot(kind='bar')\n",
    "plt.title('Articles Counts per Publication')\n",
    "plt.show()"
   ]
  },
  {
   "cell_type": "code",
   "execution_count": 379,
   "metadata": {},
   "outputs": [
    {
     "data": {
      "image/png": "[encoded data removed]",
      "text/plain": [
       "<matplotlib.figure.Figure at 0x123001f60>"
      ]
     },
     "metadata": {},
     "output_type": "display_data"
    }
   ],
   "source": [
    "plt.figure(figsize=(10, 5))\n",
    "df.publication.value_counts().plot(kind='bar')\n",
    "plt.title('Articles Counts per Publication')\n",
    "plt.show()"
   ]
  },
  {
   "cell_type": "code",
   "execution_count": 380,
   "metadata": {},
   "outputs": [
    {
     "data": {
      "text/plain": [
       "Breitbart           23781\n",
       "CNN                 11488\n",
       "New York Times       7803\n",
       "Business Insider     6757\n",
       "Atlantic              171\n",
       "Name: publication, dtype: int64"
      ]
     },
     "execution_count": 380,
     "metadata": {},
     "output_type": "execute_result"
    }
   ],
   "source": [
    "df['publication'].value_counts()"
   ]
  },
  {
   "cell_type": "markdown",
   "metadata": {},
   "source": [
    "## Resampling the Data Frame"
   ]
  },
  {
   "cell_type": "code",
   "execution_count": 381,
   "metadata": {},
   "outputs": [],
   "source": [
    "#Remove article to use for prediction\n",
    "df_new = df.sample(n=1, replace=False, axis = 0, random_state=20)\n",
    "rem = df_new.index\n",
    "X_new = df['content'][rem[0]]"
   ]
  },
  {
   "cell_type": "code",
   "execution_count": 382,
   "metadata": {},
   "outputs": [],
   "source": [
    "X_new = pd.Series(X_new, index=rem)"
   ]
  },
  {
   "cell_type": "code",
   "execution_count": 383,
   "metadata": {},
   "outputs": [
    {
     "data": {
      "text/plain": [
       "18991    BERLIN (Reuters)  —   Tens of thousands of peo...\n",
       "dtype: object"
      ]
     },
     "metadata": {},
     "output_type": "display_data"
    }
   ],
   "source": [
    "display(X_new)"
   ]
  },
  {
   "cell_type": "code",
   "execution_count": 384,
   "metadata": {
    "collapsed": true
   },
   "outputs": [],
   "source": [
    "df.drop(rem, axis=0, inplace = True)\n",
    "df1 = df.sample(frac=0.2, replace=False, axis = 0, random_state=20)"
   ]
  },
  {
   "cell_type": "code",
   "execution_count": 385,
   "metadata": {},
   "outputs": [
    {
     "data": {
      "image/png": "[encoded data removed]",
      "text/plain": [
       "<matplotlib.figure.Figure at 0x12d0295f8>"
      ]
     },
     "metadata": {},
     "output_type": "display_data"
    }
   ],
   "source": [
    "plt.figure(figsize=(10, 5))\n",
    "df1.publication.value_counts().plot(kind='bar')\n",
    "plt.title('Articles Counts per Publication')\n",
    "plt.show()"
   ]
  },
  {
   "cell_type": "code",
   "execution_count": 386,
   "metadata": {},
   "outputs": [
    {
     "data": {
      "text/plain": [
       "Breitbart           4727\n",
       "CNN                 2310\n",
       "New York Times      1556\n",
       "Business Insider    1370\n",
       "Atlantic              37\n",
       "Name: publication, dtype: int64"
      ]
     },
     "execution_count": 386,
     "metadata": {},
     "output_type": "execute_result"
    }
   ],
   "source": [
    "df1['publication'].value_counts()"
   ]
  },
  {
   "cell_type": "code",
   "execution_count": 387,
   "metadata": {
    "collapsed": true
   },
   "outputs": [],
   "source": [
    "#delete df to clear up space in the memory\n",
    "\n",
    "del df"
   ]
  },
  {
   "cell_type": "code",
   "execution_count": 388,
   "metadata": {},
   "outputs": [
    {
     "data": {
      "text/plain": [
       "False"
      ]
     },
     "execution_count": 388,
     "metadata": {},
     "output_type": "execute_result"
    }
   ],
   "source": [
    "rem[0]  in df1.index"
   ]
  },
  {
   "cell_type": "code",
   "execution_count": 389,
   "metadata": {},
   "outputs": [
    {
     "data": {
      "text/plain": [
       "18991    BERLIN (Reuters)  —   Tens of thousands of peo...\n",
       "dtype: object"
      ]
     },
     "execution_count": 389,
     "metadata": {},
     "output_type": "execute_result"
    }
   ],
   "source": [
    "X_new"
   ]
  },
  {
   "cell_type": "code",
   "execution_count": 390,
   "metadata": {},
   "outputs": [
    {
     "data": {
      "text/plain": [
       "16147"
      ]
     },
     "execution_count": 390,
     "metadata": {},
     "output_type": "execute_result"
    }
   ],
   "source": [
    "gc.collect()"
   ]
  },
  {
   "cell_type": "code",
   "execution_count": 391,
   "metadata": {},
   "outputs": [
    {
     "name": "stdout",
     "output_type": "stream",
     "text": [
      "The shape of the data in articles 1 is: (10000, 10)\n"
     ]
    },
    {
     "data": {
      "text/html": [
       "<div>\n",
       "<style>\n",
       "    .dataframe thead tr:only-child th {\n",
       "        text-align: right;\n",
       "    }\n",
       "\n",
       "    .dataframe thead th {\n",
       "        text-align: left;\n",
       "    }\n",
       "\n",
       "    .dataframe tbody tr th {\n",
       "        vertical-align: top;\n",
       "    }\n",
       "</style>\n",
       "<table border=\"1\" class=\"dataframe\">\n",
       "  <thead>\n",
       "    <tr style=\"text-align: right;\">\n",
       "      <th></th>\n",
       "      <th>Unnamed: 0</th>\n",
       "      <th>id</th>\n",
       "      <th>title</th>\n",
       "      <th>publication</th>\n",
       "      <th>author</th>\n",
       "      <th>date</th>\n",
       "      <th>year</th>\n",
       "      <th>month</th>\n",
       "      <th>url</th>\n",
       "      <th>content</th>\n",
       "    </tr>\n",
       "  </thead>\n",
       "  <tbody>\n",
       "    <tr>\n",
       "      <th>10140</th>\n",
       "      <td>10140</td>\n",
       "      <td>28876</td>\n",
       "      <td>’The View’ Co-Hosts Ask If Palin, Nugent, Kid ...</td>\n",
       "      <td>Breitbart</td>\n",
       "      <td>Pam Key</td>\n",
       "      <td>2017-04-21</td>\n",
       "      <td>2017.0</td>\n",
       "      <td>4.0</td>\n",
       "      <td>NaN</td>\n",
       "      <td>Friday on ABC’s “The View,” the panel discusse...</td>\n",
       "    </tr>\n",
       "    <tr>\n",
       "      <th>31612</th>\n",
       "      <td>31624</td>\n",
       "      <td>50390</td>\n",
       "      <td>Istanbul attack: ISIS claims nightclub shootin...</td>\n",
       "      <td>CNN</td>\n",
       "      <td>Euan McKirdy</td>\n",
       "      <td>2017-01-02</td>\n",
       "      <td>2017.0</td>\n",
       "      <td>1.0</td>\n",
       "      <td>NaN</td>\n",
       "      <td>Istanbul (CNN) ISIS claimed responsibility for...</td>\n",
       "    </tr>\n",
       "    <tr>\n",
       "      <th>7077</th>\n",
       "      <td>7077</td>\n",
       "      <td>25574</td>\n",
       "      <td>Trump’s Breezy Calls to World Leaders Leave Di...</td>\n",
       "      <td>New York Times</td>\n",
       "      <td>Mark Landler</td>\n",
       "      <td>2017-04-14</td>\n",
       "      <td>2017.0</td>\n",
       "      <td>4.0</td>\n",
       "      <td>NaN</td>\n",
       "      <td>WASHINGTON  —     Donald J. Trump inherited a ...</td>\n",
       "    </tr>\n",
       "    <tr>\n",
       "      <th>35657</th>\n",
       "      <td>36455</td>\n",
       "      <td>55281</td>\n",
       "      <td>Trump campaign: We’re facing an emergency goal...</td>\n",
       "      <td>CNN</td>\n",
       "      <td>Eugene Scott</td>\n",
       "      <td>2016-06-18</td>\n",
       "      <td>2016.0</td>\n",
       "      <td>6.0</td>\n",
       "      <td>NaN</td>\n",
       "      <td>Washington (CNN) The Donald Trump campaign on ...</td>\n",
       "    </tr>\n",
       "    <tr>\n",
       "      <th>8449</th>\n",
       "      <td>8449</td>\n",
       "      <td>27185</td>\n",
       "      <td>Scientists Turn Spinach Leaf into Beating Huma...</td>\n",
       "      <td>Breitbart</td>\n",
       "      <td>Jack Hadfield</td>\n",
       "      <td>2017-03-30</td>\n",
       "      <td>2017.0</td>\n",
       "      <td>3.0</td>\n",
       "      <td>NaN</td>\n",
       "      <td>Researchers at Worcester Polytechnic Institute...</td>\n",
       "    </tr>\n",
       "  </tbody>\n",
       "</table>\n",
       "</div>"
      ],
      "text/plain": [
       "       Unnamed: 0     id                                              title  \\\n",
       "10140       10140  28876  ’The View’ Co-Hosts Ask If Palin, Nugent, Kid ...   \n",
       "31612       31624  50390  Istanbul attack: ISIS claims nightclub shootin...   \n",
       "7077         7077  25574  Trump’s Breezy Calls to World Leaders Leave Di...   \n",
       "35657       36455  55281  Trump campaign: We’re facing an emergency goal...   \n",
       "8449         8449  27185  Scientists Turn Spinach Leaf into Beating Huma...   \n",
       "\n",
       "          publication         author        date    year  month  url  \\\n",
       "10140       Breitbart        Pam Key  2017-04-21  2017.0    4.0  NaN   \n",
       "31612             CNN   Euan McKirdy  2017-01-02  2017.0    1.0  NaN   \n",
       "7077   New York Times   Mark Landler  2017-04-14  2017.0    4.0  NaN   \n",
       "35657             CNN   Eugene Scott  2016-06-18  2016.0    6.0  NaN   \n",
       "8449        Breitbart  Jack Hadfield  2017-03-30  2017.0    3.0  NaN   \n",
       "\n",
       "                                                 content  \n",
       "10140  Friday on ABC’s “The View,” the panel discusse...  \n",
       "31612  Istanbul (CNN) ISIS claimed responsibility for...  \n",
       "7077   WASHINGTON  —     Donald J. Trump inherited a ...  \n",
       "35657  Washington (CNN) The Donald Trump campaign on ...  \n",
       "8449   Researchers at Worcester Polytechnic Institute...  "
      ]
     },
     "metadata": {},
     "output_type": "display_data"
    }
   ],
   "source": [
    "print('The shape of the data in articles 1 is:', df1.shape)\n",
    "display(df1.head())"
   ]
  },
  {
   "cell_type": "markdown",
   "metadata": {},
   "source": [
    "## Clean Data"
   ]
  },
  {
   "cell_type": "code",
   "execution_count": 392,
   "metadata": {},
   "outputs": [
    {
     "data": {
      "text/plain": [
       "Index(['Unnamed: 0', 'id', 'title', 'publication', 'author', 'date', 'year',\n",
       "       'month', 'url', 'content'],\n",
       "      dtype='object')"
      ]
     },
     "execution_count": 392,
     "metadata": {},
     "output_type": "execute_result"
    }
   ],
   "source": [
    "df1.columns"
   ]
  },
  {
   "cell_type": "code",
   "execution_count": 393,
   "metadata": {},
   "outputs": [
    {
     "data": {
      "text/plain": [
       "author     1260\n",
       "url       10000\n",
       "dtype: int64"
      ]
     },
     "execution_count": 393,
     "metadata": {},
     "output_type": "execute_result"
    }
   ],
   "source": [
    "# Count nulls \n",
    "null_count = df1.isnull().sum()\n",
    "null_count[null_count>0]"
   ]
  },
  {
   "cell_type": "markdown",
   "metadata": {},
   "source": [
    "### Clean the Article Content"
   ]
  },
  {
   "cell_type": "code",
   "execution_count": 394,
   "metadata": {},
   "outputs": [
    {
     "data": {
      "text/plain": [
       "10140    Friday on ABC’s “The View,” the panel discusse...\n",
       "Name: content, dtype: object"
      ]
     },
     "execution_count": 394,
     "metadata": {},
     "output_type": "execute_result"
    }
   ],
   "source": [
    "df1['content'].head(1)"
   ]
  },
  {
   "cell_type": "code",
   "execution_count": 395,
   "metadata": {
    "code_folding": [],
    "collapsed": true
   },
   "outputs": [],
   "source": [
    "#Here we clean the content by removing all the  punctuation, \n",
    "#removing all that is unnecessary.\n",
    "\n",
    "df1['content'] = df1['content'].str.replace(r'[^a-zA-Z0-9 ]', \"\",).fillna('')\n",
    "df1['content'] = df1['content'].str.lower()"
   ]
  },
  {
   "cell_type": "code",
   "execution_count": 396,
   "metadata": {},
   "outputs": [
    {
     "data": {
      "text/plain": [
       "10140    friday on abcs the view the panel discussed th...\n",
       "Name: content, dtype: object"
      ]
     },
     "execution_count": 396,
     "metadata": {},
     "output_type": "execute_result"
    }
   ],
   "source": [
    "df1['content'].head(1)"
   ]
  },
  {
   "cell_type": "markdown",
   "metadata": {},
   "source": [
    "### Clean the Article Title "
   ]
  },
  {
   "cell_type": "code",
   "execution_count": 397,
   "metadata": {},
   "outputs": [
    {
     "data": {
      "text/plain": [
       "Breitbart           4727\n",
       "CNN                 2310\n",
       "New York Times      1556\n",
       "Business Insider    1370\n",
       "Atlantic              37\n",
       "Name: publication, dtype: int64"
      ]
     },
     "execution_count": 397,
     "metadata": {},
     "output_type": "execute_result"
    }
   ],
   "source": [
    "# List of Publications to remove in titles\n",
    "df1['publication'].value_counts()"
   ]
  },
  {
   "cell_type": "code",
   "execution_count": 398,
   "metadata": {},
   "outputs": [
    {
     "data": {
      "text/plain": [
       "10140    ’The View’ Co-Hosts Ask If Palin, Nugent, Kid ...\n",
       "Name: title, dtype: object"
      ]
     },
     "execution_count": 398,
     "metadata": {},
     "output_type": "execute_result"
    }
   ],
   "source": [
    "df1['title'].head(1)"
   ]
  },
  {
   "cell_type": "code",
   "execution_count": 399,
   "metadata": {
    "collapsed": true
   },
   "outputs": [],
   "source": [
    "df1['title'] = df1['title'].str.replace(r'Breitbart|CNN|The New York Times|Business Insider|Atlantic', \"\")"
   ]
  },
  {
   "cell_type": "code",
   "execution_count": 400,
   "metadata": {
    "collapsed": true
   },
   "outputs": [],
   "source": [
    "#Here we clean the Title by removing all the  punctuation, \n",
    "#removing all that is unnecessary.\n",
    "\n",
    "df1['title'] = df1['title'].str.replace(r'[^a-zA-Z0-9 ]', \"\",).fillna('')\n",
    "df1['title'] = df1['title'].str.lower()"
   ]
  },
  {
   "cell_type": "code",
   "execution_count": 401,
   "metadata": {},
   "outputs": [
    {
     "data": {
      "text/plain": [
       "10140    the view cohosts ask if palin nugent kid rock ...\n",
       "Name: title, dtype: object"
      ]
     },
     "execution_count": 401,
     "metadata": {},
     "output_type": "execute_result"
    }
   ],
   "source": [
    "df1['title'].head(1)"
   ]
  },
  {
   "cell_type": "code",
   "execution_count": 402,
   "metadata": {
    "collapsed": true
   },
   "outputs": [],
   "source": [
    "df = df1[['title', 'publication', 'author', 'date', 'year','month', 'content']]"
   ]
  },
  {
   "cell_type": "code",
   "execution_count": 403,
   "metadata": {
    "collapsed": true
   },
   "outputs": [],
   "source": [
    "#delete df1 to clear up space in the memory\n",
    "\n",
    "del df1"
   ]
  },
  {
   "cell_type": "code",
   "execution_count": 404,
   "metadata": {},
   "outputs": [
    {
     "name": "stdout",
     "output_type": "stream",
     "text": [
      "The shape of the data in articles 1 is: (10000, 7)\n"
     ]
    },
    {
     "data": {
      "text/html": [
       "<div>\n",
       "<style>\n",
       "    .dataframe thead tr:only-child th {\n",
       "        text-align: right;\n",
       "    }\n",
       "\n",
       "    .dataframe thead th {\n",
       "        text-align: left;\n",
       "    }\n",
       "\n",
       "    .dataframe tbody tr th {\n",
       "        vertical-align: top;\n",
       "    }\n",
       "</style>\n",
       "<table border=\"1\" class=\"dataframe\">\n",
       "  <thead>\n",
       "    <tr style=\"text-align: right;\">\n",
       "      <th></th>\n",
       "      <th>title</th>\n",
       "      <th>publication</th>\n",
       "      <th>author</th>\n",
       "      <th>date</th>\n",
       "      <th>year</th>\n",
       "      <th>month</th>\n",
       "      <th>content</th>\n",
       "    </tr>\n",
       "  </thead>\n",
       "  <tbody>\n",
       "    <tr>\n",
       "      <th>10140</th>\n",
       "      <td>the view cohosts ask if palin nugent kid rock ...</td>\n",
       "      <td>Breitbart</td>\n",
       "      <td>Pam Key</td>\n",
       "      <td>2017-04-21</td>\n",
       "      <td>2017.0</td>\n",
       "      <td>4.0</td>\n",
       "      <td>friday on abcs the view the panel discussed th...</td>\n",
       "    </tr>\n",
       "    <tr>\n",
       "      <th>31612</th>\n",
       "      <td>istanbul attack isis claims nightclub shooting...</td>\n",
       "      <td>CNN</td>\n",
       "      <td>Euan McKirdy</td>\n",
       "      <td>2017-01-02</td>\n",
       "      <td>2017.0</td>\n",
       "      <td>1.0</td>\n",
       "      <td>istanbul cnn isis claimed responsibility for t...</td>\n",
       "    </tr>\n",
       "    <tr>\n",
       "      <th>7077</th>\n",
       "      <td>trumps breezy calls to world leaders leave dip...</td>\n",
       "      <td>New York Times</td>\n",
       "      <td>Mark Landler</td>\n",
       "      <td>2017-04-14</td>\n",
       "      <td>2017.0</td>\n",
       "      <td>4.0</td>\n",
       "      <td>washington       donald j trump inherited a co...</td>\n",
       "    </tr>\n",
       "    <tr>\n",
       "      <th>35657</th>\n",
       "      <td>trump campaign were facing an emergency goal o...</td>\n",
       "      <td>CNN</td>\n",
       "      <td>Eugene Scott</td>\n",
       "      <td>2016-06-18</td>\n",
       "      <td>2016.0</td>\n",
       "      <td>6.0</td>\n",
       "      <td>washington cnn the donald trump campaign on sa...</td>\n",
       "    </tr>\n",
       "    <tr>\n",
       "      <th>8449</th>\n",
       "      <td>scientists turn spinach leaf into beating huma...</td>\n",
       "      <td>Breitbart</td>\n",
       "      <td>Jack Hadfield</td>\n",
       "      <td>2017-03-30</td>\n",
       "      <td>2017.0</td>\n",
       "      <td>3.0</td>\n",
       "      <td>researchers at worcester polytechnic institute...</td>\n",
       "    </tr>\n",
       "  </tbody>\n",
       "</table>\n",
       "</div>"
      ],
      "text/plain": [
       "                                                   title     publication  \\\n",
       "10140  the view cohosts ask if palin nugent kid rock ...       Breitbart   \n",
       "31612  istanbul attack isis claims nightclub shooting...             CNN   \n",
       "7077   trumps breezy calls to world leaders leave dip...  New York Times   \n",
       "35657  trump campaign were facing an emergency goal o...             CNN   \n",
       "8449   scientists turn spinach leaf into beating huma...       Breitbart   \n",
       "\n",
       "              author        date    year  month  \\\n",
       "10140        Pam Key  2017-04-21  2017.0    4.0   \n",
       "31612   Euan McKirdy  2017-01-02  2017.0    1.0   \n",
       "7077    Mark Landler  2017-04-14  2017.0    4.0   \n",
       "35657   Eugene Scott  2016-06-18  2016.0    6.0   \n",
       "8449   Jack Hadfield  2017-03-30  2017.0    3.0   \n",
       "\n",
       "                                                 content  \n",
       "10140  friday on abcs the view the panel discussed th...  \n",
       "31612  istanbul cnn isis claimed responsibility for t...  \n",
       "7077   washington       donald j trump inherited a co...  \n",
       "35657  washington cnn the donald trump campaign on sa...  \n",
       "8449   researchers at worcester polytechnic institute...  "
      ]
     },
     "metadata": {},
     "output_type": "display_data"
    }
   ],
   "source": [
    "print('The shape of the data in articles 1 is:', df.shape)\n",
    "display(df.head())"
   ]
  },
  {
   "cell_type": "code",
   "execution_count": 405,
   "metadata": {},
   "outputs": [
    {
     "data": {
      "image/png": "[encoded data removed]",
      "text/plain": [
       "<matplotlib.figure.Figure at 0x1210da9b0>"
      ]
     },
     "metadata": {},
     "output_type": "display_data"
    }
   ],
   "source": [
    "plt.figure(figsize=(10, 5))\n",
    "df.publication.value_counts().plot(kind='bar')\n",
    "plt.title('Articles Counts per Publication')\n",
    "plt.show()"
   ]
  },
  {
   "cell_type": "markdown",
   "metadata": {},
   "source": [
    "Here we can note that most of the articles in the data set are articles that are published by Breitbart."
   ]
  },
  {
   "cell_type": "code",
   "execution_count": 406,
   "metadata": {},
   "outputs": [
    {
     "data": {
      "image/png": "[encoded data removed]",
      "text/plain": [
       "<matplotlib.figure.Figure at 0x12014d1d0>"
      ]
     },
     "metadata": {},
     "output_type": "display_data"
    }
   ],
   "source": [
    "plt.figure(figsize=(10, 5))\n",
    "df.year.value_counts().plot(kind='bar')\n",
    "plt.title('Articles Counts per Year')\n",
    "plt.show()"
   ]
  },
  {
   "cell_type": "markdown",
   "metadata": {},
   "source": [
    "Here we can note that most of the articles in the data set were articles that are were written in 2016 and 2017. With least than 1000 of them written in 2015, 2013 and 2014.  "
   ]
  },
  {
   "cell_type": "code",
   "execution_count": 407,
   "metadata": {},
   "outputs": [
    {
     "data": {
      "image/png": "[encoded data removed]",
      "text/plain": [
       "<matplotlib.figure.Figure at 0x120172e80>"
      ]
     },
     "metadata": {},
     "output_type": "display_data"
    }
   ],
   "source": [
    "plt.figure(figsize=(10, 5))\n",
    "df.loc[lambda df: df['year'] <= 2015, :].publication.value_counts().plot(kind='bar')\n",
    "plt.title('Popular publication before 2015')\n",
    "plt.show()"
   ]
  },
  {
   "cell_type": "markdown",
   "metadata": {},
   "source": [
    "It looks like CNN has all articles before 2015 and that around the elections, Breibart has 16 only. "
   ]
  },
  {
   "cell_type": "code",
   "execution_count": 408,
   "metadata": {},
   "outputs": [
    {
     "data": {
      "image/png": "[encoded data removed]",
      "text/plain": [
       "<matplotlib.figure.Figure at 0x12d0096a0>"
      ]
     },
     "metadata": {},
     "output_type": "display_data"
    }
   ],
   "source": [
    "plt.figure(figsize=(10, 5))\n",
    "df.author.value_counts().head(20).plot(kind='bar')\n",
    "plt.title('Articles Counts per Author')\n",
    "plt.show()"
   ]
  },
  {
   "cell_type": "markdown",
   "metadata": {},
   "source": [
    "Once again it seems as if an author from Breitbart has the most articles under his name.   "
   ]
  },
  {
   "cell_type": "code",
   "execution_count": 409,
   "metadata": {},
   "outputs": [
    {
     "data": {
      "image/png": "[encoded data removed]",
      "text/plain": [
       "<matplotlib.figure.Figure at 0x120330cc0>"
      ]
     },
     "metadata": {},
     "output_type": "display_data"
    }
   ],
   "source": [
    "plt.figure(figsize=(10, 5))\n",
    "ax = sns.countplot(x=\"year\", hue=\"publication\", data=df)\n",
    "plt.show()"
   ]
  },
  {
   "cell_type": "code",
   "execution_count": 410,
   "metadata": {},
   "outputs": [
    {
     "data": {
      "image/png": "[encoded data removed]",
      "text/plain": [
       "<matplotlib.figure.Figure at 0x12c785278>"
      ]
     },
     "metadata": {},
     "output_type": "display_data"
    }
   ],
   "source": [
    "plt.figure(figsize=(10, 5))\n",
    "ax = sns.countplot(x=\"month\", hue=\"publication\", data=df.loc[df['year']== 2017])\n",
    "plt.show()"
   ]
  },
  {
   "cell_type": "code",
   "execution_count": 411,
   "metadata": {},
   "outputs": [
    {
     "data": {
      "image/png": "[encoded data removed]",
      "text/plain": [
       "<matplotlib.figure.Figure at 0x1213b0828>"
      ]
     },
     "metadata": {},
     "output_type": "display_data"
    }
   ],
   "source": [
    "plt.figure(figsize=(10, 5))\n",
    "ax = sns.countplot(x=\"month\", hue=\"publication\", data=df.loc[df['year']== 2016])\n",
    "plt.show()"
   ]
  },
  {
   "cell_type": "markdown",
   "metadata": {},
   "source": [
    "## Create Training and Test Set"
   ]
  },
  {
   "cell_type": "code",
   "execution_count": 412,
   "metadata": {
    "collapsed": true
   },
   "outputs": [],
   "source": [
    "Y = df['title']\n",
    "X = df[['publication','content']]"
   ]
  },
  {
   "cell_type": "code",
   "execution_count": 413,
   "metadata": {
    "collapsed": true
   },
   "outputs": [],
   "source": [
    "from sklearn.model_selection import train_test_split\n",
    "\n",
    "#  Create Training and Test Sets\n",
    "X_train, X_test, Y_train, Y_test = train_test_split(X, Y, test_size=0.25, random_state=20)"
   ]
  },
  {
   "cell_type": "code",
   "execution_count": 414,
   "metadata": {
    "collapsed": true
   },
   "outputs": [],
   "source": [
    "del X, Y"
   ]
  },
  {
   "cell_type": "markdown",
   "metadata": {},
   "source": [
    "## Create Features Using tf-idf"
   ]
  },
  {
   "cell_type": "markdown",
   "metadata": {},
   "source": [
    "### Create Vectorizer for articles contents "
   ]
  },
  {
   "cell_type": "code",
   "execution_count": 415,
   "metadata": {},
   "outputs": [
    {
     "name": "stdout",
     "output_type": "stream",
     "text": [
      "Extracting features from the contents of articles in dataset using a vectorizer\n",
      "\n",
      "Xvectorizer on articles contents in dataset done in 75.95798800000011 seconds\n",
      "\n",
      "The shape of X_train_tfidf for articles contents is: (7500, 338978)\n",
      "\n",
      "The shape of X_test_tfidf for articles content is: (2500, 338978)\n"
     ]
    }
   ],
   "source": [
    "from sklearn.feature_extraction.text import TfidfVectorizer\n",
    "\n",
    "print(\"Extracting features from the contents of articles in dataset using a vectorizer\")\n",
    "t0 = time.clock()\n",
    "Xvectorizer = TfidfVectorizer(max_df=.5, # drop words that occur in more than half the paragraphs\n",
    "                             min_df=2, # only use words that appear at least twice\n",
    "                             stop_words='english', \n",
    "                             use_idf=True,#we definitely want to use inverse document frequencies in our weighting\n",
    "                             norm=u'l2', #Applies a correction factor so that longer paragraphs and shorter paragraphs get treated equally\n",
    "                             smooth_idf=True, #Adds 1 to all document frequencies, as if an extra document existed that used every word once.  Prevents divide-by-zero errors\n",
    "                             ngram_range=(1, 3)\n",
    "                             )\n",
    "\n",
    "#Find Vocab words on the whole articles \n",
    "#Applying the vectorizer to X_train and X_test\n",
    "X_train_tfidf=Xvectorizer.fit_transform(X_train['content'])\n",
    "X_test_tfidf=Xvectorizer.transform(X_test['content'])\n",
    "vocab = Xvectorizer.vocabulary_\n",
    "\n",
    "print('\\nXvectorizer on articles contents in dataset done in '+'%s seconds'% (time.clock() - t0))\n",
    "\n",
    "\n",
    "print('\\nThe shape of X_train_tfidf for articles contents is:', X_train_tfidf.shape)\n",
    "print('\\nThe shape of X_test_tfidf for articles content is:', X_test_tfidf.shape)"
   ]
  },
  {
   "cell_type": "code",
   "execution_count": null,
   "metadata": {
    "collapsed": true
   },
   "outputs": [],
   "source": []
  },
  {
   "cell_type": "code",
   "execution_count": 416,
   "metadata": {},
   "outputs": [
    {
     "data": {
      "text/plain": [
       "10318"
      ]
     },
     "execution_count": 416,
     "metadata": {},
     "output_type": "execute_result"
    }
   ],
   "source": [
    "gc.collect()"
   ]
  },
  {
   "cell_type": "markdown",
   "metadata": {},
   "source": [
    "### Create Vectorizer for articles titles"
   ]
  },
  {
   "cell_type": "code",
   "execution_count": 417,
   "metadata": {},
   "outputs": [
    {
     "name": "stdout",
     "output_type": "stream",
     "text": [
      "Extracting features from the titles of articles in dataset using a vectorizer\n",
      "\n",
      "Yvectorizer on articles titles done in 4.549770999999964 seconds\n",
      "\n",
      "The shape of Y_train_tfidf for articles titles is: (7500, 338978)\n",
      "\n",
      "The shape of Y_test_tfidf for articles titles is: (2500, 338978)\n"
     ]
    }
   ],
   "source": [
    "## Find vectorizer for titles and title and see what kind of vectorizer I need to use for each \n",
    "#(Countvectorizer)\n",
    "\n",
    "print(\"Extracting features from the titles of articles in dataset using a vectorizer\")\n",
    "t0 = time.clock()\n",
    "Yvectorizer = TfidfVectorizer(min_df=2, # only use words that appear at least twice\n",
    "                             stop_words='english', \n",
    "                             use_idf=False,#we definitely want to use inverse document frequencies in our weighting\n",
    "                             norm=u'l2', #Applies a correction factor so that longer paragraphs and shorter paragraphs get treated equally\n",
    "                             smooth_idf=True, #Adds 1 to all document frequencies, as if an extra document existed that used every word once.  Prevents divide-by-zero errors\n",
    "                             vocabulary=vocab,\n",
    "                             ngram_range=(1, 3)\n",
    "                             )\n",
    "\n",
    "#Applying the vectorizer to Y_train and Y_test\n",
    "\n",
    "Y_train_tfidf=Yvectorizer.fit_transform(Y_train)\n",
    "Y_test_tfidf=Yvectorizer.transform(Y_test)\n",
    "print('\\nYvectorizer on articles titles done in '+'%s seconds'% (time.clock() - t0))\n",
    "\n",
    "print('\\nThe shape of Y_train_tfidf for articles titles is:', Y_train_tfidf.shape)\n",
    "print('\\nThe shape of Y_test_tfidf for articles titles is:', Y_test_tfidf.shape)"
   ]
  },
  {
   "cell_type": "markdown",
   "metadata": {},
   "source": [
    "### Create Vectorizer for X_new\n"
   ]
  },
  {
   "cell_type": "code",
   "execution_count": 418,
   "metadata": {},
   "outputs": [
    {
     "data": {
      "text/plain": [
       "pandas.core.series.Series"
      ]
     },
     "execution_count": 418,
     "metadata": {},
     "output_type": "execute_result"
    }
   ],
   "source": [
    "type(X_new)"
   ]
  },
  {
   "cell_type": "code",
   "execution_count": 419,
   "metadata": {
    "collapsed": true
   },
   "outputs": [],
   "source": [
    "#Here we clean the content by removing all the  punctuation, \n",
    "#removing all that is unnecessary.\n",
    "\n",
    "X_new = X_new.str.replace(r'[^a-zA-Z0-9 ]', \"\",).fillna('')\n",
    "X_new = X_new.str.lower()\n",
    "X_new = X_new.str.replace(r'Breitbart|CNN|The New York Times|Business Insider|Atlantic', \"\")"
   ]
  },
  {
   "cell_type": "code",
   "execution_count": 420,
   "metadata": {},
   "outputs": [
    {
     "data": {
      "text/plain": [
       "18991    berlin reuters     tens of thousands of people...\n",
       "dtype: object"
      ]
     },
     "execution_count": 420,
     "metadata": {},
     "output_type": "execute_result"
    }
   ],
   "source": [
    "X_new"
   ]
  },
  {
   "cell_type": "code",
   "execution_count": 421,
   "metadata": {},
   "outputs": [
    {
     "name": "stdout",
     "output_type": "stream",
     "text": [
      "\n",
      "The shape of X_new_tfidf for articles content is: (1, 338978)\n"
     ]
    }
   ],
   "source": [
    "#Find Vocab words on the whole articles \n",
    "#Applying the vectorizer to X_news and X_test\n",
    "X_new_tfidf=Xvectorizer.transform(X_new)\n",
    "print('\\nThe shape of X_new_tfidf for articles content is:', X_new_tfidf.shape)"
   ]
  },
  {
   "cell_type": "code",
   "execution_count": 422,
   "metadata": {
    "collapsed": true
   },
   "outputs": [],
   "source": [
    "del vocab"
   ]
  },
  {
   "cell_type": "code",
   "execution_count": 423,
   "metadata": {},
   "outputs": [
    {
     "data": {
      "text/plain": [
       "0"
      ]
     },
     "execution_count": 423,
     "metadata": {},
     "output_type": "execute_result"
    }
   ],
   "source": [
    "gc.collect()"
   ]
  },
  {
   "cell_type": "markdown",
   "metadata": {},
   "source": [
    "## Clustering of titles of articles in dataset"
   ]
  },
  {
   "cell_type": "markdown",
   "metadata": {},
   "source": [
    "### LSA on the titles of the articles"
   ]
  },
  {
   "cell_type": "code",
   "execution_count": 424,
   "metadata": {
    "collapsed": true
   },
   "outputs": [],
   "source": [
    "from sklearn.decomposition import TruncatedSVD\n",
    "from sklearn.pipeline import make_pipeline\n",
    "from sklearn.preprocessing import Normalizer\n",
    "from sklearn.feature_extraction.text import CountVectorizer"
   ]
  },
  {
   "cell_type": "markdown",
   "metadata": {},
   "source": [
    "#### LSA on the titles of the articles  10 articles"
   ]
  },
  {
   "cell_type": "code",
   "execution_count": 425,
   "metadata": {},
   "outputs": [
    {
     "name": "stdout",
     "output_type": "stream",
     "text": [
      "LSA for 10 articles done in 3.0370120000000043 seconds\n",
      "\n",
      "Percent variance captured by all components:  5.320400698615563\n"
     ]
    }
   ],
   "source": [
    "#Our SVD data reducer.  We are going to reduce the feature space from 84939 to 1000.\n",
    "t0 = time.clock()\n",
    "svd= TruncatedSVD(10, random_state = 20)\n",
    "lsa = make_pipeline(svd, Normalizer(copy=False))\n",
    "\n",
    "\n",
    "# Run SVD on the training data, then project the training data.\n",
    "Y_train_lsa10 = lsa.fit_transform(Y_train_tfidf)\n",
    "Y_test_lsa10 = lsa.transform(Y_test_tfidf)\n",
    "\n",
    "print('LSA for 10 articles done in '+'%s seconds'% (time.clock() - t0))\n",
    "\n",
    "variance_explained=svd.explained_variance_ratio_\n",
    "total_variance = variance_explained.sum()\n",
    "print('\\nPercent variance captured by all components: ', (total_variance*100))"
   ]
  },
  {
   "cell_type": "code",
   "execution_count": 426,
   "metadata": {},
   "outputs": [
    {
     "name": "stdout",
     "output_type": "stream",
     "text": [
      "The shape of Y_train_lsa for titles is: (7500, 10)\n",
      "The shape of Y_test_lsa for titles is: (2500, 10)\n"
     ]
    }
   ],
   "source": [
    "print('The shape of Y_train_lsa for titles is:', Y_train_lsa10.shape)\n",
    "print('The shape of Y_test_lsa for titles is:', Y_test_lsa10.shape)"
   ]
  },
  {
   "cell_type": "code",
   "execution_count": 427,
   "metadata": {
    "collapsed": true
   },
   "outputs": [],
   "source": [
    "#What are the topics in the articles looking at the biggest components articles topics.  "
   ]
  },
  {
   "cell_type": "code",
   "execution_count": 428,
   "metadata": {},
   "outputs": [
    {
     "name": "stdout",
     "output_type": "stream",
     "text": [
      "For the Training set:\n",
      "Component 0:\n",
      "30778    0.966490\n",
      "47148    0.965407\n",
      "27063    0.963733\n",
      "Name: 0, dtype: float64\n",
      "Component 1:\n",
      "5016     0.981777\n",
      "23181    0.981603\n",
      "28540    0.981310\n",
      "Name: 1, dtype: float64\n",
      "Component 2:\n",
      "17696    0.883292\n",
      "22873    0.876342\n",
      "34745    0.796539\n",
      "Name: 2, dtype: float64\n",
      "Component 3:\n",
      "46001    0.986534\n",
      "661      0.980011\n",
      "45155    0.979980\n",
      "Name: 3, dtype: float64\n",
      "Component 4:\n",
      "10409    0.937106\n",
      "46118    0.933026\n",
      "7571     0.926196\n",
      "Name: 4, dtype: float64\n",
      "\n",
      "For the Test set:\n",
      "Component 0:\n",
      "25624    0.969691\n",
      "1868     0.961950\n",
      "17290    0.960716\n",
      "Name: 0, dtype: float64\n",
      "Component 1:\n",
      "9481     0.980387\n",
      "44518    0.979890\n",
      "30089    0.979770\n",
      "Name: 1, dtype: float64\n",
      "Component 2:\n",
      "32970    0.797566\n",
      "33895    0.796773\n",
      "25871    0.796704\n",
      "Name: 2, dtype: float64\n",
      "Component 3:\n",
      "49561    0.978538\n",
      "45513    0.977176\n",
      "31622    0.974661\n",
      "Name: 3, dtype: float64\n",
      "Component 4:\n",
      "40577    0.901852\n",
      "32044    0.901683\n",
      "670      0.896164\n",
      "Name: 4, dtype: float64\n"
     ]
    }
   ],
   "source": [
    "#Looking at what sorts of titles our solution considers similar, for the first five identified topics\n",
    "print('For the Training set:')\n",
    "titles1_by_component=pd.DataFrame(Y_train_lsa10,index=Y_train.index)\n",
    "for i in range(5):\n",
    "    print('Component {}:'.format(i))\n",
    "    print(titles1_by_component.loc[:,i].sort_values(ascending=False)[0:3])\n",
    "    \n",
    "print('\\nFor the Test set:')    \n",
    "\n",
    "titles2_by_component=pd.DataFrame(Y_test_lsa10,index=Y_test.index)\n",
    "for i in range(5):\n",
    "    print('Component {}:'.format(i))\n",
    "    print(titles2_by_component.loc[:,i].sort_values(ascending=False)[0:3])"
   ]
  },
  {
   "cell_type": "code",
   "execution_count": 429,
   "metadata": {},
   "outputs": [
    {
     "name": "stdout",
     "output_type": "stream",
     "text": [
      "The Components Value per Articles are:\n"
     ]
    },
    {
     "data": {
      "text/html": [
       "<div>\n",
       "<style>\n",
       "    .dataframe thead tr:only-child th {\n",
       "        text-align: right;\n",
       "    }\n",
       "\n",
       "    .dataframe thead th {\n",
       "        text-align: left;\n",
       "    }\n",
       "\n",
       "    .dataframe tbody tr th {\n",
       "        vertical-align: top;\n",
       "    }\n",
       "</style>\n",
       "<table border=\"1\" class=\"dataframe\">\n",
       "  <thead>\n",
       "    <tr style=\"text-align: right;\">\n",
       "      <th></th>\n",
       "      <th>0</th>\n",
       "      <th>1</th>\n",
       "      <th>2</th>\n",
       "      <th>3</th>\n",
       "      <th>4</th>\n",
       "      <th>5</th>\n",
       "      <th>6</th>\n",
       "      <th>7</th>\n",
       "      <th>8</th>\n",
       "      <th>9</th>\n",
       "    </tr>\n",
       "  </thead>\n",
       "  <tbody>\n",
       "    <tr>\n",
       "      <th>27396</th>\n",
       "      <td>0.851600</td>\n",
       "      <td>0.342187</td>\n",
       "      <td>-0.362270</td>\n",
       "      <td>-0.049839</td>\n",
       "      <td>0.073373</td>\n",
       "      <td>-0.080093</td>\n",
       "      <td>-0.040044</td>\n",
       "      <td>-0.004193</td>\n",
       "      <td>-0.086891</td>\n",
       "      <td>-0.054701</td>\n",
       "    </tr>\n",
       "    <tr>\n",
       "      <th>49747</th>\n",
       "      <td>0.104038</td>\n",
       "      <td>0.165357</td>\n",
       "      <td>0.014689</td>\n",
       "      <td>0.418140</td>\n",
       "      <td>0.151705</td>\n",
       "      <td>0.347540</td>\n",
       "      <td>0.298861</td>\n",
       "      <td>-0.194855</td>\n",
       "      <td>0.421914</td>\n",
       "      <td>0.581102</td>\n",
       "    </tr>\n",
       "    <tr>\n",
       "      <th>26513</th>\n",
       "      <td>0.224825</td>\n",
       "      <td>0.342521</td>\n",
       "      <td>0.110496</td>\n",
       "      <td>0.108915</td>\n",
       "      <td>0.444641</td>\n",
       "      <td>0.171999</td>\n",
       "      <td>0.630741</td>\n",
       "      <td>-0.067130</td>\n",
       "      <td>0.311052</td>\n",
       "      <td>0.285793</td>\n",
       "    </tr>\n",
       "    <tr>\n",
       "      <th>19619</th>\n",
       "      <td>0.173143</td>\n",
       "      <td>0.265229</td>\n",
       "      <td>-0.100522</td>\n",
       "      <td>0.310068</td>\n",
       "      <td>0.388326</td>\n",
       "      <td>0.198040</td>\n",
       "      <td>-0.006450</td>\n",
       "      <td>0.142994</td>\n",
       "      <td>0.213670</td>\n",
       "      <td>0.732986</td>\n",
       "    </tr>\n",
       "    <tr>\n",
       "      <th>1073</th>\n",
       "      <td>0.301828</td>\n",
       "      <td>0.084896</td>\n",
       "      <td>0.032707</td>\n",
       "      <td>0.506335</td>\n",
       "      <td>0.265323</td>\n",
       "      <td>0.309568</td>\n",
       "      <td>0.055576</td>\n",
       "      <td>-0.170560</td>\n",
       "      <td>0.148380</td>\n",
       "      <td>0.651017</td>\n",
       "    </tr>\n",
       "  </tbody>\n",
       "</table>\n",
       "</div>"
      ],
      "text/plain": [
       "              0         1         2         3         4         5         6  \\\n",
       "27396  0.851600  0.342187 -0.362270 -0.049839  0.073373 -0.080093 -0.040044   \n",
       "49747  0.104038  0.165357  0.014689  0.418140  0.151705  0.347540  0.298861   \n",
       "26513  0.224825  0.342521  0.110496  0.108915  0.444641  0.171999  0.630741   \n",
       "19619  0.173143  0.265229 -0.100522  0.310068  0.388326  0.198040 -0.006450   \n",
       "1073   0.301828  0.084896  0.032707  0.506335  0.265323  0.309568  0.055576   \n",
       "\n",
       "              7         8         9  \n",
       "27396 -0.004193 -0.086891 -0.054701  \n",
       "49747 -0.194855  0.421914  0.581102  \n",
       "26513 -0.067130  0.311052  0.285793  \n",
       "19619  0.142994  0.213670  0.732986  \n",
       "1073  -0.170560  0.148380  0.651017  "
      ]
     },
     "execution_count": 429,
     "metadata": {},
     "output_type": "execute_result"
    }
   ],
   "source": [
    "print('The Components Value per Articles are:')\n",
    "titles1_by_component.head()"
   ]
  },
  {
   "cell_type": "code",
   "execution_count": 430,
   "metadata": {},
   "outputs": [
    {
     "data": {
      "image/png": "[encoded data removed]",
      "text/plain": [
       "<matplotlib.figure.Figure at 0x1389f8978>"
      ]
     },
     "metadata": {},
     "output_type": "display_data"
    }
   ],
   "source": [
    "plt.figure(figsize=(10, 5))\n",
    "plt.boxplot([titles1_by_component[0].values, titles1_by_component[1].values, titles1_by_component[2].values, titles1_by_component[3].values, titles1_by_component[4].values, titles1_by_component[5].values, titles1_by_component[6].values, titles1_by_component[7].values, titles1_by_component[8].values, titles1_by_component[9].values])\n",
    "#plt.xlim(0,10)\n",
    "plt.show()\n",
    "\n",
    "# Set the axes ranges and axes labels\n",
    "#plt.xlim(0,9)\n",
    "\n",
    "#mpl_fig = plt.gcf()\n",
    "#plotly_fig = tls.mpl_to_plotly( mpl_fig )\n",
    "#plot_url = py.plot(plotly_fig)\n",
    "#ax.set_xlim(left =0, right = 9)\n",
    "#top = 9\n",
    "#bottom = 0\n",
    "#ax1.set_xlim(bottom, top)"
   ]
  },
  {
   "cell_type": "markdown",
   "metadata": {},
   "source": [
    "They are the eigenvectors that an article title has to a BreiBart article\n",
    "Is the amount of similarity that are an article has to a Breibart article. \n",
    "Every article has a value for each idealized \n",
    "Most articles should be 9 b/c of the mean of 9 is higher of any other means.  \n",
    "A bunch of articles that are not Breibart articles create a negatively skewed distribution "
   ]
  },
  {
   "cell_type": "code",
   "execution_count": 431,
   "metadata": {},
   "outputs": [
    {
     "data": {
      "image/png": "[encoded data removed]",
      "text/plain": [
       "<matplotlib.figure.Figure at 0x12a195550>"
      ]
     },
     "metadata": {},
     "output_type": "display_data"
    }
   ],
   "source": [
    "plt.figure(figsize=(25, 25))\n",
    "plt.subplot(3, 3, 1)\n",
    "plt.hist(titles1_by_component[0])\n",
    "plt.title('Component 0 Distribution in Training Set')\n",
    "plt.subplot(3, 3, 2)\n",
    "plt.hist(titles1_by_component[1])\n",
    "plt.title('Component 1 Distribution in Training Set')\n",
    "plt.subplot(3, 3, 3)\n",
    "plt.hist(titles1_by_component[2])\n",
    "plt.title('Component 2 Distribution in Training Set')\n",
    "plt.subplot(3, 3, 4)\n",
    "plt.hist(titles1_by_component[3])\n",
    "plt.title('Component 3 Distribution in Training Set')\n",
    "plt.subplot(3, 3, 5)\n",
    "plt.hist(titles1_by_component[4])\n",
    "plt.title('Component 4 Distribution in Training Set')\n",
    "plt.subplot(3, 3, 6)\n",
    "plt.hist(titles1_by_component[5])\n",
    "plt.title('Component 5 Distribution in Training Set')\n",
    "plt.show()"
   ]
  },
  {
   "cell_type": "code",
   "execution_count": 432,
   "metadata": {},
   "outputs": [
    {
     "data": {
      "image/png": "[encoded data removed]",
      "text/plain": [
       "<matplotlib.figure.Figure at 0x120643978>"
      ]
     },
     "metadata": {},
     "output_type": "display_data"
    }
   ],
   "source": [
    "plt.figure(figsize=(25, 25))\n",
    "plt.subplot(3, 3, 1)\n",
    "plt.hist(titles1_by_component[6])\n",
    "plt.title('Component 6 Distribution in Training Set')\n",
    "plt.subplot(3, 3, 2)\n",
    "plt.hist(titles1_by_component[7])\n",
    "plt.title('Component 7 Distribution in Training Set')\n",
    "plt.subplot(3, 3, 3)\n",
    "plt.hist(titles1_by_component[8])\n",
    "plt.title('Component 8 Distribution in Training Set')\n",
    "plt.subplot(3, 3, 4)\n",
    "plt.hist(titles1_by_component[9])\n",
    "plt.title('Component 9 Distribution in Training Set')\n",
    "plt.show()"
   ]
  },
  {
   "cell_type": "code",
   "execution_count": 433,
   "metadata": {
    "collapsed": true
   },
   "outputs": [],
   "source": [
    "Component_train10 = pd.DataFrame()\n",
    "Component_train10['title'] = Y_train\n",
    "Component_train10['component'] = titles1_by_component.idxmax(axis=1)"
   ]
  },
  {
   "cell_type": "code",
   "execution_count": 434,
   "metadata": {
    "collapsed": true
   },
   "outputs": [],
   "source": [
    "Component_test10 = pd.DataFrame()\n",
    "Component_test10['title'] = Y_test\n",
    "Component_test10['component'] = titles2_by_component.idxmax(axis=1)"
   ]
  },
  {
   "cell_type": "code",
   "execution_count": 435,
   "metadata": {
    "collapsed": true
   },
   "outputs": [],
   "source": [
    "Y_train_component10 = Component_train10['component']\n",
    "Y_test_component10 = Component_test10['component']"
   ]
  },
  {
   "cell_type": "code",
   "execution_count": 436,
   "metadata": {},
   "outputs": [
    {
     "data": {
      "image/png": "[encoded data removed]",
      "text/plain": [
       "<matplotlib.figure.Figure at 0x1292e9908>"
      ]
     },
     "metadata": {},
     "output_type": "display_data"
    }
   ],
   "source": [
    "plt.figure(figsize=(10, 5))\n",
    "Component_train10.component.value_counts().plot(kind='bar')\n",
    "plt.title('Articles count per Components Assignment')\n",
    "plt.show()"
   ]
  },
  {
   "cell_type": "code",
   "execution_count": 437,
   "metadata": {},
   "outputs": [
    {
     "data": {
      "text/html": [
       "<div>\n",
       "<style>\n",
       "    .dataframe thead tr:only-child th {\n",
       "        text-align: right;\n",
       "    }\n",
       "\n",
       "    .dataframe thead th {\n",
       "        text-align: left;\n",
       "    }\n",
       "\n",
       "    .dataframe tbody tr th {\n",
       "        vertical-align: top;\n",
       "    }\n",
       "</style>\n",
       "<table border=\"1\" class=\"dataframe\">\n",
       "  <thead>\n",
       "    <tr style=\"text-align: right;\">\n",
       "      <th></th>\n",
       "      <th>title</th>\n",
       "      <th>component</th>\n",
       "    </tr>\n",
       "  </thead>\n",
       "  <tbody>\n",
       "    <tr>\n",
       "      <th>27396</th>\n",
       "      <td>trump warns hillary wants to abolish the secon...</td>\n",
       "      <td>0</td>\n",
       "    </tr>\n",
       "    <tr>\n",
       "      <th>49747</th>\n",
       "      <td>the 11 best laptops of 2016</td>\n",
       "      <td>9</td>\n",
       "    </tr>\n",
       "    <tr>\n",
       "      <th>26513</th>\n",
       "      <td>team of grifters tim kaine reinforces crooked ...</td>\n",
       "      <td>6</td>\n",
       "    </tr>\n",
       "    <tr>\n",
       "      <th>19619</th>\n",
       "      <td>investigation migrants smuggled into uk posing...</td>\n",
       "      <td>9</td>\n",
       "    </tr>\n",
       "    <tr>\n",
       "      <th>1073</th>\n",
       "      <td>a long way from mexico company bets china has ...</td>\n",
       "      <td>9</td>\n",
       "    </tr>\n",
       "  </tbody>\n",
       "</table>\n",
       "</div>"
      ],
      "text/plain": [
       "                                                   title  component\n",
       "27396  trump warns hillary wants to abolish the secon...          0\n",
       "49747                        the 11 best laptops of 2016          9\n",
       "26513  team of grifters tim kaine reinforces crooked ...          6\n",
       "19619  investigation migrants smuggled into uk posing...          9\n",
       "1073   a long way from mexico company bets china has ...          9"
      ]
     },
     "metadata": {},
     "output_type": "display_data"
    }
   ],
   "source": [
    "display(Component_train10.head())"
   ]
  },
  {
   "cell_type": "code",
   "execution_count": 438,
   "metadata": {},
   "outputs": [
    {
     "data": {
      "text/html": [
       "<div>\n",
       "<style>\n",
       "    .dataframe thead tr:only-child th {\n",
       "        text-align: right;\n",
       "    }\n",
       "\n",
       "    .dataframe thead th {\n",
       "        text-align: left;\n",
       "    }\n",
       "\n",
       "    .dataframe tbody tr th {\n",
       "        vertical-align: top;\n",
       "    }\n",
       "</style>\n",
       "<table border=\"1\" class=\"dataframe\">\n",
       "  <thead>\n",
       "    <tr style=\"text-align: right;\">\n",
       "      <th></th>\n",
       "      <th>title</th>\n",
       "      <th>component</th>\n",
       "    </tr>\n",
       "  </thead>\n",
       "  <tbody>\n",
       "    <tr>\n",
       "      <th>27594</th>\n",
       "      <td>clinton vp pick tim kaines islamist ties</td>\n",
       "      <td>1</td>\n",
       "    </tr>\n",
       "    <tr>\n",
       "      <th>21699</th>\n",
       "      <td>report donald trump no show at colorado state ...</td>\n",
       "      <td>0</td>\n",
       "    </tr>\n",
       "    <tr>\n",
       "      <th>40577</th>\n",
       "      <td>generous kidney donor triggers 6 transplants</td>\n",
       "      <td>4</td>\n",
       "    </tr>\n",
       "    <tr>\n",
       "      <th>28470</th>\n",
       "      <td>zumwalt fifteen years after 911 what have we l...</td>\n",
       "      <td>9</td>\n",
       "    </tr>\n",
       "    <tr>\n",
       "      <th>24395</th>\n",
       "      <td>texas prisoners bust out of jail  to save jailer</td>\n",
       "      <td>9</td>\n",
       "    </tr>\n",
       "  </tbody>\n",
       "</table>\n",
       "</div>"
      ],
      "text/plain": [
       "                                                   title  component\n",
       "27594         clinton vp pick tim kaines islamist ties            1\n",
       "21699  report donald trump no show at colorado state ...          0\n",
       "40577       generous kidney donor triggers 6 transplants          4\n",
       "28470  zumwalt fifteen years after 911 what have we l...          9\n",
       "24395   texas prisoners bust out of jail  to save jailer          9"
      ]
     },
     "metadata": {},
     "output_type": "display_data"
    }
   ],
   "source": [
    "display(Component_test10.head())"
   ]
  },
  {
   "cell_type": "code",
   "execution_count": 439,
   "metadata": {
    "code_folding": []
   },
   "outputs": [
    {
     "name": "stdout",
     "output_type": "stream",
     "text": [
      "\n",
      "Articles in Component  0\n",
      "                                                   title  component\n",
      "30778  sad leftists protest donald trump election at ...          0\n",
      "47148  the never trump movement has settled on a cand...          0\n",
      "27063  donald trump spokesman nikki haley had natural...          0\n",
      "\n",
      "Articles in Component  1\n",
      "                                                   title  component\n",
      "5016   russias hacks followed years of paranoia towar...          1\n",
      "23181  hillary clinton next to cardinal dolan at al s...          1\n",
      "28540  hillary clinton to goldman sachs i represented...          1\n",
      "\n",
      "Articles in Component  2\n",
      "                                                   title  component\n",
      "17696  exclusive  the donald endorses the donald rums...          2\n",
      "22873  sheriff joe the donald establishment doesnt wa...          2\n",
      "34745          donald trumps risky religious pilgrimage           2\n",
      "\n",
      "Articles in Component  3\n",
      "                                                   title  component\n",
      "46001  a former wall street analyst just set a new wo...          3\n",
      "661    his predecessor gone gambias new president fin...          3\n",
      "45155  senate republicans and democrats agree on new ...          3\n",
      "\n",
      "Articles in Component  4\n",
      "                                                   title  component\n",
      "10409  fed hikes key interest rate signals economic s...          4\n",
      "46118                     tesla isnt disrupting anything          4\n",
      "7571   nasas juno spacecraft enters into orbit around...          4\n",
      "\n",
      "Articles in Component  5\n",
      "                                                   title  component\n",
      "48897  obama to paul ryan us missile strikes on yemen...          5\n",
      "31552  realclearpolitics after 8 years of obama gop s...          5\n",
      "23551  judge jeanine to obama stop focusing on gun co...          5\n",
      "\n",
      "Articles in Component  6\n",
      "                                         title  component\n",
      "35190  terrorist attacks by vehicle fast facts          6\n",
      "35649              aung san suu kyi fast facts          6\n",
      "34000                   stanley cup fast facts          6\n",
      "\n",
      "Articles in Component  7\n",
      "                                                   title  component\n",
      "42789  kid confronts cyberbullies earns white house i...          7\n",
      "23872  cult of harambe demands white house name warsh...          7\n",
      "46770  journalist freed from an iranian prison addres...          7\n",
      "\n",
      "Articles in Component  8\n",
      "                                                   title  component\n",
      "16643  planned parenthood says ted cruz biggest liar ...          8\n",
      "19555  texas lawyer files suit to challenge ted cruzs...          8\n",
      "24331  cruz mocks fox news reporting on rubio looking...          8\n",
      "\n",
      "Articles in Component  9\n",
      "                                                   title  component\n",
      "11038    salk institute creates humanpig hybrid embryo            9\n",
      "17966  police ucla gunman purchased all firearms legally          9\n",
      "34330  lessons from the la riots how a troubled polic...          9\n"
     ]
    }
   ],
   "source": [
    "for i in range(10):\n",
    "    print(\"\\nArticles in Component \", i)\n",
    "    title_index = titles1_by_component.loc[:,i].sort_values(ascending=False)[0:3].index\n",
    "    print(Component_train10.loc[title_index,['title','component']])"
   ]
  },
  {
   "cell_type": "code",
   "execution_count": 440,
   "metadata": {
    "scrolled": false
   },
   "outputs": [
    {
     "name": "stdout",
     "output_type": "stream",
     "text": [
      "\n",
      "The shape of Y_train_tfidf for articles titles is: (7500, 338978)\n"
     ]
    },
    {
     "data": {
      "text/plain": [
       "9    2839\n",
       "0    1203\n",
       "4     844\n",
       "8     647\n",
       "3     602\n",
       "1     480\n",
       "5     413\n",
       "7     244\n",
       "6     160\n",
       "2      68\n",
       "Name: component, dtype: int64"
      ]
     },
     "execution_count": 440,
     "metadata": {},
     "output_type": "execute_result"
    }
   ],
   "source": [
    "print('\\nThe shape of Y_train_tfidf for articles titles is:', Y_train_tfidf.shape)\n",
    "Component_train10.component.value_counts()"
   ]
  },
  {
   "cell_type": "markdown",
   "metadata": {},
   "source": [
    "Here we can note that Component 7, 0 and 4 contain the most articles.     \n",
    "But the articles can be seen as well distributed between the different Components. "
   ]
  },
  {
   "cell_type": "code",
   "execution_count": 441,
   "metadata": {
    "scrolled": false
   },
   "outputs": [
    {
     "name": "stdout",
     "output_type": "stream",
     "text": [
      "Top terms per components:\n",
      "\n",
      "tf_vectorizer on done in 0.09022099999992861 seconds\n",
      "\n",
      "Topics in Component  0\n",
      "['campaign', 'clinton', 'cruz', 'donald', 'hillary', 'obama', 'poll', 'president', 'says', 'trump']\n",
      "\n",
      "tf_vectorizer on done in 0.1250199999999495 seconds\n",
      "\n",
      "Topics in Component  1\n",
      "['bernie', 'campaign', 'clinton', 'clintons', 'email', 'fbi', 'foundation', 'hillary', 'poll', 'sanders']\n",
      "\n",
      "tf_vectorizer on done in 0.1349760000000515 seconds\n",
      "\n",
      "Topics in Component  2\n",
      "['border', 'briefing', 'change', 'debate', 'donald', 'mike', 'news', 'remarks', 'trumps', 'victory']\n",
      "\n",
      "tf_vectorizer on done in 0.17243899999994028 seconds\n",
      "\n",
      "Topics in Component  3\n",
      "['best', 'california', 'city', 'just', 'new', 'times', 'today', 'world', 'year', 'york']\n",
      "\n",
      "tf_vectorizer on done in 0.23314800000002833 seconds\n",
      "\n",
      "Topics in Component  4\n",
      "['america', 'ban', 'care', 'immigration', 'plan', 'president', 'russia', 'speech', 'trumps', 'wall']\n",
      "\n",
      "tf_vectorizer on done in 0.26604100000008657 seconds\n",
      "\n",
      "Topics in Component  5\n",
      "['administration', 'control', 'dallas', 'democrats', 'gun', 'israel', 'obama', 'syria', 'syrian', 'war']\n",
      "\n",
      "tf_vectorizer on done in 0.2791780000000017 seconds\n",
      "\n",
      "Topics in Component  6\n",
      "['cia', 'court', 'david', 'facts', 'fast', 'game', 'national', 'review', 'supreme', 'young']\n",
      "\n",
      "tf_vectorizer on done in 0.2959459999999581 seconds\n",
      "\n",
      "Topics in Component  7\n",
      "['care', 'gop', 'health', 'house', 'jared', 'kushner', 'obamacare', 'repeal', 'trump', 'white']\n",
      "\n",
      "tf_vectorizer on done in 0.33263400000009824 seconds\n",
      "\n",
      "Topics in Component  8\n",
      "['campaign', 'carolina', 'cruz', 'gop', 'race', 'rubio', 'south', 'ted', 'vote', 'watch']\n",
      "\n",
      "tf_vectorizer on done in 0.45786999999995714 seconds\n",
      "\n",
      "Topics in Component  9\n",
      "['attack', 'border', 'man', 'milo', 'news', 'police', 'report', 'says', 'state', 'texas']\n"
     ]
    }
   ],
   "source": [
    "from sklearn.feature_extraction.text import CountVectorizer\n",
    "\n",
    "tf_vectorizer = CountVectorizer(max_features=10,\n",
    "                                stop_words='english')\n",
    "t0 = time.clock()\n",
    "\n",
    "print(\"Top terms per components:\") \n",
    "for i in range(10):\n",
    "    tf = tf_vectorizer.fit_transform(Component_train10.loc[Component_train10['component'] == i,'title'])\n",
    "    print('\\ntf_vectorizer on done in '+'%s seconds'% (time.clock() - t0))\n",
    "    print(\"\\nTopics in Component \", i)\n",
    "    tf_feature_names = tf_vectorizer.get_feature_names()\n",
    "    print(tf_feature_names)\n"
   ]
  },
  {
   "cell_type": "markdown",
   "metadata": {},
   "source": [
    "From this there are a few things we can infer from the top 10 Components for instance:   \n",
    "\n",
    "In Component 0:    \n",
    "Most of the articles are are probably about the __Donald Trump Campaign__    \n",
    "since words like: __'campaign', 'clinton', 'cruz', 'donald', 'hillary', 'obama', 'poll', 'president', 'says', 'trump'__ seem to be the most reccurent.      \n",
    "Looking at some of the article titles, this is mostly about Trump's rethoric during the GOP Primary elections and the General Elections between Hillary Clinton and Donald Trump. \n",
    "Also there is some articles that talk about Trump and what he did when he became president.\n",
    "One thing that reinforces this is the fact that:    \n",
    " * __Trump__ mentioned 1149 times in Component 0\n",
    " * __Donald__ mentioned 307 times in component 0\n",
    "\n",
    "In Component 1:    \n",
    "Most of the articles are are probably about the __DNC Campaign__    \n",
    "since words like: __'bernie', 'campaign', 'clinton', 'clintons', 'email', 'fbi', 'foundation', 'hillary', 'poll', 'sanders'__ to be the most reccurent.          \n",
    "Looking at some of the articles titles, this is mostly about the Hillary Clinton during the DNC Primary and the challenge Bernie Sanders was for her nonimantaion. We also have a lot of mentions of her e-mails, the Clinton foundation (17) other articles about Hillary Clintons after she won the DNC primary elections.\n",
    "One thing that reinforces this is the fact that:   \n",
    "  * __Clinton__ mentioned 293 times in Component 0\n",
    "  * __Hillary__ mentioned 227 times in component 0   \n",
    "\n",
    "In Component 2:    \n",
    "Most of the articles are are probably about the __Donald Trump's Win__    \n",
    "since words like: __'border', 'briefing', 'change', 'debate', 'donald', 'mike', 'news', 'remarks', 'trumps', 'victory'__ seem to be the most reccurent.   \n",
    "There are articles abut Donald Trump Victory, is inauguration speech, the woman's March and he starting to set up his governement.\n",
    "One thing that reinforces this is the fact that: \n",
    " * __Donald__ mentioned 57 times in Component 2\n",
    " * __Trumps__ mentioned 55 times in component 2\n",
    "\n",
    "In Component 3:    \n",
    "Most of the articles are are probably about the __New York Related News__    \n",
    "since words like: __'best', 'california', 'city', 'just', 'new', 'times', 'today', 'world', 'year', 'york'__ seem to be the most reccurent.      \n",
    "There is about 73 news articles about New York and 11 about the New York Times.   \n",
    "There is also about quite a few about California (22) and California Today (10).\n",
    "One thing that reinforces this is the fact that:   \n",
    "  * __new__ mentioned 293 times in Component 3\n",
    "  * __york__ mentioned 73 times in component 3   \n",
    "\n",
    "In Component 4:    \n",
    "Most of the articles are are probably about __Trump's America First Policies__    \n",
    "since words like: __'america', 'ban', 'care', 'immigration', 'plan', 'president', 'russia', 'speech', 'trumps', 'wall__ seem to be the most reccurent.     \n",
    "The news articles seem to have a lot of emphasis on building the wall, the travel Ban, getting rid of health care and Trump's America first rhetoric.\n",
    "There is also some articles about different topics related to Russia.\n",
    "One thing that reinforces this is the fact that:\n",
    "  * __Trumps__ mentioned 195 times in Component 4\n",
    "  * __America__ mentioned 52 times in component 4   \n",
    "\n",
    "In Component 5:    \n",
    "Most of the articles are are probably about __The Obama Administration__    \n",
    "since words like: __'administration', 'control', 'dallas', 'democrats', 'gun', 'israel', 'obama', 'syria', 'syrian', 'war'__ seem to be the most reccurent.   \n",
    "While most of the articles are about the Obama administration (172 News articles), they are also quite a few articles about Gun Control and Israel, Syria and what those topics like were during the Obama presidency or during the 2016 election.  \n",
    "One thing that reinforces this is the fact that:\n",
    "  * __Obama__ mentioned 172 times in Component 5\n",
    "  * __syria__ mentioned 36 times in component 5 \n",
    "\n",
    "In Component 6:    \n",
    "Most of the articles are are probably about the __US Supreme Court__    \n",
    "since words like: __'cia', 'court', 'david', 'facts', 'fast', 'game', 'national', 'review', 'supreme', 'young'__ seem to be the most reccurent.   \n",
    "This is mostly about the US Supreme court and they are quite a few arrticles that are about Fast Facts.\n",
    "One thing that reinforces this is the fact that:\n",
    "  * __court__ mentioned 27 times in Component 6\n",
    "  * __supreme__ mentioned 15 times in component 6 \n",
    "\n",
    "In Component 7:    \n",
    "Most of the articles are are probably about the __White House and Health Care__    \n",
    "since words like: __'care', 'gop', 'health', 'house', 'jared', 'kushner', 'obamacare', 'repeal', 'trump', 'white'__ seem to be the most reccurent.    \n",
    "They are news articles about the happenings at the White house with articles about the Gop and their health care proposal(ryan care) and they wanting to repeal obamacare.\n",
    "One thing that reinforces this is the fact that:\n",
    "  * __house__ mentioned 111 times in Component 7\n",
    "  * __white__ mentioned 108 times in component 7\n",
    "  * __care__ mentioned 48 times in Component 7\n",
    "  * __Obamacare__ mentioned 38 times in component 7\n",
    "\n",
    "\n",
    "In Component 8:    \n",
    "Most of the articles are are probably about the __Ted Cruz Primary Campaign__      \n",
    "since words like: __'campaign', 'carolina', 'cruz', 'gop', 'race', 'rubio', 'south', 'ted', 'vote', 'watch'__ seem to be the most reccurent.    \n",
    "Most of the articles seem to be about Ted Cruz during the GOP Primary campaign and people other that Trump attacking Ted Cruz. This seems to be mostly about Ted Cruz vs Marco Rubio. There is also some mention of Trump here.    \n",
    "One thing that reinforces this is the fact that:\n",
    "  * __Ted__ mentioned 83 times in component 8\n",
    "  * __cruz__ mentioned 80 times in Component 8\n",
    "  \n",
    "\n",
    "In Component 9:    \n",
    "Most of the articles are are probably about the __Fear Mongering against Immigrant__       \n",
    "since words like: __'attack', 'border', 'man', 'milo', 'news', 'police', 'report', 'says', 'state', 'texas'__ seem to be the most reccurent.  Most of the articles seem to be about attack perpetuated by immigrant in the US, about gun violence with some violence in the taliban also mentioned. Mexican and Muslim seem to be most of the people involved in the crime and violence mentioned.   \n",
    "\n",
    "One thing that reinforces this is the fact that:\n",
    "  * __man__ mentioned 282 times in Component 9\n",
    "  * __police__ mentioned 135 times in component 9\n",
    "  * __attack__ mentioned 121 times in component 9\n",
    "  * __state__ mentioned 109 times in component 9\n",
    "  * __border__ mentioned 76 times in component 9\n",
    "  "
   ]
  },
  {
   "cell_type": "code",
   "execution_count": 442,
   "metadata": {},
   "outputs": [
    {
     "data": {
      "text/plain": [
       "4    195\n",
       "2     55\n",
       "3      9\n",
       "7      5\n",
       "1      4\n",
       "8      3\n",
       "Name: component, dtype: int64"
      ]
     },
     "execution_count": 442,
     "metadata": {},
     "output_type": "execute_result"
    }
   ],
   "source": [
    "Component_train10.loc[Component_train10['title'].str.contains('trumps'),'component'].value_counts()"
   ]
  },
  {
   "cell_type": "code",
   "execution_count": 443,
   "metadata": {},
   "outputs": [
    {
     "data": {
      "text/html": [
       "<div>\n",
       "<style>\n",
       "    .dataframe thead tr:only-child th {\n",
       "        text-align: right;\n",
       "    }\n",
       "\n",
       "    .dataframe thead th {\n",
       "        text-align: left;\n",
       "    }\n",
       "\n",
       "    .dataframe tbody tr th {\n",
       "        vertical-align: top;\n",
       "    }\n",
       "</style>\n",
       "<table border=\"1\" class=\"dataframe\">\n",
       "  <thead>\n",
       "    <tr style=\"text-align: right;\">\n",
       "      <th></th>\n",
       "      <th>title</th>\n",
       "      <th>component</th>\n",
       "    </tr>\n",
       "  </thead>\n",
       "  <tbody>\n",
       "    <tr>\n",
       "      <th>35779</th>\n",
       "      <td>is donald trump right about hillary clinton</td>\n",
       "      <td>0</td>\n",
       "    </tr>\n",
       "    <tr>\n",
       "      <th>16977</th>\n",
       "      <td>panic hollywood 100 celebs pledge to stop dang...</td>\n",
       "      <td>0</td>\n",
       "    </tr>\n",
       "    <tr>\n",
       "      <th>21171</th>\n",
       "      <td>donald trump making americas energy policy che...</td>\n",
       "      <td>0</td>\n",
       "    </tr>\n",
       "    <tr>\n",
       "      <th>12310</th>\n",
       "      <td>at boeing donald trump highlights jobs first a...</td>\n",
       "      <td>0</td>\n",
       "    </tr>\n",
       "    <tr>\n",
       "      <th>21276</th>\n",
       "      <td>in search of donald trump democrats</td>\n",
       "      <td>0</td>\n",
       "    </tr>\n",
       "    <tr>\n",
       "      <th>4337</th>\n",
       "      <td>cut ties to donald trump big donors urge rnc</td>\n",
       "      <td>0</td>\n",
       "    </tr>\n",
       "    <tr>\n",
       "      <th>4953</th>\n",
       "      <td>donald trump rex tillerson aleppo your morning...</td>\n",
       "      <td>0</td>\n",
       "    </tr>\n",
       "    <tr>\n",
       "      <th>4598</th>\n",
       "      <td>donald trump after fits and starts focuses on ...</td>\n",
       "      <td>0</td>\n",
       "    </tr>\n",
       "    <tr>\n",
       "      <th>22954</th>\n",
       "      <td>donald trump wins massachusetts in a big way</td>\n",
       "      <td>0</td>\n",
       "    </tr>\n",
       "    <tr>\n",
       "      <th>17084</th>\n",
       "      <td>obama challenges paul ryan and mitch mcconnell...</td>\n",
       "      <td>0</td>\n",
       "    </tr>\n",
       "    <tr>\n",
       "      <th>19941</th>\n",
       "      <td>sen jeff flake gets 2018 primary challenge for...</td>\n",
       "      <td>0</td>\n",
       "    </tr>\n",
       "    <tr>\n",
       "      <th>49216</th>\n",
       "      <td>donald trump wins north carolina a pivotal swi...</td>\n",
       "      <td>0</td>\n",
       "    </tr>\n",
       "    <tr>\n",
       "      <th>11147</th>\n",
       "      <td>california democratic party leader leads fck d...</td>\n",
       "      <td>0</td>\n",
       "    </tr>\n",
       "    <tr>\n",
       "      <th>31337</th>\n",
       "      <td>donald trump scoffs at golf and grandkids cove...</td>\n",
       "      <td>0</td>\n",
       "    </tr>\n",
       "    <tr>\n",
       "      <th>7652</th>\n",
       "      <td>donald trump russia rodrigo duterte your thurs...</td>\n",
       "      <td>0</td>\n",
       "    </tr>\n",
       "    <tr>\n",
       "      <th>20318</th>\n",
       "      <td>news daily donald j trump live</td>\n",
       "      <td>0</td>\n",
       "    </tr>\n",
       "    <tr>\n",
       "      <th>9119</th>\n",
       "      <td>donald trump attacks bring team obama out of r...</td>\n",
       "      <td>0</td>\n",
       "    </tr>\n",
       "    <tr>\n",
       "      <th>27918</th>\n",
       "      <td>news daily donald trump candy carson rafael c...</td>\n",
       "      <td>0</td>\n",
       "    </tr>\n",
       "    <tr>\n",
       "      <th>15583</th>\n",
       "      <td>donald trump i wont let politicians disarm the...</td>\n",
       "      <td>0</td>\n",
       "    </tr>\n",
       "    <tr>\n",
       "      <th>18840</th>\n",
       "      <td>donald trump thanks republican delegates for c...</td>\n",
       "      <td>0</td>\n",
       "    </tr>\n",
       "    <tr>\n",
       "      <th>23567</th>\n",
       "      <td>polls show africanamerican vote for donald tru...</td>\n",
       "      <td>0</td>\n",
       "    </tr>\n",
       "    <tr>\n",
       "      <th>29897</th>\n",
       "      <td>donald trump misspeaks calls 911  7eleven</td>\n",
       "      <td>0</td>\n",
       "    </tr>\n",
       "    <tr>\n",
       "      <th>28587</th>\n",
       "      <td>chrissy teigen happy birthday donald trump you...</td>\n",
       "      <td>0</td>\n",
       "    </tr>\n",
       "    <tr>\n",
       "      <th>19348</th>\n",
       "      <td>rivals activists very angry that donald trump ...</td>\n",
       "      <td>0</td>\n",
       "    </tr>\n",
       "    <tr>\n",
       "      <th>22799</th>\n",
       "      <td>donald trump john kasich take campaigns to nys...</td>\n",
       "      <td>0</td>\n",
       "    </tr>\n",
       "    <tr>\n",
       "      <th>22204</th>\n",
       "      <td>watch live donald trump in orlando</td>\n",
       "      <td>0</td>\n",
       "    </tr>\n",
       "    <tr>\n",
       "      <th>30441</th>\n",
       "      <td>donald trump seizes control of ohio ground gam...</td>\n",
       "      <td>0</td>\n",
       "    </tr>\n",
       "    <tr>\n",
       "      <th>17530</th>\n",
       "      <td>donald trump jr cruz can only win by bribing t...</td>\n",
       "      <td>0</td>\n",
       "    </tr>\n",
       "    <tr>\n",
       "      <th>21900</th>\n",
       "      <td>donald rumsfeld donald trump touched a nerve</td>\n",
       "      <td>0</td>\n",
       "    </tr>\n",
       "    <tr>\n",
       "      <th>46698</th>\n",
       "      <td>donald trump if i lose i dont think you will e...</td>\n",
       "      <td>0</td>\n",
       "    </tr>\n",
       "    <tr>\n",
       "      <th>...</th>\n",
       "      <td>...</td>\n",
       "      <td>...</td>\n",
       "    </tr>\n",
       "    <tr>\n",
       "      <th>49166</th>\n",
       "      <td>donald trump makes closing argument in unconve...</td>\n",
       "      <td>0</td>\n",
       "    </tr>\n",
       "    <tr>\n",
       "      <th>10695</th>\n",
       "      <td>outdoor clothing giant patagonia pledging to l...</td>\n",
       "      <td>0</td>\n",
       "    </tr>\n",
       "    <tr>\n",
       "      <th>6128</th>\n",
       "      <td>donald trump used legally dubious method to av...</td>\n",
       "      <td>0</td>\n",
       "    </tr>\n",
       "    <tr>\n",
       "      <th>45863</th>\n",
       "      <td>a new national poll just found ted cruz vaulti...</td>\n",
       "      <td>0</td>\n",
       "    </tr>\n",
       "    <tr>\n",
       "      <th>23225</th>\n",
       "      <td>donald trump immigration is a privilege</td>\n",
       "      <td>0</td>\n",
       "    </tr>\n",
       "    <tr>\n",
       "      <th>30778</th>\n",
       "      <td>sad leftists protest donald trump election at ...</td>\n",
       "      <td>0</td>\n",
       "    </tr>\n",
       "    <tr>\n",
       "      <th>16273</th>\n",
       "      <td>donald trump picks iowa gov terry branstad as ...</td>\n",
       "      <td>0</td>\n",
       "    </tr>\n",
       "    <tr>\n",
       "      <th>20576</th>\n",
       "      <td>donald trump planned parenthood does do wonder...</td>\n",
       "      <td>0</td>\n",
       "    </tr>\n",
       "    <tr>\n",
       "      <th>2856</th>\n",
       "      <td>michelle obama denounces donald trump in cuny ...</td>\n",
       "      <td>0</td>\n",
       "    </tr>\n",
       "    <tr>\n",
       "      <th>7122</th>\n",
       "      <td>kanye west visits donald trump</td>\n",
       "      <td>0</td>\n",
       "    </tr>\n",
       "    <tr>\n",
       "      <th>31952</th>\n",
       "      <td>donald trump attack me on twitter please</td>\n",
       "      <td>0</td>\n",
       "    </tr>\n",
       "    <tr>\n",
       "      <th>29446</th>\n",
       "      <td>donald trump no obama hillary clinton is unfit...</td>\n",
       "      <td>0</td>\n",
       "    </tr>\n",
       "    <tr>\n",
       "      <th>29000</th>\n",
       "      <td>donald trump taunts ted cruz world class liar ...</td>\n",
       "      <td>0</td>\n",
       "    </tr>\n",
       "    <tr>\n",
       "      <th>5347</th>\n",
       "      <td>hillary clintons new attack on donald trump ch...</td>\n",
       "      <td>0</td>\n",
       "    </tr>\n",
       "    <tr>\n",
       "      <th>18128</th>\n",
       "      <td>watch live donald trump in grand rapids mi</td>\n",
       "      <td>0</td>\n",
       "    </tr>\n",
       "    <tr>\n",
       "      <th>48673</th>\n",
       "      <td>these are the nicknames that chinese people ga...</td>\n",
       "      <td>0</td>\n",
       "    </tr>\n",
       "    <tr>\n",
       "      <th>31090</th>\n",
       "      <td>tj miller mocks donald trump during 2016 criti...</td>\n",
       "      <td>0</td>\n",
       "    </tr>\n",
       "    <tr>\n",
       "      <th>49036</th>\n",
       "      <td>donald trump calls for an investigation into o...</td>\n",
       "      <td>0</td>\n",
       "    </tr>\n",
       "    <tr>\n",
       "      <th>15697</th>\n",
       "      <td>donald trump mocks photoshopped marco rubio ad</td>\n",
       "      <td>0</td>\n",
       "    </tr>\n",
       "    <tr>\n",
       "      <th>47913</th>\n",
       "      <td>donald trump says hes made a lot of sacrifices...</td>\n",
       "      <td>0</td>\n",
       "    </tr>\n",
       "    <tr>\n",
       "      <th>21361</th>\n",
       "      <td>fox drama lucifer donald trump definitely goin...</td>\n",
       "      <td>0</td>\n",
       "    </tr>\n",
       "    <tr>\n",
       "      <th>15018</th>\n",
       "      <td>watch live the inauguration of donald j trump</td>\n",
       "      <td>0</td>\n",
       "    </tr>\n",
       "    <tr>\n",
       "      <th>10335</th>\n",
       "      <td>donald trump returns to bashing fake media</td>\n",
       "      <td>0</td>\n",
       "    </tr>\n",
       "    <tr>\n",
       "      <th>22121</th>\n",
       "      <td>report donald trump to reach gop convention on...</td>\n",
       "      <td>0</td>\n",
       "    </tr>\n",
       "    <tr>\n",
       "      <th>24069</th>\n",
       "      <td>miley cyrus vows to leave us if fking nightmar...</td>\n",
       "      <td>0</td>\n",
       "    </tr>\n",
       "    <tr>\n",
       "      <th>14132</th>\n",
       "      <td>donald trump signs executive actions today the...</td>\n",
       "      <td>0</td>\n",
       "    </tr>\n",
       "    <tr>\n",
       "      <th>15312</th>\n",
       "      <td>donald trump vows prosecution for deeply troub...</td>\n",
       "      <td>0</td>\n",
       "    </tr>\n",
       "    <tr>\n",
       "      <th>26692</th>\n",
       "      <td>donald trump increases favorability rating wit...</td>\n",
       "      <td>0</td>\n",
       "    </tr>\n",
       "    <tr>\n",
       "      <th>7042</th>\n",
       "      <td>where donald trump stands on school choice stu...</td>\n",
       "      <td>0</td>\n",
       "    </tr>\n",
       "    <tr>\n",
       "      <th>36590</th>\n",
       "      <td>joe biden slams donald trump</td>\n",
       "      <td>0</td>\n",
       "    </tr>\n",
       "  </tbody>\n",
       "</table>\n",
       "<p>307 rows × 2 columns</p>\n",
       "</div>"
      ],
      "text/plain": [
       "                                                   title  component\n",
       "35779        is donald trump right about hillary clinton          0\n",
       "16977  panic hollywood 100 celebs pledge to stop dang...          0\n",
       "21171  donald trump making americas energy policy che...          0\n",
       "12310  at boeing donald trump highlights jobs first a...          0\n",
       "21276              in search of donald trump democrats            0\n",
       "4337      cut ties to donald trump big donors urge rnc            0\n",
       "4953   donald trump rex tillerson aleppo your morning...          0\n",
       "4598   donald trump after fits and starts focuses on ...          0\n",
       "22954     donald trump wins massachusetts in a big way            0\n",
       "17084  obama challenges paul ryan and mitch mcconnell...          0\n",
       "19941  sen jeff flake gets 2018 primary challenge for...          0\n",
       "49216  donald trump wins north carolina a pivotal swi...          0\n",
       "11147  california democratic party leader leads fck d...          0\n",
       "31337  donald trump scoffs at golf and grandkids cove...          0\n",
       "7652   donald trump russia rodrigo duterte your thurs...          0\n",
       "20318                   news daily donald j trump live            0\n",
       "9119   donald trump attacks bring team obama out of r...          0\n",
       "27918   news daily donald trump candy carson rafael c...          0\n",
       "15583  donald trump i wont let politicians disarm the...          0\n",
       "18840  donald trump thanks republican delegates for c...          0\n",
       "23567  polls show africanamerican vote for donald tru...          0\n",
       "29897        donald trump misspeaks calls 911  7eleven            0\n",
       "28587  chrissy teigen happy birthday donald trump you...          0\n",
       "19348  rivals activists very angry that donald trump ...          0\n",
       "22799  donald trump john kasich take campaigns to nys...          0\n",
       "22204               watch live donald trump in orlando            0\n",
       "30441  donald trump seizes control of ohio ground gam...          0\n",
       "17530  donald trump jr cruz can only win by bribing t...          0\n",
       "21900     donald rumsfeld donald trump touched a nerve            0\n",
       "46698  donald trump if i lose i dont think you will e...          0\n",
       "...                                                  ...        ...\n",
       "49166  donald trump makes closing argument in unconve...          0\n",
       "10695  outdoor clothing giant patagonia pledging to l...          0\n",
       "6128   donald trump used legally dubious method to av...          0\n",
       "45863  a new national poll just found ted cruz vaulti...          0\n",
       "23225          donald trump immigration is a privilege            0\n",
       "30778  sad leftists protest donald trump election at ...          0\n",
       "16273  donald trump picks iowa gov terry branstad as ...          0\n",
       "20576  donald trump planned parenthood does do wonder...          0\n",
       "2856   michelle obama denounces donald trump in cuny ...          0\n",
       "7122                    kanye west visits donald trump            0\n",
       "31952           donald trump attack me on twitter please          0\n",
       "29446  donald trump no obama hillary clinton is unfit...          0\n",
       "29000  donald trump taunts ted cruz world class liar ...          0\n",
       "5347   hillary clintons new attack on donald trump ch...          0\n",
       "18128       watch live donald trump in grand rapids mi            0\n",
       "48673  these are the nicknames that chinese people ga...          0\n",
       "31090  tj miller mocks donald trump during 2016 criti...          0\n",
       "49036  donald trump calls for an investigation into o...          0\n",
       "15697   donald trump mocks photoshopped marco rubio ad            0\n",
       "47913  donald trump says hes made a lot of sacrifices...          0\n",
       "21361  fox drama lucifer donald trump definitely goin...          0\n",
       "15018    watch live the inauguration of donald j trump            0\n",
       "10335         donald trump returns to bashing fake media          0\n",
       "22121  report donald trump to reach gop convention on...          0\n",
       "24069  miley cyrus vows to leave us if fking nightmar...          0\n",
       "14132  donald trump signs executive actions today the...          0\n",
       "15312  donald trump vows prosecution for deeply troub...          0\n",
       "26692  donald trump increases favorability rating wit...          0\n",
       "7042   where donald trump stands on school choice stu...          0\n",
       "36590                       joe biden slams donald trump          0\n",
       "\n",
       "[307 rows x 2 columns]"
      ]
     },
     "execution_count": 443,
     "metadata": {},
     "output_type": "execute_result"
    }
   ],
   "source": [
    "Component_train10.loc[Component_train10['component']== 0][Component_train10['title'].str.contains('donald')]"
   ]
  },
  {
   "cell_type": "code",
   "execution_count": 444,
   "metadata": {},
   "outputs": [
    {
     "data": {
      "text/plain": [
       "9    1302\n",
       "0     681\n",
       "8     353\n",
       "4     351\n",
       "1     322\n",
       "5     196\n",
       "3     148\n",
       "7     116\n",
       "6      34\n",
       "2      25\n",
       "Name: component, dtype: int64"
      ]
     },
     "execution_count": 444,
     "metadata": {},
     "output_type": "execute_result"
    }
   ],
   "source": [
    "Component_train10.loc[X_train['publication']=='Breitbart', 'component'].value_counts()"
   ]
  },
  {
   "cell_type": "code",
   "execution_count": 445,
   "metadata": {},
   "outputs": [
    {
     "data": {
      "text/plain": [
       "CNN                 78\n",
       "New York Times      36\n",
       "Breitbart           34\n",
       "Business Insider    12\n",
       "Name: publication, dtype: int64"
      ]
     },
     "execution_count": 445,
     "metadata": {},
     "output_type": "execute_result"
    }
   ],
   "source": [
    "X_train.loc[Component_train10['component']== 6,'publication'].value_counts()"
   ]
  },
  {
   "cell_type": "code",
   "execution_count": 446,
   "metadata": {},
   "outputs": [
    {
     "data": {
      "image/png": "[encoded data removed]",
      "text/plain": [
       "<matplotlib.figure.Figure at 0x127b11a58>"
      ]
     },
     "metadata": {},
     "output_type": "display_data"
    }
   ],
   "source": [
    "plt.figure(figsize=(15, 30))\n",
    "plt.subplot(5, 2, 1)\n",
    "Component_train10.loc[Component_train10['title'].str.contains('trump'),'component'].value_counts().plot(kind='bar')\n",
    "plt.title('Trump Mentions per Components')\n",
    "plt.subplot(5, 2, 2)\n",
    "Component_train10.loc[Component_train10['title'].str.contains('donald'),'component'].value_counts().plot(kind='bar')\n",
    "plt.title('Donald Mentions per Components')\n",
    "\n",
    "plt.subplot(5, 2, 3)\n",
    "Component_train10.loc[Component_train10['title'].str.contains('clinton'),'component'].value_counts().plot(kind='bar')\n",
    "plt.title('Clinton Mentions per Components')\n",
    "plt.subplot(5, 2, 4)\n",
    "Component_train10.loc[Component_train10['title'].str.contains('hillary'),'component'].value_counts().plot(kind='bar')\n",
    "plt.title('Hillary Mentions per Components')\n",
    "\n",
    "\n",
    "plt.subplot(5, 2, 5)\n",
    "Component_train10.loc[Component_train10['title'].str.contains('trumps'),'component'].value_counts().plot(kind='bar')\n",
    "plt.title('Trumps Mentions per Components')\n",
    "plt.subplot(5, 2, 6)\n",
    "Component_train10.loc[Component_train10['title'].str.contains('america'),'component'].value_counts().plot(kind='bar')\n",
    "plt.title('America Mentions per Components')\n",
    "\n",
    "plt.subplot(5, 2, 7)\n",
    "Component_train10.loc[Component_train10['title'].str.contains('obama'),'component'].value_counts().plot(kind='bar')\n",
    "plt.title('Obama Mentions per Components')\n",
    "plt.subplot(5, 2, 8)\n",
    "Component_train10.loc[Component_train10['title'].str.contains('obamacare'),'component'].value_counts().plot(kind='bar')\n",
    "plt.title('Obamacare Mentions per Components')\n",
    "\n",
    "plt.subplot(5, 2, 9)\n",
    "Component_train10.loc[Component_train10['title'].str.contains('police'),'component'].value_counts().plot(kind='bar')\n",
    "plt.title('Police Mentions per Components')\n",
    "plt.subplot(5, 2, 10)\n",
    "Component_train10.loc[Component_train10['title'].str.contains('attack'),'component'].value_counts().plot(kind='bar')\n",
    "plt.title('Attack Mentions per Components')\n",
    "\n",
    "\n",
    "plt.show()"
   ]
  },
  {
   "cell_type": "code",
   "execution_count": 447,
   "metadata": {},
   "outputs": [
    {
     "data": {
      "image/png": "[encoded data removed]",
      "text/plain": [
       "<matplotlib.figure.Figure at 0x125dcc898>"
      ]
     },
     "metadata": {},
     "output_type": "display_data"
    }
   ],
   "source": [
    "plt.figure(figsize=(15, 15))\n",
    "plt.subplot(3, 2, 1)\n",
    "Component_train10.loc[X_train['publication']=='CNN', 'component'].value_counts().plot(kind='bar')\n",
    "plt.title('CNN Articles per Components')\n",
    "plt.subplot(3, 2, 2)\n",
    "Component_train10.loc[X_train['publication']=='Atlantic', 'component'].value_counts().plot(kind='bar')\n",
    "plt.title('Atlantic Articles per Components')\n",
    "plt.subplot(3, 2, 3)\n",
    "Component_train10.loc[X_train['publication']=='New York Times', 'component'].value_counts().plot(kind='bar')\n",
    "plt.title('New York Times Articles per Components')\n",
    "plt.subplot(3, 2, 4)\n",
    "Component_train10.loc[X_train['publication']=='Business Insider', 'component'].value_counts().plot(kind='bar')\n",
    "plt.title('Business Insider Articles per Components')\n",
    "plt.subplot(3, 2, 5)\n",
    "Component_train10.loc[X_train['publication']=='Breitbart', 'component'].value_counts().plot(kind='bar')\n",
    "plt.title('Breitbart Articles per Components')\n",
    "plt.show()"
   ]
  },
  {
   "cell_type": "code",
   "execution_count": null,
   "metadata": {
    "collapsed": true
   },
   "outputs": [],
   "source": []
  },
  {
   "cell_type": "code",
   "execution_count": 448,
   "metadata": {
    "collapsed": true
   },
   "outputs": [],
   "source": [
    "### value counts of each components"
   ]
  },
  {
   "cell_type": "code",
   "execution_count": null,
   "metadata": {
    "collapsed": true
   },
   "outputs": [],
   "source": []
  },
  {
   "cell_type": "code",
   "execution_count": 449,
   "metadata": {},
   "outputs": [
    {
     "data": {
      "image/png": "[encoded data removed]",
      "text/plain": [
       "<matplotlib.figure.Figure at 0x133c62128>"
      ]
     },
     "metadata": {},
     "output_type": "display_data"
    }
   ],
   "source": [
    "plt.figure(figsize=(15, 30))\n",
    "plt.subplot(5, 2, 1)\n",
    "Component_train10.loc[(df['year']==2017) & (Component_train10['title'].str.contains('trump')), 'component'].value_counts().plot(kind='bar')\n",
    "plt.title('Trump mentions per Components in 2017')\n",
    "plt.subplot(5, 2, 2)\n",
    "Component_train10.loc[(df['year']==2016) & (Component_train10['title'].str.contains('trump')), 'component'].value_counts().plot(kind='bar')\n",
    "plt.title('Trump mentions per Components in 2016')\n",
    "\n",
    "plt.subplot(5, 2, 3)\n",
    "Component_train10.loc[(df['year']==2017) & (Component_train10['title'].str.contains('clinton')), 'component'].value_counts().plot(kind='bar')\n",
    "plt.title('Clinton mentions per Components in 2017')\n",
    "plt.subplot(5, 2, 4)\n",
    "Component_train10.loc[(df['year']==2016) & (Component_train10['title'].str.contains('clinton')), 'component'].value_counts().plot(kind='bar')\n",
    "plt.title('Clinton mentions per Components in 2016')\n",
    "\n",
    "plt.subplot(5, 2, 5)\n",
    "Component_train10.loc[(df['year']==2017) & (Component_train10['title'].str.contains('obama')), 'component'].value_counts().plot(kind='bar')\n",
    "plt.title('Obama mentions per Components in 2017')\n",
    "plt.subplot(5, 2, 6)\n",
    "Component_train10.loc[(df['year']==2016) & (Component_train10['title'].str.contains('obama')), 'component'].value_counts().plot(kind='bar')\n",
    "plt.title('Obama mentions per Components in 2016')\n",
    "\n",
    "\n",
    "plt.subplot(5, 2, 7)\n",
    "Component_train10.loc[(df['year']==2017) & (Component_train10['title'].str.contains('sanders')), 'component'].value_counts().plot(kind='bar')\n",
    "plt.title('Sanders mentions per Components in 2017')\n",
    "plt.subplot(5, 2, 8)\n",
    "Component_train10.loc[(df['year']==2016) & (Component_train10['title'].str.contains('sanders')), 'component'].value_counts().plot(kind='bar')\n",
    "plt.title('Sanders mentions per Components in 2016')\n",
    "\n",
    "plt.subplot(5, 2, 9)\n",
    "Component_train10.loc[(df['year']==2017) & (Component_train10['title'].str.contains('cruz')), 'component'].value_counts().plot(kind='bar')\n",
    "plt.title('Cruz mentions per Components in 2017')\n",
    "plt.subplot(5, 2, 10)\n",
    "Component_train10.loc[(df['year']==2016) & (Component_train10['title'].str.contains('cruz')), 'component'].value_counts().plot(kind='bar')\n",
    "plt.title('Cruz mentions per Components in 2016')\n",
    "plt.show()"
   ]
  },
  {
   "cell_type": "code",
   "execution_count": null,
   "metadata": {
    "collapsed": true
   },
   "outputs": [],
   "source": []
  },
  {
   "cell_type": "markdown",
   "metadata": {},
   "source": [
    "#### LSA on the titles of the articles  3 articles"
   ]
  },
  {
   "cell_type": "code",
   "execution_count": 450,
   "metadata": {},
   "outputs": [
    {
     "name": "stdout",
     "output_type": "stream",
     "text": [
      "LSA for 3 articles done in 1.6129090000001725 seconds\n",
      "\n",
      "Percent variance captured by all components:  2.9094263238265907\n"
     ]
    }
   ],
   "source": [
    "#Our SVD data reducer.  We are going to reduce the feature space from 84939 to 1000.\n",
    "t0 = time.clock()\n",
    "svd= TruncatedSVD(3)\n",
    "lsa = make_pipeline(svd, Normalizer(copy=False))\n",
    "\n",
    "\n",
    "# Run SVD on the training data, then project the training data.\n",
    "Y_train_lsa3 = lsa.fit_transform(Y_train_tfidf)\n",
    "Y_test_lsa3 = lsa.transform(Y_test_tfidf)\n",
    "\n",
    "print('LSA for 3 articles done in '+'%s seconds'% (time.clock() - t0))\n",
    "\n",
    "variance_explained=svd.explained_variance_ratio_\n",
    "total_variance = variance_explained.sum()\n",
    "print('\\nPercent variance captured by all components: ', (total_variance*100))"
   ]
  },
  {
   "cell_type": "code",
   "execution_count": 451,
   "metadata": {},
   "outputs": [
    {
     "name": "stdout",
     "output_type": "stream",
     "text": [
      "The shape of Y_train_lsa for titles is: (7500, 3)\n",
      "The shape of Y_test_lsa for titles is: (2500, 3)\n"
     ]
    }
   ],
   "source": [
    "print('The shape of Y_train_lsa for titles is:', Y_train_lsa3.shape)\n",
    "print('The shape of Y_test_lsa for titles is:', Y_test_lsa3.shape)"
   ]
  },
  {
   "cell_type": "code",
   "execution_count": 452,
   "metadata": {
    "collapsed": true
   },
   "outputs": [],
   "source": [
    "#What are the topics in the articles looking at the biggest components articles topics.  "
   ]
  },
  {
   "cell_type": "code",
   "execution_count": 453,
   "metadata": {},
   "outputs": [
    {
     "name": "stdout",
     "output_type": "stream",
     "text": [
      "For the Training set:\n",
      "Component 0:\n",
      "32295    0.999989\n",
      "7399     0.999903\n",
      "9830     0.999869\n",
      "Name: 0, dtype: float64\n",
      "Component 1:\n",
      "33160    0.994000\n",
      "33924    0.992679\n",
      "46248    0.991060\n",
      "Name: 1, dtype: float64\n",
      "Component 2:\n",
      "4793     0.998797\n",
      "47668    0.995831\n",
      "46690    0.994248\n",
      "Name: 2, dtype: float64\n",
      "\n",
      "For the Test set:\n",
      "Component 0:\n",
      "4510     0.999876\n",
      "21402    0.999831\n",
      "28595    0.999700\n",
      "Name: 0, dtype: float64\n",
      "Component 1:\n",
      "36330    0.995026\n",
      "35617    0.994310\n",
      "46597    0.987889\n",
      "Name: 1, dtype: float64\n",
      "Component 2:\n",
      "40437    0.991246\n",
      "32002    0.989934\n",
      "19199    0.989649\n",
      "Name: 2, dtype: float64\n"
     ]
    }
   ],
   "source": [
    "#Looking at what sorts of titles our solution considers similar, for the first five identified topics\n",
    "print('For the Training set:')\n",
    "titles1_by_component2=pd.DataFrame(Y_train_lsa3,index=Y_train.index)\n",
    "for i in range(3):\n",
    "    print('Component {}:'.format(i))\n",
    "    print(titles1_by_component2.loc[:,i].sort_values(ascending=False)[0:3])\n",
    "    \n",
    "print('\\nFor the Test set:')    \n",
    "\n",
    "titles2_by_component2=pd.DataFrame(Y_test_lsa3,index=Y_test.index)\n",
    "for i in range(3):\n",
    "    print('Component {}:'.format(i))\n",
    "    print(titles2_by_component2.loc[:,i].sort_values(ascending=False)[0:3])"
   ]
  },
  {
   "cell_type": "code",
   "execution_count": 454,
   "metadata": {},
   "outputs": [
    {
     "name": "stdout",
     "output_type": "stream",
     "text": [
      "The Components Value per Articles are:\n"
     ]
    },
    {
     "data": {
      "text/html": [
       "<div>\n",
       "<style>\n",
       "    .dataframe thead tr:only-child th {\n",
       "        text-align: right;\n",
       "    }\n",
       "\n",
       "    .dataframe thead th {\n",
       "        text-align: left;\n",
       "    }\n",
       "\n",
       "    .dataframe tbody tr th {\n",
       "        vertical-align: top;\n",
       "    }\n",
       "</style>\n",
       "<table border=\"1\" class=\"dataframe\">\n",
       "  <thead>\n",
       "    <tr style=\"text-align: right;\">\n",
       "      <th></th>\n",
       "      <th>0</th>\n",
       "      <th>1</th>\n",
       "      <th>2</th>\n",
       "    </tr>\n",
       "  </thead>\n",
       "  <tbody>\n",
       "    <tr>\n",
       "      <th>27396</th>\n",
       "      <td>0.862915</td>\n",
       "      <td>0.346258</td>\n",
       "      <td>-0.368081</td>\n",
       "    </tr>\n",
       "    <tr>\n",
       "      <th>49747</th>\n",
       "      <td>0.531014</td>\n",
       "      <td>0.847255</td>\n",
       "      <td>0.013515</td>\n",
       "    </tr>\n",
       "    <tr>\n",
       "      <th>26513</th>\n",
       "      <td>0.532046</td>\n",
       "      <td>0.809791</td>\n",
       "      <td>0.247317</td>\n",
       "    </tr>\n",
       "    <tr>\n",
       "      <th>19619</th>\n",
       "      <td>0.517324</td>\n",
       "      <td>0.794489</td>\n",
       "      <td>-0.318063</td>\n",
       "    </tr>\n",
       "    <tr>\n",
       "      <th>1073</th>\n",
       "      <td>0.960454</td>\n",
       "      <td>0.267125</td>\n",
       "      <td>0.078557</td>\n",
       "    </tr>\n",
       "  </tbody>\n",
       "</table>\n",
       "</div>"
      ],
      "text/plain": [
       "              0         1         2\n",
       "27396  0.862915  0.346258 -0.368081\n",
       "49747  0.531014  0.847255  0.013515\n",
       "26513  0.532046  0.809791  0.247317\n",
       "19619  0.517324  0.794489 -0.318063\n",
       "1073   0.960454  0.267125  0.078557"
      ]
     },
     "execution_count": 454,
     "metadata": {},
     "output_type": "execute_result"
    }
   ],
   "source": [
    "print('The Components Value per Articles are:')\n",
    "titles1_by_component2.head()"
   ]
  },
  {
   "cell_type": "code",
   "execution_count": 455,
   "metadata": {},
   "outputs": [
    {
     "data": {
      "image/png": "[encoded data removed]",
      "text/plain": [
       "<matplotlib.figure.Figure at 0x123869080>"
      ]
     },
     "metadata": {},
     "output_type": "display_data"
    }
   ],
   "source": [
    "plt.figure(figsize=(10, 5))\n",
    "plt.boxplot([titles1_by_component2[0].values, titles1_by_component2[1].values, titles1_by_component2[2].values])\n",
    "plt.show()"
   ]
  },
  {
   "cell_type": "code",
   "execution_count": 456,
   "metadata": {},
   "outputs": [
    {
     "data": {
      "image/png": "[encoded data removed]",
      "text/plain": [
       "<matplotlib.figure.Figure at 0x133c624a8>"
      ]
     },
     "metadata": {},
     "output_type": "display_data"
    }
   ],
   "source": [
    "plt.figure(figsize=(15, 15))\n",
    "plt.subplot(3, 2, 1)\n",
    "plt.hist(titles2_by_component[0])\n",
    "plt.title('Component 0 Distribution in Training Set')\n",
    "plt.subplot(3, 2, 2)\n",
    "plt.hist(titles2_by_component[1])\n",
    "plt.title('Component 1 Distribution in Training Set')\n",
    "plt.subplot(3, 2, 3)\n",
    "plt.hist(titles1_by_component[2])\n",
    "plt.title('Component 2 Distribution in Training Set')\n",
    "plt.show()"
   ]
  },
  {
   "cell_type": "code",
   "execution_count": 457,
   "metadata": {
    "collapsed": true
   },
   "outputs": [],
   "source": [
    "Component_train3 = pd.DataFrame()\n",
    "Component_train3['title'] = Y_train\n",
    "Component_train3['component'] = titles1_by_component2.idxmax(axis=1)"
   ]
  },
  {
   "cell_type": "code",
   "execution_count": 458,
   "metadata": {
    "collapsed": true
   },
   "outputs": [],
   "source": [
    "Component_test3 = pd.DataFrame()\n",
    "Component_test3['title'] = Y_test\n",
    "Component_test3['component'] = titles2_by_component2.idxmax(axis=1)"
   ]
  },
  {
   "cell_type": "code",
   "execution_count": 459,
   "metadata": {
    "collapsed": true
   },
   "outputs": [],
   "source": [
    "Y_train_component3 = Component_train3['component']\n",
    "Y_test_component3 = Component_test3['component']"
   ]
  },
  {
   "cell_type": "code",
   "execution_count": 460,
   "metadata": {},
   "outputs": [
    {
     "data": {
      "image/png": "[encoded data removed]",
      "text/plain": [
       "<matplotlib.figure.Figure at 0x1208cf208>"
      ]
     },
     "metadata": {},
     "output_type": "display_data"
    }
   ],
   "source": [
    "plt.figure(figsize=(10, 5))\n",
    "Component_train3.component.value_counts().plot(kind='bar')\n",
    "plt.title('Articles count per Components Assignment')\n",
    "plt.show()"
   ]
  },
  {
   "cell_type": "code",
   "execution_count": 461,
   "metadata": {},
   "outputs": [
    {
     "data": {
      "text/html": [
       "<div>\n",
       "<style>\n",
       "    .dataframe thead tr:only-child th {\n",
       "        text-align: right;\n",
       "    }\n",
       "\n",
       "    .dataframe thead th {\n",
       "        text-align: left;\n",
       "    }\n",
       "\n",
       "    .dataframe tbody tr th {\n",
       "        vertical-align: top;\n",
       "    }\n",
       "</style>\n",
       "<table border=\"1\" class=\"dataframe\">\n",
       "  <thead>\n",
       "    <tr style=\"text-align: right;\">\n",
       "      <th></th>\n",
       "      <th>title</th>\n",
       "      <th>component</th>\n",
       "    </tr>\n",
       "  </thead>\n",
       "  <tbody>\n",
       "    <tr>\n",
       "      <th>27396</th>\n",
       "      <td>trump warns hillary wants to abolish the secon...</td>\n",
       "      <td>0</td>\n",
       "    </tr>\n",
       "    <tr>\n",
       "      <th>49747</th>\n",
       "      <td>the 11 best laptops of 2016</td>\n",
       "      <td>1</td>\n",
       "    </tr>\n",
       "    <tr>\n",
       "      <th>26513</th>\n",
       "      <td>team of grifters tim kaine reinforces crooked ...</td>\n",
       "      <td>1</td>\n",
       "    </tr>\n",
       "    <tr>\n",
       "      <th>19619</th>\n",
       "      <td>investigation migrants smuggled into uk posing...</td>\n",
       "      <td>1</td>\n",
       "    </tr>\n",
       "    <tr>\n",
       "      <th>1073</th>\n",
       "      <td>a long way from mexico company bets china has ...</td>\n",
       "      <td>0</td>\n",
       "    </tr>\n",
       "  </tbody>\n",
       "</table>\n",
       "</div>"
      ],
      "text/plain": [
       "                                                   title  component\n",
       "27396  trump warns hillary wants to abolish the secon...          0\n",
       "49747                        the 11 best laptops of 2016          1\n",
       "26513  team of grifters tim kaine reinforces crooked ...          1\n",
       "19619  investigation migrants smuggled into uk posing...          1\n",
       "1073   a long way from mexico company bets china has ...          0"
      ]
     },
     "metadata": {},
     "output_type": "display_data"
    }
   ],
   "source": [
    "display(Component_train3.head())"
   ]
  },
  {
   "cell_type": "code",
   "execution_count": 462,
   "metadata": {},
   "outputs": [
    {
     "data": {
      "text/html": [
       "<div>\n",
       "<style>\n",
       "    .dataframe thead tr:only-child th {\n",
       "        text-align: right;\n",
       "    }\n",
       "\n",
       "    .dataframe thead th {\n",
       "        text-align: left;\n",
       "    }\n",
       "\n",
       "    .dataframe tbody tr th {\n",
       "        vertical-align: top;\n",
       "    }\n",
       "</style>\n",
       "<table border=\"1\" class=\"dataframe\">\n",
       "  <thead>\n",
       "    <tr style=\"text-align: right;\">\n",
       "      <th></th>\n",
       "      <th>title</th>\n",
       "      <th>component</th>\n",
       "    </tr>\n",
       "  </thead>\n",
       "  <tbody>\n",
       "    <tr>\n",
       "      <th>27594</th>\n",
       "      <td>clinton vp pick tim kaines islamist ties</td>\n",
       "      <td>1</td>\n",
       "    </tr>\n",
       "    <tr>\n",
       "      <th>21699</th>\n",
       "      <td>report donald trump no show at colorado state ...</td>\n",
       "      <td>0</td>\n",
       "    </tr>\n",
       "    <tr>\n",
       "      <th>40577</th>\n",
       "      <td>generous kidney donor triggers 6 transplants</td>\n",
       "      <td>0</td>\n",
       "    </tr>\n",
       "    <tr>\n",
       "      <th>28470</th>\n",
       "      <td>zumwalt fifteen years after 911 what have we l...</td>\n",
       "      <td>1</td>\n",
       "    </tr>\n",
       "    <tr>\n",
       "      <th>24395</th>\n",
       "      <td>texas prisoners bust out of jail  to save jailer</td>\n",
       "      <td>1</td>\n",
       "    </tr>\n",
       "  </tbody>\n",
       "</table>\n",
       "</div>"
      ],
      "text/plain": [
       "                                                   title  component\n",
       "27594         clinton vp pick tim kaines islamist ties            1\n",
       "21699  report donald trump no show at colorado state ...          0\n",
       "40577       generous kidney donor triggers 6 transplants          0\n",
       "28470  zumwalt fifteen years after 911 what have we l...          1\n",
       "24395   texas prisoners bust out of jail  to save jailer          1"
      ]
     },
     "metadata": {},
     "output_type": "display_data"
    }
   ],
   "source": [
    "display(Component_test3.head())"
   ]
  },
  {
   "cell_type": "code",
   "execution_count": 463,
   "metadata": {
    "code_folding": []
   },
   "outputs": [
    {
     "name": "stdout",
     "output_type": "stream",
     "text": [
      "\n",
      "Articles in Component  0\n",
      "                                                   title  component\n",
      "32295  as mattis prepares for asia visit north korea ...          0\n",
      "7399   antnio guterres pledges to help vulnerable as ...          0\n",
      "9830   rep pete roskam post ryancare congress must st...          0\n",
      "\n",
      "Articles in Component  1\n",
      "                                                   title  component\n",
      "33160           the disease that could bankrupt medicare          1\n",
      "33924                 comedian charlie murphy dies at 57          1\n",
      "46248  retailers are clamoring over a specific kind o...          1\n",
      "\n",
      "Articles in Component  2\n",
      "                                                   title  component\n",
      "4793                               we are orphans here            2\n",
      "47668  the mclaren 675lt is the hightech supercar for...          2\n",
      "46690         how to be assertive rather than aggressive          2\n"
     ]
    }
   ],
   "source": [
    "for i in range(3):\n",
    "    print(\"\\nArticles in Component \", i)\n",
    "    title_index = titles1_by_component2.loc[:,i].sort_values(ascending=False)[0:3].index\n",
    "    print(Component_train3.loc[title_index,['title','component']])"
   ]
  },
  {
   "cell_type": "code",
   "execution_count": 464,
   "metadata": {
    "collapsed": true
   },
   "outputs": [],
   "source": [
    "## This is noise so it is too few topics so a lot of different articles are put together   "
   ]
  },
  {
   "cell_type": "code",
   "execution_count": 465,
   "metadata": {
    "scrolled": true
   },
   "outputs": [
    {
     "name": "stdout",
     "output_type": "stream",
     "text": [
      "\n",
      "The shape of Y_train_tfidf for articles titles is: (7500, 338978)\n"
     ]
    },
    {
     "data": {
      "text/plain": [
       "0    5230\n",
       "1    1833\n",
       "2     437\n",
       "Name: component, dtype: int64"
      ]
     },
     "execution_count": 465,
     "metadata": {},
     "output_type": "execute_result"
    }
   ],
   "source": [
    "print('\\nThe shape of Y_train_tfidf for articles titles is:', Y_train_tfidf.shape)\n",
    "Component_train3.component.value_counts()"
   ]
  },
  {
   "cell_type": "markdown",
   "metadata": {},
   "source": [
    "Component 0 has the most articles       \n",
    "The articles can be seen as well distributed between the different Components. "
   ]
  },
  {
   "cell_type": "code",
   "execution_count": 466,
   "metadata": {},
   "outputs": [
    {
     "name": "stdout",
     "output_type": "stream",
     "text": [
      "Top terms per components:\n",
      "\n",
      "tf_vectorizer on done in 0.26902400000017224 seconds\n",
      "\n",
      "Topics in Component  0\n",
      "['cruz', 'donald', 'gop', 'house', 'obama', 'president', 'report', 'says', 'trump', 'white']\n",
      "\n",
      "tf_vectorizer on done in 0.36049100000013823 seconds\n",
      "\n",
      "Topics in Component  1\n",
      "['campaign', 'clinton', 'facts', 'hillary', 'new', 'police', 'sanders', 'state', 'years', 'york']\n",
      "\n",
      "tf_vectorizer on done in 0.384021999999959 seconds\n",
      "\n",
      "Topics in Component  2\n",
      "['america', 'ban', 'donald', 'election', 'immigration', 'new', 'speech', 'trumps', 'twitter', 'wall']\n"
     ]
    }
   ],
   "source": [
    "tf_vectorizer = CountVectorizer(max_features=10,\n",
    "                                stop_words='english')\n",
    "t0 = time.clock()\n",
    "\n",
    "print(\"Top terms per components:\") \n",
    "for i in range(3):\n",
    "    tf = tf_vectorizer.fit_transform(Component_train3.loc[Component_train3['component'] == i,'title'])\n",
    "    print('\\ntf_vectorizer on done in '+'%s seconds'% (time.clock() - t0))\n",
    "    print(\"\\nTopics in Component \", i)\n",
    "    tf_feature_names = tf_vectorizer.get_feature_names()\n",
    "    print(tf_feature_names)\n"
   ]
  },
  {
   "cell_type": "markdown",
   "metadata": {},
   "source": [
    "\n",
    "tf_vectorizer on done in 0.1899660000000125 seconds\n",
    "\n",
    "Topics in Component  1\n",
    "['campaign', 'clinton', 'facts', 'fast', 'hillary', 'new', 'sanders', 'state', 'years', 'york']\n",
    "\n",
    "tf_vectorizer on done in 0.21240100000001405 seconds\n",
    "\n",
    "Topics in Component  2\n",
    "['ban', 'donald', 'election', 'facebook', 'immigration', 'new', 'speech', 'trumps', 'twitter', 'wall']"
   ]
  },
  {
   "cell_type": "markdown",
   "metadata": {},
   "source": [
    "From this there are a few things we can infer from the top 3 Components for instance:   \n",
    "\n",
    "In Component 0:    \n",
    "Most of the articles are are probably about __Trump During and after Elections__    \n",
    "since words like: __'cruz', 'donald', 'gop', 'house', 'obama', 'police', 'report', 'says', 'trump', 'white'__ seem to be the most reccurent.    \n",
    "There seems to be a lot of articles about Donald Trump and Barack Obama during the campaign and after the elections.    \n",
    "Some are about Obama's polycies and them being attacked by Trump and Ted Cruz and some about his decisions.\n",
    "Others are about Donald Trump during the campaign and after he became president of the US.  \n",
    "Mostly about the repeal of Obamacare \n",
    "\n",
    " * __Trump__ mentioned 1232 times in Component 0\n",
    " * __Donald__ mentioned 318 times in component 0\n",
    "\n",
    "In Component 1:    \n",
    "Most of the articles are are probably about  __Hilary Clinton During and after Elections__     \n",
    "campaign election focus on the Democratic side since words like: __'campaign', 'clinton', 'facts', 'fast', 'hillary', 'new', 'sanders', 'state', 'years', 'york'__ to be the most reccurent.   \n",
    "Here there seems to about the Primary campaign election focus on the Democratic side because most of the articles talk about Bernie Sanders vs Hillary Clinton. \n",
    "There is clearly a bigger emphasis on Hillary Clinon with reference to the FBI investigations, and critics of the Clinton Campaign.  \n",
    " * __Clinton__ mentioned 314 times in Component 1\n",
    " * __Hillary__ mentioned 239 times in component 1\n",
    "\n",
    "In Component 2:    \n",
    "Most of the articles are are probably about __ Trumps and other topics__ \n",
    "\n",
    "\n",
    "since words like: __'ban', 'donald', 'election', 'facebook', 'immigration', 'new', 'speech', 'trumps', 'twitter', 'wall'__ seem to be the most reccurent.    \n",
    "While Most of the topics seems to be about Trump presidency and trying to implement his policy,like the travel ban, building the wall and his immagration stance, there are some articles that still relate to the Primary campaign.  \n",
    "This contains a larger fraction of the articles are topics that my model is not able to seperate out.\n",
    " * __trumps__ mentioned 259 times in Component 2\n",
    " "
   ]
  },
  {
   "cell_type": "code",
   "execution_count": 467,
   "metadata": {},
   "outputs": [
    {
     "data": {
      "text/plain": [
       "0    61\n",
       "2    11\n",
       "1     9\n",
       "Name: component, dtype: int64"
      ]
     },
     "execution_count": 467,
     "metadata": {},
     "output_type": "execute_result"
    }
   ],
   "source": [
    "Component_train3.loc[Component_train3['title'].str.contains('wall'),'component'].value_counts()"
   ]
  },
  {
   "cell_type": "code",
   "execution_count": 468,
   "metadata": {},
   "outputs": [
    {
     "data": {
      "text/html": [
       "<div>\n",
       "<style>\n",
       "    .dataframe thead tr:only-child th {\n",
       "        text-align: right;\n",
       "    }\n",
       "\n",
       "    .dataframe thead th {\n",
       "        text-align: left;\n",
       "    }\n",
       "\n",
       "    .dataframe tbody tr th {\n",
       "        vertical-align: top;\n",
       "    }\n",
       "</style>\n",
       "<table border=\"1\" class=\"dataframe\">\n",
       "  <thead>\n",
       "    <tr style=\"text-align: right;\">\n",
       "      <th></th>\n",
       "      <th>title</th>\n",
       "      <th>component</th>\n",
       "    </tr>\n",
       "  </thead>\n",
       "  <tbody>\n",
       "    <tr>\n",
       "      <th>39947</th>\n",
       "      <td>facebook parenting can backfire</td>\n",
       "      <td>2</td>\n",
       "    </tr>\n",
       "    <tr>\n",
       "      <th>45586</th>\n",
       "      <td>donald trumps seemingly crazy claim about amer...</td>\n",
       "      <td>2</td>\n",
       "    </tr>\n",
       "    <tr>\n",
       "      <th>30436</th>\n",
       "      <td>cpac organizers call for congressional action ...</td>\n",
       "      <td>2</td>\n",
       "    </tr>\n",
       "    <tr>\n",
       "      <th>30261</th>\n",
       "      <td>facebook bans admin who supported trumps immig...</td>\n",
       "      <td>2</td>\n",
       "    </tr>\n",
       "    <tr>\n",
       "      <th>28778</th>\n",
       "      <td>trumps facebook interaction more than doubles ...</td>\n",
       "      <td>2</td>\n",
       "    </tr>\n",
       "    <tr>\n",
       "      <th>19036</th>\n",
       "      <td>facebook sued for scanning user messages for a...</td>\n",
       "      <td>2</td>\n",
       "    </tr>\n",
       "    <tr>\n",
       "      <th>49254</th>\n",
       "      <td>facebook is being blamed for trumps election  ...</td>\n",
       "      <td>2</td>\n",
       "    </tr>\n",
       "    <tr>\n",
       "      <th>49132</th>\n",
       "      <td>now facebook plans to eat the 500 billion tele...</td>\n",
       "      <td>2</td>\n",
       "    </tr>\n",
       "    <tr>\n",
       "      <th>13484</th>\n",
       "      <td>soros board member create government version o...</td>\n",
       "      <td>2</td>\n",
       "    </tr>\n",
       "  </tbody>\n",
       "</table>\n",
       "</div>"
      ],
      "text/plain": [
       "                                                   title  component\n",
       "39947                    facebook parenting can backfire          2\n",
       "45586  donald trumps seemingly crazy claim about amer...          2\n",
       "30436  cpac organizers call for congressional action ...          2\n",
       "30261  facebook bans admin who supported trumps immig...          2\n",
       "28778  trumps facebook interaction more than doubles ...          2\n",
       "19036  facebook sued for scanning user messages for a...          2\n",
       "49254  facebook is being blamed for trumps election  ...          2\n",
       "49132  now facebook plans to eat the 500 billion tele...          2\n",
       "13484  soros board member create government version o...          2"
      ]
     },
     "execution_count": 468,
     "metadata": {},
     "output_type": "execute_result"
    }
   ],
   "source": [
    "Component_train3.loc[Component_train3['component']== 2][Component_train3['title'].str.contains('facebook')]"
   ]
  },
  {
   "cell_type": "code",
   "execution_count": 469,
   "metadata": {},
   "outputs": [
    {
     "data": {
      "text/plain": [
       "0    1150\n",
       "1     466\n",
       "2     106\n",
       "Name: component, dtype: int64"
      ]
     },
     "execution_count": 469,
     "metadata": {},
     "output_type": "execute_result"
    }
   ],
   "source": [
    "Component_train3.loc[X_train['publication']=='CNN', 'component'].value_counts()"
   ]
  },
  {
   "cell_type": "code",
   "execution_count": 470,
   "metadata": {},
   "outputs": [
    {
     "data": {
      "text/plain": [
       "Breitbart           809\n",
       "CNN                 466\n",
       "New York Times      306\n",
       "Business Insider    242\n",
       "Atlantic             10\n",
       "Name: publication, dtype: int64"
      ]
     },
     "execution_count": 470,
     "metadata": {},
     "output_type": "execute_result"
    }
   ],
   "source": [
    "X_train.loc[Component_train3['component']== 1,'publication'].value_counts()"
   ]
  },
  {
   "cell_type": "code",
   "execution_count": 471,
   "metadata": {
    "collapsed": true
   },
   "outputs": [],
   "source": [
    "#Search other words and see if what topics these are in as way to narrow down topics. "
   ]
  },
  {
   "cell_type": "code",
   "execution_count": 472,
   "metadata": {},
   "outputs": [
    {
     "data": {
      "image/png": "[encoded data removed]",
      "text/plain": [
       "<matplotlib.figure.Figure at 0x1265c2be0>"
      ]
     },
     "metadata": {},
     "output_type": "display_data"
    }
   ],
   "source": [
    "plt.figure(figsize=(15, 15))\n",
    "plt.subplot(3, 2, 1)\n",
    "Component_train3.loc[Component_train3['title'].str.contains('trump'),'component'].value_counts().plot(kind='bar')\n",
    "plt.title('Trump Mentions per Components')\n",
    "plt.subplot(3, 2, 2)\n",
    "Component_train3.loc[Component_train3['title'].str.contains('donald'),'component'].value_counts().plot(kind='bar')\n",
    "plt.title('Donald Mentions per Components')\n",
    "\n",
    "\n",
    "plt.subplot(3, 2, 3)\n",
    "Component_train3.loc[Component_train3['title'].str.contains('hillary'),'component'].value_counts().plot(kind='bar')\n",
    "plt.title('hillary Mentions per Components')\n",
    "plt.subplot(3, 2, 4)\n",
    "Component_train3.loc[Component_train3['title'].str.contains('clinton'),'component'].value_counts().plot(kind='bar')\n",
    "plt.title('Clinton Mentions per Components')\n",
    "\n",
    "\n",
    "plt.subplot(3, 2, 5)\n",
    "Component_train3.loc[Component_train3['title'].str.contains('trumps'),'component'].value_counts().plot(kind='bar')\n",
    "plt.title('Trumps Mentions per Components')\n",
    "plt.subplot(3, 2, 6)\n",
    "Component_train3.loc[Component_train3['title'].str.contains('twitter'),'component'].value_counts().plot(kind='bar')\n",
    "plt.title('Twitter Mentions per Components')\n",
    "plt.show()"
   ]
  },
  {
   "cell_type": "code",
   "execution_count": 473,
   "metadata": {},
   "outputs": [
    {
     "data": {
      "image/png": "[encoded data removed]",
      "text/plain": [
       "<matplotlib.figure.Figure at 0x134d86dd8>"
      ]
     },
     "metadata": {},
     "output_type": "display_data"
    }
   ],
   "source": [
    "plt.figure(figsize=(15, 15))\n",
    "plt.subplot(3, 2, 1)\n",
    "Component_train3.loc[X_train['publication']=='CNN', 'component'].value_counts().plot(kind='bar')\n",
    "plt.title('CNN Articles per Components')\n",
    "plt.subplot(3, 2, 2)\n",
    "Component_train3.loc[X_train['publication']=='Atlantic', 'component'].value_counts().plot(kind='bar')\n",
    "plt.title('Atlantic Articles per Components')\n",
    "plt.subplot(3, 2, 3)\n",
    "Component_train3.loc[X_train['publication']=='New York Times', 'component'].value_counts().plot(kind='bar')\n",
    "plt.title('New York Times Articles per Components')\n",
    "plt.subplot(3, 2, 4)\n",
    "Component_train3.loc[X_train['publication']=='Business Insider', 'component'].value_counts().plot(kind='bar')\n",
    "plt.title('Business Insider Articles per Components')\n",
    "plt.subplot(3, 2, 5)\n",
    "Component_train3.loc[X_train['publication']=='Breitbart', 'component'].value_counts().plot(kind='bar')\n",
    "plt.title('Breitbart Articles per Components')\n",
    "plt.show()"
   ]
  },
  {
   "cell_type": "code",
   "execution_count": 474,
   "metadata": {},
   "outputs": [
    {
     "data": {
      "image/png": "[encoded data removed]",
      "text/plain": [
       "<matplotlib.figure.Figure at 0x134d86438>"
      ]
     },
     "metadata": {},
     "output_type": "display_data"
    }
   ],
   "source": [
    "plt.figure(figsize=(15, 20))\n",
    "plt.subplot(3, 2, 1)\n",
    "Component_train3.loc[(df['year']==2017) & (Component_train3['title'].str.contains('trump')), 'component'].value_counts().plot(kind='bar')\n",
    "plt.title('Trump mentions per Components in 2017')\n",
    "plt.subplot(3, 2, 2)\n",
    "Component_train3.loc[(df['year']==2016) & (Component_train3['title'].str.contains('trump')), 'component'].value_counts().plot(kind='bar')\n",
    "plt.title('Trump mentions per Components in 2016')\n",
    "\n",
    "\n",
    "plt.subplot(3, 2, 3)\n",
    "Component_train3.loc[(df['year']==2017) & (Component_train3['title'].str.contains('clinton')), 'component'].value_counts().plot(kind='bar')\n",
    "plt.title('clinton mentions per Components in 2017')\n",
    "plt.subplot(3, 2, 4)\n",
    "Component_train3.loc[(df['year']==2016) & (Component_train3['title'].str.contains('clinton')), 'component'].value_counts().plot(kind='bar')\n",
    "plt.title('clinton mentions per Components in 2016')\n",
    "\n",
    "plt.subplot(3, 2, 5)\n",
    "Component_train3.loc[(df['year']==2017) & (Component_train3['title'].str.contains('trumps')), 'component'].value_counts().plot(kind='bar')\n",
    "plt.title('trumps mentions per Components in 2017')\n",
    "plt.subplot(3, 2, 6)\n",
    "Component_train3.loc[(df['year']==2016) & (Component_train3['title'].str.contains('trumps')), 'component'].value_counts().plot(kind='bar')\n",
    "plt.title('trumps mentions per Components in 2016')\n",
    "plt.show()"
   ]
  },
  {
   "cell_type": "code",
   "execution_count": 475,
   "metadata": {
    "collapsed": true
   },
   "outputs": [],
   "source": [
    "#Component_train3.loc[Component_train3['component']== 2][(Component_train3['title'].str.contains('trumps'))&& (Component_train3['title'].str.contains('clinton'))]"
   ]
  },
  {
   "cell_type": "code",
   "execution_count": 476,
   "metadata": {},
   "outputs": [
    {
     "data": {
      "image/png": "[encoded data removed]",
      "text/plain": [
       "<matplotlib.figure.Figure at 0x124310940>"
      ]
     },
     "metadata": {},
     "output_type": "display_data"
    }
   ],
   "source": [
    "plt.figure(figsize=(15, 10))\n",
    "plt.subplot(2, 2, 1)\n",
    "Component_train3.loc[(Component_train3['title'].str.contains('trump')) & (Component_train3['title'].str.contains('clinton')), 'component'].value_counts().plot(kind='bar')\n",
    "plt.title('Trump & Clinton mentions per Components')\n",
    "plt.subplot(2, 2, 2)\n",
    "Component_train3.loc[(Component_train3['title'].str.contains('trump')) & (Component_train3['title'].str.contains('obama')), 'component'].value_counts().plot(kind='bar')\n",
    "plt.title('Trump & Obama mentions per Components')\n",
    "plt.show()"
   ]
  },
  {
   "cell_type": "code",
   "execution_count": 477,
   "metadata": {},
   "outputs": [
    {
     "data": {
      "text/plain": [
       "0    5230\n",
       "1    1833\n",
       "2     437\n",
       "Name: component, dtype: int64"
      ]
     },
     "execution_count": 477,
     "metadata": {},
     "output_type": "execute_result"
    }
   ],
   "source": [
    "Component_train3['component'].value_counts()"
   ]
  },
  {
   "cell_type": "markdown",
   "metadata": {},
   "source": [
    "## Random Forest to check what's going "
   ]
  },
  {
   "cell_type": "code",
   "execution_count": 102,
   "metadata": {
    "collapsed": true
   },
   "outputs": [],
   "source": [
    "from sklearn import ensemble\n",
    "\n",
    "from sklearn.metrics import classification_report,confusion_matrix\n",
    "from sklearn.model_selection import cross_val_score\n",
    "from sklearn.model_selection import cross_val_predict"
   ]
  },
  {
   "cell_type": "markdown",
   "metadata": {},
   "source": [
    "### Random Forest with 10 articles"
   ]
  },
  {
   "cell_type": "markdown",
   "metadata": {},
   "source": [
    "We are going to boost the weight of the components with the least amount of articles.  "
   ]
  },
  {
   "cell_type": "code",
   "execution_count": 103,
   "metadata": {},
   "outputs": [
    {
     "name": "stdout",
     "output_type": "stream",
     "text": [
      "Runtime for Random Forest: 14.207149999999999 seconds\n",
      "\n",
      "Score on  Training Set: 0.5577333333333333\n",
      "\n",
      "Score on  Test Set: 0.4624\n",
      "\n",
      "Cross validation results: 48.014% ± 0.397% \n",
      " \n",
      " [0.47571524 0.47571524 0.4823451  0.48598131 0.48093645]\n"
     ]
    }
   ],
   "source": [
    "# Set the start time for execution speed.\n",
    "import time\n",
    "start_time = time.clock() \n",
    "#weighting = {0:1,1:3,2:2,3:5,4:1,5:5,6:6,7:1,8:7,9:5}\n",
    "\n",
    "rfc = ensemble.RandomForestClassifier(max_depth=5,max_features='auto', n_estimators=1500,\n",
    "                                      class_weight = \"balanced\")\n",
    "\n",
    "rfc.fit(X_train_tfidf, Y_train_component10)\n",
    "\n",
    "\n",
    "print('Runtime for Random Forest: '+'%s seconds'% (time.clock() - start_time)) # End time for execution speed.\n",
    "\n",
    "print('\\nScore on  Training Set: ' + str(rfc.score(X_train_tfidf, Y_train_component10)))\n",
    "\n",
    "print('\\nScore on  Test Set: ' + str(rfc.score(X_test_tfidf, Y_test_component10)))\n",
    "\n",
    "cv_train = cross_val_score(rfc, X_train_tfidf, Y_train_component10, cv=5)\n",
    "\n",
    "### Put this with the Cros validation score.\n",
    "plusminus = u\"\\u00B1\"\n",
    " \n",
    "print('\\nCross validation results: {:.3%} {} {:.3%} \\n \\n {}'.format(cv_train.mean(), plusminus, cv_train.std(), cv_train))"
   ]
  },
  {
   "cell_type": "markdown",
   "metadata": {},
   "source": [
    "__max_depth=25,max_features='auto', n_estimators=200,class_weight = None__   \n",
    "\n",
    "Runtime for Random Forest: 31.428160999999932 seconds   \n",
    "\n",
    "Score on  Training Set: 0.6030666666666666   \n",
    "\n",
    "Score on  Test Set: 0.4548   \n",
    "\n",
    "Cross validation results: 46.998% ± 0.868%    \n",
    " \n",
    " [0.47704591 0.4823686  0.46768821 0.46461949 0.45819398]       \n",
    "\n",
    "__weighting = {0:1,1:3,2:2,3:5,4:1,5:5,6:6,7:1,8:7,9:5}    \n",
    "max_depth=25,max_features='auto', n_estimators=200,class_weight = weighting__     \n",
    "\n",
    "Runtime for Random Forest: 21.444267999999965 seconds    \n",
    "\n",
    "Score on  Training Set: 0.4552    \n",
    "\n",
    "Score on  Test Set: 0.3804     \n",
    "\n",
    "Cross validation results: 39.547% ± 0.291%      \n",
    " \n",
    " [0.39853626 0.39587492 0.3904064  0.39452603 0.39799331] \n",
    "\n",
    " \n",
    "__max_depth=25,max_features='auto', n_estimators=200, class_weight = \"balanced\"__   \n",
    " \n",
    "Runtime for Random Forest: 13.965193999999997 seconds    \n",
    "\n",
    "Score on  Training Set: 0.8032    \n",
    "\n",
    "Score on  Test Set: 0.5012    \n",
    "\n",
    "Cross validation results: 52.441% ± 0.935%     \n",
    " \n",
    " [0.51297405 0.52694611 0.51698867 0.5400534  0.52508361]     \n",
    " \n",
    " \n",
    "__max_depth=25,max_features='auto', n_estimators=200,class_weight = \"balanced_subsample\"__   \n",
    " Runtime for Random Forest: 14.231752000000029 seconds    \n",
    "\n",
    "Score on  Training Set: 0.8174666666666667    \n",
    "\n",
    "Score on  Test Set: 0.522     \n",
    "\n",
    "Cross validation results: 52.122% ± 0.955%      \n",
    " \n",
    " [0.50499002 0.51829674 0.52165223 0.53271028 0.52842809]       \n",
    " \n",
    " \n",
    " \n",
    "__max_depth=10,max_features='auto', n_estimators=500, class_weight = \"balanced\"__   \n",
    "Runtime for Random Forest: 9.556006999999909 seconds    \n",
    "\n",
    "Score on  Training Set: 0.6313333333333333    \n",
    "\n",
    "Score on  Test Set: 0.4728     \n",
    "\n",
    "Cross validation results: 49.453% ± 0.789%      \n",
    " \n",
    " [0.48037259 0.50432468 0.497002   0.49732977 0.49364548]           \n",
    " \n",
    " \n",
    "__max_depth=10,max_features='auto', n_estimators=1000, class_weight = \"balanced\"__    \n",
    " \n",
    "Runtime for Random Forest: 21.088175999999976 seconds    \n",
    "\n",
    "Score on  Training Set: 0.6429333333333334   \n",
    "\n",
    "Score on  Test Set: 0.4832    \n",
    "\n",
    "Cross validation results: 49.907% ± 0.762%    \n",
    " \n",
    " [0.48502994 0.500998   0.50832778 0.50066756 0.50033445]   \n",
    " \n",
    "__max_depth=5,max_features='auto', n_estimators=1500, class_weight = \"balanced\"__ \n",
    "\n",
    "Runtime for Random Forest: 17.520414000000073 seconds     \n",
    "\n",
    "Score on  Training Set: 0.5677333333333333     \n",
    "\n",
    "Score on  Test Set: 0.4644    \n",
    "\n",
    "Cross validation results: 48.148% ± 1.320%    \n",
    " \n",
    " [0.45908184 0.48769128 0.48301133 0.49933244 0.47826087]    \n",
    "  \n",
    "  "
   ]
  },
  {
   "cell_type": "markdown",
   "metadata": {},
   "source": [
    "####  For the Train Set Prediction"
   ]
  },
  {
   "cell_type": "code",
   "execution_count": 104,
   "metadata": {},
   "outputs": [
    {
     "name": "stdout",
     "output_type": "stream",
     "text": [
      "The shape of the data in articles 1 is: (7500,)\n",
      "The shape of the data in articles 1 is: (7500,)\n"
     ]
    }
   ],
   "source": [
    "# saving model predictions\n",
    "y_rfc10 = rfc.predict(X_train_tfidf)\n",
    "\n",
    "print('The shape of the data in articles 1 is:', y_rfc10.shape)\n",
    "print('The shape of the data in articles 1 is:', Y_train_component10.shape)"
   ]
  },
  {
   "cell_type": "code",
   "execution_count": 105,
   "metadata": {},
   "outputs": [
    {
     "name": "stdout",
     "output_type": "stream",
     "text": [
      "Number of mislabeled points out of a total 7500 points : 3317\n"
     ]
    },
    {
     "data": {
      "text/html": [
       "<div>\n",
       "<style>\n",
       "    .dataframe thead tr:only-child th {\n",
       "        text-align: right;\n",
       "    }\n",
       "\n",
       "    .dataframe thead th {\n",
       "        text-align: left;\n",
       "    }\n",
       "\n",
       "    .dataframe tbody tr th {\n",
       "        vertical-align: top;\n",
       "    }\n",
       "</style>\n",
       "<table border=\"1\" class=\"dataframe\">\n",
       "  <thead>\n",
       "    <tr style=\"text-align: right;\">\n",
       "      <th></th>\n",
       "      <th>Predicted 0</th>\n",
       "      <th>Predicted 1</th>\n",
       "      <th>Predicted 2</th>\n",
       "      <th>Predicted 3</th>\n",
       "      <th>Predicted 4</th>\n",
       "      <th>Predicted 5</th>\n",
       "      <th>Predicted 6</th>\n",
       "      <th>Predicted 7</th>\n",
       "      <th>Predicted 8</th>\n",
       "      <th>Predicted 9</th>\n",
       "    </tr>\n",
       "  </thead>\n",
       "  <tbody>\n",
       "    <tr>\n",
       "      <th>Actual 0</th>\n",
       "      <td>708</td>\n",
       "      <td>188</td>\n",
       "      <td>0</td>\n",
       "      <td>21</td>\n",
       "      <td>11</td>\n",
       "      <td>25</td>\n",
       "      <td>12</td>\n",
       "      <td>93</td>\n",
       "      <td>58</td>\n",
       "      <td>87</td>\n",
       "    </tr>\n",
       "    <tr>\n",
       "      <th>Actual 1</th>\n",
       "      <td>13</td>\n",
       "      <td>400</td>\n",
       "      <td>0</td>\n",
       "      <td>12</td>\n",
       "      <td>0</td>\n",
       "      <td>4</td>\n",
       "      <td>4</td>\n",
       "      <td>5</td>\n",
       "      <td>1</td>\n",
       "      <td>41</td>\n",
       "    </tr>\n",
       "    <tr>\n",
       "      <th>Actual 2</th>\n",
       "      <td>0</td>\n",
       "      <td>1</td>\n",
       "      <td>66</td>\n",
       "      <td>0</td>\n",
       "      <td>0</td>\n",
       "      <td>0</td>\n",
       "      <td>0</td>\n",
       "      <td>0</td>\n",
       "      <td>0</td>\n",
       "      <td>1</td>\n",
       "    </tr>\n",
       "    <tr>\n",
       "      <th>Actual 3</th>\n",
       "      <td>30</td>\n",
       "      <td>20</td>\n",
       "      <td>0</td>\n",
       "      <td>273</td>\n",
       "      <td>3</td>\n",
       "      <td>15</td>\n",
       "      <td>30</td>\n",
       "      <td>17</td>\n",
       "      <td>10</td>\n",
       "      <td>204</td>\n",
       "    </tr>\n",
       "    <tr>\n",
       "      <th>Actual 4</th>\n",
       "      <td>192</td>\n",
       "      <td>76</td>\n",
       "      <td>0</td>\n",
       "      <td>58</td>\n",
       "      <td>57</td>\n",
       "      <td>30</td>\n",
       "      <td>33</td>\n",
       "      <td>66</td>\n",
       "      <td>21</td>\n",
       "      <td>311</td>\n",
       "    </tr>\n",
       "    <tr>\n",
       "      <th>Actual 5</th>\n",
       "      <td>28</td>\n",
       "      <td>19</td>\n",
       "      <td>0</td>\n",
       "      <td>18</td>\n",
       "      <td>0</td>\n",
       "      <td>182</td>\n",
       "      <td>12</td>\n",
       "      <td>20</td>\n",
       "      <td>3</td>\n",
       "      <td>131</td>\n",
       "    </tr>\n",
       "    <tr>\n",
       "      <th>Actual 6</th>\n",
       "      <td>4</td>\n",
       "      <td>2</td>\n",
       "      <td>0</td>\n",
       "      <td>3</td>\n",
       "      <td>0</td>\n",
       "      <td>0</td>\n",
       "      <td>126</td>\n",
       "      <td>1</td>\n",
       "      <td>0</td>\n",
       "      <td>24</td>\n",
       "    </tr>\n",
       "    <tr>\n",
       "      <th>Actual 7</th>\n",
       "      <td>14</td>\n",
       "      <td>9</td>\n",
       "      <td>0</td>\n",
       "      <td>12</td>\n",
       "      <td>0</td>\n",
       "      <td>3</td>\n",
       "      <td>4</td>\n",
       "      <td>146</td>\n",
       "      <td>0</td>\n",
       "      <td>56</td>\n",
       "    </tr>\n",
       "    <tr>\n",
       "      <th>Actual 8</th>\n",
       "      <td>57</td>\n",
       "      <td>49</td>\n",
       "      <td>0</td>\n",
       "      <td>44</td>\n",
       "      <td>4</td>\n",
       "      <td>12</td>\n",
       "      <td>26</td>\n",
       "      <td>19</td>\n",
       "      <td>154</td>\n",
       "      <td>282</td>\n",
       "    </tr>\n",
       "    <tr>\n",
       "      <th>Actual 9</th>\n",
       "      <td>159</td>\n",
       "      <td>100</td>\n",
       "      <td>0</td>\n",
       "      <td>192</td>\n",
       "      <td>14</td>\n",
       "      <td>65</td>\n",
       "      <td>145</td>\n",
       "      <td>60</td>\n",
       "      <td>33</td>\n",
       "      <td>2071</td>\n",
       "    </tr>\n",
       "  </tbody>\n",
       "</table>\n",
       "</div>"
      ],
      "text/plain": [
       "          Predicted 0  Predicted 1  Predicted 2  Predicted 3  Predicted 4  \\\n",
       "Actual 0          708          188            0           21           11   \n",
       "Actual 1           13          400            0           12            0   \n",
       "Actual 2            0            1           66            0            0   \n",
       "Actual 3           30           20            0          273            3   \n",
       "Actual 4          192           76            0           58           57   \n",
       "Actual 5           28           19            0           18            0   \n",
       "Actual 6            4            2            0            3            0   \n",
       "Actual 7           14            9            0           12            0   \n",
       "Actual 8           57           49            0           44            4   \n",
       "Actual 9          159          100            0          192           14   \n",
       "\n",
       "          Predicted 5  Predicted 6  Predicted 7  Predicted 8  Predicted 9  \n",
       "Actual 0           25           12           93           58           87  \n",
       "Actual 1            4            4            5            1           41  \n",
       "Actual 2            0            0            0            0            1  \n",
       "Actual 3           15           30           17           10          204  \n",
       "Actual 4           30           33           66           21          311  \n",
       "Actual 5          182           12           20            3          131  \n",
       "Actual 6            0          126            1            0           24  \n",
       "Actual 7            3            4          146            0           56  \n",
       "Actual 8           12           26           19          154          282  \n",
       "Actual 9           65          145           60           33         2071  "
      ]
     },
     "metadata": {},
     "output_type": "display_data"
    },
    {
     "name": "stdout",
     "output_type": "stream",
     "text": [
      "False Positives (Type I error): 2180 (181.2%)\n",
      "False Negatives (Type II error): 2549 (531.0%)\n"
     ]
    }
   ],
   "source": [
    "print(\"Number of mislabeled points out of a total {} points : {}\".format(X_train_tfidf.shape[0], (Y_train_component10 != y_rfc10).sum()))\n",
    "\n",
    "cm = confusion_matrix(Y_train_component10, y_rfc10)\n",
    "\n",
    "df_cm = pd.DataFrame(cm, \n",
    "                     index=['Actual 0', 'Actual 1','Actual 2', 'Actual 3','Actual 4', 'Actual 5','Actual 6', 'Actual 7','Actual 8', 'Actual 9'], \n",
    "                     columns=['Predicted 0', 'Predicted 1','Predicted 2', 'Predicted 3','Predicted 4', 'Predicted 5','Predicted 6', 'Predicted 7','Predicted 8', 'Predicted 9']) \n",
    "display(df_cm)\n",
    "\n",
    "t_pos=0\n",
    "for i in range(9):\n",
    "     t_pos = t_pos + df_cm.iloc[i,i]\n",
    "\n",
    "t_neg = df_cm.iloc[0,0] # Not sure how to calculate \n",
    "\n",
    "f_pos = 0\n",
    "for i in range(9):\n",
    "     f_pos = f_pos + df_cm.iloc[:,i].sum()- df_cm.iloc[i,i]\n",
    "\n",
    "f_neg = 0\n",
    "for i in range(9):\n",
    "     f_neg =  f_neg + df_cm.iloc[i,:].sum() - df_cm.iloc[i,i]\n",
    "\n",
    "a_pos = (Y_train_component10 == True).sum() \n",
    "a_neg = (Y_train_component10 == False).sum() \n",
    "p_pos = (y_rfc10 == True).sum() \n",
    "p_neg = (y_rfc10 == False).sum() \n",
    "tot = X_train_tfidf.shape[0]\n",
    "\n",
    "print(\"False Positives (Type I error): {} ({:.1%})\\nFalse Negatives (Type II error): {} ({:.1%})\".format(f_pos,f_pos / a_neg,f_neg,f_neg / a_pos))\n",
    "\n"
   ]
  },
  {
   "cell_type": "code",
   "execution_count": 106,
   "metadata": {},
   "outputs": [
    {
     "data": {
      "text/plain": [
       "9    2839\n",
       "0    1203\n",
       "4     844\n",
       "8     647\n",
       "3     602\n",
       "1     480\n",
       "5     413\n",
       "7     244\n",
       "6     160\n",
       "2      68\n",
       "Name: component, dtype: int64"
      ]
     },
     "execution_count": 106,
     "metadata": {},
     "output_type": "execute_result"
    }
   ],
   "source": [
    "Y_train_component10.value_counts()"
   ]
  },
  {
   "cell_type": "markdown",
   "metadata": {},
   "source": [
    "__max_depth=25,max_features='auto', n_estimators=200,class_weight = None__    \n",
    "<img src=\"TrainSet_10-0.png\">\n",
    "This seems to be good enough. \n",
    "\n",
    "__weighting = {0:1,1:3,2:2,3:5,4:1,5:5,6:6,7:1,8:7,9:5}    \n",
    "max_depth=25,max_features='auto', n_estimators=200, class_weight = weighting)__     \n",
    "<img src=\"TrainSet_10-1.png\">\n",
    "This seems to be good enough. \n",
    "\n",
    "\n",
    "__max_depth=25,max_features='auto', n_estimators=200, class_weight = \"balanced\"__ \n",
    "<img src=\"TrainSet_10-2.png\">   \n",
    "This seems to be good enough.     \n",
    "\n",
    " __max_depth=25,max_features='auto', n_estimators=200,class_weight = \"balanced_subsample\"__  \n",
    " <img src=\"TrainSet_10-3.png\">   \n",
    "This seems to be good enough.  \n",
    "\n",
    "\n",
    "__max_depth=10,max_features='auto', n_estimators=500, class_weight = \"balanced\"__   \n",
    " <img src=\"TrainSet_10-4.png\">   \n",
    "This seems to be good enough. \n",
    "\n",
    "__max_depth=10,max_features='auto', n_estimators=1000, class_weight = \"balanced\"__   \n",
    " <img src=\"TrainSet_10-5.png\">   \n",
    "This seems to be good enough. \n",
    "\n",
    "__max_depth=5,max_features='auto', n_estimators=1500, class_weight = \"balanced\"__    \n",
    "  <img src=\"TrainSet_10-6.png\">   \n",
    "This seems to be good enough. "
   ]
  },
  {
   "cell_type": "markdown",
   "metadata": {
    "collapsed": true
   },
   "source": [
    "#### For the Test Set Prediction"
   ]
  },
  {
   "cell_type": "code",
   "execution_count": 107,
   "metadata": {},
   "outputs": [
    {
     "name": "stdout",
     "output_type": "stream",
     "text": [
      "The shape of the data in articles 1 is: (2500,)\n",
      "The shape of the data in articles 1 is: (2500,)\n"
     ]
    }
   ],
   "source": [
    "# saving model predictions\n",
    "y_rfc10_test = rfc.predict(X_test_tfidf)\n",
    "\n",
    "print('The shape of the data in articles 1 is:', y_rfc10_test.shape)\n",
    "print('The shape of the data in articles 1 is:', Y_test_component10.shape)"
   ]
  },
  {
   "cell_type": "code",
   "execution_count": 108,
   "metadata": {
    "code_folding": [],
    "scrolled": false
   },
   "outputs": [
    {
     "name": "stdout",
     "output_type": "stream",
     "text": [
      "Number of mislabeled points out of a total 2500 points : 1344\n"
     ]
    },
    {
     "data": {
      "text/html": [
       "<div>\n",
       "<style>\n",
       "    .dataframe thead tr:only-child th {\n",
       "        text-align: right;\n",
       "    }\n",
       "\n",
       "    .dataframe thead th {\n",
       "        text-align: left;\n",
       "    }\n",
       "\n",
       "    .dataframe tbody tr th {\n",
       "        vertical-align: top;\n",
       "    }\n",
       "</style>\n",
       "<table border=\"1\" class=\"dataframe\">\n",
       "  <thead>\n",
       "    <tr style=\"text-align: right;\">\n",
       "      <th></th>\n",
       "      <th>Predicted 0</th>\n",
       "      <th>Predicted 1</th>\n",
       "      <th>Predicted 2</th>\n",
       "      <th>Predicted 3</th>\n",
       "      <th>Predicted 4</th>\n",
       "      <th>Predicted 5</th>\n",
       "      <th>Predicted 6</th>\n",
       "      <th>Predicted 7</th>\n",
       "      <th>Predicted 8</th>\n",
       "      <th>Predicted 9</th>\n",
       "    </tr>\n",
       "  </thead>\n",
       "  <tbody>\n",
       "    <tr>\n",
       "      <th>Actual 0</th>\n",
       "      <td>237</td>\n",
       "      <td>83</td>\n",
       "      <td>2</td>\n",
       "      <td>13</td>\n",
       "      <td>2</td>\n",
       "      <td>12</td>\n",
       "      <td>6</td>\n",
       "      <td>24</td>\n",
       "      <td>23</td>\n",
       "      <td>27</td>\n",
       "    </tr>\n",
       "    <tr>\n",
       "      <th>Actual 1</th>\n",
       "      <td>7</td>\n",
       "      <td>126</td>\n",
       "      <td>0</td>\n",
       "      <td>1</td>\n",
       "      <td>0</td>\n",
       "      <td>3</td>\n",
       "      <td>2</td>\n",
       "      <td>1</td>\n",
       "      <td>1</td>\n",
       "      <td>16</td>\n",
       "    </tr>\n",
       "    <tr>\n",
       "      <th>Actual 2</th>\n",
       "      <td>15</td>\n",
       "      <td>3</td>\n",
       "      <td>0</td>\n",
       "      <td>0</td>\n",
       "      <td>0</td>\n",
       "      <td>0</td>\n",
       "      <td>0</td>\n",
       "      <td>2</td>\n",
       "      <td>1</td>\n",
       "      <td>3</td>\n",
       "    </tr>\n",
       "    <tr>\n",
       "      <th>Actual 3</th>\n",
       "      <td>17</td>\n",
       "      <td>6</td>\n",
       "      <td>0</td>\n",
       "      <td>62</td>\n",
       "      <td>1</td>\n",
       "      <td>4</td>\n",
       "      <td>16</td>\n",
       "      <td>7</td>\n",
       "      <td>1</td>\n",
       "      <td>114</td>\n",
       "    </tr>\n",
       "    <tr>\n",
       "      <th>Actual 4</th>\n",
       "      <td>84</td>\n",
       "      <td>27</td>\n",
       "      <td>0</td>\n",
       "      <td>20</td>\n",
       "      <td>6</td>\n",
       "      <td>8</td>\n",
       "      <td>21</td>\n",
       "      <td>29</td>\n",
       "      <td>4</td>\n",
       "      <td>98</td>\n",
       "    </tr>\n",
       "    <tr>\n",
       "      <th>Actual 5</th>\n",
       "      <td>10</td>\n",
       "      <td>9</td>\n",
       "      <td>0</td>\n",
       "      <td>11</td>\n",
       "      <td>2</td>\n",
       "      <td>41</td>\n",
       "      <td>6</td>\n",
       "      <td>5</td>\n",
       "      <td>0</td>\n",
       "      <td>50</td>\n",
       "    </tr>\n",
       "    <tr>\n",
       "      <th>Actual 6</th>\n",
       "      <td>3</td>\n",
       "      <td>1</td>\n",
       "      <td>0</td>\n",
       "      <td>5</td>\n",
       "      <td>0</td>\n",
       "      <td>0</td>\n",
       "      <td>21</td>\n",
       "      <td>1</td>\n",
       "      <td>1</td>\n",
       "      <td>6</td>\n",
       "    </tr>\n",
       "    <tr>\n",
       "      <th>Actual 7</th>\n",
       "      <td>12</td>\n",
       "      <td>2</td>\n",
       "      <td>0</td>\n",
       "      <td>5</td>\n",
       "      <td>0</td>\n",
       "      <td>2</td>\n",
       "      <td>3</td>\n",
       "      <td>37</td>\n",
       "      <td>0</td>\n",
       "      <td>25</td>\n",
       "    </tr>\n",
       "    <tr>\n",
       "      <th>Actual 8</th>\n",
       "      <td>14</td>\n",
       "      <td>19</td>\n",
       "      <td>0</td>\n",
       "      <td>13</td>\n",
       "      <td>0</td>\n",
       "      <td>3</td>\n",
       "      <td>8</td>\n",
       "      <td>10</td>\n",
       "      <td>35</td>\n",
       "      <td>95</td>\n",
       "    </tr>\n",
       "    <tr>\n",
       "      <th>Actual 9</th>\n",
       "      <td>60</td>\n",
       "      <td>20</td>\n",
       "      <td>1</td>\n",
       "      <td>92</td>\n",
       "      <td>3</td>\n",
       "      <td>31</td>\n",
       "      <td>76</td>\n",
       "      <td>25</td>\n",
       "      <td>11</td>\n",
       "      <td>591</td>\n",
       "    </tr>\n",
       "  </tbody>\n",
       "</table>\n",
       "</div>"
      ],
      "text/plain": [
       "          Predicted 0  Predicted 1  Predicted 2  Predicted 3  Predicted 4  \\\n",
       "Actual 0          237           83            2           13            2   \n",
       "Actual 1            7          126            0            1            0   \n",
       "Actual 2           15            3            0            0            0   \n",
       "Actual 3           17            6            0           62            1   \n",
       "Actual 4           84           27            0           20            6   \n",
       "Actual 5           10            9            0           11            2   \n",
       "Actual 6            3            1            0            5            0   \n",
       "Actual 7           12            2            0            5            0   \n",
       "Actual 8           14           19            0           13            0   \n",
       "Actual 9           60           20            1           92            3   \n",
       "\n",
       "          Predicted 5  Predicted 6  Predicted 7  Predicted 8  Predicted 9  \n",
       "Actual 0           12            6           24           23           27  \n",
       "Actual 1            3            2            1            1           16  \n",
       "Actual 2            0            0            2            1            3  \n",
       "Actual 3            4           16            7            1          114  \n",
       "Actual 4            8           21           29            4           98  \n",
       "Actual 5           41            6            5            0           50  \n",
       "Actual 6            0           21            1            1            6  \n",
       "Actual 7            2            3           37            0           25  \n",
       "Actual 8            3            8           10           35           95  \n",
       "Actual 9           31           76           25           11          591  "
      ]
     },
     "metadata": {},
     "output_type": "display_data"
    },
    {
     "name": "stdout",
     "output_type": "stream",
     "text": [
      "False Positives (Type I error): 910 (212.1%)\n",
      "False Negatives (Type II error): 1025 (652.9%)\n"
     ]
    }
   ],
   "source": [
    "print(\"Number of mislabeled points out of a total {} points : {}\".format(X_test_tfidf.shape[0], (Y_test_component10 != y_rfc10_test).sum()))\n",
    "\n",
    "cm = confusion_matrix(Y_test_component10, y_rfc10_test)\n",
    "\n",
    "df_cm = pd.DataFrame(cm, \n",
    "                     index=['Actual 0', 'Actual 1','Actual 2', 'Actual 3','Actual 4', 'Actual 5','Actual 6', 'Actual 7','Actual 8', 'Actual 9'], \n",
    "                     columns=['Predicted 0', 'Predicted 1','Predicted 2', 'Predicted 3','Predicted 4', 'Predicted 5','Predicted 6', 'Predicted 7','Predicted 8', 'Predicted 9']) \n",
    "display(df_cm)\n",
    "\n",
    "t_pos=0\n",
    "for i in range(9):\n",
    "     t_pos = t_pos + df_cm.iloc[i,i]\n",
    "\n",
    "t_neg = df_cm.iloc[0,0] # Not sure how to calculate \n",
    "\n",
    "f_pos = 0\n",
    "for i in range(9):\n",
    "     f_pos = f_pos + df_cm.iloc[:,i].sum()- df_cm.iloc[i,i]\n",
    "\n",
    "f_neg = 0\n",
    "for i in range(9):\n",
    "     f_neg =  f_neg + df_cm.iloc[i,:].sum() - df_cm.iloc[i,i]\n",
    "\n",
    "a_pos = (Y_test_component10 == True).sum() \n",
    "a_neg = (Y_test_component10 == False).sum() \n",
    "p_pos = (y_rfc10_test == True).sum() \n",
    "p_neg = (y_rfc10_test == False).sum() \n",
    "tot = X_test_tfidf.shape[0]\n",
    "\n",
    "print(\"False Positives (Type I error): {} ({:.1%})\\nFalse Negatives (Type II error): {} ({:.1%})\".format(f_pos,f_pos / a_neg,f_neg,f_neg / a_pos))\n"
   ]
  },
  {
   "cell_type": "code",
   "execution_count": 109,
   "metadata": {},
   "outputs": [
    {
     "data": {
      "text/plain": [
       "9    910\n",
       "0    429\n",
       "4    297\n",
       "3    228\n",
       "8    197\n",
       "1    157\n",
       "5    134\n",
       "7     86\n",
       "6     38\n",
       "2     24\n",
       "Name: component, dtype: int64"
      ]
     },
     "execution_count": 109,
     "metadata": {},
     "output_type": "execute_result"
    }
   ],
   "source": [
    "Y_test_component10.value_counts()"
   ]
  },
  {
   "cell_type": "markdown",
   "metadata": {},
   "source": [
    "__max_depth=25,max_features='auto', n_estimators=200,class_weight = None__   \n",
    "<img src=\"TestSet_10-0.png\">\n",
    "\n",
    "This is not good \n",
    "\n",
    "\n",
    "__weighting = {0:1,1:3,2:2,3:5,4:1,5:5,6:6,7:1,8:7,9:5}    \n",
    "max_depth=25,max_features='auto', n_estimators=200,class_weight = weighting__   \n",
    "\n",
    "<img src=\"TestSet_10-1.png\">\n",
    "\n",
    "This is not good because we have No Prediction for 2, 3, 6 and 8 \n",
    "\n",
    "\n",
    "__max_depth=25,max_features='auto', n_estimators=200, class_weight = \"balanced\"__   \n",
    "<img src=\"TestSet_10-2.png\">\n",
    "\n",
    "This is not good \n",
    "\n",
    "\n",
    " __max_depth=25,max_features='auto', n_estimators=200,class_weight = \"balanced_subsample\"__   \n",
    " <img src=\"TestSet_10-3.png\">\n",
    "\n",
    "This is not good \n",
    "\n",
    "\n",
    "__max_depth=10,max_features='auto', n_estimators=500, class_weight = \"balanced\"__    \n",
    "<img src=\"TestSet_10-4.png\">\n",
    "\n",
    "This is not good \n",
    "\n",
    "__max_depth=10,max_features='auto', n_estimators=1000, class_weight = \"balanced\"__    \n",
    "<img src=\"TestSet_10-5.png\">\n",
    "\n",
    "This is not good \n",
    "\n",
    "  __max_depth=5,max_features='auto', n_estimators=1500, class_weight = \"balanced\"__    \n",
    "<img src=\"TestSet_10-6.png\">\n",
    "\n",
    "This is not good "
   ]
  },
  {
   "cell_type": "markdown",
   "metadata": {
    "collapsed": true
   },
   "source": [
    "#### Confusion Matrix of Component 0"
   ]
  },
  {
   "cell_type": "code",
   "execution_count": 110,
   "metadata": {
    "collapsed": true
   },
   "outputs": [],
   "source": [
    "##True Negative\n",
    "#Predicted something else and Actual something else\n",
    "t_neg_0 = 0\n",
    "for i in range(1, 9):\n",
    "    t_neg_0 = t_neg_0 + df_cm.iloc[i,:].sum()"
   ]
  },
  {
   "cell_type": "code",
   "execution_count": 111,
   "metadata": {
    "collapsed": true
   },
   "outputs": [],
   "source": [
    "##False Positive\n",
    "#Predicted 0 and Actual something else\n",
    "f_pos_0 = 0\n",
    "for i in range(9):\n",
    "     f_pos_0 = f_pos_0 + df_cm.iloc[i+1,0]"
   ]
  },
  {
   "cell_type": "code",
   "execution_count": 112,
   "metadata": {
    "collapsed": true
   },
   "outputs": [],
   "source": [
    "#False Negative\n",
    "#Actual 0 and Predicted something else\n",
    "f_neg_0 = 0\n",
    "for i in range(9):\n",
    "     f_neg_0 =  f_neg_0 + df_cm.iloc[0,i+1]"
   ]
  },
  {
   "cell_type": "code",
   "execution_count": 113,
   "metadata": {
    "collapsed": true
   },
   "outputs": [],
   "source": [
    "#True Positive\n",
    "## Actual 0 and Predicted 0 \n",
    "t_pos_0 = df_cm.iloc[0,0]"
   ]
  },
  {
   "cell_type": "code",
   "execution_count": 114,
   "metadata": {
    "collapsed": true
   },
   "outputs": [],
   "source": [
    "df_cm_0 = pd.DataFrame(index=['Actual False 0', 'Actual True 0'], \n",
    "                       columns=['Predict False 0', 'Predict True 0']) "
   ]
  },
  {
   "cell_type": "code",
   "execution_count": 115,
   "metadata": {
    "collapsed": true
   },
   "outputs": [],
   "source": [
    "df_cm_0.iloc[1,1] = t_pos_0\n",
    "df_cm_0.iloc[0,0] = t_neg_0 \n",
    "df_cm_0.iloc[0,1] = f_pos_0 \n",
    "df_cm_0.iloc[1,0] = f_neg_0  "
   ]
  },
  {
   "cell_type": "code",
   "execution_count": 116,
   "metadata": {
    "scrolled": false
   },
   "outputs": [
    {
     "data": {
      "text/html": [
       "<div>\n",
       "<style>\n",
       "    .dataframe thead tr:only-child th {\n",
       "        text-align: right;\n",
       "    }\n",
       "\n",
       "    .dataframe thead th {\n",
       "        text-align: left;\n",
       "    }\n",
       "\n",
       "    .dataframe tbody tr th {\n",
       "        vertical-align: top;\n",
       "    }\n",
       "</style>\n",
       "<table border=\"1\" class=\"dataframe\">\n",
       "  <thead>\n",
       "    <tr style=\"text-align: right;\">\n",
       "      <th></th>\n",
       "      <th>Predict False 0</th>\n",
       "      <th>Predict True 0</th>\n",
       "    </tr>\n",
       "  </thead>\n",
       "  <tbody>\n",
       "    <tr>\n",
       "      <th>Actual False 0</th>\n",
       "      <td>1161</td>\n",
       "      <td>222</td>\n",
       "    </tr>\n",
       "    <tr>\n",
       "      <th>Actual True 0</th>\n",
       "      <td>192</td>\n",
       "      <td>237</td>\n",
       "    </tr>\n",
       "  </tbody>\n",
       "</table>\n",
       "</div>"
      ],
      "text/plain": [
       "               Predict False 0 Predict True 0\n",
       "Actual False 0            1161            222\n",
       "Actual True 0              192            237"
      ]
     },
     "execution_count": 116,
     "metadata": {},
     "output_type": "execute_result"
    }
   ],
   "source": [
    "df_cm_0"
   ]
  },
  {
   "cell_type": "markdown",
   "metadata": {},
   "source": [
    "#### Prediction "
   ]
  },
  {
   "cell_type": "code",
   "execution_count": 117,
   "metadata": {},
   "outputs": [
    {
     "data": {
      "text/plain": [
       "array([[0.10232264, 0.11374421, 0.0792816 , ..., 0.09661972, 0.10118809,\n",
       "        0.10082615],\n",
       "       [0.1070448 , 0.09543586, 0.08146273, ..., 0.0973772 , 0.11931538,\n",
       "        0.10112769],\n",
       "       [0.09825413, 0.09764649, 0.07618832, ..., 0.10054412, 0.10394617,\n",
       "        0.10678241],\n",
       "       ...,\n",
       "       [0.09832301, 0.09893772, 0.08405699, ..., 0.09799598, 0.1038781 ,\n",
       "        0.10532744],\n",
       "       [0.11241192, 0.09624527, 0.08355832, ..., 0.10246825, 0.10100716,\n",
       "        0.10174023],\n",
       "       [0.11456134, 0.11885355, 0.08571614, ..., 0.09609216, 0.0974922 ,\n",
       "        0.09279566]])"
      ]
     },
     "execution_count": 117,
     "metadata": {},
     "output_type": "execute_result"
    }
   ],
   "source": [
    "ypred_pro_10 = rfc.predict_proba(X_test_tfidf)\n",
    "ypred_pro_10"
   ]
  },
  {
   "cell_type": "code",
   "execution_count": 118,
   "metadata": {},
   "outputs": [
    {
     "data": {
      "text/plain": [
       "array([[0.09882928, 0.09844446, 0.08010676, 0.10537621, 0.10311702,\n",
       "        0.10350775, 0.10013436, 0.0998241 , 0.10439622, 0.10626383]])"
      ]
     },
     "execution_count": 118,
     "metadata": {},
     "output_type": "execute_result"
    }
   ],
   "source": [
    "ynew_pro_10 = rfc.predict_proba(X_new_tfidf)\n",
    "ynew_pro_10"
   ]
  },
  {
   "cell_type": "markdown",
   "metadata": {},
   "source": [
    "__max_depth=25,max_features='auto', n_estimators=200,class_weight =None__    \n",
    " <img src=\"Pred_10-0.png\"> \n",
    " \n",
    " __weighting = {0:1,1:3,2:2,3:5,4:1,5:5,6:6,7:1,8:7,9:5}    \n",
    "max_depth=25,max_features='auto', n_estimators=200,class_weight = weighting__   \n",
    "<img src=\"Pred_10-1.png\">\n",
    "\n",
    "__max_depth=25,max_features='auto', n_estimators=200,class_weight =\"balanced\"__    \n",
    " <img src=\"Pred_10-2.png\">  \n",
    " \n",
    "__max_depth=25,max_features='auto', n_estimators=200,class_weight = \"balanced_subsample\"__   \n",
    " <img src=\"Pred_10-3.png\">\n",
    " \n",
    " __max_depth=10,max_features='auto', n_estimators=500,class_weight =\"balanced\"__    \n",
    " <img src=\"Pred_10-4.png\">\n",
    " \n",
    "  __max_depth=10,max_features='auto', n_estimators=1000,class_weight =\"balanced\"__    \n",
    " <img src=\"Pred_10-5.png\">\n",
    " \n",
    "   __max_depth=5,max_features='auto', n_estimators=1500,class_weight =\"balanced\"__    \n",
    " <img src=\"Pred_10-6.png\">"
   ]
  },
  {
   "cell_type": "markdown",
   "metadata": {},
   "source": [
    "### Random Forest with 3 articles"
   ]
  },
  {
   "cell_type": "code",
   "execution_count": 374,
   "metadata": {},
   "outputs": [
    {
     "name": "stdout",
     "output_type": "stream",
     "text": [
      "Runtime for Random Forest: 17.526681999999937 seconds\n",
      "\n",
      "Score on  Training Set: 0.66\n",
      "\n",
      "Score on  Test Set: 0.5412\n",
      "\n",
      "Cross validation results: 39.937% ± 2.542% \n",
      " \n",
      " [0.36926148 0.38389887 0.39506995 0.44459279 0.40401338]\n"
     ]
    }
   ],
   "source": [
    "# Set the start time for execution speed.\n",
    "import time\n",
    "start_time = time.clock() \n",
    "\n",
    "#weighting = {0:1,1:3,2:2}\n",
    "rfc = ensemble.RandomForestClassifier(max_depth=5,max_features='auto', n_estimators=1500, \n",
    "                                      class_weight =\"balanced\")\n",
    "\n",
    "rfc.fit(X_train_tfidf, Y_train_component3)\n",
    "\n",
    "\n",
    "print('Runtime for Random Forest: '+'%s seconds'% (time.clock() - start_time)) # End time for execution speed.\n",
    "\n",
    "print('\\nScore on  Training Set: ' + str(rfc.score(X_train_tfidf, Y_train_component3)))\n",
    "\n",
    "print('\\nScore on  Test Set: ' + str(rfc.score(X_test_tfidf, Y_test_component3)))\n",
    "\n",
    "cv_train = cross_val_score(rfc, X_train_tfidf, Y_train_component10, cv=5)\n",
    "\n",
    "### Put this with the Cros validation score.\n",
    "plusminus = u\"\\u00B1\"\n",
    " \n",
    "print('\\nCross validation results: {:.3%} {} {:.3%} \\n \\n {}'.format(cv_train.mean(), plusminus, cv_train.std(), cv_train))"
   ]
  },
  {
   "cell_type": "markdown",
   "metadata": {},
   "source": [
    "__max_depth=25,max_features='auto', n_estimators=200,class_weight =None__      \n",
    "Runtime for Random Forest: 10.311392999999953 seconds   \n",
    "\n",
    "Score on  Training Set: 0.7162666666666667   \n",
    "\n",
    "Score on  Test Set: 0.7008    \n",
    "\n",
    "Cross validation results: 46.839% ± 0.626%     \n",
    " \n",
    " [0.47305389 0.46906188 0.47101932 0.47263017 0.45618729]    \n",
    "\n",
    "__weighting = {0:1,1:3,2:2}    \n",
    "max_depth=50,max_features='auto', n_estimators=100,class_weight =weighting__   \n",
    "Runtime for Random Forest: 14.675588000000062 seconds    \n",
    "\n",
    "Score on  Training Set: 0.8993333333333333    \n",
    "\n",
    "Score on  Test Set: 0.6964    \n",
    "\n",
    "Cross validation results: 47.453% ± 0.518%     \n",
    " \n",
    " [0.48170326 0.47970725 0.46968688 0.46929239 0.4722408 ]           \n",
    "\n",
    "      \n",
    "__max_depth=25,max_features='auto', n_estimators=200, class_weight =\"balanced\"__   \n",
    "Runtime for Random Forest: 16.414243000000056 seconds   \n",
    "\n",
    "Score on  Training Set: 0.9556   \n",
    "\n",
    "Score on  Test Set: 0.7108    \n",
    "\n",
    "Cross validation results: 52.388% ± 1.087%     \n",
    " \n",
    " [0.5156354  0.52095808 0.51499001 0.5447263  0.52307692]       \n",
    " \n",
    "  __max_depth=25,max_features='auto', n_estimators=200,class_weight = \"balanced_subsample\"__   \n",
    "  \n",
    " Runtime for Random Forest: 17.15509700000007 seconds    \n",
    "\n",
    "Score on  Training Set: 0.952    \n",
    "\n",
    "Score on  Test Set: 0.6988     \n",
    "\n",
    "Cross validation results: 52.321% ± 0.704%       \n",
    " \n",
    " [0.51230872 0.53027279 0.5176549  0.5293725  0.5264214 ]     \n",
    " \n",
    " \n",
    " __max_depth=10,max_features='auto', n_estimators=500,class_weight =\"balanced\"__  \n",
    " Runtime for Random Forest: 12.826845000000048 seconds    \n",
    "\n",
    "Score on  Training Set: 0.8182666666666667     \n",
    "\n",
    "Score on  Test Set: 0.6452     \n",
    "\n",
    "Cross validation results: 49.536% ± 1.382%     \n",
    " \n",
    " [0.4750499  0.48902196 0.49233844 0.51535381 0.50501672]      \n",
    " \n",
    " \n",
    "  __max_depth=10,max_features='auto', n_estimators=1000,class_weight =\"balanced\"__ \n",
    " \n",
    "Runtime for Random Forest: 20.977407000000085 seconds    \n",
    "\n",
    "Score on  Training Set: 0.8289333333333333    \n",
    "\n",
    "Score on  Test Set: 0.6372    \n",
    "\n",
    "Cross validation results: 50.454% ± 0.336%     \n",
    " \n",
    " [0.50033267 0.50365935 0.50233178 0.51001335 0.50635452]   \n",
    " \n",
    "__max_depth=5,max_features='auto', n_estimators=1500, class_weight = \"balanced\"__\n",
    "\n",
    "Runtime for Random Forest: 14.01494300000013 seconds    \n",
    "\n",
    "Score on  Training Set: 0.6308    \n",
    "\n",
    "Score on  Test Set: 0.5336    \n",
    "\n",
    "Cross validation results: 48.534% ± 1.320%      \n",
    " \n",
    " [0.45908184 0.49434464 0.491006   0.49198932 0.490301  ]    "
   ]
  },
  {
   "cell_type": "markdown",
   "metadata": {},
   "source": [
    "####  For the Train Set Prediction"
   ]
  },
  {
   "cell_type": "code",
   "execution_count": 120,
   "metadata": {},
   "outputs": [
    {
     "name": "stdout",
     "output_type": "stream",
     "text": [
      "The shape of the data in articles 1 is: (7500,)\n",
      "The shape of the data in articles 1 is: (7500,)\n"
     ]
    }
   ],
   "source": [
    "# saving model predictions\n",
    "y_rfc3 = rfc.predict(X_train_tfidf)\n",
    "\n",
    "print('The shape of the data in articles 1 is:', y_rfc3.shape)\n",
    "print('The shape of the data in articles 1 is:', Y_train_component3.shape)"
   ]
  },
  {
   "cell_type": "code",
   "execution_count": 121,
   "metadata": {
    "scrolled": true
   },
   "outputs": [
    {
     "name": "stdout",
     "output_type": "stream",
     "text": [
      "Number of mislabeled points out of a total 7500 points : 2912\n"
     ]
    },
    {
     "data": {
      "text/html": [
       "<div>\n",
       "<style>\n",
       "    .dataframe thead tr:only-child th {\n",
       "        text-align: right;\n",
       "    }\n",
       "\n",
       "    .dataframe thead th {\n",
       "        text-align: left;\n",
       "    }\n",
       "\n",
       "    .dataframe tbody tr th {\n",
       "        vertical-align: top;\n",
       "    }\n",
       "</style>\n",
       "<table border=\"1\" class=\"dataframe\">\n",
       "  <thead>\n",
       "    <tr style=\"text-align: right;\">\n",
       "      <th></th>\n",
       "      <th>Predicted 0</th>\n",
       "      <th>Predicted 1</th>\n",
       "      <th>Predicted 2</th>\n",
       "    </tr>\n",
       "  </thead>\n",
       "  <tbody>\n",
       "    <tr>\n",
       "      <th>Actual 0</th>\n",
       "      <td>2717</td>\n",
       "      <td>2293</td>\n",
       "      <td>219</td>\n",
       "    </tr>\n",
       "    <tr>\n",
       "      <th>Actual 1</th>\n",
       "      <td>170</td>\n",
       "      <td>1604</td>\n",
       "      <td>16</td>\n",
       "    </tr>\n",
       "    <tr>\n",
       "      <th>Actual 2</th>\n",
       "      <td>85</td>\n",
       "      <td>129</td>\n",
       "      <td>267</td>\n",
       "    </tr>\n",
       "  </tbody>\n",
       "</table>\n",
       "</div>"
      ],
      "text/plain": [
       "          Predicted 0  Predicted 1  Predicted 2\n",
       "Actual 0         2717         2293          219\n",
       "Actual 1          170         1604           16\n",
       "Actual 2           85          129          267"
      ]
     },
     "metadata": {},
     "output_type": "display_data"
    },
    {
     "name": "stdout",
     "output_type": "stream",
     "text": [
      "False Positives (Type I error): 2912 (55.7%)\n",
      "False Negatives (Type II error): 2912 (162.7%)\n"
     ]
    }
   ],
   "source": [
    "print(\"Number of mislabeled points out of a total {} points : {}\".format(X_train_tfidf.shape[0], (Y_train_component3 != y_rfc3).sum()))\n",
    "\n",
    "cm = confusion_matrix(Y_train_component3, y_rfc3)\n",
    "\n",
    "df_cm = pd.DataFrame(cm, \n",
    "                     index=['Actual 0', 'Actual 1','Actual 2'], \n",
    "                     columns=['Predicted 0', 'Predicted 1','Predicted 2']) \n",
    "display(df_cm)\n",
    "\n",
    "t_pos=0\n",
    "for i in range(3):\n",
    "     t_pos = t_pos + df_cm.iloc[i,i]\n",
    "\n",
    "t_neg = df_cm.iloc[0,0]  ## Not sure how to calculate \n",
    "\n",
    "f_pos = 0\n",
    "for i in range(3):\n",
    "     f_pos = f_pos + df_cm.iloc[:,i].sum()- df_cm.iloc[i,i]\n",
    "\n",
    "f_neg = 0\n",
    "for i in range(3):\n",
    "     f_neg =  f_neg + df_cm.iloc[i,:].sum() - df_cm.iloc[i,i]\n",
    "\n",
    "\n",
    "a_pos = (Y_train_component3 == True).sum() \n",
    "a_neg = (Y_train_component3 == False).sum() \n",
    "p_pos = (y_rfc3 == True).sum() \n",
    "p_neg = (y_rfc3 == False).sum() \n",
    "tot = X_train_tfidf.shape[0]\n",
    "\n",
    "print(\"False Positives (Type I error): {} ({:.1%})\\nFalse Negatives (Type II error): {} ({:.1%})\".format(f_pos,f_pos / a_neg,f_neg,f_neg / a_pos))\n",
    "\n"
   ]
  },
  {
   "cell_type": "code",
   "execution_count": 122,
   "metadata": {},
   "outputs": [
    {
     "data": {
      "text/plain": [
       "0    5229\n",
       "1    1790\n",
       "2     481\n",
       "Name: component, dtype: int64"
      ]
     },
     "execution_count": 122,
     "metadata": {},
     "output_type": "execute_result"
    }
   ],
   "source": [
    "Y_train_component3.value_counts()"
   ]
  },
  {
   "cell_type": "markdown",
   "metadata": {},
   "source": [
    "__max_depth=50,max_features='auto', n_estimators=100,class_weight =None__   \n",
    "\n",
    "<img src=\"TrainSet_3-0.png\">\n",
    "\n",
    "This  good because\n",
    "\n",
    "\n",
    "__weighting = {0:1,1:3,2:2}    \n",
    "max_depth=25,max_features='auto', n_estimators=200,class_weight = weighting__     \n",
    "\n",
    "<img src=\"TrainSet_3-1.png\">\n",
    "\n",
    "This  good because we have Prediction for each of the components\n",
    "\n",
    "\n",
    "__max_depth=25,max_features='auto', n_estimators=200, class_weight =\"balanced\"__\n",
    "<img src=\"TrainSet_3-2.png\">\n",
    "\n",
    "This  good because we have Prediction for each of the components\n",
    "\n",
    "\n",
    " __max_depth=25,max_features='auto', n_estimators=200,class_weight = \"balanced_subsample\"__  \n",
    " \n",
    " <img src=\"TrainSet_3-3.png\">\n",
    "\n",
    "This  good because we have Prediction for each of the components\n",
    "\n",
    "\n",
    " __max_depth=10,max_features='auto', n_estimators=500,class_weight =\"balanced\"__ \n",
    " <img src=\"TrainSet_3-4.png\">   \n",
    "\n",
    "This  good because we have Prediction for each of the components  \n",
    "  __max_depth=10,max_features='auto', n_estimators=00,class_weight =\"balanced\"__ \n",
    " <img src=\"TrainSet_3-5.png\">   \n",
    "\n",
    "This  good because we have Prediction for each of the components \n",
    "\n",
    "\n",
    "__max_depth=5,max_features='auto', n_estimators=1500, class_weight = \"balanced\"__    \n",
    " <img src=\"TrainSet_3-6.png\">   \n",
    "\n",
    "This  good because we have Prediction for each of the components"
   ]
  },
  {
   "cell_type": "markdown",
   "metadata": {
    "code_folding": [],
    "collapsed": true
   },
   "source": [
    "#### For the Test Set Prediction"
   ]
  },
  {
   "cell_type": "code",
   "execution_count": 123,
   "metadata": {},
   "outputs": [
    {
     "name": "stdout",
     "output_type": "stream",
     "text": [
      "The shape of the data in articles 1 is: (2500,)\n",
      "The shape of the data in articles 1 is: (2500,)\n"
     ]
    }
   ],
   "source": [
    "# saving model predictions\n",
    "y_rfc3_test = rfc.predict(X_test_tfidf)\n",
    "\n",
    "print('The shape of the data in articles 1 is:', y_rfc3_test.shape)\n",
    "print('The shape of the data in articles 1 is:', Y_test_component3.shape)"
   ]
  },
  {
   "cell_type": "code",
   "execution_count": 124,
   "metadata": {
    "scrolled": false
   },
   "outputs": [
    {
     "name": "stdout",
     "output_type": "stream",
     "text": [
      "Number of mislabeled points out of a total 2500 points : 1167\n"
     ]
    },
    {
     "data": {
      "text/html": [
       "<div>\n",
       "<style>\n",
       "    .dataframe thead tr:only-child th {\n",
       "        text-align: right;\n",
       "    }\n",
       "\n",
       "    .dataframe thead th {\n",
       "        text-align: left;\n",
       "    }\n",
       "\n",
       "    .dataframe tbody tr th {\n",
       "        vertical-align: top;\n",
       "    }\n",
       "</style>\n",
       "<table border=\"1\" class=\"dataframe\">\n",
       "  <thead>\n",
       "    <tr style=\"text-align: right;\">\n",
       "      <th></th>\n",
       "      <th>Predicted 0</th>\n",
       "      <th>Predicted 1</th>\n",
       "      <th>Predicted 2</th>\n",
       "    </tr>\n",
       "  </thead>\n",
       "  <tbody>\n",
       "    <tr>\n",
       "      <th>Actual 0</th>\n",
       "      <td>797</td>\n",
       "      <td>837</td>\n",
       "      <td>109</td>\n",
       "    </tr>\n",
       "    <tr>\n",
       "      <th>Actual 1</th>\n",
       "      <td>107</td>\n",
       "      <td>496</td>\n",
       "      <td>12</td>\n",
       "    </tr>\n",
       "    <tr>\n",
       "      <th>Actual 2</th>\n",
       "      <td>63</td>\n",
       "      <td>39</td>\n",
       "      <td>40</td>\n",
       "    </tr>\n",
       "  </tbody>\n",
       "</table>\n",
       "</div>"
      ],
      "text/plain": [
       "          Predicted 0  Predicted 1  Predicted 2\n",
       "Actual 0          797          837          109\n",
       "Actual 1          107          496           12\n",
       "Actual 2           63           39           40"
      ]
     },
     "metadata": {},
     "output_type": "display_data"
    },
    {
     "name": "stdout",
     "output_type": "stream",
     "text": [
      "False Positives (Type I error): 1167 (67.0%)\n",
      "False Negatives (Type II error): 1167 (189.8%)\n"
     ]
    }
   ],
   "source": [
    "print(\"Number of mislabeled points out of a total {} points : {}\".format(X_test_tfidf.shape[0], (Y_test_component3 != y_rfc3_test).sum()))\n",
    "\n",
    "cm = confusion_matrix(Y_test_component3, y_rfc3_test)\n",
    "\n",
    "df_cm = pd.DataFrame(cm, \n",
    "                     index=['Actual 0', 'Actual 1','Actual 2'], \n",
    "                     columns=['Predicted 0', 'Predicted 1','Predicted 2'])\n",
    "display(df_cm)\n",
    "\n",
    "t_pos=0\n",
    "for i in range(3):\n",
    "     t_pos = t_pos + df_cm.iloc[i,i]\n",
    "\n",
    "t_neg = df_cm.iloc[0,0] # Not sure how to calculate \n",
    "\n",
    "f_pos = 0\n",
    "for i in range(3):\n",
    "     f_pos = f_pos + df_cm.iloc[:,i].sum()- df_cm.iloc[i,i]\n",
    "\n",
    "f_neg = 0\n",
    "for i in range(3):\n",
    "     f_neg =  f_neg + df_cm.iloc[i,:].sum() - df_cm.iloc[i,i]\n",
    "\n",
    "a_pos = (Y_test_component3 == True).sum() \n",
    "a_neg = (Y_test_component3 == False).sum() \n",
    "p_pos = (y_rfc3_test == True).sum() \n",
    "p_neg = (y_rfc3_test == False).sum() \n",
    "tot = X_test_tfidf.shape[0]\n",
    "\n",
    "print(\"False Positives (Type I error): {} ({:.1%})\\nFalse Negatives (Type II error): {} ({:.1%})\".format(f_pos,f_pos / a_neg,f_neg,f_neg / a_pos))\n",
    "\n"
   ]
  },
  {
   "cell_type": "code",
   "execution_count": 125,
   "metadata": {},
   "outputs": [
    {
     "data": {
      "text/plain": [
       "0    1743\n",
       "1     615\n",
       "2     142\n",
       "Name: component, dtype: int64"
      ]
     },
     "execution_count": 125,
     "metadata": {},
     "output_type": "execute_result"
    }
   ],
   "source": [
    "Y_test_component3.value_counts()"
   ]
  },
  {
   "cell_type": "markdown",
   "metadata": {},
   "source": [
    "__max_depth=25,max_features='auto', n_estimators=100,class_weight =None__     \n",
    "\n",
    "<img src=\"TestSet_3-0.png\">\n",
    "\n",
    "This is not good \n",
    "\n",
    "\n",
    "__weighting = {0:1,1:3,2:2}    \n",
    "max_depth=25,max_features='auto', n_estimators=200,class_weight = weighting__   \n",
    "\n",
    "<img src=\"TestSet_3-1.png\">\n",
    "\n",
    "This is not good \n",
    "\n",
    "\n",
    "__max_depth=25,max_features='auto', n_estimators=200, class_weight =\"balanced\"__\n",
    "\n",
    "<img src=\"TestSet_3-2.png\">\n",
    "\n",
    "This is not good \n",
    "\n",
    " __max_depth=25,max_features='auto', n_estimators=200,class_weight = \"balanced_subsample\"__    \n",
    " <img src=\"TestSet_3-3.png\">\n",
    "\n",
    "This is not good \n",
    "\n",
    "\n",
    " __max_depth=10,max_features='auto', n_estimators=500,class_weight =\"balanced\"__    \n",
    " <img src=\"TestSet_3-4.png\">\n",
    "\n",
    "This is not good \n",
    "\n",
    " __max_depth=10,max_features='auto', n_estimators=1000,class_weight =\"balanced\"__    \n",
    " <img src=\"TestSet_3-5.png\">\n",
    "\n",
    "This is not good \n",
    "\n",
    "__max_depth=5,max_features='auto', n_estimators=1500, class_weight = \"balanced\"__\n",
    " <img src=\"TestSet_3-6.png\">\n",
    "\n",
    "This is not good "
   ]
  },
  {
   "cell_type": "markdown",
   "metadata": {
    "collapsed": true
   },
   "source": [
    "#### Confusion Matrix of Component 0"
   ]
  },
  {
   "cell_type": "code",
   "execution_count": 126,
   "metadata": {
    "collapsed": true
   },
   "outputs": [],
   "source": [
    "##True Negative\n",
    "#Predicted something else and Actual something else\n",
    "t_neg_0 = 0\n",
    "for i in range(1, 2):\n",
    "    t_neg_0 = t_neg_0 + df_cm.iloc[i,:].sum()"
   ]
  },
  {
   "cell_type": "code",
   "execution_count": 127,
   "metadata": {
    "collapsed": true
   },
   "outputs": [],
   "source": [
    "##False Positive\n",
    "#Predicted 0 and Actual something else\n",
    "f_pos_0 = 0\n",
    "for i in range(2):\n",
    "     f_pos_0 = f_pos_0 + df_cm.iloc[i+1,0]"
   ]
  },
  {
   "cell_type": "code",
   "execution_count": 128,
   "metadata": {
    "collapsed": true
   },
   "outputs": [],
   "source": [
    "#False Negative\n",
    "#Actual 0 and Predicted something else\n",
    "f_neg_0 = 0\n",
    "for i in range(2):\n",
    "     f_neg_0 =  f_neg_0 + df_cm.iloc[0,i+1]"
   ]
  },
  {
   "cell_type": "code",
   "execution_count": 129,
   "metadata": {
    "collapsed": true
   },
   "outputs": [],
   "source": [
    "#True Positive\n",
    "## Actual 0 and Predicted 0 \n",
    "t_pos_0 = df_cm.iloc[0,0]"
   ]
  },
  {
   "cell_type": "code",
   "execution_count": 130,
   "metadata": {
    "collapsed": true
   },
   "outputs": [],
   "source": [
    "df_cm_0 = pd.DataFrame(index=['Actual False 0', 'Actual True 0'], \n",
    "                       columns=['Predict False 0', 'Predict True 0']) "
   ]
  },
  {
   "cell_type": "code",
   "execution_count": 131,
   "metadata": {
    "collapsed": true
   },
   "outputs": [],
   "source": [
    "df_cm_0.iloc[1,1] = t_pos_0\n",
    "df_cm_0.iloc[0,0] = t_neg_0 \n",
    "df_cm_0.iloc[0,1] = f_pos_0 \n",
    "df_cm_0.iloc[1,0] = f_neg_0  "
   ]
  },
  {
   "cell_type": "code",
   "execution_count": 132,
   "metadata": {
    "scrolled": true
   },
   "outputs": [
    {
     "data": {
      "text/html": [
       "<div>\n",
       "<style>\n",
       "    .dataframe thead tr:only-child th {\n",
       "        text-align: right;\n",
       "    }\n",
       "\n",
       "    .dataframe thead th {\n",
       "        text-align: left;\n",
       "    }\n",
       "\n",
       "    .dataframe tbody tr th {\n",
       "        vertical-align: top;\n",
       "    }\n",
       "</style>\n",
       "<table border=\"1\" class=\"dataframe\">\n",
       "  <thead>\n",
       "    <tr style=\"text-align: right;\">\n",
       "      <th></th>\n",
       "      <th>Predict False 0</th>\n",
       "      <th>Predict True 0</th>\n",
       "    </tr>\n",
       "  </thead>\n",
       "  <tbody>\n",
       "    <tr>\n",
       "      <th>Actual False 0</th>\n",
       "      <td>615</td>\n",
       "      <td>170</td>\n",
       "    </tr>\n",
       "    <tr>\n",
       "      <th>Actual True 0</th>\n",
       "      <td>946</td>\n",
       "      <td>797</td>\n",
       "    </tr>\n",
       "  </tbody>\n",
       "</table>\n",
       "</div>"
      ],
      "text/plain": [
       "               Predict False 0 Predict True 0\n",
       "Actual False 0             615            170\n",
       "Actual True 0              946            797"
      ]
     },
     "execution_count": 132,
     "metadata": {},
     "output_type": "execute_result"
    }
   ],
   "source": [
    "df_cm_0"
   ]
  },
  {
   "cell_type": "markdown",
   "metadata": {},
   "source": [
    "#### Prediction "
   ]
  },
  {
   "cell_type": "code",
   "execution_count": 133,
   "metadata": {},
   "outputs": [
    {
     "data": {
      "text/plain": [
       "array([[0.34027132, 0.34422838, 0.3155003 ],\n",
       "       [0.34858598, 0.3339073 , 0.31750672],\n",
       "       [0.3408153 , 0.34630133, 0.31288337],\n",
       "       ...,\n",
       "       [0.34267883, 0.34909119, 0.30822998],\n",
       "       [0.34813699, 0.32924235, 0.32262066],\n",
       "       [0.3418612 , 0.34468925, 0.31344955]])"
      ]
     },
     "execution_count": 133,
     "metadata": {},
     "output_type": "execute_result"
    }
   ],
   "source": [
    "ypred_pro_3 = rfc.predict_proba(X_test_tfidf)\n",
    "ypred_pro_3"
   ]
  },
  {
   "cell_type": "code",
   "execution_count": 134,
   "metadata": {},
   "outputs": [
    {
     "data": {
      "text/plain": [
       "array([[0.33974225, 0.33521494, 0.32504281]])"
      ]
     },
     "execution_count": 134,
     "metadata": {},
     "output_type": "execute_result"
    }
   ],
   "source": [
    "ynew_pro_3 = rfc.predict_proba(X_new_tfidf)\n",
    "ynew_pro_3"
   ]
  },
  {
   "cell_type": "markdown",
   "metadata": {},
   "source": [
    "__max_depth=25,max_features='auto', n_estimators=100,class_weight =None__ \n",
    "<img src=\"Pred_3-0.png\">\n",
    "\n",
    "__weighting = {0:1,1:3,2:2}    \n",
    "max_depth=25,max_features='auto', n_estimators=200,class_weight = weighting__\n",
    " <img src=\"Pred_3-1.png\">\n",
    " \n",
    "__max_depth=25,max_features='auto', n_estimators=200,class_weight =\"balanced\"__    \n",
    " <img src=\"Pred_3-2.png\">\n",
    " \n",
    "  __max_depth=25,max_features='auto', n_estimators=200,class_weight = \"balanced_subsample\"__    \n",
    " <img src=\"Pred_3-3.png\">\n",
    "\n",
    " \n",
    " __max_depth=10,max_features='auto', n_estimators=500,class_weight =\"balanced\"__    \n",
    " <img src=\"Pred_3-4.png\"> \n",
    " \n",
    " __max_depth=10,max_features='auto', n_estimators=1000,class_weight =\"balanced\"__    \n",
    " <img src=\"Pred_3-5.png\">  \n",
    " \n",
    "__max_depth=5,max_features='auto', n_estimators=1500, class_weight = \"balanced\"__ \n",
    " <img src=\"Pred_3-6.png\"> "
   ]
  },
  {
   "cell_type": "markdown",
   "metadata": {},
   "source": [
    "## Using SGD Classifier"
   ]
  },
  {
   "cell_type": "code",
   "execution_count": 478,
   "metadata": {
    "collapsed": true
   },
   "outputs": [],
   "source": [
    "from sklearn.linear_model import SGDClassifier\n",
    "from sklearn import linear_model"
   ]
  },
  {
   "cell_type": "code",
   "execution_count": 498,
   "metadata": {
    "collapsed": true
   },
   "outputs": [],
   "source": [
    "#sgdc=linear_model.SGDClassifier()\n",
    "sgdc = linear_model.SGDClassifier(loss='modified_huber', penalty='l2', alpha=0.0001, class_weight='balanced',fit_intercept= True)\n",
    "#sgdc=SGDClassifier(loss = 'log', penalty = 'l2')\n",
    "#sgdc = linear_model.SGDClassifier(loss='log', penalty='l2', alpha=0.0001, class_weight='balanced',fit_intercept= True)"
   ]
  },
  {
   "cell_type": "markdown",
   "metadata": {},
   "source": [
    "###  SGD with 10 articles"
   ]
  },
  {
   "cell_type": "code",
   "execution_count": 492,
   "metadata": {
    "collapsed": true
   },
   "outputs": [],
   "source": [
    "from sklearn.metrics import f1_score"
   ]
  },
  {
   "cell_type": "code",
   "execution_count": 499,
   "metadata": {},
   "outputs": [
    {
     "name": "stdout",
     "output_type": "stream",
     "text": [
      "Runtime for Stochastic Gradient: 1.1356500000001688 seconds\n",
      "Training set accuracy: 0.9976\n",
      "\n",
      "Test set accuracy: 0.5396\n",
      "\n",
      "Cross validation results: 52.173% ± 3.441% \n",
      " \n",
      " [0.5246069  0.51522438 0.4953479  0.54862942 0.52482396]\n"
     ]
    }
   ],
   "source": [
    "start_time = time.clock() \n",
    "sgdc.fit(X_train_tfidf, Y_train_component10)\n",
    "print('Runtime for Stochastic Gradient: '+'%s seconds'% (time.clock() - start_time)) # End time for execution speed.\n",
    "\n",
    "print('Training set accuracy:', sgdc.score(X_train_tfidf, Y_train_component10))\n",
    "print('\\nTest set accuracy:', sgdc.score(X_test_tfidf, Y_test_component10))\n",
    "\n",
    "\n",
    "cv_train = cross_val_score(sgdc, X_train_tfidf, Y_train_component10, cv=5,scoring ='f1_weighted')\n",
    "\n",
    "### Put this with the Cros validation score.\n",
    "plusminus = u\"\\u00B1\"\n",
    " \n",
    "print('\\nCross validation results: {:.3%} {} {:.3%} \\n \\n {}'.format(cv_train.mean(), plusminus, 2*cv_train.std(), cv_train))"
   ]
  },
  {
   "cell_type": "markdown",
   "metadata": {},
   "source": [
    "__linear_model.SGDClassifier()__    \n",
    "Runtime for Stochastic Gradient: 1.3370409999997719 seconds   \n",
    "Training set score: 0.9796    \n",
    "\n",
    "Test set score: 0.5568    \n",
    "\n",
    "Cross validation results: 56.414% ± 2.239%      \n",
    " \n",
    "[0.56952761 0.55622089 0.54696869 0.5787717  0.56923077]    \n",
    " \n",
    "Cross validation results with f1: 51.315% ± 3.534%         \n",
    " \n",
    "[0.5209139  0.50799248 0.48372091 0.53770083 0.51541343]    \n",
    " \n",
    "  __linear_model.SGDClassifier( loss='squared_hinge', penalty='l2', alpha=0.001)__ \n",
    "  \n",
    "Runtime for Stochastic Gradient: 1.8012869999997747 seconds   \n",
    "Training set score: 0.7536   \n",
    "\n",
    "Test set score: 0.5524    \n",
    "\n",
    "Cross validation results: 56.187% ± 1.472%     \n",
    " \n",
    "[0.56287425 0.5582169  0.55096602 0.57343124 0.5638796 ]\n",
    "\n",
    "Cross validation results with f1: 47.849% ± 1.498%     \n",
    " \n",
    "[0.48046026 0.47158785 0.47122285 0.49172567 0.47746354]     \n",
    " \n",
    "  __linear_model.SGDClassifier(loss='hinge', penalty='l2', alpha=0.0001, class_weight='balanced')__    \n",
    "Runtime for Stochastic Gradient: 1.1366480000001502 seconds    \n",
    "Training set score: 0.9776    \n",
    "\n",
    "Test set score: 0.5148    \n",
    "\n",
    "Cross validation results: 51.732% ± 2.739%     \n",
    " \n",
    " [0.52694611 0.52761144 0.49900067 0.53070761 0.50234114]\n",
    " \n",
    "Cross validation results with f1: 50.954% ± 2.102%      \n",
    " \n",
    " [0.51501946 0.51582334 0.48971682 0.51893295 0.50821135]      \n",
    " \n",
    "  __SGDClassifier(loss = 'log', penalty = 'l2')__   \n",
    "Runtime for Stochastic Gradient: 2.047241000000213 seconds    \n",
    "Training set score: 0.7038666666666666    \n",
    "\n",
    "Test set score: 0.5496    \n",
    "\n",
    "Cross validation results: 55.561% ± 1.222%     \n",
    " \n",
    " [0.5508982  0.55622089 0.54830113 0.56608812 0.55652174]     \n",
    " \n",
    " Cross validation results with f1: 47.065% ± 1.525%     \n",
    " \n",
    " [0.47182113 0.46994533 0.45906048 0.48301861 0.46938309]   \n",
    " \n",
    "   \n",
    " __linear_model.SGDClassifier(loss='log', penalty='l2', alpha=0.0001, class_weight='balanced',fit_intercept= True)__    \n",
    " Runtime for Stochastic Gradient: 2.152926000000207 seconds    \n",
    "Training set score: 0.8681333333333333    \n",
    "\n",
    "Test set score: 0.5572    \n",
    "\n",
    "Cross validation results: 56.254% ± 2.843%     \n",
    " \n",
    " [0.55888224 0.56420492 0.54363757 0.58744993 0.55852843]\n",
    " \n",
    " Cross validation results with f1: 53.231% ± 2.631%    \n",
    " \n",
    " [0.52864192 0.5304459  0.51956666 0.55755627 0.52533252] \n",
    " \n",
    "__linear_model.SGDClassifier(loss='modified_huber', penalty='l2', alpha=0.0001, class_weight='balanced',fit_intercept= True)__\n",
    "\n",
    "Runtime for Stochastic Gradient: 1.5234479999999166 seconds   \n",
    "Training set score: 0.9974666666666666    \n",
    "\n",
    "Test set score: 0.5388    \n",
    "\n",
    "Cross validation results: 55.014% ± 2.270%    \n",
    " \n",
    " [0.55688623 0.54690619 0.5296469  0.56208278 0.55518395]\n",
    "    \n",
    " \n",
    " \n",
    " Cross validation results with f1: 52.173% ± 3.441%    \n",
    " \n",
    " [0.5246069  0.51522438 0.4953479  0.54862942 0.52482396]   \n",
    "  "
   ]
  },
  {
   "cell_type": "markdown",
   "metadata": {},
   "source": [
    "####  For the Train Set Prediction"
   ]
  },
  {
   "cell_type": "code",
   "execution_count": 138,
   "metadata": {
    "collapsed": true
   },
   "outputs": [],
   "source": [
    "# saving model predictions\n",
    "y_sgdc_train10 = sgdc.predict(X_train_tfidf)\n",
    "# Check the solution against the data."
   ]
  },
  {
   "cell_type": "code",
   "execution_count": 139,
   "metadata": {},
   "outputs": [
    {
     "name": "stdout",
     "output_type": "stream",
     "text": [
      "\n",
      "Comparing SGDC data against the training set data:\n"
     ]
    },
    {
     "data": {
      "text/html": [
       "<div>\n",
       "<style>\n",
       "    .dataframe thead tr:only-child th {\n",
       "        text-align: right;\n",
       "    }\n",
       "\n",
       "    .dataframe thead th {\n",
       "        text-align: left;\n",
       "    }\n",
       "\n",
       "    .dataframe tbody tr th {\n",
       "        vertical-align: top;\n",
       "    }\n",
       "</style>\n",
       "<table border=\"1\" class=\"dataframe\">\n",
       "  <thead>\n",
       "    <tr style=\"text-align: right;\">\n",
       "      <th></th>\n",
       "      <th>Predicted 0</th>\n",
       "      <th>Predicted 1</th>\n",
       "      <th>Predicted 2</th>\n",
       "      <th>Predicted 3</th>\n",
       "      <th>Predicted 4</th>\n",
       "      <th>Predicted 5</th>\n",
       "      <th>Predicted 6</th>\n",
       "      <th>Predicted 7</th>\n",
       "      <th>Predicted 8</th>\n",
       "      <th>Predicted 9</th>\n",
       "    </tr>\n",
       "  </thead>\n",
       "  <tbody>\n",
       "    <tr>\n",
       "      <th>Actual 0</th>\n",
       "      <td>1099</td>\n",
       "      <td>11</td>\n",
       "      <td>0</td>\n",
       "      <td>0</td>\n",
       "      <td>3</td>\n",
       "      <td>0</td>\n",
       "      <td>0</td>\n",
       "      <td>0</td>\n",
       "      <td>3</td>\n",
       "      <td>87</td>\n",
       "    </tr>\n",
       "    <tr>\n",
       "      <th>Actual 1</th>\n",
       "      <td>38</td>\n",
       "      <td>361</td>\n",
       "      <td>0</td>\n",
       "      <td>0</td>\n",
       "      <td>2</td>\n",
       "      <td>0</td>\n",
       "      <td>0</td>\n",
       "      <td>0</td>\n",
       "      <td>0</td>\n",
       "      <td>79</td>\n",
       "    </tr>\n",
       "    <tr>\n",
       "      <th>Actual 2</th>\n",
       "      <td>43</td>\n",
       "      <td>0</td>\n",
       "      <td>0</td>\n",
       "      <td>1</td>\n",
       "      <td>4</td>\n",
       "      <td>1</td>\n",
       "      <td>0</td>\n",
       "      <td>0</td>\n",
       "      <td>0</td>\n",
       "      <td>19</td>\n",
       "    </tr>\n",
       "    <tr>\n",
       "      <th>Actual 3</th>\n",
       "      <td>25</td>\n",
       "      <td>7</td>\n",
       "      <td>0</td>\n",
       "      <td>158</td>\n",
       "      <td>4</td>\n",
       "      <td>5</td>\n",
       "      <td>0</td>\n",
       "      <td>2</td>\n",
       "      <td>5</td>\n",
       "      <td>396</td>\n",
       "    </tr>\n",
       "    <tr>\n",
       "      <th>Actual 4</th>\n",
       "      <td>105</td>\n",
       "      <td>9</td>\n",
       "      <td>0</td>\n",
       "      <td>1</td>\n",
       "      <td>360</td>\n",
       "      <td>7</td>\n",
       "      <td>0</td>\n",
       "      <td>1</td>\n",
       "      <td>5</td>\n",
       "      <td>356</td>\n",
       "    </tr>\n",
       "    <tr>\n",
       "      <th>Actual 5</th>\n",
       "      <td>30</td>\n",
       "      <td>3</td>\n",
       "      <td>0</td>\n",
       "      <td>0</td>\n",
       "      <td>3</td>\n",
       "      <td>154</td>\n",
       "      <td>0</td>\n",
       "      <td>0</td>\n",
       "      <td>1</td>\n",
       "      <td>222</td>\n",
       "    </tr>\n",
       "    <tr>\n",
       "      <th>Actual 6</th>\n",
       "      <td>7</td>\n",
       "      <td>2</td>\n",
       "      <td>0</td>\n",
       "      <td>0</td>\n",
       "      <td>1</td>\n",
       "      <td>0</td>\n",
       "      <td>15</td>\n",
       "      <td>0</td>\n",
       "      <td>1</td>\n",
       "      <td>134</td>\n",
       "    </tr>\n",
       "    <tr>\n",
       "      <th>Actual 7</th>\n",
       "      <td>40</td>\n",
       "      <td>2</td>\n",
       "      <td>0</td>\n",
       "      <td>0</td>\n",
       "      <td>6</td>\n",
       "      <td>4</td>\n",
       "      <td>0</td>\n",
       "      <td>80</td>\n",
       "      <td>2</td>\n",
       "      <td>110</td>\n",
       "    </tr>\n",
       "    <tr>\n",
       "      <th>Actual 8</th>\n",
       "      <td>41</td>\n",
       "      <td>10</td>\n",
       "      <td>0</td>\n",
       "      <td>1</td>\n",
       "      <td>5</td>\n",
       "      <td>2</td>\n",
       "      <td>0</td>\n",
       "      <td>2</td>\n",
       "      <td>233</td>\n",
       "      <td>353</td>\n",
       "    </tr>\n",
       "    <tr>\n",
       "      <th>Actual 9</th>\n",
       "      <td>33</td>\n",
       "      <td>6</td>\n",
       "      <td>0</td>\n",
       "      <td>0</td>\n",
       "      <td>4</td>\n",
       "      <td>3</td>\n",
       "      <td>0</td>\n",
       "      <td>1</td>\n",
       "      <td>2</td>\n",
       "      <td>2790</td>\n",
       "    </tr>\n",
       "  </tbody>\n",
       "</table>\n",
       "</div>"
      ],
      "text/plain": [
       "          Predicted 0  Predicted 1  Predicted 2  Predicted 3  Predicted 4  \\\n",
       "Actual 0         1099           11            0            0            3   \n",
       "Actual 1           38          361            0            0            2   \n",
       "Actual 2           43            0            0            1            4   \n",
       "Actual 3           25            7            0          158            4   \n",
       "Actual 4          105            9            0            1          360   \n",
       "Actual 5           30            3            0            0            3   \n",
       "Actual 6            7            2            0            0            1   \n",
       "Actual 7           40            2            0            0            6   \n",
       "Actual 8           41           10            0            1            5   \n",
       "Actual 9           33            6            0            0            4   \n",
       "\n",
       "          Predicted 5  Predicted 6  Predicted 7  Predicted 8  Predicted 9  \n",
       "Actual 0            0            0            0            3           87  \n",
       "Actual 1            0            0            0            0           79  \n",
       "Actual 2            1            0            0            0           19  \n",
       "Actual 3            5            0            2            5          396  \n",
       "Actual 4            7            0            1            5          356  \n",
       "Actual 5          154            0            0            1          222  \n",
       "Actual 6            0           15            0            1          134  \n",
       "Actual 7            4            0           80            2          110  \n",
       "Actual 8            2            0            2          233          353  \n",
       "Actual 9            3            0            1            2         2790  "
      ]
     },
     "metadata": {},
     "output_type": "display_data"
    }
   ],
   "source": [
    "cm = confusion_matrix(Y_train_component10, y_sgdc_train10)\n",
    "\n",
    "df_cm = pd.DataFrame(cm, \n",
    "                     index=['Actual 0', 'Actual 1','Actual 2', 'Actual 3','Actual 4', 'Actual 5','Actual 6', 'Actual 7','Actual 8', 'Actual 9'], \n",
    "                     columns=['Predicted 0', 'Predicted 1','Predicted 2', 'Predicted 3','Predicted 4', 'Predicted 5','Predicted 6', 'Predicted 7','Predicted 8', 'Predicted 9']) \n",
    "\n",
    "print('\\nComparing SGDC data against the training set data:')\n",
    "display(df_cm)"
   ]
  },
  {
   "cell_type": "code",
   "execution_count": 140,
   "metadata": {},
   "outputs": [
    {
     "data": {
      "text/plain": [
       "9    2839\n",
       "0    1203\n",
       "4     844\n",
       "8     647\n",
       "3     602\n",
       "1     480\n",
       "5     413\n",
       "7     244\n",
       "6     160\n",
       "2      68\n",
       "Name: component, dtype: int64"
      ]
     },
     "execution_count": 140,
     "metadata": {},
     "output_type": "execute_result"
    }
   ],
   "source": [
    "Y_train_component10.value_counts()"
   ]
  },
  {
   "cell_type": "markdown",
   "metadata": {},
   "source": [
    " __linear_model.SGDClassifier()__ \n",
    " <img src=\"SgdcTrain10-1.png\"> \n",
    " \n",
    "  __linear_model.SGDClassifier( loss='squared_hinge', penalty='l2', alpha=0.001)__ \n",
    " <img src=\"SgdcTrain10-2.png\"> \n",
    "  __linear_model.SGDClassifier(loss='hinge', penalty='l2', alpha=0.0001, class_weight='balanced')__\n",
    "   <img src=\"SgdcTrain10-3.png\">\n",
    "   \n",
    "  __SGDClassifier(loss = 'log', penalty = 'l2')__ \n",
    "  <img src=\"SgdcTrain10-4.png\">\n",
    "\n",
    " __linear_model.SGDClassifier(loss='log', penalty='l2', alpha=0.0001, class_weight='balanced',fit_intercept= True)__\n",
    "<img src=\"SgdcTrain10-5.png\">\n",
    "\n",
    "__SGDClassifier(loss='modified_huber', penalty='l2', alpha=0.0001, class_weight='balanced',fit_intercept= True)__\n",
    "<img src=\"SgdcTrain10-6.png\">"
   ]
  },
  {
   "cell_type": "markdown",
   "metadata": {},
   "source": [
    "####  For the Test Set Prediction"
   ]
  },
  {
   "cell_type": "code",
   "execution_count": 141,
   "metadata": {
    "collapsed": true,
    "scrolled": true
   },
   "outputs": [],
   "source": [
    "# saving model predictions\n",
    "y_sgdc_test10 = sgdc.predict(X_test_tfidf)\n",
    "# Check the solution against the data."
   ]
  },
  {
   "cell_type": "code",
   "execution_count": 142,
   "metadata": {},
   "outputs": [
    {
     "name": "stdout",
     "output_type": "stream",
     "text": [
      "\n",
      "Comparing SGDC data against the test set data:\n"
     ]
    },
    {
     "data": {
      "text/html": [
       "<div>\n",
       "<style>\n",
       "    .dataframe thead tr:only-child th {\n",
       "        text-align: right;\n",
       "    }\n",
       "\n",
       "    .dataframe thead th {\n",
       "        text-align: left;\n",
       "    }\n",
       "\n",
       "    .dataframe tbody tr th {\n",
       "        vertical-align: top;\n",
       "    }\n",
       "</style>\n",
       "<table border=\"1\" class=\"dataframe\">\n",
       "  <thead>\n",
       "    <tr style=\"text-align: right;\">\n",
       "      <th></th>\n",
       "      <th>Predicted 0</th>\n",
       "      <th>Predicted 1</th>\n",
       "      <th>Predicted 2</th>\n",
       "      <th>Predicted 3</th>\n",
       "      <th>Predicted 4</th>\n",
       "      <th>Predicted 5</th>\n",
       "      <th>Predicted 6</th>\n",
       "      <th>Predicted 7</th>\n",
       "      <th>Predicted 8</th>\n",
       "      <th>Predicted 9</th>\n",
       "    </tr>\n",
       "  </thead>\n",
       "  <tbody>\n",
       "    <tr>\n",
       "      <th>Actual 0</th>\n",
       "      <td>329</td>\n",
       "      <td>16</td>\n",
       "      <td>0</td>\n",
       "      <td>2</td>\n",
       "      <td>9</td>\n",
       "      <td>2</td>\n",
       "      <td>0</td>\n",
       "      <td>0</td>\n",
       "      <td>9</td>\n",
       "      <td>62</td>\n",
       "    </tr>\n",
       "    <tr>\n",
       "      <th>Actual 1</th>\n",
       "      <td>21</td>\n",
       "      <td>95</td>\n",
       "      <td>0</td>\n",
       "      <td>0</td>\n",
       "      <td>1</td>\n",
       "      <td>1</td>\n",
       "      <td>0</td>\n",
       "      <td>0</td>\n",
       "      <td>1</td>\n",
       "      <td>38</td>\n",
       "    </tr>\n",
       "    <tr>\n",
       "      <th>Actual 2</th>\n",
       "      <td>18</td>\n",
       "      <td>0</td>\n",
       "      <td>0</td>\n",
       "      <td>0</td>\n",
       "      <td>1</td>\n",
       "      <td>0</td>\n",
       "      <td>0</td>\n",
       "      <td>0</td>\n",
       "      <td>0</td>\n",
       "      <td>5</td>\n",
       "    </tr>\n",
       "    <tr>\n",
       "      <th>Actual 3</th>\n",
       "      <td>9</td>\n",
       "      <td>1</td>\n",
       "      <td>0</td>\n",
       "      <td>5</td>\n",
       "      <td>5</td>\n",
       "      <td>1</td>\n",
       "      <td>0</td>\n",
       "      <td>0</td>\n",
       "      <td>3</td>\n",
       "      <td>204</td>\n",
       "    </tr>\n",
       "    <tr>\n",
       "      <th>Actual 4</th>\n",
       "      <td>80</td>\n",
       "      <td>7</td>\n",
       "      <td>0</td>\n",
       "      <td>1</td>\n",
       "      <td>26</td>\n",
       "      <td>1</td>\n",
       "      <td>0</td>\n",
       "      <td>7</td>\n",
       "      <td>4</td>\n",
       "      <td>171</td>\n",
       "    </tr>\n",
       "    <tr>\n",
       "      <th>Actual 5</th>\n",
       "      <td>11</td>\n",
       "      <td>3</td>\n",
       "      <td>0</td>\n",
       "      <td>1</td>\n",
       "      <td>4</td>\n",
       "      <td>28</td>\n",
       "      <td>0</td>\n",
       "      <td>0</td>\n",
       "      <td>0</td>\n",
       "      <td>87</td>\n",
       "    </tr>\n",
       "    <tr>\n",
       "      <th>Actual 6</th>\n",
       "      <td>1</td>\n",
       "      <td>0</td>\n",
       "      <td>0</td>\n",
       "      <td>0</td>\n",
       "      <td>0</td>\n",
       "      <td>0</td>\n",
       "      <td>0</td>\n",
       "      <td>0</td>\n",
       "      <td>0</td>\n",
       "      <td>37</td>\n",
       "    </tr>\n",
       "    <tr>\n",
       "      <th>Actual 7</th>\n",
       "      <td>20</td>\n",
       "      <td>0</td>\n",
       "      <td>0</td>\n",
       "      <td>0</td>\n",
       "      <td>2</td>\n",
       "      <td>2</td>\n",
       "      <td>0</td>\n",
       "      <td>15</td>\n",
       "      <td>1</td>\n",
       "      <td>46</td>\n",
       "    </tr>\n",
       "    <tr>\n",
       "      <th>Actual 8</th>\n",
       "      <td>20</td>\n",
       "      <td>5</td>\n",
       "      <td>0</td>\n",
       "      <td>1</td>\n",
       "      <td>9</td>\n",
       "      <td>3</td>\n",
       "      <td>0</td>\n",
       "      <td>0</td>\n",
       "      <td>23</td>\n",
       "      <td>136</td>\n",
       "    </tr>\n",
       "    <tr>\n",
       "      <th>Actual 9</th>\n",
       "      <td>36</td>\n",
       "      <td>4</td>\n",
       "      <td>0</td>\n",
       "      <td>2</td>\n",
       "      <td>3</td>\n",
       "      <td>5</td>\n",
       "      <td>0</td>\n",
       "      <td>2</td>\n",
       "      <td>8</td>\n",
       "      <td>850</td>\n",
       "    </tr>\n",
       "  </tbody>\n",
       "</table>\n",
       "</div>"
      ],
      "text/plain": [
       "          Predicted 0  Predicted 1  Predicted 2  Predicted 3  Predicted 4  \\\n",
       "Actual 0          329           16            0            2            9   \n",
       "Actual 1           21           95            0            0            1   \n",
       "Actual 2           18            0            0            0            1   \n",
       "Actual 3            9            1            0            5            5   \n",
       "Actual 4           80            7            0            1           26   \n",
       "Actual 5           11            3            0            1            4   \n",
       "Actual 6            1            0            0            0            0   \n",
       "Actual 7           20            0            0            0            2   \n",
       "Actual 8           20            5            0            1            9   \n",
       "Actual 9           36            4            0            2            3   \n",
       "\n",
       "          Predicted 5  Predicted 6  Predicted 7  Predicted 8  Predicted 9  \n",
       "Actual 0            2            0            0            9           62  \n",
       "Actual 1            1            0            0            1           38  \n",
       "Actual 2            0            0            0            0            5  \n",
       "Actual 3            1            0            0            3          204  \n",
       "Actual 4            1            0            7            4          171  \n",
       "Actual 5           28            0            0            0           87  \n",
       "Actual 6            0            0            0            0           37  \n",
       "Actual 7            2            0           15            1           46  \n",
       "Actual 8            3            0            0           23          136  \n",
       "Actual 9            5            0            2            8          850  "
      ]
     },
     "metadata": {},
     "output_type": "display_data"
    }
   ],
   "source": [
    "cm = confusion_matrix(Y_test_component10,  y_sgdc_test10)\n",
    "\n",
    "df_cm = pd.DataFrame(cm, \n",
    "                     index=['Actual 0', 'Actual 1','Actual 2', 'Actual 3','Actual 4', 'Actual 5','Actual 6', 'Actual 7','Actual 8', 'Actual 9'], \n",
    "                     columns=['Predicted 0', 'Predicted 1','Predicted 2', 'Predicted 3','Predicted 4', 'Predicted 5','Predicted 6', 'Predicted 7','Predicted 8', 'Predicted 9']) \n",
    "\n",
    "print('\\nComparing SGDC data against the test set data:')\n",
    "display(df_cm)"
   ]
  },
  {
   "cell_type": "code",
   "execution_count": 143,
   "metadata": {},
   "outputs": [
    {
     "data": {
      "text/plain": [
       "9    910\n",
       "0    429\n",
       "4    297\n",
       "3    228\n",
       "8    197\n",
       "1    157\n",
       "5    134\n",
       "7     86\n",
       "6     38\n",
       "2     24\n",
       "Name: component, dtype: int64"
      ]
     },
     "execution_count": 143,
     "metadata": {},
     "output_type": "execute_result"
    }
   ],
   "source": [
    "Y_test_component10.value_counts()"
   ]
  },
  {
   "cell_type": "markdown",
   "metadata": {},
   "source": [
    "__linear_model.SGDClassifier()__ \n",
    " <img src=\"SgdcTest10-1.png\"> \n",
    "__linear_model.SGDClassifier(loss='squared_hinge', penalty='l2', alpha=0.001)__ \n",
    " <img src=\"SgdcTest10-2.png\"> \n",
    "__linear_model.SGDClassifier(loss='hinge', penalty='l2', alpha=0.0001, class_weight='balanced')__\n",
    "  <img src=\"SgdTcest10-3.png\"> \n",
    "__SGDClassifier(loss = 'log', penalty = 'l2')__  \n",
    "  <img src=\"SgdcTest10-4.png\"> \n",
    "  \n",
    "__linear_model.SGDClassifier(loss='log', penalty='l2', alpha=0.0001, class_weight='balanced',fit_intercept= True)__\n",
    " <img src=\"SgdcTest10-5.png\">\n",
    " \n",
    " __SGDClassifier(loss='modified_huber', penalty='l2', alpha=0.0001, class_weight='balanced',fit_intercept= True)__\n",
    "  <img src=\"SgdcTest10-6.png\">"
   ]
  },
  {
   "cell_type": "markdown",
   "metadata": {
    "collapsed": true
   },
   "source": [
    "#### Confusion Matrix of Component 0"
   ]
  },
  {
   "cell_type": "code",
   "execution_count": 144,
   "metadata": {
    "collapsed": true
   },
   "outputs": [],
   "source": [
    "##True Negative\n",
    "#Predicted something else and Actual something else\n",
    "t_neg_0 = 0\n",
    "for i in range(1, 9):\n",
    "    t_neg_0 = t_neg_0 + df_cm.iloc[i,:].sum()"
   ]
  },
  {
   "cell_type": "code",
   "execution_count": 145,
   "metadata": {
    "collapsed": true
   },
   "outputs": [],
   "source": [
    "##False Positive\n",
    "#Predicted 0 and Actual something else\n",
    "f_pos_0 = 0\n",
    "for i in range(9):\n",
    "     f_pos_0 = f_pos_0 + df_cm.iloc[i+1,0]"
   ]
  },
  {
   "cell_type": "code",
   "execution_count": 146,
   "metadata": {
    "collapsed": true
   },
   "outputs": [],
   "source": [
    "#False Negative\n",
    "#Actual 0 and Predicted something else\n",
    "f_neg_0 = 0\n",
    "for i in range(9):\n",
    "     f_neg_0 =  f_neg_0 + df_cm.iloc[0,i+1]"
   ]
  },
  {
   "cell_type": "code",
   "execution_count": 147,
   "metadata": {
    "collapsed": true
   },
   "outputs": [],
   "source": [
    "#True Positive\n",
    "## Actual 0 and Predicted 0 \n",
    "t_pos_0 = df_cm.iloc[0,0]"
   ]
  },
  {
   "cell_type": "code",
   "execution_count": 148,
   "metadata": {
    "collapsed": true
   },
   "outputs": [],
   "source": [
    "df_cm_0 = pd.DataFrame(index=['Actual False 0', 'Actual True 0'], \n",
    "                       columns=['Predict False 0', 'Predict True 0']) "
   ]
  },
  {
   "cell_type": "code",
   "execution_count": 149,
   "metadata": {
    "collapsed": true
   },
   "outputs": [],
   "source": [
    "df_cm_0.iloc[1,1] = t_pos_0\n",
    "df_cm_0.iloc[0,0] = t_neg_0 \n",
    "df_cm_0.iloc[0,1] = f_pos_0 \n",
    "df_cm_0.iloc[1,0] = f_neg_0  "
   ]
  },
  {
   "cell_type": "code",
   "execution_count": 150,
   "metadata": {
    "scrolled": false
   },
   "outputs": [
    {
     "data": {
      "text/html": [
       "<div>\n",
       "<style>\n",
       "    .dataframe thead tr:only-child th {\n",
       "        text-align: right;\n",
       "    }\n",
       "\n",
       "    .dataframe thead th {\n",
       "        text-align: left;\n",
       "    }\n",
       "\n",
       "    .dataframe tbody tr th {\n",
       "        vertical-align: top;\n",
       "    }\n",
       "</style>\n",
       "<table border=\"1\" class=\"dataframe\">\n",
       "  <thead>\n",
       "    <tr style=\"text-align: right;\">\n",
       "      <th></th>\n",
       "      <th>Predict False 0</th>\n",
       "      <th>Predict True 0</th>\n",
       "    </tr>\n",
       "  </thead>\n",
       "  <tbody>\n",
       "    <tr>\n",
       "      <th>Actual False 0</th>\n",
       "      <td>1161</td>\n",
       "      <td>216</td>\n",
       "    </tr>\n",
       "    <tr>\n",
       "      <th>Actual True 0</th>\n",
       "      <td>100</td>\n",
       "      <td>329</td>\n",
       "    </tr>\n",
       "  </tbody>\n",
       "</table>\n",
       "</div>"
      ],
      "text/plain": [
       "               Predict False 0 Predict True 0\n",
       "Actual False 0            1161            216\n",
       "Actual True 0              100            329"
      ]
     },
     "execution_count": 150,
     "metadata": {},
     "output_type": "execute_result"
    }
   ],
   "source": [
    "df_cm_0"
   ]
  },
  {
   "cell_type": "markdown",
   "metadata": {},
   "source": [
    "__linear_model.SGDClassifier()__ \n",
    " <img src=\"SgdCM10-1.png\">   \n",
    "  __linear_model.SGDClassifier(loss='squared_hinge', penalty='l2', alpha=0.001)__ \n",
    " <img src=\"SgdCM10-2.png\"> \n",
    " __linear_model.SGDClassifier(loss='hinge', penalty='l2', alpha=0.0001, class_weight='balanced')__  \n",
    " <img src=\"SgdCM10-3.png\">   \n",
    " __SGDClassifier(loss = 'log', penalty = 'l2')__  \n",
    "  <img src=\"SgdCM10-4.png\">  \n",
    "   \n",
    "__linear_model.SGDClassifier(loss='log', penalty='l2', alpha=0.0001, class_weight='balanced',fit_intercept= True)__ \n",
    "<img src=\"SgdCM10-5.png\"> \n",
    "   \n",
    "__SGDClassifier(loss='modified_huber', penalty='l2', alpha=0.0001, class_weight='balanced',fit_intercept= True)__\n",
    "  <img src=\"SgdCM10-6.png\">"
   ]
  },
  {
   "cell_type": "markdown",
   "metadata": {},
   "source": [
    "#### Prediction "
   ]
  },
  {
   "cell_type": "code",
   "execution_count": 151,
   "metadata": {},
   "outputs": [
    {
     "data": {
      "text/plain": [
       "array([[0.08022281, 0.07402881, 0.01573932, ..., 0.01689986, 0.05574308,\n",
       "        0.51217173],\n",
       "       [0.23963545, 0.02111786, 0.01325297, ..., 0.02502252, 0.47446697,\n",
       "        0.08015241],\n",
       "       [0.04687298, 0.0385469 , 0.01037232, ..., 0.02611062, 0.09467852,\n",
       "        0.4807788 ],\n",
       "       ...,\n",
       "       [0.05208178, 0.03373261, 0.01566223, ..., 0.02524436, 0.16566294,\n",
       "        0.42363479],\n",
       "       [0.39991558, 0.02165238, 0.01469249, ..., 0.02078945, 0.07018788,\n",
       "        0.21995042],\n",
       "       [0.35684315, 0.13340085, 0.01456318, ..., 0.02652064, 0.05145856,\n",
       "        0.08910182]])"
      ]
     },
     "execution_count": 151,
     "metadata": {},
     "output_type": "execute_result"
    }
   ],
   "source": [
    "#ypred1_pro_10 = sgdc.predict(X_test_tfidf)\n",
    "ypred1_pro_10 = sgdc.predict_proba(X_test_tfidf)\n",
    "ypred1_pro_10"
   ]
  },
  {
   "cell_type": "code",
   "execution_count": 152,
   "metadata": {},
   "outputs": [
    {
     "data": {
      "text/plain": [
       "array([[0.07993888, 0.02278957, 0.01161871, 0.05232268, 0.13690768,\n",
       "        0.10450057, 0.019358  , 0.01817395, 0.13643452, 0.41795544]])"
      ]
     },
     "execution_count": 152,
     "metadata": {},
     "output_type": "execute_result"
    }
   ],
   "source": [
    "#ynew1_pro_10 = sgdc.predict(X_new_tfidf)\n",
    "ynew1_pro_10 = sgdc.predict_proba(X_new_tfidf)\n",
    "ynew1_pro_10"
   ]
  },
  {
   "cell_type": "markdown",
   "metadata": {},
   "source": [
    "__linear_model.SGDClassifier(loss=’hinge’, penalty=’l2’, alpha=0.0001,class_weight=None,fit_intercept=True)__ \n",
    "<img src=\"SgdcPred_10-1.png\">   \n",
    "\n",
    "__linear_model.SGDClassifier(loss='squared_hinge', penalty='l2', alpha=0.001,class_weight=None,fit_intercept=True)__ \n",
    " <img src=\"SgdcPred_10-2.png\">   \n",
    " \n",
    "__linear_model.SGDClassifier(loss='hinge', penalty='l2', alpha=0.0001, class_weight='balanced',fit_intercept=True)__  \n",
    " <img src=\"SgdcPred_10-3.png\">  \n",
    "\n",
    "__SGDClassifier(loss = 'log', penalty = 'l2', alpha=0.0001,class_weight=None,fit_intercept=True)__   \n",
    "  <img src=\"SgdcPred_10-4.png\">  \n",
    "\n",
    "   \n",
    "__linear_model.SGDClassifier(loss='log', penalty='l2', alpha=0.0001, class_weight='balanced',fit_intercept= True)__\n",
    "<img src=\"SgdcPred_10-5.png\"> \n",
    " \n",
    "   __SGDClassifier(loss='modified_huber', penalty='l2', alpha=0.0001, class_weight='balanced',fit_intercept= True)__\n",
    "    <img src=\"SgdcPred_10-6.png\">"
   ]
  },
  {
   "cell_type": "markdown",
   "metadata": {},
   "source": [
    "###  SGD with 3 articles"
   ]
  },
  {
   "cell_type": "code",
   "execution_count": 500,
   "metadata": {},
   "outputs": [
    {
     "name": "stdout",
     "output_type": "stream",
     "text": [
      "Runtime for Stochastic Gradient: 0.41654799999992065 seconds\n",
      "Training set accuracy: 0.9988\n",
      "\n",
      "Test set accuracy: 0.7108\n",
      "\n",
      "Cross validation results: 68.531% ± 2.271% \n",
      " \n",
      " [0.66946055 0.69330942 0.695002   0.67357101 0.69520745]\n"
     ]
    }
   ],
   "source": [
    "start_time = time.clock() \n",
    "sgdc.fit(X_train_tfidf, Y_train_component3)\n",
    "print('Runtime for Stochastic Gradient: '+'%s seconds'% (time.clock() - start_time)) # End time for execution speed.\n",
    "\n",
    "print('Training set accuracy:', sgdc.score(X_train_tfidf, Y_train_component3))\n",
    "print('\\nTest set accuracy:', sgdc.score(X_test_tfidf, Y_test_component3))\n",
    "\n",
    "\n",
    "\n",
    "cv_train = cross_val_score(sgdc, X_train_tfidf, Y_train_component3, cv=5,scoring ='f1_weighted')\n",
    "\n",
    "### Put this with the Cros validation score.\n",
    "plusminus = u\"\\u00B1\"\n",
    " \n",
    "print('\\nCross validation results: {:.3%} {} {:.3%} \\n \\n {}'.format(cv_train.mean(), plusminus, 2*cv_train.std(), cv_train))"
   ]
  },
  {
   "cell_type": "markdown",
   "metadata": {},
   "source": [
    "__linear_model.SGDClassifier()__    \n",
    "Runtime for Stochastic Gradient: 0.5707250000000386 seconds    \n",
    "Training set score: 0.96    \n",
    "\n",
    "Test set score: 0.7264    \n",
    "\n",
    "Cross validation results: 73.040% ± 1.496%        \n",
    " \n",
    "[0.71637816 0.73284477 0.73382255 0.73048699 0.73849233]   \n",
    " \n",
    "Cross validation results with f1: 68.123% ± 2.034%    \n",
    " \n",
    "[0.6651728  0.69247943 0.68185895 0.67545592 0.69116948]     \n",
    " \n",
    " \n",
    "   __Parameters: loss='squared_hinge', penalty='l2', alpha=0.001__ \n",
    "   \n",
    "Runtime for Stochastic Gradient: 0.781221999999616 seconds   \n",
    "Training set score: 0.7952    \n",
    "\n",
    "Test set score: 0.73    \n",
    "\n",
    "Cross validation results: 73.014% ± 1.047%     \n",
    " \n",
    "[0.72569907 0.72684877 0.73582388 0.7251501  0.73715811]\n",
    " \n",
    " \n",
    "Cross validation results with f1: 65.619% ± 1.189%    \n",
    " \n",
    "[0.65142992 0.64976743 0.66012716 0.65386421 0.66577976]     \n",
    " \n",
    " \n",
    " __loss='hinge', penalty='l2', alpha=0.0001, class_weight='balanced'__   \n",
    " \n",
    "Runtime for Stochastic Gradient: 0.5442219999999907 seconds   \n",
    "Training set score: 0.9865333333333334    \n",
    "\n",
    "Test set score: 0.7016     \n",
    "\n",
    "Cross validation results: 71.121% ± 2.459%     \n",
    " \n",
    " [0.69241012 0.7101932  0.72581721 0.70446965 0.72314877]        \n",
    " \n",
    " \n",
    "Cross validation results with f1: 68.948% ± 2.468%     \n",
    " \n",
    "[0.67145707 0.69507671 0.70242054 0.67831853 0.70011188]\n",
    " \n",
    " __SGDClassifier(loss = 'log', penalty = 'l2')__       \n",
    "Runtime for Stochastic Gradient: 0.8463790000000699 seconds    \n",
    "Training set score: 0.8    \n",
    "\n",
    "Test set score: 0.7316    \n",
    "\n",
    "Cross validation results: 73.120% ± 0.941%     \n",
    " \n",
    " [0.72636485 0.72884744 0.73382255 0.72781855 0.73915944]   \n",
    " \n",
    " Cross validation results with f1: 65.894% ± 1.300%    \n",
    " \n",
    " [0.65559205 0.65207081 0.65929829 0.65665021 0.67108847]    \n",
    "    \n",
    " \n",
    " __linear_model.SGDClassifier(loss='log', penalty='l2', alpha=0.0001, class_weight='balanced',fit_intercept= True)__    \n",
    "Runtime for Stochastic Gradient: 0.6229519999997137 seconds    \n",
    "Training set score: 0.9478666666666666    \n",
    "\n",
    "Test set score: 0.7272     \n",
    " \n",
    "Cross validation results: 73.254% ± 1.883%      \n",
    " \n",
    " [0.72103862 0.72684877 0.73182121 0.73382255 0.74916611]  \n",
    " \n",
    " Cross validation results with f1: 69.467% ± 1.582%    \n",
    " \n",
    " [0.68915633 0.68873203 0.6946558  0.69086111 0.70992599]    \n",
    " \n",
    " \n",
    "__SGDClassifier(loss='modified_huber', penalty='l2', alpha=0.0001, class_weight='balanced',fit_intercept= True)__     \n",
    " Runtime for Stochastic Gradient: 0.5569269999996322 seconds    \n",
    "Training set score: 0.9992    \n",
    "\n",
    "Test set score: 0.7016    \n",
    "\n",
    "Cross validation results: 70.974% ± 2.619%    \n",
    " \n",
    " [0.69507324 0.7248501  0.71981321 0.69312875 0.71581054]    \n",
    " \n",
    " \n",
    " Cross validation results with f1: 68.531% ± 2.271%     \n",
    " \n",
    " [0.66946055 0.69330942 0.695002   0.67357101 0.69520745]   "
   ]
  },
  {
   "cell_type": "markdown",
   "metadata": {},
   "source": [
    "####  For the Train Set Prediction"
   ]
  },
  {
   "cell_type": "code",
   "execution_count": 154,
   "metadata": {
    "collapsed": true
   },
   "outputs": [],
   "source": [
    "# saving model predictions\n",
    "y_sgdc_train3 = sgdc.predict(X_train_tfidf)\n",
    "# Check the solution against the data."
   ]
  },
  {
   "cell_type": "code",
   "execution_count": 155,
   "metadata": {},
   "outputs": [
    {
     "name": "stdout",
     "output_type": "stream",
     "text": [
      "\n",
      "Comparing SGDC data against the training set data:\n"
     ]
    },
    {
     "data": {
      "text/html": [
       "<div>\n",
       "<style>\n",
       "    .dataframe thead tr:only-child th {\n",
       "        text-align: right;\n",
       "    }\n",
       "\n",
       "    .dataframe thead th {\n",
       "        text-align: left;\n",
       "    }\n",
       "\n",
       "    .dataframe tbody tr th {\n",
       "        vertical-align: top;\n",
       "    }\n",
       "</style>\n",
       "<table border=\"1\" class=\"dataframe\">\n",
       "  <thead>\n",
       "    <tr style=\"text-align: right;\">\n",
       "      <th></th>\n",
       "      <th>Predicted 0</th>\n",
       "      <th>Predicted 1</th>\n",
       "      <th>Predicted 2</th>\n",
       "    </tr>\n",
       "  </thead>\n",
       "  <tbody>\n",
       "    <tr>\n",
       "      <th>Actual 0</th>\n",
       "      <td>5206</td>\n",
       "      <td>22</td>\n",
       "      <td>1</td>\n",
       "    </tr>\n",
       "    <tr>\n",
       "      <th>Actual 1</th>\n",
       "      <td>971</td>\n",
       "      <td>819</td>\n",
       "      <td>0</td>\n",
       "    </tr>\n",
       "    <tr>\n",
       "      <th>Actual 2</th>\n",
       "      <td>465</td>\n",
       "      <td>4</td>\n",
       "      <td>12</td>\n",
       "    </tr>\n",
       "  </tbody>\n",
       "</table>\n",
       "</div>"
      ],
      "text/plain": [
       "          Predicted 0  Predicted 1  Predicted 2\n",
       "Actual 0         5206           22            1\n",
       "Actual 1          971          819            0\n",
       "Actual 2          465            4           12"
      ]
     },
     "metadata": {},
     "output_type": "display_data"
    }
   ],
   "source": [
    "cm = confusion_matrix(Y_train_component3, y_sgdc_train3)\n",
    "\n",
    "df_cm = pd.DataFrame(cm, \n",
    "                     index=['Actual 0', 'Actual 1','Actual 2'], \n",
    "                     columns=['Predicted 0', 'Predicted 1','Predicted 2'])\n",
    "\n",
    "print('\\nComparing SGDC data against the training set data:')\n",
    "display(df_cm)"
   ]
  },
  {
   "cell_type": "code",
   "execution_count": 156,
   "metadata": {},
   "outputs": [
    {
     "data": {
      "text/plain": [
       "0    5229\n",
       "1    1790\n",
       "2     481\n",
       "Name: component, dtype: int64"
      ]
     },
     "execution_count": 156,
     "metadata": {},
     "output_type": "execute_result"
    }
   ],
   "source": [
    "Y_train_component3.value_counts()"
   ]
  },
  {
   "cell_type": "markdown",
   "metadata": {},
   "source": [
    " __linear_model.SGDClassifier(loss=’hinge’, penalty=’l2’, alpha=0.0001,class_weight=None,fit_intercept=True)__ \n",
    " <img src=\"SgdcTrain3-1.png\"> \n",
    "   __linear_model.SGDClassifier(loss='squared_hinge', penalty='l2', alpha=0.001,class_weight=None,fit_intercept=True)__ \n",
    " <img src=\"SgdcTrain3-2.png\"> \n",
    " __linear_model.SGDClassifier(loss='hinge', penalty='l2', alpha=0.0001, class_weight='balanced',fit_intercept=True)__\n",
    " <img src=\"SgdcTrain3-3.png\">\n",
    " \n",
    " __SGDClassifier(loss = 'log', penalty = 'l2',alpha=0.0001,class_weight=None,fit_intercept=True)__  \n",
    " <img src=\"SgdcTrain3-4.png\">  \n",
    "  \n",
    " __linear_model.SGDClassifier(loss='log', penalty='l2', alpha=0.0001, class_weight='balanced',fit_intercept= True)__\n",
    "  <img src=\"SgdcTrain3-5.png\">  \n",
    " \n",
    "   \n",
    "__SGDClassifier(loss='modified_huber', penalty='l2', alpha=0.0001, class_weight='balanced',fit_intercept= True)__\n",
    " <img src=\"SgdcTrain3-6.png\"> "
   ]
  },
  {
   "cell_type": "markdown",
   "metadata": {},
   "source": [
    "####  For the Test Set Prediction"
   ]
  },
  {
   "cell_type": "code",
   "execution_count": 157,
   "metadata": {
    "collapsed": true
   },
   "outputs": [],
   "source": [
    "# saving model predictions\n",
    "y_sgdc_test3 = sgdc.predict(X_test_tfidf)\n",
    "# Check the solution against the data."
   ]
  },
  {
   "cell_type": "code",
   "execution_count": 158,
   "metadata": {},
   "outputs": [
    {
     "name": "stdout",
     "output_type": "stream",
     "text": [
      "\n",
      "Comparing SGDC data against the test set data:\n"
     ]
    },
    {
     "data": {
      "text/html": [
       "<div>\n",
       "<style>\n",
       "    .dataframe thead tr:only-child th {\n",
       "        text-align: right;\n",
       "    }\n",
       "\n",
       "    .dataframe thead th {\n",
       "        text-align: left;\n",
       "    }\n",
       "\n",
       "    .dataframe tbody tr th {\n",
       "        vertical-align: top;\n",
       "    }\n",
       "</style>\n",
       "<table border=\"1\" class=\"dataframe\">\n",
       "  <thead>\n",
       "    <tr style=\"text-align: right;\">\n",
       "      <th></th>\n",
       "      <th>Predicted 0</th>\n",
       "      <th>Predicted 1</th>\n",
       "      <th>Predicted 2</th>\n",
       "    </tr>\n",
       "  </thead>\n",
       "  <tbody>\n",
       "    <tr>\n",
       "      <th>Actual 0</th>\n",
       "      <td>1706</td>\n",
       "      <td>34</td>\n",
       "      <td>3</td>\n",
       "    </tr>\n",
       "    <tr>\n",
       "      <th>Actual 1</th>\n",
       "      <td>493</td>\n",
       "      <td>121</td>\n",
       "      <td>1</td>\n",
       "    </tr>\n",
       "    <tr>\n",
       "      <th>Actual 2</th>\n",
       "      <td>140</td>\n",
       "      <td>0</td>\n",
       "      <td>2</td>\n",
       "    </tr>\n",
       "  </tbody>\n",
       "</table>\n",
       "</div>"
      ],
      "text/plain": [
       "          Predicted 0  Predicted 1  Predicted 2\n",
       "Actual 0         1706           34            3\n",
       "Actual 1          493          121            1\n",
       "Actual 2          140            0            2"
      ]
     },
     "metadata": {},
     "output_type": "display_data"
    }
   ],
   "source": [
    "cm = confusion_matrix(Y_test_component3, y_sgdc_test3)\n",
    "\n",
    "df_cm = pd.DataFrame(cm, \n",
    "                     index=['Actual 0', 'Actual 1','Actual 2'], \n",
    "                     columns=['Predicted 0', 'Predicted 1','Predicted 2'])\n",
    "\n",
    "print('\\nComparing SGDC data against the test set data:')\n",
    "display(df_cm)"
   ]
  },
  {
   "cell_type": "code",
   "execution_count": 159,
   "metadata": {},
   "outputs": [
    {
     "data": {
      "text/plain": [
       "0    1743\n",
       "1     615\n",
       "2     142\n",
       "Name: component, dtype: int64"
      ]
     },
     "execution_count": 159,
     "metadata": {},
     "output_type": "execute_result"
    }
   ],
   "source": [
    "Y_test_component3.value_counts()"
   ]
  },
  {
   "cell_type": "markdown",
   "metadata": {},
   "source": [
    " __linear_model.SGDClassifier()__ \n",
    " <img src=\"SgdcTest3-1.png\"> \n",
    "   __linear_model.SGDClassifier( loss='squared_hinge', penalty='l2', alpha=0.001)__ \n",
    " <img src=\"SgdcTest3-2.png\"> \n",
    " __linear_model.SGDClassifier(loss='hinge', penalty='l2', alpha=0.0001, class_weight='balanced')__\n",
    " <img src=\"SgdcTest3-3.png\">\n",
    " \n",
    " __SGDClassifier(loss = 'log', penalty = 'l2')__   \n",
    " <img src=\"SgdcTest3-4.png\">   \n",
    " \n",
    "  \n",
    " __linear_model.SGDClassifier(loss='log', penalty='l2', alpha=0.0001, class_weight='balanced',fit_intercept= True)__\n",
    " <img src=\"SgdcTest3-5.png\">\n",
    " \n",
    "      \n",
    "__SGDClassifier(loss='modified_huber', penalty='l2', alpha=0.0001, class_weight='balanced',fit_intercept= True)__\n",
    " <img src=\"SgdcTest3-6.png\">"
   ]
  },
  {
   "cell_type": "markdown",
   "metadata": {
    "collapsed": true
   },
   "source": [
    "#### Confusion Matrix of Component 0"
   ]
  },
  {
   "cell_type": "code",
   "execution_count": 160,
   "metadata": {
    "collapsed": true
   },
   "outputs": [],
   "source": [
    "##True Negative\n",
    "#Predicted something else and Actual something else\n",
    "t_neg_0 = 0\n",
    "for i in range(1, 2):\n",
    "    t_neg_0 = t_neg_0 + df_cm.iloc[i,:].sum()"
   ]
  },
  {
   "cell_type": "code",
   "execution_count": 161,
   "metadata": {
    "collapsed": true
   },
   "outputs": [],
   "source": [
    "##False Positive\n",
    "#Predicted 0 and Actual something else\n",
    "f_pos_0 = 0\n",
    "for i in range(2):\n",
    "     f_pos_0 = f_pos_0 + df_cm.iloc[i+1,0]"
   ]
  },
  {
   "cell_type": "code",
   "execution_count": 162,
   "metadata": {
    "collapsed": true
   },
   "outputs": [],
   "source": [
    "#False Negative\n",
    "#Actual 0 and Predicted something else\n",
    "f_neg_0 = 0\n",
    "for i in range(2):\n",
    "     f_neg_0 =  f_neg_0 + df_cm.iloc[0,i+1]"
   ]
  },
  {
   "cell_type": "code",
   "execution_count": 163,
   "metadata": {
    "collapsed": true
   },
   "outputs": [],
   "source": [
    "#True Positive\n",
    "## Actual 0 and Predicted 0 \n",
    "t_pos_0 = df_cm.iloc[0,0]"
   ]
  },
  {
   "cell_type": "code",
   "execution_count": 164,
   "metadata": {
    "collapsed": true
   },
   "outputs": [],
   "source": [
    "df_cm_0 = pd.DataFrame(index=['Actual False 0', 'Actual True 0'], \n",
    "                       columns=['Predict False 0', 'Predict True 0']) "
   ]
  },
  {
   "cell_type": "code",
   "execution_count": 165,
   "metadata": {
    "collapsed": true
   },
   "outputs": [],
   "source": [
    "df_cm_0.iloc[1,1] = t_pos_0\n",
    "df_cm_0.iloc[0,0] = t_neg_0 \n",
    "df_cm_0.iloc[0,1] = f_pos_0 \n",
    "df_cm_0.iloc[1,0] = f_neg_0  "
   ]
  },
  {
   "cell_type": "code",
   "execution_count": 166,
   "metadata": {
    "scrolled": true
   },
   "outputs": [
    {
     "data": {
      "text/html": [
       "<div>\n",
       "<style>\n",
       "    .dataframe thead tr:only-child th {\n",
       "        text-align: right;\n",
       "    }\n",
       "\n",
       "    .dataframe thead th {\n",
       "        text-align: left;\n",
       "    }\n",
       "\n",
       "    .dataframe tbody tr th {\n",
       "        vertical-align: top;\n",
       "    }\n",
       "</style>\n",
       "<table border=\"1\" class=\"dataframe\">\n",
       "  <thead>\n",
       "    <tr style=\"text-align: right;\">\n",
       "      <th></th>\n",
       "      <th>Predict False 0</th>\n",
       "      <th>Predict True 0</th>\n",
       "    </tr>\n",
       "  </thead>\n",
       "  <tbody>\n",
       "    <tr>\n",
       "      <th>Actual False 0</th>\n",
       "      <td>615</td>\n",
       "      <td>633</td>\n",
       "    </tr>\n",
       "    <tr>\n",
       "      <th>Actual True 0</th>\n",
       "      <td>37</td>\n",
       "      <td>1706</td>\n",
       "    </tr>\n",
       "  </tbody>\n",
       "</table>\n",
       "</div>"
      ],
      "text/plain": [
       "               Predict False 0 Predict True 0\n",
       "Actual False 0             615            633\n",
       "Actual True 0               37           1706"
      ]
     },
     "execution_count": 166,
     "metadata": {},
     "output_type": "execute_result"
    }
   ],
   "source": [
    "df_cm_0"
   ]
  },
  {
   "cell_type": "markdown",
   "metadata": {},
   "source": [
    "__linear_model.SGDClassifier()__ \n",
    " <img src=\"SgdCM3-1.png\">   \n",
    " \n",
    "__linear_model.SGDClassifier(loss='squared_hinge', penalty='l2', alpha=0.001)__ \n",
    " <img src=\"SgdCM3-2.png\">   \n",
    " __linear_model.SGDClassifier(loss='hinge', penalty='l2', alpha=0.0001, class_weight='balanced')__   \n",
    "    <img src=\"SgdCM3-3.png\">\n",
    " \n",
    "__SGDClassifier(loss = 'log', penalty = 'l2')__   \n",
    "  <img src=\"SgdCM3-4.png\">  \n",
    "\n",
    "   \n",
    " __linear_model.SGDClassifier(loss='log', penalty='l2', alpha=0.0001, class_weight='balanced',fit_intercept= True)__   \n",
    "<img src=\"SgdCM3-5.png\"> \n",
    " \n",
    " \n",
    "   \n",
    " __SGDClassifier(loss='modified_huber', penalty='l2', alpha=0.0001, class_weight='balanced',fit_intercept= True)__\n",
    " <img src=\"SgdCM3-6.png\"> "
   ]
  },
  {
   "cell_type": "markdown",
   "metadata": {},
   "source": [
    "#### Prediction "
   ]
  },
  {
   "cell_type": "code",
   "execution_count": 167,
   "metadata": {},
   "outputs": [
    {
     "data": {
      "text/plain": [
       "array([[0.56958589, 0.37615191, 0.0542622 ],\n",
       "       [0.90824429, 0.05144419, 0.04031152],\n",
       "       [0.61192038, 0.33467231, 0.0534073 ],\n",
       "       ...,\n",
       "       [0.58359575, 0.36842785, 0.04797639],\n",
       "       [0.86890916, 0.08427497, 0.04681587],\n",
       "       [0.72964224, 0.22921599, 0.04114177]])"
      ]
     },
     "execution_count": 167,
     "metadata": {},
     "output_type": "execute_result"
    }
   ],
   "source": [
    "#ypred1_pro_3 = sgdc.predict(X_test_tfidf)\n",
    "ypred1_pro_3 = sgdc.predict_proba(X_test_tfidf)\n",
    "ypred1_pro_3"
   ]
  },
  {
   "cell_type": "code",
   "execution_count": 168,
   "metadata": {},
   "outputs": [
    {
     "data": {
      "text/plain": [
       "array([[0.85252286, 0.09372341, 0.05375373]])"
      ]
     },
     "execution_count": 168,
     "metadata": {},
     "output_type": "execute_result"
    }
   ],
   "source": [
    "#ynew1_pro_3 = sgdc.predict(X_new_tfidf)\n",
    "ynew1_pro_3 = sgdc.predict_proba(X_new_tfidf)\n",
    "ynew1_pro_3"
   ]
  },
  {
   "cell_type": "markdown",
   "metadata": {},
   "source": [
    "__linear_model.SGDClassifier()__ \n",
    "<img src=\"SgdcPred_3-1.png\">   \n",
    "\n",
    " __linear_model.SGDClassifier(loss='squared_hinge', penalty='l2', alpha=0.001)__ \n",
    " <img src=\"SgdcPred_3-2.png\"> \n",
    " \n",
    "__linear_model.SGDClassifier(loss='hinge', penalty='l2', alpha=0.0001, class_weight='balanced')__   \n",
    "<img src=\"SgdcPred_3-3.png\">  \n",
    "  \n",
    "__SGDClassifier(loss = 'log', penalty = 'l2')__   \n",
    " <img src=\"SgdcPred_3-4.png\">\n",
    "  \n",
    "    \n",
    "__linear_model.SGDClassifier(loss='log', penalty='l2', alpha=0.0001, class_weight='balanced',fit_intercept= True)__\n",
    "<img src=\"SgdcPred_3-5.png\">\n",
    "      \n",
    "\n",
    " __SGDClassifier(loss='modified_huber', penalty='l2', alpha=0.0001, class_weight='balanced',fit_intercept= True)__\n",
    "    <img src=\"SgdcPred_3-6.png\">"
   ]
  },
  {
   "cell_type": "code",
   "execution_count": 208,
   "metadata": {
    "scrolled": false
   },
   "outputs": [
    {
     "name": "stdout",
     "output_type": "stream",
     "text": [
      "berlin reuters     tens of thousands of people protested in european cities on saturday against planned free trade deals with the united states and canada they say would undermine democracy and lower food safety environmental and labour standards organisers     an alliance of environmental groups labour unions and opposition parties     said 320 000 people took part in rallies in seven german cities including berlin hamburg munich and frankfurt police put the figure at around 180 000  smaller protests were also planned in other european cities including vienna and salzburg in austria and gothenburg and stockholm in sweden in berlin demonstrators waved banners reading stopp ceta     stopp ttip another placard said people over profits the demonstrations are against the transatlantic trade and investment partnership ttip with the united states and the comprehensive economic trade agreement ceta with canada currently being negotiated by the european unions executive with the respective governments across the atlantic opposition in europe to the trade deals has risen over the past year with critics saying the pacts would hand too much power to big multinationals at the expense of consumers and workers by establishing arbitration courts to settle disputes between companies and governments horror stories eu trade commissioner cecilia malmstrom defended the planned trade deals and accused the opponents of deliberately heating up the debate with horror stories and lies the idea that ttip will lower environmental standards is simply not true malmstrom told german daily bild also the assertion that well be flooded with genetically modified food is simply wrong our democracy of course wont be undermined as some seem to believe  malmstrom said german exporters would benefit highly from the deals because they would reduce   barriers to trade this helps germany and creates jobs she added german economy minister sigmar gabriel who faces crunch ceta vote on monday by his social democrats spd said that the trade agreements were europes best chance to shape globalisation so that it served people and not only the interests of a few businesses if ceta fails then well not have another chance to shape globalisation in this way for decades gabriel told bild am sonntag in an interview published on saturday europe still is the biggest trading region in the world we should use this power  gabriels spd junior coalition partner of chancellor angela merkels conservative will vote on monday whether to back the trade deal between the eu and canada gabriel who is also vice chancellor and spd leader has championed ceta as part of his remit as economy minister and to demonstrate the   partys business credentials but critics on the spds left wing are sceptical about the benefits of the deal and believe it would give multinationals greater access to european markets without creating jobs a failure to secure a majority of delegates at mondays spd convention in favour of the accord could scupper gabriels chances of standing as the partys candidate for chancellor in national elections next year\n"
     ]
    }
   ],
   "source": [
    "print(X_new[rem[0]])"
   ]
  },
  {
   "cell_type": "markdown",
   "metadata": {},
   "source": [
    "## Future Work"
   ]
  },
  {
   "cell_type": "markdown",
   "metadata": {},
   "source": [
    "1. Use 2 other data sets that had a different Publications  distribution than the one I used for my Training Set and Test Set.\n",
    "\n",
    "2. Get a better Computing Engine because with the computer I have I could only with a small of the data and running small amount of epochs \n",
    "\n",
    "3. Use Data from the other 2 Data set to improve Test  and Training Sets for my Keras Model.\n",
    "\n",
    "4. Use Data from other 2 Data sets to predict topic of articles on the SGD Model. \n"
   ]
  },
  {
   "cell_type": "code",
   "execution_count": 501,
   "metadata": {
    "collapsed": true
   },
   "outputs": [
    {
     "data": {
      "text/plain": [
       "[('df0', 460166489),\n",
       " ('df', 41982091),\n",
       " ('X_train', 29229281),\n",
       " ('X_test', 9582684),\n",
       " ('Component_train10', 1352277),\n",
       " ('Component_train3', 1352277),\n",
       " ('Y_train', 964597),\n",
       " ('titles1_by_component', 660024),\n",
       " ('Y_train_lsa10', 600112),\n",
       " ('Y_train_component10', 447704),\n",
       " ('Y_train_component3', 447704),\n",
       " ('Component_test10', 424507),\n",
       " ('Component_test3', 424507),\n",
       " ('Y_test', 322587),\n",
       " ('titles1_by_component2', 240024),\n",
       " ('titles2_by_component', 220024),\n",
       " ('Y_test_lsa10', 200112),\n",
       " ('ypred1_pro_10', 200112),\n",
       " ('Y_train_lsa3', 180112),\n",
       " ('Y_test_component10', 121944),\n",
       " ('Y_test_component3', 121944),\n",
       " ('titles2_by_component2', 80024),\n",
       " ('Y_test_lsa3', 60112),\n",
       " ('ypred1_pro_3', 60112),\n",
       " ('y_rfc10', 60096),\n",
       " ('y_rfc3', 60096),\n",
       " ('y_sgdc_train10', 60096),\n",
       " ('y_sgdc_train3', 60096),\n",
       " ('y_rfc10_test', 20096),\n",
       " ('y_rfc3_test', 20096),\n",
       " ('y_sgdc_test10', 20096),\n",
       " ('y_sgdc_test3', 20096),\n",
       " ('df_new', 19842),\n",
       " ('X_new', 3280),\n",
       " ('SGDClassifier', 2000),\n",
       " ('CountVectorizer', 1464),\n",
       " ('TruncatedSVD', 1184),\n",
       " ('null_count', 1143),\n",
       " ('Convolution1D', 1056),\n",
       " ('Dense', 1056),\n",
       " ('Dropout', 1056),\n",
       " ('Flatten', 1056),\n",
       " ('Image', 1056),\n",
       " ('LSTM', 1056),\n",
       " ('MaxPooling1D', 1056),\n",
       " ('Model', 1056),\n",
       " ('Normalizer', 1056),\n",
       " ('RMSprop', 1056),\n",
       " ('Sequential', 1056),\n",
       " ('TimeDistributed', 1056),\n",
       " ('TfidfVectorizer', 888),\n",
       " ('df_cm', 371),\n",
       " ('df_cm_0', 321),\n",
       " ('tf_feature_names', 192),\n",
       " ('ynew1_pro_10', 192),\n",
       " ('cm', 184),\n",
       " ('Input', 136),\n",
       " ('classification_report', 136),\n",
       " ('confusion_matrix', 136),\n",
       " ('cross_val_predict', 136),\n",
       " ('cross_val_score', 136),\n",
       " ('display', 136),\n",
       " ('f1_score', 136),\n",
       " ('make_pipeline', 136),\n",
       " ('train_test_split', 136),\n",
       " ('ynew1_pro_3', 136),\n",
       " ('variance_explained', 120),\n",
       " ('rem', 112),\n",
       " ('ynew_pro_10', 112),\n",
       " ('ynew_pro_3', 112),\n",
       " ('ypred_pro_10', 112),\n",
       " ('ypred_pro_3', 112),\n",
       " ('cv_train', 96),\n",
       " ('K', 80),\n",
       " ('ensemble', 80),\n",
       " ('linear_model', 80),\n",
       " ('np', 80),\n",
       " ('pd', 80),\n",
       " ('plt', 80),\n",
       " ('sns', 80),\n",
       " ('plusminus', 74),\n",
       " ('X_new_tfidf', 56),\n",
       " ('X_test_tfidf', 56),\n",
       " ('X_train_tfidf', 56),\n",
       " ('Xvectorizer', 56),\n",
       " ('Y_test_tfidf', 56),\n",
       " ('Y_train_tfidf', 56),\n",
       " ('Yvectorizer', 56),\n",
       " ('ax', 56),\n",
       " ('lsa', 56),\n",
       " ('rfc', 56),\n",
       " ('sgdc', 56),\n",
       " ('svd', 56),\n",
       " ('tf', 56),\n",
       " ('tf_vectorizer', 56),\n",
       " ('title_index', 48),\n",
       " ('a_neg', 32),\n",
       " ('a_pos', 32),\n",
       " ('f_neg', 32),\n",
       " ('f_neg_0', 32),\n",
       " ('f_pos', 32),\n",
       " ('f_pos_0', 32),\n",
       " ('p_neg', 32),\n",
       " ('p_pos', 32),\n",
       " ('t_neg', 32),\n",
       " ('t_pos', 32),\n",
       " ('t_pos_0', 32),\n",
       " ('total_variance', 32),\n",
       " ('i', 28),\n",
       " ('t_neg_0', 28),\n",
       " ('tot', 28),\n",
       " ('start_time', 24),\n",
       " ('t0', 24)]"
      ]
     },
     "execution_count": 501,
     "metadata": {},
     "output_type": "execute_result"
    }
   ],
   "source": [
    "import sys\n",
    "\n",
    "ipython_vars = ['In', 'Out', 'exit', 'quit', 'get_ipython', 'ipython_vars']\n",
    "\n",
    "sorted([(x, sys.getsizeof(globals().get(x))) for x in dir() if not x.startswith('_') and x not in sys.modules and x not in ipython_vars], key=lambda x: x[1], reverse=True)"
   ]
  }
 ],
 "metadata": {
  "kernelspec": {
   "display_name": "Python 3",
   "language": "python",
   "name": "python3"
  },
  "language_info": {
   "codemirror_mode": {
    "name": "ipython",
    "version": 3
   },
   "file_extension": ".py",
   "mimetype": "text/x-python",
   "name": "python",
   "nbconvert_exporter": "python",
   "pygments_lexer": "ipython3",
   "version": "3.6.1"
  },
  "toc": {
   "base_numbering": 1,
   "nav_menu": {},
   "number_sections": true,
   "sideBar": true,
   "skip_h1_title": true,
   "title_cell": "Table of Contents",
   "title_sidebar": "Contents",
   "toc_cell": false,
   "toc_position": {
    "height": "calc(100% - 180px)",
    "left": "10px",
    "top": "150px",
    "width": "273px"
   },
   "toc_section_display": true,
   "toc_window_display": true
  }
 },
 "nbformat": 4,
 "nbformat_minor": 2
}
