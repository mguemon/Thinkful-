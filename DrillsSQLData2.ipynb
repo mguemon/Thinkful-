{
 "cells": [
  {
   "cell_type": "markdown",
   "metadata": {},
   "source": [
    "# Drills - SQL - data access methods  \n",
    "\n",
    "## Aggregates and groups"
   ]
  },
  {
   "cell_type": "markdown",
   "metadata": {},
   "source": [
    " Write SQL queries to return:"
   ]
  },
  {
   "cell_type": "markdown",
   "metadata": {},
   "source": [
    "### What was the hottest day in our data set? Where was that?  \n",
    "\n",
    "\n",
    "SELECT    \n",
    "    MaxTemperatureF,   \n",
    "\tDate,  \n",
    "    ZIP   \n",
    "FROM  \n",
    "    weather     \n",
    "ORDER BY MaxTemperatureF  DESC\n",
    "\n",
    "\n",
    "------\n",
    "\n",
    "SELECT      \n",
    "\tDate,  \n",
    "    ZIP,  \n",
    "\tMAX(MaxTemperatureF) AnnualMaxTemp\n",
    "FROM  \n",
    "    weather     \n",
    "GROUP BY  ZIP\n",
    "\n",
    "\n",
    "\n",
    "\n",
    "The hottest day was        \t\n",
    "Date: \"2015-11-17\"    \t\n",
    "ZIP: \"94063\" \n",
    "Temperature: \"134\"  \n",
    "\n",
    "\n",
    "\n",
    "\n"
   ]
  },
  {
   "cell_type": "markdown",
   "metadata": {},
   "source": [
    "### How many trips started at each station?\n",
    "\n",
    "\n",
    "SELECT  \n",
    "    t.start_station,   \n",
    "    COUNT(*) number_of_trips    \n",
    "FROM   \n",
    "    trips t   \n",
    "GROUP BY 1    \n",
    "FROM   \n",
    "    trips t   \n",
    "GROUP BY 1   \n",
    "\n",
    "\n",
    "\n"
   ]
  },
  {
   "cell_type": "markdown",
   "metadata": {},
   "source": [
    "### What's the shortest trip that happened?\n",
    "\n",
    "SELECT   \n",
    "    t.trip_id,   \n",
    "\tt.duration  \n",
    "FROM   \n",
    "    trips t   \n",
    "ORDER BY duration    \n",
    "\n"
   ]
  },
  {
   "cell_type": "markdown",
   "metadata": {},
   "source": [
    "### What is the average trip duration, by end station?\n",
    "\n",
    "SELECT    \n",
    "     end_station,        \n",
    "\tAVG(duration) Avg_duration   \n",
    "FROM     \n",
    "    trips      \n",
    "GROUP BY  end_station   \n",
    "\n"
   ]
  },
  {
   "cell_type": "code",
   "execution_count": null,
   "metadata": {
    "collapsed": true
   },
   "outputs": [],
   "source": []
  }
 ],
 "metadata": {
  "kernelspec": {
   "display_name": "Python 3",
   "language": "python",
   "name": "python3"
  },
  "language_info": {
   "codemirror_mode": {
    "name": "ipython",
    "version": 3
   },
   "file_extension": ".py",
   "mimetype": "text/x-python",
   "name": "python",
   "nbconvert_exporter": "python",
   "pygments_lexer": "ipython3",
   "version": "3.6.1"
  }
 },
 "nbformat": 4,
 "nbformat_minor": 2
}
