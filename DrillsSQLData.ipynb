{
 "cells": [
  {
   "cell_type": "markdown",
   "metadata": {},
   "source": [
    "## Drills - SQL - data access methods"
   ]
  },
  {
   "cell_type": "markdown",
   "metadata": {},
   "source": [
    " Write SQL queries to return:"
   ]
  },
  {
   "cell_type": "markdown",
   "metadata": {},
   "source": [
    "### The ID's and durations for all trips of duration greater than 500, ordered by duration.  \n",
    "\n",
    "\n",
    "SELECT   \n",
    "    trip_id,  \n",
    "    duration  \n",
    "FROM  \n",
    "    trips  \n",
    "WHERE  \n",
    "    duration  > 500   \n",
    "ORDER BY duration DESC  \n"
   ]
  },
  {
   "cell_type": "markdown",
   "metadata": {},
   "source": [
    "### Every column of the stations table for station id 84.  \n",
    "\n",
    "SELECT   \n",
    "    *   \n",
    "FROM   \n",
    "    stations  \n",
    "WHERE     \n",
    "    station_id = 84    \n"
   ]
  },
  {
   "cell_type": "markdown",
   "metadata": {},
   "source": [
    "### The min temperatures of all the occurrences of rain in zip 94301. \n",
    "\n",
    "\n",
    "SELECT   \n",
    "    MinTemperatureF,  \n",
    "    ZIP  \n",
    "FROM\n",
    "    weather   \n",
    "WHERE\n",
    "    ZIP = 94301   "
   ]
  },
  {
   "cell_type": "code",
   "execution_count": null,
   "metadata": {
    "collapsed": true
   },
   "outputs": [],
   "source": []
  },
  {
   "cell_type": "code",
   "execution_count": null,
   "metadata": {
    "collapsed": true
   },
   "outputs": [],
   "source": []
  }
 ],
 "metadata": {
  "kernelspec": {
   "display_name": "Python 3",
   "language": "python",
   "name": "python3"
  },
  "language_info": {
   "codemirror_mode": {
    "name": "ipython",
    "version": 3
   },
   "file_extension": ".py",
   "mimetype": "text/x-python",
   "name": "python",
   "nbconvert_exporter": "python",
   "pygments_lexer": "ipython3",
   "version": "3.6.1"
  }
 },
 "nbformat": 4,
 "nbformat_minor": 2
}
