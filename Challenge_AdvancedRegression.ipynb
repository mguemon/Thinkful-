{
 "cells": [
  {
   "cell_type": "markdown",
   "metadata": {},
   "source": [
    "# Advanced Regression\n",
    "\n",
    "## Challenge: Advanced Regression\n",
    "\n",
    "by: Melissa N "
   ]
  },
  {
   "cell_type": "code",
   "execution_count": 1,
   "metadata": {
    "collapsed": true
   },
   "outputs": [],
   "source": [
    "import pandas as pd\n",
    "import numpy as np\n",
    "import matplotlib.pyplot as plt\n",
    "import seaborn as sns\n",
    "\n",
    "import math\n",
    "import sklearn\n",
    "from sklearn.linear_model import RidgeClassifier\n",
    "from sklearn.linear_model import Lasso\n",
    "from sklearn.linear_model import LogisticRegression\n",
    "\n",
    "from sklearn import linear_model\n",
    "from sklearn import preprocessing\n",
    "\n",
    "from sklearn.metrics import classification_report,confusion_matrix\n",
    "from sklearn.model_selection import cross_val_score\n",
    "from sklearn.model_selection import cross_val_predict\n",
    "\n",
    "%matplotlib inline\n",
    "sns.set_style('white')\n",
    "\n",
    "%matplotlib inline\n",
    "from IPython.display import display"
   ]
  },
  {
   "cell_type": "markdown",
   "metadata": {},
   "source": [
    "## DATA CLEANING"
   ]
  },
  {
   "cell_type": "code",
   "execution_count": 2,
   "metadata": {},
   "outputs": [
    {
     "data": {
      "text/html": [
       "<div>\n",
       "<style>\n",
       "    .dataframe thead tr:only-child th {\n",
       "        text-align: right;\n",
       "    }\n",
       "\n",
       "    .dataframe thead th {\n",
       "        text-align: left;\n",
       "    }\n",
       "\n",
       "    .dataframe tbody tr th {\n",
       "        vertical-align: top;\n",
       "    }\n",
       "</style>\n",
       "<table border=\"1\" class=\"dataframe\">\n",
       "  <thead>\n",
       "    <tr style=\"text-align: right;\">\n",
       "      <th></th>\n",
       "      <th>Table 8</th>\n",
       "      <th>Unnamed: 1</th>\n",
       "      <th>Unnamed: 2</th>\n",
       "      <th>Unnamed: 3</th>\n",
       "      <th>Unnamed: 4</th>\n",
       "      <th>Unnamed: 5</th>\n",
       "      <th>Unnamed: 6</th>\n",
       "      <th>Unnamed: 7</th>\n",
       "      <th>Unnamed: 8</th>\n",
       "      <th>Unnamed: 9</th>\n",
       "      <th>Unnamed: 10</th>\n",
       "      <th>Unnamed: 11</th>\n",
       "      <th>Unnamed: 12</th>\n",
       "    </tr>\n",
       "  </thead>\n",
       "  <tbody>\n",
       "    <tr>\n",
       "      <th>0</th>\n",
       "      <td>NEW YORK</td>\n",
       "      <td>NaN</td>\n",
       "      <td>NaN</td>\n",
       "      <td>NaN</td>\n",
       "      <td>NaN</td>\n",
       "      <td>NaN</td>\n",
       "      <td>NaN</td>\n",
       "      <td>NaN</td>\n",
       "      <td>NaN</td>\n",
       "      <td>NaN</td>\n",
       "      <td>NaN</td>\n",
       "      <td>NaN</td>\n",
       "      <td>NaN</td>\n",
       "    </tr>\n",
       "    <tr>\n",
       "      <th>1</th>\n",
       "      <td>Offenses Known to Law Enforcement</td>\n",
       "      <td>NaN</td>\n",
       "      <td>NaN</td>\n",
       "      <td>NaN</td>\n",
       "      <td>NaN</td>\n",
       "      <td></td>\n",
       "      <td>NaN</td>\n",
       "      <td>NaN</td>\n",
       "      <td>NaN</td>\n",
       "      <td>NaN</td>\n",
       "      <td>NaN</td>\n",
       "      <td>NaN</td>\n",
       "      <td>NaN</td>\n",
       "    </tr>\n",
       "    <tr>\n",
       "      <th>2</th>\n",
       "      <td>by City, 2013</td>\n",
       "      <td>NaN</td>\n",
       "      <td>NaN</td>\n",
       "      <td>NaN</td>\n",
       "      <td>NaN</td>\n",
       "      <td>NaN</td>\n",
       "      <td>NaN</td>\n",
       "      <td>NaN</td>\n",
       "      <td>NaN</td>\n",
       "      <td>NaN</td>\n",
       "      <td>NaN</td>\n",
       "      <td>NaN</td>\n",
       "      <td>NaN</td>\n",
       "    </tr>\n",
       "    <tr>\n",
       "      <th>3</th>\n",
       "      <td>City</td>\n",
       "      <td>Population</td>\n",
       "      <td>Violent\\ncrime</td>\n",
       "      <td>Murder and\\nnonnegligent\\nmanslaughter</td>\n",
       "      <td>Rape\\n(revised\\ndefinition)1</td>\n",
       "      <td>Rape\\n(legacy\\ndefinition)2</td>\n",
       "      <td>Robbery</td>\n",
       "      <td>Aggravated\\nassault</td>\n",
       "      <td>Property\\ncrime</td>\n",
       "      <td>Burglary</td>\n",
       "      <td>Larceny-\\ntheft</td>\n",
       "      <td>Motor\\nvehicle\\ntheft</td>\n",
       "      <td>Arson3</td>\n",
       "    </tr>\n",
       "    <tr>\n",
       "      <th>4</th>\n",
       "      <td>Adams Village</td>\n",
       "      <td>1861</td>\n",
       "      <td>0</td>\n",
       "      <td>0</td>\n",
       "      <td>NaN</td>\n",
       "      <td>0</td>\n",
       "      <td>0</td>\n",
       "      <td>0</td>\n",
       "      <td>12</td>\n",
       "      <td>2</td>\n",
       "      <td>10</td>\n",
       "      <td>0</td>\n",
       "      <td>0</td>\n",
       "    </tr>\n",
       "  </tbody>\n",
       "</table>\n",
       "</div>"
      ],
      "text/plain": [
       "                             Table 8  Unnamed: 1      Unnamed: 2  \\\n",
       "0                           NEW YORK         NaN             NaN   \n",
       "1  Offenses Known to Law Enforcement         NaN             NaN   \n",
       "2                      by City, 2013         NaN             NaN   \n",
       "3                               City  Population  Violent\\ncrime   \n",
       "4                      Adams Village        1861               0   \n",
       "\n",
       "                               Unnamed: 3                    Unnamed: 4  \\\n",
       "0                                     NaN                           NaN   \n",
       "1                                     NaN                           NaN   \n",
       "2                                     NaN                           NaN   \n",
       "3  Murder and\\nnonnegligent\\nmanslaughter  Rape\\n(revised\\ndefinition)1   \n",
       "4                                       0                           NaN   \n",
       "\n",
       "                    Unnamed: 5 Unnamed: 6           Unnamed: 7  \\\n",
       "0                          NaN        NaN                  NaN   \n",
       "1                                     NaN                  NaN   \n",
       "2                          NaN        NaN                  NaN   \n",
       "3  Rape\\n(legacy\\ndefinition)2    Robbery  Aggravated\\nassault   \n",
       "4                            0          0                    0   \n",
       "\n",
       "        Unnamed: 8 Unnamed: 9      Unnamed: 10            Unnamed: 11  \\\n",
       "0              NaN        NaN              NaN                    NaN   \n",
       "1              NaN        NaN              NaN                    NaN   \n",
       "2              NaN        NaN              NaN                    NaN   \n",
       "3  Property\\ncrime   Burglary  Larceny-\\ntheft  Motor\\nvehicle\\ntheft   \n",
       "4               12          2               10                      0   \n",
       "\n",
       "  Unnamed: 12  \n",
       "0         NaN  \n",
       "1         NaN  \n",
       "2         NaN  \n",
       "3      Arson3  \n",
       "4           0  "
      ]
     },
     "metadata": {},
     "output_type": "display_data"
    }
   ],
   "source": [
    "# Assign spreadsheet filename to `file`\n",
    "file = 'table_8_offenses_known_to_law_enforcement_new_york_by_city_2013.xls'\n",
    "# Load spreadsheet\n",
    "xl = pd.ExcelFile(file)\n",
    "# Load a sheet into a DataFrame by name: df1\n",
    "df1 = xl.parse('13tbl8ny')\n",
    "display(df1.head())"
   ]
  },
  {
   "cell_type": "code",
   "execution_count": 3,
   "metadata": {
    "collapsed": true
   },
   "outputs": [],
   "source": [
    "#Adjust df1 to exclude 1st 3 rows.\n",
    "df = df1[3:len(df1)]\n",
    "#grab the first row for the header set the header row as the df header\n",
    "df.columns = df.iloc[0]"
   ]
  },
  {
   "cell_type": "code",
   "execution_count": 4,
   "metadata": {
    "collapsed": true
   },
   "outputs": [],
   "source": [
    "## Make Columns easier to read \n",
    "\n",
    "df.columns = [\"City\", \"Population\",\"Violent_crime\",\"Murder\",\"Rape_revised\",\"Rape_legacy\"\n",
    "                 ,\"Robbery\",\"Aggravated_assault\",\"Property_crime\",\"Burglary\",\"Larceny_theft\",\"Motor_vehicle_theft\",\"Arson3\"]"
   ]
  },
  {
   "cell_type": "code",
   "execution_count": 5,
   "metadata": {
    "collapsed": true
   },
   "outputs": [],
   "source": [
    "\n",
    "df = df[1:]\n",
    "df.index = range(0,len(df))\n",
    "# Removing the columns with NAN\n",
    "df.drop(['Rape_revised','Arson3'], inplace=True, axis=1)\n",
    "#Adjust df to exclude the last 3 rows\n",
    "# dropping the row\n",
    "df = df.iloc[:347]"
   ]
  },
  {
   "cell_type": "code",
   "execution_count": 6,
   "metadata": {
    "collapsed": true
   },
   "outputs": [],
   "source": [
    "# convert columns to numeric.\n",
    "df.loc[:,'Property_crime'] = pd.to_numeric(df.loc[:,'Property_crime'])\n",
    "df.loc[:,'Population'] = pd.to_numeric(df.loc[:,'Population'])\n",
    "df.loc[:,'Violent_crime'] = pd.to_numeric(df.loc[:,'Violent_crime'])\n",
    "df.loc[:,'Murder'] = pd.to_numeric(df.loc[:,'Murder'])\n",
    "df.loc[:,'Rape_legacy'] = pd.to_numeric(df.loc[:,'Rape_legacy'])\n",
    "df.loc[:,'Aggravated_assault'] = pd.to_numeric(df.loc[:,'Aggravated_assault'])\n",
    "df.loc[:,'Burglary'] = pd.to_numeric(df.loc[:,'Burglary'])\n",
    "df.loc[:,'Larceny_theft'] = pd.to_numeric(df.loc[:,'Larceny_theft'])\n",
    "df.loc[:,'Motor_vehicle_theft'] = pd.to_numeric(df.loc[:,'Motor_vehicle_theft'])\n",
    "df.loc[:,'Robbery'] = pd.to_numeric(df.loc[:,'Robbery'])"
   ]
  },
  {
   "cell_type": "code",
   "execution_count": 7,
   "metadata": {},
   "outputs": [
    {
     "data": {
      "text/html": [
       "<div>\n",
       "<style>\n",
       "    .dataframe thead tr:only-child th {\n",
       "        text-align: right;\n",
       "    }\n",
       "\n",
       "    .dataframe thead th {\n",
       "        text-align: left;\n",
       "    }\n",
       "\n",
       "    .dataframe tbody tr th {\n",
       "        vertical-align: top;\n",
       "    }\n",
       "</style>\n",
       "<table border=\"1\" class=\"dataframe\">\n",
       "  <thead>\n",
       "    <tr style=\"text-align: right;\">\n",
       "      <th></th>\n",
       "      <th>City</th>\n",
       "      <th>Population</th>\n",
       "      <th>Violent_crime</th>\n",
       "      <th>Murder</th>\n",
       "      <th>Rape_legacy</th>\n",
       "      <th>Robbery</th>\n",
       "      <th>Aggravated_assault</th>\n",
       "      <th>Property_crime</th>\n",
       "      <th>Burglary</th>\n",
       "      <th>Larceny_theft</th>\n",
       "      <th>Motor_vehicle_theft</th>\n",
       "    </tr>\n",
       "  </thead>\n",
       "  <tbody>\n",
       "    <tr>\n",
       "      <th>0</th>\n",
       "      <td>Adams Village</td>\n",
       "      <td>1861</td>\n",
       "      <td>0</td>\n",
       "      <td>0</td>\n",
       "      <td>0</td>\n",
       "      <td>0</td>\n",
       "      <td>0</td>\n",
       "      <td>12</td>\n",
       "      <td>2</td>\n",
       "      <td>10</td>\n",
       "      <td>0</td>\n",
       "    </tr>\n",
       "    <tr>\n",
       "      <th>1</th>\n",
       "      <td>Addison Town and Village</td>\n",
       "      <td>2577</td>\n",
       "      <td>3</td>\n",
       "      <td>0</td>\n",
       "      <td>0</td>\n",
       "      <td>0</td>\n",
       "      <td>3</td>\n",
       "      <td>24</td>\n",
       "      <td>3</td>\n",
       "      <td>20</td>\n",
       "      <td>1</td>\n",
       "    </tr>\n",
       "    <tr>\n",
       "      <th>2</th>\n",
       "      <td>Akron Village</td>\n",
       "      <td>2846</td>\n",
       "      <td>3</td>\n",
       "      <td>0</td>\n",
       "      <td>0</td>\n",
       "      <td>0</td>\n",
       "      <td>3</td>\n",
       "      <td>16</td>\n",
       "      <td>1</td>\n",
       "      <td>15</td>\n",
       "      <td>0</td>\n",
       "    </tr>\n",
       "    <tr>\n",
       "      <th>3</th>\n",
       "      <td>Albany</td>\n",
       "      <td>97956</td>\n",
       "      <td>791</td>\n",
       "      <td>8</td>\n",
       "      <td>30</td>\n",
       "      <td>227</td>\n",
       "      <td>526</td>\n",
       "      <td>4090</td>\n",
       "      <td>705</td>\n",
       "      <td>3243</td>\n",
       "      <td>142</td>\n",
       "    </tr>\n",
       "    <tr>\n",
       "      <th>4</th>\n",
       "      <td>Albion Village</td>\n",
       "      <td>6388</td>\n",
       "      <td>23</td>\n",
       "      <td>0</td>\n",
       "      <td>3</td>\n",
       "      <td>4</td>\n",
       "      <td>16</td>\n",
       "      <td>223</td>\n",
       "      <td>53</td>\n",
       "      <td>165</td>\n",
       "      <td>5</td>\n",
       "    </tr>\n",
       "  </tbody>\n",
       "</table>\n",
       "</div>"
      ],
      "text/plain": [
       "                       City  Population  Violent_crime  Murder  Rape_legacy  \\\n",
       "0             Adams Village        1861              0       0            0   \n",
       "1  Addison Town and Village        2577              3       0            0   \n",
       "2             Akron Village        2846              3       0            0   \n",
       "3                    Albany       97956            791       8           30   \n",
       "4            Albion Village        6388             23       0            3   \n",
       "\n",
       "   Robbery  Aggravated_assault  Property_crime  Burglary  Larceny_theft  \\\n",
       "0        0                   0              12         2             10   \n",
       "1        0                   3              24         3             20   \n",
       "2        0                   3              16         1             15   \n",
       "3      227                 526            4090       705           3243   \n",
       "4        4                  16             223        53            165   \n",
       "\n",
       "   Motor_vehicle_theft  \n",
       "0                    0  \n",
       "1                    1  \n",
       "2                    0  \n",
       "3                  142  \n",
       "4                    5  "
      ]
     },
     "metadata": {},
     "output_type": "display_data"
    }
   ],
   "source": [
    "display(df.head())"
   ]
  },
  {
   "cell_type": "code",
   "execution_count": 8,
   "metadata": {},
   "outputs": [
    {
     "data": {
      "image/png": "[encoded data removed]",
      "text/plain": [
       "<matplotlib.figure.Figure at 0x10e606ef0>"
      ]
     },
     "metadata": {},
     "output_type": "display_data"
    }
   ],
   "source": [
    "# Look at the scatter plot for Population, Murder and Robbery\n",
    "\n",
    "\n",
    "plt.figure(figsize=(15, 5))\n",
    "plt.subplot(1, 3, 1)\n",
    "plt.scatter(df['Population'], df['Property_crime'], alpha=0.6)\n",
    "plt.xlabel('Population')\n",
    "plt.ylabel('Property\\ncrime')\n",
    "\n",
    "plt.subplot(1, 3, 2)\n",
    "\n",
    "plt.scatter(df['Murder'], df['Property_crime'], alpha=0.6)\n",
    "plt.xlabel('Murder')\n",
    "\n",
    "plt.subplot(1, 3, 3)\n",
    "\n",
    "\n",
    "plt.scatter(df['Robbery'], df['Property_crime'], alpha=0.6)\n",
    "plt.xlabel('Robbery')\n",
    "\n",
    "\n",
    "plt.show()"
   ]
  },
  {
   "cell_type": "markdown",
   "metadata": {},
   "source": [
    "Looking at this scatter plot, we can see that there is a lot of outliers. \n",
    "One of them occurs where Property and crime is 140,000. So we will try to remove that and other outliers that we may see. "
   ]
  },
  {
   "cell_type": "code",
   "execution_count": 9,
   "metadata": {},
   "outputs": [
    {
     "data": {
      "image/png": "[encoded data removed]",
      "text/plain": [
       "<matplotlib.figure.Figure at 0x10e5ceda0>"
      ]
     },
     "metadata": {},
     "output_type": "display_data"
    }
   ],
   "source": [
    "# Look at the histogram of populations\"\n",
    "\n",
    "plt.hist(df['Population'], label = 'Population', alpha = 0.5, bins = 40)\n",
    "plt.title('Population')\n",
    "plt.legend(loc='best')\n",
    "plt.show()"
   ]
  },
  {
   "cell_type": "markdown",
   "metadata": {},
   "source": [
    "This histogram doesn't tell us anything. \n",
    "Hopefully will be helpful or better once we have remove the outliers. "
   ]
  },
  {
   "cell_type": "code",
   "execution_count": 10,
   "metadata": {},
   "outputs": [
    {
     "data": {
      "text/html": [
       "<div>\n",
       "<style>\n",
       "    .dataframe thead tr:only-child th {\n",
       "        text-align: right;\n",
       "    }\n",
       "\n",
       "    .dataframe thead th {\n",
       "        text-align: left;\n",
       "    }\n",
       "\n",
       "    .dataframe tbody tr th {\n",
       "        vertical-align: top;\n",
       "    }\n",
       "</style>\n",
       "<table border=\"1\" class=\"dataframe\">\n",
       "  <thead>\n",
       "    <tr style=\"text-align: right;\">\n",
       "      <th></th>\n",
       "      <th>City</th>\n",
       "      <th>Population</th>\n",
       "      <th>Violent_crime</th>\n",
       "      <th>Murder</th>\n",
       "      <th>Rape_legacy</th>\n",
       "      <th>Robbery</th>\n",
       "      <th>Aggravated_assault</th>\n",
       "      <th>Property_crime</th>\n",
       "      <th>Burglary</th>\n",
       "      <th>Larceny_theft</th>\n",
       "      <th>Motor_vehicle_theft</th>\n",
       "    </tr>\n",
       "  </thead>\n",
       "  <tbody>\n",
       "    <tr>\n",
       "      <th>7</th>\n",
       "      <td>Amherst Town</td>\n",
       "      <td>118296</td>\n",
       "      <td>107</td>\n",
       "      <td>1</td>\n",
       "      <td>7</td>\n",
       "      <td>31</td>\n",
       "      <td>68</td>\n",
       "      <td>2118</td>\n",
       "      <td>204</td>\n",
       "      <td>1882</td>\n",
       "      <td>32</td>\n",
       "    </tr>\n",
       "    <tr>\n",
       "      <th>35</th>\n",
       "      <td>Buffalo</td>\n",
       "      <td>258789</td>\n",
       "      <td>3249</td>\n",
       "      <td>47</td>\n",
       "      <td>145</td>\n",
       "      <td>1322</td>\n",
       "      <td>1735</td>\n",
       "      <td>12491</td>\n",
       "      <td>3458</td>\n",
       "      <td>8076</td>\n",
       "      <td>957</td>\n",
       "    </tr>\n",
       "    <tr>\n",
       "      <th>216</th>\n",
       "      <td>New York</td>\n",
       "      <td>8396126</td>\n",
       "      <td>52384</td>\n",
       "      <td>335</td>\n",
       "      <td>1112</td>\n",
       "      <td>19170</td>\n",
       "      <td>31767</td>\n",
       "      <td>141971</td>\n",
       "      <td>16606</td>\n",
       "      <td>117931</td>\n",
       "      <td>7434</td>\n",
       "    </tr>\n",
       "    <tr>\n",
       "      <th>272</th>\n",
       "      <td>Rochester</td>\n",
       "      <td>210562</td>\n",
       "      <td>2107</td>\n",
       "      <td>42</td>\n",
       "      <td>92</td>\n",
       "      <td>918</td>\n",
       "      <td>1055</td>\n",
       "      <td>10051</td>\n",
       "      <td>2587</td>\n",
       "      <td>6855</td>\n",
       "      <td>609</td>\n",
       "    </tr>\n",
       "    <tr>\n",
       "      <th>310</th>\n",
       "      <td>Syracuse</td>\n",
       "      <td>143834</td>\n",
       "      <td>1192</td>\n",
       "      <td>21</td>\n",
       "      <td>75</td>\n",
       "      <td>400</td>\n",
       "      <td>696</td>\n",
       "      <td>6473</td>\n",
       "      <td>1781</td>\n",
       "      <td>4298</td>\n",
       "      <td>394</td>\n",
       "    </tr>\n",
       "    <tr>\n",
       "      <th>346</th>\n",
       "      <td>Yonkers</td>\n",
       "      <td>199134</td>\n",
       "      <td>1036</td>\n",
       "      <td>6</td>\n",
       "      <td>25</td>\n",
       "      <td>390</td>\n",
       "      <td>615</td>\n",
       "      <td>2368</td>\n",
       "      <td>470</td>\n",
       "      <td>1662</td>\n",
       "      <td>236</td>\n",
       "    </tr>\n",
       "  </tbody>\n",
       "</table>\n",
       "</div>"
      ],
      "text/plain": [
       "             City  Population  Violent_crime  Murder  Rape_legacy  Robbery  \\\n",
       "7    Amherst Town      118296            107       1            7       31   \n",
       "35        Buffalo      258789           3249      47          145     1322   \n",
       "216      New York     8396126          52384     335         1112    19170   \n",
       "272     Rochester      210562           2107      42           92      918   \n",
       "310      Syracuse      143834           1192      21           75      400   \n",
       "346       Yonkers      199134           1036       6           25      390   \n",
       "\n",
       "     Aggravated_assault  Property_crime  Burglary  Larceny_theft  \\\n",
       "7                    68            2118       204           1882   \n",
       "35                 1735           12491      3458           8076   \n",
       "216               31767          141971     16606         117931   \n",
       "272                1055           10051      2587           6855   \n",
       "310                 696            6473      1781           4298   \n",
       "346                 615            2368       470           1662   \n",
       "\n",
       "     Motor_vehicle_theft  \n",
       "7                     32  \n",
       "35                   957  \n",
       "216                 7434  \n",
       "272                  609  \n",
       "310                  394  \n",
       "346                  236  "
      ]
     },
     "metadata": {},
     "output_type": "display_data"
    },
    {
     "name": "stdout",
     "output_type": "stream",
     "text": [
      "49\n",
      "298\n"
     ]
    }
   ],
   "source": [
    "## From our study we see that there is an outlier when Property and crime is bigger that 10,000 or 3,000\n",
    "display(df.loc[((df['Murder'] > 0) & (df['Population'] > 100000))] )\n",
    "\n",
    "print(len(df[df['Murder'] > 0]))\n",
    "print(len(df[df['Murder'] == 0]))"
   ]
  },
  {
   "cell_type": "code",
   "execution_count": 11,
   "metadata": {},
   "outputs": [
    {
     "data": {
      "text/html": [
       "<div>\n",
       "<style>\n",
       "    .dataframe thead tr:only-child th {\n",
       "        text-align: right;\n",
       "    }\n",
       "\n",
       "    .dataframe thead th {\n",
       "        text-align: left;\n",
       "    }\n",
       "\n",
       "    .dataframe tbody tr th {\n",
       "        vertical-align: top;\n",
       "    }\n",
       "</style>\n",
       "<table border=\"1\" class=\"dataframe\">\n",
       "  <thead>\n",
       "    <tr style=\"text-align: right;\">\n",
       "      <th></th>\n",
       "      <th>City</th>\n",
       "      <th>Population</th>\n",
       "      <th>Violent_crime</th>\n",
       "      <th>Murder</th>\n",
       "      <th>Rape_legacy</th>\n",
       "      <th>Robbery</th>\n",
       "      <th>Aggravated_assault</th>\n",
       "      <th>Property_crime</th>\n",
       "      <th>Burglary</th>\n",
       "      <th>Larceny_theft</th>\n",
       "      <th>Motor_vehicle_theft</th>\n",
       "    </tr>\n",
       "  </thead>\n",
       "  <tbody>\n",
       "    <tr>\n",
       "      <th>3</th>\n",
       "      <td>Albany</td>\n",
       "      <td>97956</td>\n",
       "      <td>791</td>\n",
       "      <td>8</td>\n",
       "      <td>30</td>\n",
       "      <td>227</td>\n",
       "      <td>526</td>\n",
       "      <td>4090</td>\n",
       "      <td>705</td>\n",
       "      <td>3243</td>\n",
       "      <td>142</td>\n",
       "    </tr>\n",
       "    <tr>\n",
       "      <th>35</th>\n",
       "      <td>Buffalo</td>\n",
       "      <td>258789</td>\n",
       "      <td>3249</td>\n",
       "      <td>47</td>\n",
       "      <td>145</td>\n",
       "      <td>1322</td>\n",
       "      <td>1735</td>\n",
       "      <td>12491</td>\n",
       "      <td>3458</td>\n",
       "      <td>8076</td>\n",
       "      <td>957</td>\n",
       "    </tr>\n",
       "    <tr>\n",
       "      <th>216</th>\n",
       "      <td>New York</td>\n",
       "      <td>8396126</td>\n",
       "      <td>52384</td>\n",
       "      <td>335</td>\n",
       "      <td>1112</td>\n",
       "      <td>19170</td>\n",
       "      <td>31767</td>\n",
       "      <td>141971</td>\n",
       "      <td>16606</td>\n",
       "      <td>117931</td>\n",
       "      <td>7434</td>\n",
       "    </tr>\n",
       "    <tr>\n",
       "      <th>272</th>\n",
       "      <td>Rochester</td>\n",
       "      <td>210562</td>\n",
       "      <td>2107</td>\n",
       "      <td>42</td>\n",
       "      <td>92</td>\n",
       "      <td>918</td>\n",
       "      <td>1055</td>\n",
       "      <td>10051</td>\n",
       "      <td>2587</td>\n",
       "      <td>6855</td>\n",
       "      <td>609</td>\n",
       "    </tr>\n",
       "    <tr>\n",
       "      <th>310</th>\n",
       "      <td>Syracuse</td>\n",
       "      <td>143834</td>\n",
       "      <td>1192</td>\n",
       "      <td>21</td>\n",
       "      <td>75</td>\n",
       "      <td>400</td>\n",
       "      <td>696</td>\n",
       "      <td>6473</td>\n",
       "      <td>1781</td>\n",
       "      <td>4298</td>\n",
       "      <td>394</td>\n",
       "    </tr>\n",
       "  </tbody>\n",
       "</table>\n",
       "</div>"
      ],
      "text/plain": [
       "          City  Population  Violent_crime  Murder  Rape_legacy  Robbery  \\\n",
       "3       Albany       97956            791       8           30      227   \n",
       "35     Buffalo      258789           3249      47          145     1322   \n",
       "216   New York     8396126          52384     335         1112    19170   \n",
       "272  Rochester      210562           2107      42           92      918   \n",
       "310   Syracuse      143834           1192      21           75      400   \n",
       "\n",
       "     Aggravated_assault  Property_crime  Burglary  Larceny_theft  \\\n",
       "3                   526            4090       705           3243   \n",
       "35                 1735           12491      3458           8076   \n",
       "216               31767          141971     16606         117931   \n",
       "272                1055           10051      2587           6855   \n",
       "310                 696            6473      1781           4298   \n",
       "\n",
       "     Motor_vehicle_theft  \n",
       "3                    142  \n",
       "35                   957  \n",
       "216                 7434  \n",
       "272                  609  \n",
       "310                  394  "
      ]
     },
     "metadata": {},
     "output_type": "display_data"
    }
   ],
   "source": [
    "## From our study we see that there is an outlier when Property and crime is bigger that 10,000 or 3,000\n",
    "display(df[df['Property_crime'] > 3000])"
   ]
  },
  {
   "cell_type": "code",
   "execution_count": 12,
   "metadata": {},
   "outputs": [
    {
     "data": {
      "text/html": [
       "<div>\n",
       "<style>\n",
       "    .dataframe thead tr:only-child th {\n",
       "        text-align: right;\n",
       "    }\n",
       "\n",
       "    .dataframe thead th {\n",
       "        text-align: left;\n",
       "    }\n",
       "\n",
       "    .dataframe tbody tr th {\n",
       "        vertical-align: top;\n",
       "    }\n",
       "</style>\n",
       "<table border=\"1\" class=\"dataframe\">\n",
       "  <thead>\n",
       "    <tr style=\"text-align: right;\">\n",
       "      <th></th>\n",
       "      <th>City</th>\n",
       "      <th>Population</th>\n",
       "      <th>Violent_crime</th>\n",
       "      <th>Murder</th>\n",
       "      <th>Rape_legacy</th>\n",
       "      <th>Robbery</th>\n",
       "      <th>Aggravated_assault</th>\n",
       "      <th>Property_crime</th>\n",
       "      <th>Burglary</th>\n",
       "      <th>Larceny_theft</th>\n",
       "      <th>Motor_vehicle_theft</th>\n",
       "    </tr>\n",
       "  </thead>\n",
       "  <tbody>\n",
       "    <tr>\n",
       "      <th>7</th>\n",
       "      <td>Amherst Town</td>\n",
       "      <td>118296</td>\n",
       "      <td>107</td>\n",
       "      <td>1</td>\n",
       "      <td>7</td>\n",
       "      <td>31</td>\n",
       "      <td>68</td>\n",
       "      <td>2118</td>\n",
       "      <td>204</td>\n",
       "      <td>1882</td>\n",
       "      <td>32</td>\n",
       "    </tr>\n",
       "    <tr>\n",
       "      <th>35</th>\n",
       "      <td>Buffalo</td>\n",
       "      <td>258789</td>\n",
       "      <td>3249</td>\n",
       "      <td>47</td>\n",
       "      <td>145</td>\n",
       "      <td>1322</td>\n",
       "      <td>1735</td>\n",
       "      <td>12491</td>\n",
       "      <td>3458</td>\n",
       "      <td>8076</td>\n",
       "      <td>957</td>\n",
       "    </tr>\n",
       "    <tr>\n",
       "      <th>216</th>\n",
       "      <td>New York</td>\n",
       "      <td>8396126</td>\n",
       "      <td>52384</td>\n",
       "      <td>335</td>\n",
       "      <td>1112</td>\n",
       "      <td>19170</td>\n",
       "      <td>31767</td>\n",
       "      <td>141971</td>\n",
       "      <td>16606</td>\n",
       "      <td>117931</td>\n",
       "      <td>7434</td>\n",
       "    </tr>\n",
       "    <tr>\n",
       "      <th>272</th>\n",
       "      <td>Rochester</td>\n",
       "      <td>210562</td>\n",
       "      <td>2107</td>\n",
       "      <td>42</td>\n",
       "      <td>92</td>\n",
       "      <td>918</td>\n",
       "      <td>1055</td>\n",
       "      <td>10051</td>\n",
       "      <td>2587</td>\n",
       "      <td>6855</td>\n",
       "      <td>609</td>\n",
       "    </tr>\n",
       "    <tr>\n",
       "      <th>310</th>\n",
       "      <td>Syracuse</td>\n",
       "      <td>143834</td>\n",
       "      <td>1192</td>\n",
       "      <td>21</td>\n",
       "      <td>75</td>\n",
       "      <td>400</td>\n",
       "      <td>696</td>\n",
       "      <td>6473</td>\n",
       "      <td>1781</td>\n",
       "      <td>4298</td>\n",
       "      <td>394</td>\n",
       "    </tr>\n",
       "    <tr>\n",
       "      <th>346</th>\n",
       "      <td>Yonkers</td>\n",
       "      <td>199134</td>\n",
       "      <td>1036</td>\n",
       "      <td>6</td>\n",
       "      <td>25</td>\n",
       "      <td>390</td>\n",
       "      <td>615</td>\n",
       "      <td>2368</td>\n",
       "      <td>470</td>\n",
       "      <td>1662</td>\n",
       "      <td>236</td>\n",
       "    </tr>\n",
       "  </tbody>\n",
       "</table>\n",
       "</div>"
      ],
      "text/plain": [
       "             City  Population  Violent_crime  Murder  Rape_legacy  Robbery  \\\n",
       "7    Amherst Town      118296            107       1            7       31   \n",
       "35        Buffalo      258789           3249      47          145     1322   \n",
       "216      New York     8396126          52384     335         1112    19170   \n",
       "272     Rochester      210562           2107      42           92      918   \n",
       "310      Syracuse      143834           1192      21           75      400   \n",
       "346       Yonkers      199134           1036       6           25      390   \n",
       "\n",
       "     Aggravated_assault  Property_crime  Burglary  Larceny_theft  \\\n",
       "7                    68            2118       204           1882   \n",
       "35                 1735           12491      3458           8076   \n",
       "216               31767          141971     16606         117931   \n",
       "272                1055           10051      2587           6855   \n",
       "310                 696            6473      1781           4298   \n",
       "346                 615            2368       470           1662   \n",
       "\n",
       "     Motor_vehicle_theft  \n",
       "7                     32  \n",
       "35                   957  \n",
       "216                 7434  \n",
       "272                  609  \n",
       "310                  394  \n",
       "346                  236  "
      ]
     },
     "metadata": {},
     "output_type": "display_data"
    }
   ],
   "source": [
    "## From our study we see that there is an outlier when Property and crime is bigger that 10,000 or 3,000\n",
    "display(df[df['Population'] > 100000])"
   ]
  },
  {
   "cell_type": "code",
   "execution_count": 13,
   "metadata": {},
   "outputs": [
    {
     "data": {
      "text/html": [
       "<div>\n",
       "<style>\n",
       "    .dataframe thead tr:only-child th {\n",
       "        text-align: right;\n",
       "    }\n",
       "\n",
       "    .dataframe thead th {\n",
       "        text-align: left;\n",
       "    }\n",
       "\n",
       "    .dataframe tbody tr th {\n",
       "        vertical-align: top;\n",
       "    }\n",
       "</style>\n",
       "<table border=\"1\" class=\"dataframe\">\n",
       "  <thead>\n",
       "    <tr style=\"text-align: right;\">\n",
       "      <th></th>\n",
       "      <th>City</th>\n",
       "      <th>Population</th>\n",
       "      <th>Violent_crime</th>\n",
       "      <th>Murder</th>\n",
       "      <th>Rape_legacy</th>\n",
       "      <th>Robbery</th>\n",
       "      <th>Aggravated_assault</th>\n",
       "      <th>Property_crime</th>\n",
       "      <th>Burglary</th>\n",
       "      <th>Larceny_theft</th>\n",
       "      <th>Motor_vehicle_theft</th>\n",
       "    </tr>\n",
       "  </thead>\n",
       "  <tbody>\n",
       "    <tr>\n",
       "      <th>7</th>\n",
       "      <td>Amherst Town</td>\n",
       "      <td>118296</td>\n",
       "      <td>107</td>\n",
       "      <td>1</td>\n",
       "      <td>7</td>\n",
       "      <td>31</td>\n",
       "      <td>68</td>\n",
       "      <td>2118</td>\n",
       "      <td>204</td>\n",
       "      <td>1882</td>\n",
       "      <td>32</td>\n",
       "    </tr>\n",
       "    <tr>\n",
       "      <th>35</th>\n",
       "      <td>Buffalo</td>\n",
       "      <td>258789</td>\n",
       "      <td>3249</td>\n",
       "      <td>47</td>\n",
       "      <td>145</td>\n",
       "      <td>1322</td>\n",
       "      <td>1735</td>\n",
       "      <td>12491</td>\n",
       "      <td>3458</td>\n",
       "      <td>8076</td>\n",
       "      <td>957</td>\n",
       "    </tr>\n",
       "    <tr>\n",
       "      <th>216</th>\n",
       "      <td>New York</td>\n",
       "      <td>8396126</td>\n",
       "      <td>52384</td>\n",
       "      <td>335</td>\n",
       "      <td>1112</td>\n",
       "      <td>19170</td>\n",
       "      <td>31767</td>\n",
       "      <td>141971</td>\n",
       "      <td>16606</td>\n",
       "      <td>117931</td>\n",
       "      <td>7434</td>\n",
       "    </tr>\n",
       "    <tr>\n",
       "      <th>272</th>\n",
       "      <td>Rochester</td>\n",
       "      <td>210562</td>\n",
       "      <td>2107</td>\n",
       "      <td>42</td>\n",
       "      <td>92</td>\n",
       "      <td>918</td>\n",
       "      <td>1055</td>\n",
       "      <td>10051</td>\n",
       "      <td>2587</td>\n",
       "      <td>6855</td>\n",
       "      <td>609</td>\n",
       "    </tr>\n",
       "    <tr>\n",
       "      <th>310</th>\n",
       "      <td>Syracuse</td>\n",
       "      <td>143834</td>\n",
       "      <td>1192</td>\n",
       "      <td>21</td>\n",
       "      <td>75</td>\n",
       "      <td>400</td>\n",
       "      <td>696</td>\n",
       "      <td>6473</td>\n",
       "      <td>1781</td>\n",
       "      <td>4298</td>\n",
       "      <td>394</td>\n",
       "    </tr>\n",
       "    <tr>\n",
       "      <th>346</th>\n",
       "      <td>Yonkers</td>\n",
       "      <td>199134</td>\n",
       "      <td>1036</td>\n",
       "      <td>6</td>\n",
       "      <td>25</td>\n",
       "      <td>390</td>\n",
       "      <td>615</td>\n",
       "      <td>2368</td>\n",
       "      <td>470</td>\n",
       "      <td>1662</td>\n",
       "      <td>236</td>\n",
       "    </tr>\n",
       "  </tbody>\n",
       "</table>\n",
       "</div>"
      ],
      "text/plain": [
       "             City  Population  Violent_crime  Murder  Rape_legacy  Robbery  \\\n",
       "7    Amherst Town      118296            107       1            7       31   \n",
       "35        Buffalo      258789           3249      47          145     1322   \n",
       "216      New York     8396126          52384     335         1112    19170   \n",
       "272     Rochester      210562           2107      42           92      918   \n",
       "310      Syracuse      143834           1192      21           75      400   \n",
       "346       Yonkers      199134           1036       6           25      390   \n",
       "\n",
       "     Aggravated_assault  Property_crime  Burglary  Larceny_theft  \\\n",
       "7                    68            2118       204           1882   \n",
       "35                 1735           12491      3458           8076   \n",
       "216               31767          141971     16606         117931   \n",
       "272                1055           10051      2587           6855   \n",
       "310                 696            6473      1781           4298   \n",
       "346                 615            2368       470           1662   \n",
       "\n",
       "     Motor_vehicle_theft  \n",
       "7                     32  \n",
       "35                   957  \n",
       "216                 7434  \n",
       "272                  609  \n",
       "310                  394  \n",
       "346                  236  "
      ]
     },
     "metadata": {},
     "output_type": "display_data"
    }
   ],
   "source": [
    "## Drop the rows that seem to contain outliers for Property and crime \n",
    "#df.drop(df.index[[7,3,35,216,272,310,346]], inplace=True, axis=0)\n",
    "## Drop the rows that seem to contain outliers for Property and crime \n",
    "#df.drop(df.index[[216]], inplace=True, axis=0)\n",
    "\n",
    "display(df[df['Population'] > 100000])"
   ]
  },
  {
   "cell_type": "markdown",
   "metadata": {},
   "source": [
    "We will just remove New York City, because it is a highly populated city and thus create the outlier inn our data."
   ]
  },
  {
   "cell_type": "code",
   "execution_count": 14,
   "metadata": {},
   "outputs": [
    {
     "data": {
      "image/png": "[encoded data removed]",
      "text/plain": [
       "<matplotlib.figure.Figure at 0x10ed22f60>"
      ]
     },
     "metadata": {},
     "output_type": "display_data"
    }
   ],
   "source": [
    "# Look at the scatter plot for Population, Murder and Robbery with cleaned data \n",
    "\n",
    "plt.figure(figsize=(15, 5))\n",
    "plt.subplot(1, 3, 1)\n",
    "plt.scatter(df['Population'], df['Property_crime'], alpha=0.6)\n",
    "plt.xlabel('Population')\n",
    "plt.ylabel('Property_crime')\n",
    "\n",
    "plt.subplot(1, 3, 2)\n",
    "\n",
    "plt.scatter(df['Murder'], df['Property_crime'], alpha=0.6)\n",
    "plt.xlabel('Murder')\n",
    "\n",
    "plt.subplot(1, 3, 3)\n",
    "\n",
    "\n",
    "plt.scatter(df['Robbery'], df['Property_crime'], alpha=0.6)\n",
    "plt.xlabel('Robbery')\n",
    "\n",
    "\n",
    "plt.show()"
   ]
  },
  {
   "cell_type": "markdown",
   "metadata": {},
   "source": [
    "The scatter plots looks better.     \n",
    "We can clearly see that there is a lot of information for City with Property Crime less that 1000 and Population around 50,000.    \n",
    "For Murder and nonnegligent manslaugther most of them are in place where there is 2 or less occurences.   \n",
    "For Robbery it looks like most of them occure where there is a 50 or less occurences.  "
   ]
  },
  {
   "cell_type": "code",
   "execution_count": 15,
   "metadata": {},
   "outputs": [
    {
     "data": {
      "image/png": "[encoded data removed]",
      "text/plain": [
       "<matplotlib.figure.Figure at 0x10ed6b860>"
      ]
     },
     "metadata": {},
     "output_type": "display_data"
    }
   ],
   "source": [
    "# Look at the histogram of population with clean data \n",
    "\n",
    "plt.hist(df['Population'], label = 'Population', alpha = 0.5, bins = 40)\n",
    "plt.title('Population')\n",
    "plt.legend(loc='best')\n",
    "plt.show()"
   ]
  },
  {
   "cell_type": "code",
   "execution_count": 16,
   "metadata": {},
   "outputs": [
    {
     "data": {
      "text/html": [
       "<div>\n",
       "<style>\n",
       "    .dataframe thead tr:only-child th {\n",
       "        text-align: right;\n",
       "    }\n",
       "\n",
       "    .dataframe thead th {\n",
       "        text-align: left;\n",
       "    }\n",
       "\n",
       "    .dataframe tbody tr th {\n",
       "        vertical-align: top;\n",
       "    }\n",
       "</style>\n",
       "<table border=\"1\" class=\"dataframe\">\n",
       "  <thead>\n",
       "    <tr style=\"text-align: right;\">\n",
       "      <th></th>\n",
       "      <th>City</th>\n",
       "      <th>Population</th>\n",
       "      <th>Violent_crime</th>\n",
       "      <th>Murder</th>\n",
       "      <th>Rape_legacy</th>\n",
       "      <th>Robbery</th>\n",
       "      <th>Aggravated_assault</th>\n",
       "      <th>Property_crime</th>\n",
       "      <th>Burglary</th>\n",
       "      <th>Larceny_theft</th>\n",
       "      <th>Motor_vehicle_theft</th>\n",
       "    </tr>\n",
       "  </thead>\n",
       "  <tbody>\n",
       "    <tr>\n",
       "      <th>0</th>\n",
       "      <td>Adams Village</td>\n",
       "      <td>1861</td>\n",
       "      <td>0</td>\n",
       "      <td>0</td>\n",
       "      <td>0</td>\n",
       "      <td>0</td>\n",
       "      <td>0</td>\n",
       "      <td>12</td>\n",
       "      <td>2</td>\n",
       "      <td>10</td>\n",
       "      <td>0</td>\n",
       "    </tr>\n",
       "    <tr>\n",
       "      <th>1</th>\n",
       "      <td>Addison Town and Village</td>\n",
       "      <td>2577</td>\n",
       "      <td>3</td>\n",
       "      <td>0</td>\n",
       "      <td>0</td>\n",
       "      <td>0</td>\n",
       "      <td>3</td>\n",
       "      <td>24</td>\n",
       "      <td>3</td>\n",
       "      <td>20</td>\n",
       "      <td>1</td>\n",
       "    </tr>\n",
       "    <tr>\n",
       "      <th>2</th>\n",
       "      <td>Akron Village</td>\n",
       "      <td>2846</td>\n",
       "      <td>3</td>\n",
       "      <td>0</td>\n",
       "      <td>0</td>\n",
       "      <td>0</td>\n",
       "      <td>3</td>\n",
       "      <td>16</td>\n",
       "      <td>1</td>\n",
       "      <td>15</td>\n",
       "      <td>0</td>\n",
       "    </tr>\n",
       "    <tr>\n",
       "      <th>3</th>\n",
       "      <td>Albany</td>\n",
       "      <td>97956</td>\n",
       "      <td>791</td>\n",
       "      <td>8</td>\n",
       "      <td>30</td>\n",
       "      <td>227</td>\n",
       "      <td>526</td>\n",
       "      <td>4090</td>\n",
       "      <td>705</td>\n",
       "      <td>3243</td>\n",
       "      <td>142</td>\n",
       "    </tr>\n",
       "    <tr>\n",
       "      <th>4</th>\n",
       "      <td>Albion Village</td>\n",
       "      <td>6388</td>\n",
       "      <td>23</td>\n",
       "      <td>0</td>\n",
       "      <td>3</td>\n",
       "      <td>4</td>\n",
       "      <td>16</td>\n",
       "      <td>223</td>\n",
       "      <td>53</td>\n",
       "      <td>165</td>\n",
       "      <td>5</td>\n",
       "    </tr>\n",
       "  </tbody>\n",
       "</table>\n",
       "</div>"
      ],
      "text/plain": [
       "                       City  Population  Violent_crime  Murder  Rape_legacy  \\\n",
       "0             Adams Village        1861              0       0            0   \n",
       "1  Addison Town and Village        2577              3       0            0   \n",
       "2             Akron Village        2846              3       0            0   \n",
       "3                    Albany       97956            791       8           30   \n",
       "4            Albion Village        6388             23       0            3   \n",
       "\n",
       "   Robbery  Aggravated_assault  Property_crime  Burglary  Larceny_theft  \\\n",
       "0        0                   0              12         2             10   \n",
       "1        0                   3              24         3             20   \n",
       "2        0                   3              16         1             15   \n",
       "3      227                 526            4090       705           3243   \n",
       "4        4                  16             223        53            165   \n",
       "\n",
       "   Motor_vehicle_theft  \n",
       "0                    0  \n",
       "1                    1  \n",
       "2                    0  \n",
       "3                  142  \n",
       "4                    5  "
      ]
     },
     "metadata": {},
     "output_type": "display_data"
    }
   ],
   "source": [
    "# Making dummies.\n",
    "# Also creating a data frame to hold our features.\n",
    "features_13 = df\n",
    "display(features_13.head())"
   ]
  },
  {
   "cell_type": "markdown",
   "metadata": {},
   "source": [
    "## Feature Engineering"
   ]
  },
  {
   "cell_type": "code",
   "execution_count": 17,
   "metadata": {
    "collapsed": true
   },
   "outputs": [],
   "source": [
    "###Make Everything per capita by dividing other columns by population\n",
    "### features per capita\n",
    "\n",
    "df_f = df[['Violent_crime', 'Murder', 'Rape_legacy',\n",
    "       'Robbery', 'Aggravated_assault', 'Property_crime', 'Burglary',\n",
    "       'Larceny_theft', 'Motor_vehicle_theft']].div(df.Population, axis=0)"
   ]
  },
  {
   "cell_type": "code",
   "execution_count": 18,
   "metadata": {},
   "outputs": [
    {
     "name": "stderr",
     "output_type": "stream",
     "text": [
      "/anaconda/lib/python3.6/site-packages/ipykernel_launcher.py:3: DeprecationWarning: \n",
      ".ix is deprecated. Please use\n",
      ".loc for label based indexing or\n",
      ".iloc for positional indexing\n",
      "\n",
      "See the documentation here:\n",
      "http://pandas.pydata.org/pandas-docs/stable/indexing.html#deprecate_ix\n",
      "  This is separate from the ipykernel package so we can avoid doing imports until\n"
     ]
    }
   ],
   "source": [
    "## Multiply all rows by a 1,000\n",
    "\n",
    "df_f.ix[:,~np.in1d(df_f.dtypes,['object','datetime'])] *= 1000"
   ]
  },
  {
   "cell_type": "code",
   "execution_count": 19,
   "metadata": {},
   "outputs": [
    {
     "data": {
      "text/plain": [
       "Index(['Violent_crime', 'Murder', 'Rape_legacy', 'Robbery',\n",
       "       'Aggravated_assault', 'Property_crime', 'Burglary', 'Larceny_theft',\n",
       "       'Motor_vehicle_theft'],\n",
       "      dtype='object')"
      ]
     },
     "execution_count": 19,
     "metadata": {},
     "output_type": "execute_result"
    }
   ],
   "source": [
    "df_f.columns"
   ]
  },
  {
   "cell_type": "code",
   "execution_count": 20,
   "metadata": {},
   "outputs": [
    {
     "data": {
      "text/plain": [
       "347"
      ]
     },
     "execution_count": 20,
     "metadata": {},
     "output_type": "execute_result"
    }
   ],
   "source": [
    "df.shape[0]"
   ]
  },
  {
   "cell_type": "code",
   "execution_count": 21,
   "metadata": {},
   "outputs": [],
   "source": [
    "## Make a binary outcome b/c of Logistic Regression\n",
    "df_f['Property_crime_high'] = np.where(df_f['Property_crime']>15, 1, 0)\n",
    "\n",
    "Y = df_f['Property_crime_high']\n",
    "X = df_f.loc[:, ~(df_f.columns).isin(['Property_crime_high','Property_crime'])]"
   ]
  },
  {
   "cell_type": "code",
   "execution_count": 22,
   "metadata": {
    "collapsed": true
   },
   "outputs": [],
   "source": [
    "# Define the training and test sizes.\n",
    "trainsize = int(df_f.shape[0] / 2)\n",
    "df_test = df_f.iloc[trainsize:, :].copy()\n",
    "df_train = df_f.iloc[:trainsize, :].copy()"
   ]
  },
  {
   "cell_type": "code",
   "execution_count": 23,
   "metadata": {},
   "outputs": [
    {
     "data": {
      "text/html": [
       "<div>\n",
       "<style>\n",
       "    .dataframe thead tr:only-child th {\n",
       "        text-align: right;\n",
       "    }\n",
       "\n",
       "    .dataframe thead th {\n",
       "        text-align: left;\n",
       "    }\n",
       "\n",
       "    .dataframe tbody tr th {\n",
       "        vertical-align: top;\n",
       "    }\n",
       "</style>\n",
       "<table border=\"1\" class=\"dataframe\">\n",
       "  <thead>\n",
       "    <tr style=\"text-align: right;\">\n",
       "      <th></th>\n",
       "      <th>Violent_crime</th>\n",
       "      <th>Murder</th>\n",
       "      <th>Rape_legacy</th>\n",
       "      <th>Robbery</th>\n",
       "      <th>Aggravated_assault</th>\n",
       "      <th>Property_crime</th>\n",
       "      <th>Burglary</th>\n",
       "      <th>Larceny_theft</th>\n",
       "      <th>Motor_vehicle_theft</th>\n",
       "      <th>Property_crime_high</th>\n",
       "    </tr>\n",
       "  </thead>\n",
       "  <tbody>\n",
       "    <tr>\n",
       "      <th>0</th>\n",
       "      <td>0.000000</td>\n",
       "      <td>0.000000</td>\n",
       "      <td>0.000000</td>\n",
       "      <td>0.000000</td>\n",
       "      <td>0.000000</td>\n",
       "      <td>6.448146</td>\n",
       "      <td>1.074691</td>\n",
       "      <td>5.373455</td>\n",
       "      <td>0.000000</td>\n",
       "      <td>0</td>\n",
       "    </tr>\n",
       "    <tr>\n",
       "      <th>1</th>\n",
       "      <td>1.164144</td>\n",
       "      <td>0.000000</td>\n",
       "      <td>0.000000</td>\n",
       "      <td>0.000000</td>\n",
       "      <td>1.164144</td>\n",
       "      <td>9.313155</td>\n",
       "      <td>1.164144</td>\n",
       "      <td>7.760962</td>\n",
       "      <td>0.388048</td>\n",
       "      <td>0</td>\n",
       "    </tr>\n",
       "    <tr>\n",
       "      <th>2</th>\n",
       "      <td>1.054111</td>\n",
       "      <td>0.000000</td>\n",
       "      <td>0.000000</td>\n",
       "      <td>0.000000</td>\n",
       "      <td>1.054111</td>\n",
       "      <td>5.621926</td>\n",
       "      <td>0.351370</td>\n",
       "      <td>5.270555</td>\n",
       "      <td>0.000000</td>\n",
       "      <td>0</td>\n",
       "    </tr>\n",
       "    <tr>\n",
       "      <th>3</th>\n",
       "      <td>8.075054</td>\n",
       "      <td>0.081669</td>\n",
       "      <td>0.306260</td>\n",
       "      <td>2.317367</td>\n",
       "      <td>5.369758</td>\n",
       "      <td>41.753440</td>\n",
       "      <td>7.197109</td>\n",
       "      <td>33.106701</td>\n",
       "      <td>1.449630</td>\n",
       "      <td>1</td>\n",
       "    </tr>\n",
       "    <tr>\n",
       "      <th>4</th>\n",
       "      <td>3.600501</td>\n",
       "      <td>0.000000</td>\n",
       "      <td>0.469631</td>\n",
       "      <td>0.626174</td>\n",
       "      <td>2.504696</td>\n",
       "      <td>34.909205</td>\n",
       "      <td>8.296807</td>\n",
       "      <td>25.829681</td>\n",
       "      <td>0.782718</td>\n",
       "      <td>1</td>\n",
       "    </tr>\n",
       "  </tbody>\n",
       "</table>\n",
       "</div>"
      ],
      "text/plain": [
       "   Violent_crime    Murder  Rape_legacy   Robbery  Aggravated_assault  \\\n",
       "0       0.000000  0.000000     0.000000  0.000000            0.000000   \n",
       "1       1.164144  0.000000     0.000000  0.000000            1.164144   \n",
       "2       1.054111  0.000000     0.000000  0.000000            1.054111   \n",
       "3       8.075054  0.081669     0.306260  2.317367            5.369758   \n",
       "4       3.600501  0.000000     0.469631  0.626174            2.504696   \n",
       "\n",
       "   Property_crime  Burglary  Larceny_theft  Motor_vehicle_theft  \\\n",
       "0        6.448146  1.074691       5.373455             0.000000   \n",
       "1        9.313155  1.164144       7.760962             0.388048   \n",
       "2        5.621926  0.351370       5.270555             0.000000   \n",
       "3       41.753440  7.197109      33.106701             1.449630   \n",
       "4       34.909205  8.296807      25.829681             0.782718   \n",
       "\n",
       "   Property_crime_high  \n",
       "0                    0  \n",
       "1                    0  \n",
       "2                    0  \n",
       "3                    1  \n",
       "4                    1  "
      ]
     },
     "metadata": {},
     "output_type": "display_data"
    }
   ],
   "source": [
    "display(df_train.head())"
   ]
  },
  {
   "cell_type": "code",
   "execution_count": 24,
   "metadata": {},
   "outputs": [
    {
     "data": {
      "text/html": [
       "<div>\n",
       "<style>\n",
       "    .dataframe thead tr:only-child th {\n",
       "        text-align: right;\n",
       "    }\n",
       "\n",
       "    .dataframe thead th {\n",
       "        text-align: left;\n",
       "    }\n",
       "\n",
       "    .dataframe tbody tr th {\n",
       "        vertical-align: top;\n",
       "    }\n",
       "</style>\n",
       "<table border=\"1\" class=\"dataframe\">\n",
       "  <thead>\n",
       "    <tr style=\"text-align: right;\">\n",
       "      <th></th>\n",
       "      <th>Violent_crime</th>\n",
       "      <th>Murder</th>\n",
       "      <th>Rape_legacy</th>\n",
       "      <th>Robbery</th>\n",
       "      <th>Aggravated_assault</th>\n",
       "      <th>Property_crime</th>\n",
       "      <th>Burglary</th>\n",
       "      <th>Larceny_theft</th>\n",
       "      <th>Motor_vehicle_theft</th>\n",
       "      <th>Property_crime_high</th>\n",
       "    </tr>\n",
       "  </thead>\n",
       "  <tbody>\n",
       "    <tr>\n",
       "      <th>173</th>\n",
       "      <td>0.865426</td>\n",
       "      <td>0.0</td>\n",
       "      <td>0.000000</td>\n",
       "      <td>0.432713</td>\n",
       "      <td>0.432713</td>\n",
       "      <td>19.904803</td>\n",
       "      <td>2.596279</td>\n",
       "      <td>16.875811</td>\n",
       "      <td>0.432713</td>\n",
       "      <td>1</td>\n",
       "    </tr>\n",
       "    <tr>\n",
       "      <th>174</th>\n",
       "      <td>0.000000</td>\n",
       "      <td>0.0</td>\n",
       "      <td>0.000000</td>\n",
       "      <td>0.000000</td>\n",
       "      <td>0.000000</td>\n",
       "      <td>4.887320</td>\n",
       "      <td>0.543036</td>\n",
       "      <td>4.344285</td>\n",
       "      <td>0.000000</td>\n",
       "      <td>0</td>\n",
       "    </tr>\n",
       "    <tr>\n",
       "      <th>175</th>\n",
       "      <td>0.558088</td>\n",
       "      <td>0.0</td>\n",
       "      <td>0.000000</td>\n",
       "      <td>0.000000</td>\n",
       "      <td>0.558088</td>\n",
       "      <td>10.975723</td>\n",
       "      <td>1.860292</td>\n",
       "      <td>8.836387</td>\n",
       "      <td>0.279044</td>\n",
       "      <td>0</td>\n",
       "    </tr>\n",
       "    <tr>\n",
       "      <th>176</th>\n",
       "      <td>3.348641</td>\n",
       "      <td>0.0</td>\n",
       "      <td>0.287026</td>\n",
       "      <td>1.148106</td>\n",
       "      <td>1.913509</td>\n",
       "      <td>31.046690</td>\n",
       "      <td>5.740528</td>\n",
       "      <td>25.019135</td>\n",
       "      <td>0.287026</td>\n",
       "      <td>1</td>\n",
       "    </tr>\n",
       "    <tr>\n",
       "      <th>177</th>\n",
       "      <td>1.043717</td>\n",
       "      <td>0.0</td>\n",
       "      <td>0.029820</td>\n",
       "      <td>0.387666</td>\n",
       "      <td>0.626230</td>\n",
       "      <td>10.049502</td>\n",
       "      <td>1.252460</td>\n",
       "      <td>8.260273</td>\n",
       "      <td>0.536769</td>\n",
       "      <td>0</td>\n",
       "    </tr>\n",
       "  </tbody>\n",
       "</table>\n",
       "</div>"
      ],
      "text/plain": [
       "     Violent_crime  Murder  Rape_legacy   Robbery  Aggravated_assault  \\\n",
       "173       0.865426     0.0     0.000000  0.432713            0.432713   \n",
       "174       0.000000     0.0     0.000000  0.000000            0.000000   \n",
       "175       0.558088     0.0     0.000000  0.000000            0.558088   \n",
       "176       3.348641     0.0     0.287026  1.148106            1.913509   \n",
       "177       1.043717     0.0     0.029820  0.387666            0.626230   \n",
       "\n",
       "     Property_crime  Burglary  Larceny_theft  Motor_vehicle_theft  \\\n",
       "173       19.904803  2.596279      16.875811             0.432713   \n",
       "174        4.887320  0.543036       4.344285             0.000000   \n",
       "175       10.975723  1.860292       8.836387             0.279044   \n",
       "176       31.046690  5.740528      25.019135             0.287026   \n",
       "177       10.049502  1.252460       8.260273             0.536769   \n",
       "\n",
       "     Property_crime_high  \n",
       "173                    1  \n",
       "174                    0  \n",
       "175                    0  \n",
       "176                    1  \n",
       "177                    0  "
      ]
     },
     "metadata": {},
     "output_type": "display_data"
    }
   ],
   "source": [
    "display(df_test.head())\n"
   ]
  },
  {
   "cell_type": "code",
   "execution_count": 25,
   "metadata": {},
   "outputs": [],
   "source": [
    "# Set up the regression model to predict defaults using all other\n",
    "# variables as features.\n",
    "\n",
    "Y_train = df_train['Property_crime_high'].values.reshape(-1, 1)\n",
    "X_train = df_train.loc[:, ~(df_train.columns).isin(['Property_crime_high','Property_crime'])]\n",
    "\n",
    "\n",
    "# Make new features to capture potential quadratic and cubic relationships\n",
    "# between the features.\n",
    "df_train['Burglary_Larceny'] = df_train['Burglary'] * df_train['Larceny_theft']\n",
    "df_train['Burglary_Motor'] = df_train['Burglary'] * df_train['Motor_vehicle_theft']\n",
    "df_train['Larceny_Motor'] = df_train['Larceny_theft'] * df_train['Motor_vehicle_theft']\n",
    "df_train['Burglary_sqrt'] = (df_train['Burglary'] + 100) ** .5\n",
    "df_train['Burglary2'] = (df_train['Burglary'] + 100) ** 2\n",
    "df_train['Burglary3'] = (df_train['Burglary'] + 100) ** 3\n",
    "\n",
    "\n",
    "# Re-run the model with the new features.\n",
    "X_train2 = df_train.loc[:, ~(df_train.columns).isin(['Property_crime_high','Property_crime'])]\n"
   ]
  },
  {
   "cell_type": "code",
   "execution_count": 26,
   "metadata": {},
   "outputs": [],
   "source": [
    "# Test the simpler model with smaller coefficients.\n",
    "Y_test = df_test['Property_crime_high'].values.reshape(-1, 1)\n",
    "X_test = df_test.loc[:, ~(df_test.columns).isin(['Property_crime_high','Property_crime'])]\n",
    "\n",
    "\n",
    "# Test the more complex model with larger coefficients.\n",
    "df_test['Burglary_Larceny'] = df_test['Burglary'] * df_test['Larceny_theft']\n",
    "df_test['Burglary_Motor'] = df_test['Burglary'] * df_test['Motor_vehicle_theft']\n",
    "df_test['Larceny_Motor'] = df_test['Larceny_theft'] * df_test['Motor_vehicle_theft']\n",
    "df_test['Burglary_sqrt'] = (df_test['Burglary'] + 100) ** .5\n",
    "df_test['Burglary2'] = (df_test['Burglary'] + 100) ** 2\n",
    "df_test['Burglary3'] = (df_test['Burglary'] + 100) ** 3\n",
    "\n",
    "# Re-run the model with the new features.\n",
    "X_test2 = df_test.loc[:, ~(df_test.columns).isin(['Property_crime_high','Property_crime'])]\n"
   ]
  },
  {
   "cell_type": "code",
   "execution_count": 27,
   "metadata": {},
   "outputs": [
    {
     "data": {
      "text/plain": [
       "Index(['Violent_crime', 'Murder', 'Rape_legacy', 'Robbery',\n",
       "       'Aggravated_assault', 'Burglary', 'Larceny_theft',\n",
       "       'Motor_vehicle_theft'],\n",
       "      dtype='object')"
      ]
     },
     "execution_count": 27,
     "metadata": {},
     "output_type": "execute_result"
    }
   ],
   "source": [
    "X_train.columns"
   ]
  },
  {
   "cell_type": "markdown",
   "metadata": {},
   "source": [
    "## Vanilla Logistic Regression "
   ]
  },
  {
   "cell_type": "code",
   "execution_count": 28,
   "metadata": {},
   "outputs": [
    {
     "name": "stdout",
     "output_type": "stream",
     "text": [
      "R² for the model with few features:\n",
      "1.0\n",
      "R² for the model with lot of features:\n",
      "0.976878612717\n"
     ]
    },
    {
     "name": "stderr",
     "output_type": "stream",
     "text": [
      "/anaconda/lib/python3.6/site-packages/sklearn/utils/validation.py:526: DataConversionWarning: A column-vector y was passed when a 1d array was expected. Please change the shape of y to (n_samples, ), for example using ravel().\n",
      "  y = column_or_1d(y, warn=True)\n"
     ]
    }
   ],
   "source": [
    "logregr = LogisticRegression(C=1e9)\n",
    "logregr.fit(X_train, Y_train)\n",
    "print('R² for the model with few features:')\n",
    "print(logregr.score(X_train, Y_train))\n",
    "\n",
    "logregrBig = LogisticRegression(C=1e9)\n",
    "logregrBig.fit(X_train2, Y_train)\n",
    "print('R² for the model with lot of features:')\n",
    "print(logregrBig.score(X_train2, Y_train))"
   ]
  },
  {
   "cell_type": "code",
   "execution_count": 29,
   "metadata": {},
   "outputs": [],
   "source": [
    "# Make predictions.\n",
    "y_logregrpred = logregr.predict(X_train)\n",
    "y_logregrBigpred = logregrBig.predict(X_train2)"
   ]
  },
  {
   "cell_type": "code",
   "execution_count": 30,
   "metadata": {},
   "outputs": [
    {
     "name": "stdout",
     "output_type": "stream",
     "text": [
      "R² for the model with with few features on Test set:\n",
      "0.98275862069\n",
      "\n",
      "R² for the model with with lot of  features on Test set:\n",
      "0.977011494253\n"
     ]
    }
   ],
   "source": [
    "print('R² for the model with with few features on Test set:')\n",
    "print(logregr.score(X_test, Y_test))\n",
    "\n",
    "print('\\nR² for the model with with lot of  features on Test set:')\n",
    "print(logregrBig.score(X_test2, Y_test))"
   ]
  },
  {
   "cell_type": "code",
   "execution_count": 31,
   "metadata": {},
   "outputs": [
    {
     "name": "stdout",
     "output_type": "stream",
     "text": [
      "Classification matrix with a few features\n",
      "             precision    recall  f1-score   support\n",
      "\n",
      "          0       1.00      1.00      1.00        83\n",
      "          1       1.00      1.00      1.00        90\n",
      "\n",
      "avg / total       1.00      1.00      1.00       173\n",
      "\n"
     ]
    }
   ],
   "source": [
    "print('Classification matrix with a few features')\n",
    "print(classification_report(Y_train, y_logregrpred))"
   ]
  },
  {
   "cell_type": "code",
   "execution_count": 32,
   "metadata": {},
   "outputs": [
    {
     "name": "stdout",
     "output_type": "stream",
     "text": [
      "With a few features\n",
      "Property_crime_high   0   1\n",
      "row_0                      \n",
      "0                    83   0\n",
      "1                     0  90\n"
     ]
    }
   ],
   "source": [
    "print('With a few features')\n",
    "print(pd.crosstab(y_logregrpred, df_train['Property_crime_high']))"
   ]
  },
  {
   "cell_type": "code",
   "execution_count": 33,
   "metadata": {},
   "outputs": [
    {
     "name": "stdout",
     "output_type": "stream",
     "text": [
      "Classification matrix with lots of features\n",
      "             precision    recall  f1-score   support\n",
      "\n",
      "          0       0.95      1.00      0.98        83\n",
      "          1       1.00      0.96      0.98        90\n",
      "\n",
      "avg / total       0.98      0.98      0.98       173\n",
      "\n"
     ]
    }
   ],
   "source": [
    "print('Classification matrix with lots of features')\n",
    "print(classification_report(Y_train, y_logregrBigpred))"
   ]
  },
  {
   "cell_type": "code",
   "execution_count": 34,
   "metadata": {},
   "outputs": [
    {
     "name": "stdout",
     "output_type": "stream",
     "text": [
      "With lots of features\n",
      "Property_crime_high   0   1\n",
      "row_0                      \n",
      "0                    83   4\n",
      "1                     0  86\n"
     ]
    }
   ],
   "source": [
    "print('With lots of features')\n",
    "print(pd.crosstab(y_logregrBigpred, df_train['Property_crime_high']))"
   ]
  },
  {
   "cell_type": "code",
   "execution_count": 35,
   "metadata": {},
   "outputs": [
    {
     "name": "stdout",
     "output_type": "stream",
     "text": [
      "Scores with a few features:  [ 1.          0.98550725  0.97101449  1.          1.        ]\n",
      "\n",
      "Average Score with a few features:  0.991304347826\n"
     ]
    }
   ],
   "source": [
    "print('Scores with a few features: ', cross_val_score(logregr, X, Y, cv=5))\n",
    "\n",
    "print('\\nAverage Score with a few features: ', cross_val_score(logregr, X, Y, cv=5).mean())"
   ]
  },
  {
   "cell_type": "code",
   "execution_count": 36,
   "metadata": {},
   "outputs": [
    {
     "name": "stdout",
     "output_type": "stream",
     "text": [
      "Scores with lots of features:  [ 1.          0.98550725  0.97101449  1.          1.        ]\n",
      "\n",
      "Average Score with lots of features:  0.991304347826\n"
     ]
    }
   ],
   "source": [
    "print('Scores with lots of features: ', cross_val_score(logregrBig, X, Y, cv=5))\n",
    "\n",
    "print('\\nAverage Score with lots of features: ', cross_val_score(logregrBig, X, Y, cv=5).mean())"
   ]
  },
  {
   "cell_type": "markdown",
   "metadata": {},
   "source": [
    "## Ridge logistic regression"
   ]
  },
  {
   "cell_type": "code",
   "execution_count": 37,
   "metadata": {},
   "outputs": [
    {
     "name": "stdout",
     "output_type": "stream",
     "text": [
      "R² for the model with few features:\n",
      "0.982658959538\n",
      "R² for the model with lot of features:\n",
      "0.976878612717\n"
     ]
    },
    {
     "name": "stderr",
     "output_type": "stream",
     "text": [
      "/anaconda/lib/python3.6/site-packages/sklearn/utils/validation.py:526: DataConversionWarning: A column-vector y was passed when a 1d array was expected. Please change the shape of y to (n_samples, ), for example using ravel().\n",
      "  y = column_or_1d(y, warn=True)\n"
     ]
    }
   ],
   "source": [
    "# Small number of parameters.\n",
    "#ridgeregr = linear_model.Ridge(alpha=10, fit_intercept=False)\n",
    "ridgeregr = LogisticRegression(penalty='l2')\n",
    "ridgeregr.fit(X_train, Y_train)\n",
    "print('R² for the model with few features:')\n",
    "print(ridgeregr.score(X_train, Y_train))\n",
    "\n",
    "\n",
    "# Large number of parameters.\n",
    "#ridgeregrBig = linear_model.Ridge(alpha=10, fit_intercept=False)\n",
    "ridgeregrBig = LogisticRegression(penalty='l2')\n",
    "ridgeregrBig.fit(X_train2, Y_train)\n",
    "print('R² for the model with lot of features:')\n",
    "print(ridgeregrBig.score(X_train2, Y_train))\n",
    "\n"
   ]
  },
  {
   "cell_type": "code",
   "execution_count": 38,
   "metadata": {},
   "outputs": [],
   "source": [
    "# saving model predictions\n",
    "y_ridgepred = ridgeregr.predict(X_train)\n",
    "y_ridgeBigpred = ridgeregrBig.predict(X_train2)"
   ]
  },
  {
   "cell_type": "code",
   "execution_count": 39,
   "metadata": {},
   "outputs": [
    {
     "name": "stdout",
     "output_type": "stream",
     "text": [
      "R² for the model with with few features on Test set:\n",
      "0.988505747126\n",
      "\n",
      "R² for the model with with lot of  features on Test set:\n",
      "0.977011494253\n"
     ]
    }
   ],
   "source": [
    "print('R² for the model with with few features on Test set:')\n",
    "print(ridgeregr.score(X_test, Y_test))\n",
    "\n",
    "print('\\nR² for the model with with lot of  features on Test set:')\n",
    "print(ridgeregrBig.score(X_test2, Y_test))"
   ]
  },
  {
   "cell_type": "code",
   "execution_count": 40,
   "metadata": {},
   "outputs": [
    {
     "name": "stdout",
     "output_type": "stream",
     "text": [
      "Classification matrix with a few features\n",
      "             precision    recall  f1-score   support\n",
      "\n",
      "          0       1.00      0.96      0.98        83\n",
      "          1       0.97      1.00      0.98        90\n",
      "\n",
      "avg / total       0.98      0.98      0.98       173\n",
      "\n"
     ]
    }
   ],
   "source": [
    "print('Classification matrix with a few features')\n",
    "\n",
    "print(classification_report(Y_train, y_ridgepred))"
   ]
  },
  {
   "cell_type": "code",
   "execution_count": 41,
   "metadata": {},
   "outputs": [
    {
     "name": "stdout",
     "output_type": "stream",
     "text": [
      "With a few features\n",
      "Property_crime_high   0   1\n",
      "row_0                      \n",
      "0                    80   0\n",
      "1                     3  90\n"
     ]
    }
   ],
   "source": [
    "print('With a few features')\n",
    "print(pd.crosstab(y_ridgepred, df_train['Property_crime_high']))"
   ]
  },
  {
   "cell_type": "code",
   "execution_count": 42,
   "metadata": {},
   "outputs": [
    {
     "name": "stdout",
     "output_type": "stream",
     "text": [
      "Classification matrix with lots of features\n",
      "             precision    recall  f1-score   support\n",
      "\n",
      "          0       0.95      1.00      0.98        83\n",
      "          1       1.00      0.96      0.98        90\n",
      "\n",
      "avg / total       0.98      0.98      0.98       173\n",
      "\n"
     ]
    }
   ],
   "source": [
    "print('Classification matrix with lots of features')\n",
    "print(classification_report(Y_train, y_ridgeBigpred))"
   ]
  },
  {
   "cell_type": "code",
   "execution_count": 43,
   "metadata": {},
   "outputs": [
    {
     "name": "stdout",
     "output_type": "stream",
     "text": [
      "With lots of features\n",
      "Property_crime_high   0   1\n",
      "row_0                      \n",
      "0                    83   4\n",
      "1                     0  86\n"
     ]
    }
   ],
   "source": [
    "print('With lots of features')\n",
    "print(pd.crosstab(y_ridgeBigpred, df_train['Property_crime_high']))"
   ]
  },
  {
   "cell_type": "code",
   "execution_count": 44,
   "metadata": {},
   "outputs": [
    {
     "name": "stdout",
     "output_type": "stream",
     "text": [
      "Scores with a few features:  [ 0.98591549  0.98550725  0.97101449  1.          0.98550725]\n",
      "\n",
      "Average Score with a few features:  0.985588895693\n"
     ]
    }
   ],
   "source": [
    "print('Scores with a few features: ', cross_val_score(ridgeregr, X, Y, cv=5))\n",
    "\n",
    "print('\\nAverage Score with a few features: ', cross_val_score(ridgeregr, X, Y, cv=5).mean())"
   ]
  },
  {
   "cell_type": "code",
   "execution_count": 45,
   "metadata": {},
   "outputs": [
    {
     "name": "stdout",
     "output_type": "stream",
     "text": [
      "Scores with lots of features:  [ 0.98591549  0.98550725  0.97101449  1.          0.98550725]\n",
      "\n",
      "Average Score with lots of features:  0.985588895693\n"
     ]
    }
   ],
   "source": [
    "print('Scores with lots of features: ', cross_val_score(ridgeregrBig, X, Y, cv=5))\n",
    "\n",
    "print('\\nAverage Score with lots of features: ', cross_val_score(ridgeregrBig, X, Y, cv=5).mean())"
   ]
  },
  {
   "cell_type": "markdown",
   "metadata": {},
   "source": [
    "## Lasso logistic regression"
   ]
  },
  {
   "cell_type": "code",
   "execution_count": 46,
   "metadata": {},
   "outputs": [
    {
     "name": "stdout",
     "output_type": "stream",
     "text": [
      "R² for the model with few features:\n",
      "0.994219653179\n",
      "R² for the model with lot of  features:\n",
      "0.988439306358\n"
     ]
    },
    {
     "name": "stderr",
     "output_type": "stream",
     "text": [
      "/anaconda/lib/python3.6/site-packages/sklearn/utils/validation.py:526: DataConversionWarning: A column-vector y was passed when a 1d array was expected. Please change the shape of y to (n_samples, ), for example using ravel().\n",
      "  y = column_or_1d(y, warn=True)\n"
     ]
    }
   ],
   "source": [
    "# Small number of parameters.\n",
    "#lass = linear_model.Lasso(alpha=.35)\n",
    "lass = LogisticRegression(penalty='l1')\n",
    "lass.fit(X_train, Y_train)\n",
    "print('R² for the model with few features:')\n",
    "print(lass.score(X_train, Y_train))\n",
    "\n",
    "\n",
    "\n",
    "# Large number of parameters.\n",
    "#lassBig = linear_model.Lasso(alpha=.35)\n",
    "lassBig = LogisticRegression(penalty='l1')\n",
    "lassBig.fit(X_train2, Y_train)\n",
    "print('R² for the model with lot of  features:')\n",
    "print(lassBig.score(X_train2, Y_train))\n"
   ]
  },
  {
   "cell_type": "code",
   "execution_count": 47,
   "metadata": {
    "collapsed": true
   },
   "outputs": [],
   "source": [
    "# saving model predictions\n",
    "y_lasspred = lass.predict(X_train)\n",
    "y_lassBigpred = lassBig.predict(X_train2)"
   ]
  },
  {
   "cell_type": "code",
   "execution_count": 48,
   "metadata": {},
   "outputs": [
    {
     "name": "stdout",
     "output_type": "stream",
     "text": [
      "R² for the model with few features on Test set:\n",
      "1.0\n",
      "\n",
      "R² for the model with with lot of  features on Test set:\n",
      "0.994252873563\n"
     ]
    }
   ],
   "source": [
    "print('R² for the model with few features on Test set:')\n",
    "print(lass.score(X_test, Y_test))\n",
    "\n",
    "print('\\nR² for the model with with lot of  features on Test set:')\n",
    "print(lassBig.score(X_test2, Y_test))"
   ]
  },
  {
   "cell_type": "code",
   "execution_count": 49,
   "metadata": {},
   "outputs": [
    {
     "name": "stdout",
     "output_type": "stream",
     "text": [
      "Classification matrix with a few features\n",
      "             precision    recall  f1-score   support\n",
      "\n",
      "          0       1.00      0.99      0.99        83\n",
      "          1       0.99      1.00      0.99        90\n",
      "\n",
      "avg / total       0.99      0.99      0.99       173\n",
      "\n"
     ]
    }
   ],
   "source": [
    "print('Classification matrix with a few features')\n",
    "print(classification_report(Y_train, y_lasspred))"
   ]
  },
  {
   "cell_type": "code",
   "execution_count": 50,
   "metadata": {},
   "outputs": [
    {
     "name": "stdout",
     "output_type": "stream",
     "text": [
      "With a few features\n",
      "Property_crime_high   0   1\n",
      "row_0                      \n",
      "0                    82   0\n",
      "1                     1  90\n"
     ]
    }
   ],
   "source": [
    "print('With a few features')\n",
    "print(pd.crosstab(y_lasspred, df_train['Property_crime_high']))"
   ]
  },
  {
   "cell_type": "code",
   "execution_count": 51,
   "metadata": {},
   "outputs": [
    {
     "name": "stdout",
     "output_type": "stream",
     "text": [
      "Classification matrix  report with lots of features\n",
      "             precision    recall  f1-score   support\n",
      "\n",
      "          0       0.99      0.99      0.99        83\n",
      "          1       0.99      0.99      0.99        90\n",
      "\n",
      "avg / total       0.99      0.99      0.99       173\n",
      "\n"
     ]
    }
   ],
   "source": [
    "print('Classification matrix  report with lots of features')\n",
    "print(classification_report(Y_train, y_lassBigpred))"
   ]
  },
  {
   "cell_type": "code",
   "execution_count": 52,
   "metadata": {},
   "outputs": [
    {
     "name": "stdout",
     "output_type": "stream",
     "text": [
      "With lots of features\n",
      "Property_crime_high   0   1\n",
      "row_0                      \n",
      "0                    82   1\n",
      "1                     1  89\n"
     ]
    }
   ],
   "source": [
    "print('With lots of features')\n",
    "print(pd.crosstab(y_lassBigpred, df_train['Property_crime_high']))"
   ]
  },
  {
   "cell_type": "code",
   "execution_count": 53,
   "metadata": {},
   "outputs": [
    {
     "name": "stdout",
     "output_type": "stream",
     "text": [
      "Scores with few features:  [ 0.98591549  0.98550725  0.98550725  1.          1.        ]\n",
      "\n",
      "Average Score with few features:  0.991385997142\n"
     ]
    }
   ],
   "source": [
    "print('Scores with few features: ', cross_val_score(lass , X, Y, cv=5))\n",
    "print('\\nAverage Score with few features: ', cross_val_score(lass , X, Y, cv=5).mean())"
   ]
  },
  {
   "cell_type": "code",
   "execution_count": 54,
   "metadata": {},
   "outputs": [
    {
     "name": "stdout",
     "output_type": "stream",
     "text": [
      "Scores with lots of features:  [ 0.98591549  0.98550725  0.98550725  1.          1.        ]\n",
      "\n",
      "Average Score with lots of features:  0.991385997142\n"
     ]
    }
   ],
   "source": [
    "print('Scores with lots of features: ', cross_val_score(lassBig , X, Y, cv=5))\n",
    "print('\\nAverage Score with lots of features: ', cross_val_score(lassBig , X, Y, cv=5).mean())"
   ]
  },
  {
   "cell_type": "code",
   "execution_count": 55,
   "metadata": {
    "collapsed": true
   },
   "outputs": [],
   "source": [
    "##TRy to change propeorty crime cut off 16 is possibly to high  try with 5 and 30 and so forth \n",
    "## Doing sensitivity analysis of the model\n",
    "## changing alpha for Lasso and/or Ridge\n",
    "\n",
    "## Look into the things that you need to do to have different results for the model\n",
    "\n",
    "### Look at what happens when we use Look at Big Model meaning using X_train2\n"
   ]
  },
  {
   "cell_type": "markdown",
   "metadata": {},
   "source": [
    "## For df_f['Property_crime_high'] = np.where(df_f['Property_crime']>5, 1, 0)\n",
    "\n",
    "\n",
    "### __For Vanilla Logistic Regression__   \n",
    "\n",
    "__R² for the model with few features:__    \n",
    "1.0     \n",
    "__R² for the model with lot of features:__      \n",
    "0.895953757225      \n",
    "\n",
    "__R² for the model with with few features on Test set:__      \n",
    "1.0   \n",
    "__R² for the model with with lot of  features on Test set:__     \n",
    "0.919540229885 \n",
    "\n",
    "__With a few features__        \n",
    "Property_crime_high   0    1    \n",
    "row_0                        \n",
    "0                    19    0        \n",
    "1                     0  154  \n",
    "\n",
    "\n",
    "__With lots of features__   \n",
    "Property_crime_high   0    1   \n",
    "row_0                          \n",
    "0                     6    5     \n",
    "1                    13  149      \n",
    "    \n",
    "### __For Ridge Logistic Regression__   \n",
    "\n",
    "__R² for the model with few features:__   \n",
    "0.982658959538   \n",
    "__R² for the model with lot of features:__   \n",
    "0.895953757225   \n",
    "\n",
    "__R² for the model with with few features on Test set:__  \n",
    "0.959770114943     \n",
    "\n",
    "__R² for the model with with lot of  features on Test set:__   \n",
    "0.919540229885    \n",
    "\n",
    "__With a few features__      \n",
    "Property_crime_high   0   1   \n",
    "row_0                      \n",
    "0                    16    0    \n",
    "1                     3  154        \n",
    "\n",
    "__With lots of features__     \n",
    "Property_crime_high   0   1   \n",
    "row_0                      \n",
    "0                     6    5    \n",
    "1                    13  149         \n",
    "\n",
    "\n",
    "### __For Lasso Logistic Rgeression__  \n",
    "\n",
    "\n",
    "__R² for the model with few features:__   \n",
    "0.988439306358   \n",
    "__R² for the model with lot of  features:__\n",
    "1.0   \n",
    "\n",
    "__R² for the model with few features on Test set:__  \n",
    "0.988505747126   \n",
    "\n",
    "__R² for the model with with lot of  features on Test set:__  \n",
    "0.994252873563   \n",
    "\n",
    "\n",
    "__With a few features__  \n",
    "Property_crime_high   0    1  \n",
    "row_0                           \n",
    "0                    17    0     \n",
    "1                     2  154       \n",
    "\n",
    "\n",
    "__With lots of features__   \n",
    "Property_crime_high   0    1   \n",
    "row_0                          \n",
    "0                    19    0     \n",
    "1                     0  154      \n",
    "\n",
    "\n",
    "\n",
    "__Vanilla Logistic Regression__ gives us a correct estimate when we have a few features  and give us some error when we are dealing with a lot of features. \n",
    "\n",
    "__Ridge Logistic Regression__ doesn't give us an accurate prediction whether we are dealing with few features or lots of features.   \n",
    "\n",
    "__Lasso Logistic Regression__ doesn't give us an accurate prediction when we have a few features but works well when we have lots of features.    \n",
    "\n",
    "\n",
    "\n",
    "## For df_f['Property_crime_high'] = np.where(df_f['Property_crime']>15, 1, 0)\n",
    "\n",
    "\n",
    "### __For Vanilla Logistic Regression__   \n",
    "\n",
    "__R² for the model with few features:__    \n",
    "1.0     \n",
    "__R² for the model with lot of features:__      \n",
    "0.976878612717        \n",
    "\n",
    "__R² for the model with with few features on Test set:__      \n",
    "0.98275862069   \n",
    "__R² for the model with with lot of  features on Test set:__     \n",
    "0.977011494253    \n",
    "\n",
    "\n",
    "\n",
    "__With a few features__        \n",
    "Property_crime_high   0    1      \n",
    "row_0                          \n",
    "0                    83   0  \n",
    "1                     0  90  \n",
    "\n",
    "\n",
    "__With lots of features__     \n",
    "Property_crime_high   0    1     \n",
    "row_0                          \n",
    "0                    83   4  \n",
    "1                     0  86        \n",
    "  \n",
    "### __For Ridge Logistic Regression__   \n",
    "\n",
    "__R² for the model with few features:__   \n",
    "0.982658959538 \n",
    "__R² for the model with lot of features:__   \n",
    "0.976878612717   \n",
    "\n",
    "__R² for the model with with few features on Test set:__  \n",
    "0.988505747126     \n",
    "\n",
    "__R² for the model with with lot of  features on Test set:__   \n",
    "0.977011494253     \n",
    "\n",
    "__With a few features__      \n",
    "Property_crime_high   0   1   \n",
    "row_0                      \n",
    "0                    80   0   \n",
    "1                     3  90       \n",
    "\n",
    "__With lots of features__     \n",
    "Property_crime_high   0   1   \n",
    "row_0                      \n",
    "0                    83   4   \n",
    "1                     0  86         \n",
    "\n",
    "\n",
    "### __For Lasso Logistic Rgeression__  \n",
    "\n",
    "\n",
    "__R² for the model with few features:__   \n",
    "0.994219653179   \n",
    "__R² for the model with lot of  features:__\n",
    "0.988439306358  \n",
    "\n",
    "__R² for the model with few features on Test set:__  \n",
    "1.0     \n",
    "\n",
    "__R² for the model with with lot of  features on Test set:__  \n",
    "0.994252873563   \n",
    "\n",
    "\n",
    "__With a few features__  \n",
    "Property_crime_high   0    1  \n",
    "row_0                           \n",
    "0                    82   0    \n",
    "1                     1  90         \n",
    "\n",
    "\n",
    "__With lots of features__   \n",
    "Property_crime_high   0    1   \n",
    "row_0                          \n",
    "0                    82   1    \n",
    "1                     1  89      \n",
    "\n",
    "\n",
    "__Vanilla Logistic Regression__ gives us a correct estimate when we have a few features and give us some error when we are dealing with a lot of features. \n",
    "\n",
    "__Ridge Logistic Regression__ doesn't give us an accurate prediction whether we are dealing with few features or lots of features.   \n",
    "\n",
    "__Lasso Logistic Regression__ doesn't give us an accurate prediction when we have a few or have lots of features.\n",
    "\n",
    "\n",
    "\n",
    "## For df_f['Property_crime_high'] = np.where(df_f['Property_crime']>30, 1, 0)\n",
    "\n",
    "\n",
    "### __For Vanilla Logistic Regression__   \n",
    "\n",
    "__R² for the model with few features:__    \n",
    "1.0     \n",
    "__R² for the model with lot of features:__      \n",
    "0.959537572254    \n",
    "\n",
    "__R² for the model with with few features on Test set:__      \n",
    "0.971264367816\n",
    "__R² for the model with with lot of  features on Test set:__     \n",
    "0.942528735632 \n",
    "\n",
    "\n",
    "__With a few features__        \n",
    "Property_crime_high   0    1    \n",
    "row_0                        \n",
    "0                    142   0  \n",
    "1                      0  31   \n",
    "\n",
    "\n",
    "__With lots of features__   \n",
    "Property_crime_high   0    1   \n",
    "row_0                                                \n",
    "0                    141   6   \n",
    "1                      1  25      \n",
    "  \n",
    "### __For Ridge Logistic Regression__   \n",
    "\n",
    "__R² for the model with few features:__   \n",
    "0.988439306358   \n",
    "__R² for the model with lot of features:__   \n",
    "0.959537572254   \n",
    "\n",
    "\n",
    "__R² for the model with with few features on Test set:__  \n",
    "0.977011494253      \n",
    "\n",
    "__R² for the model with with lot of  features on Test set:__   \n",
    "0.942528735632      \n",
    "\n",
    "\n",
    "__With a few features__      \n",
    "Property_crime_high   0   1   \n",
    "row_0                      \n",
    "0                    16    0  \n",
    "1                     3  154       \n",
    "\n",
    "__With lots of features__     \n",
    "Property_crime_high   0   1   \n",
    "row_0                      \n",
    "0                     6    5  \n",
    "1                    13  149      \n",
    "\n",
    "\n",
    "### __For Lasso Logistic Rgeression__  \n",
    "\n",
    "\n",
    "__R² for the model with few features:__   \n",
    "0.994219653179      \n",
    "__R² for the model with lot of  features:__\n",
    "0.994219653179     \n",
    "\n",
    "\n",
    "\n",
    "__R² for the model with few features on Test set:__  \n",
    "0.994252873563   \n",
    "\n",
    "__R² for the model with with lot of  features on Test set:__  \n",
    "0.994252873563    \n",
    "\n",
    "\n",
    "__With a few features__  \n",
    "Property_crime_high   0    1  \n",
    "row_0                           \n",
    "0                    142   1  \n",
    "1                      0  30       \n",
    "\n",
    "\n",
    "__With lots of features__   \n",
    "Property_crime_high   0    1   \n",
    "row_0                          \n",
    "0                    142   1  \n",
    "1                      0  30     \n",
    "\n",
    "\n",
    "__Vanilla Logistic Regression__ gives us a correct estimate when we have a few features  and give us some error when we are dealing with a lot of features. \n",
    "\n",
    "__Ridge Logistic Regression__ doesn't give us an accurate prediction whether we are dealing with few features or lots of features. The prediction with a few features is better than the ones with lots of features.    \n",
    "\n",
    "__Lasso Logistic Regression__ doesn't give us an accurate prediction when we have a few features but works well when we have lots of features. It looks like the prediction with a few and lots of features is exactly the same.  "
   ]
  },
  {
   "cell_type": "markdown",
   "metadata": {},
   "source": [
    "We can say that Vanilla Logistic Reegression is definetely better than Ridge and Lasso Logistic Regressions.  \n",
    "When comparing Ridge and Lasso Regressions, Ridge Regressions seems to work better.   "
   ]
  },
  {
   "cell_type": "code",
   "execution_count": null,
   "metadata": {
    "collapsed": true
   },
   "outputs": [],
   "source": []
  }
 ],
 "metadata": {
  "kernelspec": {
   "display_name": "Python 3",
   "language": "python",
   "name": "python3"
  },
  "language_info": {
   "codemirror_mode": {
    "name": "ipython",
    "version": 3
   },
   "file_extension": ".py",
   "mimetype": "text/x-python",
   "name": "python",
   "nbconvert_exporter": "python",
   "pygments_lexer": "ipython3",
   "version": "3.6.1"
  }
 },
 "nbformat": 4,
 "nbformat_minor": 2
}
