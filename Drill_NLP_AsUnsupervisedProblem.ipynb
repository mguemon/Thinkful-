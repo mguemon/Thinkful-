{
 "cells": [
  {
   "cell_type": "markdown",
   "metadata": {},
   "source": [
    "# Natural language processing\n",
    "# As Unsupervised problem"
   ]
  },
  {
   "cell_type": "code",
   "execution_count": 1,
   "metadata": {
    "collapsed": true
   },
   "outputs": [],
   "source": [
    "import numpy as np\n",
    "import pandas as pd\n",
    "import scipy\n",
    "import matplotlib.pyplot as plt\n",
    "import seaborn as sns\n",
    "%matplotlib inline"
   ]
  },
  {
   "cell_type": "markdown",
   "metadata": {},
   "source": [
    "## Drill: tf-idf scores\n",
    "\n",
    "To make sure you are solid on how these vectors work, please generate the vectors for the last three sentences. If you are feeling uncertain, have your mentor walk you through it.  \n",
    "1 \"The best Monty Python sketch is the one about the dead parrot, I laughed so hard.\"   \n",
    "2 \"I laugh when I think about Python's Ministry of Silly Walks sketch, it is funny, funny, funny, the best!\"   \n",
    "3 \"Chocolate is the best ice cream dessert topping, with a great taste.\"      \n",
    "4 \"The Lumberjack Song is the funniest Monty Python bit: I can't think of it without laughing.\"   \n",
    "5 \"I would rather put strawberries on my ice cream for dessert, they have the best taste.\"   \n",
    "6 \"The taste of caramel is a fantastic accompaniment to tasty mint ice cream.\"   "
   ]
  },
  {
   "cell_type": "code",
   "execution_count": 11,
   "metadata": {
    "collapsed": true
   },
   "outputs": [],
   "source": [
    "sentences = [\"The Lumberjack Song is the funniest Monty Python bit: I can't think of it without laughing.\",\n",
    "             \"I would rather put strawberries on my ice cream for dessert, they have the best taste.\",\n",
    "            \"The taste of caramel is a fantastic accompaniment to tasty mint ice cream.\"]"
   ]
  },
  {
   "cell_type": "code",
   "execution_count": 43,
   "metadata": {},
   "outputs": [
    {
     "name": "stdout",
     "output_type": "stream",
     "text": [
      "The 1\n",
      "Lumberjack 1\n",
      "Song 1\n",
      "is 1\n",
      "the 1\n",
      "funniest 1\n",
      "Monty 1\n",
      "Python 1\n",
      "bit: 1\n",
      "I 1\n",
      "can't 1\n",
      "think 1\n",
      "of 1\n",
      "it 1\n",
      "without 1\n",
      "laughing. 1\n",
      "I 1\n",
      "would 1\n",
      "rather 1\n",
      "put 1\n",
      "strawberries 1\n",
      "on 1\n",
      "my 1\n",
      "ice 1\n",
      "cream 1\n",
      "for 1\n",
      "dessert, 1\n",
      "they 1\n",
      "have 1\n",
      "the 1\n",
      "best 1\n",
      "taste. 1\n",
      "The 1\n",
      "taste 1\n",
      "of 1\n",
      "caramel 1\n",
      "is 1\n",
      "a 1\n",
      "fantastic 1\n",
      "accompaniment 1\n",
      "to 1\n",
      "tasty 1\n",
      "mint 1\n",
      "ice 1\n",
      "cream. 1\n"
     ]
    }
   ],
   "source": [
    "## Change things into lower case, remove the spaces and etc...\n",
    "#df=[]\n",
    "for s in sentences:\n",
    "    s = s.split()\n",
    "    for w in s:\n",
    "        #df = [w, s.count(w)]\n",
    "        print(w, s.count(w))"
   ]
  },
  {
   "cell_type": "markdown",
   "metadata": {},
   "source": [
    "Just do it by hand because complicated.   "
   ]
  },
  {
   "cell_type": "code",
   "execution_count": null,
   "metadata": {
    "collapsed": true
   },
   "outputs": [],
   "source": []
  },
  {
   "cell_type": "code",
   "execution_count": 2,
   "metadata": {},
   "outputs": [
    {
     "name": "stdout",
     "output_type": "stream",
     "text": [
      "[nltk_data] Downloading package gutenberg to\n",
      "[nltk_data]     /Users/Checkout/nltk_data...\n",
      "[nltk_data]   Package gutenberg is already up-to-date!\n",
      "['[ Emma by Jane Austen 1816 ]', 'VOLUME I', 'CHAPTER I', 'Emma Woodhouse , handsome , clever , and rich , with a comfortable home and happy disposition , seemed to unite some of the best blessings of existence ; and had lived nearly twenty - one years in the world with very little to distress or vex her .']\n"
     ]
    }
   ],
   "source": [
    "import nltk\n",
    "from nltk.corpus import gutenberg\n",
    "nltk.download('gutenberg')\n",
    "import re\n",
    "from sklearn.model_selection import train_test_split\n",
    "\n",
    "#reading in the data, this time in the form of paragraphs\n",
    "emma=gutenberg.paras('austen-emma.txt')\n",
    "#processing\n",
    "emma_paras=[]\n",
    "for paragraph in emma:\n",
    "    para=paragraph[0]\n",
    "    #removing the double-dash from all words\n",
    "    para=[re.sub(r'--','',word) for word in para]\n",
    "    #Forming each paragraph into a string and adding it to the list of strings.\n",
    "    emma_paras.append(' '.join(para))\n",
    "\n",
    "print(emma_paras[0:4])"
   ]
  },
  {
   "cell_type": "code",
   "execution_count": 3,
   "metadata": {},
   "outputs": [
    {
     "name": "stdout",
     "output_type": "stream",
     "text": [
      "Number of features: 1948\n",
      "Original sentence: A very few minutes more , however , completed the present trial .\n",
      "Tf_idf vector: {'minutes': 0.71274503103825837, 'present': 0.70142321085794701}\n"
     ]
    }
   ],
   "source": [
    "from sklearn.feature_extraction.text import TfidfVectorizer\n",
    "\n",
    "X_train, X_test = train_test_split(emma_paras, test_size=0.4, random_state=0)\n",
    "\n",
    "vectorizer = TfidfVectorizer(max_df=0.5, # drop words that occur in more than half the paragraphs\n",
    "                             min_df=2, # only use words that appear at least twice\n",
    "                             stop_words='english', \n",
    "                             lowercase=True, #convert everything to lower case (since Alice in Wonderland has the HABIT of CAPITALIZING WORDS for EMPHASIS)\n",
    "                             use_idf=True,#we definitely want to use inverse document frequencies in our weighting\n",
    "                             norm=u'l2', #Applies a correction factor so that longer paragraphs and shorter paragraphs get treated equally\n",
    "                             smooth_idf=True #Adds 1 to all document frequencies, as if an extra document existed that used every word once.  Prevents divide-by-zero errors\n",
    "                            )\n",
    "\n",
    "\n",
    "#Applying the vectorizer\n",
    "emma_paras_tfidf=vectorizer.fit_transform(emma_paras)\n",
    "print(\"Number of features: %d\" % emma_paras_tfidf.get_shape()[1])\n",
    "\n",
    "#splitting into training and test sets\n",
    "X_train_tfidf, X_test_tfidf= train_test_split(emma_paras_tfidf, test_size=0.4, random_state=0)\n",
    "\n",
    "\n",
    "#Reshapes the vectorizer output into something people can read\n",
    "X_train_tfidf_csr = X_train_tfidf.tocsr()\n",
    "\n",
    "#number of paragraphs\n",
    "n = X_train_tfidf_csr.shape[0]\n",
    "#A list of dictionaries, one per paragraph\n",
    "tfidf_bypara = [{} for _ in range(0,n)]\n",
    "#List of features\n",
    "terms = vectorizer.get_feature_names()\n",
    "#for each paragraph, lists the feature words and their tf-idf scores\n",
    "for i, j in zip(*X_train_tfidf_csr.nonzero()):\n",
    "    tfidf_bypara[i][terms[j]] = X_train_tfidf_csr[i, j]\n",
    "\n",
    "#Keep in mind that the log base 2 of 1 is 0, so a tf-idf score of 0 indicates that the word was present once in that sentence.\n",
    "print('Original sentence:', X_train[5])\n",
    "print('Tf_idf vector:', tfidf_bypara[5])"
   ]
  },
  {
   "cell_type": "code",
   "execution_count": 4,
   "metadata": {},
   "outputs": [
    {
     "name": "stdout",
     "output_type": "stream",
     "text": [
      "Percent variance captured by all components: 45.2043149068\n",
      "Component 0:\n",
      "\" Oh !    0.99929\n",
      "\" Oh !    0.99929\n",
      "\" Oh !    0.99929\n",
      "\" Oh !    0.99929\n",
      "\" Oh !    0.99929\n",
      "\" Oh !    0.99929\n",
      "\" Oh !    0.99929\n",
      "\" Oh !    0.99929\n",
      "\" Oh !    0.99929\n",
      "\" Oh !    0.99929\n",
      "Name: 0, dtype: float64\n",
      "Component 1:\n",
      "\" You have made her too tall , Emma ,\" said Mr . Knightley .                                                                                                                0.634833\n",
      "\" You get upon delicate subjects , Emma ,\" said Mrs . Weston smiling ; \" remember that I am here . Mr .                                                                     0.567979\n",
      "\" I do not know what your opinion may be , Mrs . Weston ,\" said Mr . Knightley , \" of this great intimacy between Emma and Harriet Smith , but I think it a bad thing .\"    0.563400\n",
      "\" You are right , Mrs . Weston ,\" said Mr . Knightley warmly , \" Miss Fairfax is as capable as any of us of forming a just opinion of Mrs . Elton .                         0.560445\n",
      "\" There were misunderstandings between them , Emma ; he said so expressly .                                                                                                 0.528361\n",
      "Mr . Knightley might quarrel with her , but Emma could not quarrel with herself .                                                                                           0.527420\n",
      "\" Now ,\" said Emma , when they were fairly beyond the sweep gates , \" now Mr . Weston , do let me know what has happened .\"                                                 0.517320\n",
      "Emma found that it was not Mr . Weston ' s fault that the number of privy councillors was not yet larger .                                                                  0.511420\n",
      "\" In one respect , perhaps , Mr . Elton ' s manners are superior to Mr . Knightley ' s or Mr . Weston ' s .                                                                 0.506018\n",
      "\" I do not admire it ,\" said Mr . Knightley .                                                                                                                               0.500093\n",
      "Name: 1, dtype: float64\n",
      "Component 2:\n",
      "CHAPTER X       0.998961\n",
      "CHAPTER I       0.998961\n",
      "CHAPTER V       0.998961\n",
      "CHAPTER I       0.998961\n",
      "CHAPTER I       0.998961\n",
      "CHAPTER V       0.998961\n",
      "CHAPTER V       0.998961\n",
      "CHAPTER X       0.998961\n",
      "CHAPTER X       0.998961\n",
      "CHAPTER XVII    0.998207\n",
      "Name: 2, dtype: float64\n",
      "Component 3:\n",
      "\" Ah !      0.992911\n",
      "\" Ah !      0.992911\n",
      "\" Ah !      0.992911\n",
      "\" Ah !      0.992911\n",
      "\" Ah !      0.992911\n",
      "\" Ah !      0.992911\n",
      "But ah !    0.992911\n",
      "\" Ah !      0.992911\n",
      "\" Ah !\"     0.992911\n",
      "\" Ah !      0.992911\n",
      "Name: 3, dtype: float64\n",
      "Component 4:\n",
      "\" There were misunderstandings between them , Emma ; he said so expressly .    0.650602\n",
      "\" Are you well , my Emma ?\"                                                    0.598693\n",
      "Emma demurred .                                                                0.598693\n",
      "Emma was silenced .                                                            0.587441\n",
      "At first it was downright dulness to Emma .                                    0.586182\n",
      "\" Emma , my dear Emma \"                                                        0.576907\n",
      "Emma could not resist .                                                        0.568593\n",
      "\" It is not now worth a regret ,\" said Emma .                                  0.555174\n",
      "\" For shame , Emma !                                                           0.533740\n",
      "\" I am ready ,\" said Emma , \" whenever I am wanted .\"                          0.504185\n",
      "Name: 4, dtype: float64\n"
     ]
    }
   ],
   "source": [
    "from sklearn.decomposition import TruncatedSVD\n",
    "from sklearn.pipeline import make_pipeline\n",
    "from sklearn.preprocessing import Normalizer\n",
    "\n",
    "#Our SVD data reducer.  We are going to reduce the feature space from 1379 to 130.\n",
    "svd= TruncatedSVD(130)\n",
    "lsa = make_pipeline(svd, Normalizer(copy=False))\n",
    "# Run SVD on the training data, then project the training data.\n",
    "X_train_lsa = lsa.fit_transform(X_train_tfidf)\n",
    "\n",
    "variance_explained=svd.explained_variance_ratio_\n",
    "total_variance = variance_explained.sum()\n",
    "print(\"Percent variance captured by all components:\",total_variance*100)\n",
    "\n",
    "#Looking at what sorts of paragraphs our solution considers similar, for the first five identified topics\n",
    "paras_by_component=pd.DataFrame(X_train_lsa,index=X_train)\n",
    "for i in range(5):\n",
    "    print('Component {}:'.format(i))\n",
    "    print(paras_by_component.loc[:,i].sort_values(ascending=False)[0:10])\n",
    "\n",
    "\n"
   ]
  },
  {
   "cell_type": "code",
   "execution_count": 5,
   "metadata": {},
   "outputs": [
    {
     "data": {
      "image/png": "[encoded data removed]",
      "text/plain": [
       "<matplotlib.figure.Figure at 0x116d11160>"
      ]
     },
     "metadata": {},
     "output_type": "display_data"
    },
    {
     "name": "stdout",
     "output_type": "stream",
     "text": [
      "Key:\n",
      "0 That is _court_ .\n",
      "1 \" Yes , sir , I did indeed ; and I am very much obliged by your kind solicitude about me .\"\n",
      "2 \" How much his business engrosses him already is very plain from the circumstance of his forgetting to inquire for the book you recommended .\n",
      "3 To restrain him as much as might be , by her own manners , she was immediately preparing to speak with exquisite calmness and gravity of the weather and the night ; but scarcely had she begun , scarcely had they passed the sweep - gate and joined the other carriage , than she found her subject cut up  her hand seized  her attention demanded , and Mr . Elton actually making violent love to her : availing himself of the precious opportunity , declaring sentiments which must be already well known , hoping  fearing  adoring  ready to die if she refused him ; but flattering himself that his ardent attachment and unequalled love and unexampled passion could not fail of having some effect , and in short , very much resolved on being seriously accepted as soon as possible .\n",
      "4 Emma smiled and answered \" My visit was of use to the nervous part of her complaint , I hope ; but not even I can charm away a sore throat ; it is a most severe cold indeed .\n",
      "5 A very few minutes more , however , completed the present trial .\n",
      "6 \" I am delighted to hear you speak so stoutly on the subject ,\" replied Emma , smiling ; \" but you do not mean to deny that there was a time  and not very distant either  when you gave me reason to understand that you did care about him ?\"\n",
      "7 \" Very well ; and if he had intended to give her one , he would have told her so .\"\n",
      "8 Some laughed , and answered good - humouredly .\n",
      "9 \" There appeared such a perfectly good understanding among them all \" he began rather quickly , but checking himself , added , \" however , it is impossible for me to say on what terms they really were  how it might all be behind the scenes .\n"
     ]
    }
   ],
   "source": [
    "# Compute document similarity using LSA components\n",
    "similarity = np.asarray(np.asmatrix(X_train_lsa) * np.asmatrix(X_train_lsa).T)\n",
    "#Only taking the first 10 sentences\n",
    "sim_matrix=pd.DataFrame(similarity,index=X_train).iloc[0:10,0:10]\n",
    "#Making a plot\n",
    "ax = sns.heatmap(sim_matrix,yticklabels=range(10))\n",
    "plt.show()\n",
    "\n",
    "#Generating a key for the plot.\n",
    "print('Key:')\n",
    "for i in range(10):\n",
    "    print(i,sim_matrix.index[i])\n"
   ]
  },
  {
   "cell_type": "markdown",
   "metadata": {},
   "source": [
    "# Drill 0: Test set\n",
    "\n",
    "Now it's your turn: Apply our LSA model to the test set. Does it identify similar sentences for components 0 through 4?"
   ]
  },
  {
   "cell_type": "code",
   "execution_count": 6,
   "metadata": {},
   "outputs": [
    {
     "name": "stdout",
     "output_type": "stream",
     "text": [
      "Original sentence: \" And I am quite serious too , I assure you ,\" replied Mrs . Elton gaily , \" in resolving to be always on the watch , and employing my friends to watch also , that nothing really unexceptionable may pass us .\"\n",
      "Tf_idf vector: {'resolving': 0.34243903050458052, 'unexceptionable': 0.31964097921179369, 'assure': 0.26772977783606899, 'friends': 0.25153337406413429, 'quite': 0.19164719184203469, 'replied': 0.20315405638674577, 'watch': 0.62300800500314002, 'elton': 0.16874782424809767, 'pass': 0.28445227585106625, 'really': 0.21963852817625326, 'mrs': 0.14780961753993585}\n"
     ]
    }
   ],
   "source": [
    "#Reshapes the vectorizer output into something people can read\n",
    "X_test_tfidf_csr = X_test_tfidf.tocsr()\n",
    "\n",
    "#number of paragraphs\n",
    "n = X_test_tfidf_csr.shape[0]\n",
    "#A list of dictionaries, one per paragraph\n",
    "tfidf_bypara = [{} for _ in range(0,n)]\n",
    "#List of features\n",
    "terms = vectorizer.get_feature_names()\n",
    "#for each paragraph, lists the feature words and their tf-idf scores\n",
    "for i, j in zip(*X_test_tfidf_csr.nonzero()):\n",
    "    tfidf_bypara[i][terms[j]] = X_test_tfidf_csr[i, j]\n",
    "\n",
    "#Keep in mind that the log base 2 of 1 is 0, so a tf-idf score of 0 indicates that the word was present once in that sentence.\n",
    "print('Original sentence:', X_test[5])\n",
    "print('Tf_idf vector:', tfidf_bypara[5])"
   ]
  },
  {
   "cell_type": "code",
   "execution_count": 7,
   "metadata": {},
   "outputs": [
    {
     "name": "stdout",
     "output_type": "stream",
     "text": [
      "Percent variance captured by all components: 49.3570808889\n",
      "Component 0:\n",
      "\" Oh !    0.99929\n",
      "\" Oh !    0.99929\n",
      "\" Oh !    0.99929\n",
      "\" Oh !    0.99929\n",
      "\" Oh !    0.99929\n",
      "\" Oh !    0.99929\n",
      "\" Oh !    0.99929\n",
      "\" Oh !    0.99929\n",
      "\" Oh !    0.99929\n",
      "\" Oh !    0.99929\n",
      "Name: 0, dtype: float64\n",
      "Component 1:\n",
      "\" You have made her too tall , Emma ,\" said Mr . Knightley .                                                                                                                0.634833\n",
      "\" You get upon delicate subjects , Emma ,\" said Mrs . Weston smiling ; \" remember that I am here . Mr .                                                                     0.567979\n",
      "\" I do not know what your opinion may be , Mrs . Weston ,\" said Mr . Knightley , \" of this great intimacy between Emma and Harriet Smith , but I think it a bad thing .\"    0.563400\n",
      "\" You are right , Mrs . Weston ,\" said Mr . Knightley warmly , \" Miss Fairfax is as capable as any of us of forming a just opinion of Mrs . Elton .                         0.560445\n",
      "\" There were misunderstandings between them , Emma ; he said so expressly .                                                                                                 0.528361\n",
      "Mr . Knightley might quarrel with her , but Emma could not quarrel with herself .                                                                                           0.527420\n",
      "\" Now ,\" said Emma , when they were fairly beyond the sweep gates , \" now Mr . Weston , do let me know what has happened .\"                                                 0.517320\n",
      "Emma found that it was not Mr . Weston ' s fault that the number of privy councillors was not yet larger .                                                                  0.511420\n",
      "\" In one respect , perhaps , Mr . Elton ' s manners are superior to Mr . Knightley ' s or Mr . Weston ' s .                                                                 0.506018\n",
      "\" I do not admire it ,\" said Mr . Knightley .                                                                                                                               0.500093\n",
      "Name: 1, dtype: float64\n",
      "Component 2:\n",
      "CHAPTER X       0.998961\n",
      "CHAPTER I       0.998961\n",
      "CHAPTER V       0.998961\n",
      "CHAPTER I       0.998961\n",
      "CHAPTER I       0.998961\n",
      "CHAPTER V       0.998961\n",
      "CHAPTER V       0.998961\n",
      "CHAPTER X       0.998961\n",
      "CHAPTER X       0.998961\n",
      "CHAPTER XVII    0.998207\n",
      "Name: 2, dtype: float64\n",
      "Component 3:\n",
      "\" Ah !      0.992911\n",
      "\" Ah !      0.992911\n",
      "\" Ah !      0.992911\n",
      "\" Ah !      0.992911\n",
      "\" Ah !      0.992911\n",
      "\" Ah !      0.992911\n",
      "But ah !    0.992911\n",
      "\" Ah !      0.992911\n",
      "\" Ah !\"     0.992911\n",
      "\" Ah !      0.992911\n",
      "Name: 3, dtype: float64\n",
      "Component 4:\n",
      "\" There were misunderstandings between them , Emma ; he said so expressly .    0.650602\n",
      "\" Are you well , my Emma ?\"                                                    0.598693\n",
      "Emma demurred .                                                                0.598693\n",
      "Emma was silenced .                                                            0.587441\n",
      "At first it was downright dulness to Emma .                                    0.586182\n",
      "\" Emma , my dear Emma \"                                                        0.576907\n",
      "Emma could not resist .                                                        0.568593\n",
      "\" It is not now worth a regret ,\" said Emma .                                  0.555174\n",
      "\" For shame , Emma !                                                           0.533740\n",
      "\" I am ready ,\" said Emma , \" whenever I am wanted .\"                          0.504185\n",
      "Name: 4, dtype: float64\n"
     ]
    }
   ],
   "source": [
    "#Our SVD data reducer.  We are going to reduce the feature space from 1379 to 130.\n",
    "svd= TruncatedSVD(130)\n",
    "lsa = make_pipeline(svd, Normalizer(copy=False))\n",
    "# Run SVD on the training data, then project the training data.\n",
    "X_test_lsa = lsa.fit_transform(X_test_tfidf)\n",
    "\n",
    "variance_explained=svd.explained_variance_ratio_\n",
    "total_variance = variance_explained.sum()\n",
    "print(\"Percent variance captured by all components:\",total_variance*100)\n",
    "\n",
    "#Looking at what sorts of paragraphs our solution considers similar, for the first five identified topics\n",
    "paras_by_component=pd.DataFrame(X_train_lsa,index=X_train)\n",
    "for i in range(5):\n",
    "    print('Component {}:'.format(i))\n",
    "    print(paras_by_component.loc[:,i].sort_values(ascending=False)[0:10])\n",
    "\n",
    "\n"
   ]
  },
  {
   "cell_type": "code",
   "execution_count": 8,
   "metadata": {},
   "outputs": [
    {
     "data": {
      "image/png": "[encoded data removed]",
      "text/plain": [
       "<matplotlib.figure.Figure at 0x11ef11d68>"
      ]
     },
     "metadata": {},
     "output_type": "display_data"
    },
    {
     "name": "stdout",
     "output_type": "stream",
     "text": [
      "Key:\n",
      "0 Mr . Woodhouse had so completely made up his mind to the visit , that in spite of the increasing coldness , he seemed to have no idea of shrinking from it , and set forward at last most punctually with his eldest daughter in his own carriage , with less apparent consciousness of the weather than either of the others ; too full of the wonder of his own going , and the pleasure it was to afford at Randalls to see that it was cold , and too well wrapt up to feel it .\n",
      "1 \" Oh !\n",
      "2 \" Oh no , no !\n",
      "3 Such was Jane Fairfax ' s history .\n",
      "4 \" That has been a good deal the case , my dear ; but not to the degree you mention .\n",
      "5 \" And I am quite serious too , I assure you ,\" replied Mrs . Elton gaily , \" in resolving to be always on the watch , and employing my friends to watch also , that nothing really unexceptionable may pass us .\"\n",
      "6 \" And here is Mrs . Weston and Mr . Frank Churchill too ! Quite delightful ; so many friends !\"\n",
      "7 \" You may well class the delight , the honour , and the comfort of such a situation together ,\" said Jane , \" they are pretty sure to be equal ; however , I am very serious in not wishing any thing to be attempted at present for me .\n",
      "8 Harriet , Mr . Elton , and Mr . Knightley , their own especial set , were the only persons invited to meet them ; the hours were to be early , as well as the numbers few ; Mr . Woodhouse ' s habits and inclination being consulted in every thing .\n",
      "9 \" Oh !\n"
     ]
    }
   ],
   "source": [
    "# Compute document similarity using LSA components\n",
    "similarity = np.asarray(np.asmatrix(X_test_lsa) * np.asmatrix(X_test_lsa).T)\n",
    "#Only taking the first 10 sentences\n",
    "sim_matrix=pd.DataFrame(similarity,index=X_test).iloc[0:10,0:10]\n",
    "#Making a plot\n",
    "ax = sns.heatmap(sim_matrix,yticklabels=range(10))\n",
    "plt.show()\n",
    "\n",
    "#Generating a key for the plot.\n",
    "print('Key:')\n",
    "for i in range(10):\n",
    "    print(i,sim_matrix.index[i])\n"
   ]
  },
  {
   "cell_type": "code",
   "execution_count": null,
   "metadata": {
    "collapsed": true
   },
   "outputs": [],
   "source": []
  }
 ],
 "metadata": {
  "kernelspec": {
   "display_name": "Python 3",
   "language": "python",
   "name": "python3"
  },
  "language_info": {
   "codemirror_mode": {
    "name": "ipython",
    "version": 3
   },
   "file_extension": ".py",
   "mimetype": "text/x-python",
   "name": "python",
   "nbconvert_exporter": "python",
   "pygments_lexer": "ipython3",
   "version": "3.6.1"
  },
  "toc": {
   "base_numbering": 1,
   "nav_menu": {},
   "number_sections": true,
   "sideBar": true,
   "skip_h1_title": false,
   "title_cell": "Table of Contents",
   "title_sidebar": "Contents",
   "toc_cell": false,
   "toc_position": {},
   "toc_section_display": true,
   "toc_window_display": true
  }
 },
 "nbformat": 4,
 "nbformat_minor": 2
}
