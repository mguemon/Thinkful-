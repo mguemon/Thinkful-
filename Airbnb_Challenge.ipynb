{
 "cells": [
  {
   "cell_type": "markdown",
   "metadata": {},
   "source": [
    "# Drills - SQL - data access methods  \n",
    "\n",
    "## Challenge: Airbnb cities"
   ]
  },
  {
   "cell_type": "markdown",
   "metadata": {},
   "source": [
    " Write SQL queries to return:"
   ]
  },
  {
   "cell_type": "markdown",
   "metadata": {},
   "source": [
    "\n",
    "### What's the most expensive listing? What else can you tell me about the listing?\n",
    "Select     \n",
    "       name,    \n",
    "\t   summary,    \n",
    "\t   space,     \n",
    "       price     \n",
    "From            \n",
    "     listings         \n",
    "Order  by price desc      \n",
    "\n",
    "\n",
    "\n",
    "### What neighborhoods seem to be the most popular?\n",
    "\n",
    "Select    \n",
    "       host_neighbourhood,   \n",
    "\t   AVG(reviews_per_month) Review_N   \n",
    "From     \n",
    "     listings     \n",
    "Group  by host_neighbourhood    \n",
    "Order by Review_N desc\n",
    "\n",
    "\n",
    "\n",
    "\n",
    "Select    \n",
    "       host_neighbourhood,  \n",
    "\t   count(*) Nbr_Listings_N  \n",
    "From    \n",
    "     listings    \n",
    "Group  by host_neighbourhood   \n",
    "Order by Nbr_Listings_N desc  \n",
    "\n",
    "\n",
    "\n",
    "### What time of year is the cheapest time to go to your city? \n",
    "\n",
    "\n",
    "Select    \n",
    "       c.date,   \n",
    "\t   l.price,   \n",
    "       l.has_availability   \t   \n",
    "From    \n",
    "     calendar c   \n",
    "Join     \n",
    "     listings l    \n",
    "On   \n",
    "c.listing_id = l.id   \n",
    "where    \n",
    "has_availability like 't'   \n",
    "Order by    \n",
    "l.price      \n",
    "\n",
    "\n",
    "### What time of year is the the busiest time to go to your city?\n",
    "\n",
    "Select    \n",
    "       c.date,   \n",
    "       l.has_availability,   \n",
    "       l.availability_30    \t   \n",
    "From    \n",
    "     calendar c   \n",
    "Join    \n",
    "     listings l   \n",
    "On   \n",
    "c.listing_id = l.id   \n",
    "where   \n",
    "has_availability like 't'   \n",
    "Order by    \n",
    "l.availability_30 desc      \n",
    "\n"
   ]
  },
  {
   "cell_type": "code",
   "execution_count": null,
   "metadata": {
    "collapsed": true
   },
   "outputs": [],
   "source": []
  },
  {
   "cell_type": "code",
   "execution_count": null,
   "metadata": {
    "collapsed": true
   },
   "outputs": [],
   "source": []
  }
 ],
 "metadata": {
  "kernelspec": {
   "display_name": "Python 3",
   "language": "python",
   "name": "python3"
  },
  "language_info": {
   "codemirror_mode": {
    "name": "ipython",
    "version": 3
   },
   "file_extension": ".py",
   "mimetype": "text/x-python",
   "name": "python",
   "nbconvert_exporter": "python",
   "pygments_lexer": "ipython3",
   "version": "3.6.1"
  }
 },
 "nbformat": 4,
 "nbformat_minor": 2
}
