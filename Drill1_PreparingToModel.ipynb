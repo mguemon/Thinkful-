{
 "cells": [
  {
   "cell_type": "markdown",
   "metadata": {},
   "source": [
    "# Drills - Preparing to Model\n",
    "\n",
    "##  Project:  Formulating good research questions\n",
    "\n",
    "\n",
    "by: Melissa N "
   ]
  },
  {
   "cell_type": "markdown",
   "metadata": {},
   "source": [
    "Categorize each of the following research questions as \"good\" or \"bad\", and provide alternative formulations for the bad ones.   "
   ]
  },
  {
   "cell_type": "markdown",
   "metadata": {},
   "source": [
    "## What is the 1994 rate of juvenile delinquency in the U.S.?     \n",
    "Good Question\n",
    "\n",
    "\n",
    "\n",
    "## What can we do to reduce juvenile delinquency in the U.S.?   \n",
    "Bad Question  \n",
    "\n",
    "Alternative:\n",
    "In the US states with a decrease in juvenile delinquency what were the measure taken?   \n",
    "What are the Differences between the US States with low delinquicy rates and the ones with high delinquency rate?   \n",
    "\n",
    "\n",
    "\n",
    "## Does education play a role in reducing juvenile delinquents' return to crime?  \n",
    "Good Question    \n",
    "\n",
    "\n",
    "\n",
    "## How many customers does AT&T currently serve in Washington, DC?   \n",
    "Good Question  \n",
    "\n",
    "\n",
    "\n",
    "## What factors lead consumers to choose AT&T over other service providers?\n",
    "Bad Question  \n",
    "\n",
    "Alternative:\n",
    "What are new AT&T consumers reasons for choosing AT&T over other service providers?\n",
    "\n",
    " \n",
    "\n",
    "## How can AT&T attract more customers?   \n",
    "Bad Question  \n",
    "\n",
    "Alternative:\n",
    "What are past AT&T consumers reason for going to other service providers?\n",
    "\n",
    "\n",
    "\n",
    "## Why did the Challenger Shuttle explode?  \n",
    "Good Question  \n",
    "\n",
    "\n",
    "\n",
    "## Which genes are associated with increased risk of breast cancer?   \n",
    "Bad Question\n",
    "\n",
    "Alternative:\n",
    "Looking at Breast Cancer patients which genes do they have in common that contributed to their contracting breast cancer?  \n",
    "\n",
    "## Is it better to read to children at night or in the morning?  \n",
    "Bad Question\n",
    "\n",
    "Alternative:\n",
    "Comparing reading to children at night or in the morning, which one seem to have a better effect on them overall? \n",
    "\n",
    "\n",
    "\n",
    "## How does Google’s search algorithm work?\n",
    "Good Question \n",
    "\n",
    "\n"
   ]
  },
  {
   "cell_type": "code",
   "execution_count": null,
   "metadata": {
    "collapsed": true
   },
   "outputs": [],
   "source": []
  }
 ],
 "metadata": {
  "kernelspec": {
   "display_name": "Python 3",
   "language": "python",
   "name": "python3"
  },
  "language_info": {
   "codemirror_mode": {
    "name": "ipython",
    "version": 3
   },
   "file_extension": ".py",
   "mimetype": "text/x-python",
   "name": "python",
   "nbconvert_exporter": "python",
   "pygments_lexer": "ipython3",
   "version": "3.6.1"
  }
 },
 "nbformat": 4,
 "nbformat_minor": 2
}
