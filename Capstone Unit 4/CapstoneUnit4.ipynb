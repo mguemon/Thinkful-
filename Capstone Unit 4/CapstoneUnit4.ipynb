{
 "cells": [
  {
   "cell_type": "markdown",
   "metadata": {
    "collapsed": true
   },
   "source": [
    "# UNIT 4 CAPSTONE\n",
    "\n",
    "Data: [MetroLyrics](https://www.kaggle.com/gyani95/380000-lyrics-from-metrolyrics)"
   ]
  },
  {
   "cell_type": "markdown",
   "metadata": {},
   "source": [
    "# Introduction \n",
    "\n",
    "The following are Lyrics from songs that were collected. We can s\n",
    " This the original source can be found [here](https://www.kaggle.com/gyani95/380000-lyrics-from-metrolyrics)\n",
    "\n",
    "There are a lot of artist and musical genres included in this data set. We also divided the lyrics in verses.    \n",
    "For this research, will only focus on the Hip-Hop genre. And will focus on predicting the artist from the Top 10 rappers in this particular dataset. We will clean the lyrics by removing punctuations, special characters and all the name of the rappers and squad of the particular artists in say Top 10. Even though Dre is not one of the top 10 artists in our dataset, we decided to remove his name, bc it looked like he produced the majority of the songs by some of the top 10 artist like, Eminem, 2Pac, 50 Cent for instance so is name was mentioned quite a bit in their song's lyrics.   \n"
   ]
  },
  {
   "cell_type": "markdown",
   "metadata": {},
   "source": [
    "## Loading Libraries"
   ]
  },
  {
   "cell_type": "code",
   "execution_count": 180,
   "metadata": {
    "collapsed": true
   },
   "outputs": [],
   "source": [
    "%matplotlib inline\n",
    "import numpy as np\n",
    "import pandas as pd\n",
    "import scipy\n",
    "import sklearn\n",
    "import matplotlib.pyplot as plt\n",
    "import seaborn as sns\n",
    "import re\n",
    "\n",
    "\n",
    "import time\n",
    "\n",
    "from IPython.display import Image\n",
    "from IPython.display import display\n",
    "\n",
    "import warnings\n",
    "# Suppress annoying harmless error.\n",
    "warnings.simplefilter('ignore')"
   ]
  },
  {
   "cell_type": "markdown",
   "metadata": {},
   "source": [
    "## Loading Data"
   ]
  },
  {
   "cell_type": "code",
   "execution_count": 2,
   "metadata": {
    "collapsed": true
   },
   "outputs": [],
   "source": [
    "df = pd.read_csv('lyrics.csv')"
   ]
  },
  {
   "cell_type": "markdown",
   "metadata": {},
   "source": [
    "## Cleaning the Data"
   ]
  },
  {
   "cell_type": "code",
   "execution_count": 3,
   "metadata": {},
   "outputs": [
    {
     "name": "stdout",
     "output_type": "stream",
     "text": [
      "The shape of the  data is: (362237, 6)\n"
     ]
    },
    {
     "data": {
      "text/html": [
       "<div>\n",
       "<style>\n",
       "    .dataframe thead tr:only-child th {\n",
       "        text-align: right;\n",
       "    }\n",
       "\n",
       "    .dataframe thead th {\n",
       "        text-align: left;\n",
       "    }\n",
       "\n",
       "    .dataframe tbody tr th {\n",
       "        vertical-align: top;\n",
       "    }\n",
       "</style>\n",
       "<table border=\"1\" class=\"dataframe\">\n",
       "  <thead>\n",
       "    <tr style=\"text-align: right;\">\n",
       "      <th></th>\n",
       "      <th>index</th>\n",
       "      <th>song</th>\n",
       "      <th>year</th>\n",
       "      <th>artist</th>\n",
       "      <th>genre</th>\n",
       "      <th>lyrics</th>\n",
       "    </tr>\n",
       "  </thead>\n",
       "  <tbody>\n",
       "    <tr>\n",
       "      <th>0</th>\n",
       "      <td>0</td>\n",
       "      <td>ego-remix</td>\n",
       "      <td>2009</td>\n",
       "      <td>beyonce-knowles</td>\n",
       "      <td>Pop</td>\n",
       "      <td>Oh baby, how you doing?\\nYou know I'm gonna cu...</td>\n",
       "    </tr>\n",
       "    <tr>\n",
       "      <th>1</th>\n",
       "      <td>1</td>\n",
       "      <td>then-tell-me</td>\n",
       "      <td>2009</td>\n",
       "      <td>beyonce-knowles</td>\n",
       "      <td>Pop</td>\n",
       "      <td>playin' everything so easy,\\nit's like you see...</td>\n",
       "    </tr>\n",
       "    <tr>\n",
       "      <th>2</th>\n",
       "      <td>2</td>\n",
       "      <td>honesty</td>\n",
       "      <td>2009</td>\n",
       "      <td>beyonce-knowles</td>\n",
       "      <td>Pop</td>\n",
       "      <td>If you search\\nFor tenderness\\nIt isn't hard t...</td>\n",
       "    </tr>\n",
       "    <tr>\n",
       "      <th>3</th>\n",
       "      <td>3</td>\n",
       "      <td>you-are-my-rock</td>\n",
       "      <td>2009</td>\n",
       "      <td>beyonce-knowles</td>\n",
       "      <td>Pop</td>\n",
       "      <td>Oh oh oh I, oh oh oh I\\n[Verse 1:]\\nIf I wrote...</td>\n",
       "    </tr>\n",
       "    <tr>\n",
       "      <th>4</th>\n",
       "      <td>4</td>\n",
       "      <td>black-culture</td>\n",
       "      <td>2009</td>\n",
       "      <td>beyonce-knowles</td>\n",
       "      <td>Pop</td>\n",
       "      <td>Party the people, the people the party it's po...</td>\n",
       "    </tr>\n",
       "  </tbody>\n",
       "</table>\n",
       "</div>"
      ],
      "text/plain": [
       "   index             song  year           artist genre  \\\n",
       "0      0        ego-remix  2009  beyonce-knowles   Pop   \n",
       "1      1     then-tell-me  2009  beyonce-knowles   Pop   \n",
       "2      2          honesty  2009  beyonce-knowles   Pop   \n",
       "3      3  you-are-my-rock  2009  beyonce-knowles   Pop   \n",
       "4      4    black-culture  2009  beyonce-knowles   Pop   \n",
       "\n",
       "                                              lyrics  \n",
       "0  Oh baby, how you doing?\\nYou know I'm gonna cu...  \n",
       "1  playin' everything so easy,\\nit's like you see...  \n",
       "2  If you search\\nFor tenderness\\nIt isn't hard t...  \n",
       "3  Oh oh oh I, oh oh oh I\\n[Verse 1:]\\nIf I wrote...  \n",
       "4  Party the people, the people the party it's po...  "
      ]
     },
     "metadata": {},
     "output_type": "display_data"
    }
   ],
   "source": [
    "print('The shape of the  data is:', df.shape)\n",
    "display(df.head())"
   ]
  },
  {
   "cell_type": "code",
   "execution_count": 4,
   "metadata": {},
   "outputs": [
    {
     "data": {
      "text/plain": [
       "Index(['index', 'song', 'year', 'artist', 'genre', 'lyrics'], dtype='object')"
      ]
     },
     "execution_count": 4,
     "metadata": {},
     "output_type": "execute_result"
    }
   ],
   "source": [
    "df.columns"
   ]
  },
  {
   "cell_type": "code",
   "execution_count": 5,
   "metadata": {},
   "outputs": [
    {
     "data": {
      "text/plain": [
       "song          2\n",
       "lyrics    95680\n",
       "dtype: int64"
      ]
     },
     "execution_count": 5,
     "metadata": {},
     "output_type": "execute_result"
    }
   ],
   "source": [
    "# Count nulls \n",
    "null_count = df.isnull().sum()\n",
    "null_count[null_count>0]"
   ]
  },
  {
   "cell_type": "code",
   "execution_count": 6,
   "metadata": {
    "collapsed": true
   },
   "outputs": [],
   "source": [
    "## There are a lots of songs that don't have any lyrics \n",
    "## We should remove them\n",
    "df = df.dropna()"
   ]
  },
  {
   "cell_type": "code",
   "execution_count": 7,
   "metadata": {},
   "outputs": [
    {
     "data": {
      "text/plain": [
       "Series([], dtype: int64)"
      ]
     },
     "execution_count": 7,
     "metadata": {},
     "output_type": "execute_result"
    }
   ],
   "source": [
    "# Count nulls \n",
    "null_count = df.isnull().sum()\n",
    "null_count[null_count>0]"
   ]
  },
  {
   "cell_type": "code",
   "execution_count": 8,
   "metadata": {
    "scrolled": true
   },
   "outputs": [
    {
     "data": {
      "text/plain": [
       "index      int64\n",
       "song      object\n",
       "year       int64\n",
       "artist    object\n",
       "genre     object\n",
       "lyrics    object\n",
       "dtype: object"
      ]
     },
     "execution_count": 8,
     "metadata": {},
     "output_type": "execute_result"
    }
   ],
   "source": [
    "df.dtypes"
   ]
  },
  {
   "cell_type": "code",
   "execution_count": 9,
   "metadata": {},
   "outputs": [
    {
     "data": {
      "image/png": "[encoded data removed]",
      "text/plain": [
       "<matplotlib.figure.Figure at 0x11cb09390>"
      ]
     },
     "metadata": {},
     "output_type": "display_data"
    }
   ],
   "source": [
    "plt.figure(figsize=(15, 5))\n",
    "df.artist.value_counts().head(20).plot(kind='bar')\n",
    "plt.ylabel('Artists Counts')\n",
    "plt.xlabel('Artists Names')\n",
    "plt.show()"
   ]
  },
  {
   "cell_type": "code",
   "execution_count": 10,
   "metadata": {},
   "outputs": [
    {
     "data": {
      "image/png": "[encoded data removed]",
      "text/plain": [
       "<matplotlib.figure.Figure at 0x11c71f240>"
      ]
     },
     "metadata": {},
     "output_type": "display_data"
    }
   ],
   "source": [
    "plt.figure(figsize=(15, 5))\n",
    "df.genre.value_counts().head(20).plot(kind='bar')\n",
    "plt.ylabel('Genre Counts')\n",
    "plt.xlabel('Genre Names')\n",
    "plt.show()"
   ]
  },
  {
   "cell_type": "markdown",
   "metadata": {},
   "source": [
    "We can see that there are a lot of songs under the __Rock__ genre.    \n",
    "A good idea would be to look at songs in the __Pop__ and __Hip-Hop__ genres and see if we can predict the artists given the lyrics of say songs.   "
   ]
  },
  {
   "cell_type": "code",
   "execution_count": 11,
   "metadata": {},
   "outputs": [
    {
     "data": {
      "image/png": "[encoded data removed]",
      "text/plain": [
       "<matplotlib.figure.Figure at 0x11328c128>"
      ]
     },
     "metadata": {},
     "output_type": "display_data"
    }
   ],
   "source": [
    "plt.figure(figsize=(15, 5))\n",
    "df.year.value_counts().head(20).plot(kind='bar')\n",
    "plt.ylabel('Year Counts')\n",
    "plt.xlabel('Year')\n",
    "plt.show()"
   ]
  },
  {
   "cell_type": "markdown",
   "metadata": {},
   "source": [
    "We can see that there are a lont of songs from 2006 and 2007 in the data.    \n",
    "Maybe we can restrict our data to only songs from the 2000 forward.  "
   ]
  },
  {
   "cell_type": "code",
   "execution_count": 12,
   "metadata": {},
   "outputs": [
    {
     "name": "stdout",
     "output_type": "stream",
     "text": [
      "The top 5 years from 1990 onwards \n",
      " 2006    74257\n",
      "2007    62562\n",
      "2008    19609\n",
      "2014    12769\n",
      "2012    11299\n",
      "Name: year, dtype: int64\n",
      "\n",
      "The top 5 years from 1989 backwards \n",
      " 1989    264\n",
      "1977    256\n",
      "1973    246\n",
      "1982    246\n",
      "1980    203\n",
      "Name: year, dtype: int64\n"
     ]
    }
   ],
   "source": [
    "df_1= df[df['year']>= 1990]\n",
    "df_2= df[df['year']<= 1989]\n",
    "print('The top 5 years from 1990 onwards \\n', df_1['year'].value_counts()[:5])\n",
    "print('\\nThe top 5 years from 1989 backwards \\n', df_2['year'].value_counts()[:5])"
   ]
  },
  {
   "cell_type": "code",
   "execution_count": 13,
   "metadata": {
    "collapsed": true
   },
   "outputs": [],
   "source": [
    "#reading in the data, this time in the form of verses\n",
    "df_Lyr = df['lyrics']"
   ]
  },
  {
   "cell_type": "code",
   "execution_count": 21,
   "metadata": {},
   "outputs": [
    {
     "name": "stdout",
     "output_type": "stream",
     "text": [
      "\n",
      "Song Verses in 1st song:\n",
      " ['Oh baby, how you doing?', \"You know I'm gonna cut right to the chase\", 'Some women were made but me, myself', 'I like to think that I was created for a special purpose', \"You know, what's more special than you? You feel me\", \"It's on baby, let's get lost\", \"You don't need to call into work 'cause you're the boss\", 'For real, want you to show me how you feel', \"I consider myself lucky, that's a big deal\", 'Why? Well, you got the key to my heart', \"But you ain't gonna need it, I'd rather you open up my body\", \"And show me secrets, you didn't know was inside\", 'No need for me to lie', \"It's too big, it's too wide\", \"It's too strong, it won't fit\", \"It's too much, it's too tough\", \"He talk like this 'cause he can back it up\", 'He got a big ego, such a huge ego', \"I love his big ego, it's too much\", \"He walk like this 'cause he can back it up\", \"Usually I'm humble, right now I don't choose\", 'You can leave with me or you could have the blues', 'Some call it arrogant, I call it confident', \"You decide when you find on what I'm working with\", \"Damn I know I'm killing you with them legs\", 'Better yet them thighs', \"Matter a fact it's my smile or maybe my eyes\", 'Boy you a site to see, kind of something like me', \"It's too big, it's too wide\", \"It's too strong, it won't fit\", \"It's too much, it's too tough\", \"I talk like this 'cause I can back it up\", 'I got a big ego, such a huge ego', \"But he love my big ego, it's too much\", \"I walk like this 'cause I can back it up\", \"I, I walk like this 'cause I can back it up\", \"I, I talk like this 'cause I can back it up\", 'I, I can back it up, I can back it up', \"I walk like this 'cause I can back it up\", \"It's too big, it's too wide\", \"It's too strong, it won't fit\", \"It's too much, it's too tough\", \"He talk like this 'cause he can back it up\", 'He got a big ego, such a huge ego, such a huge ego', \"I love his big ego, it's too much\", \"He walk like this 'cause he can back it up\", 'Ego so big, you must admit', \"I got every reason to feel like I'm that bitch\", \"Ego so strong, if you ain't know\", \"I don't need no beat, I can sing it with piano\"]\n"
     ]
    }
   ],
   "source": [
    "#processing\n",
    "df_verse=[]\n",
    "for lyrics in df_Lyr:\n",
    "    lyrics = lyrics.split('\\n')\n",
    "    #Forming each verse into a string and adding it to the list of strings.\n",
    "    #df1_verse.append(' '.join(lyrics))\n",
    "    df_verse.append(lyrics)\n",
    "\n",
    "print('\\nSong Verses in 1st song:\\n',df_verse[0])"
   ]
  },
  {
   "cell_type": "code",
   "execution_count": 23,
   "metadata": {
    "collapsed": true
   },
   "outputs": [],
   "source": [
    "##Create new Feature.\n",
    "df['verses'] = df_verse"
   ]
  },
  {
   "cell_type": "code",
   "execution_count": 24,
   "metadata": {},
   "outputs": [
    {
     "data": {
      "text/html": [
       "<div>\n",
       "<style>\n",
       "    .dataframe thead tr:only-child th {\n",
       "        text-align: right;\n",
       "    }\n",
       "\n",
       "    .dataframe thead th {\n",
       "        text-align: left;\n",
       "    }\n",
       "\n",
       "    .dataframe tbody tr th {\n",
       "        vertical-align: top;\n",
       "    }\n",
       "</style>\n",
       "<table border=\"1\" class=\"dataframe\">\n",
       "  <thead>\n",
       "    <tr style=\"text-align: right;\">\n",
       "      <th></th>\n",
       "      <th>index</th>\n",
       "      <th>song</th>\n",
       "      <th>year</th>\n",
       "      <th>artist</th>\n",
       "      <th>genre</th>\n",
       "      <th>lyrics</th>\n",
       "      <th>verses</th>\n",
       "    </tr>\n",
       "  </thead>\n",
       "  <tbody>\n",
       "    <tr>\n",
       "      <th>0</th>\n",
       "      <td>0</td>\n",
       "      <td>ego-remix</td>\n",
       "      <td>2009</td>\n",
       "      <td>beyonce-knowles</td>\n",
       "      <td>Pop</td>\n",
       "      <td>Oh baby, how you doing?\\nYou know I'm gonna cu...</td>\n",
       "      <td>[Oh baby, how you doing?, You know I'm gonna c...</td>\n",
       "    </tr>\n",
       "    <tr>\n",
       "      <th>1</th>\n",
       "      <td>1</td>\n",
       "      <td>then-tell-me</td>\n",
       "      <td>2009</td>\n",
       "      <td>beyonce-knowles</td>\n",
       "      <td>Pop</td>\n",
       "      <td>playin' everything so easy,\\nit's like you see...</td>\n",
       "      <td>[playin' everything so easy,, it's like you se...</td>\n",
       "    </tr>\n",
       "    <tr>\n",
       "      <th>2</th>\n",
       "      <td>2</td>\n",
       "      <td>honesty</td>\n",
       "      <td>2009</td>\n",
       "      <td>beyonce-knowles</td>\n",
       "      <td>Pop</td>\n",
       "      <td>If you search\\nFor tenderness\\nIt isn't hard t...</td>\n",
       "      <td>[If you search, For tenderness, It isn't hard ...</td>\n",
       "    </tr>\n",
       "    <tr>\n",
       "      <th>3</th>\n",
       "      <td>3</td>\n",
       "      <td>you-are-my-rock</td>\n",
       "      <td>2009</td>\n",
       "      <td>beyonce-knowles</td>\n",
       "      <td>Pop</td>\n",
       "      <td>Oh oh oh I, oh oh oh I\\n[Verse 1:]\\nIf I wrote...</td>\n",
       "      <td>[Oh oh oh I, oh oh oh I, [Verse 1:], If I wrot...</td>\n",
       "    </tr>\n",
       "    <tr>\n",
       "      <th>4</th>\n",
       "      <td>4</td>\n",
       "      <td>black-culture</td>\n",
       "      <td>2009</td>\n",
       "      <td>beyonce-knowles</td>\n",
       "      <td>Pop</td>\n",
       "      <td>Party the people, the people the party it's po...</td>\n",
       "      <td>[Party the people, the people the party it's p...</td>\n",
       "    </tr>\n",
       "  </tbody>\n",
       "</table>\n",
       "</div>"
      ],
      "text/plain": [
       "   index             song  year           artist genre  \\\n",
       "0      0        ego-remix  2009  beyonce-knowles   Pop   \n",
       "1      1     then-tell-me  2009  beyonce-knowles   Pop   \n",
       "2      2          honesty  2009  beyonce-knowles   Pop   \n",
       "3      3  you-are-my-rock  2009  beyonce-knowles   Pop   \n",
       "4      4    black-culture  2009  beyonce-knowles   Pop   \n",
       "\n",
       "                                              lyrics  \\\n",
       "0  Oh baby, how you doing?\\nYou know I'm gonna cu...   \n",
       "1  playin' everything so easy,\\nit's like you see...   \n",
       "2  If you search\\nFor tenderness\\nIt isn't hard t...   \n",
       "3  Oh oh oh I, oh oh oh I\\n[Verse 1:]\\nIf I wrote...   \n",
       "4  Party the people, the people the party it's po...   \n",
       "\n",
       "                                              verses  \n",
       "0  [Oh baby, how you doing?, You know I'm gonna c...  \n",
       "1  [playin' everything so easy,, it's like you se...  \n",
       "2  [If you search, For tenderness, It isn't hard ...  \n",
       "3  [Oh oh oh I, oh oh oh I, [Verse 1:], If I wrot...  \n",
       "4  [Party the people, the people the party it's p...  "
      ]
     },
     "metadata": {},
     "output_type": "display_data"
    }
   ],
   "source": [
    "display(df.head())"
   ]
  },
  {
   "cell_type": "code",
   "execution_count": 25,
   "metadata": {},
   "outputs": [
    {
     "data": {
      "text/plain": [
       "Rock             109235\n",
       "Pop               40466\n",
       "Hip-Hop           24850\n",
       "Not Available     23941\n",
       "Metal             23759\n",
       "Country           14387\n",
       "Jazz               7970\n",
       "Electronic         7966\n",
       "Other              5189\n",
       "R&B                3401\n",
       "Indie              3149\n",
       "Folk               2243\n",
       "Name: genre, dtype: int64"
      ]
     },
     "execution_count": 25,
     "metadata": {},
     "output_type": "execute_result"
    }
   ],
   "source": [
    "df['genre'].value_counts()"
   ]
  },
  {
   "cell_type": "code",
   "execution_count": 26,
   "metadata": {},
   "outputs": [
    {
     "data": {
      "text/plain": [
       "dolly-parton        744\n",
       "elton-john          676\n",
       "chris-brown         628\n",
       "barbra-streisand    607\n",
       "bob-dylan           596\n",
       "Name: artist, dtype: int64"
      ]
     },
     "execution_count": 26,
     "metadata": {},
     "output_type": "execute_result"
    }
   ],
   "source": [
    "df.artist.value_counts()[:5]"
   ]
  },
  {
   "cell_type": "code",
   "execution_count": 27,
   "metadata": {},
   "outputs": [
    {
     "data": {
      "text/plain": [
       "311165                                      hi-gneth\n",
       "311166                         falling-in-love-again\n",
       "311167    can-you-feel-the-love-tonight-live-version\n",
       "311169               what-a-girl-wants-video-version\n",
       "311170                               im-leavin-today\n",
       "Name: song, dtype: object"
      ]
     },
     "execution_count": 27,
     "metadata": {},
     "output_type": "execute_result"
    }
   ],
   "source": [
    "df[df['artist'] == 'christina-aguilera']['song'][:5]"
   ]
  },
  {
   "cell_type": "code",
   "execution_count": 28,
   "metadata": {},
   "outputs": [
    {
     "data": {
      "text/plain": [
       "chris-brown       628\n",
       "eminem            578\n",
       "50-cent           398\n",
       "chamillionaire    396\n",
       "drake             373\n",
       "Name: artist, dtype: int64"
      ]
     },
     "execution_count": 28,
     "metadata": {},
     "output_type": "execute_result"
    }
   ],
   "source": [
    "df[df['genre'] == 'Hip-Hop']['artist'].value_counts()[:5]"
   ]
  },
  {
   "cell_type": "code",
   "execution_count": 29,
   "metadata": {},
   "outputs": [
    {
     "data": {
      "text/plain": [
       "andrea-bocelli            298\n",
       "dancing-with-the-stars    278\n",
       "emma-forman               222\n",
       "glee                      211\n",
       "chaka-khan                210\n",
       "Name: artist, dtype: int64"
      ]
     },
     "execution_count": 29,
     "metadata": {},
     "output_type": "execute_result"
    }
   ],
   "source": [
    "df[df['genre'] == 'Not Available']['artist'].value_counts()[:5]"
   ]
  },
  {
   "cell_type": "markdown",
   "metadata": {},
   "source": [
    "### Cleaning the Lyrics "
   ]
  },
  {
   "cell_type": "code",
   "execution_count": 30,
   "metadata": {},
   "outputs": [
    {
     "data": {
      "text/plain": [
       "\"Oh baby, how you doing?\\nYou know I'm gonna cut right to the chase\\nSome women were made but me, myself\\nI like to think that I was created for a special purpose\\nYou know, what's more special than you? You feel me\\nIt's on baby, let's get lost\\nYou don't need to call into work 'cause you're the boss\\nFor real, want you to show me how you feel\\nI consider myself lucky, that's a big deal\\nWhy? Well, you got the key to my heart\\nBut you ain't gonna need it, I'd rather you open up my body\\nAnd show me secrets, you didn't know was inside\\nNo need for me to lie\\nIt's too big, it's too wide\\nIt's too strong, it won't fit\\nIt's too much, it's too tough\\nHe talk like this 'cause he can back it up\\nHe got a big ego, such a huge ego\\nI love his big ego, it's too much\\nHe walk like this 'cause he can back it up\\nUsually I'm humble, right now I don't choose\\nYou can leave with me or you could have the blues\\nSome call it arrogant, I call it confident\\nYou decide when you find on what I'm working with\\nDamn I know I'm killing you with them legs\\nBetter yet them thighs\\nMatter a fact it's my smile or maybe my eyes\\nBoy you a site to see, kind of something like me\\nIt's too big, it's too wide\\nIt's too strong, it won't fit\\nIt's too much, it's too tough\\nI talk like this 'cause I can back it up\\nI got a big ego, such a huge ego\\nBut he love my big ego, it's too much\\nI walk like this 'cause I can back it up\\nI, I walk like this 'cause I can back it up\\nI, I talk like this 'cause I can back it up\\nI, I can back it up, I can back it up\\nI walk like this 'cause I can back it up\\nIt's too big, it's too wide\\nIt's too strong, it won't fit\\nIt's too much, it's too tough\\nHe talk like this 'cause he can back it up\\nHe got a big ego, such a huge ego, such a huge ego\\nI love his big ego, it's too much\\nHe walk like this 'cause he can back it up\\nEgo so big, you must admit\\nI got every reason to feel like I'm that bitch\\nEgo so strong, if you ain't know\\nI don't need no beat, I can sing it with piano\""
      ]
     },
     "execution_count": 30,
     "metadata": {},
     "output_type": "execute_result"
    }
   ],
   "source": [
    "#Lyrics of 1st song in dataframe \n",
    "df['lyrics'][0]"
   ]
  },
  {
   "cell_type": "code",
   "execution_count": 133,
   "metadata": {
    "collapsed": true
   },
   "outputs": [],
   "source": [
    "#Here we clean the lyrics by removing all the new lines, punctuation, \n",
    "#things inside [] and {} and making everything lower case\n",
    "\n",
    "df['lyrics'] = df['lyrics'].str.replace(r'\\n', ' ')\n",
    "df['lyrics'] = df['lyrics'].str.replace(r'--',' ')\n",
    "df['lyrics'] = df['lyrics'].str.replace(\"[\\[].*?[\\]]\", \"\")\n",
    "df['lyrics'] = df['lyrics'].str.replace(\"[\\{].*?[\\}]\", \"\")\n",
    "df['lyrics'] = df['lyrics'].str.replace(r'\\.|\\!|\\?|\\'|,|\\:|-|\\(|\\)|\\{|\\}|\\\"', \"\",).fillna('')\n",
    "df['lyrics'] = df['lyrics'].str.lower()\n",
    "df['lyrics'] = df['lyrics'].str.replace(r'50|cent|gunit|dre|pac|makaveli|outlawz|flipmode|squad|busta|rhymes|drake|drizzy|e40|40|dmx|ruff|ryders', \"\")\n",
    "df['lyrics'] = df['lyrics'].str.replace(r'chamillionaire|koopa|chamillion|chamillitary|chamillitary|slim|shady|em|eminem|marshall|mathers|chris|brown|breezy', \"\")"
   ]
  },
  {
   "cell_type": "markdown",
   "metadata": {},
   "source": [
    "We are going to restrict our data to the Hip-Hop genre and attempt to predict artist name based on the Lyrics.   \n",
    "We also had to removed the names, nicknames and crew names of the Top 10 artists.  \n",
    "The artist __game__ didn't have is name removed because, game is also a word that is used a lot by rappers.   "
   ]
  },
  {
   "cell_type": "code",
   "execution_count": 134,
   "metadata": {
    "collapsed": true
   },
   "outputs": [],
   "source": [
    "df2 = df.loc[df['genre'] == 'Hip-Hop',['song','artist','lyrics','verses']]"
   ]
  },
  {
   "cell_type": "code",
   "execution_count": 135,
   "metadata": {},
   "outputs": [
    {
     "data": {
      "text/html": [
       "<div>\n",
       "<style>\n",
       "    .dataframe thead tr:only-child th {\n",
       "        text-align: right;\n",
       "    }\n",
       "\n",
       "    .dataframe thead th {\n",
       "        text-align: left;\n",
       "    }\n",
       "\n",
       "    .dataframe tbody tr th {\n",
       "        vertical-align: top;\n",
       "    }\n",
       "</style>\n",
       "<table border=\"1\" class=\"dataframe\">\n",
       "  <thead>\n",
       "    <tr style=\"text-align: right;\">\n",
       "      <th></th>\n",
       "      <th>song</th>\n",
       "      <th>artist</th>\n",
       "      <th>lyrics</th>\n",
       "      <th>verses</th>\n",
       "    </tr>\n",
       "  </thead>\n",
       "  <tbody>\n",
       "    <tr>\n",
       "      <th>249</th>\n",
       "      <td>i-got-that</td>\n",
       "      <td>eazy-e</td>\n",
       "      <td>horns chorus timbo when you hit me on my phone...</td>\n",
       "      <td>[(horns)..., (chorus), Timbo- When you hit me ...</td>\n",
       "    </tr>\n",
       "    <tr>\n",
       "      <th>250</th>\n",
       "      <td>8-ball-remix</td>\n",
       "      <td>eazy-e</td>\n",
       "      <td>verse 1 i dont drink brass monkey like to be f...</td>\n",
       "      <td>[Verse 1:, I don't drink brass monkey, like to...</td>\n",
       "    </tr>\n",
       "    <tr>\n",
       "      <th>251</th>\n",
       "      <td>extra-special-thankz</td>\n",
       "      <td>eazy-e</td>\n",
       "      <td>19 muthaphukkin 93 and im back in this bitch e...</td>\n",
       "      <td>[19 muthaphukkin 93,, and I'm back in this bit...</td>\n",
       "    </tr>\n",
       "    <tr>\n",
       "      <th>252</th>\n",
       "      <td>boyz-in-da-hood</td>\n",
       "      <td>eazy-e</td>\n",
       "      <td>hey yo man rber that shit eazy did a while bac...</td>\n",
       "      <td>[Hey yo man, remember that shit Eazy did a whi...</td>\n",
       "    </tr>\n",
       "    <tr>\n",
       "      <th>253</th>\n",
       "      <td>automoblie</td>\n",
       "      <td>eazy-e</td>\n",
       "      <td>yo  man i take this bitch out to the movies an...</td>\n",
       "      <td>[Yo, Dre, man, I take this bitch out to the mo...</td>\n",
       "    </tr>\n",
       "  </tbody>\n",
       "</table>\n",
       "</div>"
      ],
      "text/plain": [
       "                     song  artist  \\\n",
       "249            i-got-that  eazy-e   \n",
       "250          8-ball-remix  eazy-e   \n",
       "251  extra-special-thankz  eazy-e   \n",
       "252       boyz-in-da-hood  eazy-e   \n",
       "253            automoblie  eazy-e   \n",
       "\n",
       "                                                lyrics  \\\n",
       "249  horns chorus timbo when you hit me on my phone...   \n",
       "250  verse 1 i dont drink brass monkey like to be f...   \n",
       "251  19 muthaphukkin 93 and im back in this bitch e...   \n",
       "252  hey yo man rber that shit eazy did a while bac...   \n",
       "253  yo  man i take this bitch out to the movies an...   \n",
       "\n",
       "                                                verses  \n",
       "249  [(horns)..., (chorus), Timbo- When you hit me ...  \n",
       "250  [Verse 1:, I don't drink brass monkey, like to...  \n",
       "251  [19 muthaphukkin 93,, and I'm back in this bit...  \n",
       "252  [Hey yo man, remember that shit Eazy did a whi...  \n",
       "253  [Yo, Dre, man, I take this bitch out to the mo...  "
      ]
     },
     "metadata": {},
     "output_type": "display_data"
    }
   ],
   "source": [
    "display(df2.head())"
   ]
  },
  {
   "cell_type": "code",
   "execution_count": 136,
   "metadata": {},
   "outputs": [
    {
     "data": {
      "image/png": "[encoded data removed]",
      "text/plain": [
       "<matplotlib.figure.Figure at 0x1509ab518>"
      ]
     },
     "metadata": {},
     "output_type": "display_data"
    },
    {
     "name": "stdout",
     "output_type": "stream",
     "text": [
      "Number of total artists (1107,)\n"
     ]
    }
   ],
   "source": [
    "\n",
    "plt.figure(figsize=(15, 5))\n",
    "df2.artist.value_counts().head(20).plot(kind='bar')\n",
    "plt.ylabel('Artists Counts')\n",
    "plt.xlabel('Artists Names')\n",
    "plt.show() \n",
    "\n",
    "print('Number of total artists', df2.artist.value_counts().shape)"
   ]
  },
  {
   "cell_type": "markdown",
   "metadata": {},
   "source": [
    "We have about 1107 artists, we need to reduce it to 10 artist. "
   ]
  },
  {
   "cell_type": "code",
   "execution_count": 137,
   "metadata": {},
   "outputs": [
    {
     "name": "stdout",
     "output_type": "stream",
     "text": [
      "The Top 10 artists number of songs are:\n",
      "[628, 578, 398, 396, 373, 367, 341, 292, 279, 272]\n",
      "\n",
      "The Top 10 artists are:\n",
      "['chris-brown', 'eminem', '50-cent', 'chamillionaire', 'drake', '2pac', 'game', 'busta-rhymes', 'dmx', 'e-40']\n"
     ]
    }
   ],
   "source": [
    "print('The Top 10 artists number of songs are:')\n",
    "print(list(df2.artist.value_counts().sort_values(0,ascending = False)[:10]))\n",
    "\n",
    "Top_10 = list(df2.artist.value_counts().loc[lambda s: s > 270].index)\n",
    "print('\\nThe Top 10 artists are:')\n",
    "print(Top_10)"
   ]
  },
  {
   "cell_type": "code",
   "execution_count": 138,
   "metadata": {},
   "outputs": [],
   "source": [
    "## We reduce df2 to only the Top 10 artists\n",
    "df2 = df2.loc[df2['artist'].isin(Top_10)]"
   ]
  },
  {
   "cell_type": "markdown",
   "metadata": {},
   "source": [
    "## Create Training and Test Set"
   ]
  },
  {
   "cell_type": "code",
   "execution_count": 139,
   "metadata": {},
   "outputs": [],
   "source": [
    "Y = df2['artist']\n",
    "X = df2['lyrics']"
   ]
  },
  {
   "cell_type": "code",
   "execution_count": 140,
   "metadata": {},
   "outputs": [],
   "source": [
    "from sklearn.model_selection import train_test_split\n",
    "\n",
    "#  Create Training and Test Sets\n",
    "X_train, X_test, Y_train, Y_test = train_test_split(X, Y, test_size=0.25, random_state=None)\n"
   ]
  },
  {
   "cell_type": "markdown",
   "metadata": {
    "collapsed": true
   },
   "source": [
    "## Create Features Using tf-idf"
   ]
  },
  {
   "cell_type": "markdown",
   "metadata": {},
   "source": [
    "### Create Vectorizer "
   ]
  },
  {
   "cell_type": "code",
   "execution_count": 141,
   "metadata": {},
   "outputs": [],
   "source": [
    "from sklearn.feature_extraction.text import TfidfVectorizer\n",
    "\n",
    "vectorizer = TfidfVectorizer(max_df=.5, # drop words that occur in more than half the paragraphs\n",
    "                             min_df=2, # only use words that appear at least twice\n",
    "                             stop_words='english', \n",
    "                             #lowercase=True, #convert everything to lower case \n",
    "                             use_idf=True,#we definitely want to use inverse document frequencies in our weighting\n",
    "                             norm=u'l2', #Applies a correction factor so that longer paragraphs and shorter paragraphs get treated equally\n",
    "                             smooth_idf=True #Adds 1 to all document frequencies, as if an extra document existed that used every word once.  Prevents divide-by-zero errors\n",
    "                            )"
   ]
  },
  {
   "cell_type": "code",
   "execution_count": 142,
   "metadata": {},
   "outputs": [],
   "source": [
    "#Applying the vectorizer\n",
    "X_train_tfidf=vectorizer.fit_transform(X_train)\n",
    "X_test_tfidf=vectorizer.transform(X_test)\n"
   ]
  },
  {
   "cell_type": "markdown",
   "metadata": {},
   "source": [
    "## Modelling"
   ]
  },
  {
   "cell_type": "markdown",
   "metadata": {},
   "source": [
    "### Using Random Forest Classifier "
   ]
  },
  {
   "cell_type": "code",
   "execution_count": 240,
   "metadata": {},
   "outputs": [
    {
     "name": "stdout",
     "output_type": "stream",
     "text": [
      "Runtime for Random Forest: 0.45209299999987707 seconds\n"
     ]
    }
   ],
   "source": [
    "### Random Forest Classifier\n",
    "\n",
    "from sklearn import ensemble \n",
    "rfc = ensemble.RandomForestClassifier(max_depth=10,max_features='auto', n_estimators=40)\n",
    "start_time = time.clock() \n",
    "rfc.fit(X_train_tfidf, Y_train)\n",
    "print('Runtime for Random Forest: '+'%s seconds'% (time.clock() - start_time)) # End time for execution speed."
   ]
  },
  {
   "cell_type": "code",
   "execution_count": 241,
   "metadata": {
    "scrolled": false
   },
   "outputs": [
    {
     "data": {
      "text/html": [
       "<div>\n",
       "<style>\n",
       "    .dataframe thead tr:only-child th {\n",
       "        text-align: right;\n",
       "    }\n",
       "\n",
       "    .dataframe thead th {\n",
       "        text-align: left;\n",
       "    }\n",
       "\n",
       "    .dataframe tbody tr th {\n",
       "        vertical-align: top;\n",
       "    }\n",
       "</style>\n",
       "<table border=\"1\" class=\"dataframe\">\n",
       "  <thead>\n",
       "    <tr style=\"text-align: right;\">\n",
       "      <th></th>\n",
       "      <th>0</th>\n",
       "    </tr>\n",
       "  </thead>\n",
       "  <tbody>\n",
       "    <tr>\n",
       "      <th>fuck</th>\n",
       "      <td>0.012969</td>\n",
       "    </tr>\n",
       "    <tr>\n",
       "      <th>girl</th>\n",
       "      <td>0.012094</td>\n",
       "    </tr>\n",
       "    <tr>\n",
       "      <th>thug</th>\n",
       "      <td>0.010892</td>\n",
       "    </tr>\n",
       "    <tr>\n",
       "      <th>babe</th>\n",
       "      <td>0.009647</td>\n",
       "    </tr>\n",
       "    <tr>\n",
       "      <th>nigga</th>\n",
       "      <td>0.009599</td>\n",
       "    </tr>\n",
       "    <tr>\n",
       "      <th>fuckin</th>\n",
       "      <td>0.008843</td>\n",
       "    </tr>\n",
       "    <tr>\n",
       "      <th>love</th>\n",
       "      <td>0.008012</td>\n",
       "    </tr>\n",
       "    <tr>\n",
       "      <th>niggas</th>\n",
       "      <td>0.007972</td>\n",
       "    </tr>\n",
       "    <tr>\n",
       "      <th>die</th>\n",
       "      <td>0.007435</td>\n",
       "    </tr>\n",
       "    <tr>\n",
       "      <th>bust</th>\n",
       "      <td>0.007262</td>\n",
       "    </tr>\n",
       "    <tr>\n",
       "      <th>yo</th>\n",
       "      <td>0.006912</td>\n",
       "    </tr>\n",
       "    <tr>\n",
       "      <th>baby</th>\n",
       "      <td>0.006634</td>\n",
       "    </tr>\n",
       "    <tr>\n",
       "      <th>ya</th>\n",
       "      <td>0.006537</td>\n",
       "    </tr>\n",
       "    <tr>\n",
       "      <th>bitch</th>\n",
       "      <td>0.005981</td>\n",
       "    </tr>\n",
       "    <tr>\n",
       "      <th>game</th>\n",
       "      <td>0.005799</td>\n",
       "    </tr>\n",
       "    <tr>\n",
       "      <th>mayne</th>\n",
       "      <td>0.005586</td>\n",
       "    </tr>\n",
       "    <tr>\n",
       "      <th>livin</th>\n",
       "      <td>0.005474</td>\n",
       "    </tr>\n",
       "    <tr>\n",
       "      <th>ass</th>\n",
       "      <td>0.005456</td>\n",
       "    </tr>\n",
       "    <tr>\n",
       "      <th>hood</th>\n",
       "      <td>0.005427</td>\n",
       "    </tr>\n",
       "    <tr>\n",
       "      <th>money</th>\n",
       "      <td>0.005387</td>\n",
       "    </tr>\n",
       "    <tr>\n",
       "      <th>dog</th>\n",
       "      <td>0.005236</td>\n",
       "    </tr>\n",
       "    <tr>\n",
       "      <th>messiah</th>\n",
       "      <td>0.005096</td>\n",
       "    </tr>\n",
       "    <tr>\n",
       "      <th>outlaw</th>\n",
       "      <td>0.005048</td>\n",
       "    </tr>\n",
       "    <tr>\n",
       "      <th>wanna</th>\n",
       "      <td>0.004682</td>\n",
       "    </tr>\n",
       "    <tr>\n",
       "      <th>people</th>\n",
       "      <td>0.004350</td>\n",
       "    </tr>\n",
       "    <tr>\n",
       "      <th>ill</th>\n",
       "      <td>0.004321</td>\n",
       "    </tr>\n",
       "    <tr>\n",
       "      <th>motherfuckers</th>\n",
       "      <td>0.004230</td>\n",
       "    </tr>\n",
       "    <tr>\n",
       "      <th>compton</th>\n",
       "      <td>0.004215</td>\n",
       "    </tr>\n",
       "    <tr>\n",
       "      <th>mic</th>\n",
       "      <td>0.004204</td>\n",
       "    </tr>\n",
       "    <tr>\n",
       "      <th>man</th>\n",
       "      <td>0.004067</td>\n",
       "    </tr>\n",
       "  </tbody>\n",
       "</table>\n",
       "</div>"
      ],
      "text/plain": [
       "                      0\n",
       "fuck           0.012969\n",
       "girl           0.012094\n",
       "thug           0.010892\n",
       "babe           0.009647\n",
       "nigga          0.009599\n",
       "fuckin         0.008843\n",
       "love           0.008012\n",
       "niggas         0.007972\n",
       "die            0.007435\n",
       "bust           0.007262\n",
       "yo             0.006912\n",
       "baby           0.006634\n",
       "ya             0.006537\n",
       "bitch          0.005981\n",
       "game           0.005799\n",
       "mayne          0.005586\n",
       "livin          0.005474\n",
       "ass            0.005456\n",
       "hood           0.005427\n",
       "money          0.005387\n",
       "dog            0.005236\n",
       "messiah        0.005096\n",
       "outlaw         0.005048\n",
       "wanna          0.004682\n",
       "people         0.004350\n",
       "ill            0.004321\n",
       "motherfuckers  0.004230\n",
       "compton        0.004215\n",
       "mic            0.004204\n",
       "man            0.004067"
      ]
     },
     "execution_count": 241,
     "metadata": {},
     "output_type": "execute_result"
    }
   ],
   "source": [
    "rfc_features = pd.DataFrame(rfc.feature_importances_)\n",
    "rfc_features.index = vectorizer.get_feature_names()\n",
    "rfc_features.sort_values(0,ascending = False).head(30)"
   ]
  },
  {
   "cell_type": "code",
   "execution_count": 242,
   "metadata": {},
   "outputs": [
    {
     "name": "stdout",
     "output_type": "stream",
     "text": [
      "Total number of features found: (19134, 1)\n"
     ]
    }
   ],
   "source": [
    "print('Total number of features found:', rfc_features.shape)"
   ]
  },
  {
   "cell_type": "code",
   "execution_count": 243,
   "metadata": {},
   "outputs": [
    {
     "name": "stdout",
     "output_type": "stream",
     "text": [
      "Training set score: 0.752293577982\n",
      "\n",
      "Test set score: 0.529051987768\n",
      "\n",
      "Cross validation results: 53.215% ± 2.377% \n",
      " \n",
      " [ 0.50927487  0.5440678   0.53571429  0.53662692  0.53504274]\n"
     ]
    }
   ],
   "source": [
    "print('Training set score:', rfc.score(X_train_tfidf, Y_train))\n",
    "print('\\nTest set score:', rfc.score(X_test_tfidf, Y_test))\n",
    "\n",
    "from sklearn.model_selection import cross_val_score\n",
    "\n",
    "cv_train = cross_val_score(rfc, X_train_tfidf, Y_train, cv=5)\n",
    "\n",
    "### Put this with the Cross validation score.\n",
    "plusminus = u\"\\u00B1\"\n",
    " \n",
    "print('\\nCross validation results: {:.3%} {} {:.3%} \\n \\n {}'.format(cv_train.mean(), plusminus, 2*cv_train.std(), cv_train))\n"
   ]
  },
  {
   "cell_type": "markdown",
   "metadata": {},
   "source": [
    "This seem to be overfitting.   \n",
    "The standard deviation is also high, might need to update some hyperparameters and see if we can improve on the results.   "
   ]
  },
  {
   "cell_type": "code",
   "execution_count": 244,
   "metadata": {},
   "outputs": [
    {
     "name": "stdout",
     "output_type": "stream",
     "text": [
      "\n",
      "Comparing SGDC data against the training set data:\n",
      "col_0           2pac  50-cent  busta-rhymes  chamillionaire  chris-brown  dmx  \\\n",
      "artist                                                                          \n",
      "2pac             233        0             0               0           48    0   \n",
      "50-cent            1      191             0               0           76    0   \n",
      "busta-rhymes       1        0           131               0           75    0   \n",
      "chamillionaire     0        0             0             228           50    0   \n",
      "chris-brown        0        0             0               0          481    0   \n",
      "dmx                2        1             1               0           52  135   \n",
      "drake              0        0             0               0          136    0   \n",
      "e-40               5        2             0               2           57    0   \n",
      "eminem             0        1             1               0           58    0   \n",
      "game               2        1             0               0           56    0   \n",
      "\n",
      "col_0           drake  e-40  eminem  game  \n",
      "artist                                     \n",
      "2pac                0     0       3     0  \n",
      "50-cent             0     0      18     0  \n",
      "busta-rhymes        0     1      13     0  \n",
      "chamillionaire      0     0       4     0  \n",
      "chris-brown         0     0       1     0  \n",
      "dmx                 0     0      20     0  \n",
      "drake             151     0       8     0  \n",
      "e-40                0   123      16     0  \n",
      "eminem              0     0     379     0  \n",
      "game                1     0      16   162  \n"
     ]
    }
   ],
   "source": [
    "# saving model predictions\n",
    "Y_train_pred_rfc = rfc.predict(X_train_tfidf)\n",
    "print('\\nComparing SGDC data against the training set data:')\n",
    "print(pd.crosstab(Y_train, Y_train_pred_rfc))"
   ]
  },
  {
   "cell_type": "markdown",
   "metadata": {},
   "source": [
    "__2pac__  238 predicted correctly, 48 as chris-brown and 3 as eminem's   \n",
    "__50-cent__ 191 predicted correctly, 1 as 2pac, 76 as chris-brown and 18 as eminem's    \n",
    "__busta-rhymes__ 131 predicted correctly, 1 as 2pac, 75 as chris-brown and 13 as eminem's   \n",
    "__chamillionaire__ 228 predicted correctly, 50 as chris-brown and 4 as eminem's   \n",
    "__chris-brown__ 481 predicted correctly and 1 as eminem's   \n",
    "__dmx__  135 predicted correctly, 2 as 2pac, 1 as 50-cent, 1 as busta-rhymmes, 52 as chris-brown  and 20 as eminem's   \n",
    "__drake__ 151 predicted correctly, 136 as chris-brown and 8 as eminem's   \n",
    "__e-40__ 123 predicted correctly, 5 as 2pac, 2 as 50-cent and chamillionaire, 57 as chris-brown and 16 as eminem's   \n",
    "\n",
    "__eminem__ 379 predicted correctly, 1 as 50-cent and busta-rhymes, 58 as chris-brown    \n",
    "__game__ 162 predicted correctly, 2 as 2pac, 60 as chris-brown, 1 as drake and 50-cent, and 16 as eminem's   \n",
    "\n",
    "\n",
    "From this we can conclude that RFC is not a good predictor for the lyrics of particular artists.  \n",
    "For instance, artists like chris-brown and eminem because they have the most lyrics, a lot of other artists songs get predicted as belonging to them.    \n"
   ]
  },
  {
   "cell_type": "markdown",
   "metadata": {},
   "source": [
    "### Using SGD Classifier"
   ]
  },
  {
   "cell_type": "code",
   "execution_count": 148,
   "metadata": {
    "scrolled": true
   },
   "outputs": [
    {
     "name": "stdout",
     "output_type": "stream",
     "text": [
      "Runtime for Stochastic Gradient: 0.17278999999996358 seconds\n"
     ]
    }
   ],
   "source": [
    "from sklearn import linear_model\n",
    "sgdc = linear_model.SGDClassifier()\n",
    "\n",
    "start_time = time.clock() \n",
    "sgdc.fit(X_train_tfidf, Y_train)\n",
    "print('Runtime for Stochastic Gradient: '+'%s seconds'% (time.clock() - start_time)) # End time for execution speed."
   ]
  },
  {
   "cell_type": "code",
   "execution_count": 158,
   "metadata": {},
   "outputs": [
    {
     "data": {
      "text/html": [
       "<div>\n",
       "<style>\n",
       "    .dataframe thead tr:only-child th {\n",
       "        text-align: right;\n",
       "    }\n",
       "\n",
       "    .dataframe thead th {\n",
       "        text-align: left;\n",
       "    }\n",
       "\n",
       "    .dataframe tbody tr th {\n",
       "        vertical-align: top;\n",
       "    }\n",
       "</style>\n",
       "<table border=\"1\" class=\"dataframe\">\n",
       "  <thead>\n",
       "    <tr style=\"text-align: right;\">\n",
       "      <th></th>\n",
       "      <th>0</th>\n",
       "    </tr>\n",
       "  </thead>\n",
       "  <tbody>\n",
       "    <tr>\n",
       "      <th>thug</th>\n",
       "      <td>5.280894</td>\n",
       "    </tr>\n",
       "    <tr>\n",
       "      <th>tu</th>\n",
       "      <td>3.242447</td>\n",
       "    </tr>\n",
       "    <tr>\n",
       "      <th>outlaw</th>\n",
       "      <td>2.526794</td>\n",
       "    </tr>\n",
       "    <tr>\n",
       "      <th>homies</th>\n",
       "      <td>2.457502</td>\n",
       "    </tr>\n",
       "    <tr>\n",
       "      <th>expect</th>\n",
       "      <td>2.332051</td>\n",
       "    </tr>\n",
       "    <tr>\n",
       "      <th>peace</th>\n",
       "      <td>2.300070</td>\n",
       "    </tr>\n",
       "    <tr>\n",
       "      <th>mutha</th>\n",
       "      <td>2.258435</td>\n",
       "    </tr>\n",
       "    <tr>\n",
       "      <th>wicked</th>\n",
       "      <td>2.176527</td>\n",
       "    </tr>\n",
       "    <tr>\n",
       "      <th>troublesome</th>\n",
       "      <td>2.150295</td>\n",
       "    </tr>\n",
       "    <tr>\n",
       "      <th>westside</th>\n",
       "      <td>1.990927</td>\n",
       "    </tr>\n",
       "    <tr>\n",
       "      <th>scandalous</th>\n",
       "      <td>1.961902</td>\n",
       "    </tr>\n",
       "    <tr>\n",
       "      <th>african</th>\n",
       "      <td>1.917608</td>\n",
       "    </tr>\n",
       "    <tr>\n",
       "      <th>soldier</th>\n",
       "      <td>1.895213</td>\n",
       "    </tr>\n",
       "    <tr>\n",
       "      <th>happy</th>\n",
       "      <td>1.883138</td>\n",
       "    </tr>\n",
       "    <tr>\n",
       "      <th>pave</th>\n",
       "      <td>1.866985</td>\n",
       "    </tr>\n",
       "    <tr>\n",
       "      <th>motherfuckers</th>\n",
       "      <td>1.835674</td>\n",
       "    </tr>\n",
       "    <tr>\n",
       "      <th>soulja</th>\n",
       "      <td>1.828020</td>\n",
       "    </tr>\n",
       "    <tr>\n",
       "      <th>rebel</th>\n",
       "      <td>1.806124</td>\n",
       "    </tr>\n",
       "    <tr>\n",
       "      <th>player</th>\n",
       "      <td>1.798508</td>\n",
       "    </tr>\n",
       "    <tr>\n",
       "      <th>punks</th>\n",
       "      <td>1.765906</td>\n",
       "    </tr>\n",
       "    <tr>\n",
       "      <th>dedicated</th>\n",
       "      <td>1.757018</td>\n",
       "    </tr>\n",
       "    <tr>\n",
       "      <th>society</th>\n",
       "      <td>1.713531</td>\n",
       "    </tr>\n",
       "    <tr>\n",
       "      <th>punk</th>\n",
       "      <td>1.652576</td>\n",
       "    </tr>\n",
       "    <tr>\n",
       "      <th>trapped</th>\n",
       "      <td>1.647039</td>\n",
       "    </tr>\n",
       "    <tr>\n",
       "      <th>ran</th>\n",
       "      <td>1.632944</td>\n",
       "    </tr>\n",
       "    <tr>\n",
       "      <th>thanks</th>\n",
       "      <td>1.632764</td>\n",
       "    </tr>\n",
       "    <tr>\n",
       "      <th>tree</th>\n",
       "      <td>1.557824</td>\n",
       "    </tr>\n",
       "    <tr>\n",
       "      <th>livin</th>\n",
       "      <td>1.536701</td>\n",
       "    </tr>\n",
       "    <tr>\n",
       "      <th>kick</th>\n",
       "      <td>1.524641</td>\n",
       "    </tr>\n",
       "    <tr>\n",
       "      <th>crooked</th>\n",
       "      <td>1.517907</td>\n",
       "    </tr>\n",
       "  </tbody>\n",
       "</table>\n",
       "</div>"
      ],
      "text/plain": [
       "                      0\n",
       "thug           5.280894\n",
       "tu             3.242447\n",
       "outlaw         2.526794\n",
       "homies         2.457502\n",
       "expect         2.332051\n",
       "peace          2.300070\n",
       "mutha          2.258435\n",
       "wicked         2.176527\n",
       "troublesome    2.150295\n",
       "westside       1.990927\n",
       "scandalous     1.961902\n",
       "african        1.917608\n",
       "soldier        1.895213\n",
       "happy          1.883138\n",
       "pave           1.866985\n",
       "motherfuckers  1.835674\n",
       "soulja         1.828020\n",
       "rebel          1.806124\n",
       "player         1.798508\n",
       "punks          1.765906\n",
       "dedicated      1.757018\n",
       "society        1.713531\n",
       "punk           1.652576\n",
       "trapped        1.647039\n",
       "ran            1.632944\n",
       "thanks         1.632764\n",
       "tree           1.557824\n",
       "livin          1.536701\n",
       "kick           1.524641\n",
       "crooked        1.517907"
      ]
     },
     "execution_count": 158,
     "metadata": {},
     "output_type": "execute_result"
    }
   ],
   "source": [
    "sgdc_features = pd.DataFrame(sgdc.coef_[0],sgdc.coef_[1])\n",
    "sgdc_features.index = vectorizer.get_feature_names()\n",
    "sgdc_features.sort_values(0,ascending = False).head(30)"
   ]
  },
  {
   "cell_type": "code",
   "execution_count": 231,
   "metadata": {},
   "outputs": [
    {
     "name": "stdout",
     "output_type": "stream",
     "text": [
      "Total numbers of features found: (19134, 1)\n"
     ]
    }
   ],
   "source": [
    "print('Total numbers of features found:',sgdc_features.shape)"
   ]
  },
  {
   "cell_type": "code",
   "execution_count": 151,
   "metadata": {},
   "outputs": [
    {
     "name": "stdout",
     "output_type": "stream",
     "text": [
      "Training set score: 0.993544002718\n",
      "\n",
      "Test set score: 0.811416921509\n",
      "\n",
      "Cross validation results: 77.709% ± 1.893% \n",
      " \n",
      " [ 0.77908938  0.79152542  0.76870748  0.7649063   0.78119658]\n"
     ]
    }
   ],
   "source": [
    "print('Training set score:', sgdc.score(X_train_tfidf, Y_train))\n",
    "print('\\nTest set score:', sgdc.score(X_test_tfidf, Y_test))\n",
    "\n",
    "from sklearn.model_selection import cross_val_score\n",
    "\n",
    "cv_train = cross_val_score(sgdc, X_train_tfidf, Y_train, cv=5)\n",
    "\n",
    "### Put this with the Cros validation score.\n",
    "plusminus = u\"\\u00B1\"\n",
    " \n",
    "print('\\nCross validation results: {:.3%} {} {:.3%} \\n \\n {}'.format(cv_train.mean(), plusminus, 2*cv_train.std(), cv_train))"
   ]
  },
  {
   "cell_type": "code",
   "execution_count": 152,
   "metadata": {
    "scrolled": false
   },
   "outputs": [
    {
     "name": "stdout",
     "output_type": "stream",
     "text": [
      "\n",
      "Comparing SGDC data against the training set data:\n",
      "col_0           2pac  50-cent  busta-rhymes  chamillionaire  chris-brown  dmx  \\\n",
      "artist                                                                          \n",
      "2pac             284        0             0               0            0    0   \n",
      "50-cent            0      283             0               0            2    0   \n",
      "busta-rhymes       0        0           219               1            1    0   \n",
      "chamillionaire     0        0             0             282            0    0   \n",
      "chris-brown        0        0             1               0          481    0   \n",
      "dmx                0        0             1               0            0  210   \n",
      "drake              0        0             0               0            3    0   \n",
      "e-40               0        0             0               0            1    0   \n",
      "eminem             0        2             1               0            2    0   \n",
      "game               0        0             0               0            0    0   \n",
      "\n",
      "col_0           drake  e-40  eminem  game  \n",
      "artist                                     \n",
      "2pac                0     0       0     0  \n",
      "50-cent             0     0       1     0  \n",
      "busta-rhymes        0     0       0     0  \n",
      "chamillionaire      0     0       0     0  \n",
      "chris-brown         0     0       0     0  \n",
      "dmx                 0     0       0     0  \n",
      "drake             292     0       0     0  \n",
      "e-40                0   203       0     1  \n",
      "eminem              1     0     433     0  \n",
      "game                0     0       1   237  \n"
     ]
    }
   ],
   "source": [
    "# saving model predictions\n",
    "Y_train_pred_sgdc = sgdc.predict(X_train_tfidf)\n",
    "# Check the solution against the data.\n",
    "print('\\nComparing SGDC data against the training set data:')\n",
    "print(pd.crosstab(Y_train, Y_train_pred_sgdc))"
   ]
  },
  {
   "cell_type": "markdown",
   "metadata": {},
   "source": [
    "__2pac__  284 predicted correctly,       \n",
    "__50-cent__ 283 predicted correctly, 2 as chris-brown and 1 as eminem's    \n",
    "__busta-rhymes__ 219 predicted correctly, 1 as chamillionaire and chris-brown     \n",
    "__chamillionaire__ 282 predicted correctly    \n",
    "__chris-brown__ 481 predicted correctly and 1 as busta-rhymes       \n",
    "__dmx__ 210 predicted correctly, 1 as busta-rhymmes     \n",
    "__drake__ 292 predicted correctly      \n",
    "__e-40__ 203 predicted correctly, 1 as chris-brown and game        \n",
    "__eminem__ 433 predicted correctly, 2 as 50-cent and chris-brown,1 as busta-rhymes and drake         \n",
    "__game__ 237 predicted correctly 1  as eminem's    \n",
    "\n",
    "\n",
    "From this we can conclude that SGDC is better predictor for the lyrics  in comparison to rfc. \n",
    "There aren't many songs who are not predicted correctly. \n"
   ]
  },
  {
   "cell_type": "markdown",
   "metadata": {},
   "source": [
    "### Using Linear SVC, Logistic Regression Pipeline "
   ]
  },
  {
   "cell_type": "code",
   "execution_count": 153,
   "metadata": {},
   "outputs": [
    {
     "name": "stdout",
     "output_type": "stream",
     "text": [
      "LinearSVC(C=1.0, class_weight=None, dual=True, fit_intercept=True,\n",
      "     intercept_scaling=1, loss='squared_hinge', max_iter=1000,\n",
      "     multi_class='ovr', penalty='l2', random_state=None, tol=0.0001,\n",
      "     verbose=0) \n",
      "Training Score:  0.995242949371 \n",
      "\n",
      "\n",
      "Test Score:  0.818552497452 \n",
      "\n",
      "\n",
      "CV Scores: [ 0.78246206  0.78644068  0.77380952  0.77512777  0.7965812 ] \n",
      "\n",
      "\n",
      "Comparing Predicted data against the training set data:\n",
      "col_0           2pac  50-cent  busta-rhymes  chamillionaire  chris-brown  dmx  \\\n",
      "artist                                                                          \n",
      "2pac             284        0             0               0            0    0   \n",
      "50-cent            0      283             0               0            2    0   \n",
      "busta-rhymes       0        0           220               0            1    0   \n",
      "chamillionaire     0        0             0             282            0    0   \n",
      "chris-brown        0        0             0               0          482    0   \n",
      "dmx                0        0             1               0            0  210   \n",
      "drake              0        0             0               0            1    0   \n",
      "e-40               0        0             0               0            1    0   \n",
      "eminem             0        2             1               0            2    0   \n",
      "game               0        0             0               0            0    0   \n",
      "\n",
      "col_0           drake  e-40  eminem  game  \n",
      "artist                                     \n",
      "2pac                0     0       0     0  \n",
      "50-cent             0     0       1     0  \n",
      "busta-rhymes        0     0       0     0  \n",
      "chamillionaire      0     0       0     0  \n",
      "chris-brown         0     0       0     0  \n",
      "dmx                 0     0       0     0  \n",
      "drake             294     0       0     0  \n",
      "e-40                0   204       0     0  \n",
      "eminem              1     0     433     0  \n",
      "game                0     0       1   237   \n",
      "\n",
      "LogisticRegression(C=1.0, class_weight=None, dual=False, fit_intercept=True,\n",
      "          intercept_scaling=1, max_iter=100, multi_class='ovr', n_jobs=1,\n",
      "          penalty='l2', random_state=None, solver='liblinear', tol=0.0001,\n",
      "          verbose=0, warm_start=False) \n",
      "Training Score:  0.919130139314 \n",
      "\n",
      "\n",
      "Test Score:  0.763506625892 \n",
      "\n",
      "\n",
      "CV Scores: [ 0.71332209  0.73050847  0.71598639  0.72061329  0.72307692] \n",
      "\n",
      "\n",
      "Comparing Predicted data against the training set data:\n",
      "col_0           2pac  50-cent  busta-rhymes  chamillionaire  chris-brown  dmx  \\\n",
      "artist                                                                          \n",
      "2pac             265        0             0               0           14    0   \n",
      "50-cent            1      248             0               0           25    0   \n",
      "busta-rhymes       1        4           184               4           12    3   \n",
      "chamillionaire     1        0             0             272            3    0   \n",
      "chris-brown        2        2             1               2          472    0   \n",
      "dmx                1        2             5               2            3  189   \n",
      "drake              0        0             0               4           33    0   \n",
      "e-40               0        2             1               3           13    0   \n",
      "eminem             1        2             0               1            9    0   \n",
      "game               1        4             0               0           12    0   \n",
      "\n",
      "col_0           drake  e-40  eminem  game  \n",
      "artist                                     \n",
      "2pac                0     0       5     0  \n",
      "50-cent             0     0       8     4  \n",
      "busta-rhymes        1     0      12     0  \n",
      "chamillionaire      1     0       4     1  \n",
      "chris-brown         1     0       2     0  \n",
      "dmx                 2     0       6     1  \n",
      "drake             255     0       2     1  \n",
      "e-40                0   181       4     1  \n",
      "eminem              0     0     426     0  \n",
      "game                0     0       8   213   \n",
      "\n"
     ]
    }
   ],
   "source": [
    "# Use pipeline to vectorize the train set and apply the results and run the model on the test set.\n",
    "from sklearn.pipeline import Pipeline\n",
    "from sklearn.svm import LinearSVC\n",
    "svc = LinearSVC()\n",
    "from sklearn.linear_model import LogisticRegression\n",
    "lr = LogisticRegression()\n",
    "\n",
    "# Use a for-loop to run the pipeline on all 3 models.\n",
    "classifiers = [svc, lr]\n",
    "for clf in classifiers:\n",
    "    pipe_vec = Pipeline([('vec', vectorizer),('clf', clf)])\n",
    "    pipe_vec.fit(X_train, Y_train)\n",
    "    print(clf,'\\nTraining Score: ', pipe_vec.score(X_train, Y_train),'\\n')\n",
    "    print('\\nTest Score: ', pipe_vec.score(X_test, Y_test),'\\n')\n",
    "    print('\\nCV Scores:', cross_val_score(pipe_vec, X_train, Y_train, cv=5),'\\n')\n",
    "    print('\\nComparing Predicted data against the training set data:')\n",
    "    print(pd.crosstab(Y_train, pipe_vec.predict(X_train)),'\\n')"
   ]
  },
  {
   "cell_type": "code",
   "execution_count": 193,
   "metadata": {},
   "outputs": [
    {
     "data": {
      "text/plain": [
       "chris-brown       482\n",
       "eminem            439\n",
       "drake             295\n",
       "50-cent           286\n",
       "2pac              284\n",
       "chamillionaire    282\n",
       "game              238\n",
       "busta-rhymes      221\n",
       "dmx               211\n",
       "e-40              205\n",
       "Name: artist, dtype: int64"
      ]
     },
     "execution_count": 193,
     "metadata": {},
     "output_type": "execute_result"
    }
   ],
   "source": [
    "Y_train.value_counts()"
   ]
  },
  {
   "cell_type": "markdown",
   "metadata": {},
   "source": [
    "We can conclude that SVM performs better than the Logistic regression model.     \n",
    "And of all the modelling technique used, SGD Classifier and SVM perform the best.   "
   ]
  },
  {
   "cell_type": "markdown",
   "metadata": {},
   "source": [
    "## Clustering"
   ]
  },
  {
   "cell_type": "markdown",
   "metadata": {},
   "source": [
    "### K-Means "
   ]
  },
  {
   "cell_type": "markdown",
   "metadata": {},
   "source": [
    "#### n =10"
   ]
  },
  {
   "cell_type": "code",
   "execution_count": 172,
   "metadata": {},
   "outputs": [
    {
     "name": "stdout",
     "output_type": "stream",
     "text": [
      "Runtime for KMeans: 92.33361999999988 seconds\n",
      "\n",
      "Comparing k-means clusters against the training set data:\n",
      "col_0            0   1    2   3    4   5   6    7   8   9\n",
      "artist                                                   \n",
      "2pac            53   1    6  35  113   8   1   16  29  22\n",
      "50-cent         90  27   18  36   51   6   2   19  17  20\n",
      "busta-rhymes    21  11    5  70   69   4   0   10  15  16\n",
      "chamillionaire   6   8    2   3   21   3   4  151  11  73\n",
      "chris-brown     41  54  133   3  103  55  46   36   0  11\n",
      "dmx             26  11    0  57   58   3   1   14  38   3\n",
      "drake           29  34   24  17   70  23  19   73   0   6\n",
      "e-40            41   2    5   1  104   3   2   30   8   9\n",
      "eminem          38   9   10   3  319   9  15   23   2  11\n",
      "game            76   6    5  23   84   8   1   15  11   9\n"
     ]
    }
   ],
   "source": [
    "from sklearn.cluster import KMeans\n",
    "\n",
    "start_time = time.clock()\n",
    "\n",
    "# Calculate predicted values.\n",
    "km = KMeans(n_clusters=10).fit(X_train_tfidf)\n",
    "Y_train_pred_km = km.predict(X_train_tfidf)\n",
    "\n",
    "print('Runtime for KMeans: '+'%s seconds'% (time.clock() - start_time))\n",
    "\n",
    "\n",
    "# Check the solution against the data.\n",
    "print('\\nComparing k-means clusters against the training set data:')\n",
    "print(pd.crosstab(Y_train, Y_train_pred_km))"
   ]
  },
  {
   "cell_type": "markdown",
   "metadata": {},
   "source": [
    "This is not performing as well as we would like it to be.    \n",
    "\n",
    "From this result we can conclude that    \n",
    "\n",
    "__chris brown__ is mosly in  clusters 2, 5, 6      \n",
    "__eminem__ is mostly in cluster 4      \n",
    "__chamillionaire__ is mostly in cluster 7   \n",
    "\n"
   ]
  },
  {
   "cell_type": "code",
   "execution_count": 212,
   "metadata": {},
   "outputs": [
    {
     "data": {
      "text/plain": [
       "KMeans(algorithm='auto', copy_x=True, init='k-means++', max_iter=300,\n",
       "    n_clusters=10, n_init=10, n_jobs=1, precompute_distances='auto',\n",
       "    random_state=None, tol=0.0001, verbose=0)"
      ]
     },
     "execution_count": 212,
     "metadata": {},
     "output_type": "execute_result"
    }
   ],
   "source": [
    "km\n",
    "## change n_init, "
   ]
  },
  {
   "cell_type": "markdown",
   "metadata": {},
   "source": [
    "#### n = 5"
   ]
  },
  {
   "cell_type": "code",
   "execution_count": 165,
   "metadata": {},
   "outputs": [
    {
     "name": "stdout",
     "output_type": "stream",
     "text": [
      "Runtime for KMeans: 83.36545400000023 seconds\n",
      "\n",
      "Comparing k-means clusters against the training set data:\n",
      "col_0             0    1    2   3   4\n",
      "artist                               \n",
      "2pac             15  129  106  33   1\n",
      "50-cent          35  120   93  35   3\n",
      "busta-rhymes     14  100   39  68   0\n",
      "chamillionaire    5  243   25   5   4\n",
      "chris-brown     220  174   29   5  54\n",
      "dmx               1   72   79  58   1\n",
      "drake            55  176   28  17  19\n",
      "e-40              8  144   49   2   2\n",
      "eminem           24  344   55   2  14\n",
      "game             13  107   92  25   1\n"
     ]
    }
   ],
   "source": [
    "start_time = time.clock()\n",
    "\n",
    "# Calculate predicted values.\n",
    "km = KMeans(n_clusters=5).fit(X_train_tfidf)\n",
    "Y_train_pred_km1 = km.predict(X_train_tfidf)\n",
    "\n",
    "print('Runtime for KMeans: '+'%s seconds'% (time.clock() - start_time))\n",
    "\n",
    "\n",
    "# Check the solution against the data.\n",
    "print('\\nComparing k-means clusters against the training set data:')\n",
    "print(pd.crosstab(Y_train, Y_train_pred_km1))"
   ]
  },
  {
   "cell_type": "markdown",
   "metadata": {},
   "source": [
    "This is not performing as well as we would like it to be.    \n",
    "\n",
    "From this result we can conclude that    \n",
    "\n",
    "__chris brown__ is mosly in  clusters 0, 4              \n",
    "__eminem__ is mostly in cluster 1      \n",
    "__2pac & 50-cent__ are mostly in cluster 2       \n"
   ]
  },
  {
   "cell_type": "markdown",
   "metadata": {},
   "source": [
    "#### n = 20"
   ]
  },
  {
   "cell_type": "code",
   "execution_count": 166,
   "metadata": {},
   "outputs": [
    {
     "name": "stdout",
     "output_type": "stream",
     "text": [
      "Runtime for KMeans: 93.86030100000016 seconds\n",
      "\n",
      "Comparing k-means clusters against the training set data:\n",
      "col_0           0   1   2   3   4   5   6   7   8   9   10  11   12  13  14  \\\n",
      "artist                                                                        \n",
      "2pac             3   4   0   8   3  26  19   9  34  21   5  20   25  16   2   \n",
      "50-cent          3   4   2  12   5  18  17  16  32  35  11  36   22  10   8   \n",
      "busta-rhymes    15   9   0   3  47  17   6   9  32   4   2  27   25   9   4   \n",
      "chamillionaire   9   2   3   3   0  15   3  52   3   5   0  16  113   1   1   \n",
      "chris-brown      7  12  53  62   3   0  21   8   1   6  23  21   81  18  77   \n",
      "dmx             13   1   1   2   6  38   6   3  43   6  10  28   14   8   0   \n",
      "drake            7  10  22  13   1   0  19   8   9   7   7  11  107  21   9   \n",
      "e-40             6  11   1   2   0  10  12   6   2  14   2  65   29   6   2   \n",
      "eminem          21  23  14   9   0   4  28   4   2   3   3  21  189  49   7   \n",
      "game             3   2   1   7   0  12  19   6  20  32   4  78   16  11   0   \n",
      "\n",
      "col_0           15  16  17  18  19  \n",
      "artist                              \n",
      "2pac            15  57  13   2   2  \n",
      "50-cent         28   4   0  23   0  \n",
      "busta-rhymes     3   5   0   4   0  \n",
      "chamillionaire   8   9   2   4  33  \n",
      "chris-brown     60  14   0  13   2  \n",
      "dmx              1  29   0   2   0  \n",
      "drake           16   5   1  18   4  \n",
      "e-40             5   9   3  13   7  \n",
      "eminem          13  39   1   8   1  \n",
      "game             7   9   1   9   1  \n"
     ]
    }
   ],
   "source": [
    "start_time = time.clock()\n",
    "\n",
    "# Calculate predicted values.\n",
    "km = KMeans(n_clusters=20).fit(X_train_tfidf)\n",
    "Y_train_pred_km2 = km.predict(X_train_tfidf)\n",
    "\n",
    "print('Runtime for KMeans: '+'%s seconds'% (time.clock() - start_time))\n",
    "\n",
    "\n",
    "# Check the solution against the data.\n",
    "print('\\nComparing k-means clusters against the training set data:')\n",
    "print(pd.crosstab(Y_train, Y_train_pred_km2))"
   ]
  },
  {
   "cell_type": "markdown",
   "metadata": {},
   "source": [
    "This is not performing as well as we would like it to be.    \n",
    "\n",
    "From this result we can conclude that    \n",
    "\n",
    "__chris brown__ is mosly in  clusters 2, 3, 15         \n",
    "__eminem__ is mostly in cluster 4    \n",
    "__2pac__ is mostly in clusters 16, 17   \n",
    "__chamillionaire__ is mostly in cluster 19   \n"
   ]
  },
  {
   "cell_type": "markdown",
   "metadata": {},
   "source": [
    "#### ARI For K-Means "
   ]
  },
  {
   "cell_type": "code",
   "execution_count": 160,
   "metadata": {},
   "outputs": [
    {
     "name": "stdout",
     "output_type": "stream",
     "text": [
      "ARI for  Training set data: \n",
      "0.091131013382\n"
     ]
    }
   ],
   "source": [
    "from sklearn import metrics\n",
    "\n",
    "print('ARI for  Training set data: ')\n",
    "print(metrics.adjusted_rand_score(Y_train,  Y_train_pred_km))"
   ]
  },
  {
   "cell_type": "markdown",
   "metadata": {},
   "source": [
    "### Mean Shift "
   ]
  },
  {
   "cell_type": "code",
   "execution_count": 255,
   "metadata": {},
   "outputs": [],
   "source": [
    "from sklearn.cluster import MeanShift, estimate_bandwidth\n",
    "\n",
    "bandwidth = estimate_bandwidth(X_train_tfidf.toarray(), quantile=0.5)"
   ]
  },
  {
   "cell_type": "code",
   "execution_count": 256,
   "metadata": {},
   "outputs": [
    {
     "name": "stdout",
     "output_type": "stream",
     "text": [
      "Runtime for Mean-shift: 497.0203849999998 seconds\n",
      "Number of estimated clusters: 1\n",
      "\n",
      "Comparing the assigned categories to the ones in the data:\n",
      "col_0             0\n",
      "artist             \n",
      "2pac            284\n",
      "50-cent         286\n",
      "busta-rhymes    221\n",
      "chamillionaire  282\n",
      "chris-brown     482\n",
      "dmx             211\n",
      "drake           295\n",
      "e-40            205\n",
      "eminem          439\n",
      "game            238\n"
     ]
    }
   ],
   "source": [
    "start_time = time.clock()\n",
    "# Declare and fit the model.\n",
    "ms = MeanShift(bandwidth, bin_seeding=True)\n",
    "ms.fit(X_train_tfidf.toarray())\n",
    "print('Runtime for Mean-shift: '+'%s seconds'% (time.clock() - start_time))\n",
    "\n",
    "# Extract cluster assignments for each data point.\n",
    "Y_train_pred_ms = ms.labels_\n",
    "\n",
    "\n",
    "\n",
    "# Count our clusters.\n",
    "n_clusters_ = len(np.unique(Y_train_pred_ms))\n",
    "\n",
    "print(\"Number of estimated clusters: {}\".format(n_clusters_))\n",
    "\n",
    "print('\\nComparing the assigned categories to the ones in the data:')\n",
    "print(pd.crosstab(Y_train,Y_train_pred_ms))"
   ]
  },
  {
   "cell_type": "code",
   "execution_count": 192,
   "metadata": {},
   "outputs": [
    {
     "data": {
      "text/plain": [
       "chris-brown       482\n",
       "eminem            439\n",
       "drake             295\n",
       "50-cent           286\n",
       "2pac              284\n",
       "chamillionaire    282\n",
       "game              238\n",
       "busta-rhymes      221\n",
       "dmx               211\n",
       "e-40              205\n",
       "Name: artist, dtype: int64"
      ]
     },
     "execution_count": 192,
     "metadata": {},
     "output_type": "execute_result"
    }
   ],
   "source": [
    "Y_train.value_counts()"
   ]
  },
  {
   "cell_type": "markdown",
   "metadata": {},
   "source": [
    "The solutions obtained with Mean Shift is the actual truth. \n",
    "B/c if we compare the prediction results with what is in Y_train, we see that we are able to predict the song lyrics correctly.   \n",
    "\n",
    "__For bandwidth = 1.3911927629239966__ \n",
    "Runtime for Mean-shift: 497.0203849999998 seconds   \n",
    "Number of estimated clusters: 1    \n",
    "But the problem is that we have only 1 cluster instead of 10 clusters that we should expect \n",
    "\n",
    "__For bandwidth = 0.05__\n",
    "Runtime for Mean-shift: 48.11673900000005 seconds  \n",
    "Number of estimated clusters: 57    \n",
    "The problem is that we get 57 clusters but most of the lyrics are is in cluter 0. The accuracy is not that high anymore.    \n",
    "\n",
    "\n",
    "__For bandwidth = 0.5__   \n",
    "Runtime for Mean-shift: 242.5507630000002 seconds   \n",
    "Number of estimated clusters: 202\n",
    "We get 202 cluster but most of the lyrics are now in cluster 7. The accuracy is not high since some are missassigned.   \n",
    "\n",
    "__For bandwidth = 2.5__  \n",
    "Runtime for Mean-shift: 13.704157000000123 seconds\n",
    "Number of estimated clusters: 1  \n",
    "Every lyrics were assigned to the current rappers but we don't have the 10 clusters we expect.   "
   ]
  },
  {
   "cell_type": "markdown",
   "metadata": {},
   "source": [
    "#### ARI For Mean Shift "
   ]
  },
  {
   "cell_type": "code",
   "execution_count": 171,
   "metadata": {},
   "outputs": [
    {
     "name": "stdout",
     "output_type": "stream",
     "text": [
      "ARI for  Training set data: \n"
     ]
    },
    {
     "data": {
      "text/plain": [
       "0.0"
      ]
     },
     "execution_count": 171,
     "metadata": {},
     "output_type": "execute_result"
    }
   ],
   "source": [
    "print('ARI for  Training set data: ')    \n",
    "metrics.adjusted_rand_score(Y_train, Y_train_pred_ms)"
   ]
  },
  {
   "cell_type": "markdown",
   "metadata": {},
   "source": [
    "## LSA"
   ]
  },
  {
   "cell_type": "code",
   "execution_count": 215,
   "metadata": {},
   "outputs": [
    {
     "name": "stdout",
     "output_type": "stream",
     "text": [
      "Percent variance captured by all components: 76.6324447568\n"
     ]
    }
   ],
   "source": [
    "from sklearn.decomposition import TruncatedSVD\n",
    "from sklearn.pipeline import make_pipeline\n",
    "from sklearn.preprocessing import Normalizer\n",
    "\n",
    "#Our SVD data reducer.  We are going to reduce the feature space from 19134 to 1000.\n",
    "svd= TruncatedSVD(1000)\n",
    "lsa = make_pipeline(svd, Normalizer(copy=False))\n",
    "# Run SVD on the training data, then project the training data.\n",
    "X_train_lsa = lsa.fit_transform(X_train_tfidf)\n",
    "X_test_lsa = lsa.transform(X_test_tfidf)\n",
    "\n",
    "\n",
    "variance_explained=svd.explained_variance_ratio_\n",
    "total_variance = variance_explained.sum()\n",
    "print(\"Percent variance captured by all components:\",total_variance*100)\n"
   ]
  },
  {
   "cell_type": "markdown",
   "metadata": {},
   "source": [
    "### LSA on Random Forest Classifier"
   ]
  },
  {
   "cell_type": "code",
   "execution_count": 226,
   "metadata": {},
   "outputs": [
    {
     "name": "stdout",
     "output_type": "stream",
     "text": [
      "Training set score: 0.986068637445\n",
      "\n",
      "Test set score: 0.56371049949\n",
      "\n",
      "Cross validation results: 52.806% ± 3.699% \n",
      " \n",
      " [ 0.51602024  0.54067797  0.52891156  0.50085179  0.55384615]\n"
     ]
    }
   ],
   "source": [
    "rfc0 = ensemble.RandomForestClassifier(max_depth=10,max_features='auto', n_estimators=40)\n",
    "rfc0.fit(X_train_lsa, Y_train)\n",
    "print('Training set score:', rfc0.score(X_train_lsa, Y_train))\n",
    "print('\\nTest set score:', rfc0.score(X_test_lsa, Y_test))\n",
    "\n",
    "from sklearn.model_selection import cross_val_score\n",
    "\n",
    "cv_train = cross_val_score(rfc, X_train_tfidf, Y_train, cv=5)\n",
    "\n",
    "### Put this with the Cross validation score.\n",
    "plusminus = u\"\\u00B1\"\n",
    " \n",
    "print('\\nCross validation results: {:.3%} {} {:.3%} \\n \\n {}'.format(cv_train.mean(), plusminus, 2*cv_train.std(), cv_train))\n"
   ]
  },
  {
   "cell_type": "code",
   "execution_count": 227,
   "metadata": {},
   "outputs": [
    {
     "name": "stdout",
     "output_type": "stream",
     "text": [
      "\n",
      "Comparing SGDC data against the training set data:\n",
      "col_0           2pac  50-cent  busta-rhymes  chamillionaire  chris-brown  dmx  \\\n",
      "artist                                                                          \n",
      "2pac             282        0             0               0            1    0   \n",
      "50-cent            0      280             0               0            2    0   \n",
      "busta-rhymes       0        0           213               0            3    0   \n",
      "chamillionaire     0        0             0             278            4    0   \n",
      "chris-brown        0        0             0               0          482    0   \n",
      "dmx                0        1             1               0            5  202   \n",
      "drake              0        0             0               0            3    0   \n",
      "e-40               0        0             0               0            2    0   \n",
      "eminem             0        0             1               0            0    0   \n",
      "game               0        0             0               0            2    0   \n",
      "\n",
      "col_0           drake  e-40  eminem  game  \n",
      "artist                                     \n",
      "2pac                0     0       1     0  \n",
      "50-cent             0     0       4     0  \n",
      "busta-rhymes        0     0       5     0  \n",
      "chamillionaire      0     0       0     0  \n",
      "chris-brown         0     0       0     0  \n",
      "dmx                 0     0       2     0  \n",
      "drake             292     0       0     0  \n",
      "e-40                0   202       1     0  \n",
      "eminem              0     0     438     0  \n",
      "game                0     0       3   233  \n"
     ]
    }
   ],
   "source": [
    "# saving model predictions\n",
    "Y_train_pred_rfc0 = rfc0.predict(X_train_lsa)\n",
    "print('\\nComparing SGDC data against the training set data:')\n",
    "print(pd.crosstab(Y_train, Y_train_pred_rfc0))"
   ]
  },
  {
   "cell_type": "markdown",
   "metadata": {},
   "source": [
    "This is performing a lot better in the sense that we don't have as many lyrics of other rappers that end up being missassigned as belonging to chris-brown and eminem.    "
   ]
  },
  {
   "cell_type": "code",
   "execution_count": 228,
   "metadata": {},
   "outputs": [
    {
     "name": "stdout",
     "output_type": "stream",
     "text": [
      "                precision    recall  f1-score   support\n",
      "\n",
      "          2pac       1.00      0.99      1.00       284\n",
      "       50-cent       1.00      0.98      0.99       286\n",
      "  busta-rhymes       0.99      0.96      0.98       221\n",
      "chamillionaire       1.00      0.99      0.99       282\n",
      "   chris-brown       0.96      1.00      0.98       482\n",
      "           dmx       1.00      0.96      0.98       211\n",
      "         drake       1.00      0.99      0.99       295\n",
      "          e-40       1.00      0.99      0.99       205\n",
      "        eminem       0.96      1.00      0.98       439\n",
      "          game       1.00      0.98      0.99       238\n",
      "\n",
      "   avg / total       0.99      0.99      0.99      2943\n",
      "\n"
     ]
    }
   ],
   "source": [
    "# Run classification report.\n",
    "print(classification_report(Y_train, Y_train_pred_rfc0))"
   ]
  },
  {
   "cell_type": "markdown",
   "metadata": {},
   "source": [
    "### LSA on SGD Classifier"
   ]
  },
  {
   "cell_type": "code",
   "execution_count": 218,
   "metadata": {},
   "outputs": [
    {
     "name": "stdout",
     "output_type": "stream",
     "text": [
      "Training set score: 0.970438328236\n",
      "\n",
      "Test set score: 0.786952089704\n",
      "\n",
      "Cross validation results: 73.257% ± 5.094% \n",
      " \n",
      " [ 0.71669477  0.76271186  0.76020408  0.6967632   0.72649573]\n"
     ]
    }
   ],
   "source": [
    "sgdc0 = linear_model.SGDClassifier()\n",
    "sgdc0.fit(X_train_lsa, Y_train)\n",
    "print('Training set score:', sgdc0.score(X_train_lsa, Y_train))\n",
    "print('\\nTest set score:', sgdc0.score(X_test_lsa, Y_test))\n",
    "\n",
    "\n",
    "\n",
    "cv_train = cross_val_score(sgdc0, X_train_lsa, Y_train, cv=5)\n",
    "\n",
    "### Put this with the Cros validation score.\n",
    "plusminus = u\"\\u00B1\"\n",
    " \n",
    "print('\\nCross validation results: {:.3%} {} {:.3%} \\n \\n {}'.format(cv_train.mean(), plusminus, 2*cv_train.std(), cv_train))"
   ]
  },
  {
   "cell_type": "code",
   "execution_count": 223,
   "metadata": {},
   "outputs": [
    {
     "name": "stdout",
     "output_type": "stream",
     "text": [
      "\n",
      "Comparing SGDC data against the training set data:\n",
      "col_0           2pac  50-cent  busta-rhymes  chamillionaire  chris-brown  dmx  \\\n",
      "artist                                                                          \n",
      "2pac             280        1             0               0            3    0   \n",
      "50-cent            0      279             1               0            2    1   \n",
      "busta-rhymes       0        2           212               0            4    2   \n",
      "chamillionaire     1        1             0             274            2    1   \n",
      "chris-brown        0        6             0               0          463    1   \n",
      "dmx                0        2             1               0            0  207   \n",
      "drake              2        3             0               0            5    0   \n",
      "e-40               0        2             0               0            1    0   \n",
      "eminem             1        4             2               0            3    0   \n",
      "game               0        6             0               0            0    0   \n",
      "\n",
      "col_0           drake  e-40  eminem  game  \n",
      "artist                                     \n",
      "2pac                0     0       0     0  \n",
      "50-cent             0     0       2     1  \n",
      "busta-rhymes        0     1       0     0  \n",
      "chamillionaire      0     2       1     0  \n",
      "chris-brown         6     2       3     1  \n",
      "dmx                 0     0       0     1  \n",
      "drake             284     1       0     0  \n",
      "e-40                1   201       0     0  \n",
      "eminem              1     0     428     0  \n",
      "game                0     1       3   228  \n"
     ]
    }
   ],
   "source": [
    "# saving model predictions\n",
    "Y_train_pred_sgdc0 = sgdc0.predict(X_train_lsa)\n",
    "# Check the solution against the data.\n",
    "print('\\nComparing SGDC data against the training set data:')\n",
    "print(pd.crosstab(Y_train, Y_train_pred_sgdc0))"
   ]
  },
  {
   "cell_type": "markdown",
   "metadata": {},
   "source": [
    "This is actually perfoming worst than the one that didn't use lsa.     \n",
    "The accuracy is lowered when using applying lsa to the training set.   "
   ]
  },
  {
   "cell_type": "code",
   "execution_count": 224,
   "metadata": {},
   "outputs": [
    {
     "name": "stdout",
     "output_type": "stream",
     "text": [
      "                precision    recall  f1-score   support\n",
      "\n",
      "          2pac       1.00      1.00      1.00       284\n",
      "       50-cent       0.99      0.99      0.99       286\n",
      "  busta-rhymes       0.99      0.99      0.99       221\n",
      "chamillionaire       1.00      1.00      1.00       282\n",
      "   chris-brown       0.98      1.00      0.99       482\n",
      "           dmx       1.00      1.00      1.00       211\n",
      "         drake       1.00      0.99      0.99       295\n",
      "          e-40       1.00      0.99      1.00       205\n",
      "        eminem       1.00      0.99      0.99       439\n",
      "          game       1.00      1.00      1.00       238\n",
      "\n",
      "   avg / total       0.99      0.99      0.99      2943\n",
      "\n"
     ]
    }
   ],
   "source": [
    "# Run classification report.\n",
    "print(classification_report(Y_train, Y_train_pred_sgdc))"
   ]
  },
  {
   "cell_type": "markdown",
   "metadata": {},
   "source": [
    "### LSA for K-Means with n = 10"
   ]
  },
  {
   "cell_type": "code",
   "execution_count": 219,
   "metadata": {},
   "outputs": [
    {
     "name": "stdout",
     "output_type": "stream",
     "text": [
      "\n",
      "Comparing k-means clusters against the training set data:\n",
      "col_0            0   1   2   3   4    5    6    7   8    9\n",
      "artist                                                    \n",
      "2pac            17   1  31  13   9   35   92    7  68   11\n",
      "50-cent         64   2  21   0  13   31   38   22  70   25\n",
      "busta-rhymes    20   0  15   0   4   15   68    6  79   14\n",
      "chamillionaire  18   4  15   2   4   42   55    3   9  130\n",
      "chris-brown     41  54   0   0  67   16  140  138   9   17\n",
      "dmx             11   1  40   0   5   24   49    0  79    2\n",
      "drake           31  18   0   1  21   78   84   28  26    8\n",
      "e-40            84   2  13   3   3   17   62    5   7    9\n",
      "eminem          12  10   7   1  11  255  114    9  11    9\n",
      "game            93   1  14   2   9   22   31    7  45   14\n"
     ]
    }
   ],
   "source": [
    "km0 = KMeans(n_clusters=10).fit(X_train_lsa)\n",
    "Y_train_pred_km0 = km0.predict(X_train_lsa)\n",
    "\n",
    "\n",
    "# Check the solution against the data.\n",
    "print('\\nComparing k-means clusters against the training set data:')\n",
    "print(pd.crosstab(Y_train, Y_train_pred_km0))\n",
    "\n"
   ]
  },
  {
   "cell_type": "markdown",
   "metadata": {},
   "source": [
    "The "
   ]
  },
  {
   "cell_type": "markdown",
   "metadata": {},
   "source": [
    "## Hold Out Groups"
   ]
  },
  {
   "cell_type": "markdown",
   "metadata": {},
   "source": [
    "### Random Forest Classifier"
   ]
  },
  {
   "cell_type": "code",
   "execution_count": 197,
   "metadata": {},
   "outputs": [
    {
     "name": "stdout",
     "output_type": "stream",
     "text": [
      "\n",
      "Comparing SGDC data against the training set data:\n",
      "col_0           2pac  50-cent  busta-rhymes  chamillionaire  chris-brown  dmx  \\\n",
      "artist                                                                          \n",
      "2pac              47        0             1               0           18    0   \n",
      "50-cent            4       45             1               0           45    1   \n",
      "busta-rhymes       8        4            14               2           22    0   \n",
      "chamillionaire     1        0             0              72           34    0   \n",
      "chris-brown        0        0             0               0          142    0   \n",
      "dmx                4        3             0               1           18   24   \n",
      "drake              0        0             0               2           47    0   \n",
      "e-40               3        1             0               1           32    0   \n",
      "eminem             1        2             1               0           29    0   \n",
      "game               3        8             0               2           28    1   \n",
      "\n",
      "col_0           drake  e-40  eminem  game  \n",
      "artist                                     \n",
      "2pac                0     0      14     3  \n",
      "50-cent             1     1      10     4  \n",
      "busta-rhymes        0     0      20     1  \n",
      "chamillionaire      0     0       7     0  \n",
      "chris-brown         1     0       3     0  \n",
      "dmx                 0     0      18     0  \n",
      "drake              17     0      12     0  \n",
      "e-40                1    12      17     0  \n",
      "eminem              1     0     105     0  \n",
      "game                0     0      14    47  \n"
     ]
    }
   ],
   "source": [
    "# saving model predictions\n",
    "Y_test_pred_rfc = rfc.predict(X_test_tfidf)\n",
    "print('\\nComparing SGDC data against the training set data:')\n",
    "print(pd.crosstab(Y_test, Y_test_pred_rfc))"
   ]
  },
  {
   "cell_type": "code",
   "execution_count": 202,
   "metadata": {},
   "outputs": [
    {
     "name": "stdout",
     "output_type": "stream",
     "text": [
      "                precision    recall  f1-score   support\n",
      "\n",
      "          2pac       0.66      0.57      0.61        83\n",
      "       50-cent       0.71      0.40      0.51       112\n",
      "  busta-rhymes       0.82      0.20      0.32        71\n",
      "chamillionaire       0.90      0.63      0.74       114\n",
      "   chris-brown       0.34      0.97      0.51       146\n",
      "           dmx       0.92      0.35      0.51        68\n",
      "         drake       0.81      0.22      0.34        78\n",
      "          e-40       0.92      0.18      0.30        67\n",
      "        eminem       0.48      0.76      0.58       139\n",
      "          game       0.85      0.46      0.59       103\n",
      "\n",
      "   avg / total       0.70      0.54      0.52       981\n",
      "\n"
     ]
    }
   ],
   "source": [
    "# Run classification report.\n",
    "print(classification_report(Y_test, Y_test_pred_rfc))"
   ]
  },
  {
   "cell_type": "code",
   "execution_count": 245,
   "metadata": {},
   "outputs": [
    {
     "name": "stdout",
     "output_type": "stream",
     "text": [
      "                precision    recall  f1-score   support\n",
      "\n",
      "          2pac       0.95      0.82      0.88       284\n",
      "       50-cent       0.97      0.67      0.79       286\n",
      "  busta-rhymes       0.98      0.59      0.74       221\n",
      "chamillionaire       0.99      0.81      0.89       282\n",
      "   chris-brown       0.44      1.00      0.61       482\n",
      "           dmx       1.00      0.64      0.78       211\n",
      "         drake       0.99      0.51      0.68       295\n",
      "          e-40       0.99      0.60      0.75       205\n",
      "        eminem       0.79      0.86      0.83       439\n",
      "          game       1.00      0.68      0.81       238\n",
      "\n",
      "   avg / total       0.87      0.75      0.77      2943\n",
      "\n"
     ]
    }
   ],
   "source": [
    "from sklearn.metrics import classification_report\n",
    "# Run classification report.\n",
    "print(classification_report(Y_train, Y_train_pred_rfc))"
   ]
  },
  {
   "cell_type": "markdown",
   "metadata": {},
   "source": [
    "We can see that precision is reduced when using prediction on the Test set.\n",
    "We went from a precison of 87% on the Training set to 70% on the Test set.  "
   ]
  },
  {
   "cell_type": "markdown",
   "metadata": {},
   "source": [
    "### SGD Classifier"
   ]
  },
  {
   "cell_type": "code",
   "execution_count": 198,
   "metadata": {
    "code_folding": []
   },
   "outputs": [
    {
     "name": "stdout",
     "output_type": "stream",
     "text": [
      "\n",
      "Comparing SGDC data against the training set data:\n",
      "col_0           2pac  50-cent  busta-rhymes  chamillionaire  chris-brown  dmx  \\\n",
      "artist                                                                          \n",
      "2pac              74        0             1               0            0    0   \n",
      "50-cent            3       87             1               0            8    2   \n",
      "busta-rhymes       1        4            53               2            2    1   \n",
      "chamillionaire     1        0             1             104            2    0   \n",
      "chris-brown        0        6             0               1          126    0   \n",
      "dmx                0        5             1               3            1   52   \n",
      "drake              3        0             2               2           11    1   \n",
      "e-40               2        2             0               0            6    0   \n",
      "eminem             0        6             2               1            9    0   \n",
      "game               2        2             1               0            7    2   \n",
      "\n",
      "col_0           drake  e-40  eminem  game  \n",
      "artist                                     \n",
      "2pac                2     0       6     0  \n",
      "50-cent             1     0       6     4  \n",
      "busta-rhymes        1     1       5     1  \n",
      "chamillionaire      1     2       3     0  \n",
      "chris-brown         6     1       2     4  \n",
      "dmx                 0     2       3     1  \n",
      "drake              55     0       2     2  \n",
      "e-40                2    53       1     1  \n",
      "eminem              3     1     113     4  \n",
      "game                5     1       4    79  \n"
     ]
    }
   ],
   "source": [
    "# saving model predictions\n",
    "Y_test_pred_sgdc = sgdc.predict(X_test_tfidf)\n",
    "# Check the solution against the data.\n",
    "print('\\nComparing SGDC data against the training set data:')\n",
    "print(pd.crosstab(Y_test, Y_test_pred_sgdc))"
   ]
  },
  {
   "cell_type": "code",
   "execution_count": 201,
   "metadata": {},
   "outputs": [
    {
     "name": "stdout",
     "output_type": "stream",
     "text": [
      "                precision    recall  f1-score   support\n",
      "\n",
      "          2pac       0.86      0.89      0.88        83\n",
      "       50-cent       0.78      0.78      0.78       112\n",
      "  busta-rhymes       0.85      0.75      0.80        71\n",
      "chamillionaire       0.92      0.91      0.92       114\n",
      "   chris-brown       0.73      0.86      0.79       146\n",
      "           dmx       0.90      0.76      0.83        68\n",
      "         drake       0.72      0.71      0.71        78\n",
      "          e-40       0.87      0.79      0.83        67\n",
      "        eminem       0.78      0.81      0.80       139\n",
      "          game       0.82      0.77      0.79       103\n",
      "\n",
      "   avg / total       0.82      0.81      0.81       981\n",
      "\n"
     ]
    }
   ],
   "source": [
    "# Run classification report.\n",
    "print(classification_report(Y_test, Y_test_pred_sgdc))"
   ]
  },
  {
   "cell_type": "code",
   "execution_count": 181,
   "metadata": {},
   "outputs": [
    {
     "name": "stdout",
     "output_type": "stream",
     "text": [
      "                precision    recall  f1-score   support\n",
      "\n",
      "          2pac       1.00      1.00      1.00       284\n",
      "       50-cent       0.99      0.99      0.99       286\n",
      "  busta-rhymes       0.99      0.99      0.99       221\n",
      "chamillionaire       1.00      1.00      1.00       282\n",
      "   chris-brown       0.98      1.00      0.99       482\n",
      "           dmx       1.00      1.00      1.00       211\n",
      "         drake       1.00      0.99      0.99       295\n",
      "          e-40       1.00      0.99      1.00       205\n",
      "        eminem       1.00      0.99      0.99       439\n",
      "          game       1.00      1.00      1.00       238\n",
      "\n",
      "   avg / total       0.99      0.99      0.99      2943\n",
      "\n"
     ]
    }
   ],
   "source": [
    "# Run classification report.\n",
    "print(classification_report(Y_train, Y_train_pred_sgdc))"
   ]
  },
  {
   "cell_type": "markdown",
   "metadata": {},
   "source": [
    "We can see that precision is reduced when using prediction on the Test set.      \n",
    "We went from a precison of 99% on the Training set to 82% on the Test set.     "
   ]
  },
  {
   "cell_type": "markdown",
   "metadata": {},
   "source": [
    "### Linear SVC, Logistic Regression Pipeline "
   ]
  },
  {
   "cell_type": "code",
   "execution_count": 203,
   "metadata": {},
   "outputs": [
    {
     "name": "stdout",
     "output_type": "stream",
     "text": [
      "LinearSVC(C=1.0, class_weight=None, dual=True, fit_intercept=True,\n",
      "     intercept_scaling=1, loss='squared_hinge', max_iter=1000,\n",
      "     multi_class='ovr', penalty='l2', random_state=None, tol=0.0001,\n",
      "     verbose=0) \n",
      "Comparing Predicted data against the test set data:\n",
      "col_0           2pac  50-cent  busta-rhymes  chamillionaire  chris-brown  dmx  \\\n",
      "artist                                                                          \n",
      "2pac              68        1             0               1            4    0   \n",
      "50-cent            1       84             2               0           10    0   \n",
      "busta-rhymes       2        4            48               0            5    0   \n",
      "chamillionaire     1        0             0              99            8    0   \n",
      "chris-brown        0        7             1               1          124    0   \n",
      "dmx                2        4             4               2            3   45   \n",
      "drake              0        2             1               4           17    0   \n",
      "e-40               1        1             1               2           12    0   \n",
      "eminem             1        4             1               1            9    0   \n",
      "game               5        5             1               1           11    0   \n",
      "\n",
      "col_0           drake  e-40  eminem  game  \n",
      "artist                                     \n",
      "2pac                1     0       8     0  \n",
      "50-cent             2     0      11     2  \n",
      "busta-rhymes        1     0      10     1  \n",
      "chamillionaire      1     0       5     0  \n",
      "chris-brown         5     0       5     3  \n",
      "dmx                 0     0       8     0  \n",
      "drake              46     0       8     0  \n",
      "e-40                2    44       4     0  \n",
      "eminem              1     0     121     1  \n",
      "game                1     1       8    70   \n",
      "\n",
      "\n",
      "Classification report:\n",
      "                precision    recall  f1-score   support\n",
      "\n",
      "          2pac       0.84      0.82      0.83        83\n",
      "       50-cent       0.75      0.75      0.75       112\n",
      "  busta-rhymes       0.81      0.68      0.74        71\n",
      "chamillionaire       0.89      0.87      0.88       114\n",
      "   chris-brown       0.61      0.85      0.71       146\n",
      "           dmx       1.00      0.66      0.80        68\n",
      "         drake       0.77      0.59      0.67        78\n",
      "          e-40       0.98      0.66      0.79        67\n",
      "        eminem       0.64      0.87      0.74       139\n",
      "          game       0.91      0.68      0.78       103\n",
      "\n",
      "   avg / total       0.79      0.76      0.77       981\n",
      " \n",
      "\n",
      "LogisticRegression(C=1.0, class_weight=None, dual=False, fit_intercept=True,\n",
      "          intercept_scaling=1, max_iter=100, multi_class='ovr', n_jobs=1,\n",
      "          penalty='l2', random_state=None, solver='liblinear', tol=0.0001,\n",
      "          verbose=0, warm_start=False) \n",
      "Comparing Predicted data against the test set data:\n",
      "col_0           2pac  50-cent  busta-rhymes  chamillionaire  chris-brown  dmx  \\\n",
      "artist                                                                          \n",
      "2pac              68        1             0               1            4    0   \n",
      "50-cent            1       84             2               0           10    0   \n",
      "busta-rhymes       2        4            48               0            5    0   \n",
      "chamillionaire     1        0             0              99            8    0   \n",
      "chris-brown        0        7             1               1          124    0   \n",
      "dmx                2        4             4               2            3   45   \n",
      "drake              0        2             1               4           17    0   \n",
      "e-40               1        1             1               2           12    0   \n",
      "eminem             1        4             1               1            9    0   \n",
      "game               5        5             1               1           11    0   \n",
      "\n",
      "col_0           drake  e-40  eminem  game  \n",
      "artist                                     \n",
      "2pac                1     0       8     0  \n",
      "50-cent             2     0      11     2  \n",
      "busta-rhymes        1     0      10     1  \n",
      "chamillionaire      1     0       5     0  \n",
      "chris-brown         5     0       5     3  \n",
      "dmx                 0     0       8     0  \n",
      "drake              46     0       8     0  \n",
      "e-40                2    44       4     0  \n",
      "eminem              1     0     121     1  \n",
      "game                1     1       8    70   \n",
      "\n",
      "\n",
      "Classification report:\n",
      "                precision    recall  f1-score   support\n",
      "\n",
      "          2pac       0.84      0.82      0.83        83\n",
      "       50-cent       0.75      0.75      0.75       112\n",
      "  busta-rhymes       0.81      0.68      0.74        71\n",
      "chamillionaire       0.89      0.87      0.88       114\n",
      "   chris-brown       0.61      0.85      0.71       146\n",
      "           dmx       1.00      0.66      0.80        68\n",
      "         drake       0.77      0.59      0.67        78\n",
      "          e-40       0.98      0.66      0.79        67\n",
      "        eminem       0.64      0.87      0.74       139\n",
      "          game       0.91      0.68      0.78       103\n",
      "\n",
      "   avg / total       0.79      0.76      0.77       981\n",
      " \n",
      "\n"
     ]
    }
   ],
   "source": [
    "# Use a for-loop to run the pipeline on all four models.\n",
    "classifiers = [svc, lr]\n",
    "for clf in classifiers:\n",
    "    print(clf,'\\nComparing Predicted data against the test set data:')\n",
    "    print(pd.crosstab(Y_test, pipe_vec.predict(X_test)),'\\n')\n",
    "    print('\\nClassification report:')\n",
    "    print(classification_report(Y_test, pipe_vec.predict(X_test)),'\\n')"
   ]
  },
  {
   "cell_type": "markdown",
   "metadata": {},
   "source": [
    "### K-Means Cluster"
   ]
  },
  {
   "cell_type": "code",
   "execution_count": 196,
   "metadata": {},
   "outputs": [
    {
     "name": "stdout",
     "output_type": "stream",
     "text": [
      "\n",
      "Comparing k-means clusters against the test set data:\n",
      "col_0            0   1   2   3   4   5   6   7   8   9\n",
      "artist                                                \n",
      "2pac            10   0   1   6  38   1   1   7   9  10\n",
      "50-cent         30  13   3  12  30   1   0   6   9   8\n",
      "busta-rhymes     5   3   1  26  19   3   1   4   4   5\n",
      "chamillionaire   2   1   0   1  15   0   1  67   3  24\n",
      "chris-brown     16  12  34   2  41  14  10  13   0   4\n",
      "dmx              4   1   0  22  23   1   0   4  10   3\n",
      "drake            9   6   6   1  24   2   0  27   0   3\n",
      "e-40            13   2   1   1  33   0   1  12   3   1\n",
      "eminem          12   9   5   0  91   4   4  11   0   3\n",
      "game            36   3   1  13  38   0   1   3   7   1\n"
     ]
    }
   ],
   "source": [
    "Y_test_pred_km = km.predict(X_test_tfidf)\n",
    "\n",
    "# Check the solution against the data.\n",
    "print('\\nComparing k-means clusters against the test set data:')\n",
    "print(pd.crosstab(Y_test, Y_test_pred_km))"
   ]
  },
  {
   "cell_type": "code",
   "execution_count": 254,
   "metadata": {
    "code_folding": []
   },
   "outputs": [
    {
     "name": "stdout",
     "output_type": "stream",
     "text": [
      "\n",
      "Comparing k-means clusters against the training set data:\n",
      "col_0            0   1    2   3    4   5   6    7   8   9\n",
      "artist                                                   \n",
      "2pac            53   1    6  35  113   8   1   16  29  22\n",
      "50-cent         90  27   18  36   51   6   2   19  17  20\n",
      "busta-rhymes    21  11    5  70   69   4   0   10  15  16\n",
      "chamillionaire   6   8    2   3   21   3   4  151  11  73\n",
      "chris-brown     41  54  133   3  103  55  46   36   0  11\n",
      "dmx             26  11    0  57   58   3   1   14  38   3\n",
      "drake           29  34   24  17   70  23  19   73   0   6\n",
      "e-40            41   2    5   1  104   3   2   30   8   9\n",
      "eminem          38   9   10   3  319   9  15   23   2  11\n",
      "game            76   6    5  23   84   8   1   15  11   9\n"
     ]
    }
   ],
   "source": [
    "# Check the solution against the data.\n",
    "print('\\nComparing k-means clusters against the training set data:')\n",
    "print(pd.crosstab(Y_train, Y_train_pred_km))"
   ]
  },
  {
   "cell_type": "markdown",
   "metadata": {},
   "source": [
    "We can see that on the Test set just like for the Training set, most of the lyrics end up in clusters 0, 4.   "
   ]
  },
  {
   "cell_type": "markdown",
   "metadata": {},
   "source": [
    "# Conclusion \n",
    "\n",
    "\n",
    "Modelling is just a better option than clustering for this problem. \n",
    "And the model that works the best is the SGD Classifier.    "
   ]
  }
 ],
 "metadata": {
  "kernelspec": {
   "display_name": "Python 3",
   "language": "python",
   "name": "python3"
  },
  "language_info": {
   "codemirror_mode": {
    "name": "ipython",
    "version": 3
   },
   "file_extension": ".py",
   "mimetype": "text/x-python",
   "name": "python",
   "nbconvert_exporter": "python",
   "pygments_lexer": "ipython3",
   "version": "3.6.1"
  },
  "toc": {
   "base_numbering": 1,
   "nav_menu": {},
   "number_sections": true,
   "sideBar": true,
   "skip_h1_title": true,
   "title_cell": "Table of Contents",
   "title_sidebar": "Contents",
   "toc_cell": false,
   "toc_position": {
    "height": "calc(100% - 180px)",
    "left": "10px",
    "top": "150px",
    "width": "273px"
   },
   "toc_section_display": true,
   "toc_window_display": true
  }
 },
 "nbformat": 4,
 "nbformat_minor": 2
}
