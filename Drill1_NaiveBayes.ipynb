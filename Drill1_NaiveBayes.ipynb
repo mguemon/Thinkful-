{
 "cells": [
  {
   "cell_type": "markdown",
   "metadata": {},
   "source": [
    "# Drills - Building your first model: naive Bayes\n",
    "\n",
    "## Drill: Regression or classification\n",
    "\n",
    "by: Melissa N "
   ]
  },
  {
   "cell_type": "markdown",
   "metadata": {},
   "source": [
    "## For each of the following situations, decide if you would model using a regression or classification model. Discuss your reasoning with your mentor next time you meet.     \n",
    "\n",
    "### The amount a person will spend on a given site in the next 24 months.   \n",
    "Regression   \n",
    "\n",
    "\n",
    "### What color car someone is going to buy.    \n",
    "Classificaltion/Regression if we consider all colors andtheir variant  \n",
    "\n",
    "### How many children a family will have.  \n",
    "Regression \n",
    "\n",
    "### If someone will sign up for a service.   \n",
    "\n",
    "Classification \n",
    "\n",
    "\n",
    "### The number of times someone will get sick in a year.    \n",
    "Regression \n",
    "\n",
    "\n",
    "\n",
    "### The probability someone will get sick in the next month.   \n",
    "Classification   \n",
    "\n",
    "### Which medicine will work best for a given patient.    \n",
    "Classification    \n",
    "\n",
    "\n"
   ]
  },
  {
   "cell_type": "code",
   "execution_count": null,
   "metadata": {
    "collapsed": true
   },
   "outputs": [],
   "source": []
  }
 ],
 "metadata": {
  "kernelspec": {
   "display_name": "Python 3",
   "language": "python",
   "name": "python3"
  },
  "language_info": {
   "codemirror_mode": {
    "name": "ipython",
    "version": 3
   },
   "file_extension": ".py",
   "mimetype": "text/x-python",
   "name": "python",
   "nbconvert_exporter": "python",
   "pygments_lexer": "ipython3",
   "version": "3.6.1"
  }
 },
 "nbformat": 4,
 "nbformat_minor": 2
}
