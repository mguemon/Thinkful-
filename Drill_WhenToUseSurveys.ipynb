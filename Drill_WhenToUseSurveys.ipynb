{
 "cells": [
  {
   "cell_type": "markdown",
   "metadata": {},
   "source": [
    "# Survey Design\n",
    "\n",
    "# DRILL: When to use surveys"
   ]
  },
  {
   "cell_type": "markdown",
   "metadata": {},
   "source": [
    "State whether a survey would be the best option for answering each of the following questions.\n",
    "\n",
    "* Popularity of various Uber drivers. __No__  \n",
    "\n",
    "* A grocery store wants to know how much people like strawberry, chocolate, and vanilla ice cream.  __Yes__\n",
    "\n",
    "* Trojan wants to know whether their condoms are more popular among straight people or gay people.  __Yes__\n",
    "\n",
    "* Recently, rental rates for HappyCars have increased by 30%, which is quite unusual. You want to find out why this is happening and how to keep the increase going. __No__\n",
    "\n",
    "* Assessing the success rate of a new advertising campaign.  __Yes__ \n",
    "\n",
    "* Measuring the effect of nurse/patient ratio on patient recovery rates in hospital wards. __No__"
   ]
  },
  {
   "cell_type": "code",
   "execution_count": null,
   "metadata": {
    "collapsed": true
   },
   "outputs": [],
   "source": []
  }
 ],
 "metadata": {
  "kernelspec": {
   "display_name": "Python 3",
   "language": "python",
   "name": "python3"
  },
  "language_info": {
   "codemirror_mode": {
    "name": "ipython",
    "version": 3
   },
   "file_extension": ".py",
   "mimetype": "text/x-python",
   "name": "python",
   "nbconvert_exporter": "python",
   "pygments_lexer": "ipython3",
   "version": "3.6.1"
  },
  "toc": {
   "base_numbering": 1,
   "nav_menu": {},
   "number_sections": true,
   "sideBar": true,
   "skip_h1_title": true,
   "title_cell": "Table of Contents",
   "title_sidebar": "Contents",
   "toc_cell": false,
   "toc_position": {},
   "toc_section_display": true,
   "toc_window_display": true
  }
 },
 "nbformat": 4,
 "nbformat_minor": 2
}
