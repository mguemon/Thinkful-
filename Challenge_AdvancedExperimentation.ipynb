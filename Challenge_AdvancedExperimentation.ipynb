{
 "cells": [
  {
   "cell_type": "markdown",
   "metadata": {},
   "source": [
    "# Advanced Experimentation\n",
    "\n",
    "# Challenge: What test to use"
   ]
  },
  {
   "cell_type": "code",
   "execution_count": 2,
   "metadata": {
    "collapsed": true
   },
   "outputs": [],
   "source": [
    "import pandas as pd\n",
    "import numpy as np\n",
    "import matplotlib.pyplot as plt\n",
    "import scipy.stats as stats\n",
    "%matplotlib inline"
   ]
  },
  {
   "cell_type": "code",
   "execution_count": 42,
   "metadata": {},
   "outputs": [
    {
     "name": "stdout",
     "output_type": "stream",
     "text": [
      "The shape of the data is: (8594, 13)\n"
     ]
    },
    {
     "data": {
      "text/html": [
       "<div>\n",
       "<style>\n",
       "    .dataframe thead tr:only-child th {\n",
       "        text-align: right;\n",
       "    }\n",
       "\n",
       "    .dataframe thead th {\n",
       "        text-align: left;\n",
       "    }\n",
       "\n",
       "    .dataframe tbody tr th {\n",
       "        vertical-align: top;\n",
       "    }\n",
       "</style>\n",
       "<table border=\"1\" class=\"dataframe\">\n",
       "  <thead>\n",
       "    <tr style=\"text-align: right;\">\n",
       "      <th></th>\n",
       "      <th>cntry</th>\n",
       "      <th>idno</th>\n",
       "      <th>year</th>\n",
       "      <th>tvtot</th>\n",
       "      <th>ppltrst</th>\n",
       "      <th>pplfair</th>\n",
       "      <th>pplhlp</th>\n",
       "      <th>happy</th>\n",
       "      <th>sclmeet</th>\n",
       "      <th>sclact</th>\n",
       "      <th>gndr</th>\n",
       "      <th>agea</th>\n",
       "      <th>partner</th>\n",
       "    </tr>\n",
       "  </thead>\n",
       "  <tbody>\n",
       "    <tr>\n",
       "      <th>0</th>\n",
       "      <td>CH</td>\n",
       "      <td>5.0</td>\n",
       "      <td>6</td>\n",
       "      <td>3.0</td>\n",
       "      <td>3.0</td>\n",
       "      <td>10.0</td>\n",
       "      <td>5.0</td>\n",
       "      <td>8.0</td>\n",
       "      <td>5.0</td>\n",
       "      <td>4.0</td>\n",
       "      <td>2.0</td>\n",
       "      <td>60.0</td>\n",
       "      <td>1.0</td>\n",
       "    </tr>\n",
       "    <tr>\n",
       "      <th>1</th>\n",
       "      <td>CH</td>\n",
       "      <td>25.0</td>\n",
       "      <td>6</td>\n",
       "      <td>6.0</td>\n",
       "      <td>5.0</td>\n",
       "      <td>7.0</td>\n",
       "      <td>5.0</td>\n",
       "      <td>9.0</td>\n",
       "      <td>3.0</td>\n",
       "      <td>2.0</td>\n",
       "      <td>2.0</td>\n",
       "      <td>59.0</td>\n",
       "      <td>1.0</td>\n",
       "    </tr>\n",
       "    <tr>\n",
       "      <th>2</th>\n",
       "      <td>CH</td>\n",
       "      <td>26.0</td>\n",
       "      <td>6</td>\n",
       "      <td>1.0</td>\n",
       "      <td>8.0</td>\n",
       "      <td>8.0</td>\n",
       "      <td>8.0</td>\n",
       "      <td>7.0</td>\n",
       "      <td>6.0</td>\n",
       "      <td>3.0</td>\n",
       "      <td>1.0</td>\n",
       "      <td>24.0</td>\n",
       "      <td>2.0</td>\n",
       "    </tr>\n",
       "    <tr>\n",
       "      <th>3</th>\n",
       "      <td>CH</td>\n",
       "      <td>28.0</td>\n",
       "      <td>6</td>\n",
       "      <td>4.0</td>\n",
       "      <td>6.0</td>\n",
       "      <td>6.0</td>\n",
       "      <td>7.0</td>\n",
       "      <td>10.0</td>\n",
       "      <td>6.0</td>\n",
       "      <td>2.0</td>\n",
       "      <td>2.0</td>\n",
       "      <td>64.0</td>\n",
       "      <td>1.0</td>\n",
       "    </tr>\n",
       "    <tr>\n",
       "      <th>4</th>\n",
       "      <td>CH</td>\n",
       "      <td>29.0</td>\n",
       "      <td>6</td>\n",
       "      <td>5.0</td>\n",
       "      <td>6.0</td>\n",
       "      <td>7.0</td>\n",
       "      <td>5.0</td>\n",
       "      <td>8.0</td>\n",
       "      <td>7.0</td>\n",
       "      <td>2.0</td>\n",
       "      <td>2.0</td>\n",
       "      <td>55.0</td>\n",
       "      <td>1.0</td>\n",
       "    </tr>\n",
       "  </tbody>\n",
       "</table>\n",
       "</div>"
      ],
      "text/plain": [
       "  cntry  idno  year  tvtot  ppltrst  pplfair  pplhlp  happy  sclmeet  sclact  \\\n",
       "0    CH   5.0     6    3.0      3.0     10.0     5.0    8.0      5.0     4.0   \n",
       "1    CH  25.0     6    6.0      5.0      7.0     5.0    9.0      3.0     2.0   \n",
       "2    CH  26.0     6    1.0      8.0      8.0     8.0    7.0      6.0     3.0   \n",
       "3    CH  28.0     6    4.0      6.0      6.0     7.0   10.0      6.0     2.0   \n",
       "4    CH  29.0     6    5.0      6.0      7.0     5.0    8.0      7.0     2.0   \n",
       "\n",
       "   gndr  agea  partner  \n",
       "0   2.0  60.0      1.0  \n",
       "1   2.0  59.0      1.0  \n",
       "2   1.0  24.0      2.0  \n",
       "3   2.0  64.0      1.0  \n",
       "4   2.0  55.0      1.0  "
      ]
     },
     "execution_count": 42,
     "metadata": {},
     "output_type": "execute_result"
    }
   ],
   "source": [
    "# Loading the data again.\n",
    "\n",
    "df = pd.read_csv(\"https://raw.githubusercontent.com/Thinkful-Ed/data-201-resources/master/ESS_practice_data/ESSdata_Thinkful.csv\")\n",
    "  \n",
    "# Take a subset of the data to make plots clearer.\n",
    "print('The shape of the data is:', df.shape)\n",
    "df.head()"
   ]
  },
  {
   "cell_type": "markdown",
   "metadata": {},
   "source": [
    "In this dataset, the same participants answered questions in 2012 and again 2014.\n",
    "\n",
    "1. Did people become less trusting from 2012 to 2014? Compute results for each country in the sample.\n",
    "2. Did people become happier from 2012 to 2014? Compute results for each country in the sample.\n",
    "3. Who reported watching more TV in 2012, men or women?\n",
    "4. Who was more likely to believe people were fair in 2012, people living with a partner or people living alone?\n",
    "5. Pick three or four of the countries in the sample and compare how often people met socially in 2014. Are there differences, and if so, which countries stand out?\n",
    "6. Pick three or four of the countries in the sample and compare how often people took part in social activities, relative to others their age, in 2014. Are there differences, and if so, which countries stand out?"
   ]
  },
  {
   "cell_type": "markdown",
   "metadata": {},
   "source": [
    "# Clean Data "
   ]
  },
  {
   "cell_type": "code",
   "execution_count": 43,
   "metadata": {},
   "outputs": [
    {
     "data": {
      "text/plain": [
       "Index(['cntry', 'idno', 'year', 'tvtot', 'ppltrst', 'pplfair', 'pplhlp',\n",
       "       'happy', 'sclmeet', 'sclact', 'gndr', 'agea', 'partner'],\n",
       "      dtype='object')"
      ]
     },
     "execution_count": 43,
     "metadata": {},
     "output_type": "execute_result"
    }
   ],
   "source": [
    "df.columns"
   ]
  },
  {
   "cell_type": "code",
   "execution_count": 40,
   "metadata": {},
   "outputs": [
    {
     "data": {
      "text/plain": [
       "7    4297\n",
       "6    4297\n",
       "Name: year, dtype: int64"
      ]
     },
     "execution_count": 40,
     "metadata": {},
     "output_type": "execute_result"
    }
   ],
   "source": [
    "df.year.value_counts()"
   ]
  },
  {
   "cell_type": "code",
   "execution_count": 39,
   "metadata": {},
   "outputs": [
    {
     "data": {
      "text/plain": [
       "ES    2426\n",
       "SE    1816\n",
       "CH    1546\n",
       "NO    1462\n",
       "CZ    1316\n",
       "DE      28\n",
       "Name: cntry, dtype: int64"
      ]
     },
     "execution_count": 39,
     "metadata": {},
     "output_type": "execute_result"
    }
   ],
   "source": [
    "df.cntry.value_counts()"
   ]
  },
  {
   "cell_type": "code",
   "execution_count": 44,
   "metadata": {},
   "outputs": [
    {
     "data": {
      "text/plain": [
       "tvtot        8\n",
       "ppltrst     14\n",
       "pplfair     39\n",
       "pplhlp      25\n",
       "happy       31\n",
       "sclmeet     15\n",
       "sclact      94\n",
       "gndr        10\n",
       "agea       239\n",
       "partner     17\n",
       "dtype: int64"
      ]
     },
     "execution_count": 44,
     "metadata": {},
     "output_type": "execute_result"
    }
   ],
   "source": [
    "# Count nulls \n",
    "null_count = df.isnull().sum()\n",
    "null_count[null_count>0]"
   ]
  },
  {
   "cell_type": "code",
   "execution_count": 46,
   "metadata": {},
   "outputs": [],
   "source": [
    "# Dividing the sample into the 2 differnt years \n",
    "df_2012 = df[df['year']== 6]\n",
    "df_2014 = df[df['year']== 7]"
   ]
  },
  {
   "cell_type": "code",
   "execution_count": 47,
   "metadata": {},
   "outputs": [],
   "source": [
    "## Assumption: the Median is a good enough representative of the missing data \n",
    "## review not filled means its best possible \n",
    "df_2012 = df_2012.apply(lambda x: x.fillna(value = x.median()) if x.dtype.kind in 'biufc' else x.fillna('.'))\n",
    "df_2014 = df_2014.apply(lambda x: x.fillna(value = x.median()) if x.dtype.kind in 'biufc' else x.fillna('.'))"
   ]
  },
  {
   "cell_type": "code",
   "execution_count": 48,
   "metadata": {},
   "outputs": [
    {
     "data": {
      "text/plain": [
       "Series([], dtype: int64)"
      ]
     },
     "execution_count": 48,
     "metadata": {},
     "output_type": "execute_result"
    }
   ],
   "source": [
    "# Count nulls \n",
    "null_count = df_2012.isnull().sum()\n",
    "null_count[null_count>0]"
   ]
  },
  {
   "cell_type": "code",
   "execution_count": 49,
   "metadata": {},
   "outputs": [
    {
     "data": {
      "text/plain": [
       "Series([], dtype: int64)"
      ]
     },
     "execution_count": 49,
     "metadata": {},
     "output_type": "execute_result"
    }
   ],
   "source": [
    "# Count nulls \n",
    "null_count = df_2014.isnull().sum()\n",
    "null_count[null_count>0]"
   ]
  },
  {
   "cell_type": "code",
   "execution_count": 17,
   "metadata": {
    "scrolled": true
   },
   "outputs": [
    {
     "data": {
      "text/html": [
       "<div>\n",
       "<style>\n",
       "    .dataframe thead tr:only-child th {\n",
       "        text-align: right;\n",
       "    }\n",
       "\n",
       "    .dataframe thead th {\n",
       "        text-align: left;\n",
       "    }\n",
       "\n",
       "    .dataframe tbody tr th {\n",
       "        vertical-align: top;\n",
       "    }\n",
       "</style>\n",
       "<table border=\"1\" class=\"dataframe\">\n",
       "  <thead>\n",
       "    <tr style=\"text-align: right;\">\n",
       "      <th></th>\n",
       "      <th>cntry</th>\n",
       "      <th>idno</th>\n",
       "      <th>year</th>\n",
       "      <th>tvtot</th>\n",
       "      <th>ppltrst</th>\n",
       "      <th>pplfair</th>\n",
       "      <th>pplhlp</th>\n",
       "      <th>happy</th>\n",
       "      <th>sclmeet</th>\n",
       "      <th>sclact</th>\n",
       "      <th>gndr</th>\n",
       "      <th>agea</th>\n",
       "      <th>partner</th>\n",
       "    </tr>\n",
       "  </thead>\n",
       "  <tbody>\n",
       "    <tr>\n",
       "      <th>0</th>\n",
       "      <td>CH</td>\n",
       "      <td>5.0</td>\n",
       "      <td>6</td>\n",
       "      <td>3.0</td>\n",
       "      <td>3.0</td>\n",
       "      <td>10.0</td>\n",
       "      <td>5.0</td>\n",
       "      <td>8.0</td>\n",
       "      <td>5.0</td>\n",
       "      <td>4.0</td>\n",
       "      <td>2.0</td>\n",
       "      <td>60.0</td>\n",
       "      <td>1.0</td>\n",
       "    </tr>\n",
       "    <tr>\n",
       "      <th>1</th>\n",
       "      <td>CH</td>\n",
       "      <td>25.0</td>\n",
       "      <td>6</td>\n",
       "      <td>6.0</td>\n",
       "      <td>5.0</td>\n",
       "      <td>7.0</td>\n",
       "      <td>5.0</td>\n",
       "      <td>9.0</td>\n",
       "      <td>3.0</td>\n",
       "      <td>2.0</td>\n",
       "      <td>2.0</td>\n",
       "      <td>59.0</td>\n",
       "      <td>1.0</td>\n",
       "    </tr>\n",
       "    <tr>\n",
       "      <th>2</th>\n",
       "      <td>CH</td>\n",
       "      <td>26.0</td>\n",
       "      <td>6</td>\n",
       "      <td>1.0</td>\n",
       "      <td>8.0</td>\n",
       "      <td>8.0</td>\n",
       "      <td>8.0</td>\n",
       "      <td>7.0</td>\n",
       "      <td>6.0</td>\n",
       "      <td>3.0</td>\n",
       "      <td>1.0</td>\n",
       "      <td>24.0</td>\n",
       "      <td>2.0</td>\n",
       "    </tr>\n",
       "    <tr>\n",
       "      <th>3</th>\n",
       "      <td>CH</td>\n",
       "      <td>28.0</td>\n",
       "      <td>6</td>\n",
       "      <td>4.0</td>\n",
       "      <td>6.0</td>\n",
       "      <td>6.0</td>\n",
       "      <td>7.0</td>\n",
       "      <td>10.0</td>\n",
       "      <td>6.0</td>\n",
       "      <td>2.0</td>\n",
       "      <td>2.0</td>\n",
       "      <td>64.0</td>\n",
       "      <td>1.0</td>\n",
       "    </tr>\n",
       "    <tr>\n",
       "      <th>4</th>\n",
       "      <td>CH</td>\n",
       "      <td>29.0</td>\n",
       "      <td>6</td>\n",
       "      <td>5.0</td>\n",
       "      <td>6.0</td>\n",
       "      <td>7.0</td>\n",
       "      <td>5.0</td>\n",
       "      <td>8.0</td>\n",
       "      <td>7.0</td>\n",
       "      <td>2.0</td>\n",
       "      <td>2.0</td>\n",
       "      <td>55.0</td>\n",
       "      <td>1.0</td>\n",
       "    </tr>\n",
       "  </tbody>\n",
       "</table>\n",
       "</div>"
      ],
      "text/plain": [
       "  cntry  idno  year  tvtot  ppltrst  pplfair  pplhlp  happy  sclmeet  sclact  \\\n",
       "0    CH   5.0     6    3.0      3.0     10.0     5.0    8.0      5.0     4.0   \n",
       "1    CH  25.0     6    6.0      5.0      7.0     5.0    9.0      3.0     2.0   \n",
       "2    CH  26.0     6    1.0      8.0      8.0     8.0    7.0      6.0     3.0   \n",
       "3    CH  28.0     6    4.0      6.0      6.0     7.0   10.0      6.0     2.0   \n",
       "4    CH  29.0     6    5.0      6.0      7.0     5.0    8.0      7.0     2.0   \n",
       "\n",
       "   gndr  agea  partner  \n",
       "0   2.0  60.0      1.0  \n",
       "1   2.0  59.0      1.0  \n",
       "2   1.0  24.0      2.0  \n",
       "3   2.0  64.0      1.0  \n",
       "4   2.0  55.0      1.0  "
      ]
     },
     "execution_count": 17,
     "metadata": {},
     "output_type": "execute_result"
    }
   ],
   "source": [
    "df_2012.head()"
   ]
  },
  {
   "cell_type": "markdown",
   "metadata": {},
   "source": [
    "## Q1. Did people become less trusting from 2012 to 2014? Compute results for each country in the sample."
   ]
  },
  {
   "cell_type": "code",
   "execution_count": 88,
   "metadata": {},
   "outputs": [
    {
     "data": {
      "image/png": "[encoded data removed]",
      "text/plain": [
       "<matplotlib.figure.Figure at 0x11804fa58>"
      ]
     },
     "metadata": {},
     "output_type": "display_data"
    }
   ],
   "source": [
    "plt.figure(figsize=(15, 8))\n",
    "plt.subplot(2, 3, 1)\n",
    "plt.hist(df_2012.loc[df_2012['cntry'] =='ES', 'ppltrst'])\n",
    "plt.xlabel('People Trust in Spain')\n",
    "\n",
    "\n",
    "plt.subplot(2, 3, 2)\n",
    "\n",
    "plt.hist(df_2012.loc[df_2012['cntry'] =='SE', 'ppltrst'])\n",
    "plt.xlabel('People Trust in Sweden')\n",
    "\n",
    "plt.subplot(2, 3, 3)\n",
    "\n",
    "plt.hist(df_2012.loc[df_2012['cntry'] =='CH', 'ppltrst'])\n",
    "plt.xlabel('People Trust in Switzerland')\n",
    "\n",
    "\n",
    "plt.subplot(2, 3, 4)\n",
    "plt.hist(df_2012.loc[df_2012['cntry'] =='NO', 'ppltrst'])\n",
    "plt.xlabel('People Trust in Norway')\n",
    "\n",
    "\n",
    "plt.subplot(2, 3, 5)\n",
    "\n",
    "plt.hist(df_2012.loc[df_2012['cntry'] =='CZ', 'ppltrst'])\n",
    "plt.xlabel('People Trust in Czech Republic')\n",
    "\n",
    "plt.subplot(2, 3, 6)\n",
    "\n",
    "plt.hist(df_2012.loc[df_2012['cntry'] =='DE', 'ppltrst'])\n",
    "plt.xlabel('People Trust in Germany')\n",
    "\n",
    "plt.suptitle('Data Collected in 2012', size = 16)\n",
    "plt.show()"
   ]
  },
  {
   "cell_type": "markdown",
   "metadata": {},
   "source": [
    "Most of the graphs for the different countries are negatively skewed, except for the Czech Republic."
   ]
  },
  {
   "cell_type": "code",
   "execution_count": 89,
   "metadata": {},
   "outputs": [
    {
     "data": {
      "image/png": "[encoded data removed]",
      "text/plain": [
       "<matplotlib.figure.Figure at 0x112e46400>"
      ]
     },
     "metadata": {},
     "output_type": "display_data"
    }
   ],
   "source": [
    "plt.figure(figsize=(15, 8))\n",
    "plt.subplot(2, 3, 1)\n",
    "plt.hist(df_2014.loc[df_2014['cntry'] =='ES', 'ppltrst'])\n",
    "plt.xlabel('People Trust in Spain')\n",
    "\n",
    "\n",
    "plt.subplot(2, 3, 2)\n",
    "\n",
    "plt.hist(df_2014.loc[df_2014['cntry'] =='SE', 'ppltrst'])\n",
    "plt.xlabel('People Trust in Sweden')\n",
    "\n",
    "plt.subplot(2, 3, 3)\n",
    "\n",
    "plt.hist(df_2014.loc[df_2014['cntry'] =='CH', 'ppltrst'])\n",
    "plt.xlabel('People Trust in Switzerland')\n",
    "\n",
    "\n",
    "plt.subplot(2, 3, 4)\n",
    "plt.hist(df_2014.loc[df_2014['cntry'] =='NO', 'ppltrst'])\n",
    "plt.xlabel('People Trust in Norway')\n",
    "\n",
    "\n",
    "plt.subplot(2, 3, 5)\n",
    "\n",
    "plt.hist(df_2014.loc[df_2014['cntry'] =='CZ', 'ppltrst'])\n",
    "plt.xlabel('People Trust in Czech Republic')\n",
    "\n",
    "plt.subplot(2, 3, 6)\n",
    "\n",
    "plt.hist(df_2014.loc[df_2014['cntry'] =='DE', 'ppltrst'])\n",
    "plt.xlabel('People Trust in Germany')\n",
    "\n",
    "plt.suptitle('Data Collected in 2014', size = 16)\n",
    "plt.show()"
   ]
  },
  {
   "cell_type": "code",
   "execution_count": 25,
   "metadata": {},
   "outputs": [
    {
     "data": {
      "text/plain": [
       "5.563097737345463"
      ]
     },
     "execution_count": 25,
     "metadata": {},
     "output_type": "execute_result"
    }
   ],
   "source": [
    "df_2012['ppltrst'].median()"
   ]
  },
  {
   "cell_type": "code",
   "execution_count": 52,
   "metadata": {},
   "outputs": [
    {
     "data": {
      "text/plain": [
       "6.0"
      ]
     },
     "execution_count": 52,
     "metadata": {},
     "output_type": "execute_result"
    }
   ],
   "source": [
    "df_2014['ppltrst'].median()"
   ]
  },
  {
   "cell_type": "code",
   "execution_count": 27,
   "metadata": {},
   "outputs": [
    {
     "data": {
      "text/plain": [
       "tvtot        8\n",
       "ppltrst     14\n",
       "pplfair     39\n",
       "pplhlp      25\n",
       "happy       31\n",
       "sclmeet     15\n",
       "sclact      94\n",
       "gndr        10\n",
       "agea       239\n",
       "partner     17\n",
       "dtype: int64"
      ]
     },
     "execution_count": 27,
     "metadata": {},
     "output_type": "execute_result"
    }
   ],
   "source": [
    "# Count nulls \n",
    "null_count = df.isnull().sum()\n",
    "null_count[null_count>0]"
   ]
  },
  {
   "cell_type": "code",
   "execution_count": 53,
   "metadata": {},
   "outputs": [
    {
     "data": {
      "text/plain": [
       "KruskalResult(statistic=0.16034653885979291, pvalue=0.68883766718041284)"
      ]
     },
     "execution_count": 53,
     "metadata": {},
     "output_type": "execute_result"
    }
   ],
   "source": [
    "# Print the test statistic followed by the probability of getting this result\n",
    "# if the groups were not different.\n",
    "stats.kruskal(\n",
    "    df_2012['ppltrst'],\n",
    "    df_2014['ppltrst'])"
   ]
  },
  {
   "cell_type": "markdown",
   "metadata": {},
   "source": [
    "pvalue>0.05 the null hypothesis is not rejected      \n",
    "Ther is a 68% chance that the 2 sets are similar.    \n",
    "This is just comparing the trust from 2012 and 2014 not by countries .   "
   ]
  },
  {
   "cell_type": "code",
   "execution_count": 74,
   "metadata": {},
   "outputs": [
    {
     "name": "stdout",
     "output_type": "stream",
     "text": [
      "For Spain we have KruskalResult(statistic=8.0842345014171269, pvalue=0.0044651987999049106)\n",
      "\n",
      "For Sweden we have KruskalResult(statistic=4.2942084521549333, pvalue=0.038242393802365784)\n",
      "\n",
      "For Switerzeland we have KruskalResult(statistic=0.30163599644480188, pvalue=0.58285861114420479)\n",
      "\n",
      "For Norway we have KruskalResult(statistic=0.24545765996642668, pvalue=0.62029179708621318)\n",
      "\n",
      "For Germany we have Ttest_indResult(statistic=-0.18084358577434545, pvalue=0.8578926631223287)\n",
      "\n",
      "For Czech Republic we have Ttest_indResult(statistic=-0.36299921565336934, pvalue=0.71666385357393692)\n"
     ]
    }
   ],
   "source": [
    "# Print the test statistic followed by the probability of getting this result\n",
    "# if the groups were not different.\n",
    "print('For Spain we have', stats.kruskal(\n",
    "    df_2012.loc[df_2012['cntry'] =='ES', 'ppltrst'],\n",
    "    df_2014.loc[df_2014['cntry'] =='ES', 'ppltrst']))\n",
    "\n",
    "print('\\nFor Sweden we have', stats.kruskal(\n",
    "    df_2012.loc[df_2012['cntry'] =='SE', 'ppltrst'],\n",
    "    df_2014.loc[df_2014['cntry'] =='SE', 'ppltrst']))\n",
    "\n",
    "print('\\nFor Switerzeland we have', stats.kruskal(\n",
    "    df_2012.loc[df_2012['cntry'] =='CH', 'ppltrst'],\n",
    "    df_2014.loc[df_2014['cntry'] =='CH', 'ppltrst']))\n",
    "\n",
    "print('\\nFor Norway we have', stats.kruskal(\n",
    "    df_2012.loc[df_2012['cntry'] =='NO', 'ppltrst'],\n",
    "    df_2014.loc[df_2014['cntry'] =='NO', 'ppltrst']))\n",
    "\n",
    "### Using T-test b/c parametric\n",
    "print('\\nFor Germany we have', stats.ttest_ind(\n",
    "    df_2012.loc[df_2012['cntry'] =='DE', 'ppltrst'],\n",
    "    df_2014.loc[df_2014['cntry'] =='DE', 'ppltrst']))\n",
    "\n",
    "\n",
    "\n",
    "print('\\nFor Czech Republic we have', stats.ttest_ind(\n",
    "    df_2012.loc[df_2012['cntry'] =='CZ', 'ppltrst'],\n",
    "    df_2014.loc[df_2014['cntry'] =='CZ', 'ppltrst']))"
   ]
  },
  {
   "cell_type": "markdown",
   "metadata": {},
   "source": [
    "__pvalue < 0.05__  \n",
    "For Spain and Sweden.    \n",
    "So we can say that the population are differrent.      \n",
    "\n",
    "__pvalue > 0.05__    \n",
    "For Switzerland, Norway, Germany and the Czech Republic.   \n",
    "So for them there is a 50% chance or more that the population are similar.     "
   ]
  },
  {
   "cell_type": "code",
   "execution_count": 80,
   "metadata": {},
   "outputs": [
    {
     "data": {
      "text/plain": [
       "cntry\n",
       "CH    0.073739\n",
       "CZ    0.047112\n",
       "DE    0.142857\n",
       "ES   -0.217642\n",
       "NO   -0.050616\n",
       "SE    0.199339\n",
       "Name: ppltrst, dtype: float64"
      ]
     },
     "execution_count": 80,
     "metadata": {},
     "output_type": "execute_result"
    }
   ],
   "source": [
    "trst_2012  =  df_2012.groupby(df_2012['cntry'])['ppltrst'].mean()\n",
    "trst_2014  =  df_2014.groupby(df_2014['cntry'])['ppltrst'].mean()\n",
    "\n",
    "trst_2014 - trst_2012"
   ]
  },
  {
   "cell_type": "markdown",
   "metadata": {},
   "source": [
    "For Spain and Norway, there is a decrease in people's trust.   \n",
    "For Germany and Sweden, there is an increase in people's trust.   \n",
    "The rest there doesn't seem to be any noticeable changes in people's trust.   "
   ]
  },
  {
   "cell_type": "markdown",
   "metadata": {},
   "source": [
    "## Q2. Did people become happier from 2012 to 2014? Compute results for each country in the sample."
   ]
  },
  {
   "cell_type": "code",
   "execution_count": 90,
   "metadata": {},
   "outputs": [
    {
     "data": {
      "image/png": "[encoded data removed]",
      "text/plain": [
       "<matplotlib.figure.Figure at 0x118293978>"
      ]
     },
     "metadata": {},
     "output_type": "display_data"
    }
   ],
   "source": [
    "plt.figure(figsize=(15, 8))\n",
    "plt.subplot(2, 3, 1)\n",
    "plt.hist(df_2012.loc[df_2012['cntry'] =='ES', 'happy'])\n",
    "plt.xlabel('People Happiness in Spain')\n",
    "\n",
    "\n",
    "plt.subplot(2, 3, 2)\n",
    "\n",
    "plt.hist(df_2012.loc[df_2012['cntry'] =='SE', 'happy'])\n",
    "plt.xlabel('People happiness in Sweden')\n",
    "\n",
    "plt.subplot(2, 3, 3)\n",
    "\n",
    "plt.hist(df_2012.loc[df_2012['cntry'] =='CH', 'happy'])\n",
    "plt.xlabel('People happiness in Switzerland')\n",
    "\n",
    "\n",
    "plt.subplot(2, 3, 4)\n",
    "plt.hist(df_2012.loc[df_2012['cntry'] =='NO', 'happy'])\n",
    "plt.xlabel('People happiness in Norway')\n",
    "\n",
    "\n",
    "plt.subplot(2, 3, 5)\n",
    "\n",
    "plt.hist(df_2012.loc[df_2012['cntry'] =='CZ', 'happy'])\n",
    "plt.xlabel('People happiness in Czech Republic')\n",
    "\n",
    "plt.subplot(2, 3, 6)\n",
    "\n",
    "plt.hist(df_2012.loc[df_2012['cntry'] =='DE', 'happy'])\n",
    "plt.xlabel('People happiness in Germany')\n",
    "\n",
    "plt.suptitle('Data Collected in 2012', size = 16)\n",
    "plt.show()"
   ]
  },
  {
   "cell_type": "markdown",
   "metadata": {},
   "source": [
    "Most of the graphs for the different countries are negatively skewed, except for the Czech Republic."
   ]
  },
  {
   "cell_type": "code",
   "execution_count": 91,
   "metadata": {},
   "outputs": [
    {
     "data": {
      "image/png": "[encoded data removed]",
      "text/plain": [
       "<matplotlib.figure.Figure at 0x1171a7d68>"
      ]
     },
     "metadata": {},
     "output_type": "display_data"
    }
   ],
   "source": [
    "plt.figure(figsize=(15, 8))\n",
    "plt.subplot(2, 3, 1)\n",
    "plt.hist(df_2014.loc[df_2014['cntry'] =='ES', 'happy'])\n",
    "plt.xlabel('People happiness in Spain')\n",
    "\n",
    "\n",
    "plt.subplot(2, 3, 2)\n",
    "\n",
    "plt.hist(df_2014.loc[df_2014['cntry'] =='SE', 'happy'])\n",
    "plt.xlabel('People happiness in Sweden')\n",
    "\n",
    "plt.subplot(2, 3, 3)\n",
    "\n",
    "plt.hist(df_2014.loc[df_2014['cntry'] =='CH', 'happy'])\n",
    "plt.xlabel('People happiness in Switzerland')\n",
    "\n",
    "\n",
    "plt.subplot(2, 3, 4)\n",
    "plt.hist(df_2014.loc[df_2014['cntry'] =='NO', 'happy'])\n",
    "plt.xlabel('People happiness in Norway')\n",
    "\n",
    "\n",
    "plt.subplot(2, 3, 5)\n",
    "\n",
    "plt.hist(df_2014.loc[df_2014['cntry'] =='CZ', 'happy'])\n",
    "plt.xlabel('People happiness in Czech Republic')\n",
    "\n",
    "plt.subplot(2, 3, 6)\n",
    "\n",
    "plt.hist(df_2014.loc[df_2014['cntry'] =='DE', 'happy'])\n",
    "plt.xlabel('People happiness in Germany')\n",
    "\n",
    "plt.suptitle('Data Collected in 2014', size = 16)\n",
    "plt.show()"
   ]
  },
  {
   "cell_type": "code",
   "execution_count": 81,
   "metadata": {},
   "outputs": [
    {
     "name": "stdout",
     "output_type": "stream",
     "text": [
      "For Spain we have KruskalResult(statistic=4.0891625936314551, pvalue=0.043159020047969641)\n",
      "\n",
      "For Sweden we have KruskalResult(statistic=0.049137438408231052, pvalue=0.82457104991493357)\n",
      "\n",
      "For Switerzeland we have KruskalResult(statistic=0.24408334714157301, pvalue=0.62127233725833042)\n",
      "\n",
      "For Norway we have KruskalResult(statistic=18.877181680055934, pvalue=1.3941031229053593e-05)\n",
      "\n",
      "For Germany we have KruskalResult(statistic=0.39056749122656015, pvalue=0.53200125505866203)\n",
      "\n",
      "For Czech Republic we have Ttest_indResult(statistic=-1.2030788199274558, pvalue=0.22916253914803522)\n"
     ]
    }
   ],
   "source": [
    "# Print the test statistic followed by the probability of getting this result\n",
    "# if the groups were not different.\n",
    "print('For Spain we have', stats.kruskal(\n",
    "    df_2012.loc[df_2012['cntry'] =='ES', 'happy'],\n",
    "    df_2014.loc[df_2014['cntry'] =='ES', 'happy']))\n",
    "\n",
    "print('\\nFor Sweden we have', stats.kruskal(\n",
    "    df_2012.loc[df_2012['cntry'] =='SE', 'happy'],\n",
    "    df_2014.loc[df_2014['cntry'] =='SE', 'happy']))\n",
    "\n",
    "print('\\nFor Switerzeland we have', stats.kruskal(\n",
    "    df_2012.loc[df_2012['cntry'] =='CH', 'happy'],\n",
    "    df_2014.loc[df_2014['cntry'] =='CH', 'happy']))\n",
    "\n",
    "print('\\nFor Norway we have', stats.kruskal(\n",
    "    df_2012.loc[df_2012['cntry'] =='NO', 'happy'],\n",
    "    df_2014.loc[df_2014['cntry'] =='NO', 'happy']))\n",
    "\n",
    "\n",
    "print('\\nFor Germany we have', stats.kruskal(\n",
    "    df_2012.loc[df_2012['cntry'] =='DE', 'happy'],\n",
    "    df_2014.loc[df_2014['cntry'] =='DE', 'happy']))\n",
    "\n",
    "\n",
    "### Using T-test b/c parametric\n",
    "print('\\nFor Czech Republic we have', stats.ttest_ind(\n",
    "    df_2012.loc[df_2012['cntry'] =='CZ', 'happy'],\n",
    "    df_2014.loc[df_2014['cntry'] =='CZ', 'happy']))"
   ]
  },
  {
   "cell_type": "markdown",
   "metadata": {},
   "source": [
    "__pvalue < 0.05__  \n",
    "For Spain   \n",
    "So we can say that the population are differrent.      \n",
    "\n",
    "__pvalue > 0.05__    \n",
    "For Sweden, Switzerland, Norway, Germany and the Czech Republic.   \n",
    "So for them there is a 50% chance or more that the population are similar.     "
   ]
  },
  {
   "cell_type": "code",
   "execution_count": 122,
   "metadata": {},
   "outputs": [
    {
     "data": {
      "text/plain": [
       "cntry\n",
       "CH    0.028461\n",
       "CZ    0.130699\n",
       "DE    0.428571\n",
       "ES   -0.128607\n",
       "NO   -0.335157\n",
       "SE    0.039648\n",
       "Name: happy, dtype: float64"
      ]
     },
     "execution_count": 122,
     "metadata": {},
     "output_type": "execute_result"
    }
   ],
   "source": [
    "happy_2012  =  df_2012.groupby(df_2012['cntry'])['happy'].mean()\n",
    "happy_2014  =  df_2014.groupby(df_2014['cntry'])['happy'].mean()\n",
    "\n",
    "happy_2014 - happy_2012"
   ]
  },
  {
   "cell_type": "markdown",
   "metadata": {},
   "source": [
    "For Spain and Norway, there is a decrease in people's happiness.     \n",
    "For Switerzealnd and Sweden there doesn't seem to be any noticeable changes in people's trust.   \n",
    "For the others there is an increase in people's happiness.    "
   ]
  },
  {
   "cell_type": "markdown",
   "metadata": {},
   "source": [
    "## Q3. Who reported watching more TV in 2012, men or women?"
   ]
  },
  {
   "cell_type": "code",
   "execution_count": 121,
   "metadata": {
    "scrolled": true
   },
   "outputs": [
    {
     "data": {
      "image/png": "[encoded data removed]",
      "text/plain": [
       "<matplotlib.figure.Figure at 0x11344b240>"
      ]
     },
     "metadata": {},
     "output_type": "display_data"
    }
   ],
   "source": [
    "plt.figure(figsize=(15, 4))\n",
    "plt.subplot(1, 2, 1)\n",
    "plt.hist(df_2012.loc[df_2012['gndr'] == 1, 'tvtot'])\n",
    "plt.xlabel('Men Watching TV')\n",
    "\n",
    "\n",
    "plt.subplot(1, 2, 2)\n",
    "\n",
    "plt.hist(df_2012.loc[df_2012['gndr'] == 2, 'tvtot'])\n",
    "plt.xlabel('Women Watching TV')\n",
    "\n",
    "plt.suptitle('Data Collected in 2012', size = 16)\n",
    "plt.show()"
   ]
  },
  {
   "cell_type": "markdown",
   "metadata": {},
   "source": [
    "The both look normally or more uniformly distributed.  "
   ]
  },
  {
   "cell_type": "code",
   "execution_count": 98,
   "metadata": {},
   "outputs": [
    {
     "name": "stdout",
     "output_type": "stream",
     "text": [
      "\n",
      "For TV Watching between men and women we have \n",
      " Ttest_indResult(statistic=-0.69000121725915342, pvalue=0.49023070220255527)\n"
     ]
    }
   ],
   "source": [
    "### Using T-test b/c parametric\n",
    "print('\\nFor TV Watching between men and women we have \\n', stats.ttest_ind(\n",
    "    df_2012.loc[df_2012['gndr'] ==1 , 'tvtot'],\n",
    "    df_2012.loc[df_2012['gndr'] ==2, 'tvtot']))"
   ]
  },
  {
   "cell_type": "markdown",
   "metadata": {},
   "source": [
    "__pvalue > 0.05__    \n",
    "There is a 49% chance or more that the population are similar.     "
   ]
  },
  {
   "cell_type": "code",
   "execution_count": 111,
   "metadata": {},
   "outputs": [
    {
     "data": {
      "text/plain": [
       "-0.042427657407178909"
      ]
     },
     "execution_count": 111,
     "metadata": {},
     "output_type": "execute_result"
    }
   ],
   "source": [
    "Men_2012  =  df_2012.groupby(df_2012['gndr'])['tvtot'].mean()[1]\n",
    "Women_2012  =  df_2012.groupby( df_2012['gndr'])['tvtot'].mean()[2]\n",
    "\n",
    "Men_2012- Women_2012"
   ]
  },
  {
   "cell_type": "markdown",
   "metadata": {},
   "source": [
    "It looks like women watched more TV in 2012."
   ]
  },
  {
   "cell_type": "markdown",
   "metadata": {},
   "source": [
    "## Q4. Who was more likely to believe people were fair in 2012, people living with a partner or people living alone?"
   ]
  },
  {
   "cell_type": "code",
   "execution_count": 120,
   "metadata": {
    "scrolled": true
   },
   "outputs": [
    {
     "data": {
      "image/png": "[encoded data removed]",
      "text/plain": [
       "<matplotlib.figure.Figure at 0x11354c240>"
      ]
     },
     "metadata": {},
     "output_type": "display_data"
    }
   ],
   "source": [
    "plt.figure(figsize=(15, 4))\n",
    "plt.subplot(1, 2, 1)\n",
    "plt.hist(df_2012.loc[df_2012['partner'] == 1, 'pplfair'])\n",
    "plt.xlabel('Fairness of people Living with Partner')\n",
    "\n",
    "\n",
    "plt.subplot(1, 2, 2)\n",
    "\n",
    "plt.hist(df_2012.loc[df_2012['partner'] == 2, 'pplfair'])\n",
    "plt.xlabel('Fairness of people Living without Partner')\n",
    "\n",
    "plt.suptitle('Data Collected in 2012', size = 16)\n",
    "plt.show()"
   ]
  },
  {
   "cell_type": "markdown",
   "metadata": {},
   "source": [
    "The both look negatively distributed.  "
   ]
  },
  {
   "cell_type": "code",
   "execution_count": 117,
   "metadata": {},
   "outputs": [
    {
     "name": "stdout",
     "output_type": "stream",
     "text": [
      "\n",
      "For TV Watching between men and women we have \n",
      " KruskalResult(statistic=14.02005857012386, pvalue=0.00018087084877865917)\n"
     ]
    }
   ],
   "source": [
    "### Using T-test b/c parametric\n",
    "print('\\nFor TV Watching between men and women we have \\n', stats.kruskal(\n",
    "    df_2012.loc[df_2012['partner'] ==1 , 'pplfair'],\n",
    "    df_2012.loc[df_2012['partner'] ==2, 'pplfair']))"
   ]
  },
  {
   "cell_type": "markdown",
   "metadata": {},
   "source": [
    "__pvalue < 0.05__    \n",
    "We can say that the populations are different.     "
   ]
  },
  {
   "cell_type": "code",
   "execution_count": 119,
   "metadata": {},
   "outputs": [
    {
     "data": {
      "text/plain": [
       "-0.22475866105819886"
      ]
     },
     "execution_count": 119,
     "metadata": {},
     "output_type": "execute_result"
    }
   ],
   "source": [
    "With_partner  =  df_2012.groupby(df_2012['partner'])['pplfair'].mean()[1]\n",
    "Without_partner  =  df_2012.groupby( df_2012['partner'])['pplfair'].mean()[2]\n",
    "\n",
    "Without_partner - With_partner"
   ]
  },
  {
   "cell_type": "markdown",
   "metadata": {},
   "source": [
    "We can say that people living with partner are more fair than those living without a partner."
   ]
  },
  {
   "cell_type": "markdown",
   "metadata": {},
   "source": [
    "## Q5. Pick three or four of the countries in the sample and compare how often people met socially in 2014. Are there differences, and if so, which countries stand out?"
   ]
  },
  {
   "cell_type": "code",
   "execution_count": 123,
   "metadata": {},
   "outputs": [
    {
     "data": {
      "image/png": "[encoded data removed]",
      "text/plain": [
       "<matplotlib.figure.Figure at 0x11809c048>"
      ]
     },
     "metadata": {},
     "output_type": "display_data"
    }
   ],
   "source": [
    "plt.figure(figsize=(15, 5))\n",
    "plt.subplot(1, 3, 1)\n",
    "plt.hist(df_2014.loc[df_2014['cntry'] =='ES', 'sclmeet'])\n",
    "plt.xlabel('People meeting Socially in Spain')\n",
    "\n",
    "\n",
    "plt.subplot(1, 3, 2)\n",
    "\n",
    "plt.hist(df_2014.loc[df_2014['cntry'] =='CH', 'sclmeet'])\n",
    "plt.xlabel('People meeting Socially in Switzerland')\n",
    "\n",
    "plt.subplot(1, 3, 3)\n",
    "\n",
    "plt.hist(df_2014.loc[df_2014['cntry'] =='NO', 'sclmeet'])\n",
    "plt.xlabel('People meeting Socially in Norway')\n",
    "\n",
    "plt.suptitle('Data Collected in 2014', size = 16)\n",
    "plt.show()"
   ]
  },
  {
   "cell_type": "markdown",
   "metadata": {},
   "source": [
    "The look negatively distributed.  "
   ]
  },
  {
   "cell_type": "code",
   "execution_count": 125,
   "metadata": {},
   "outputs": [
    {
     "name": "stdout",
     "output_type": "stream",
     "text": [
      "For Spain and Switzerland we have KruskalResult(statistic=6.2344736378748307, pvalue=0.012528682638278613)\n",
      "\n",
      "For Spain and Norway we have KruskalResult(statistic=0.0063416166873908868, pvalue=0.9365281395943037)\n",
      "\n",
      "For Switzerland and Norway we have KruskalResult(statistic=5.7803070272729276, pvalue=0.016206710193594386)\n"
     ]
    }
   ],
   "source": [
    "print('For Spain and Switzerland we have', stats.kruskal(\n",
    "    df_2014.loc[df_2014['cntry'] =='ES', 'sclmeet'],\n",
    "    df_2014.loc[df_2014['cntry'] =='CH', 'sclmeet']))\n",
    "\n",
    "print('\\nFor Spain and Norway we have', stats.kruskal(\n",
    "    df_2014.loc[df_2014['cntry'] =='ES', 'sclmeet'],\n",
    "    df_2014.loc[df_2014['cntry'] =='NO', 'sclmeet']))\n",
    "\n",
    "\n",
    "print('\\nFor Switzerland and Norway we have', stats.kruskal(\n",
    "    df_2014.loc[df_2014['cntry'] =='CH', 'sclmeet'],\n",
    "    df_2014.loc[df_2014['cntry'] =='NO', 'sclmeet']))"
   ]
  },
  {
   "cell_type": "markdown",
   "metadata": {},
   "source": [
    "__pvalue < 0.05__  \n",
    "For Spain vs Switzerland  and Switzerland vs Norway.    \n",
    "So we can say that the population are differrent.      \n",
    "\n",
    "__pvalue > 0.05__    \n",
    "For Spain vs Norway.   \n",
    "So for them there is a 93% chance or more that the population are similar. "
   ]
  },
  {
   "cell_type": "markdown",
   "metadata": {},
   "source": [
    "It looks like Switzerland stands out, how people socially meet there is different than in Spain and Norway. "
   ]
  },
  {
   "cell_type": "markdown",
   "metadata": {},
   "source": [
    "## Q6. Pick three or four of the countries in the sample and compare how often people took part in social activities, relative to others their age, in 2014. Are there differences, and if so, which countries stand out?"
   ]
  },
  {
   "cell_type": "code",
   "execution_count": 131,
   "metadata": {
    "scrolled": true
   },
   "outputs": [
    {
     "name": "stdout",
     "output_type": "stream",
     "text": [
      "For Spain and Switzerland we have Ttest_indResult(statistic=array([ 2.18991846, -3.69594177]), pvalue=array([ 0.02864622,  0.00022501]))\n",
      "\n",
      "For Spain and Norway we have Ttest_indResult(statistic=array([ 1.52169065, -5.52129098]), pvalue=array([  1.28249411e-01,   3.81737742e-08]))\n",
      "\n",
      "For Switzerland and Norway we have Ttest_indResult(statistic=array([-0.57558375, -1.67217796]), pvalue=array([ 0.56498279,  0.09469751]))\n"
     ]
    }
   ],
   "source": [
    "print('For Spain and Switzerland we have', stats.ttest_ind(\n",
    "    df_2014.loc[df_2014['cntry'] =='ES', ['agea','sclact']],\n",
    "    df_2014.loc[df_2014['cntry'] =='CH', ['agea','sclact']]))\n",
    "\n",
    "print('\\nFor Spain and Norway we have', stats.ttest_ind(\n",
    "    df_2014.loc[df_2014['cntry'] =='ES', ['agea','sclact']],\n",
    "    df_2014.loc[df_2014['cntry'] =='NO', ['agea','sclact']]))\n",
    "\n",
    "\n",
    "print('\\nFor Switzerland and Norway we have', stats.ttest_ind(\n",
    "    df_2014.loc[df_2014['cntry'] =='CH', ['agea','sclact']],\n",
    "    df_2014.loc[df_2014['cntry'] =='NO', ['agea','sclact']]))"
   ]
  },
  {
   "cell_type": "markdown",
   "metadata": {},
   "source": [
    "__pvalue < 0.05__  \n",
    "For Spain vs Switzerland, Spain vs Norway and Switzerland vs Norway (social activit)   .    \n",
    "So we can say that the population are differrent.      \n",
    "\n",
    "__pvalue > 0.05__    \n",
    "For Switzerland vs Norway for age of respondents only   \n",
    "So for them there is a 56% chance or more that the population are similar. "
   ]
  },
  {
   "cell_type": "code",
   "execution_count": 132,
   "metadata": {
    "collapsed": true
   },
   "outputs": [],
   "source": [
    "ES_soclact = df_2014[df_2014['cntry'] == 'ES'][['agea','sclact']].mean()\n",
    "CH_soclact = df_2014[df_2014['cntry'] == 'CH'][['agea','sclact']].mean()\n",
    "NO_soclact = df_2014[df_2014['cntry'] == 'NO'][['agea','sclact']].mean()"
   ]
  },
  {
   "cell_type": "code",
   "execution_count": 134,
   "metadata": {},
   "outputs": [
    {
     "data": {
      "text/html": [
       "<div>\n",
       "<style>\n",
       "    .dataframe thead tr:only-child th {\n",
       "        text-align: right;\n",
       "    }\n",
       "\n",
       "    .dataframe thead th {\n",
       "        text-align: left;\n",
       "    }\n",
       "\n",
       "    .dataframe tbody tr th {\n",
       "        vertical-align: top;\n",
       "    }\n",
       "</style>\n",
       "<table border=\"1\" class=\"dataframe\">\n",
       "  <thead>\n",
       "    <tr style=\"text-align: right;\">\n",
       "      <th></th>\n",
       "      <th>agea</th>\n",
       "      <th>sclact</th>\n",
       "    </tr>\n",
       "  </thead>\n",
       "  <tbody>\n",
       "    <tr>\n",
       "      <th>773</th>\n",
       "      <td>-20.978566</td>\n",
       "      <td>-1.374279</td>\n",
       "    </tr>\n",
       "    <tr>\n",
       "      <th>774</th>\n",
       "      <td>18.021434</td>\n",
       "      <td>-0.374279</td>\n",
       "    </tr>\n",
       "    <tr>\n",
       "      <th>775</th>\n",
       "      <td>-0.978566</td>\n",
       "      <td>-2.374279</td>\n",
       "    </tr>\n",
       "    <tr>\n",
       "      <th>776</th>\n",
       "      <td>-2.978566</td>\n",
       "      <td>0.625721</td>\n",
       "    </tr>\n",
       "    <tr>\n",
       "      <th>777</th>\n",
       "      <td>16.021434</td>\n",
       "      <td>0.625721</td>\n",
       "    </tr>\n",
       "  </tbody>\n",
       "</table>\n",
       "</div>"
      ],
      "text/plain": [
       "          agea    sclact\n",
       "773 -20.978566 -1.374279\n",
       "774  18.021434 -0.374279\n",
       "775  -0.978566 -2.374279\n",
       "776  -2.978566  0.625721\n",
       "777  16.021434  0.625721"
      ]
     },
     "execution_count": 134,
     "metadata": {},
     "output_type": "execute_result"
    }
   ],
   "source": [
    "ES_soclact - CH_soclact.head() "
   ]
  },
  {
   "cell_type": "code",
   "execution_count": null,
   "metadata": {
    "collapsed": true
   },
   "outputs": [],
   "source": []
  }
 ],
 "metadata": {
  "kernelspec": {
   "display_name": "Python 3",
   "language": "python",
   "name": "python3"
  },
  "language_info": {
   "codemirror_mode": {
    "name": "ipython",
    "version": 3
   },
   "file_extension": ".py",
   "mimetype": "text/x-python",
   "name": "python",
   "nbconvert_exporter": "python",
   "pygments_lexer": "ipython3",
   "version": "3.6.1"
  },
  "toc": {
   "base_numbering": 1,
   "nav_menu": {},
   "number_sections": true,
   "sideBar": true,
   "skip_h1_title": true,
   "title_cell": "Table of Contents",
   "title_sidebar": "Contents",
   "toc_cell": false,
   "toc_position": {
    "height": "calc(100% - 180px)",
    "left": "10px",
    "top": "150px",
    "width": "273px"
   },
   "toc_section_display": true,
   "toc_window_display": true
  }
 },
 "nbformat": 4,
 "nbformat_minor": 2
}
