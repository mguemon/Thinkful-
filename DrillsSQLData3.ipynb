{
 "cells": [
  {
   "cell_type": "markdown",
   "metadata": {},
   "source": [
    "# Drills - SQL - data access methods\n",
    "## Joins and CTEs"
   ]
  },
  {
   "cell_type": "markdown",
   "metadata": {},
   "source": [
    " Write SQL queries to return:"
   ]
  },
  {
   "cell_type": "markdown",
   "metadata": {},
   "source": [
    "### What are the three longest trips on rainy days?  \n",
    "\n",
    "\n",
    "SELECT  \n",
    "\tt.duration,  \n",
    "\tw.date,  \n",
    "\tw.events  \n",
    "FROM   \n",
    "\ttrips t  \n",
    "JOIN  \n",
    "\tweather w  \n",
    "ON  \n",
    "\tt.zip_code = w.ZIP  \n",
    "WHERE     \n",
    "\tevents like 'Rain'     \n",
    "ORDER BY   \n",
    "\tt.duration desc  \n",
    "LIMIT 3   \n",
    "\n"
   ]
  },
  {
   "cell_type": "markdown",
   "metadata": {},
   "source": [
    "### Which station is empty most often?\n",
    "\n",
    "\n",
    "\n",
    "SELECT   \n",
    "\ts1.station_id,  \n",
    "\ts2.station_id,   \n",
    "\ts2.bikes_available,  \n",
    "\tCOUNT(s1.name) Times_Empty  \n",
    "FROM    \n",
    "\tstations s1   \n",
    "JOIN   \n",
    "\tstatus s2   \n",
    "ON   \n",
    "\ts1.station_id = s2.station_id   \n",
    "WHERE    \n",
    "\tbikes_available = 0   \n",
    "GROUP BY    \n",
    "\ts1.name   \n",
    "ORDER BY 4 DESC    "
   ]
  },
  {
   "cell_type": "markdown",
   "metadata": {},
   "source": [
    "### Return a list of stations with a count of number of trips starting at that station but ordered by dock count.\n",
    "\n",
    "\n",
    "\n",
    "SELECT     \n",
    "\ts.name,  \n",
    "\ts.dockcount,   \n",
    "\tCOUNT(t.start_station) Station_count   \n",
    "FROM    \n",
    "\ttrips t   \n",
    "JOIN    \n",
    "\tstations s   \n",
    "ON   \n",
    "\tt.start_station = s.name   \n",
    "GROUP BY   \n",
    "\tt.start_station   \n",
    "ORDER BY 2    \n",
    "\n"
   ]
  },
  {
   "cell_type": "markdown",
   "metadata": {},
   "source": [
    "### (Challenge) What's the length of the longest trip for each day it rains anywhere?\n",
    "\n",
    "\n",
    "\n",
    "WITH  \n",
    "    locations  \n",
    "AS (  \n",
    "     SELECT  \n",
    "        Date,    \n",
    "\t    Events  \n",
    "     FROM  \n",
    "        weather\n",
    "     WHERE     \n",
    "\t   events like 'Rain' \n",
    "   GROUP BY  Date \t   \n",
    ")\n",
    "SELECT\n",
    "    l.Date,\n",
    "    l.Events,\n",
    "    t.duration\n",
    "FROM\n",
    "    locations l\n",
    "JOIN\n",
    "\tweather w\n",
    "ON\n",
    "\tl.Date = w.Date\n",
    "JOIN\n",
    "    trips t\n",
    "ON\n",
    "    t.zip_code = w.ZIP\n",
    "ORDER  BY \n",
    "        t.duration DESC\n",
    "\n",
    "\t\n"
   ]
  },
  {
   "cell_type": "code",
   "execution_count": null,
   "metadata": {
    "collapsed": true
   },
   "outputs": [],
   "source": []
  }
 ],
 "metadata": {
  "kernelspec": {
   "display_name": "Python 3",
   "language": "python",
   "name": "python3"
  },
  "language_info": {
   "codemirror_mode": {
    "name": "ipython",
    "version": 3
   },
   "file_extension": ".py",
   "mimetype": "text/x-python",
   "name": "python",
   "nbconvert_exporter": "python",
   "pygments_lexer": "ipython3",
   "version": "3.6.1"
  }
 },
 "nbformat": 4,
 "nbformat_minor": 2
}
