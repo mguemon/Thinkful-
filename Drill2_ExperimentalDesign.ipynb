{
 "cells": [
  {
   "cell_type": "markdown",
   "metadata": {},
   "source": [
    "# Drills - Experimental design \n",
    "\n",
    "##  Project: Am I Biased?\n",
    "\n",
    "by: Melissa N "
   ]
  },
  {
   "cell_type": "markdown",
   "metadata": {},
   "source": [
    "For each of the following scenarios, call out the potential biases in the proposed experiment. Do your best to try to discover not only the bias, but the initial design. There is plenty of room for interpretation here, so make sure to state what assumptions you're making."
   ]
  },
  {
   "cell_type": "markdown",
   "metadata": {},
   "source": [
    "### You're testing advertising emails for a bathing suit company and you test one version of the email in February and the other in May."
   ]
  },
  {
   "cell_type": "markdown",
   "metadata": {},
   "source": [
    "Contextual Bias:   \n",
    "The email sent in February may have less response than the email sent in May.  \n",
    "In May people are thinking about summer vacation and thus ready to shop for bathing suits compared to February.    \n",
    "\n",
    "Contextual Bias:   \n",
    "People expect that the people in May will be more likely to be interested because Summer is approaching.    \n",
    "People in February may decide to buy bathing suits then b/c they might be on sales at that point compare to May.   \n",
    "\n",
    "\n"
   ]
  },
  {
   "cell_type": "markdown",
   "metadata": {},
   "source": [
    "### You open a clinic to treat anxiety and find that the people who visit show a higher rate of anxiety than the general population."
   ]
  },
  {
   "cell_type": "markdown",
   "metadata": {},
   "source": [
    "Selection Bias:    \n",
    "This observation may happen b/c the clinic is open and advertised as treating anxiety.      \n",
    "Most of the patients will come because they have anxiety.    \n",
    "The sample space does not represent the general population reason why the result are skewed.   "
   ]
  },
  {
   "cell_type": "markdown",
   "metadata": {},
   "source": [
    "### You launch a new ad billboard based campaign and see an increase in website visits in the first week."
   ]
  },
  {
   "cell_type": "markdown",
   "metadata": {},
   "source": [
    "People will visit more in the first week because of curiosity.  \n",
    "This depends on where the add is placed and if it is somewhere where people who are more likely to use the product will see it.  \n",
    "This may increase the visit for the 1st week but not afterwards because the same people have seen the add and those who are interested have already visited the website.  \n",
    "\n",
    "Maybe should change location to have more people visit the site.   "
   ]
  },
  {
   "cell_type": "markdown",
   "metadata": {},
   "source": [
    "### You launch a loyalty program but see no change in visits in the first week."
   ]
  },
  {
   "cell_type": "markdown",
   "metadata": {},
   "source": [
    "Contextual Bias:  \n",
    "The current loyalty program is good and the new one doesn't bring anything new to the customers.  \n",
    "Reason why there is no visits in the first week. \n",
    "\n",
    "Also the new loyalty program doesn't give any benefits to people who are signing up for the first time.  \n",
    "Reason why they too don't see any benefit in signing up and visiting the website. "
   ]
  },
  {
   "cell_type": "code",
   "execution_count": null,
   "metadata": {
    "collapsed": true
   },
   "outputs": [],
   "source": []
  }
 ],
 "metadata": {
  "kernelspec": {
   "display_name": "Python 3",
   "language": "python",
   "name": "python3"
  },
  "language_info": {
   "codemirror_mode": {
    "name": "ipython",
    "version": 3
   },
   "file_extension": ".py",
   "mimetype": "text/x-python",
   "name": "python",
   "nbconvert_exporter": "python",
   "pygments_lexer": "ipython3",
   "version": "3.6.1"
  }
 },
 "nbformat": 4,
 "nbformat_minor": 2
}
