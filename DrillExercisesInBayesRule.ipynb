{
 "cells": [
  {
   "cell_type": "code",
   "execution_count": 1,
   "metadata": {
    "collapsed": true
   },
   "outputs": [],
   "source": [
    "import matplotlib.pyplot as plt\n",
    "import numpy as np\n",
    "import pandas as pd \n",
    "import statistics\n",
    "%matplotlib inline\n",
    "plt.rcParams['figure.figsize'] = (10.0, 5.0)"
   ]
  },
  {
   "cell_type": "markdown",
   "metadata": {},
   "source": [
    "FP = False Positive   \n",
    "TP = True Positive  \n",
    "S  = Sufferer of Thripshaw's \n",
    "NS = Non-sufferer of Thripshaw's\n",
    "\n",
    "\n",
    "\n",
    "P(TP) = 0.98  \n",
    "P(FP) = 0.10   \n",
    "P(S)  = 0.005 \n",
    "P(NS) = 1 - 0.005 = 0.995 \n",
    "\n",
    "Suppose that the test is now administered to a person whose disease status is unknown.  \n",
    "Calculate the probability that the test will:    \n",
    "\n",
    "Positive:  \n",
    "P(Positive) = (.005)(.98) + (.995)(.98) = .98\n",
    "\n",
    "\n",
    "\n",
    "Correctly diagnose a sufferer of Thripshaw's:  \n",
    "P(TP & S)   = (.005)(.98) = 0.0049  \n",
    "\n",
    "\n",
    "\n",
    "Correctly identify a non-sufferer of Thripshaw's:  \n",
    "P(FP & NS)  = (.995)(.10) = 0.0995\n",
    "\n",
    "\n",
    "\n",
    "Misclassify the person:  \n",
    "P(TP & NS)  = (.995)(.98) = .9751\n",
    "\n"
   ]
  },
  {
   "cell_type": "code",
   "execution_count": null,
   "metadata": {
    "collapsed": true
   },
   "outputs": [],
   "source": []
  }
 ],
 "metadata": {
  "kernelspec": {
   "display_name": "Python 3",
   "language": "python",
   "name": "python3"
  },
  "language_info": {
   "codemirror_mode": {
    "name": "ipython",
    "version": 3
   },
   "file_extension": ".py",
   "mimetype": "text/x-python",
   "name": "python",
   "nbconvert_exporter": "python",
   "pygments_lexer": "ipython3",
   "version": "3.6.1"
  }
 },
 "nbformat": 4,
 "nbformat_minor": 2
}
