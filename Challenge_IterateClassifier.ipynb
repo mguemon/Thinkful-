{
 "cells": [
  {
   "cell_type": "markdown",
   "metadata": {},
   "source": [
    "# Building your first model: naive Bayes\n",
    "\n",
    "## Challenge: Iterate and evaluate your classifier\n",
    "by: Melissa N \n",
    "\n",
    "Data: [dataset of sentiment labelled sentences](https://archive.ics.uci.edu/ml/datasets/Sentiment+Labelled+Sentences#)"
   ]
  },
  {
   "cell_type": "code",
   "execution_count": 1,
   "metadata": {
    "collapsed": true
   },
   "outputs": [],
   "source": [
    "%matplotlib inline\n",
    "import numpy as np\n",
    "import pandas as pd\n",
    "import scipy\n",
    "import sklearn\n",
    "import matplotlib.pyplot as plt\n",
    "import seaborn as sns\n",
    "from IPython.display import display"
   ]
  },
  {
   "cell_type": "markdown",
   "metadata": {},
   "source": [
    "## AMAZON CLASSIFIER  \n",
    "\n",
    "The data is a text file that contains review that were taken Amazon. In it we have the customer comment or review on the product they purchased. And also their grade of  say product, which is either 1 for good (liked product) or 0 for bad (disliked product). "
   ]
  },
  {
   "cell_type": "code",
   "execution_count": 2,
   "metadata": {
    "collapsed": true
   },
   "outputs": [],
   "source": [
    "# Grab and process the raw data for amazon.\n",
    "data_1 = open(\"amazon_cells_labelled.txt\")\n",
    "\n",
    "df_a = pd.read_csv(data_1, delimiter= '\\t', header=None)\n",
    "df_a.columns = ['review', 'sentiment']\n"
   ]
  },
  {
   "cell_type": "code",
   "execution_count": 3,
   "metadata": {
    "collapsed": true
   },
   "outputs": [],
   "source": [
    "#Make everything lower case...\n",
    "\n",
    "df_a['review'] = df_a['review'].str.lower()\n",
    "\n",
    "#Remove punctuation...\n",
    "\n",
    "df_a['review'] = df_a['review'].str.replace(r'\\.|\\!|\\?|\\'|,|-|\\(|\\)', \"\",)"
   ]
  },
  {
   "cell_type": "markdown",
   "metadata": {},
   "source": [
    "After making all the words in our data lower case and removing the punctuation to make it easier to see what words are in the good reviewss.  \n",
    "We will then pick out the words we believe will make it easier to be able to predict the good reviews.   "
   ]
  },
  {
   "cell_type": "code",
   "execution_count": 4,
   "metadata": {},
   "outputs": [
    {
     "data": {
      "text/plain": [
       "1                             good case excellent value\n",
       "2                                 great for the jawbone\n",
       "4                                      the mic is great\n",
       "7               if you are razr owneryou must have this\n",
       "10                       and the sound quality is great\n",
       "11    he was very impressed when going from the orig...\n",
       "13                             very good quality though\n",
       "15    highly recommend for any one who has a blue to...\n",
       "17                                       so far so good\n",
       "18                                          works great\n",
       "Name: review, dtype: object"
      ]
     },
     "metadata": {},
     "output_type": "display_data"
    }
   ],
   "source": [
    "display(df_a['review'][df_a['sentiment']==1].head(10))"
   ]
  },
  {
   "cell_type": "markdown",
   "metadata": {},
   "source": [
    "Let's Find the Good review meaning the ones with sentiment = 0.\n",
    "This mean we will create a file for our model that will contain some words that we believe are usually found in good reviews."
   ]
  },
  {
   "cell_type": "code",
   "execution_count": 5,
   "metadata": {
    "collapsed": true
   },
   "outputs": [],
   "source": [
    "keywords_a = ['great', 'good', 'excellent', 'awesome', 'recommend', 'fast', 'love', 'nice','well','ideal','highly','must have','loved','beautiful','super' ]\n",
    "\n",
    "for key in keywords_a:\n",
    "    # Note that we add spaces around the key so that we're getting the word,\n",
    "    # not just pattern matching.\n",
    "    df_a[str(key)] = df_a.review.str.contains(\n",
    "        ' ' + str(key) + ' ',\n",
    "        case=False\n",
    "    )"
   ]
  },
  {
   "cell_type": "code",
   "execution_count": 6,
   "metadata": {},
   "outputs": [
    {
     "data": {
      "text/plain": [
       "['awesome',\n",
       " 'beautiful',\n",
       " 'excellent',\n",
       " 'fast',\n",
       " 'good',\n",
       " 'great',\n",
       " 'highly',\n",
       " 'ideal',\n",
       " 'love',\n",
       " 'loved',\n",
       " 'must have',\n",
       " 'nice',\n",
       " 'recommend',\n",
       " 'super',\n",
       " 'well']"
      ]
     },
     "execution_count": 6,
     "metadata": {},
     "output_type": "execute_result"
    }
   ],
   "source": [
    "sorted(keywords_a)"
   ]
  },
  {
   "cell_type": "code",
   "execution_count": 7,
   "metadata": {},
   "outputs": [
    {
     "data": {
      "text/html": [
       "<div>\n",
       "<style>\n",
       "    .dataframe thead tr:only-child th {\n",
       "        text-align: right;\n",
       "    }\n",
       "\n",
       "    .dataframe thead th {\n",
       "        text-align: left;\n",
       "    }\n",
       "\n",
       "    .dataframe tbody tr th {\n",
       "        vertical-align: top;\n",
       "    }\n",
       "</style>\n",
       "<table border=\"1\" class=\"dataframe\">\n",
       "  <thead>\n",
       "    <tr style=\"text-align: right;\">\n",
       "      <th></th>\n",
       "      <th>review</th>\n",
       "      <th>sentiment</th>\n",
       "      <th>great</th>\n",
       "      <th>good</th>\n",
       "      <th>excellent</th>\n",
       "      <th>awesome</th>\n",
       "      <th>recommend</th>\n",
       "      <th>fast</th>\n",
       "      <th>love</th>\n",
       "      <th>nice</th>\n",
       "      <th>well</th>\n",
       "      <th>ideal</th>\n",
       "      <th>highly</th>\n",
       "      <th>must have</th>\n",
       "      <th>loved</th>\n",
       "      <th>beautiful</th>\n",
       "      <th>super</th>\n",
       "    </tr>\n",
       "  </thead>\n",
       "  <tbody>\n",
       "    <tr>\n",
       "      <th>0</th>\n",
       "      <td>so there is no way for me to plug it in here i...</td>\n",
       "      <td>0</td>\n",
       "      <td>False</td>\n",
       "      <td>False</td>\n",
       "      <td>False</td>\n",
       "      <td>False</td>\n",
       "      <td>False</td>\n",
       "      <td>False</td>\n",
       "      <td>False</td>\n",
       "      <td>False</td>\n",
       "      <td>False</td>\n",
       "      <td>False</td>\n",
       "      <td>False</td>\n",
       "      <td>False</td>\n",
       "      <td>False</td>\n",
       "      <td>False</td>\n",
       "      <td>False</td>\n",
       "    </tr>\n",
       "    <tr>\n",
       "      <th>1</th>\n",
       "      <td>good case excellent value</td>\n",
       "      <td>1</td>\n",
       "      <td>False</td>\n",
       "      <td>False</td>\n",
       "      <td>True</td>\n",
       "      <td>False</td>\n",
       "      <td>False</td>\n",
       "      <td>False</td>\n",
       "      <td>False</td>\n",
       "      <td>False</td>\n",
       "      <td>False</td>\n",
       "      <td>False</td>\n",
       "      <td>False</td>\n",
       "      <td>False</td>\n",
       "      <td>False</td>\n",
       "      <td>False</td>\n",
       "      <td>False</td>\n",
       "    </tr>\n",
       "    <tr>\n",
       "      <th>2</th>\n",
       "      <td>great for the jawbone</td>\n",
       "      <td>1</td>\n",
       "      <td>False</td>\n",
       "      <td>False</td>\n",
       "      <td>False</td>\n",
       "      <td>False</td>\n",
       "      <td>False</td>\n",
       "      <td>False</td>\n",
       "      <td>False</td>\n",
       "      <td>False</td>\n",
       "      <td>False</td>\n",
       "      <td>False</td>\n",
       "      <td>False</td>\n",
       "      <td>False</td>\n",
       "      <td>False</td>\n",
       "      <td>False</td>\n",
       "      <td>False</td>\n",
       "    </tr>\n",
       "    <tr>\n",
       "      <th>3</th>\n",
       "      <td>tied to charger for conversations lasting more...</td>\n",
       "      <td>0</td>\n",
       "      <td>False</td>\n",
       "      <td>False</td>\n",
       "      <td>False</td>\n",
       "      <td>False</td>\n",
       "      <td>False</td>\n",
       "      <td>False</td>\n",
       "      <td>False</td>\n",
       "      <td>False</td>\n",
       "      <td>False</td>\n",
       "      <td>False</td>\n",
       "      <td>False</td>\n",
       "      <td>False</td>\n",
       "      <td>False</td>\n",
       "      <td>False</td>\n",
       "      <td>False</td>\n",
       "    </tr>\n",
       "    <tr>\n",
       "      <th>4</th>\n",
       "      <td>the mic is great</td>\n",
       "      <td>1</td>\n",
       "      <td>False</td>\n",
       "      <td>False</td>\n",
       "      <td>False</td>\n",
       "      <td>False</td>\n",
       "      <td>False</td>\n",
       "      <td>False</td>\n",
       "      <td>False</td>\n",
       "      <td>False</td>\n",
       "      <td>False</td>\n",
       "      <td>False</td>\n",
       "      <td>False</td>\n",
       "      <td>False</td>\n",
       "      <td>False</td>\n",
       "      <td>False</td>\n",
       "      <td>False</td>\n",
       "    </tr>\n",
       "  </tbody>\n",
       "</table>\n",
       "</div>"
      ],
      "text/plain": [
       "                                              review  sentiment  great   good  \\\n",
       "0  so there is no way for me to plug it in here i...          0  False  False   \n",
       "1                          good case excellent value          1  False  False   \n",
       "2                              great for the jawbone          1  False  False   \n",
       "3  tied to charger for conversations lasting more...          0  False  False   \n",
       "4                                   the mic is great          1  False  False   \n",
       "\n",
       "   excellent  awesome  recommend   fast   love   nice   well  ideal  highly  \\\n",
       "0      False    False      False  False  False  False  False  False   False   \n",
       "1       True    False      False  False  False  False  False  False   False   \n",
       "2      False    False      False  False  False  False  False  False   False   \n",
       "3      False    False      False  False  False  False  False  False   False   \n",
       "4      False    False      False  False  False  False  False  False   False   \n",
       "\n",
       "   must have  loved  beautiful  super  \n",
       "0      False  False      False  False  \n",
       "1      False  False      False  False  \n",
       "2      False  False      False  False  \n",
       "3      False  False      False  False  \n",
       "4      False  False      False  False  "
      ]
     },
     "metadata": {},
     "output_type": "display_data"
    }
   ],
   "source": [
    "display(df_a.head())"
   ]
  },
  {
   "cell_type": "code",
   "execution_count": 8,
   "metadata": {
    "collapsed": true
   },
   "outputs": [],
   "source": [
    "df_a['sentiment'] = (df_a['sentiment'] == 1)\n",
    "# Note that if you run this cell a second time everything will become false.\n",
    "# So... Don't."
   ]
  },
  {
   "cell_type": "code",
   "execution_count": 9,
   "metadata": {},
   "outputs": [
    {
     "data": {
      "text/html": [
       "<div>\n",
       "<style>\n",
       "    .dataframe thead tr:only-child th {\n",
       "        text-align: right;\n",
       "    }\n",
       "\n",
       "    .dataframe thead th {\n",
       "        text-align: left;\n",
       "    }\n",
       "\n",
       "    .dataframe tbody tr th {\n",
       "        vertical-align: top;\n",
       "    }\n",
       "</style>\n",
       "<table border=\"1\" class=\"dataframe\">\n",
       "  <thead>\n",
       "    <tr style=\"text-align: right;\">\n",
       "      <th></th>\n",
       "      <th>review</th>\n",
       "      <th>sentiment</th>\n",
       "      <th>great</th>\n",
       "      <th>good</th>\n",
       "      <th>excellent</th>\n",
       "      <th>awesome</th>\n",
       "      <th>recommend</th>\n",
       "      <th>fast</th>\n",
       "      <th>love</th>\n",
       "      <th>nice</th>\n",
       "      <th>well</th>\n",
       "      <th>ideal</th>\n",
       "      <th>highly</th>\n",
       "      <th>must have</th>\n",
       "      <th>loved</th>\n",
       "      <th>beautiful</th>\n",
       "      <th>super</th>\n",
       "    </tr>\n",
       "  </thead>\n",
       "  <tbody>\n",
       "    <tr>\n",
       "      <th>0</th>\n",
       "      <td>so there is no way for me to plug it in here i...</td>\n",
       "      <td>False</td>\n",
       "      <td>False</td>\n",
       "      <td>False</td>\n",
       "      <td>False</td>\n",
       "      <td>False</td>\n",
       "      <td>False</td>\n",
       "      <td>False</td>\n",
       "      <td>False</td>\n",
       "      <td>False</td>\n",
       "      <td>False</td>\n",
       "      <td>False</td>\n",
       "      <td>False</td>\n",
       "      <td>False</td>\n",
       "      <td>False</td>\n",
       "      <td>False</td>\n",
       "      <td>False</td>\n",
       "    </tr>\n",
       "    <tr>\n",
       "      <th>1</th>\n",
       "      <td>good case excellent value</td>\n",
       "      <td>True</td>\n",
       "      <td>False</td>\n",
       "      <td>False</td>\n",
       "      <td>True</td>\n",
       "      <td>False</td>\n",
       "      <td>False</td>\n",
       "      <td>False</td>\n",
       "      <td>False</td>\n",
       "      <td>False</td>\n",
       "      <td>False</td>\n",
       "      <td>False</td>\n",
       "      <td>False</td>\n",
       "      <td>False</td>\n",
       "      <td>False</td>\n",
       "      <td>False</td>\n",
       "      <td>False</td>\n",
       "    </tr>\n",
       "    <tr>\n",
       "      <th>2</th>\n",
       "      <td>great for the jawbone</td>\n",
       "      <td>True</td>\n",
       "      <td>False</td>\n",
       "      <td>False</td>\n",
       "      <td>False</td>\n",
       "      <td>False</td>\n",
       "      <td>False</td>\n",
       "      <td>False</td>\n",
       "      <td>False</td>\n",
       "      <td>False</td>\n",
       "      <td>False</td>\n",
       "      <td>False</td>\n",
       "      <td>False</td>\n",
       "      <td>False</td>\n",
       "      <td>False</td>\n",
       "      <td>False</td>\n",
       "      <td>False</td>\n",
       "    </tr>\n",
       "    <tr>\n",
       "      <th>3</th>\n",
       "      <td>tied to charger for conversations lasting more...</td>\n",
       "      <td>False</td>\n",
       "      <td>False</td>\n",
       "      <td>False</td>\n",
       "      <td>False</td>\n",
       "      <td>False</td>\n",
       "      <td>False</td>\n",
       "      <td>False</td>\n",
       "      <td>False</td>\n",
       "      <td>False</td>\n",
       "      <td>False</td>\n",
       "      <td>False</td>\n",
       "      <td>False</td>\n",
       "      <td>False</td>\n",
       "      <td>False</td>\n",
       "      <td>False</td>\n",
       "      <td>False</td>\n",
       "    </tr>\n",
       "    <tr>\n",
       "      <th>4</th>\n",
       "      <td>the mic is great</td>\n",
       "      <td>True</td>\n",
       "      <td>False</td>\n",
       "      <td>False</td>\n",
       "      <td>False</td>\n",
       "      <td>False</td>\n",
       "      <td>False</td>\n",
       "      <td>False</td>\n",
       "      <td>False</td>\n",
       "      <td>False</td>\n",
       "      <td>False</td>\n",
       "      <td>False</td>\n",
       "      <td>False</td>\n",
       "      <td>False</td>\n",
       "      <td>False</td>\n",
       "      <td>False</td>\n",
       "      <td>False</td>\n",
       "    </tr>\n",
       "  </tbody>\n",
       "</table>\n",
       "</div>"
      ],
      "text/plain": [
       "                                              review  sentiment  great   good  \\\n",
       "0  so there is no way for me to plug it in here i...      False  False  False   \n",
       "1                          good case excellent value       True  False  False   \n",
       "2                              great for the jawbone       True  False  False   \n",
       "3  tied to charger for conversations lasting more...      False  False  False   \n",
       "4                                   the mic is great       True  False  False   \n",
       "\n",
       "   excellent  awesome  recommend   fast   love   nice   well  ideal  highly  \\\n",
       "0      False    False      False  False  False  False  False  False   False   \n",
       "1       True    False      False  False  False  False  False  False   False   \n",
       "2      False    False      False  False  False  False  False  False   False   \n",
       "3      False    False      False  False  False  False  False  False   False   \n",
       "4      False    False      False  False  False  False  False  False   False   \n",
       "\n",
       "   must have  loved  beautiful  super  \n",
       "0      False  False      False  False  \n",
       "1      False  False      False  False  \n",
       "2      False  False      False  False  \n",
       "3      False  False      False  False  \n",
       "4      False  False      False  False  "
      ]
     },
     "metadata": {},
     "output_type": "display_data"
    }
   ],
   "source": [
    "display(df_a.head())"
   ]
  },
  {
   "cell_type": "code",
   "execution_count": 10,
   "metadata": {},
   "outputs": [
    {
     "data": {
      "image/png": "[encoded data removed]",
      "text/plain": [
       "<matplotlib.figure.Figure at 0x119e33c88>"
      ]
     },
     "metadata": {},
     "output_type": "display_data"
    }
   ],
   "source": [
    "plt.figure(figsize=(18, 18))\n",
    "sns.heatmap(df_a.corr(),vmax=.8, square=True, linecolor='black', linewidths=1, annot=True)\n",
    "plt.show()"
   ]
  },
  {
   "cell_type": "markdown",
   "metadata": {},
   "source": [
    "Looking at the correlation matrix,   \n",
    " \n",
    "During our iteration, we had the feature \"highly\" in but \n",
    "\n",
    "We see that the correlation between \"highly\" and \"recommend\" is 0.43. This mean that in many of the reviews that have recommend, they also for the most part contain the term highly. This makes sense since people will usually write that they \"highly recommed\" a produt if they like it. \n",
    "\n",
    "\n",
    "We see that the correlation between \"highly\" and \"excellent\" is 0.12. This mean that in many of the reviews that the word \"highly\" in it, we can also find the word \"excellent\".\n",
    "\n",
    "This is why at the end we removed \"Highly\". \n",
    "\n",
    "We see that the correlation between sentiment and \"super\" is -3.1e-19. This is so small that is not a correlation.   \n",
    "\n",
    "This is why at the end we removed \"Super\".\n",
    "\n",
    "\n",
    "The features with a high correlation with the outcome were \"great\", \"love\", \"good\" and \"nice\".  \n",
    "If we see a review with those words in it, there is high likely hood that the review is a good review.  "
   ]
  },
  {
   "cell_type": "code",
   "execution_count": 11,
   "metadata": {
    "collapsed": true
   },
   "outputs": [],
   "source": [
    "data = df_a[keywords_a]\n",
    "target = df_a['sentiment']"
   ]
  },
  {
   "cell_type": "code",
   "execution_count": 12,
   "metadata": {},
   "outputs": [
    {
     "name": "stdout",
     "output_type": "stream",
     "text": [
      "Number of mislabeled points out of a total 1000 points : 387\n"
     ]
    }
   ],
   "source": [
    "# Our data is binary / boolean, so we're importing the Bernoulli classifier.\n",
    "from sklearn.naive_bayes import BernoulliNB\n",
    "\n",
    "# Instantiate our model and store it in a new variable.\n",
    "bnb = BernoulliNB()\n",
    "\n",
    "# Fit our model to the data.\n",
    "bnb.fit(data, target)\n",
    "\n",
    "# Classify, storing the result in a new variable.\n",
    "y_pred = bnb.predict(data)\n",
    "\n",
    "# Display our results.\n",
    "print(\"Number of mislabeled points out of a total {} points : {}\".format(\n",
    "    data.shape[0],\n",
    "    (target != y_pred).sum()\n",
    "))"
   ]
  },
  {
   "cell_type": "code",
   "execution_count": 13,
   "metadata": {},
   "outputs": [
    {
     "data": {
      "text/plain": [
       "61.299999999999997"
      ]
     },
     "execution_count": 13,
     "metadata": {},
     "output_type": "execute_result"
    }
   ],
   "source": [
    "\n",
    "# Calculating accuracy\n",
    "(target == y_pred).sum() / data.shape[0] * 100"
   ]
  },
  {
   "cell_type": "markdown",
   "metadata": {},
   "source": [
    "61.29% off of 613 correctly classified messages and 387 incorrectly classified."
   ]
  },
  {
   "cell_type": "code",
   "execution_count": 14,
   "metadata": {},
   "outputs": [
    {
     "data": {
      "text/plain": [
       "array([[474,  26],\n",
       "       [361, 139]])"
      ]
     },
     "metadata": {},
     "output_type": "display_data"
    },
    {
     "name": "stdout",
     "output_type": "stream",
     "text": [
      "474 is the True Negative\n",
      "139 is the True Positive\n",
      "361 is the False Negative\n",
      "26 is the False Positive\n"
     ]
    }
   ],
   "source": [
    "\n",
    "# importing confusion matrix to see where we were right and where we were wrong\n",
    "from sklearn.metrics import confusion_matrix\n",
    "C = confusion_matrix(target, y_pred)\n",
    "display(C)\n",
    "\n",
    "\n",
    "print('{} is the True Negative'.format(C[0,0]))\n",
    "print('{} is the True Positive'.format(C[1,1]))\n",
    "print('{} is the False Negative'.format(C[1,0]))\n",
    "print('{} is the False Positive'.format(C[0,1]))"
   ]
  },
  {
   "cell_type": "code",
   "execution_count": 15,
   "metadata": {},
   "outputs": [
    {
     "name": "stdout",
     "output_type": "stream",
     "text": [
      "             precision    recall  f1-score   support\n",
      "\n",
      "      False       0.57      0.95      0.71       500\n",
      "       True       0.84      0.28      0.42       500\n",
      "\n",
      "avg / total       0.71      0.61      0.56      1000\n",
      "\n"
     ]
    }
   ],
   "source": [
    "from sklearn.metrics import classification_report\n",
    "print(classification_report(target, y_pred))"
   ]
  },
  {
   "cell_type": "markdown",
   "metadata": {},
   "source": [
    "For our model:\n",
    "\n",
    "__Sensitivity__ is the percentage of positives correctly identified, in our case 139/500 or 28%.    \n",
    "Our model is not as good as we would like it to be to identified good reviews.   \n",
    "\n",
    "__Specificity__ is just the opposite, the percentage of negatives correctly identified, 474/500 or 95%.   \n",
    "Our model is very good at identified the bad reviews.   "
   ]
  },
  {
   "cell_type": "markdown",
   "metadata": {},
   "source": [
    "## Iteration 0\n",
    " __keywords_a__ = ['great', 'good', 'excellent', 'awesome', 'recommend', 'fast', 'love', 'nice','well','ideal',\n",
    "                    'highly','must have','love','beautiful','super' ]       \n",
    "               \n",
    "                   \n",
    "__Confusion matrix__   \n",
    "\n",
    "474 is the True Negative    \n",
    "139 is the True Positive    \n",
    "361 is the False Negative    \n",
    "26 is the False Positive     \n",
    "\n",
    "\n",
    "For our model:\n",
    "\n",
    "__Sensitivity__ is the percentage of positives correctly identified, in our case 139/500 or 28%.    \n",
    "Our model is not as good as we would like it to be to identified good reviews.   \n",
    "\n",
    "__Specificity__ is just the opposite, the percentage of negatives correctly identified, 474/500 or 95%.   \n",
    "Our model is very good at identified the bad reviews.   \n",
    "\n",
    "\n",
    "## Iteration 1 \n",
    "\n",
    "__keywords_a__  = ['great', 'good', 'excellent', 'awesome', 'recommend', 'fast', 'love', 'nice','well','ideal', \n",
    "                     'must have','love','beautiful', 'best', 'better', 'easy' ]   \n",
    "                     \n",
    "__Confusion matrix__                          \n",
    "                   \n",
    "470 is the True Negative     \n",
    "160 is the True Positive     \n",
    "340 is the False Negative     \n",
    "30 is the False Positive \n",
    "\n",
    "For our model:\n",
    "\n",
    "__Sensitivity__ is the percentage of positives correctly identified, in our case 160/500 or 32%.    \n",
    "Our model is not as good as we would like it to be to identified good reviews.   \n",
    "\n",
    "__Specificity__ is just the opposite, the percentage of negatives correctly identified, 470/500 or 94%.   \n",
    "Our model is very good at identified the bad reviews.  \n",
    "\n",
    "\n",
    "## Iteration 2    \n",
    "\n",
    "__keywords_a__ = ['great', 'good', 'excellent', 'awesome', 'fast', 'love', 'nice','must have','loved', 'best' ]   \n",
    "\n",
    "\n",
    "__Confusion matrix__    \n",
    "\n",
    "\n",
    "483 is the True Negative     \n",
    "123 is the True Positive     \n",
    "377 is the False Negative      \n",
    "17 is the False Positive     \n",
    "\n",
    "\n",
    "\n",
    "## Iteration 3   \n",
    "\n",
    "__keywords_a__ = ['great', 'good', 'excellent', 'awesome', 'fast', 'love', 'highly recommend', 'must have']    \n",
    "\n",
    "\n",
    "__Confusion matrix__    \n",
    "\n",
    "485 is the True Negative      \n",
    "109 is the True Positive      \n",
    "391 is the False Negative     \n",
    "15 is the False Positive     \n",
    "\n",
    "\n",
    "For our model:\n",
    "\n",
    "__Sensitivity__ is the percentage of positives correctly identified, in our case 109/500 or 22%.    \n",
    "Our model is not as good as we would like it to be to identified good reviews.   \n",
    "\n",
    "__Specificity__ is just the opposite, the percentage of negatives correctly identified, 485/500 or 97%.   \n",
    "Our model is very good at identified the bad reviews.     \n",
    "\n",
    "## Iteration 4    \n",
    "\n",
    "__keywords_a__ = ['great','good', 'fast' , 'awesome', 'highly recommend', 'must have','very', 'perfectly',                                  'easy','happy','like', 'clear','comfortable', 'pleased']       \n",
    "\n",
    "\n",
    "__Confusion matrix__     \n",
    "\n",
    "448 is the True Negative     \n",
    "174 is the True Positive     \n",
    "326 is the False Negative      \n",
    "52 is the False Positive    \n",
    "\n",
    "\n",
    "For our model:\n",
    "\n",
    "__Sensitivity__ is the percentage of positives correctly identified, in our case 174/500 or 35%.    \n",
    "Our model is not as good as we would like it to be to identified good reviews.   \n",
    "\n",
    "__Specificity__ is just the opposite, the percentage of negatives correctly identified, 448/500 or 90%.   \n",
    "Our model is very good at identified the bad reviews.   \n",
    "\n",
    "                 "
   ]
  },
  {
   "cell_type": "markdown",
   "metadata": {},
   "source": [
    "### Do any of your classifiers seem to overfit?    \n",
    "\n",
    "None seem to overfit \n",
    "\n",
    "\n",
    "### Which seem to perform the best? Why?     \n",
    "\n",
    "In order to figure out which works the best, in this particular problem we will consider the iteration that has the greatest amount of __True Positive__ and reduce the most __False Negative__.   \n",
    "\n",
    "This is why I believe __Iteration 4__ is the best because it is the one that has more True Positive (174) and less False Negative (326). \n",
    "\n",
    "\n",
    "\n",
    "### Which features seemed to be most impactful to performance?      \n",
    "\n",
    "The features: \"great\", \"good\", \"very\""
   ]
  },
  {
   "cell_type": "code",
   "execution_count": null,
   "metadata": {
    "collapsed": true
   },
   "outputs": [],
   "source": []
  }
 ],
 "metadata": {
  "kernelspec": {
   "display_name": "Python 3",
   "language": "python",
   "name": "python3"
  },
  "language_info": {
   "codemirror_mode": {
    "name": "ipython",
    "version": 3
   },
   "file_extension": ".py",
   "mimetype": "text/x-python",
   "name": "python",
   "nbconvert_exporter": "python",
   "pygments_lexer": "ipython3",
   "version": "3.6.1"
  }
 },
 "nbformat": 4,
 "nbformat_minor": 2
}
